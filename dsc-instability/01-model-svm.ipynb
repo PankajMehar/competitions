{
 "cells": [
  {
   "cell_type": "code",
   "execution_count": 1,
   "metadata": {
    "collapsed": false
   },
   "outputs": [],
   "source": [
    "import pandas as pd\n",
    "import numpy as np\n",
    "from tqdm import tqdm\n",
    "import feather\n",
    "import pickle"
   ]
  },
  {
   "cell_type": "code",
   "execution_count": 2,
   "metadata": {
    "collapsed": false
   },
   "outputs": [],
   "source": [
    "with open('topics.bin', 'rb') as f:\n",
    "    all_topics, selected_topics = pickle.load(f)"
   ]
  },
  {
   "cell_type": "code",
   "execution_count": 3,
   "metadata": {
    "collapsed": false
   },
   "outputs": [],
   "source": [
    "df_train = feather.read_dataframe('df_train.feather')\n",
    "df_val = feather.read_dataframe('df_val.feather')\n",
    "df_test = feather.read_dataframe('df_test.feather')"
   ]
  },
  {
   "cell_type": "code",
   "execution_count": 4,
   "metadata": {
    "collapsed": true
   },
   "outputs": [],
   "source": [
    "def get_y(df, topics):\n",
    "    topic_idx = {t: i for (i, t) in enumerate(topics)}\n",
    "    y = np.zeros((len(df), len(topics)), dtype='uint8')\n",
    "\n",
    "    for idx, topics in enumerate(df.topics):\n",
    "        for t in topics.split(','):\n",
    "            if t in topic_idx:\n",
    "                y[idx, topic_idx[t]] = 1\n",
    "    return y"
   ]
  },
  {
   "cell_type": "code",
   "execution_count": 6,
   "metadata": {
    "collapsed": false
   },
   "outputs": [],
   "source": [
    "from sklearn.feature_extraction.text import TfidfVectorizer\n",
    "from sklearn.svm import LinearSVC\n",
    "from sklearn.metrics import log_loss, f1_score"
   ]
  },
  {
   "cell_type": "code",
   "execution_count": 7,
   "metadata": {
    "collapsed": true
   },
   "outputs": [],
   "source": [
    "with open('models/tfidf_vec.bin', 'rb') as f:\n",
    "    vec = pickle.load(f)"
   ]
  },
  {
   "cell_type": "code",
   "execution_count": 87,
   "metadata": {
    "collapsed": true
   },
   "outputs": [],
   "source": [
    "df_all = pd.concat([df_train, df_val]).reset_index(drop=1)"
   ]
  },
  {
   "cell_type": "code",
   "execution_count": 88,
   "metadata": {
    "collapsed": true
   },
   "outputs": [],
   "source": [
    "vec = TfidfVectorizer(stop_words='english', ngram_range=(1, 3), min_df=10)"
   ]
  },
  {
   "cell_type": "code",
   "execution_count": 89,
   "metadata": {
    "collapsed": true
   },
   "outputs": [],
   "source": [
    "X_train = vec.fit_transform(df_all.body)\n",
    "X_test = vec.transform(df_test.body)"
   ]
  },
  {
   "cell_type": "code",
   "execution_count": 90,
   "metadata": {
    "collapsed": false
   },
   "outputs": [],
   "source": [
    "y_train = get_y(df_all, selected_topics)"
   ]
  },
  {
   "cell_type": "code",
   "execution_count": 106,
   "metadata": {
    "collapsed": false
   },
   "outputs": [],
   "source": [
    "from sklearn.cross_validation import KFold\n",
    "cv = KFold(n=len(df_all), n_folds=3, shuffle=True, random_state=1)"
   ]
  },
  {
   "cell_type": "code",
   "execution_count": 107,
   "metadata": {
    "collapsed": true
   },
   "outputs": [],
   "source": [
    "from time import time"
   ]
  },
  {
   "cell_type": "code",
   "execution_count": 108,
   "metadata": {
    "collapsed": false,
    "scrolled": true
   },
   "outputs": [
    {
     "name": "stdout",
     "output_type": "stream",
     "text": [
      "afghanistan, took 80.721s\n",
      "aid, took 101.524s\n",
      "algerianhostagecrisis, took 25.385s\n",
      "alqaida, took 98.818s\n",
      "alshabaab, took 31.521s\n",
      "antiwar, took 32.056s\n",
      "arabandmiddleeastprotests, took 130.147s\n",
      "armstrade, took 41.443s\n",
      "australiansecurityandcounterterrorism, took 27.061s\n",
      "belgium, took 28.165s\n",
      "bigdata, took 26.812s\n",
      "biometrics, took 27.567s\n",
      "bokoharam, took 26.584s\n",
      "bostonmarathonbombing, took 25.204s\n",
      "britisharmy, took 41.036s\n",
      "cameroon, took 24.286s\n",
      "carers, took 26.461s\n",
      "chemicalweapons, took 25.766s\n",
      "clusterbombs, took 23.546s\n",
      "cobra, took 24.212s\n",
      "conflictanddevelopment, took 72.526s\n",
      "controversy, took 27.393s\n",
      "criminaljustice, took 163.303s\n",
      "cybercrime, took 34.035s\n",
      "cyberwar, took 29.692s\n",
      "dataprotection, took 67.941s\n",
      "defence, took 144.224s\n",
      "deflation, took 24.497s\n",
      "drones, took 32.665s\n",
      "drugs, took 41.922s\n",
      "drugspolicy, took 40.150s\n",
      "drugstrade, took 50.151s\n",
      "earthquakes, took 29.450s\n",
      "ebola, took 27.104s\n",
      "economy, took 162.188s\n",
      "egypt, took 49.075s\n",
      "encryption, took 25.852s\n",
      "energy, took 47.797s\n",
      "espionage, took 52.354s\n",
      "ethics, took 56.885s\n",
      "europeanarrestwarrant, took 31.845s\n",
      "europeancourtofhumanrights, took 46.237s\n",
      "events, took 29.922s\n",
      "extradition, took 33.692s\n",
      "famine, took 26.865s\n",
      "farright, took 43.759s\n",
      "firefighters, took 25.649s\n",
      "forensicscience, took 25.446s\n",
      "france, took 98.441s\n",
      "freedomofspeech, took 87.889s\n",
      "genevaconventions, took 24.987s\n",
      "germany, took 86.538s\n",
      "guncrime, took 65.706s\n",
      "hacking, took 55.720s\n",
      "helicoptercrashes, took 21.762s\n",
      "humanitarianresponse, took 40.055s\n",
      "humanrights, took 298.888s\n",
      "humanrightsact, took 48.450s\n",
      "humantrafficking, took 30.387s\n",
      "immigration, took 275.663s\n",
      "india, took 55.960s\n",
      "indonesia, took 38.783s\n",
      "internallydisplacedpeople, took 25.031s\n",
      "internationalcourtofjustice, took 25.571s\n",
      "internationalcriminaljustice, took 39.213s\n",
      "internetsafety, took 26.984s\n",
      "iraq, took 160.836s\n",
      "isis, took 35.402s\n",
      "israel, took 84.623s\n",
      "jordan, took 51.279s\n",
      "judiciary, took 33.348s\n",
      "july7, took 66.186s\n",
      "justiceandsecurity, took 26.797s\n",
      "kenya, took 32.157s\n",
      "knifecrime, took 46.265s\n",
      "lebanon, took 46.179s\n",
      "libya, took 38.193s\n",
      "localgovernment, took 92.126s\n",
      "logistics, took 27.084s\n",
      "london, took 255.304s\n",
      "londonriots, took 49.162s\n",
      "malaysia, took 29.872s\n",
      "mali, took 25.982s\n",
      "malware, took 24.612s\n",
      "metropolitanpolice, took 86.428s\n",
      "middleeastpeacetalks, took 43.322s\n",
      "migration, took 39.080s\n",
      "military, took 162.809s\n",
      "ministryofdefence, took 42.508s\n",
      "morocco, took 26.815s\n",
      "mrsa, took 24.715s\n",
      "mumbaiterrorattacks, took 29.973s\n",
      "naturaldisasters, took 70.532s\n",
      "nigeria, took 40.069s\n",
      "nuclearweapons, took 69.956s\n",
      "occupy, took 35.455s\n",
      "organisedcrime, took 49.762s\n",
      "osamabinladen, took 39.998s\n",
      "paris, took 32.441s\n",
      "philippines, took 30.547s\n",
      "piracy, took 33.945s\n",
      "planecrashes, took 28.200s\n",
      "police, took 168.254s\n",
      "protest, took 206.143s\n",
      "refugees, took 78.180s\n",
      "religion, took 154.017s\n",
      "retirementage, took 26.425s\n",
      "rio20earthsummit, took 22.803s\n",
      "royalairforce, took 33.567s\n",
      "royalnavy, took 27.804s\n",
      "russia, took 65.022s\n",
      "saudiarabia, took 52.485s\n",
      "september11, took 75.712s\n",
      "slavery, took 31.728s\n",
      "somalia, took 31.993s\n",
      "southafrica, took 39.473s\n",
      "stopandsearch, took 27.575s\n",
      "surveillance, took 74.072s\n",
      "sydneysiege, took 25.582s\n",
      "syria, took 79.134s\n",
      "taliban, took 65.186s\n",
      "terrorism, took 192.785s\n",
      "thailand, took 27.272s\n",
      "torture, took 66.146s\n",
      "traincrashes, took 26.997s\n",
      "transport, took 100.390s\n",
      "turkey, took 40.137s\n",
      "ukcrime, took 260.605s\n",
      "uksecurity, took 201.912s\n",
      "uksupremecourt, took 37.317s\n",
      "undercoverpoliceandpolicing, took 25.546s\n",
      "unitednations, took 244.907s\n",
      "usguncontrol, took 31.104s\n",
      "warcrimes, took 78.479s\n",
      "warreporting, took 51.604s\n",
      "weaponstechnology, took 30.905s\n",
      "womeninbusiness, took 29.900s\n",
      "woolwichattack, took 28.896s\n",
      "worldmigration, took 30.209s\n",
      "overall took 8459.202s\n"
     ]
    }
   ],
   "source": [
    "models = {}\n",
    "\n",
    "train_preds = {}\n",
    "test_preds = {}\n",
    "\n",
    "t = time()\n",
    "\n",
    "svm_params = {\n",
    "    'penalty': 'l1',\n",
    "    'dual': False,\n",
    "    'C': 1.0,\n",
    "    'random_state': 1,\n",
    "}\n",
    "\n",
    "for i in range(y_train.shape[1]):\n",
    "    t0 = time()\n",
    "    topic = selected_topics[i]\n",
    "\n",
    "    y = y_train[:, i]\n",
    "    try:\n",
    "        train_pred = np.zeros(len(y), dtype='float32')\n",
    "\n",
    "        for train_idx, val_idx in cv:\n",
    "            svm = LinearSVC(**svm_params)\n",
    "            svm.fit(X_train[train_idx], y[train_idx])\n",
    "            train_pred[val_idx] = svm.decision_function(X_train[val_idx])\n",
    "\n",
    "        train_preds[topic] = train_pred\n",
    "\n",
    "        svm = LinearSVC(**svm_params)\n",
    "        models[topic] = svm.fit(X_train, y)\n",
    "        test_preds[topic] = svm.decision_function(X_test)\n",
    "\n",
    "        print('%s, took %.3fs' % (topic, time() - t0))\n",
    "    except:\n",
    "        print('got error for %s, skipping it' % (topic))\n",
    "\n",
    "print('overall took %.3fs' % (time() - t))"
   ]
  },
  {
   "cell_type": "code",
   "execution_count": 109,
   "metadata": {
    "collapsed": true
   },
   "outputs": [],
   "source": [
    "pred_total = [train_preds[t].astype('float32') for t in selected_topics]\n",
    "pred_total = np.array(pred_total).T"
   ]
  },
  {
   "cell_type": "code",
   "execution_count": 110,
   "metadata": {
    "collapsed": false
   },
   "outputs": [
    {
     "data": {
      "text/plain": [
       "array([[-0.20290829, -1.42606413, -1.23267102, ..., -1.12577271,\n",
       "        -1.06694591, -1.08752131],\n",
       "       [ 1.15480232, -1.56295514, -1.2080282 , ..., -1.1272527 ,\n",
       "        -1.07851553, -1.07916272],\n",
       "       [-1.1033839 , -1.45609128, -1.23267102, ..., -1.13343871,\n",
       "        -1.09774947, -1.18163681],\n",
       "       ..., \n",
       "       [-1.2271198 , -1.97697723, -1.22208393, ..., -1.08837831,\n",
       "        -1.108024  , -1.09676635],\n",
       "       [-1.32761407, -1.29466021, -1.2080282 , ..., -1.15244091,\n",
       "        -1.13327777, -1.10450971],\n",
       "       [-1.21049392, -1.41006315, -1.2080282 , ..., -1.13947082,\n",
       "        -1.13505507, -1.09904253]], dtype=float32)"
      ]
     },
     "execution_count": 110,
     "metadata": {},
     "output_type": "execute_result"
    }
   ],
   "source": [
    "pred_total"
   ]
  },
  {
   "cell_type": "code",
   "execution_count": 111,
   "metadata": {
    "collapsed": false,
    "scrolled": true
   },
   "outputs": [
    {
     "data": {
      "text/plain": [
       "0.74804079680565916"
      ]
     },
     "execution_count": 111,
     "metadata": {},
     "output_type": "execute_result"
    }
   ],
   "source": [
    "f1_score(y_train, pred_total >= 0, average='micro')"
   ]
  },
  {
   "cell_type": "code",
   "execution_count": 114,
   "metadata": {
    "collapsed": false,
    "scrolled": true
   },
   "outputs": [
    {
     "name": "stdout",
     "output_type": "stream",
     "text": [
      "t=-1.00, f1=0.3743\n",
      "t=-0.90, f1=0.5336\n",
      "t=-0.80, f1=0.6322\n",
      "t=-0.70, f1=0.6960\n",
      "t=-0.60, f1=0.7361\n",
      "t=-0.50, f1=0.7593\n",
      "t=-0.40, f1=0.7717\n",
      "t=-0.30, f1=0.7752\n",
      "t=-0.20, f1=0.7713\n",
      "t=-0.10, f1=0.7621\n",
      "t=0.00, f1=0.7480\n"
     ]
    }
   ],
   "source": [
    "f1s = []\n",
    "\n",
    "for t in np.linspace(-1, 0, 11):\n",
    "    f1 = f1_score(y_train, pred_total >= t, average='micro')\n",
    "    print('t=%0.2f, f1=%.4f' % (t, f1))\n",
    "    f1s.append((f1, t))"
   ]
  },
  {
   "cell_type": "code",
   "execution_count": 115,
   "metadata": {
    "collapsed": false,
    "scrolled": true
   },
   "outputs": [
    {
     "data": {
      "text/plain": [
       "(0.77517980270698839, -0.29999999999999993)"
      ]
     },
     "execution_count": 115,
     "metadata": {},
     "output_type": "execute_result"
    }
   ],
   "source": [
    "max(f1s)"
   ]
  },
  {
   "cell_type": "code",
   "execution_count": 122,
   "metadata": {
    "collapsed": true
   },
   "outputs": [],
   "source": [
    "all_zeros = np.zeros(X_test.shape[0], dtype='uint8')\n",
    "\n",
    "df_final_pred = pd.DataFrame()\n",
    "df_final_pred['id'] = df_test['key']\n",
    "\n",
    "for t in all_topics:\n",
    "    if t in test_preds:\n",
    "        pred = test_preds[t]\n",
    "        df_final_pred[t] = (pred >= -0.3).astype('uint8')\n",
    "    else:\n",
    "        df_final_pred[t] = all_zeros"
   ]
  },
  {
   "cell_type": "code",
   "execution_count": 123,
   "metadata": {
    "collapsed": false
   },
   "outputs": [
    {
     "data": {
      "text/plain": [
       "12494"
      ]
     },
     "execution_count": 123,
     "metadata": {},
     "output_type": "execute_result"
    }
   ],
   "source": [
    "df_final_pred.drop('id', axis=1).sum().sum()"
   ]
  },
  {
   "cell_type": "code",
   "execution_count": 124,
   "metadata": {
    "collapsed": false,
    "scrolled": true
   },
   "outputs": [
    {
     "data": {
      "text/plain": [
       "activism                                    0\n",
       "afghanistan                               106\n",
       "aid                                        65\n",
       "algerianhostagecrisis                       4\n",
       "alqaida                                   110\n",
       "alshabaab                                  28\n",
       "antiwar                                     7\n",
       "arabandmiddleeastprotests                 172\n",
       "armstrade                                  80\n",
       "australianguncontrol                        0\n",
       "australiansecurityandcounterterrorism       6\n",
       "bastilledaytruckattack                      0\n",
       "belgium                                   124\n",
       "berlinchristmasmarketattack                 0\n",
       "bigdata                                     8\n",
       "biometrics                                  2\n",
       "bokoharam                                  38\n",
       "bostonmarathonbombing                      60\n",
       "britisharmy                                 2\n",
       "brusselsattacks                             0\n",
       "cameroon                                    3\n",
       "carers                                      1\n",
       "charliehebdoattack                          0\n",
       "chemicalweapons                            21\n",
       "clusterbombs                               15\n",
       "cobra                                       0\n",
       "conflictanddevelopment                     29\n",
       "controversy                                 3\n",
       "criminaljustice                            24\n",
       "cybercrime                                 48\n",
       "                                         ... \n",
       "somalia                                    44\n",
       "southafrica                                38\n",
       "southchinasea                               0\n",
       "stopandsearch                               0\n",
       "surveillance                              100\n",
       "sydneysiege                                19\n",
       "syria                                    1306\n",
       "taliban                                    44\n",
       "terrorism                                 250\n",
       "thailand                                   37\n",
       "torture                                    16\n",
       "traincrashes                                1\n",
       "transport                                 100\n",
       "tunisiaattack2015                           0\n",
       "turkey                                    299\n",
       "turkeycoupattempt                           0\n",
       "ukcrime                                   301\n",
       "uksecurity                                578\n",
       "uksupremecourt                              5\n",
       "undercoverpoliceandpolicing                 2\n",
       "unitednations                             197\n",
       "usguncontrol                              158\n",
       "values                                      0\n",
       "warcrimes                                  26\n",
       "warreporting                                5\n",
       "weaponstechnology                           4\n",
       "womeninbusiness                             0\n",
       "woolwichattack                              2\n",
       "worldmigration                              4\n",
       "zikavirus                                   0\n",
       "dtype: int64"
      ]
     },
     "execution_count": 124,
     "metadata": {},
     "output_type": "execute_result"
    }
   ],
   "source": [
    "df_final_pred.drop('id', axis=1).sum()"
   ]
  },
  {
   "cell_type": "code",
   "execution_count": 125,
   "metadata": {
    "collapsed": true
   },
   "outputs": [],
   "source": [
    "df_final_pred.to_csv('svm_sub3.csv', index=False)"
   ]
  },
  {
   "cell_type": "code",
   "execution_count": 126,
   "metadata": {
    "collapsed": true
   },
   "outputs": [],
   "source": [
    "with open('smv_models_pred.bin', 'wb') as f:\n",
    "    pickle.dump((models, train_preds, test_preds), f)"
   ]
  },
  {
   "cell_type": "markdown",
   "metadata": {},
   "source": []
  },
  {
   "cell_type": "code",
   "execution_count": null,
   "metadata": {
    "collapsed": true
   },
   "outputs": [],
   "source": []
  }
 ],
 "metadata": {
  "anaconda-cloud": {},
  "kernelspec": {
   "display_name": "Python [conda root]",
   "language": "python",
   "name": "conda-root-py"
  },
  "language_info": {
   "codemirror_mode": {
    "name": "ipython",
    "version": 3
   },
   "file_extension": ".py",
   "mimetype": "text/x-python",
   "name": "python",
   "nbconvert_exporter": "python",
   "pygments_lexer": "ipython3",
   "version": "3.5.2"
  }
 },
 "nbformat": 4,
 "nbformat_minor": 1
}
