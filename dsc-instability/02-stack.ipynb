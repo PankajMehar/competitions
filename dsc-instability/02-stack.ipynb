{
 "cells": [
  {
   "cell_type": "code",
   "execution_count": 2,
   "metadata": {
    "collapsed": false
   },
   "outputs": [
    {
     "name": "stderr",
     "output_type": "stream",
     "text": [
      "/home/agrigorev/anaconda3/lib/python3.5/site-packages/sklearn/cross_validation.py:44: DeprecationWarning: This module was deprecated in version 0.18 in favor of the model_selection module into which all the refactored classes and functions are moved. Also note that the interface of the new CV iterators are different from that of this module. This module will be removed in 0.20.\n",
      "  \"This module will be removed in 0.20.\", DeprecationWarning)\n"
     ]
    }
   ],
   "source": [
    "import gc\n",
    "\n",
    "import pandas as pd\n",
    "import numpy as np\n",
    "from tqdm import tqdm\n",
    "import feather\n",
    "import pickle\n",
    "\n",
    "from sklearn.metrics import f1_score\n",
    "\n",
    "from sklearn.cross_validation import KFold\n",
    "from sklearn.feature_extraction.text import TfidfVectorizer\n",
    "from sklearn.decomposition import TruncatedSVD"
   ]
  },
  {
   "cell_type": "code",
   "execution_count": 3,
   "metadata": {
    "collapsed": true
   },
   "outputs": [],
   "source": [
    "with open('topics.bin', 'rb') as f:\n",
    "    all_topics, selected_topics = pickle.load(f)"
   ]
  },
  {
   "cell_type": "code",
   "execution_count": 4,
   "metadata": {
    "collapsed": true
   },
   "outputs": [],
   "source": [
    "df_train = feather.read_dataframe('df_train.feather')\n",
    "df_val = feather.read_dataframe('df_val.feather')\n",
    "df_test = feather.read_dataframe('df_test.feather')"
   ]
  },
  {
   "cell_type": "code",
   "execution_count": 5,
   "metadata": {
    "collapsed": false
   },
   "outputs": [],
   "source": [
    "df_all = pd.concat([df_train, df_val]).reset_index(drop=1)\n",
    "del df_train, df_val"
   ]
  },
  {
   "cell_type": "code",
   "execution_count": 6,
   "metadata": {
    "collapsed": false
   },
   "outputs": [],
   "source": [
    "def get_y(df, topics):\n",
    "    topic_idx = {t: i for (i, t) in enumerate(topics)}\n",
    "    y = np.zeros((len(df), len(topics)), dtype='uint8')\n",
    "\n",
    "    for idx, topics in enumerate(df.topics):\n",
    "        for t in topics.split(','):\n",
    "            if t in topic_idx:\n",
    "                y[idx, topic_idx[t]] = 1\n",
    "    return y\n",
    "\n",
    "y_train = get_y(df_all, selected_topics)"
   ]
  },
  {
   "cell_type": "code",
   "execution_count": 7,
   "metadata": {
    "collapsed": false
   },
   "outputs": [],
   "source": [
    "cv = KFold(n=len(df_all), n_folds=3, shuffle=True, random_state=1)"
   ]
  },
  {
   "cell_type": "code",
   "execution_count": 8,
   "metadata": {
    "collapsed": false
   },
   "outputs": [],
   "source": [
    "fold = np.zeros(len(df_all), dtype='uint8')\n",
    "\n",
    "for i, (_, val_idx) in enumerate(cv):\n",
    "    fold[val_idx] = i"
   ]
  },
  {
   "cell_type": "code",
   "execution_count": 19,
   "metadata": {
    "collapsed": false
   },
   "outputs": [],
   "source": [
    "vec = TfidfVectorizer(stop_words='english', ngram_range=(1, 3), min_df=10)\n",
    "\n",
    "X_train = vec.fit_transform(df_all.body)\n",
    "X_test = vec.transform(df_test.body)"
   ]
  },
  {
   "cell_type": "code",
   "execution_count": 20,
   "metadata": {
    "collapsed": true
   },
   "outputs": [],
   "source": [
    "svd = TruncatedSVD(n_components=10, random_state=1)\n",
    "\n",
    "X_train = svd.fit_transform(X_train).astype('float32')\n",
    "X_test = svd.transform(X_test).astype('float32')"
   ]
  },
  {
   "cell_type": "markdown",
   "metadata": {},
   "source": [
    "with open('svd_train_test_10.bin', 'wb') as f:\n",
    "    pickle.dump((X_train, X_test), f)"
   ]
  },
  {
   "cell_type": "markdown",
   "metadata": {},
   "source": [
    "with open('svd_train_test_10.bin', 'rb') as f:\n",
    "    X_train, X_test = pickle.load(f)"
   ]
  },
  {
   "cell_type": "code",
   "execution_count": 12,
   "metadata": {
    "collapsed": false
   },
   "outputs": [
    {
     "data": {
      "text/plain": [
       "74"
      ]
     },
     "execution_count": 12,
     "metadata": {},
     "output_type": "execute_result"
    }
   ],
   "source": [
    "del df_all\n",
    "del vec, svd\n",
    "gc.collect()"
   ]
  },
  {
   "cell_type": "code",
   "execution_count": 13,
   "metadata": {
    "collapsed": true
   },
   "outputs": [],
   "source": [
    "with open('knn3_preds_all.bin', 'rb') as f:\n",
    "    knn_train, knn_test = pickle.load(f)"
   ]
  },
  {
   "cell_type": "code",
   "execution_count": 14,
   "metadata": {
    "collapsed": true
   },
   "outputs": [],
   "source": [
    "with open('nn_preds_all.bin', 'rb') as f:\n",
    "    nn_train, nn_test = pickle.load(f)"
   ]
  },
  {
   "cell_type": "code",
   "execution_count": 15,
   "metadata": {
    "collapsed": true
   },
   "outputs": [],
   "source": [
    "with open('smv_models_pred.bin', 'rb') as f:\n",
    "    _, svm_train_dict, svm_test_dict = pickle.load(f)\n",
    "    del _"
   ]
  },
  {
   "cell_type": "code",
   "execution_count": 16,
   "metadata": {
    "collapsed": false
   },
   "outputs": [],
   "source": [
    "svm_train = np.zeros_like(knn_train)\n",
    "svm_test = np.zeros_like(knn_test)\n",
    "\n",
    "for i, c in enumerate(selected_topics):\n",
    "    svm_train[:, i] = svm_train_dict[c]\n",
    "    svm_test[:, i] = svm_test_dict[c]"
   ]
  },
  {
   "cell_type": "code",
   "execution_count": 17,
   "metadata": {
    "collapsed": false
   },
   "outputs": [
    {
     "data": {
      "text/plain": [
       "158"
      ]
     },
     "execution_count": 17,
     "metadata": {},
     "output_type": "execute_result"
    }
   ],
   "source": [
    "del svm_train_dict, svm_test_dict\n",
    "gc.collect()"
   ]
  },
  {
   "cell_type": "code",
   "execution_count": 207,
   "metadata": {
    "collapsed": true
   },
   "outputs": [],
   "source": [
    "from scipy.stats import rankdata"
   ]
  },
  {
   "cell_type": "code",
   "execution_count": 18,
   "metadata": {
    "collapsed": false
   },
   "outputs": [
    {
     "data": {
      "text/plain": [
       "(177350, 139)"
      ]
     },
     "execution_count": 18,
     "metadata": {},
     "output_type": "execute_result"
    }
   ],
   "source": [
    "nn_train.shape"
   ]
  },
  {
   "cell_type": "code",
   "execution_count": 206,
   "metadata": {
    "collapsed": false
   },
   "outputs": [
    {
     "data": {
      "text/plain": [
       "(177350, 139)"
      ]
     },
     "execution_count": 206,
     "metadata": {},
     "output_type": "execute_result"
    }
   ],
   "source": [
    "nn_train.shape"
   ]
  },
  {
   "cell_type": "code",
   "execution_count": 217,
   "metadata": {
    "collapsed": false
   },
   "outputs": [
    {
     "name": "stderr",
     "output_type": "stream",
     "text": [
      "100%|██████████| 177350/177350 [00:46<00:00, 3797.63it/s]\n"
     ]
    }
   ],
   "source": [
    "nn_ranks = []\n",
    "knn_ranks = []\n",
    "svm_ranks =[]\n",
    "\n",
    "for i in tqdm(range(nn_train.shape[0])):\n",
    "    nn = rankdata(nn_train[i])\n",
    "    nn_ranks.append(nn.astype('uint8'))\n",
    "\n",
    "    knn = rankdata(knn_train[i])\n",
    "    knn_ranks.append(knn.astype('uint8'))\n",
    "\n",
    "    svm = rankdata(svm_train[i])\n",
    "    svm_ranks.append(svm.astype('uint8'))"
   ]
  },
  {
   "cell_type": "code",
   "execution_count": 221,
   "metadata": {
    "collapsed": false
   },
   "outputs": [],
   "source": [
    "nn_ranks = np.array(nn_ranks)\n",
    "knn_ranks = np.array(knn_ranks)\n",
    "svm_ranks = np.array(knn_ranks)"
   ]
  },
  {
   "cell_type": "code",
   "execution_count": 218,
   "metadata": {
    "collapsed": false,
    "scrolled": true
   },
   "outputs": [
    {
     "name": "stderr",
     "output_type": "stream",
     "text": [
      "100%|██████████| 7581/7581 [00:02<00:00, 3702.11it/s]\n"
     ]
    }
   ],
   "source": [
    "nn_ranks_test = []\n",
    "knn_ranks_test = []\n",
    "svm_ranks_test =[]\n",
    "\n",
    "for i in tqdm(range(nn_test.shape[0])):\n",
    "    nn = rankdata(nn_test[i])\n",
    "    nn_ranks_test.append(nn.astype('uint8'))\n",
    "\n",
    "    knn = rankdata(knn_test[i])\n",
    "    knn_ranks_test.append(knn.astype('uint8'))\n",
    "\n",
    "    svm = rankdata(svm_test[i])\n",
    "    svm_ranks_test.append(svm.astype('uint8'))"
   ]
  },
  {
   "cell_type": "code",
   "execution_count": 222,
   "metadata": {
    "collapsed": false
   },
   "outputs": [],
   "source": [
    "nn_ranks_test = np.array(nn_ranks_test)\n",
    "knn_ranks_test = np.array(knn_ranks_test)\n",
    "svm_ranks_test = np.array(knn_ranks_test)"
   ]
  },
  {
   "cell_type": "code",
   "execution_count": 19,
   "metadata": {
    "collapsed": false
   },
   "outputs": [],
   "source": [
    "nn_train_flat = nn_train.flatten(order='C')\n",
    "nn_test_flat = nn_test.flatten(order='C')\n",
    "knn_train_flat = knn_train.flatten(order='C')\n",
    "knn_test_flat = knn_test.flatten(order='C')\n",
    "svm_train_flat = svm_train.flatten(order='C')\n",
    "svm_test_flat = svm_test.flatten(order='C')\n",
    "\n",
    "y = y_train.flatten(order='C')"
   ]
  },
  {
   "cell_type": "code",
   "execution_count": 223,
   "metadata": {
    "collapsed": true
   },
   "outputs": [],
   "source": [
    "nn_train_rank_flat = nn_ranks.flatten(order='C')\n",
    "nn_test_rank_flat = nn_ranks_test.flatten(order='C')\n",
    "knn_train_rank_flat = knn_ranks.flatten(order='C')\n",
    "knn_test_rank_flat = knn_ranks_test.flatten(order='C')\n",
    "svm_train_rank_flat = svm_ranks.flatten(order='C')\n",
    "svm_test_rank_flat = svm_ranks_test.flatten(order='C')"
   ]
  },
  {
   "cell_type": "code",
   "execution_count": 114,
   "metadata": {
    "collapsed": true
   },
   "outputs": [],
   "source": [
    "num_classes = 139"
   ]
  },
  {
   "cell_type": "code",
   "execution_count": 20,
   "metadata": {
    "collapsed": false
   },
   "outputs": [],
   "source": [
    "idx = np.arange(0, num_classes, dtype='float32')\n",
    "idx_train = np.repeat(idx, nn_train.shape[0])\n",
    "idx_test = np.repeat(idx, nn_test.shape[0])"
   ]
  },
  {
   "cell_type": "code",
   "execution_count": 224,
   "metadata": {
    "collapsed": true
   },
   "outputs": [],
   "source": [
    "meta_train = np.array([nn_train_flat, knn_train_flat, svm_train_flat, \n",
    "                       nn_train_rank_flat, knn_train_rank_flat, svm_train_rank_flat,\n",
    "                       idx_train]).T\n",
    "meta_test = np.array([nn_test_flat, knn_test_flat, svm_test_flat,\n",
    "                      nn_test_rank_flat, knn_test_rank_flat, svm_test_rank_flat,\n",
    "                      idx_test]).T"
   ]
  },
  {
   "cell_type": "code",
   "execution_count": 22,
   "metadata": {
    "collapsed": false
   },
   "outputs": [],
   "source": [
    "X_train_rep = np.repeat(X_train, num_classes, axis=0)\n",
    "X_test_rep = np.repeat(X_test, num_classes, axis=0)"
   ]
  },
  {
   "cell_type": "code",
   "execution_count": 225,
   "metadata": {
    "collapsed": true
   },
   "outputs": [],
   "source": [
    "X_train = np.hstack([X_train_rep, meta_train])\n",
    "X_test = np.hstack([X_test_rep, meta_test])"
   ]
  },
  {
   "cell_type": "code",
   "execution_count": 28,
   "metadata": {
    "collapsed": false
   },
   "outputs": [],
   "source": [
    "fold_rep = np.repeat(fold, num_classes)"
   ]
  },
  {
   "cell_type": "code",
   "execution_count": 226,
   "metadata": {
    "collapsed": false
   },
   "outputs": [],
   "source": [
    "X_train_part = X_train[fold_rep != 0]\n",
    "X_val = X_train[fold_rep == 0]\n",
    "\n",
    "y_train = y[fold_rep != 0]\n",
    "y_val = y[fold_rep == 0]"
   ]
  },
  {
   "cell_type": "code",
   "execution_count": 86,
   "metadata": {
    "collapsed": true
   },
   "outputs": [],
   "source": [
    "import xgboost as xgb"
   ]
  },
  {
   "cell_type": "code",
   "execution_count": 87,
   "metadata": {
    "collapsed": false
   },
   "outputs": [],
   "source": [
    "groups_train = np.repeat(num_classes, X_train_part.shape[0] // num_classes)\n",
    "groups_val = np.repeat(num_classes, X_val.shape[0] // num_classes)"
   ]
  },
  {
   "cell_type": "code",
   "execution_count": 227,
   "metadata": {
    "collapsed": true
   },
   "outputs": [],
   "source": [
    "features = ['svd_%d' % i for i in range(10)] + \\\n",
    "           ['nn', 'knn', 'svm', 'nn_rank', 'knn_rank', 'svm_rank', 'label_id']"
   ]
  },
  {
   "cell_type": "code",
   "execution_count": 229,
   "metadata": {
    "collapsed": false
   },
   "outputs": [],
   "source": [
    "dtrain = xgb.DMatrix(X_train_part, y_train, feature_names=features)\n",
    "dtrain.set_group(groups_train)"
   ]
  },
  {
   "cell_type": "code",
   "execution_count": 230,
   "metadata": {
    "collapsed": false
   },
   "outputs": [],
   "source": [
    "dval = xgb.DMatrix(X_val, y_val, feature_names=features)\n",
    "dval.set_group(groups_val)"
   ]
  },
  {
   "cell_type": "code",
   "execution_count": 249,
   "metadata": {
    "collapsed": true
   },
   "outputs": [],
   "source": [
    "def f1_eval_metric(y_pred, dmatrix):\n",
    "    y_true = dmatrix.get_label()\n",
    "    n, = y_true.shape \n",
    "\n",
    "    y_true = y_true.reshape(n // num_classes, -1)\n",
    "    y_pred = y_pred.reshape(n // num_classes, -1)\n",
    "\n",
    "    f1 = f1_score(y_true, y_pred >= 0.5, average='micro')\n",
    "    #f1 = f1_score(y_true, y_pred >= 0, average='micro')\n",
    "\n",
    "    return 'f1_micro', f1"
   ]
  },
  {
   "cell_type": "code",
   "execution_count": 253,
   "metadata": {
    "collapsed": true
   },
   "outputs": [],
   "source": [
    "xgb_pars = {\n",
    "    'eta': 0.3,\n",
    "    'gamma': 0.0,\n",
    "    'max_depth': 3,\n",
    "    'min_child_weight': 1,\n",
    "    'max_delta_step': 0,\n",
    "    'subsample': 0.7,\n",
    "    'colsample_bytree': 0.7,\n",
    "    'colsample_bylevel': 1,\n",
    "    'lambda': 1,\n",
    "    'alpha': 0,\n",
    "    'tree_method': 'approx',\n",
    "    #'objective': 'rank:pairwise',\n",
    "    'objective': 'binary:logistic',\n",
    "    #'eval_metric': 'auc',\n",
    "    'nthread': 12,\n",
    "    'seed': 42,\n",
    "    'silent': 1\n",
    "}\n",
    "n_rounds = 100"
   ]
  },
  {
   "cell_type": "code",
   "execution_count": 254,
   "metadata": {
    "collapsed": true
   },
   "outputs": [],
   "source": [
    "watchlist = [(dtrain, 'train'), (dval, 'val')]"
   ]
  },
  {
   "cell_type": "code",
   "execution_count": 255,
   "metadata": {
    "collapsed": false,
    "scrolled": true
   },
   "outputs": [
    {
     "name": "stdout",
     "output_type": "stream",
     "text": [
      "[0]\ttrain-error:0.004986\tval-error:0.005013\ttrain-f1_micro:0.758129\tval-f1_micro:0.756893\n",
      "[1]\ttrain-error:0.004847\tval-error:0.004844\ttrain-f1_micro:0.748555\tval-f1_micro:0.749102\n",
      "[2]\ttrain-error:0.004435\tval-error:0.004433\ttrain-f1_micro:0.7651\tval-f1_micro:0.765087\n",
      "[3]\ttrain-error:0.004269\tval-error:0.004274\ttrain-f1_micro:0.777693\tval-f1_micro:0.777275\n",
      "[4]\ttrain-error:0.004161\tval-error:0.004168\ttrain-f1_micro:0.784009\tval-f1_micro:0.783571\n",
      "[5]\ttrain-error:0.00406\tval-error:0.004072\ttrain-f1_micro:0.791551\tval-f1_micro:0.790935\n",
      "[6]\ttrain-error:0.004009\tval-error:0.004013\ttrain-f1_micro:0.794399\tval-f1_micro:0.794191\n",
      "[7]\ttrain-error:0.003986\tval-error:0.004\ttrain-f1_micro:0.795844\tval-f1_micro:0.79509\n",
      "[8]\ttrain-error:0.003982\tval-error:0.003999\ttrain-f1_micro:0.794043\tval-f1_micro:0.793148\n",
      "[9]\ttrain-error:0.00395\tval-error:0.003972\ttrain-f1_micro:0.796351\tval-f1_micro:0.795193\n",
      "[10]\ttrain-error:0.003952\tval-error:0.003973\ttrain-f1_micro:0.797145\tval-f1_micro:0.795996\n",
      "[11]\ttrain-error:0.003943\tval-error:0.003968\ttrain-f1_micro:0.797817\tval-f1_micro:0.796533\n",
      "[12]\ttrain-error:0.003938\tval-error:0.003963\ttrain-f1_micro:0.798331\tval-f1_micro:0.797049\n",
      "[13]\ttrain-error:0.003939\tval-error:0.003962\ttrain-f1_micro:0.798324\tval-f1_micro:0.797139\n",
      "[14]\ttrain-error:0.003937\tval-error:0.003961\ttrain-f1_micro:0.798592\tval-f1_micro:0.797403\n",
      "[15]\ttrain-error:0.003935\tval-error:0.003958\ttrain-f1_micro:0.798605\tval-f1_micro:0.797389\n",
      "[16]\ttrain-error:0.003934\tval-error:0.003958\ttrain-f1_micro:0.79865\tval-f1_micro:0.797406\n",
      "[17]\ttrain-error:0.003931\tval-error:0.003957\ttrain-f1_micro:0.798799\tval-f1_micro:0.797494\n",
      "[18]\ttrain-error:0.003933\tval-error:0.003958\ttrain-f1_micro:0.798676\tval-f1_micro:0.797391\n",
      "[19]\ttrain-error:0.003928\tval-error:0.003952\ttrain-f1_micro:0.798586\tval-f1_micro:0.797357\n",
      "[20]\ttrain-error:0.00393\tval-error:0.003954\ttrain-f1_micro:0.798662\tval-f1_micro:0.797366\n",
      "[21]\ttrain-error:0.003921\tval-error:0.003946\ttrain-f1_micro:0.798994\tval-f1_micro:0.797671\n",
      "[22]\ttrain-error:0.003923\tval-error:0.003945\ttrain-f1_micro:0.798869\tval-f1_micro:0.797706\n",
      "[23]\ttrain-error:0.003917\tval-error:0.003938\ttrain-f1_micro:0.798962\tval-f1_micro:0.797914\n",
      "[24]\ttrain-error:0.003917\tval-error:0.003937\ttrain-f1_micro:0.798883\tval-f1_micro:0.797896\n",
      "[25]\ttrain-error:0.003906\tval-error:0.003925\ttrain-f1_micro:0.799217\tval-f1_micro:0.798228\n",
      "[26]\ttrain-error:0.003904\tval-error:0.003921\ttrain-f1_micro:0.799084\tval-f1_micro:0.798244\n",
      "[27]\ttrain-error:0.003903\tval-error:0.003919\ttrain-f1_micro:0.799423\tval-f1_micro:0.798622\n",
      "[28]\ttrain-error:0.003902\tval-error:0.003917\ttrain-f1_micro:0.799342\tval-f1_micro:0.798604\n",
      "[29]\ttrain-error:0.003889\tval-error:0.003908\ttrain-f1_micro:0.799863\tval-f1_micro:0.798903\n",
      "[30]\ttrain-error:0.003886\tval-error:0.003906\ttrain-f1_micro:0.800454\tval-f1_micro:0.799448\n",
      "[31]\ttrain-error:0.003883\tval-error:0.003899\ttrain-f1_micro:0.800484\tval-f1_micro:0.799707\n",
      "[32]\ttrain-error:0.003882\tval-error:0.0039\ttrain-f1_micro:0.800698\tval-f1_micro:0.799868\n",
      "[33]\ttrain-error:0.003879\tval-error:0.003897\ttrain-f1_micro:0.800766\tval-f1_micro:0.79994\n",
      "[34]\ttrain-error:0.003878\tval-error:0.003898\ttrain-f1_micro:0.800946\tval-f1_micro:0.79999\n",
      "[35]\ttrain-error:0.003877\tval-error:0.003895\ttrain-f1_micro:0.801003\tval-f1_micro:0.800095\n",
      "[36]\ttrain-error:0.003871\tval-error:0.003891\ttrain-f1_micro:0.801327\tval-f1_micro:0.80035\n",
      "[37]\ttrain-error:0.003866\tval-error:0.003893\ttrain-f1_micro:0.801672\tval-f1_micro:0.800312\n",
      "[38]\ttrain-error:0.003867\tval-error:0.003892\ttrain-f1_micro:0.801504\tval-f1_micro:0.800267\n",
      "[39]\ttrain-error:0.003866\tval-error:0.00389\ttrain-f1_micro:0.801744\tval-f1_micro:0.800552\n",
      "[40]\ttrain-error:0.003864\tval-error:0.003887\ttrain-f1_micro:0.801866\tval-f1_micro:0.800749\n",
      "[41]\ttrain-error:0.003861\tval-error:0.003879\ttrain-f1_micro:0.802005\tval-f1_micro:0.801101\n",
      "[42]\ttrain-error:0.003858\tval-error:0.00388\ttrain-f1_micro:0.802252\tval-f1_micro:0.80117\n",
      "[43]\ttrain-error:0.003857\tval-error:0.003878\ttrain-f1_micro:0.802371\tval-f1_micro:0.801327\n",
      "[44]\ttrain-error:0.003854\tval-error:0.003875\ttrain-f1_micro:0.802656\tval-f1_micro:0.801607\n",
      "[45]\ttrain-error:0.003852\tval-error:0.003874\ttrain-f1_micro:0.802709\tval-f1_micro:0.801667\n",
      "[46]\ttrain-error:0.003851\tval-error:0.003873\ttrain-f1_micro:0.80266\tval-f1_micro:0.801589\n",
      "[47]\ttrain-error:0.00385\tval-error:0.003867\ttrain-f1_micro:0.802734\tval-f1_micro:0.801917\n",
      "[48]\ttrain-error:0.003845\tval-error:0.003864\ttrain-f1_micro:0.803307\tval-f1_micro:0.8024\n",
      "[49]\ttrain-error:0.003842\tval-error:0.003859\ttrain-f1_micro:0.803388\tval-f1_micro:0.802614\n",
      "[50]\ttrain-error:0.00384\tval-error:0.00386\ttrain-f1_micro:0.803623\tval-f1_micro:0.802707\n",
      "[51]\ttrain-error:0.003836\tval-error:0.003851\ttrain-f1_micro:0.803909\tval-f1_micro:0.803231\n",
      "[52]\ttrain-error:0.003835\tval-error:0.00385\ttrain-f1_micro:0.803878\tval-f1_micro:0.803227\n",
      "[53]\ttrain-error:0.003833\tval-error:0.003849\ttrain-f1_micro:0.803848\tval-f1_micro:0.803169\n",
      "[54]\ttrain-error:0.003832\tval-error:0.00385\ttrain-f1_micro:0.803869\tval-f1_micro:0.803041\n",
      "[55]\ttrain-error:0.00383\tval-error:0.003846\ttrain-f1_micro:0.803968\tval-f1_micro:0.803218\n",
      "[56]\ttrain-error:0.003831\tval-error:0.003844\ttrain-f1_micro:0.803933\tval-f1_micro:0.803276\n",
      "[57]\ttrain-error:0.00383\tval-error:0.003846\ttrain-f1_micro:0.80398\tval-f1_micro:0.803238\n",
      "[58]\ttrain-error:0.00383\tval-error:0.003846\ttrain-f1_micro:0.803992\tval-f1_micro:0.803223\n",
      "[59]\ttrain-error:0.003828\tval-error:0.003845\ttrain-f1_micro:0.804008\tval-f1_micro:0.803182\n",
      "[60]\ttrain-error:0.003826\tval-error:0.003845\ttrain-f1_micro:0.804156\tval-f1_micro:0.803251\n",
      "[61]\ttrain-error:0.003826\tval-error:0.003842\ttrain-f1_micro:0.804164\tval-f1_micro:0.803346\n",
      "[62]\ttrain-error:0.003827\tval-error:0.003843\ttrain-f1_micro:0.803983\tval-f1_micro:0.803176\n",
      "[63]\ttrain-error:0.003826\tval-error:0.003843\ttrain-f1_micro:0.804035\tval-f1_micro:0.803206\n",
      "[64]\ttrain-error:0.003825\tval-error:0.003845\ttrain-f1_micro:0.804163\tval-f1_micro:0.80316\n",
      "[65]\ttrain-error:0.003822\tval-error:0.003845\ttrain-f1_micro:0.804273\tval-f1_micro:0.803113\n",
      "[66]\ttrain-error:0.003824\tval-error:0.003842\ttrain-f1_micro:0.804117\tval-f1_micro:0.803196\n",
      "[67]\ttrain-error:0.003818\tval-error:0.003839\ttrain-f1_micro:0.804758\tval-f1_micro:0.803709\n",
      "[68]\ttrain-error:0.003817\tval-error:0.003837\ttrain-f1_micro:0.804862\tval-f1_micro:0.803887\n",
      "[69]\ttrain-error:0.003817\tval-error:0.003834\ttrain-f1_micro:0.804861\tval-f1_micro:0.804026\n",
      "[70]\ttrain-error:0.003817\tval-error:0.003835\ttrain-f1_micro:0.804855\tval-f1_micro:0.803954\n",
      "[71]\ttrain-error:0.003816\tval-error:0.003836\ttrain-f1_micro:0.80495\tval-f1_micro:0.803936\n",
      "[72]\ttrain-error:0.003814\tval-error:0.003835\ttrain-f1_micro:0.805058\tval-f1_micro:0.803971\n",
      "[73]\ttrain-error:0.003812\tval-error:0.003835\ttrain-f1_micro:0.805076\tval-f1_micro:0.803949\n",
      "[74]\ttrain-error:0.003813\tval-error:0.003836\ttrain-f1_micro:0.805064\tval-f1_micro:0.803934\n",
      "[75]\ttrain-error:0.003814\tval-error:0.003838\ttrain-f1_micro:0.805005\tval-f1_micro:0.803765\n",
      "[76]\ttrain-error:0.00381\tval-error:0.003838\ttrain-f1_micro:0.805273\tval-f1_micro:0.803878\n",
      "[77]\ttrain-error:0.003809\tval-error:0.003838\ttrain-f1_micro:0.805363\tval-f1_micro:0.803883\n",
      "[78]\ttrain-error:0.003808\tval-error:0.003835\ttrain-f1_micro:0.805436\tval-f1_micro:0.804079\n",
      "[79]\ttrain-error:0.003809\tval-error:0.003836\ttrain-f1_micro:0.805377\tval-f1_micro:0.803995\n",
      "[80]\ttrain-error:0.003809\tval-error:0.003834\ttrain-f1_micro:0.805284\tval-f1_micro:0.804009\n",
      "[81]\ttrain-error:0.00381\tval-error:0.003833\ttrain-f1_micro:0.805231\tval-f1_micro:0.804014\n",
      "[82]\ttrain-error:0.003808\tval-error:0.003834\ttrain-f1_micro:0.805351\tval-f1_micro:0.80396\n",
      "[83]\ttrain-error:0.003808\tval-error:0.003835\ttrain-f1_micro:0.805278\tval-f1_micro:0.803923\n",
      "[84]\ttrain-error:0.003808\tval-error:0.003836\ttrain-f1_micro:0.805233\tval-f1_micro:0.803836\n",
      "[85]\ttrain-error:0.003808\tval-error:0.003835\ttrain-f1_micro:0.805242\tval-f1_micro:0.803844\n",
      "[86]\ttrain-error:0.003806\tval-error:0.003833\ttrain-f1_micro:0.805335\tval-f1_micro:0.803932\n",
      "[87]\ttrain-error:0.003806\tval-error:0.003833\ttrain-f1_micro:0.805334\tval-f1_micro:0.803917\n",
      "[88]\ttrain-error:0.003806\tval-error:0.003836\ttrain-f1_micro:0.805344\tval-f1_micro:0.80377\n",
      "[89]\ttrain-error:0.003807\tval-error:0.003834\ttrain-f1_micro:0.805279\tval-f1_micro:0.803879\n",
      "[90]\ttrain-error:0.003807\tval-error:0.003833\ttrain-f1_micro:0.805315\tval-f1_micro:0.803996\n",
      "[91]\ttrain-error:0.003806\tval-error:0.003831\ttrain-f1_micro:0.805374\tval-f1_micro:0.804046\n",
      "[92]\ttrain-error:0.003807\tval-error:0.003829\ttrain-f1_micro:0.805375\tval-f1_micro:0.804246\n",
      "[93]\ttrain-error:0.003806\tval-error:0.003824\ttrain-f1_micro:0.805419\tval-f1_micro:0.804451\n",
      "[94]\ttrain-error:0.003806\tval-error:0.003825\ttrain-f1_micro:0.805404\tval-f1_micro:0.804376\n",
      "[95]\ttrain-error:0.003806\tval-error:0.003825\ttrain-f1_micro:0.805351\tval-f1_micro:0.804353\n",
      "[96]\ttrain-error:0.003804\tval-error:0.003825\ttrain-f1_micro:0.805519\tval-f1_micro:0.804406\n",
      "[97]\ttrain-error:0.003804\tval-error:0.003827\ttrain-f1_micro:0.805516\tval-f1_micro:0.804318\n",
      "[98]\ttrain-error:0.003803\tval-error:0.003826\ttrain-f1_micro:0.80555\tval-f1_micro:0.804327\n",
      "[99]\ttrain-error:0.003801\tval-error:0.003829\ttrain-f1_micro:0.805683\tval-f1_micro:0.804231\n",
      "[100]\ttrain-error:0.003801\tval-error:0.003828\ttrain-f1_micro:0.805715\tval-f1_micro:0.804271\n",
      "[101]\ttrain-error:0.003802\tval-error:0.003828\ttrain-f1_micro:0.805693\tval-f1_micro:0.804273\n",
      "[102]\ttrain-error:0.003802\tval-error:0.003828\ttrain-f1_micro:0.805721\tval-f1_micro:0.80433\n",
      "[103]\ttrain-error:0.003801\tval-error:0.003827\ttrain-f1_micro:0.805804\tval-f1_micro:0.804384\n",
      "[104]\ttrain-error:0.003797\tval-error:0.00383\ttrain-f1_micro:0.805935\tval-f1_micro:0.804176\n",
      "[105]\ttrain-error:0.003799\tval-error:0.003828\ttrain-f1_micro:0.805855\tval-f1_micro:0.80431\n",
      "[106]\ttrain-error:0.003799\tval-error:0.00383\ttrain-f1_micro:0.805832\tval-f1_micro:0.804172\n",
      "[107]\ttrain-error:0.003799\tval-error:0.00383\ttrain-f1_micro:0.805806\tval-f1_micro:0.804179\n",
      "[108]\ttrain-error:0.003799\tval-error:0.003828\ttrain-f1_micro:0.805832\tval-f1_micro:0.804266\n",
      "[109]\ttrain-error:0.0038\tval-error:0.003828\ttrain-f1_micro:0.805777\tval-f1_micro:0.804261\n",
      "[110]\ttrain-error:0.0038\tval-error:0.003828\ttrain-f1_micro:0.805722\tval-f1_micro:0.804244\n",
      "[111]\ttrain-error:0.003797\tval-error:0.003827\ttrain-f1_micro:0.805818\tval-f1_micro:0.804216\n",
      "[112]\ttrain-error:0.003796\tval-error:0.003824\ttrain-f1_micro:0.805855\tval-f1_micro:0.804363\n",
      "[113]\ttrain-error:0.003796\tval-error:0.003824\ttrain-f1_micro:0.805903\tval-f1_micro:0.80436\n",
      "[114]\ttrain-error:0.003792\tval-error:0.003823\ttrain-f1_micro:0.806386\tval-f1_micro:0.804738\n",
      "[115]\ttrain-error:0.003791\tval-error:0.003825\ttrain-f1_micro:0.806422\tval-f1_micro:0.804674\n",
      "[116]\ttrain-error:0.003793\tval-error:0.003824\ttrain-f1_micro:0.806326\tval-f1_micro:0.804638\n",
      "[117]\ttrain-error:0.003792\tval-error:0.003825\ttrain-f1_micro:0.806373\tval-f1_micro:0.804637\n",
      "[118]\ttrain-error:0.003792\tval-error:0.003824\ttrain-f1_micro:0.806336\tval-f1_micro:0.804626\n",
      "[119]\ttrain-error:0.003792\tval-error:0.003823\ttrain-f1_micro:0.806258\tval-f1_micro:0.804671\n",
      "[120]\ttrain-error:0.003792\tval-error:0.003823\ttrain-f1_micro:0.806212\tval-f1_micro:0.804615\n",
      "[121]\ttrain-error:0.003792\tval-error:0.003823\ttrain-f1_micro:0.806218\tval-f1_micro:0.80463\n",
      "[122]\ttrain-error:0.003791\tval-error:0.003822\ttrain-f1_micro:0.806279\tval-f1_micro:0.804679\n",
      "[123]\ttrain-error:0.003791\tval-error:0.003821\ttrain-f1_micro:0.806333\tval-f1_micro:0.804768\n",
      "[124]\ttrain-error:0.00379\tval-error:0.00382\ttrain-f1_micro:0.806436\tval-f1_micro:0.804888\n"
     ]
    }
   ],
   "source": [
    "model = xgb.train(xgb_pars, dtrain, num_boost_round=125, verbose_eval=1,\n",
    "                  evals=watchlist, feval=f1_eval_metric)"
   ]
  },
  {
   "cell_type": "code",
   "execution_count": 256,
   "metadata": {
    "collapsed": false,
    "scrolled": true
   },
   "outputs": [
    {
     "data": {
      "text/plain": [
       "[('nn_rank', 3936.461176666668),\n",
       " ('svm', 3297.40996963768),\n",
       " ('knn', 2275.5096084259258),\n",
       " ('nn', 1577.8046514388493),\n",
       " ('knn_rank', 769.506557662338),\n",
       " ('svm_rank', 140.05032555555556),\n",
       " ('svd_4', 30.836141071428578),\n",
       " ('svd_7', 22.373825312500003),\n",
       " ('svd_0', 20.932332127659574),\n",
       " ('svd_3', 14.446979285714287),\n",
       " ('svd_8', 11.907598620689654),\n",
       " ('svd_1', 11.8876937037037),\n",
       " ('svd_5', 11.863790789473688),\n",
       " ('svd_6', 11.425773809523808),\n",
       " ('svd_2', 10.448287423076923),\n",
       " ('svd_9', 9.287284583333333),\n",
       " ('label_id', 6.874789285714286)]"
      ]
     },
     "execution_count": 256,
     "metadata": {},
     "output_type": "execute_result"
    }
   ],
   "source": [
    "scores = model.get_score(importance_type='gain')\n",
    "sorted(scores.items(), key=lambda x: -x[1])"
   ]
  },
  {
   "cell_type": "code",
   "execution_count": 261,
   "metadata": {
    "collapsed": false,
    "scrolled": true
   },
   "outputs": [
    {
     "data": {
      "text/plain": [
       "[('nn', 139),\n",
       " ('svm', 138),\n",
       " ('knn', 108),\n",
       " ('nn_rank', 81),\n",
       " ('knn_rank', 77),\n",
       " ('svd_0', 47),\n",
       " ('svd_5', 38),\n",
       " ('svd_7', 32),\n",
       " ('svd_8', 29),\n",
       " ('svd_4', 28),\n",
       " ('svd_3', 28),\n",
       " ('svd_1', 27),\n",
       " ('svd_2', 26),\n",
       " ('svd_9', 24),\n",
       " ('svd_6', 21),\n",
       " ('svm_rank', 18),\n",
       " ('label_id', 14)]"
      ]
     },
     "execution_count": 261,
     "metadata": {},
     "output_type": "execute_result"
    }
   ],
   "source": [
    "scores = model.get_fscore()\n",
    "sorted(scores.items(), key=lambda x: -x[1])"
   ]
  },
  {
   "cell_type": "code",
   "execution_count": 257,
   "metadata": {
    "collapsed": false
   },
   "outputs": [],
   "source": [
    "y_pred = model.predict(dval)\n",
    "n, = y_pred.shape\n",
    "y_pred = y_pred.reshape(n // num_classes, -1)"
   ]
  },
  {
   "cell_type": "code",
   "execution_count": 258,
   "metadata": {
    "collapsed": false
   },
   "outputs": [],
   "source": [
    "y_val_reshaped = y_val.reshape(n // num_classes, -1)"
   ]
  },
  {
   "cell_type": "code",
   "execution_count": 260,
   "metadata": {
    "collapsed": false
   },
   "outputs": [
    {
     "name": "stdout",
     "output_type": "stream",
     "text": [
      "t=0.00, f1=0.0205\n",
      "t=0.05, f1=0.6414\n",
      "t=0.10, f1=0.7210\n",
      "t=0.15, f1=0.7605\n",
      "t=0.20, f1=0.7817\n",
      "t=0.25, f1=0.7947\n",
      "t=0.30, f1=0.8028\n",
      "t=0.35, f1=0.8067\n",
      "t=0.40, f1=0.8081\n",
      "t=0.45, f1=0.8081\n",
      "t=0.50, f1=0.8049\n",
      "t=0.55, f1=0.7993\n",
      "t=0.60, f1=0.7911\n",
      "t=0.65, f1=0.7806\n",
      "t=0.70, f1=0.7656\n",
      "t=0.75, f1=0.7465\n",
      "t=0.80, f1=0.7199\n",
      "t=0.85, f1=0.6839\n",
      "t=0.90, f1=0.6310\n",
      "t=0.95, f1=0.5381\n",
      "t=1.00, f1=0.0000\n"
     ]
    },
    {
     "name": "stderr",
     "output_type": "stream",
     "text": [
      "/home/agrigorev/anaconda3/lib/python3.5/site-packages/sklearn/metrics/classification.py:1113: UndefinedMetricWarning: F-score is ill-defined and being set to 0.0 due to no predicted samples.\n",
      "  'precision', 'predicted', average, warn_for)\n"
     ]
    }
   ],
   "source": [
    "for t in np.linspace(0, 1, 21):\n",
    "    f = f1_score(y_val_reshaped, y_pred >= t, average='micro')\n",
    "    print('t=%0.2f, f1=%0.4f' % (t, f))"
   ]
  },
  {
   "cell_type": "code",
   "execution_count": 245,
   "metadata": {
    "collapsed": false
   },
   "outputs": [
    {
     "name": "stdout",
     "output_type": "stream",
     "text": [
      "t=3.00, f1=0.7661\n",
      "t=3.10, f1=0.7727\n",
      "t=3.20, f1=0.7790\n",
      "t=3.30, f1=0.7850\n",
      "t=3.40, f1=0.7901\n",
      "t=3.50, f1=0.7943\n",
      "t=3.60, f1=0.7982\n",
      "t=3.70, f1=0.8016\n",
      "t=3.80, f1=0.8040\n",
      "t=3.90, f1=0.8060\n",
      "t=4.00, f1=0.8069\n",
      "t=4.10, f1=0.8069\n",
      "t=4.20, f1=0.8062\n",
      "t=4.30, f1=0.8052\n",
      "t=4.40, f1=0.8030\n",
      "t=4.50, f1=0.8005\n",
      "t=4.60, f1=0.7967\n",
      "t=4.70, f1=0.7926\n",
      "t=4.80, f1=0.7875\n",
      "t=4.90, f1=0.7817\n",
      "t=5.00, f1=0.7749\n"
     ]
    }
   ],
   "source": [
    "for t in np.linspace(3, 5, 21):\n",
    "    f = f1_score(y_val_reshaped, y_pred >= t, average='micro')\n",
    "    print('t=%0.2f, f1=%0.4f' % (t, f))"
   ]
  },
  {
   "cell_type": "code",
   "execution_count": 238,
   "metadata": {
    "collapsed": false
   },
   "outputs": [
    {
     "name": "stdout",
     "output_type": "stream",
     "text": [
      "t=2.00, f1=0.7225\n",
      "t=2.10, f1=0.7342\n",
      "t=2.20, f1=0.7455\n",
      "t=2.30, f1=0.7557\n",
      "t=2.40, f1=0.7654\n",
      "t=2.50, f1=0.7749\n",
      "t=2.60, f1=0.7830\n",
      "t=2.70, f1=0.7900\n",
      "t=2.80, f1=0.7959\n",
      "t=2.90, f1=0.8014\n",
      "t=3.00, f1=0.8049\n",
      "t=3.10, f1=0.8067\n",
      "t=3.20, f1=0.8065\n",
      "t=3.30, f1=0.8043\n",
      "t=3.40, f1=0.8009\n",
      "t=3.50, f1=0.7945\n",
      "t=3.60, f1=0.7869\n",
      "t=3.70, f1=0.7778\n",
      "t=3.80, f1=0.7660\n",
      "t=3.90, f1=0.7524\n",
      "t=4.00, f1=0.7372\n"
     ]
    }
   ],
   "source": [
    "for t in np.linspace(2, 4, 21):\n",
    "    f = f1_score(y_val_reshaped, y_pred >= t, average='micro')\n",
    "    print('t=%0.2f, f1=%0.4f' % (t, f))"
   ]
  },
  {
   "cell_type": "code",
   "execution_count": 262,
   "metadata": {
    "collapsed": false
   },
   "outputs": [],
   "source": [
    "dtest = xgb.DMatrix(X_test, feature_names=features)"
   ]
  },
  {
   "cell_type": "code",
   "execution_count": 263,
   "metadata": {
    "collapsed": true
   },
   "outputs": [],
   "source": [
    "y_pred = model.predict(dtest)\n",
    "n, = y_pred.shape\n",
    "y_pred = y_pred.reshape(n // num_classes, -1)"
   ]
  },
  {
   "cell_type": "code",
   "execution_count": 264,
   "metadata": {
    "collapsed": false
   },
   "outputs": [],
   "source": [
    "test_preds = dict(zip(selected_topics, (y_pred >= 0.4).astype('uint8').T))"
   ]
  },
  {
   "cell_type": "code",
   "execution_count": 265,
   "metadata": {
    "collapsed": false
   },
   "outputs": [],
   "source": [
    "all_zeros = np.zeros(len(df_test), dtype='uint8')\n",
    "\n",
    "df_final_pred = pd.DataFrame()\n",
    "df_final_pred['id'] = df_test['key']\n",
    "\n",
    "for t in all_topics:\n",
    "    if t in test_preds:\n",
    "        df_final_pred[t] = test_preds[t]\n",
    "    else:\n",
    "        df_final_pred[t] = all_zeros"
   ]
  },
  {
   "cell_type": "code",
   "execution_count": 266,
   "metadata": {
    "collapsed": true
   },
   "outputs": [],
   "source": [
    "df_final_pred.to_csv('xgb3.csv', index=False)"
   ]
  },
  {
   "cell_type": "code",
   "execution_count": null,
   "metadata": {
    "collapsed": true
   },
   "outputs": [],
   "source": []
  }
 ],
 "metadata": {
  "anaconda-cloud": {},
  "kernelspec": {
   "display_name": "Python [conda root]",
   "language": "python",
   "name": "conda-root-py"
  },
  "language_info": {
   "codemirror_mode": {
    "name": "ipython",
    "version": 3
   },
   "file_extension": ".py",
   "mimetype": "text/x-python",
   "name": "python",
   "nbconvert_exporter": "python",
   "pygments_lexer": "ipython3",
   "version": "3.5.2"
  }
 },
 "nbformat": 4,
 "nbformat_minor": 1
}
