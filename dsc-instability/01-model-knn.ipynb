{
 "cells": [
  {
   "cell_type": "code",
   "execution_count": 1,
   "metadata": {
    "collapsed": false
   },
   "outputs": [],
   "source": [
    "import pandas as pd\n",
    "import numpy as np\n",
    "from tqdm import tqdm\n",
    "import feather\n",
    "import pickle\n",
    "\n",
    "from sklearn.metrics import log_loss, f1_score"
   ]
  },
  {
   "cell_type": "code",
   "execution_count": 2,
   "metadata": {
    "collapsed": false
   },
   "outputs": [],
   "source": [
    "with open('topics.bin', 'rb') as f:\n",
    "    all_topics, selected_topics = pickle.load(f)"
   ]
  },
  {
   "cell_type": "code",
   "execution_count": 3,
   "metadata": {
    "collapsed": false
   },
   "outputs": [],
   "source": [
    "df_train = feather.read_dataframe('df_train.feather')\n",
    "df_val = feather.read_dataframe('df_val.feather')\n",
    "df_test = feather.read_dataframe('df_test.feather')"
   ]
  },
  {
   "cell_type": "code",
   "execution_count": 4,
   "metadata": {
    "collapsed": true
   },
   "outputs": [],
   "source": [
    "def get_y(df, topics):\n",
    "    topic_idx = {t: i for (i, t) in enumerate(topics)}\n",
    "    y = np.zeros((len(df), len(topics)), dtype='uint8')\n",
    "\n",
    "    for idx, topics in enumerate(df.topics):\n",
    "        for t in topics.split(','):\n",
    "            if t in topic_idx:\n",
    "                y[idx, topic_idx[t]] = 1\n",
    "    return y"
   ]
  },
  {
   "cell_type": "code",
   "execution_count": 5,
   "metadata": {
    "collapsed": false
   },
   "outputs": [],
   "source": [
    "from sklearn.metrics import log_loss, f1_score"
   ]
  },
  {
   "cell_type": "code",
   "execution_count": 6,
   "metadata": {
    "collapsed": true
   },
   "outputs": [],
   "source": [
    "df_all = pd.concat([df_train, df_val]).reset_index(drop=1)"
   ]
  },
  {
   "cell_type": "code",
   "execution_count": 7,
   "metadata": {
    "collapsed": false
   },
   "outputs": [],
   "source": [
    "y_train = get_y(df_all, selected_topics)"
   ]
  },
  {
   "cell_type": "code",
   "execution_count": 8,
   "metadata": {
    "collapsed": false
   },
   "outputs": [
    {
     "name": "stderr",
     "output_type": "stream",
     "text": [
      "/home/agrigorev/anaconda3/lib/python3.5/site-packages/sklearn/cross_validation.py:44: DeprecationWarning: This module was deprecated in version 0.18 in favor of the model_selection module into which all the refactored classes and functions are moved. Also note that the interface of the new CV iterators are different from that of this module. This module will be removed in 0.20.\n",
      "  \"This module will be removed in 0.20.\", DeprecationWarning)\n"
     ]
    }
   ],
   "source": [
    "from sklearn.cross_validation import KFold\n",
    "cv = KFold(n=len(df_all), n_folds=3, shuffle=True, random_state=1)"
   ]
  },
  {
   "cell_type": "code",
   "execution_count": 9,
   "metadata": {
    "collapsed": true
   },
   "outputs": [],
   "source": [
    "df_all['fold'] = 0"
   ]
  },
  {
   "cell_type": "code",
   "execution_count": 10,
   "metadata": {
    "collapsed": false
   },
   "outputs": [
    {
     "name": "stdout",
     "output_type": "stream",
     "text": [
      "0\n",
      "1\n",
      "2\n"
     ]
    }
   ],
   "source": [
    "for i, (_, val_idx) in enumerate(cv):\n",
    "    print(i)\n",
    "    df_all.loc[val_idx, 'fold'] = i"
   ]
  },
  {
   "cell_type": "code",
   "execution_count": 11,
   "metadata": {
    "collapsed": false,
    "scrolled": true
   },
   "outputs": [
    {
     "data": {
      "text/plain": [
       "1    59117\n",
       "0    59117\n",
       "2    59116\n",
       "Name: fold, dtype: int64"
      ]
     },
     "execution_count": 11,
     "metadata": {},
     "output_type": "execute_result"
    }
   ],
   "source": [
    "df_all.fold.value_counts()"
   ]
  },
  {
   "cell_type": "code",
   "execution_count": 14,
   "metadata": {
    "collapsed": false
   },
   "outputs": [],
   "source": [
    "from elasticsearch import Elasticsearch, helpers\n",
    "es_host = '172.17.0.2'\n",
    "es = Elasticsearch(host=es_host)"
   ]
  },
  {
   "cell_type": "code",
   "execution_count": 17,
   "metadata": {
    "collapsed": true
   },
   "outputs": [],
   "source": [
    "from elasticsearch_dsl.connections import connections\n",
    "from elasticsearch_dsl import Mapping, String, Nested, Integer, Boolean\n",
    "from elasticsearch_dsl import analyzer, tokenizer"
   ]
  },
  {
   "cell_type": "code",
   "execution_count": 20,
   "metadata": {
    "collapsed": false
   },
   "outputs": [],
   "source": [
    "con = connections.create_connection(host=es_host)"
   ]
  },
  {
   "cell_type": "code",
   "execution_count": 24,
   "metadata": {
    "collapsed": false
   },
   "outputs": [
    {
     "data": {
      "text/plain": [
       "Mapping('dsc_instability')"
      ]
     },
     "execution_count": 24,
     "metadata": {},
     "output_type": "execute_result"
    }
   ],
   "source": [
    "mapping = Mapping('dsc_instability')\n",
    "mapping.field('body', String(analyzer='standard'))\n",
    "mapping.field('fold', Integer(index='not_analyzed'))\n",
    "mapping.save('dsc')"
   ]
  },
  {
   "cell_type": "code",
   "execution_count": 28,
   "metadata": {
    "collapsed": true
   },
   "outputs": [],
   "source": [
    "import itertools \n",
    "\n",
    "def chunk_iterator(iterator, size):\n",
    "    while 1:\n",
    "        batch = list(itertools.islice(iterator, size))\n",
    "        if batch:\n",
    "            yield batch\n",
    "        else:\n",
    "            break"
   ]
  },
  {
   "cell_type": "code",
   "execution_count": 38,
   "metadata": {
    "collapsed": false
   },
   "outputs": [],
   "source": [
    "df_all['idx'] = np.arange(len(df_all))\n",
    "df_test['idx'] = len(df_all) + np.arange(len(df_test))"
   ]
  },
  {
   "cell_type": "code",
   "execution_count": 35,
   "metadata": {
    "collapsed": false,
    "scrolled": true
   },
   "outputs": [
    {
     "name": "stderr",
     "output_type": "stream",
     "text": [
      "1774it [07:03,  2.67it/s]\n"
     ]
    }
   ],
   "source": [
    "for chunk in tqdm(chunk_iterator(df_all.itertuples(), 100)):\n",
    "    actions = []\n",
    "\n",
    "    for t in chunk:\n",
    "        record = {'body': t.body, 'fold': int(t.fold)}\n",
    "        action = {'_id': t.idx, '_index': 'dsc', '_type': 'dsc_instability', '_source': record}\n",
    "        actions.append(action)\n",
    "\n",
    "    helpers.bulk(es, actions)"
   ]
  },
  {
   "cell_type": "code",
   "execution_count": 36,
   "metadata": {
    "collapsed": false
   },
   "outputs": [
    {
     "name": "stderr",
     "output_type": "stream",
     "text": [
      "76it [00:20,  3.66it/s]\n"
     ]
    }
   ],
   "source": [
    "for chunk in tqdm(chunk_iterator(df_test.itertuples(), 100)):\n",
    "    actions = []\n",
    "\n",
    "    for t in chunk:\n",
    "        record = {'body': t.body, 'fold': 3}\n",
    "        action = {'_id': t.idx, '_index': 'dsc', '_type': 'dsc_instability', '_source': record}\n",
    "        actions.append(action)\n",
    "\n",
    "    helpers.bulk(es, actions)"
   ]
  },
  {
   "cell_type": "code",
   "execution_count": 52,
   "metadata": {
    "collapsed": true
   },
   "outputs": [],
   "source": [
    "def find_similar(idx, folds, limit=10):\n",
    "    query = {\n",
    "        'query': {\n",
    "            'filtered': {\n",
    "                'query': {\n",
    "                    'more_like_this': {\n",
    "                        'like': {\n",
    "                            '_index': 'dsc',\n",
    "                            '_type': 'dsc_instability',\n",
    "                            '_id': int(idx),\n",
    "                        },\n",
    "                        'max_query_terms': 30,\n",
    "                        'fields': ['body'],\n",
    "                    }\n",
    "                }\n",
    "            }\n",
    "        },\n",
    "        'filter': {\n",
    "            'bool': {\n",
    "                'must': {\n",
    "                    'terms': {\n",
    "                        'fold': folds,\n",
    "                    },\n",
    "                },\n",
    "                \n",
    "            }\n",
    "        },\n",
    "        'fields': ['_id'],\n",
    "        'size': limit,\n",
    "    }\n",
    "\n",
    "    res = es.search(index='dsc', doc_type='dsc_instability', body=query)\n",
    "    hits = res['hits']['hits']\n",
    "\n",
    "    return [(int(d['_id']), d['_score']) for d in hits]"
   ]
  },
  {
   "cell_type": "code",
   "execution_count": 49,
   "metadata": {
    "collapsed": false
   },
   "outputs": [
    {
     "data": {
      "text/plain": [
       "key                                2012a_TrainingData_04253\n",
       "date                                    2012-05-21 00:00:00\n",
       "body      One month after relinquishing control of night...\n",
       "topics                                           drugstrade\n",
       "fold                                                      2\n",
       "idx                                                       0\n",
       "Name: 0, dtype: object"
      ]
     },
     "execution_count": 49,
     "metadata": {},
     "output_type": "execute_result"
    }
   ],
   "source": [
    "df_all.iloc[0]"
   ]
  },
  {
   "cell_type": "code",
   "execution_count": 55,
   "metadata": {
    "collapsed": true
   },
   "outputs": [],
   "source": [
    "folds_opp = {0: [1, 2], 1: [0, 2], 2: [0, 1]}"
   ]
  },
  {
   "cell_type": "code",
   "execution_count": 121,
   "metadata": {
    "collapsed": false
   },
   "outputs": [
    {
     "name": "stderr",
     "output_type": "stream",
     "text": [
      "177350it [2:38:19, 18.67it/s]\n"
     ]
    }
   ],
   "source": [
    "knns = []\n",
    "\n",
    "for t in tqdm(df_all.itertuples()):\n",
    "    idx = t.idx\n",
    "    folds = folds_opp[t.fold]\n",
    "    closest = find_similar(idx, folds, limit=50)\n",
    "\n",
    "    knns.append(closest)"
   ]
  },
  {
   "cell_type": "code",
   "execution_count": 122,
   "metadata": {
    "collapsed": false
   },
   "outputs": [
    {
     "name": "stderr",
     "output_type": "stream",
     "text": [
      "7581it [07:23, 17.11it/s]\n"
     ]
    }
   ],
   "source": [
    "knns_test = []\n",
    "\n",
    "for t in tqdm(df_test.itertuples()):\n",
    "    idx = t.idx\n",
    "    folds = [0, 1, 2]\n",
    "    closest = find_similar(idx, folds, limit=50)\n",
    "\n",
    "    knns_test.append(closest)"
   ]
  },
  {
   "cell_type": "code",
   "execution_count": 125,
   "metadata": {
    "collapsed": true
   },
   "outputs": [],
   "source": [
    "with open('knn_50_train_test.bin', 'wb') as f:\n",
    "    pickle.dump((knns, knns_test), f)"
   ]
  },
  {
   "cell_type": "code",
   "execution_count": 123,
   "metadata": {
    "collapsed": false,
    "scrolled": true
   },
   "outputs": [
    {
     "name": "stdout",
     "output_type": "stream",
     "text": [
      "religion\n"
     ]
    },
    {
     "data": {
      "text/html": [
       "<div>\n",
       "<table border=\"1\" class=\"dataframe\">\n",
       "  <thead>\n",
       "    <tr style=\"text-align: right;\">\n",
       "      <th></th>\n",
       "      <th>key</th>\n",
       "      <th>date</th>\n",
       "      <th>body</th>\n",
       "      <th>topics</th>\n",
       "      <th>fold</th>\n",
       "      <th>idx</th>\n",
       "    </tr>\n",
       "  </thead>\n",
       "  <tbody>\n",
       "    <tr>\n",
       "      <th>96069</th>\n",
       "      <td>2013b_TrainingData_08934</td>\n",
       "      <td>2013-09-15</td>\n",
       "      <td>As Birmingham Metropolitan College, one of Bri...</td>\n",
       "      <td>religion</td>\n",
       "      <td>0</td>\n",
       "      <td>96069</td>\n",
       "    </tr>\n",
       "    <tr>\n",
       "      <th>24573</th>\n",
       "      <td>2013b_TrainingData_23810</td>\n",
       "      <td>2013-09-16</td>\n",
       "      <td>Do you feel we simply don't&amp;nbsp;have enough d...</td>\n",
       "      <td>religion</td>\n",
       "      <td>2</td>\n",
       "      <td>24573</td>\n",
       "    </tr>\n",
       "    <tr>\n",
       "      <th>137166</th>\n",
       "      <td>2013b_TrainingData_14936</td>\n",
       "      <td>2013-09-13</td>\n",
       "      <td>A college has abandoned its ban on Muslim face...</td>\n",
       "      <td>protest,religion</td>\n",
       "      <td>0</td>\n",
       "      <td>137166</td>\n",
       "    </tr>\n",
       "    <tr>\n",
       "      <th>119936</th>\n",
       "      <td>2013b_TrainingData_40685</td>\n",
       "      <td>2013-09-17</td>\n",
       "      <td>Imagine that I am sitting outside a cafe in Pa...</td>\n",
       "      <td>humanrights,religion</td>\n",
       "      <td>2</td>\n",
       "      <td>119936</td>\n",
       "    </tr>\n",
       "    <tr>\n",
       "      <th>110168</th>\n",
       "      <td>2006b_TrainingData_07599</td>\n",
       "      <td>2006-10-16</td>\n",
       "      <td>The following correction was printed in the Gu...</td>\n",
       "      <td>immigration,religion</td>\n",
       "      <td>0</td>\n",
       "      <td>110168</td>\n",
       "    </tr>\n",
       "    <tr>\n",
       "      <th>102899</th>\n",
       "      <td>2009a_TrainingData_49322</td>\n",
       "      <td>2009-06-03</td>\n",
       "      <td>You ask me if I regret anything I've written. ...</td>\n",
       "      <td>egypt</td>\n",
       "      <td>0</td>\n",
       "      <td>102899</td>\n",
       "    </tr>\n",
       "    <tr>\n",
       "      <th>6036</th>\n",
       "      <td>2006b_TrainingData_00874</td>\n",
       "      <td>2006-05-10</td>\n",
       "      <td>Commons leader Jack Straw revealed today that ...</td>\n",
       "      <td>immigration,religion</td>\n",
       "      <td>2</td>\n",
       "      <td>6036</td>\n",
       "    </tr>\n",
       "    <tr>\n",
       "      <th>152103</th>\n",
       "      <td>2006b_TrainingData_19691</td>\n",
       "      <td>2006-08-10</td>\n",
       "      <td>Jack Straw was looking increasingly isolated y...</td>\n",
       "      <td>religion</td>\n",
       "      <td>0</td>\n",
       "      <td>152103</td>\n",
       "    </tr>\n",
       "    <tr>\n",
       "      <th>60958</th>\n",
       "      <td>2013b_TrainingData_51318</td>\n",
       "      <td>2013-07-22</td>\n",
       "      <td>When Youssra's three-and-a-half-year-old son s...</td>\n",
       "      <td>france,religion</td>\n",
       "      <td>0</td>\n",
       "      <td>60958</td>\n",
       "    </tr>\n",
       "    <tr>\n",
       "      <th>116764</th>\n",
       "      <td>2006b_TrainingData_11355</td>\n",
       "      <td>2006-10-20</td>\n",
       "      <td>The Tory leader, David Cameron, has warned pol...</td>\n",
       "      <td>immigration,religion</td>\n",
       "      <td>2</td>\n",
       "      <td>116764</td>\n",
       "    </tr>\n",
       "    <tr>\n",
       "      <th>7022</th>\n",
       "      <td>2011a_TrainingData_16666</td>\n",
       "      <td>2011-03-25</td>\n",
       "      <td>The twin stereotypes about gender in France ar...</td>\n",
       "      <td>france</td>\n",
       "      <td>2</td>\n",
       "      <td>7022</td>\n",
       "    </tr>\n",
       "    <tr>\n",
       "      <th>27068</th>\n",
       "      <td>2013b_TrainingData_23374</td>\n",
       "      <td>2013-09-21</td>\n",
       "      <td>Join me in a criminal court in suburban Paris ...</td>\n",
       "      <td>france</td>\n",
       "      <td>2</td>\n",
       "      <td>27068</td>\n",
       "    </tr>\n",
       "    <tr>\n",
       "      <th>152731</th>\n",
       "      <td>2013b_TrainingData_14942</td>\n",
       "      <td>2013-12-09</td>\n",
       "      <td>Nick Clegg has backed teachers who feel uncomf...</td>\n",
       "      <td>religion</td>\n",
       "      <td>0</td>\n",
       "      <td>152731</td>\n",
       "    </tr>\n",
       "    <tr>\n",
       "      <th>90623</th>\n",
       "      <td>2010a_TrainingData_13225</td>\n",
       "      <td>2010-04-15</td>\n",
       "      <td>'I am becoming more radical with age,\" says Na...</td>\n",
       "      <td>egypt</td>\n",
       "      <td>0</td>\n",
       "      <td>90623</td>\n",
       "    </tr>\n",
       "    <tr>\n",
       "      <th>27143</th>\n",
       "      <td>2008b_TrainingData_01081</td>\n",
       "      <td>2008-08-09</td>\n",
       "      <td>A few years ago, the Moroccan feminist writer ...</td>\n",
       "      <td>religion</td>\n",
       "      <td>2</td>\n",
       "      <td>27143</td>\n",
       "    </tr>\n",
       "    <tr>\n",
       "      <th>151129</th>\n",
       "      <td>2013b_TrainingData_02591</td>\n",
       "      <td>2013-12-22</td>\n",
       "      <td>As a person who writes about women's issues, I...</td>\n",
       "      <td>religion</td>\n",
       "      <td>0</td>\n",
       "      <td>151129</td>\n",
       "    </tr>\n",
       "    <tr>\n",
       "      <th>144660</th>\n",
       "      <td>2012a_TrainingData_48886</td>\n",
       "      <td>2012-03-14</td>\n",
       "      <td>The \"so what?\" feminism plateau is familiar to...</td>\n",
       "      <td>arabandmiddleeastprotests,freedomofspeech,huma...</td>\n",
       "      <td>0</td>\n",
       "      <td>144660</td>\n",
       "    </tr>\n",
       "    <tr>\n",
       "      <th>122249</th>\n",
       "      <td>2011b_TrainingData_27053</td>\n",
       "      <td>2011-09-19</td>\n",
       "      <td>Hind Ahmas walks into a brasserie in the north...</td>\n",
       "      <td>france,religion</td>\n",
       "      <td>2</td>\n",
       "      <td>122249</td>\n",
       "    </tr>\n",
       "    <tr>\n",
       "      <th>42246</th>\n",
       "      <td>2006b_TrainingData_19716</td>\n",
       "      <td>2006-10-14</td>\n",
       "      <td>Jack Straw refused to back down yesterday in t...</td>\n",
       "      <td>immigration,religion</td>\n",
       "      <td>2</td>\n",
       "      <td>42246</td>\n",
       "    </tr>\n",
       "    <tr>\n",
       "      <th>26349</th>\n",
       "      <td>2009a_TrainingData_34667</td>\n",
       "      <td>2009-06-26</td>\n",
       "      <td>In the northern Paris suburb of Saint-Denis, w...</td>\n",
       "      <td>france,religion</td>\n",
       "      <td>2</td>\n",
       "      <td>26349</td>\n",
       "    </tr>\n",
       "    <tr>\n",
       "      <th>52513</th>\n",
       "      <td>2009a_TrainingData_15969</td>\n",
       "      <td>2009-02-18</td>\n",
       "      <td>Buses roll by outside, the day unfolding in a ...</td>\n",
       "      <td>religion</td>\n",
       "      <td>0</td>\n",
       "      <td>52513</td>\n",
       "    </tr>\n",
       "    <tr>\n",
       "      <th>59072</th>\n",
       "      <td>2011a_TrainingData_43292</td>\n",
       "      <td>2011-09-04</td>\n",
       "      <td>There was a time when Shazia Mirza, stand-up c...</td>\n",
       "      <td>france</td>\n",
       "      <td>2</td>\n",
       "      <td>59072</td>\n",
       "    </tr>\n",
       "    <tr>\n",
       "      <th>56776</th>\n",
       "      <td>2010a_TrainingData_04432</td>\n",
       "      <td>2010-04-22</td>\n",
       "      <td>Belgium's parliament is expected to pass a law...</td>\n",
       "      <td>belgium,france,religion</td>\n",
       "      <td>2</td>\n",
       "      <td>56776</td>\n",
       "    </tr>\n",
       "    <tr>\n",
       "      <th>144354</th>\n",
       "      <td>2010a_TrainingData_37925</td>\n",
       "      <td>2010-04-23</td>\n",
       "      <td>Belgium is on the verge of becoming the first ...</td>\n",
       "      <td>belgium,religion</td>\n",
       "      <td>2</td>\n",
       "      <td>144354</td>\n",
       "    </tr>\n",
       "    <tr>\n",
       "      <th>100440</th>\n",
       "      <td>2010a_TrainingData_16185</td>\n",
       "      <td>2010-06-25</td>\n",
       "      <td>When the definitive history comes to be writte...</td>\n",
       "      <td>france</td>\n",
       "      <td>0</td>\n",
       "      <td>100440</td>\n",
       "    </tr>\n",
       "    <tr>\n",
       "      <th>73884</th>\n",
       "      <td>2006b_TrainingData_38974</td>\n",
       "      <td>2006-10-13</td>\n",
       "      <td>David Edgar (Sorry, but we can't just pick and...</td>\n",
       "      <td>religion</td>\n",
       "      <td>0</td>\n",
       "      <td>73884</td>\n",
       "    </tr>\n",
       "    <tr>\n",
       "      <th>117998</th>\n",
       "      <td>2006b_TrainingData_39112</td>\n",
       "      <td>2006-10-13</td>\n",
       "      <td>David Edgar (Sorry, but we can't just pick and...</td>\n",
       "      <td>religion</td>\n",
       "      <td>2</td>\n",
       "      <td>117998</td>\n",
       "    </tr>\n",
       "    <tr>\n",
       "      <th>101306</th>\n",
       "      <td>2006b_TrainingData_49540</td>\n",
       "      <td>2006-06-10</td>\n",
       "      <td>I began wearing the face veil when I was 20 an...</td>\n",
       "      <td>religion</td>\n",
       "      <td>2</td>\n",
       "      <td>101306</td>\n",
       "    </tr>\n",
       "    <tr>\n",
       "      <th>17831</th>\n",
       "      <td>2008b_TrainingData_04788</td>\n",
       "      <td>2008-08-19</td>\n",
       "      <td>Judging by the response to her Comment is free...</td>\n",
       "      <td>humanrights,religion</td>\n",
       "      <td>2</td>\n",
       "      <td>17831</td>\n",
       "    </tr>\n",
       "    <tr>\n",
       "      <th>155567</th>\n",
       "      <td>2006b_TrainingData_16870</td>\n",
       "      <td>2006-10-27</td>\n",
       "      <td>Britain and Australia are not the only countri...</td>\n",
       "      <td>religion</td>\n",
       "      <td>0</td>\n",
       "      <td>155567</td>\n",
       "    </tr>\n",
       "    <tr>\n",
       "      <th>39897</th>\n",
       "      <td>2006b_TrainingData_21229</td>\n",
       "      <td>2006-06-10</td>\n",
       "      <td>Jack Straw provoked anger and indignation amon...</td>\n",
       "      <td>immigration</td>\n",
       "      <td>0</td>\n",
       "      <td>39897</td>\n",
       "    </tr>\n",
       "    <tr>\n",
       "      <th>148737</th>\n",
       "      <td>2006b_TrainingData_48049</td>\n",
       "      <td>2006-10-26</td>\n",
       "      <td>Peter Lewis Jones expresses his disappointment...</td>\n",
       "      <td>religion</td>\n",
       "      <td>0</td>\n",
       "      <td>148737</td>\n",
       "    </tr>\n",
       "    <tr>\n",
       "      <th>8004</th>\n",
       "      <td>2006b_TrainingData_47230</td>\n",
       "      <td>2006-10-26</td>\n",
       "      <td>Peter Lewis Jones expresses his disappointment...</td>\n",
       "      <td>religion</td>\n",
       "      <td>0</td>\n",
       "      <td>8004</td>\n",
       "    </tr>\n",
       "    <tr>\n",
       "      <th>103455</th>\n",
       "      <td>2006b_TrainingData_21544</td>\n",
       "      <td>2006-10-18</td>\n",
       "      <td>Muslim women welcome a debate about the status...</td>\n",
       "      <td>immigration,religion</td>\n",
       "      <td>0</td>\n",
       "      <td>103455</td>\n",
       "    </tr>\n",
       "    <tr>\n",
       "      <th>4010</th>\n",
       "      <td>2006b_TrainingData_45039</td>\n",
       "      <td>2006-10-16</td>\n",
       "      <td>Not all the four British Muslims who sit as MP...</td>\n",
       "      <td>immigration,religion</td>\n",
       "      <td>2</td>\n",
       "      <td>4010</td>\n",
       "    </tr>\n",
       "    <tr>\n",
       "      <th>110744</th>\n",
       "      <td>2007a_TrainingData_10700</td>\n",
       "      <td>2007-02-20</td>\n",
       "      <td>The veil is a mark of separation and defiance ...</td>\n",
       "      <td>immigration,religion</td>\n",
       "      <td>0</td>\n",
       "      <td>110744</td>\n",
       "    </tr>\n",
       "    <tr>\n",
       "      <th>94059</th>\n",
       "      <td>2007a_TrainingData_09119</td>\n",
       "      <td>2007-03-16</td>\n",
       "      <td>Some Muslim women in the UK have been wearing ...</td>\n",
       "      <td>afghanistan,iraq</td>\n",
       "      <td>0</td>\n",
       "      <td>94059</td>\n",
       "    </tr>\n",
       "    <tr>\n",
       "      <th>65580</th>\n",
       "      <td>2010a_TrainingData_07416</td>\n",
       "      <td>2010-01-25</td>\n",
       "      <td>As a young British Muslim who wears the head c...</td>\n",
       "      <td>religion</td>\n",
       "      <td>2</td>\n",
       "      <td>65580</td>\n",
       "    </tr>\n",
       "    <tr>\n",
       "      <th>64363</th>\n",
       "      <td>2013b_TrainingData_48499</td>\n",
       "      <td>2013-05-11</td>\n",
       "      <td>It was day one. I'd recruited a small team of ...</td>\n",
       "      <td>womeninbusiness</td>\n",
       "      <td>0</td>\n",
       "      <td>64363</td>\n",
       "    </tr>\n",
       "    <tr>\n",
       "      <th>90509</th>\n",
       "      <td>2013b_TrainingData_50358</td>\n",
       "      <td>2013-05-11</td>\n",
       "      <td>It was day one. I'd recruited a small team of ...</td>\n",
       "      <td>womeninbusiness</td>\n",
       "      <td>0</td>\n",
       "      <td>90509</td>\n",
       "    </tr>\n",
       "    <tr>\n",
       "      <th>173848</th>\n",
       "      <td>2006b_TrainingData_07552</td>\n",
       "      <td>2006-07-10</td>\n",
       "      <td>British citizenship does not come with a dress...</td>\n",
       "      <td>religion</td>\n",
       "      <td>0</td>\n",
       "      <td>173848</td>\n",
       "    </tr>\n",
       "    <tr>\n",
       "      <th>74065</th>\n",
       "      <td>2006b_TrainingData_38665</td>\n",
       "      <td>2006-10-17</td>\n",
       "      <td>It was refreshing to read the article by Marti...</td>\n",
       "      <td>religion</td>\n",
       "      <td>2</td>\n",
       "      <td>74065</td>\n",
       "    </tr>\n",
       "    <tr>\n",
       "      <th>65892</th>\n",
       "      <td>2010a_TrainingData_37614</td>\n",
       "      <td>2010-04-22</td>\n",
       "      <td>The collapse of the Belgian government has thr...</td>\n",
       "      <td>belgium,humanrights,religion</td>\n",
       "      <td>2</td>\n",
       "      <td>65892</td>\n",
       "    </tr>\n",
       "    <tr>\n",
       "      <th>17919</th>\n",
       "      <td>2009a_TrainingData_63556</td>\n",
       "      <td>2009-06-22</td>\n",
       "      <td>Nicolas Sarkozy today took a hard line in Fran...</td>\n",
       "      <td>france,religion</td>\n",
       "      <td>0</td>\n",
       "      <td>17919</td>\n",
       "    </tr>\n",
       "    <tr>\n",
       "      <th>159841</th>\n",
       "      <td>2006b_TrainingData_45115</td>\n",
       "      <td>2006-10-30</td>\n",
       "      <td>If you enter public life with a beard, it beco...</td>\n",
       "      <td>religion</td>\n",
       "      <td>0</td>\n",
       "      <td>159841</td>\n",
       "    </tr>\n",
       "    <tr>\n",
       "      <th>75233</th>\n",
       "      <td>2006b_TrainingData_09012</td>\n",
       "      <td>2006-10-15</td>\n",
       "      <td>I doubt very much that when those niqab-clad w...</td>\n",
       "      <td>immigration,religion</td>\n",
       "      <td>2</td>\n",
       "      <td>75233</td>\n",
       "    </tr>\n",
       "    <tr>\n",
       "      <th>124142</th>\n",
       "      <td>2006b_TrainingData_22080</td>\n",
       "      <td>2006-11-25</td>\n",
       "      <td>The Muslim teaching assistant who refused to r...</td>\n",
       "      <td>religion</td>\n",
       "      <td>0</td>\n",
       "      <td>124142</td>\n",
       "    </tr>\n",
       "    <tr>\n",
       "      <th>149102</th>\n",
       "      <td>2011b_TrainingData_33373</td>\n",
       "      <td>2011-08-14</td>\n",
       "      <td>After just one day of classes at her summer sc...</td>\n",
       "      <td>protest</td>\n",
       "      <td>2</td>\n",
       "      <td>149102</td>\n",
       "    </tr>\n",
       "    <tr>\n",
       "      <th>175912</th>\n",
       "      <td>2010b_TrainingData_16784</td>\n",
       "      <td>2010-07-24</td>\n",
       "      <td>If you want to gauge the energy in the current...</td>\n",
       "      <td>protest</td>\n",
       "      <td>0</td>\n",
       "      <td>175912</td>\n",
       "    </tr>\n",
       "    <tr>\n",
       "      <th>6630</th>\n",
       "      <td>2007b_TrainingData_36616</td>\n",
       "      <td>2007-10-09</td>\n",
       "      <td>How do you make a play written 2,500 years ago...</td>\n",
       "      <td>antiwar</td>\n",
       "      <td>2</td>\n",
       "      <td>6630</td>\n",
       "    </tr>\n",
       "  </tbody>\n",
       "</table>\n",
       "</div>"
      ],
      "text/plain": [
       "                             key       date  \\\n",
       "96069   2013b_TrainingData_08934 2013-09-15   \n",
       "24573   2013b_TrainingData_23810 2013-09-16   \n",
       "137166  2013b_TrainingData_14936 2013-09-13   \n",
       "119936  2013b_TrainingData_40685 2013-09-17   \n",
       "110168  2006b_TrainingData_07599 2006-10-16   \n",
       "102899  2009a_TrainingData_49322 2009-06-03   \n",
       "6036    2006b_TrainingData_00874 2006-05-10   \n",
       "152103  2006b_TrainingData_19691 2006-08-10   \n",
       "60958   2013b_TrainingData_51318 2013-07-22   \n",
       "116764  2006b_TrainingData_11355 2006-10-20   \n",
       "7022    2011a_TrainingData_16666 2011-03-25   \n",
       "27068   2013b_TrainingData_23374 2013-09-21   \n",
       "152731  2013b_TrainingData_14942 2013-12-09   \n",
       "90623   2010a_TrainingData_13225 2010-04-15   \n",
       "27143   2008b_TrainingData_01081 2008-08-09   \n",
       "151129  2013b_TrainingData_02591 2013-12-22   \n",
       "144660  2012a_TrainingData_48886 2012-03-14   \n",
       "122249  2011b_TrainingData_27053 2011-09-19   \n",
       "42246   2006b_TrainingData_19716 2006-10-14   \n",
       "26349   2009a_TrainingData_34667 2009-06-26   \n",
       "52513   2009a_TrainingData_15969 2009-02-18   \n",
       "59072   2011a_TrainingData_43292 2011-09-04   \n",
       "56776   2010a_TrainingData_04432 2010-04-22   \n",
       "144354  2010a_TrainingData_37925 2010-04-23   \n",
       "100440  2010a_TrainingData_16185 2010-06-25   \n",
       "73884   2006b_TrainingData_38974 2006-10-13   \n",
       "117998  2006b_TrainingData_39112 2006-10-13   \n",
       "101306  2006b_TrainingData_49540 2006-06-10   \n",
       "17831   2008b_TrainingData_04788 2008-08-19   \n",
       "155567  2006b_TrainingData_16870 2006-10-27   \n",
       "39897   2006b_TrainingData_21229 2006-06-10   \n",
       "148737  2006b_TrainingData_48049 2006-10-26   \n",
       "8004    2006b_TrainingData_47230 2006-10-26   \n",
       "103455  2006b_TrainingData_21544 2006-10-18   \n",
       "4010    2006b_TrainingData_45039 2006-10-16   \n",
       "110744  2007a_TrainingData_10700 2007-02-20   \n",
       "94059   2007a_TrainingData_09119 2007-03-16   \n",
       "65580   2010a_TrainingData_07416 2010-01-25   \n",
       "64363   2013b_TrainingData_48499 2013-05-11   \n",
       "90509   2013b_TrainingData_50358 2013-05-11   \n",
       "173848  2006b_TrainingData_07552 2006-07-10   \n",
       "74065   2006b_TrainingData_38665 2006-10-17   \n",
       "65892   2010a_TrainingData_37614 2010-04-22   \n",
       "17919   2009a_TrainingData_63556 2009-06-22   \n",
       "159841  2006b_TrainingData_45115 2006-10-30   \n",
       "75233   2006b_TrainingData_09012 2006-10-15   \n",
       "124142  2006b_TrainingData_22080 2006-11-25   \n",
       "149102  2011b_TrainingData_33373 2011-08-14   \n",
       "175912  2010b_TrainingData_16784 2010-07-24   \n",
       "6630    2007b_TrainingData_36616 2007-10-09   \n",
       "\n",
       "                                                     body  \\\n",
       "96069   As Birmingham Metropolitan College, one of Bri...   \n",
       "24573   Do you feel we simply don't&nbsp;have enough d...   \n",
       "137166  A college has abandoned its ban on Muslim face...   \n",
       "119936  Imagine that I am sitting outside a cafe in Pa...   \n",
       "110168  The following correction was printed in the Gu...   \n",
       "102899  You ask me if I regret anything I've written. ...   \n",
       "6036    Commons leader Jack Straw revealed today that ...   \n",
       "152103  Jack Straw was looking increasingly isolated y...   \n",
       "60958   When Youssra's three-and-a-half-year-old son s...   \n",
       "116764  The Tory leader, David Cameron, has warned pol...   \n",
       "7022    The twin stereotypes about gender in France ar...   \n",
       "27068   Join me in a criminal court in suburban Paris ...   \n",
       "152731  Nick Clegg has backed teachers who feel uncomf...   \n",
       "90623   'I am becoming more radical with age,\" says Na...   \n",
       "27143   A few years ago, the Moroccan feminist writer ...   \n",
       "151129  As a person who writes about women's issues, I...   \n",
       "144660  The \"so what?\" feminism plateau is familiar to...   \n",
       "122249  Hind Ahmas walks into a brasserie in the north...   \n",
       "42246   Jack Straw refused to back down yesterday in t...   \n",
       "26349   In the northern Paris suburb of Saint-Denis, w...   \n",
       "52513   Buses roll by outside, the day unfolding in a ...   \n",
       "59072   There was a time when Shazia Mirza, stand-up c...   \n",
       "56776   Belgium's parliament is expected to pass a law...   \n",
       "144354  Belgium is on the verge of becoming the first ...   \n",
       "100440  When the definitive history comes to be writte...   \n",
       "73884   David Edgar (Sorry, but we can't just pick and...   \n",
       "117998  David Edgar (Sorry, but we can't just pick and...   \n",
       "101306  I began wearing the face veil when I was 20 an...   \n",
       "17831   Judging by the response to her Comment is free...   \n",
       "155567  Britain and Australia are not the only countri...   \n",
       "39897   Jack Straw provoked anger and indignation amon...   \n",
       "148737  Peter Lewis Jones expresses his disappointment...   \n",
       "8004    Peter Lewis Jones expresses his disappointment...   \n",
       "103455  Muslim women welcome a debate about the status...   \n",
       "4010    Not all the four British Muslims who sit as MP...   \n",
       "110744  The veil is a mark of separation and defiance ...   \n",
       "94059   Some Muslim women in the UK have been wearing ...   \n",
       "65580   As a young British Muslim who wears the head c...   \n",
       "64363   It was day one. I'd recruited a small team of ...   \n",
       "90509   It was day one. I'd recruited a small team of ...   \n",
       "173848  British citizenship does not come with a dress...   \n",
       "74065   It was refreshing to read the article by Marti...   \n",
       "65892   The collapse of the Belgian government has thr...   \n",
       "17919   Nicolas Sarkozy today took a hard line in Fran...   \n",
       "159841  If you enter public life with a beard, it beco...   \n",
       "75233   I doubt very much that when those niqab-clad w...   \n",
       "124142  The Muslim teaching assistant who refused to r...   \n",
       "149102  After just one day of classes at her summer sc...   \n",
       "175912  If you want to gauge the energy in the current...   \n",
       "6630    How do you make a play written 2,500 years ago...   \n",
       "\n",
       "                                                   topics  fold     idx  \n",
       "96069                                            religion     0   96069  \n",
       "24573                                            religion     2   24573  \n",
       "137166                                   protest,religion     0  137166  \n",
       "119936                               humanrights,religion     2  119936  \n",
       "110168                               immigration,religion     0  110168  \n",
       "102899                                              egypt     0  102899  \n",
       "6036                                 immigration,religion     2    6036  \n",
       "152103                                           religion     0  152103  \n",
       "60958                                     france,religion     0   60958  \n",
       "116764                               immigration,religion     2  116764  \n",
       "7022                                               france     2    7022  \n",
       "27068                                              france     2   27068  \n",
       "152731                                           religion     0  152731  \n",
       "90623                                               egypt     0   90623  \n",
       "27143                                            religion     2   27143  \n",
       "151129                                           religion     0  151129  \n",
       "144660  arabandmiddleeastprotests,freedomofspeech,huma...     0  144660  \n",
       "122249                                    france,religion     2  122249  \n",
       "42246                                immigration,religion     2   42246  \n",
       "26349                                     france,religion     2   26349  \n",
       "52513                                            religion     0   52513  \n",
       "59072                                              france     2   59072  \n",
       "56776                             belgium,france,religion     2   56776  \n",
       "144354                                   belgium,religion     2  144354  \n",
       "100440                                             france     0  100440  \n",
       "73884                                            religion     0   73884  \n",
       "117998                                           religion     2  117998  \n",
       "101306                                           religion     2  101306  \n",
       "17831                                humanrights,religion     2   17831  \n",
       "155567                                           religion     0  155567  \n",
       "39897                                         immigration     0   39897  \n",
       "148737                                           religion     0  148737  \n",
       "8004                                             religion     0    8004  \n",
       "103455                               immigration,religion     0  103455  \n",
       "4010                                 immigration,religion     2    4010  \n",
       "110744                               immigration,religion     0  110744  \n",
       "94059                                    afghanistan,iraq     0   94059  \n",
       "65580                                            religion     2   65580  \n",
       "64363                                     womeninbusiness     0   64363  \n",
       "90509                                     womeninbusiness     0   90509  \n",
       "173848                                           religion     0  173848  \n",
       "74065                                            religion     2   74065  \n",
       "65892                        belgium,humanrights,religion     2   65892  \n",
       "17919                                     france,religion     0   17919  \n",
       "159841                                           religion     0  159841  \n",
       "75233                                immigration,religion     2   75233  \n",
       "124142                                           religion     0  124142  \n",
       "149102                                            protest     2  149102  \n",
       "175912                                            protest     0  175912  \n",
       "6630                                              antiwar     2    6630  "
      ]
     },
     "execution_count": 123,
     "metadata": {},
     "output_type": "execute_result"
    }
   ],
   "source": [
    "id = 8543\n",
    "print(df_all.iloc[id].topics)\n",
    "\n",
    "a1 = knns[id]\n",
    "\n",
    "idx = [i for (i, _) in a1]\n",
    "sc = [s for (_, s) in a1]\n",
    "\n",
    "df_all.iloc[idx]"
   ]
  },
  {
   "cell_type": "code",
   "execution_count": 124,
   "metadata": {
    "collapsed": true
   },
   "outputs": [],
   "source": [
    "y_train = get_y(df_all, selected_topics)"
   ]
  },
  {
   "cell_type": "code",
   "execution_count": 142,
   "metadata": {
    "collapsed": false
   },
   "outputs": [
    {
     "name": "stderr",
     "output_type": "stream",
     "text": [
      "100%|██████████| 177350/177350 [00:07<00:00, 23179.98it/s]\n"
     ]
    }
   ],
   "source": [
    "pred_weighted = []\n",
    "\n",
    "zeros = np.zeros(y_train.shape[1], dtype='uint8')\n",
    "k = 3\n",
    "\n",
    "for a1 in tqdm(knns):\n",
    "    if len(a1) == 0:\n",
    "        pred_weighted.append(zeros)\n",
    "        continue\n",
    "\n",
    "    idx = [i for (i, _) in a1[:k]]\n",
    "    sc = [[s] for (_, s) in a1[:k]]\n",
    "\n",
    "    y_knn = y_train[idx]\n",
    "    sol = y_knn.sum(axis=0)\n",
    "    sol_w = (y_knn * sc).sum(axis=0)\n",
    "\n",
    "    pred_weighted.append(sol_w)\n",
    "\n",
    "pred_weighted = np.array(pred_weighted, dtype='float32')"
   ]
  },
  {
   "cell_type": "code",
   "execution_count": 136,
   "metadata": {
    "collapsed": false,
    "scrolled": true
   },
   "outputs": [
    {
     "name": "stdout",
     "output_type": "stream",
     "text": [
      "t=1, f1=0.6225\n",
      "t=2, f1=0.7020\n",
      "t=3, f1=0.6185\n"
     ]
    }
   ],
   "source": [
    "f1s = []\n",
    "\n",
    "for t in range(1, k + 1):\n",
    "    f1 = f1_score(y_train, pred_total >= t, average='micro')\n",
    "    print('t=%s, f1=%.4f' % (t, f1))\n",
    "    f1s.append((f1, t))"
   ]
  },
  {
   "cell_type": "code",
   "execution_count": 139,
   "metadata": {
    "collapsed": false,
    "scrolled": true
   },
   "outputs": [
    {
     "name": "stdout",
     "output_type": "stream",
     "text": [
      "t=0.0, f1=0.0205\n",
      "t=0.1, f1=0.6225\n",
      "t=0.2, f1=0.6263\n",
      "t=0.3, f1=0.6448\n",
      "t=0.4, f1=0.6690\n",
      "t=0.5, f1=0.6905\n",
      "t=0.6, f1=0.7066\n",
      "t=0.7, f1=0.7153\n",
      "t=0.8, f1=0.7177\n",
      "t=0.9, f1=0.7142\n",
      "t=1.0, f1=0.7064\n"
     ]
    }
   ],
   "source": [
    "f1s = []\n",
    "\n",
    "for t in np.linspace(0, 1, 11):\n",
    "    f1 = f1_score(y_train, pred_weighted >= t, average='micro')\n",
    "    print('t=%s, f1=%.4f' % (t, f1))\n",
    "    f1s.append((f1, t))"
   ]
  },
  {
   "cell_type": "code",
   "execution_count": 143,
   "metadata": {
    "collapsed": false
   },
   "outputs": [
    {
     "name": "stderr",
     "output_type": "stream",
     "text": [
      "100%|██████████| 7581/7581 [00:00<00:00, 22034.81it/s]\n"
     ]
    }
   ],
   "source": [
    "pred_weighted_test = []\n",
    "\n",
    "zeros = np.zeros(y_train.shape[1], dtype='uint8')\n",
    "k = 3\n",
    "\n",
    "for a1 in tqdm(knns_test):\n",
    "    if len(a1) == 0:\n",
    "        pred_weighted_test.append(zeros)\n",
    "        continue\n",
    "\n",
    "    idx = [i for (i, _) in a1[:k]]\n",
    "    sc = [[s] for (_, s) in a1[:k]]\n",
    "\n",
    "    y_knn = y_train[idx]\n",
    "    sol_w = (y_knn * sc).sum(axis=0)\n",
    "\n",
    "    pred_weighted_test.append(sol_w)\n",
    "\n",
    "pred_weighted_test = np.array(pred_weighted_test, dtype='float32')"
   ]
  },
  {
   "cell_type": "code",
   "execution_count": 151,
   "metadata": {
    "collapsed": true
   },
   "outputs": [],
   "source": [
    "with open('knn3_preds_all.bin', 'wb') as f:\n",
    "    pickle.dump((pred_weighted, pred_weighted_test), f)"
   ]
  },
  {
   "cell_type": "code",
   "execution_count": null,
   "metadata": {
    "collapsed": true
   },
   "outputs": [],
   "source": []
  }
 ],
 "metadata": {
  "anaconda-cloud": {},
  "kernelspec": {
   "display_name": "Python [conda root]",
   "language": "python",
   "name": "conda-root-py"
  },
  "language_info": {
   "codemirror_mode": {
    "name": "ipython",
    "version": 3
   },
   "file_extension": ".py",
   "mimetype": "text/x-python",
   "name": "python",
   "nbconvert_exporter": "python",
   "pygments_lexer": "ipython3",
   "version": "3.5.2"
  }
 },
 "nbformat": 4,
 "nbformat_minor": 1
}
