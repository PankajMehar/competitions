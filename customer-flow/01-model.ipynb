{
 "cells": [
  {
   "cell_type": "code",
   "execution_count": 1,
   "metadata": {
    "collapsed": true
   },
   "outputs": [],
   "source": [
    "import pandas as pd\n",
    "import numpy as np\n",
    "import feather\n",
    "\n",
    "from sklearn.linear_model import LinearRegression"
   ]
  },
  {
   "cell_type": "code",
   "execution_count": 2,
   "metadata": {
    "collapsed": false
   },
   "outputs": [],
   "source": [
    "df_pays = feather.read_dataframe('data/df_pays_agg.feather')"
   ]
  },
  {
   "cell_type": "code",
   "execution_count": 158,
   "metadata": {
    "collapsed": true
   },
   "outputs": [],
   "source": [
    "def evaluation_metric(y_true, y_pred):\n",
    "    scores = (y_pred - y_true) / (y_pred + y_true)\n",
    "    scores[y_true < 1] = 0.0\n",
    "    scores = np.abs(scores)\n",
    "    return scores.sum() / (2000 * 14)"
   ]
  },
  {
   "cell_type": "code",
   "execution_count": 12,
   "metadata": {
    "collapsed": false
   },
   "outputs": [],
   "source": [
    "def discover_holes(df, day_min=None, day_max=None):\n",
    "    if day_min is None:\n",
    "        day_min = df.day.min()\n",
    "    if day_max is None:\n",
    "        day_max = df.day.max()\n",
    "\n",
    "    td = day_max - day_min\n",
    "    if len(df) == td.days + 1:\n",
    "        return df\n",
    "\n",
    "    idx = pd.date_range(day_min, day_max)\n",
    "\n",
    "    df = df.reset_index(drop=1)\n",
    "    df = df.set_index('day').reindex(index=idx).reset_index()\n",
    "    df.rename(columns={'index': 'day'}, inplace=1)\n",
    "\n",
    "    return df"
   ]
  },
  {
   "cell_type": "code",
   "execution_count": 10,
   "metadata": {
    "collapsed": false,
    "scrolled": true
   },
   "outputs": [],
   "source": [
    "max_day = pd.to_datetime('2016-10-31')"
   ]
  },
  {
   "cell_type": "code",
   "execution_count": 7,
   "metadata": {
    "collapsed": false
   },
   "outputs": [],
   "source": [
    "shops = df_pays.shop_id.unique()\n",
    "shops = sorted(shops)"
   ]
  },
  {
   "cell_type": "code",
   "execution_count": 8,
   "metadata": {
    "collapsed": true
   },
   "outputs": [],
   "source": [
    "from tqdm import tqdm"
   ]
  },
  {
   "cell_type": "code",
   "execution_count": 13,
   "metadata": {
    "collapsed": false,
    "scrolled": true
   },
   "outputs": [
    {
     "name": "stderr",
     "output_type": "stream",
     "text": [
      "100%|██████████| 2000/2000 [00:17<00:00, 114.07it/s]\n"
     ]
    }
   ],
   "source": [
    "holes_fixed = []\n",
    "\n",
    "for i in tqdm(shops):\n",
    "    df = df_pays[df_pays.shop_id == i].reset_index(drop=1)\n",
    "    del df['shop_id']\n",
    "    df = discover_holes(df, day_max=max_day)\n",
    "    df.insert(0, 'shop_id', i)\n",
    "\n",
    "    first_day = df.day.min()\n",
    "    days_from_beginning = (df.day - first_day).apply(lambda x: x.days)\n",
    "    df.insert(2, 'days_from_beginning', days_from_beginning)\n",
    "\n",
    "    holes_fixed.append(df)"
   ]
  },
  {
   "cell_type": "code",
   "execution_count": 14,
   "metadata": {
    "collapsed": false
   },
   "outputs": [],
   "source": [
    "df_pays_fixed = pd.concat(holes_fixed)"
   ]
  },
  {
   "cell_type": "code",
   "execution_count": 15,
   "metadata": {
    "collapsed": false
   },
   "outputs": [
    {
     "data": {
      "text/plain": [
       "0.059237688576317483"
      ]
     },
     "execution_count": 15,
     "metadata": {},
     "output_type": "execute_result"
    }
   ],
   "source": [
    "df_pays_fixed.pays_count.isnull().mean()"
   ]
  },
  {
   "cell_type": "code",
   "execution_count": 16,
   "metadata": {
    "collapsed": true
   },
   "outputs": [],
   "source": [
    "days = df_pays_fixed.groupby('shop_id').days_from_beginning.max()"
   ]
  },
  {
   "cell_type": "code",
   "execution_count": 17,
   "metadata": {
    "collapsed": false
   },
   "outputs": [],
   "source": [
    "import seaborn as sns\n",
    "%matplotlib inline"
   ]
  },
  {
   "cell_type": "code",
   "execution_count": 18,
   "metadata": {
    "collapsed": false,
    "scrolled": true
   },
   "outputs": [
    {
     "data": {
      "text/plain": [
       "<matplotlib.axes._subplots.AxesSubplot at 0x7f6cb89c3c18>"
      ]
     },
     "execution_count": 18,
     "metadata": {},
     "output_type": "execute_result"
    },
    {
     "data": {
      "image/png": "[encoded data removed]",
      "text/plain": [
       "<matplotlib.figure.Figure at 0x7f6cba78c588>"
      ]
     },
     "metadata": {},
     "output_type": "display_data"
    }
   ],
   "source": [
    "sns.violinplot(days)"
   ]
  },
  {
   "cell_type": "code",
   "execution_count": 21,
   "metadata": {
    "collapsed": false
   },
   "outputs": [
    {
     "data": {
      "text/plain": [
       "count    2000.000000\n",
       "mean      317.505000\n",
       "std       121.431486\n",
       "min        86.000000\n",
       "25%       214.750000\n",
       "50%       345.000000\n",
       "75%       404.000000\n",
       "max       493.000000\n",
       "Name: days_from_beginning, dtype: float64"
      ]
     },
     "execution_count": 21,
     "metadata": {},
     "output_type": "execute_result"
    }
   ],
   "source": [
    "days.describe()"
   ]
  },
  {
   "cell_type": "code",
   "execution_count": 22,
   "metadata": {
    "collapsed": false
   },
   "outputs": [],
   "source": [
    "feather.write_dataframe(df_pays_fixed, 'data/df_pays_na.feather')"
   ]
  },
  {
   "cell_type": "code",
   "execution_count": 106,
   "metadata": {
    "collapsed": true
   },
   "outputs": [],
   "source": [
    "df_pays = feather.read_dataframe('data/df_pays_na.feather')"
   ]
  },
  {
   "cell_type": "code",
   "execution_count": 107,
   "metadata": {
    "collapsed": true
   },
   "outputs": [],
   "source": [
    "df_pays['dow'] = df_pays.day.dt.dayofweek\n",
    "df_pays['is_weekend'] = df_pays.dow.isin([5, 6])\n",
    "df_pays['month'] = df_pays.day.dt.month\n",
    "df_pays['week'] = df_pays.day.dt.weekofyear"
   ]
  },
  {
   "cell_type": "code",
   "execution_count": 108,
   "metadata": {
    "collapsed": true
   },
   "outputs": [],
   "source": [
    "train_end = pd.to_datetime('2016-10-17')"
   ]
  },
  {
   "cell_type": "code",
   "execution_count": 126,
   "metadata": {
    "collapsed": true
   },
   "outputs": [],
   "source": [
    "def add_rolling_features(df_shop):\n",
    "    shift = df_shop.pays_count.shift(14)\n",
    "    df_shop['count_two_weeks_ago'] = shift\n",
    "\n",
    "    for w in [1, 2, 4, 8]:\n",
    "        rolling = shift.rolling(7 * w)\n",
    "        df_shop['rolling_mean_%d' % w] = rolling.mean()\n",
    "        df_shop['rolling_min_%d' % w] = rolling.min()\n",
    "        df_shop['rolling_max_%d' % w] = rolling.max()\n",
    "        df_shop['rolling_std_%d' % w] = rolling.std()\n",
    "\n",
    "        for i in range(0, 7):\n",
    "            idx = df_shop.dow == i\n",
    "            rolling = shift[idx].rolling(w)\n",
    "            df_shop.loc[idx, 'rolling_mean_%d_dow' % w] = rolling.mean()\n",
    "            df_shop.loc[idx, 'rolling_min_%d_dow' % w] = rolling.min()\n",
    "            df_shop.loc[idx, 'rolling_max_%d_dow' % w] = rolling.max()\n",
    "            df_shop.loc[idx, 'rolling_std_%d_dow' % w] = rolling.std()\n",
    "\n",
    "    return df_shop"
   ]
  },
  {
   "cell_type": "code",
   "execution_count": 127,
   "metadata": {
    "collapsed": false
   },
   "outputs": [],
   "source": [
    "def add_overall_trend_feature(df_train, df_val):\n",
    "    y = df_train.pays_count\n",
    "    not_null = ~y.isnull()\n",
    "\n",
    "    x = df_train.days_from_beginning\n",
    "    x_not_null = x[not_null].values.reshape(-1, 1)\n",
    "    y = y[not_null].values\n",
    "    lr = LinearRegression().fit(x_not_null, y)\n",
    "\n",
    "    x = x.values.reshape(-1, 1)\n",
    "    df_train['store_overall_trend'] = lr.predict(x)\n",
    "\n",
    "    x_val = df_val.days_from_beginning.values.reshape(-1, 1)\n",
    "    df_val['store_overall_trend'] = lr.predict(x_val)\n",
    "\n",
    "\n",
    "def add_dow_trend_feature(df_train, df_val):\n",
    "    df_train['store_dow_trend'] = np.nan\n",
    "    df_val['store_dow_trend'] = np.nan\n",
    "\n",
    "    for i in range(7):\n",
    "        idx = (df_train.dow == i)\n",
    "\n",
    "        y = df_train[idx].pays_count\n",
    "        not_null = ~y.isnull()\n",
    "\n",
    "        x = df_train[idx].days_from_beginning\n",
    "        x_not_null = x[not_null].values.reshape(-1, 1)\n",
    "        y = y[not_null].values\n",
    "        lr = LinearRegression().fit(x_not_null, y)\n",
    "\n",
    "        x = x.values.reshape(-1, 1)\n",
    "        df_train.loc[idx, 'store_dow_trend'] = lr.predict(x)\n",
    "\n",
    "        val_idx = (df_val.dow == i)\n",
    "        x_val = df_val[val_idx].days_from_beginning.values.reshape(-1, 1)\n",
    "        df_val.loc[val_idx, 'store_dow_trend'] = lr.predict(x_val)\n",
    "\n",
    "\n",
    "def add_weekend_trend_feature(df_train, df_val):\n",
    "    df_train['store_weekend_trend'] = np.nan\n",
    "    df_val['store_weekend_trend'] = np.nan\n",
    "\n",
    "    for i in [True, False]:\n",
    "        idx = (df_train.is_weekend == i)\n",
    "\n",
    "        y = df_train[idx].pays_count\n",
    "        not_null = ~y.isnull()\n",
    "\n",
    "        x = df_train[idx].days_from_beginning\n",
    "        x_not_null = x[not_null].values.reshape(-1, 1)\n",
    "        y = y[not_null].values\n",
    "        lr = LinearRegression().fit(x_not_null, y)\n",
    "\n",
    "        x = x.values.reshape(-1, 1)\n",
    "        df_train.loc[idx, 'store_weekend_trend'] = lr.predict(x)\n",
    "\n",
    "        val_idx = (df_val.is_weekend == i)\n",
    "        x_val = df_val[val_idx].days_from_beginning.values.reshape(-1, 1)\n",
    "        df_val.loc[val_idx, 'store_weekend_trend'] = lr.predict(x_val)    \n",
    "\n",
    "\n",
    "def add_trend_features(df_train, df_val):\n",
    "    add_overall_trend_feature(df_train, df_val)\n",
    "    add_dow_trend_feature(df_train, df_val)\n",
    "    add_weekend_trend_feature(df_train, df_val)"
   ]
  },
  {
   "cell_type": "code",
   "execution_count": 130,
   "metadata": {
    "collapsed": false
   },
   "outputs": [
    {
     "name": "stderr",
     "output_type": "stream",
     "text": [
      "100%|██████████| 2000/2000 [10:18<00:00,  3.41it/s]\n"
     ]
    }
   ],
   "source": [
    "train_dfs = []\n",
    "val_dfs = []\n",
    "\n",
    "for i in tqdm(shops):\n",
    "    df_shop = df_pays[df_pays.shop_id == i].copy()\n",
    "    add_rolling_features(df_shop)\n",
    "\n",
    "    df_train = df_shop[df_shop.day <= train_end].reset_index()\n",
    "    df_val = df_shop[df_shop.day > train_end].reset_index()\n",
    "\n",
    "    add_trend_features(df_train, df_val)\n",
    "    \n",
    "    train_dfs.append(df_train)\n",
    "    val_dfs.append(df_val)"
   ]
  },
  {
   "cell_type": "code",
   "execution_count": 131,
   "metadata": {
    "collapsed": true
   },
   "outputs": [],
   "source": [
    "truncated_train_dfs = []\n",
    "\n",
    "for df in train_dfs:\n",
    "    truncated_train_dfs.append(df.iloc[7 * 4:])"
   ]
  },
  {
   "cell_type": "code",
   "execution_count": 132,
   "metadata": {
    "collapsed": false
   },
   "outputs": [],
   "source": [
    "df_train = pd.concat(truncated_train_dfs)\n",
    "df_val = pd.concat(val_dfs)"
   ]
  },
  {
   "cell_type": "code",
   "execution_count": 136,
   "metadata": {
    "collapsed": false
   },
   "outputs": [
    {
     "data": {
      "text/plain": [
       "553010"
      ]
     },
     "execution_count": 136,
     "metadata": {},
     "output_type": "execute_result"
    }
   ],
   "source": [
    "len(df_train)"
   ]
  },
  {
   "cell_type": "code",
   "execution_count": 138,
   "metadata": {
    "collapsed": false
   },
   "outputs": [],
   "source": [
    "for c in ['rolling_std_1_dow', 'rolling_mean_8', 'rolling_min_8', \n",
    "          'rolling_max_8', 'rolling_std_8']:\n",
    "    del df_train[c], df_val[c]"
   ]
  },
  {
   "cell_type": "code",
   "execution_count": 142,
   "metadata": {
    "collapsed": true
   },
   "outputs": [],
   "source": [
    "df_train = df_train[~df_train.pays_count.isnull()]\n",
    "df_val = df_val[~df_val.pays_count.isnull()]"
   ]
  },
  {
   "cell_type": "code",
   "execution_count": 143,
   "metadata": {
    "collapsed": false,
    "scrolled": true
   },
   "outputs": [
    {
     "data": {
      "text/plain": [
       "['count_two_weeks_ago',\n",
       " 'dow',\n",
       " 'is_weekend',\n",
       " 'rolling_max_1',\n",
       " 'rolling_max_1_dow',\n",
       " 'rolling_max_2',\n",
       " 'rolling_max_2_dow',\n",
       " 'rolling_max_4',\n",
       " 'rolling_max_4_dow',\n",
       " 'rolling_max_8_dow',\n",
       " 'rolling_mean_1',\n",
       " 'rolling_mean_1_dow',\n",
       " 'rolling_mean_2',\n",
       " 'rolling_mean_2_dow',\n",
       " 'rolling_mean_4',\n",
       " 'rolling_mean_4_dow',\n",
       " 'rolling_mean_8_dow',\n",
       " 'rolling_min_1',\n",
       " 'rolling_min_1_dow',\n",
       " 'rolling_min_2',\n",
       " 'rolling_min_2_dow',\n",
       " 'rolling_min_4',\n",
       " 'rolling_min_4_dow',\n",
       " 'rolling_min_8_dow',\n",
       " 'rolling_std_1',\n",
       " 'rolling_std_2',\n",
       " 'rolling_std_2_dow',\n",
       " 'rolling_std_4',\n",
       " 'rolling_std_4_dow',\n",
       " 'rolling_std_8_dow',\n",
       " 'store_dow_trend',\n",
       " 'store_overall_trend',\n",
       " 'store_weekend_trend']"
      ]
     },
     "execution_count": 143,
     "metadata": {},
     "output_type": "execute_result"
    }
   ],
   "source": [
    "to_exclude = {'pays_count', 'index', 'shop_id', 'day', 'days_from_beginning', 'month', 'week'}\n",
    "features = sorted(set(df_train.columns) - to_exclude)\n",
    "features"
   ]
  },
  {
   "cell_type": "code",
   "execution_count": 145,
   "metadata": {
    "collapsed": true
   },
   "outputs": [],
   "source": [
    "X_train = df_train[features].values\n",
    "y_train = df_train.pays_count.values"
   ]
  },
  {
   "cell_type": "code",
   "execution_count": 148,
   "metadata": {
    "collapsed": true
   },
   "outputs": [],
   "source": [
    "X_val = df_val[features].values\n",
    "y_val = df_val.pays_count.values"
   ]
  },
  {
   "cell_type": "code",
   "execution_count": 149,
   "metadata": {
    "collapsed": true
   },
   "outputs": [],
   "source": [
    "xgb_pars = {\n",
    "    'eta': 0.1,\n",
    "    'gamma': 0,\n",
    "    'max_depth': 6,\n",
    "    'min_child_weight': 1,\n",
    "    'max_delta_step': 0,\n",
    "    'subsample': 1,\n",
    "    'colsample_bytree': 1,\n",
    "    'colsample_bylevel': 1,\n",
    "    'lambda': 1,\n",
    "    'alpha': 0,\n",
    "    'tree_method': 'approx',\n",
    "    'objective': 'reg:linear',\n",
    "    'eval_metric': 'rmse',\n",
    "    'nthread': 8,\n",
    "    'seed': 42,\n",
    "    'silent': 1\n",
    "}\n",
    "\n",
    "n_estimators = 120"
   ]
  },
  {
   "cell_type": "code",
   "execution_count": 150,
   "metadata": {
    "collapsed": true
   },
   "outputs": [],
   "source": [
    "import xgboost as xgb"
   ]
  },
  {
   "cell_type": "code",
   "execution_count": 151,
   "metadata": {
    "collapsed": false
   },
   "outputs": [
    {
     "name": "stdout",
     "output_type": "stream",
     "text": [
      "[0]\ttrain-rmse:162.335\tval-rmse:189.995\n",
      "[10]\ttrain-rmse:81.9643\tval-rmse:92.2384\n",
      "[20]\ttrain-rmse:64.1826\tval-rmse:73.632\n",
      "[30]\ttrain-rmse:60.9483\tval-rmse:71.7141\n",
      "[40]\ttrain-rmse:60.0261\tval-rmse:70.8476\n",
      "[50]\ttrain-rmse:59.7006\tval-rmse:70.3588\n",
      "[60]\ttrain-rmse:59.5151\tval-rmse:70.089\n",
      "[70]\ttrain-rmse:59.3568\tval-rmse:69.5506\n",
      "[80]\ttrain-rmse:59.2577\tval-rmse:69.2532\n",
      "[90]\ttrain-rmse:59.052\tval-rmse:69.1407\n",
      "[100]\ttrain-rmse:58.9512\tval-rmse:69.102\n",
      "[110]\ttrain-rmse:58.7318\tval-rmse:69.196\n"
     ]
    }
   ],
   "source": [
    "dtrain = xgb.DMatrix(X_train, label=y_train, feature_names=features, missing=np.nan)\n",
    "dval = xgb.DMatrix(X_val, label=y_val, feature_names=features, missing=np.nan)\n",
    "watchlist = [(dtrain, 'train'), (dval, 'val')]\n",
    "\n",
    "model = xgb.train(xgb_pars, dtrain, num_boost_round=n_estimators, verbose_eval=10, evals=watchlist)"
   ]
  },
  {
   "cell_type": "code",
   "execution_count": 153,
   "metadata": {
    "collapsed": true
   },
   "outputs": [],
   "source": [
    "y_pred = model.predict(dval)"
   ]
  },
  {
   "cell_type": "code",
   "execution_count": 159,
   "metadata": {
    "collapsed": false
   },
   "outputs": [
    {
     "data": {
      "text/plain": [
       "0.12009063904171892"
      ]
     },
     "execution_count": 159,
     "metadata": {},
     "output_type": "execute_result"
    }
   ],
   "source": [
    "evaluation_metric(y_val, y_pred)"
   ]
  },
  {
   "cell_type": "code",
   "execution_count": 154,
   "metadata": {
    "collapsed": false
   },
   "outputs": [
    {
     "data": {
      "text/plain": [
       "0.12052107143971791"
      ]
     },
     "execution_count": 154,
     "metadata": {},
     "output_type": "execute_result"
    }
   ],
   "source": [
    "evaluation_metric(y_val, y_pred)"
   ]
  },
  {
   "cell_type": "code",
   "execution_count": 155,
   "metadata": {
    "collapsed": false
   },
   "outputs": [
    {
     "data": {
      "text/plain": [
       "[('store_dow_trend', 73868822.9679056),\n",
       " ('store_weekend_trend', 13470613.556506848),\n",
       " ('rolling_max_2', 6500393.544965219),\n",
       " ('rolling_std_8_dow', 5339033.290344827),\n",
       " ('rolling_max_1', 3619389.439797101),\n",
       " ('rolling_min_2_dow', 2737645.460909091),\n",
       " ('rolling_std_1', 2475979.538392857),\n",
       " ('rolling_max_4', 2122051.7500582864),\n",
       " ('store_overall_trend', 1953567.0144888882),\n",
       " ('rolling_min_2', 1898065.6659437506),\n",
       " ('count_two_weeks_ago', 1745369.359213295),\n",
       " ('rolling_max_2_dow', 1712617.9136458328),\n",
       " ('rolling_std_4', 1471598.4237078652),\n",
       " ('rolling_mean_2_dow', 1248106.2088235293),\n",
       " ('rolling_max_8_dow', 1101077.3361256544),\n",
       " ('rolling_min_4', 1071002.8357207212),\n",
       " ('rolling_std_4_dow', 925254.6925000001),\n",
       " ('rolling_min_4_dow', 798980.1672413793),\n",
       " ('rolling_min_1', 743627.956970874),\n",
       " ('dow', 660700.592938628),\n",
       " ('rolling_min_8_dow', 656938.250980392),\n",
       " ('rolling_std_2', 552633.0988505747),\n",
       " ('rolling_mean_1', 440244.8805298012),\n",
       " ('rolling_mean_2', 392393.4374807692),\n",
       " ('rolling_mean_4', 366502.0613461538),\n",
       " ('rolling_std_2_dow', 302740.90396992484),\n",
       " ('rolling_mean_8_dow', 292260.7277386935),\n",
       " ('rolling_mean_4_dow', 291830.88525252516),\n",
       " ('rolling_max_4_dow', 225685.987962963)]"
      ]
     },
     "execution_count": 155,
     "metadata": {},
     "output_type": "execute_result"
    }
   ],
   "source": [
    "scores = model.get_score(importance_type='gain')\n",
    "sorted(scores.items(), key=lambda x: -x[1])"
   ]
  },
  {
   "cell_type": "code",
   "execution_count": 259,
   "metadata": {
    "collapsed": false
   },
   "outputs": [
    {
     "data": {
      "text/plain": [
       "0.095394389645392236"
      ]
     },
     "execution_count": 259,
     "metadata": {},
     "output_type": "execute_result"
    }
   ],
   "source": [
    "evaluation_metric(y_val, y_pre)"
   ]
  },
  {
   "cell_type": "code",
   "execution_count": null,
   "metadata": {
    "collapsed": true
   },
   "outputs": [],
   "source": []
  }
 ],
 "metadata": {
  "anaconda-cloud": {},
  "kernelspec": {
   "display_name": "Python [conda root]",
   "language": "python",
   "name": "conda-root-py"
  },
  "language_info": {
   "codemirror_mode": {
    "name": "ipython",
    "version": 3
   },
   "file_extension": ".py",
   "mimetype": "text/x-python",
   "name": "python",
   "nbconvert_exporter": "python",
   "pygments_lexer": "ipython3",
   "version": "3.5.2"
  }
 },
 "nbformat": 4,
 "nbformat_minor": 1
}
