{
 "cells": [
  {
   "cell_type": "code",
   "execution_count": 1,
   "metadata": {
    "collapsed": true
   },
   "outputs": [],
   "source": [
    "import pandas as pd\n",
    "import numpy as np\n",
    "import feather"
   ]
  },
  {
   "cell_type": "code",
   "execution_count": 222,
   "metadata": {
    "collapsed": false
   },
   "outputs": [],
   "source": [
    "df_example = pd.read_csv('data/prediction_example.csv', header=None)"
   ]
  },
  {
   "cell_type": "code",
   "execution_count": 3,
   "metadata": {
    "collapsed": false
   },
   "outputs": [],
   "source": [
    "df_pays = feather.read_dataframe('data/df_pays_agg.feather')"
   ]
  },
  {
   "cell_type": "code",
   "execution_count": 5,
   "metadata": {
    "collapsed": false
   },
   "outputs": [
    {
     "data": {
      "text/plain": [
       "shop_id\n",
       "987    2016-10-30\n",
       "1707   2016-10-24\n",
       "1824   2016-10-10\n",
       "Name: day, dtype: datetime64[ns]"
      ]
     },
     "execution_count": 5,
     "metadata": {},
     "output_type": "execute_result"
    }
   ],
   "source": [
    "last_day = df_pays.groupby('shop_id').day.max()\n",
    "last_day[last_day < pd.to_datetime('2016-10-31')]"
   ]
  },
  {
   "cell_type": "markdown",
   "metadata": {},
   "source": [
    "Evaluation metric:\n",
    "\n",
    "![](https://img.alicdn.com/tps/TB1PDLzOVXXXXXgaXXXXXXXXXXX-814-184.png)"
   ]
  },
  {
   "cell_type": "markdown",
   "metadata": {},
   "source": [
    "Data: before 2016-10-31\n",
    "Need to predict 2016-11-01 - 2016-11-14"
   ]
  },
  {
   "cell_type": "code",
   "execution_count": 245,
   "metadata": {
    "collapsed": true
   },
   "outputs": [],
   "source": [
    "def evaluation_metric(y_true, y_pred):\n",
    "    scores = (y_pred - y_true) / (y_pred + y_true)\n",
    "    scores[y_true < 1] = 0.0\n",
    "    scores = np.abs(scores)\n",
    "    return scores.mean()"
   ]
  },
  {
   "cell_type": "code",
   "execution_count": 246,
   "metadata": {
    "collapsed": false
   },
   "outputs": [
    {
     "data": {
      "text/plain": [
       "14"
      ]
     },
     "execution_count": 246,
     "metadata": {},
     "output_type": "execute_result"
    }
   ],
   "source": [
    "df_pays_train = df_pays[df_pays.day <= pd.to_datetime('2016-10-17')]\n",
    "df_pays_val = df_pays[df_pays.day > pd.to_datetime('2016-10-17')]\n",
    "df_pays_val.day.nunique()"
   ]
  },
  {
   "cell_type": "code",
   "execution_count": 247,
   "metadata": {
    "collapsed": false
   },
   "outputs": [],
   "source": [
    "def fill_holes(df, day_min=None, day_max=None):\n",
    "    if day_min is None:\n",
    "        day_min = df.day.min()\n",
    "    if day_max is None:\n",
    "        day_max = df.day.max()\n",
    "\n",
    "    td = max_val_day - min_val_day\n",
    "    if len(df) == td.days + 1:\n",
    "        return df\n",
    "\n",
    "    idx = pd.date_range(day_min, day_max)\n",
    "\n",
    "    df = df.reset_index(drop=1)\n",
    "    df = df.set_index('day').reindex(index=idx, fill_value=0).reset_index()\n",
    "    df.rename(columns={'index': 'day'}, inplace=1)\n",
    "\n",
    "    return df"
   ]
  },
  {
   "cell_type": "code",
   "execution_count": 268,
   "metadata": {
    "collapsed": false,
    "scrolled": true
   },
   "outputs": [],
   "source": [
    "baseline_day = pd.to_datetime('2016-10-11')\n",
    "max_train_day = pd.to_datetime('2016-10-17')\n",
    "min_val_day = pd.to_datetime('2016-10-18')\n",
    "max_val_day = pd.to_datetime('2016-10-31')\n",
    "\n",
    "baseline_sub_day = pd.to_datetime('2016-10-25')"
   ]
  },
  {
   "cell_type": "code",
   "execution_count": 269,
   "metadata": {
    "collapsed": true
   },
   "outputs": [],
   "source": [
    "def create_baseline_pred(shop_id, val=True):\n",
    "    if shop_id in {987, 1707, 1824}:\n",
    "        return np.zeros(14, dtype='int')\n",
    "    if val:\n",
    "        df_shop = df_pays_train[df_pays_train.shop_id == shop_id]\n",
    "        df_shop = df_shop[df_shop.day >= baseline_day]\n",
    "        df_shop = fill_holes(df_shop, day_min=baseline_day, day_max=max_train_day)\n",
    "        week = df_shop.pays_count.values\n",
    "        return np.concatenate([week, week])\n",
    "    else:\n",
    "        df_shop = df_pays[df_pays.shop_id == shop_id]\n",
    "        df_shop = df_shop[df_shop.day >= baseline_sub_day]\n",
    "        df_shop = fill_holes(df_shop, day_min=baseline_sub_day, day_max=max_val_day)\n",
    "        week = df_shop.pays_count.values\n",
    "        return np.concatenate([week, week])"
   ]
  },
  {
   "cell_type": "code",
   "execution_count": 256,
   "metadata": {
    "collapsed": false
   },
   "outputs": [],
   "source": [
    "def create_true_values(shop_id):\n",
    "    df_shop = df_pays_val[df_pays_val.shop_id == shop_id]\n",
    "    df_shop = fill_holes(df_shop, day_min=min_val_day, day_max=max_val_day)\n",
    "    return df_shop.pays_count.values"
   ]
  },
  {
   "cell_type": "code",
   "execution_count": 113,
   "metadata": {
    "collapsed": false
   },
   "outputs": [],
   "source": [
    "from tqdm import tqdm"
   ]
  },
  {
   "cell_type": "code",
   "execution_count": 257,
   "metadata": {
    "collapsed": false
   },
   "outputs": [],
   "source": [
    "shops = df_pays.shop_id.unique()\n",
    "shops = sorted(shops)"
   ]
  },
  {
   "cell_type": "code",
   "execution_count": 258,
   "metadata": {
    "collapsed": false,
    "scrolled": true
   },
   "outputs": [
    {
     "name": "stderr",
     "output_type": "stream",
     "text": [
      "100%|██████████| 2000/2000 [00:07<00:00, 253.72it/s]\n"
     ]
    }
   ],
   "source": [
    "preds = []\n",
    "trues = []\n",
    "\n",
    "for i in tqdm(shops):\n",
    "    if i == 1824:\n",
    "        y_true = np.zeros(14, dtype='int')\n",
    "    else:\n",
    "        y_true = create_true_values(i)\n",
    "\n",
    "    y_pred = create_baseline_pred(i)\n",
    "    preds.append(y_pred)\n",
    "    trues.append(y_true)\n",
    "\n",
    "all_pred = np.concatenate(preds)\n",
    "all_true = np.concatenate(trues)"
   ]
  },
  {
   "cell_type": "code",
   "execution_count": 259,
   "metadata": {
    "collapsed": false
   },
   "outputs": [
    {
     "data": {
      "text/plain": [
       "0.095394389645392236"
      ]
     },
     "execution_count": 259,
     "metadata": {},
     "output_type": "execute_result"
    }
   ],
   "source": [
    "evaluation_metric(all_true, all_pred)"
   ]
  },
  {
   "cell_type": "code",
   "execution_count": 270,
   "metadata": {
    "collapsed": false
   },
   "outputs": [
    {
     "name": "stderr",
     "output_type": "stream",
     "text": [
      "100%|██████████| 2000/2000 [00:06<00:00, 297.69it/s]\n"
     ]
    }
   ],
   "source": [
    "preds = []\n",
    "\n",
    "for i in tqdm(shops):\n",
    "    y_pred = create_baseline_pred(i, val=False)\n",
    "    preds.append(y_pred)"
   ]
  },
  {
   "cell_type": "code",
   "execution_count": 271,
   "metadata": {
    "collapsed": false
   },
   "outputs": [
    {
     "name": "stderr",
     "output_type": "stream",
     "text": [
      "100%|██████████| 2000/2000 [00:00<00:00, 14158.68it/s]\n"
     ]
    }
   ],
   "source": [
    "with open('sub.csv', 'w') as f:\n",
    "    for i in tqdm(shops):\n",
    "        f.write(str(i) + ',')\n",
    "        f.write(','.join(str(d) for d in preds[i - 1]))\n",
    "        f.write('\\n')"
   ]
  },
  {
   "cell_type": "code",
   "execution_count": 272,
   "metadata": {
    "collapsed": false
   },
   "outputs": [
    {
     "name": "stdout",
     "output_type": "stream",
     "text": [
      "1,255,172,226,257,251,281,180,255,172,226,257,251,281,180\r\n",
      "2,82,97,83,96,96,115,80,82,97,83,96,96,115,80\r\n",
      "3,80,61,68,103,102,104,67,80,61,68,103,102,104,67\r\n",
      "4,90,104,55,110,215,196,115,90,104,55,110,215,196,115\r\n",
      "5,302,1,0,215,203,291,239,302,1,0,215,203,291,239\r\n",
      "6,97,100,117,133,109,118,86,97,100,117,133,109,118,86\r\n",
      "7,128,115,111,128,165,162,81,128,115,111,128,165,162,81\r\n",
      "8,70,68,72,49,70,71,35,70,68,72,49,70,71,35\r\n",
      "9,210,197,245,205,291,283,212,210,197,245,205,291,283,212\r\n",
      "10,77,114,85,84,99,93,121,77,114,85,84,99,93,121\r\n"
     ]
    }
   ],
   "source": [
    "!head sub.csv"
   ]
  },
  {
   "cell_type": "code",
   "execution_count": 273,
   "metadata": {
    "collapsed": false
   },
   "outputs": [
    {
     "name": "stdout",
     "output_type": "stream",
     "text": [
      "2000 sub.txt\r\n"
     ]
    }
   ],
   "source": [
    "!wc -l sub.csv"
   ]
  },
  {
   "cell_type": "code",
   "execution_count": null,
   "metadata": {
    "collapsed": true
   },
   "outputs": [],
   "source": []
  }
 ],
 "metadata": {
  "anaconda-cloud": {},
  "kernelspec": {
   "display_name": "Python [conda root]",
   "language": "python",
   "name": "conda-root-py"
  },
  "language_info": {
   "codemirror_mode": {
    "name": "ipython",
    "version": 3
   },
   "file_extension": ".py",
   "mimetype": "text/x-python",
   "name": "python",
   "nbconvert_exporter": "python",
   "pygments_lexer": "ipython3",
   "version": "3.5.2"
  }
 },
 "nbformat": 4,
 "nbformat_minor": 1
}
