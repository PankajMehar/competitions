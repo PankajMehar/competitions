{
 "cells": [
  {
   "cell_type": "code",
   "execution_count": 1,
   "metadata": {
    "collapsed": true
   },
   "outputs": [],
   "source": [
    "import feather\n",
    "import pandas as pd\n",
    "from tqdm import tqdm"
   ]
  },
  {
   "cell_type": "code",
   "execution_count": 2,
   "metadata": {
    "collapsed": true
   },
   "outputs": [],
   "source": [
    "from outliers import remove_outliers"
   ]
  },
  {
   "cell_type": "code",
   "execution_count": 2,
   "metadata": {
    "collapsed": false
   },
   "outputs": [
    {
     "name": "stdout",
     "output_type": "stream",
     "text": [
      "df_pays_agg.feather\t df_user_pay.feather\t shop_info.txt\r\n",
      "df_pays_fixed.feather\t df_user_view.feather\t user_pay.txt\r\n",
      "df_pays_na.feather\t df_views_agg.feather\t user_view.txt\r\n",
      "df_pays_na_test.feather  prediction_example.csv\r\n",
      "df_shop_info.feather\t shop1707.txt\r\n"
     ]
    }
   ],
   "source": [
    "!ls data/"
   ]
  },
  {
   "cell_type": "code",
   "execution_count": 4,
   "metadata": {
    "collapsed": false
   },
   "outputs": [],
   "source": [
    "df_shop_info = feather.read_dataframe('data/df_shop_info.feather')"
   ]
  },
  {
   "cell_type": "code",
   "execution_count": 6,
   "metadata": {
    "collapsed": true
   },
   "outputs": [],
   "source": [
    "from translate import translator"
   ]
  },
  {
   "cell_type": "code",
   "execution_count": 16,
   "metadata": {
    "collapsed": false
   },
   "outputs": [],
   "source": [
    "cities = sorted(set(df_shop_info.city_name))\n",
    "result = {c: translator('zh-CN', 'en', c) for c in cities}\n",
    "cities = {k: v[0][0][0] for k, v in result.items()}"
   ]
  },
  {
   "cell_type": "code",
   "execution_count": 80,
   "metadata": {
    "collapsed": false
   },
   "outputs": [],
   "source": [
    "import pickle\n",
    "with open('tmp/cities.bin', 'wb') as f:\n",
    "    pickle.dump(cities, f)"
   ]
  },
  {
   "cell_type": "code",
   "execution_count": 22,
   "metadata": {
    "collapsed": false
   },
   "outputs": [],
   "source": [
    "df_shop_info.city_name = df_shop_info.city_name.apply(cities.get)"
   ]
  },
  {
   "cell_type": "code",
   "execution_count": 44,
   "metadata": {
    "collapsed": true
   },
   "outputs": [],
   "source": [
    "from sklearn.preprocessing import LabelEncoder"
   ]
  },
  {
   "cell_type": "code",
   "execution_count": 47,
   "metadata": {
    "collapsed": false
   },
   "outputs": [],
   "source": [
    "df_shop_info['city_id'] = LabelEncoder().fit_transform(df_shop_info.city_name)"
   ]
  },
  {
   "cell_type": "code",
   "execution_count": 24,
   "metadata": {
    "collapsed": false
   },
   "outputs": [],
   "source": [
    "city_cnt = df_shop_info.city_name.value_counts()\n",
    "df_shop_info['city_cnt'] = city_cnt[df_shop_info.city_name].reset_index(drop=1)\n",
    "loc_cnt = df_shop_info.location_id.value_counts()\n",
    "df_shop_info['loc_cnt'] = loc_cnt[df_shop_info.location_id].reset_index(drop=1)"
   ]
  },
  {
   "cell_type": "code",
   "execution_count": 50,
   "metadata": {
    "collapsed": false
   },
   "outputs": [],
   "source": [
    "df_shop_info['cat1_id'] = LabelEncoder().fit_transform(df_shop_info.category_1)\n",
    "cat1_cnt = df_shop_info.cat1_id.value_counts()\n",
    "df_shop_info['cat1_cnt'] = cat1_cnt[df_shop_info.cat1_id].reset_index(drop=1)"
   ]
  },
  {
   "cell_type": "code",
   "execution_count": 54,
   "metadata": {
    "collapsed": false
   },
   "outputs": [],
   "source": [
    "df_shop_info['cat2_id'] = LabelEncoder().fit_transform(df_shop_info.category_2)\n",
    "cat2_cnt = df_shop_info.cat2_id.value_counts()\n",
    "df_shop_info['cat2_cnt'] = cat2_cnt[df_shop_info.cat2_id].reset_index(drop=1)"
   ]
  },
  {
   "cell_type": "code",
   "execution_count": 56,
   "metadata": {
    "collapsed": false
   },
   "outputs": [],
   "source": [
    "df_shop_info['cat3_id'] = LabelEncoder().fit_transform(df_shop_info.category_3)\n",
    "cat3_cnt = df_shop_info.cat3_id.value_counts()\n",
    "df_shop_info['cat3_cnt'] = cat3_cnt[df_shop_info.cat3_id].reset_index(drop=1)"
   ]
  },
  {
   "cell_type": "code",
   "execution_count": 62,
   "metadata": {
    "collapsed": false
   },
   "outputs": [],
   "source": [
    "df_shop_info = df_shop_info.drop(['shop_id', 'city_name', 'category_1', 'category_2', 'category_3'], axis=1)"
   ]
  },
  {
   "cell_type": "code",
   "execution_count": 63,
   "metadata": {
    "collapsed": false
   },
   "outputs": [],
   "source": [
    "df_pays = feather.read_dataframe('data/df_pays_na_test.feather')"
   ]
  },
  {
   "cell_type": "code",
   "execution_count": 74,
   "metadata": {
    "collapsed": false
   },
   "outputs": [
    {
     "name": "stderr",
     "output_type": "stream",
     "text": [
      "100%|██████████| 2000/2000 [00:07<00:00, 265.51it/s]\n"
     ]
    }
   ],
   "source": [
    "shops = df_pays.shop_id.unique()\n",
    "shops = sorted(shops)\n",
    "\n",
    "dfs = []\n",
    "\n",
    "for i in tqdm(shops):\n",
    "    df_shop = df_pays[df_pays.shop_id == i].reset_index(drop=1)\n",
    "    df_info = df_shop_info.iloc[df_shop.shop_id - 1].reset_index(drop=1)\n",
    "    df_shop = pd.concat([df_shop, df_info], axis=1)\n",
    "    dfs.append(df_shop)"
   ]
  },
  {
   "cell_type": "code",
   "execution_count": 75,
   "metadata": {
    "collapsed": true
   },
   "outputs": [],
   "source": [
    "truncated_dfs = []\n",
    "\n",
    "for df in dfs:\n",
    "    df = df.iloc[7 * 2 * 3:]\n",
    "    truncated_dfs.append(df)"
   ]
  },
  {
   "cell_type": "code",
   "execution_count": 76,
   "metadata": {
    "collapsed": true
   },
   "outputs": [],
   "source": [
    "df_features = pd.concat(truncated_dfs).reset_index(drop=1)"
   ]
  },
  {
   "cell_type": "code",
   "execution_count": 78,
   "metadata": {
    "collapsed": true
   },
   "outputs": [],
   "source": [
    "feather.write_dataframe(df_features, 'features/store_simple.feather')"
   ]
  },
  {
   "cell_type": "code",
   "execution_count": null,
   "metadata": {
    "collapsed": true
   },
   "outputs": [],
   "source": []
  }
 ],
 "metadata": {
  "anaconda-cloud": {},
  "kernelspec": {
   "display_name": "Python [conda root]",
   "language": "python",
   "name": "conda-root-py"
  },
  "language_info": {
   "codemirror_mode": {
    "name": "ipython",
    "version": 3
   },
   "file_extension": ".py",
   "mimetype": "text/x-python",
   "name": "python",
   "nbconvert_exporter": "python",
   "pygments_lexer": "ipython3",
   "version": "3.5.2"
  }
 },
 "nbformat": 4,
 "nbformat_minor": 1
}
