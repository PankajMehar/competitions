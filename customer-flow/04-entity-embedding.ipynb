{
 "cells": [
  {
   "cell_type": "code",
   "execution_count": 92,
   "metadata": {
    "collapsed": false
   },
   "outputs": [],
   "source": [
    "import keras"
   ]
  },
  {
   "cell_type": "code",
   "execution_count": 93,
   "metadata": {
    "collapsed": true
   },
   "outputs": [],
   "source": [
    "from keras.models import Sequential\n",
    "from keras.layers.core import Dense, Activation, Merge, Reshape\n",
    "from keras.layers.embeddings import Embedding\n",
    "from keras.callbacks import ModelCheckpoint\n",
    "from keras.optimizers import SGD"
   ]
  },
  {
   "cell_type": "code",
   "execution_count": 94,
   "metadata": {
    "collapsed": true
   },
   "outputs": [],
   "source": [
    "import pandas as pd\n",
    "import feather"
   ]
  },
  {
   "cell_type": "code",
   "execution_count": 95,
   "metadata": {
    "collapsed": true
   },
   "outputs": [],
   "source": [
    "df_shop_info = feather.read_dataframe('data/df_shop_info.feather')"
   ]
  },
  {
   "cell_type": "code",
   "execution_count": 96,
   "metadata": {
    "collapsed": true
   },
   "outputs": [],
   "source": [
    "from sklearn.preprocessing import LabelEncoder"
   ]
  },
  {
   "cell_type": "code",
   "execution_count": 97,
   "metadata": {
    "collapsed": false
   },
   "outputs": [],
   "source": [
    "df_shop_info = feather.read_dataframe('data/df_shop_info.feather')\n",
    "\n",
    "df_shop_info['city_name'] = LabelEncoder().fit_transform(df_shop_info.city_name)\n",
    "df_shop_info['category_1'] = LabelEncoder().fit_transform(df_shop_info.category_1)\n",
    "df_shop_info['category_2'] = LabelEncoder().fit_transform(df_shop_info.category_2)\n",
    "df_shop_info['category_3'] = LabelEncoder().fit_transform(df_shop_info.category_3)\n",
    "\n",
    "df_shop_info = df_shop_info[['city_name', 'location_id', 'category_1', 'category_2', 'category_3']]"
   ]
  },
  {
   "cell_type": "code",
   "execution_count": 99,
   "metadata": {
    "collapsed": false
   },
   "outputs": [
    {
     "name": "stdout",
     "output_type": "stream",
     "text": [
      "city_name 122\n",
      "location_id 1159\n",
      "category_1 6\n",
      "category_2 17\n",
      "category_3 44\n"
     ]
    }
   ],
   "source": [
    "for c in df_shop_info.columns:\n",
    "    print(c, df_shop_info[c].nunique())"
   ]
  },
  {
   "cell_type": "code",
   "execution_count": 100,
   "metadata": {
    "collapsed": true
   },
   "outputs": [],
   "source": [
    "df_pays = feather.read_dataframe('data/df_pays_na_test.feather')"
   ]
  },
  {
   "cell_type": "code",
   "execution_count": 103,
   "metadata": {
    "collapsed": false
   },
   "outputs": [],
   "source": [
    "df_pays_info = pd.concat([df_pays, df_shop_info.iloc[df_pays.shop_id - 1].reset_index(drop=1)], axis=1)"
   ]
  },
  {
   "cell_type": "code",
   "execution_count": 105,
   "metadata": {
    "collapsed": true
   },
   "outputs": [],
   "source": [
    "from outliers import remove_outliers"
   ]
  },
  {
   "cell_type": "code",
   "execution_count": 106,
   "metadata": {
    "collapsed": true
   },
   "outputs": [],
   "source": [
    "from tqdm import tqdm"
   ]
  },
  {
   "cell_type": "code",
   "execution_count": 107,
   "metadata": {
    "collapsed": false,
    "scrolled": true
   },
   "outputs": [
    {
     "name": "stderr",
     "output_type": "stream",
     "text": [
      "100%|██████████| 2000/2000 [00:16<00:00, 120.59it/s]\n"
     ]
    }
   ],
   "source": [
    "shops = df_pays.shop_id.unique()\n",
    "shops = sorted(shops)\n",
    "\n",
    "dfs = []\n",
    "\n",
    "for i in tqdm(shops):\n",
    "    df_shop = df_pays_info[df_pays_info.shop_id == i].reset_index(drop=1)\n",
    "    remove_outliers(df_shop)\n",
    "    df = df_shop.iloc[7 * 2 * 3:]\n",
    "    dfs.append(df)\n",
    "\n",
    "df_features = pd.concat(dfs).reset_index(drop=1)"
   ]
  },
  {
   "cell_type": "code",
   "execution_count": 108,
   "metadata": {
    "collapsed": false
   },
   "outputs": [],
   "source": [
    "df_all = df_features[df_features.biweek_id > 0].reset_index(drop=1)\n",
    "df_all = df_all[~df_all.pays_count.isnull()].reset_index(drop=1)"
   ]
  },
  {
   "cell_type": "code",
   "execution_count": 109,
   "metadata": {
    "collapsed": true
   },
   "outputs": [],
   "source": [
    "df_all.shop_id = df_all.shop_id - 1\n",
    "df_all.location_id = df_all.location_id - 1"
   ]
  },
  {
   "cell_type": "code",
   "execution_count": 110,
   "metadata": {
    "collapsed": true
   },
   "outputs": [],
   "source": [
    "feature_cols = ['dow', 'shop_id', 'location_id', 'city_name', 'category_1', 'category_2', 'category_3']"
   ]
  },
  {
   "cell_type": "code",
   "execution_count": 111,
   "metadata": {
    "collapsed": false
   },
   "outputs": [],
   "source": [
    "X = df_all[feature_cols].values"
   ]
  },
  {
   "cell_type": "code",
   "execution_count": 112,
   "metadata": {
    "collapsed": true
   },
   "outputs": [],
   "source": [
    "def prepare_train_data(X):\n",
    "    _, d = X.shape\n",
    "    res = []\n",
    "    for i in range(d):\n",
    "        res.append(X[:, [i]])\n",
    "    return res"
   ]
  },
  {
   "cell_type": "code",
   "execution_count": 113,
   "metadata": {
    "collapsed": true
   },
   "outputs": [],
   "source": [
    "X_l = prepare_train_data(X)"
   ]
  },
  {
   "cell_type": "code",
   "execution_count": 114,
   "metadata": {
    "collapsed": true
   },
   "outputs": [],
   "source": [
    "y = np.log1p(df_all.pays_count.values)"
   ]
  },
  {
   "cell_type": "code",
   "execution_count": 115,
   "metadata": {
    "collapsed": true
   },
   "outputs": [],
   "source": [
    "import numpy as np"
   ]
  },
  {
   "cell_type": "code",
   "execution_count": 116,
   "metadata": {
    "collapsed": false
   },
   "outputs": [],
   "source": [
    "import keras.backend as K\n",
    "\n",
    "def rmse(y_true, y_pred):\n",
    "    mse = (y_true - y_pred) ** 2\n",
    "    return K.mean(K.sqrt(mse))"
   ]
  },
  {
   "cell_type": "code",
   "execution_count": 117,
   "metadata": {
    "collapsed": false
   },
   "outputs": [],
   "source": [
    "models = []\n",
    "\n",
    "model_dow = Sequential()\n",
    "model_dow.add(Embedding(7, 6, input_length=1))\n",
    "model_dow.add(Reshape(target_shape=(6,)))\n",
    "models.append(model_dow)\n",
    "\n",
    "model_shop = Sequential()\n",
    "model_shop.add(Embedding(2000, 12, input_length=1))\n",
    "model_shop.add(Reshape(target_shape=(12,)))\n",
    "models.append(model_shop)\n",
    "\n",
    "model_loc = Sequential()\n",
    "model_loc.add(Embedding(1159, 10, input_length=1))\n",
    "model_loc.add(Reshape(target_shape=(10,)))\n",
    "models.append(model_loc)\n",
    "\n",
    "model_city = Sequential()\n",
    "model_city.add(Embedding(122, 8, input_length=1))\n",
    "model_city.add(Reshape(target_shape=(8,)))\n",
    "models.append(model_city)\n",
    "\n",
    "model_cat1 = Sequential()\n",
    "model_cat1.add(Embedding(6, 2, input_length=1))\n",
    "model_cat1.add(Reshape(target_shape=(2,)))\n",
    "models.append(model_cat1)\n",
    "\n",
    "model_cat2 = Sequential()\n",
    "model_cat2.add(Embedding(17, 3, input_length=1))\n",
    "model_cat2.add(Reshape(target_shape=(3,)))\n",
    "models.append(model_cat2)\n",
    "\n",
    "model_cat3 = Sequential()\n",
    "model_cat3.add(Embedding(44, 4, input_length=1))\n",
    "model_cat3.add(Reshape(target_shape=(4,)))\n",
    "models.append(model_cat3)\n",
    "\n",
    "model = Sequential()\n",
    "model.add(Merge(models, mode='concat'))\n",
    "\n",
    "model.add(Dense(1000, init='uniform'))\n",
    "model.add(Activation('relu'))\n",
    "\n",
    "model.add(Dense(500, init='uniform'))\n",
    "model.add(Activation('relu'))\n",
    "\n",
    "model.add(Dense(1))\n",
    "model.add(Activation('linear'))\n",
    "\n",
    "\n",
    "sgd = SGD(lr=0.001, decay=1e-6, momentum=0.9, nesterov=True)\n",
    "model.compile(loss='mean_squared_error', metrics=[rmse],  optimizer=sgd)"
   ]
  },
  {
   "cell_type": "code",
   "execution_count": 118,
   "metadata": {
    "collapsed": false,
    "scrolled": true
   },
   "outputs": [
    {
     "name": "stdout",
     "output_type": "stream",
     "text": [
      "Train on 461408 samples, validate on 51268 samples\n",
      "Epoch 1/10\n",
      "461408/461408 [==============================] - 24s - loss: 3.0350 - rmse: 1.1633 - val_loss: 0.7000 - val_rmse: 0.6276\n",
      "Epoch 2/10\n",
      "461408/461408 [==============================] - 16s - loss: 0.5906 - rmse: 0.5744 - val_loss: 0.6975 - val_rmse: 0.6268\n",
      "Epoch 3/10\n",
      "461408/461408 [==============================] - 16s - loss: 0.5876 - rmse: 0.5731 - val_loss: 0.6942 - val_rmse: 0.6258\n",
      "Epoch 4/10\n",
      "461408/461408 [==============================] - 16s - loss: 0.5831 - rmse: 0.5712 - val_loss: 0.6883 - val_rmse: 0.6239\n",
      "Epoch 5/10\n",
      "461408/461408 [==============================] - 17s - loss: 0.5764 - rmse: 0.5685 - val_loss: 0.6819 - val_rmse: 0.6225\n",
      "Epoch 6/10\n",
      "461408/461408 [==============================] - 16s - loss: 0.5677 - rmse: 0.5650 - val_loss: 0.6735 - val_rmse: 0.6204\n",
      "Epoch 7/10\n",
      "461408/461408 [==============================] - 17s - loss: 0.5582 - rmse: 0.5614 - val_loss: 0.6643 - val_rmse: 0.6177\n",
      "Epoch 8/10\n",
      "461408/461408 [==============================] - 17s - loss: 0.5496 - rmse: 0.5585 - val_loss: 0.6570 - val_rmse: 0.6156\n",
      "Epoch 9/10\n",
      "461408/461408 [==============================] - 17s - loss: 0.5429 - rmse: 0.5563 - val_loss: 0.6510 - val_rmse: 0.6133\n",
      "Epoch 10/10\n",
      "461408/461408 [==============================] - 17s - loss: 0.5381 - rmse: 0.5548 - val_loss: 0.6464 - val_rmse: 0.6110\n"
     ]
    },
    {
     "data": {
      "text/plain": [
       "<keras.callbacks.History at 0x7f0981538588>"
      ]
     },
     "execution_count": 118,
     "metadata": {},
     "output_type": "execute_result"
    }
   ],
   "source": [
    "model.fit(X_l, y, batch_size=4000, validation_split=0.1)"
   ]
  },
  {
   "cell_type": "code",
   "execution_count": 119,
   "metadata": {
    "collapsed": false
   },
   "outputs": [],
   "source": [
    "p = model.predict(X_l)"
   ]
  },
  {
   "cell_type": "code",
   "execution_count": 41,
   "metadata": {
    "collapsed": true
   },
   "outputs": [],
   "source": [
    "import seaborn as sns\n",
    "%matplotlib inline"
   ]
  },
  {
   "cell_type": "code",
   "execution_count": 44,
   "metadata": {
    "collapsed": true
   },
   "outputs": [],
   "source": [
    "import matplotlib.pyplot as plt"
   ]
  },
  {
   "cell_type": "code",
   "execution_count": 120,
   "metadata": {
    "collapsed": false,
    "scrolled": false
   },
   "outputs": [
    {
     "name": "stderr",
     "output_type": "stream",
     "text": [
      "/home/agrigorev/anaconda3/lib/python3.5/site-packages/statsmodels/nonparametric/kdetools.py:20: VisibleDeprecationWarning: using a non-integer number instead of an integer will result in an error in the future\n",
      "  y = X[:m/2+1] + np.r_[0,X[m/2+1:],0]*1j\n"
     ]
    },
    {
     "data": {
      "text/plain": [
       "<matplotlib.axes._subplots.AxesSubplot at 0x7f098140be80>"
      ]
     },
     "execution_count": 120,
     "metadata": {},
     "output_type": "execute_result"
    },
    {
     "data": {
      "image/png": "[encoded data removed]",
      "text/plain": [
       "<matplotlib.figure.Figure at 0x7f0981438a58>"
      ]
     },
     "metadata": {},
     "output_type": "display_data"
    }
   ],
   "source": [
    "sns.distplot(p[:, 0])\n",
    "#sns.distplot(y)"
   ]
  },
  {
   "cell_type": "code",
   "execution_count": 128,
   "metadata": {
    "collapsed": false,
    "scrolled": false
   },
   "outputs": [
    {
     "name": "stderr",
     "output_type": "stream",
     "text": [
      "/home/agrigorev/anaconda3/lib/python3.5/site-packages/statsmodels/nonparametric/kdetools.py:20: VisibleDeprecationWarning: using a non-integer number instead of an integer will result in an error in the future\n",
      "  y = X[:m/2+1] + np.r_[0,X[m/2+1:],0]*1j\n"
     ]
    },
    {
     "data": {
      "text/plain": [
       "<matplotlib.axes._subplots.AxesSubplot at 0x7f09c19b65f8>"
      ]
     },
     "execution_count": 128,
     "metadata": {},
     "output_type": "execute_result"
    },
    {
     "data": {
      "image/png": "[encoded data removed]",
      "text/plain": [
       "<matplotlib.figure.Figure at 0x7f09812302b0>"
      ]
     },
     "metadata": {},
     "output_type": "display_data"
    }
   ],
   "source": [
    "#sns.distplot(p[:, 0])\n",
    "sns.distplot(y)"
   ]
  },
  {
   "cell_type": "code",
   "execution_count": 122,
   "metadata": {
    "collapsed": false
   },
   "outputs": [],
   "source": [
    "embedding = {c: m.get_weights()[0] for (c, m) in zip(feature_cols, models)}"
   ]
  },
  {
   "cell_type": "code",
   "execution_count": 123,
   "metadata": {
    "collapsed": false
   },
   "outputs": [],
   "source": [
    "df_features.shop_id = df_features.shop_id - 1 \n",
    "df_features.location_id = df_features.location_id - 1"
   ]
  },
  {
   "cell_type": "code",
   "execution_count": 124,
   "metadata": {
    "collapsed": true
   },
   "outputs": [],
   "source": [
    "for c in feature_cols:\n",
    "    W = embedding[c]\n",
    "    idx = df_features[c].values\n",
    "    data = W[idx, :]\n",
    "    \n",
    "    _, d = data.shape\n",
    "    \n",
    "    for i in range(d):\n",
    "        df_features['%s_%d' % (c, i)] = data[:, i]\n",
    "    \n",
    "    if c not in ['dow', 'shop_id']:\n",
    "        del df_features[c]"
   ]
  },
  {
   "cell_type": "code",
   "execution_count": 125,
   "metadata": {
    "collapsed": true
   },
   "outputs": [],
   "source": [
    "df_features.shop_id = df_features.shop_id + 1 "
   ]
  },
  {
   "cell_type": "code",
   "execution_count": 126,
   "metadata": {
    "collapsed": false
   },
   "outputs": [
    {
     "data": {
      "text/plain": [
       "581010"
      ]
     },
     "execution_count": 126,
     "metadata": {},
     "output_type": "execute_result"
    }
   ],
   "source": [
    "len(df_features)"
   ]
  },
  {
   "cell_type": "code",
   "execution_count": 127,
   "metadata": {
    "collapsed": false
   },
   "outputs": [],
   "source": [
    "feather.write_dataframe(df_features, 'features/entity_embedding.feather')"
   ]
  },
  {
   "cell_type": "code",
   "execution_count": null,
   "metadata": {
    "collapsed": true
   },
   "outputs": [],
   "source": []
  }
 ],
 "metadata": {
  "anaconda-cloud": {},
  "kernelspec": {
   "display_name": "Python [conda root]",
   "language": "python",
   "name": "conda-root-py"
  },
  "language_info": {
   "codemirror_mode": {
    "name": "ipython",
    "version": 3
   },
   "file_extension": ".py",
   "mimetype": "text/x-python",
   "name": "python",
   "nbconvert_exporter": "python",
   "pygments_lexer": "ipython3",
   "version": "3.5.2"
  }
 },
 "nbformat": 4,
 "nbformat_minor": 1
}
