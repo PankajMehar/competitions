{
 "cells": [
  {
   "cell_type": "code",
   "execution_count": 1,
   "metadata": {
    "collapsed": true
   },
   "outputs": [],
   "source": [
    "import pandas as pd\n",
    "import numpy as np\n",
    "import feather\n",
    "\n",
    "from tqdm import tqdm"
   ]
  },
  {
   "cell_type": "code",
   "execution_count": 2,
   "metadata": {
    "collapsed": true
   },
   "outputs": [],
   "source": [
    "from outliers import remove_outliers"
   ]
  },
  {
   "cell_type": "code",
   "execution_count": 3,
   "metadata": {
    "collapsed": true
   },
   "outputs": [],
   "source": [
    "df_pays = feather.read_dataframe('data/df_pays_na_test.feather')"
   ]
  },
  {
   "cell_type": "code",
   "execution_count": 4,
   "metadata": {
    "collapsed": false
   },
   "outputs": [],
   "source": [
    "shops = df_pays.shop_id.unique()\n",
    "shops = sorted(shops)"
   ]
  },
  {
   "cell_type": "code",
   "execution_count": 155,
   "metadata": {
    "collapsed": true
   },
   "outputs": [],
   "source": [
    "df_shop = df_pays[df_pays.shop_id == 1].reset_index(drop=1)\n",
    "remove_outliers(df_shop)"
   ]
  },
  {
   "cell_type": "code",
   "execution_count": 24,
   "metadata": {
    "collapsed": true
   },
   "outputs": [],
   "source": [
    "%matplotlib inline\n",
    "import seaborn as sns\n",
    "import matplotlib.pyplot as plt"
   ]
  },
  {
   "cell_type": "code",
   "execution_count": 56,
   "metadata": {
    "collapsed": true
   },
   "outputs": [],
   "source": [
    "def smooth_one(df_shop, a):\n",
    "    y = np.array(list(df_shop.pays_count))\n",
    "    s = np.zeros_like(y)\n",
    "\n",
    "    s[0] = y[0]\n",
    "\n",
    "    for i in range(1, len(s)):\n",
    "        if np.isnan(y[i]):\n",
    "            y[i] = s[i - 1]\n",
    "        s[i] = a * y[i] + (1 - a) * s[i - 1]\n",
    "\n",
    "    return s"
   ]
  },
  {
   "cell_type": "code",
   "execution_count": 107,
   "metadata": {
    "collapsed": true
   },
   "outputs": [],
   "source": [
    "def smooth_two_additive(df_shop, alpha, beta):\n",
    "    y = np.array(list(df_shop.pays_count))\n",
    "\n",
    "    l = np.zeros_like(y)\n",
    "    t = np.zeros_like(y)\n",
    "\n",
    "    s = np.zeros_like(y)\n",
    "    \n",
    "    s[0] = y[0]\n",
    "    t[0] = y[1] - y[0]\n",
    "\n",
    "    for i in range(1, len(s)):\n",
    "        if np.isnan(y[i]):\n",
    "            y[i] = s[i - 1]\n",
    "\n",
    "        l[i] = alpha * y[i] + (1 - alpha) * s[i - 1]\n",
    "        t[i] = beta * (l[i] - l[i - 1]) + (1 - beta) * t[i - 1]\n",
    "        s[i] = l[i] + t[i]\n",
    "\n",
    "    return l, t"
   ]
  },
  {
   "cell_type": "code",
   "execution_count": 128,
   "metadata": {
    "collapsed": true
   },
   "outputs": [],
   "source": [
    "def smooth_two_mult(df_shop, alpha, beta):\n",
    "    y = np.array(list(df_shop.pays_count))\n",
    "\n",
    "    l = np.zeros_like(y)\n",
    "    t = np.zeros_like(y)\n",
    "\n",
    "    s = np.zeros_like(y)\n",
    "    \n",
    "    s[0] = y[0]\n",
    "    t[0] = y[0] / y[1]\n",
    "\n",
    "    for i in range(1, len(s)):\n",
    "        if np.isnan(y[i]):\n",
    "            y[i] = s[i - 1]\n",
    "\n",
    "        l[i] = alpha * y[i] + (1 - alpha) * s[i - 1]\n",
    "        t[i] = beta * (l[i - 1] / l[i]) + (1 - beta) * t[i - 1]\n",
    "        s[i] = l[i] + t[i]\n",
    "\n",
    "    return l, t"
   ]
  },
  {
   "cell_type": "code",
   "execution_count": 139,
   "metadata": {
    "collapsed": true
   },
   "outputs": [],
   "source": [
    "y = np.array(list(df_shop.pays_count))"
   ]
  },
  {
   "cell_type": "code",
   "execution_count": 188,
   "metadata": {
    "collapsed": false
   },
   "outputs": [],
   "source": [
    "def calc_base_smooth_2(df_shop, alpha, beta, func, name):\n",
    "    l, t = func(df_shop, alpha, beta)\n",
    "\n",
    "    df_shop[name + '_level'] = l\n",
    "    df_shop[name + '_trend'] = t\n",
    "    df_shop[name + '_sum'] = l + t\n",
    "\n",
    "    df_shop[name + '_level'] = df_shop[name + '_level'].shift(14)\n",
    "    df_shop[name + '_trend'] = df_shop[name + '_trend'].shift(14)\n",
    "    df_shop[name + '_sum'] = df_shop[name + '_sum'].shift(14)\n",
    "\n",
    "\n",
    "def add_exp_smoothing_features(df_shop):\n",
    "    idx = [(df_shop.dow == i) for i in range(0, 7)]\n",
    "\n",
    "    for a in [0.2, 0.5, 0.8]:\n",
    "        name = 'exp_smoothing_1_0%d' % (int(10 * a))\n",
    "        df_shop[name] = smooth_one(df_shop, a=a)\n",
    "        df_shop[name] = df_shop[name].shift(14)\n",
    "\n",
    "        name = 'exp_smoothing_1_0%d_dow' % (int(10 * a))\n",
    "        df_shop[name] = np.nan\n",
    "\n",
    "        for i in range(0, 7):\n",
    "            df_part = df_shop[idx[i]]\n",
    "            df_shop.loc[idx[i], name] = smooth_one(df_part, a=a)\n",
    "\n",
    "        df_shop[name] = df_shop[name].shift(14)\n",
    "\n",
    "        for b in [0.2, 0.5, 0.8]:\n",
    "            name = 'exp_smoothing_2_add_0%d_0%d' % (int(a * 10), int(b * 10))\n",
    "            calc_base_smooth_2(df_shop, a, b, smooth_two_additive, name)\n",
    "\n",
    "            name = 'exp_smoothing_2_mult_0%d_0%d' % (int(a * 10), int(b * 10))\n",
    "            calc_base_smooth_2(df_shop, a, b, smooth_two_mult, name)\n",
    "\n"
   ]
  },
  {
   "cell_type": "code",
   "execution_count": 189,
   "metadata": {
    "collapsed": false
   },
   "outputs": [
    {
     "name": "stderr",
     "output_type": "stream",
     "text": [
      "100%|██████████| 2000/2000 [03:44<00:00,  8.92it/s]\n"
     ]
    }
   ],
   "source": [
    "dfs = []\n",
    "\n",
    "for i in tqdm(shops):\n",
    "    df_shop = df_pays[df_pays.shop_id == i].reset_index(drop=1)\n",
    "    remove_outliers(df_shop)\n",
    "    add_exp_smoothing_features(df_shop)\n",
    "    dfs.append(df_shop)"
   ]
  },
  {
   "cell_type": "code",
   "execution_count": 190,
   "metadata": {
    "collapsed": true
   },
   "outputs": [],
   "source": [
    "truncated_dfs = []\n",
    "\n",
    "for df in dfs:\n",
    "    df = df.iloc[7 * 2 * 3:]\n",
    "    truncated_dfs.append(df)"
   ]
  },
  {
   "cell_type": "code",
   "execution_count": 191,
   "metadata": {
    "collapsed": true
   },
   "outputs": [],
   "source": [
    "df_features = pd.concat(truncated_dfs).reset_index(drop=1)"
   ]
  },
  {
   "cell_type": "code",
   "execution_count": 192,
   "metadata": {
    "collapsed": true
   },
   "outputs": [],
   "source": [
    "feather.write_dataframe(df_features, 'features/exp_smoothing_simple.feather')"
   ]
  },
  {
   "cell_type": "code",
   "execution_count": null,
   "metadata": {
    "collapsed": true
   },
   "outputs": [],
   "source": []
  }
 ],
 "metadata": {
  "anaconda-cloud": {},
  "kernelspec": {
   "display_name": "Python [conda root]",
   "language": "python",
   "name": "conda-root-py"
  },
  "language_info": {
   "codemirror_mode": {
    "name": "ipython",
    "version": 3
   },
   "file_extension": ".py",
   "mimetype": "text/x-python",
   "name": "python",
   "nbconvert_exporter": "python",
   "pygments_lexer": "ipython3",
   "version": "3.5.2"
  }
 },
 "nbformat": 4,
 "nbformat_minor": 1
}
