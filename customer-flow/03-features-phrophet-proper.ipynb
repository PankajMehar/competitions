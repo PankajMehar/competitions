{
 "cells": [
  {
   "cell_type": "code",
   "execution_count": 1,
   "metadata": {
    "collapsed": true
   },
   "outputs": [],
   "source": [
    "import pandas as pd\n",
    "import numpy as np\n",
    "import feather\n",
    "\n",
    "from tqdm import tqdm"
   ]
  },
  {
   "cell_type": "code",
   "execution_count": 2,
   "metadata": {
    "collapsed": true
   },
   "outputs": [],
   "source": [
    "from outliers import remove_outliers"
   ]
  },
  {
   "cell_type": "code",
   "execution_count": 3,
   "metadata": {
    "collapsed": true
   },
   "outputs": [],
   "source": [
    "df_pays = feather.read_dataframe('data/df_pays_na_test.feather')"
   ]
  },
  {
   "cell_type": "code",
   "execution_count": 4,
   "metadata": {
    "collapsed": false
   },
   "outputs": [],
   "source": [
    "shops = df_pays.shop_id.unique()\n",
    "shops = sorted(shops)"
   ]
  },
  {
   "cell_type": "code",
   "execution_count": 5,
   "metadata": {
    "collapsed": true
   },
   "outputs": [],
   "source": [
    "from fbprophet import Prophet"
   ]
  },
  {
   "cell_type": "code",
   "execution_count": 7,
   "metadata": {
    "collapsed": true
   },
   "outputs": [],
   "source": [
    "def add_prophet_features(df_shop):\n",
    "    df = df_shop[['day', 'pays_count']].rename(columns={'day': 'ds', 'pays_count': 'y'})\n",
    "\n",
    "    results = []\n",
    "    biweek_max = df_shop.biweek_id.max()\n",
    "\n",
    "    for m in range(biweek_max - 1, 0, -1):\n",
    "        train_idx = df_shop.biweek_id >= m\n",
    "        df_train = df[train_idx]\n",
    "\n",
    "        not_null = ~df_train.y.isnull()\n",
    "        if not_null.sum() < 7:\n",
    "            continue\n",
    "\n",
    "        p = Prophet().fit(df_train)\n",
    "        future = p.make_future_dataframe(14, include_history=False)\n",
    "        pred = p.predict(future)\n",
    "        results.append(pred)\n",
    "\n",
    "    df_res = pd.concat(results)\n",
    "    df_res.columns = ['prophet_%s' % c for c in pred.columns]\n",
    "\n",
    "    df_res = df_shop.merge(df_res, how='left', left_on='day', right_on='prophet_ds')\n",
    "    del df_res['prophet_t'], df_res['prophet_ds']\n",
    "    \n",
    "    df_res.drop_duplicates('days_from_beginning', keep='last', inplace=1)\n",
    "\n",
    "    if len(df_res) != len(df_shop):\n",
    "        raise Exception(\"size doesn't match\")\n",
    "\n",
    "    return df_res"
   ]
  },
  {
   "cell_type": "code",
   "execution_count": 9,
   "metadata": {
    "collapsed": false
   },
   "outputs": [],
   "source": [
    "df_shop = df_pays[df_pays.shop_id == 1].reset_index(drop=1)\n",
    "remove_outliers(df_shop)\n",
    "df_shop = add_prophet_features(df_shop)"
   ]
  },
  {
   "cell_type": "code",
   "execution_count": 7,
   "metadata": {
    "collapsed": false
   },
   "outputs": [
    {
     "name": "stderr",
     "output_type": "stream",
     "text": [
      "100%|██████████| 2000/2000 [1:06:42<00:00,  1.92s/it]\n"
     ]
    }
   ],
   "source": [
    "dfs = []\n",
    "\n",
    "for i in tqdm(shops):\n",
    "    df_shop = df_pays[df_pays.shop_id == i].reset_index(drop=1)\n",
    "    remove_outliers(df_shop)\n",
    "\n",
    "    df_shop = add_prophet_features(df_shop)\n",
    "    dfs.append(df_shop)"
   ]
  },
  {
   "cell_type": "code",
   "execution_count": 8,
   "metadata": {
    "collapsed": true
   },
   "outputs": [],
   "source": [
    "truncated_dfs = []\n",
    "\n",
    "for df in dfs:\n",
    "    df = df.iloc[7 * 2 * 3:]\n",
    "    truncated_dfs.append(df)"
   ]
  },
  {
   "cell_type": "code",
   "execution_count": 9,
   "metadata": {
    "collapsed": true
   },
   "outputs": [],
   "source": [
    "df_features = pd.concat(truncated_dfs).reset_index(drop=1)"
   ]
  },
  {
   "cell_type": "code",
   "execution_count": 12,
   "metadata": {
    "collapsed": false
   },
   "outputs": [
    {
     "data": {
      "text/plain": [
       "581010"
      ]
     },
     "execution_count": 12,
     "metadata": {},
     "output_type": "execute_result"
    }
   ],
   "source": [
    "len(df_features)"
   ]
  },
  {
   "cell_type": "code",
   "execution_count": 11,
   "metadata": {
    "collapsed": true
   },
   "outputs": [],
   "source": [
    "feather.write_dataframe(df_features, 'features/prophet_features_proper.feather')"
   ]
  }
 ],
 "metadata": {
  "anaconda-cloud": {},
  "kernelspec": {
   "display_name": "Python [conda root]",
   "language": "python",
   "name": "conda-root-py"
  },
  "language_info": {
   "codemirror_mode": {
    "name": "ipython",
    "version": 3
   },
   "file_extension": ".py",
   "mimetype": "text/x-python",
   "name": "python",
   "nbconvert_exporter": "python",
   "pygments_lexer": "ipython3",
   "version": "3.5.2"
  }
 },
 "nbformat": 4,
 "nbformat_minor": 1
}
