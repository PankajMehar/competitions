{
 "cells": [
  {
   "cell_type": "code",
   "execution_count": 2,
   "metadata": {
    "collapsed": true
   },
   "outputs": [],
   "source": [
    "import feather\n",
    "import pandas as pd\n",
    "from tqdm import tqdm\n",
    "\n",
    "from sklearn.preprocessing import LabelEncoder"
   ]
  },
  {
   "cell_type": "code",
   "execution_count": 60,
   "metadata": {
    "collapsed": true
   },
   "outputs": [],
   "source": [
    "from outliers import remove_outliers\n",
    "from feature_gen import add_trend_features, add_penultimate_week\n",
    "from feature_gen import add_window_trend_features, add_last_features\n",
    "\n",
    "from feature_gen import add_window_mean_overall_features\n",
    "from feature_gen import add_window_mean_dow_features\n",
    "from feature_gen import add_window_mean_weekend_features"
   ]
  },
  {
   "cell_type": "code",
   "execution_count": 4,
   "metadata": {
    "collapsed": false
   },
   "outputs": [],
   "source": [
    "df_shop_info = feather.read_dataframe('data/df_shop_info.feather')\n",
    "\n",
    "df_shop_info['city_name'] = LabelEncoder().fit_transform(df_shop_info.city_name)\n",
    "df_shop_info['category_1'] = LabelEncoder().fit_transform(df_shop_info.category_1)\n",
    "df_shop_info['category_2'] = LabelEncoder().fit_transform(df_shop_info.category_2)\n",
    "df_shop_info['category_3'] = LabelEncoder().fit_transform(df_shop_info.category_3)\n",
    "\n",
    "df_shop_info = df_shop_info[['city_name', 'location_id', 'category_1', 'category_2', 'category_3']]"
   ]
  },
  {
   "cell_type": "code",
   "execution_count": 11,
   "metadata": {
    "collapsed": false
   },
   "outputs": [],
   "source": [
    "df_pays = feather.read_dataframe('data/df_pays_na_test.feather')"
   ]
  },
  {
   "cell_type": "code",
   "execution_count": 15,
   "metadata": {
    "collapsed": false
   },
   "outputs": [],
   "source": [
    "df_shop_info = df_shop_info.iloc[df_pays.shop_id - 1].reset_index(drop=1)"
   ]
  },
  {
   "cell_type": "code",
   "execution_count": 17,
   "metadata": {
    "collapsed": false
   },
   "outputs": [],
   "source": [
    "df_pays = pd.concat([df_pays, df_shop_info], axis=1)"
   ]
  },
  {
   "cell_type": "code",
   "execution_count": 51,
   "metadata": {
    "collapsed": false
   },
   "outputs": [],
   "source": [
    "def group_mean(group):\n",
    "    mean = df_pays.groupby([group, 'day']).pays_count.mean().reset_index()\n",
    "    mean.rename(columns={'pays_count': 'pays_count_%s_mean' % group}, inplace=1)\n",
    "    return mean"
   ]
  },
  {
   "cell_type": "code",
   "execution_count": 52,
   "metadata": {
    "collapsed": false
   },
   "outputs": [],
   "source": [
    "df_res = df_pays\n",
    "\n",
    "for c in ['city_name', 'location_id', 'category_1', 'category_2', 'category_3']:\n",
    "    df_group_mean = group_mean(c)\n",
    "    df_res = df_res.merge(df_group_mean, how='left')"
   ]
  },
  {
   "cell_type": "code",
   "execution_count": 56,
   "metadata": {
    "collapsed": false
   },
   "outputs": [],
   "source": [
    "df_res.drop(['city_name', 'location_id', 'category_1', 'category_2', 'category_3'], axis=1, inplace=1)"
   ]
  },
  {
   "cell_type": "code",
   "execution_count": 72,
   "metadata": {
    "collapsed": false
   },
   "outputs": [],
   "source": [
    "targets = ['pays_count_city_name_mean', 'pays_count_location_id_mean', \n",
    "           'pays_count_category_1_mean', 'pays_count_category_2_mean',\n",
    "           'pays_count_category_3_mean']\n",
    "new_cols = ['penultimate', 'penultimate_null', 'pays_two_weeks_ago',\n",
    "       'second_in_biweek', 'trend_overall', 'trend_overall_coeff',\n",
    "       'trend_overall_dow', 'trend_overall_dow_coeff', 'trend_overall_weekend',\n",
    "       'trend_overall_weekend_coeff', 'trend_2', 'trend_coef_2', 'trend_3',\n",
    "       'trend_coef_3', 'trend_4', 'trend_coef_4', 'trend_5', 'trend_coef_5',\n",
    "       'trend_6', 'trend_coef_6', 'trend_12', 'trend_coef_12', 'trend_18',\n",
    "       'trend_coef_18', 'trend_dow_3', 'trend_dow_coef_3', 'trend_dow_4',\n",
    "       'trend_dow_coef_4', 'trend_dow_5', 'trend_dow_coef_5', 'trend_dow_6',\n",
    "       'trend_dow_coef_6', 'trend_dow_12', 'trend_dow_coef_12', 'trend_dow_18',\n",
    "       'trend_dow_coef_18', 'trend_weekend_3', 'trend_weekend_coef_3',\n",
    "       'trend_weekend_4', 'trend_weekend_coef_4', 'trend_weekend_5',\n",
    "       'trend_weekend_coef_5', 'trend_weekend_6', 'trend_weekend_coef_6',\n",
    "       'trend_weekend_12', 'trend_weekend_coef_12', 'trend_weekend_18',\n",
    "       'trend_weekend_coef_18', 'mean_1', 'std_1', 'mean_2', 'std_2', 'mean_3',\n",
    "       'std_3', 'dow_mean_2', 'dow_std_2', 'dow_mean_3', 'dow_std_3',\n",
    "       'weekend_mean_2', 'weekend_std_2', 'weekend_mean_3', 'weekend_std_3',\n",
    "       'prev_biweek_last_value', 'prev_biweek_p25', 'prev_biweek_p75',\n",
    "       'prev_spread']"
   ]
  },
  {
   "cell_type": "code",
   "execution_count": null,
   "metadata": {
    "collapsed": false,
    "scrolled": true
   },
   "outputs": [
    {
     "name": "stderr",
     "output_type": "stream",
     "text": [
      "100%|██████████| 2000/2000 [30:24:26<00:00, 44.50s/it]\n"
     ]
    }
   ],
   "source": [
    "shops = df_pays.shop_id.unique()\n",
    "shops = sorted(shops)\n",
    "\n",
    "dfs = []\n",
    "\n",
    "for i in tqdm(shops):\n",
    "    df_shop = df_res[df_res.shop_id == i].reset_index(drop=1)\n",
    "\n",
    "    for t in targets:\n",
    "        remove_outliers(df_shop, target=t)\n",
    "        add_penultimate_week(df_shop, target=t)\n",
    "        add_trend_features(df_shop, target=t)\n",
    "        add_window_trend_features(df_shop, target=t)\n",
    "        add_window_mean_overall_features(df_shop, past_biweeks_list=[1, 2, 3], target=t)\n",
    "        add_window_mean_dow_features(df_shop, past_biweeks_list=[2, 3], target=t)\n",
    "        add_window_mean_weekend_features(df_shop, past_biweeks_list=[2, 3], target=t)\n",
    "        add_last_features(df_shop, target=t)\n",
    "\n",
    "        ren_dict = {c: '%s_%s' % (t, c) for c in new_cols}\n",
    "        df_shop.rename(columns=ren_dict, inplace=1)\n",
    "\n",
    "    df_shop.drop(targets, axis=1, inplace=1)\n",
    "\n",
    "    dfs.append(df_shop)\n",
    "    #break"
   ]
  },
  {
   "cell_type": "code",
   "execution_count": null,
   "metadata": {
    "collapsed": false
   },
   "outputs": [],
   "source": [
    "''"
   ]
  },
  {
   "cell_type": "code",
   "execution_count": 82,
   "metadata": {
    "collapsed": true
   },
   "outputs": [],
   "source": [
    "truncated_dfs = []\n",
    "\n",
    "for df in dfs:\n",
    "    df = df.iloc[7 * 2 * 3:]\n",
    "    truncated_dfs.append(df)\n",
    "\n",
    "df_features = pd.concat(truncated_dfs).reset_index(drop=1)"
   ]
  },
  {
   "cell_type": "code",
   "execution_count": null,
   "metadata": {
    "collapsed": true
   },
   "outputs": [],
   "source": []
  },
  {
   "cell_type": "code",
   "execution_count": null,
   "metadata": {
    "collapsed": true
   },
   "outputs": [],
   "source": [
    "feather.write_dataframe(df_features, 'features/store_series.feather')"
   ]
  },
  {
   "cell_type": "code",
   "execution_count": null,
   "metadata": {
    "collapsed": true
   },
   "outputs": [],
   "source": []
  }
 ],
 "metadata": {
  "anaconda-cloud": {},
  "kernelspec": {
   "display_name": "Python [conda root]",
   "language": "python",
   "name": "conda-root-py"
  },
  "language_info": {
   "codemirror_mode": {
    "name": "ipython",
    "version": 3
   },
   "file_extension": ".py",
   "mimetype": "text/x-python",
   "name": "python",
   "nbconvert_exporter": "python",
   "pygments_lexer": "ipython3",
   "version": "3.5.2"
  }
 },
 "nbformat": 4,
 "nbformat_minor": 1
}
