{
 "cells": [
  {
   "cell_type": "code",
   "execution_count": 27,
   "metadata": {
    "collapsed": true
   },
   "outputs": [],
   "source": [
    "import pandas as pd\n",
    "import numpy as np"
   ]
  },
  {
   "cell_type": "code",
   "execution_count": 2,
   "metadata": {
    "collapsed": false
   },
   "outputs": [
    {
     "name": "stdout",
     "output_type": "stream",
     "text": [
      "1,湖州,885,8,4,12,2,美食,休闲茶饮,饮品/甜点\r\n",
      "2,哈尔滨,64,19,,,1,超市便利店,超市,\r\n",
      "3,南昌,774,5,3,2,0,美食,休闲茶饮,奶茶\r\n",
      "4,天津,380,18,,,1,超市便利店,超市,\r\n",
      "5,杭州,263,2,2,2,0,美食,休闲食品,生鲜水果\r\n",
      "6,大连,1139,13,3,1,0,美食,烘焙糕点,面包\r\n",
      "7,绍兴,145,13,3,9,2,美食,快餐,西式快餐\r\n",
      "8,杭州,234,16,3,1,0,美食,休闲食品,生鲜水果\r\n",
      "9,杭州,1120,15,4,0,1,超市便利店,超市,\r\n",
      "10,孝感,98,10,,,0,超市便利店,超市,\r\n"
     ]
    }
   ],
   "source": [
    "!head data/shop_info.txt"
   ]
  },
  {
   "cell_type": "code",
   "execution_count": 18,
   "metadata": {
    "collapsed": false
   },
   "outputs": [
    {
     "data": {
      "text/html": [
       "<div>\n",
       "<table border=\"1\" class=\"dataframe\">\n",
       "  <thead>\n",
       "    <tr style=\"text-align: right;\">\n",
       "      <th></th>\n",
       "      <th>shop_id</th>\n",
       "      <th>city_name</th>\n",
       "      <th>location_id</th>\n",
       "      <th>avg_pay</th>\n",
       "      <th>user_score</th>\n",
       "      <th>user_comment_cnt</th>\n",
       "      <th>shop_level</th>\n",
       "      <th>category_1</th>\n",
       "      <th>category_2</th>\n",
       "      <th>category_3</th>\n",
       "    </tr>\n",
       "  </thead>\n",
       "  <tbody>\n",
       "    <tr>\n",
       "      <th>0</th>\n",
       "      <td>1</td>\n",
       "      <td>湖州</td>\n",
       "      <td>885</td>\n",
       "      <td>8</td>\n",
       "      <td>4.0</td>\n",
       "      <td>12.0</td>\n",
       "      <td>2</td>\n",
       "      <td>美食</td>\n",
       "      <td>休闲茶饮</td>\n",
       "      <td>饮品/甜点</td>\n",
       "    </tr>\n",
       "    <tr>\n",
       "      <th>1</th>\n",
       "      <td>2</td>\n",
       "      <td>哈尔滨</td>\n",
       "      <td>64</td>\n",
       "      <td>19</td>\n",
       "      <td>NaN</td>\n",
       "      <td>NaN</td>\n",
       "      <td>1</td>\n",
       "      <td>超市便利店</td>\n",
       "      <td>超市</td>\n",
       "      <td>NaN</td>\n",
       "    </tr>\n",
       "    <tr>\n",
       "      <th>2</th>\n",
       "      <td>3</td>\n",
       "      <td>南昌</td>\n",
       "      <td>774</td>\n",
       "      <td>5</td>\n",
       "      <td>3.0</td>\n",
       "      <td>2.0</td>\n",
       "      <td>0</td>\n",
       "      <td>美食</td>\n",
       "      <td>休闲茶饮</td>\n",
       "      <td>奶茶</td>\n",
       "    </tr>\n",
       "    <tr>\n",
       "      <th>3</th>\n",
       "      <td>4</td>\n",
       "      <td>天津</td>\n",
       "      <td>380</td>\n",
       "      <td>18</td>\n",
       "      <td>NaN</td>\n",
       "      <td>NaN</td>\n",
       "      <td>1</td>\n",
       "      <td>超市便利店</td>\n",
       "      <td>超市</td>\n",
       "      <td>NaN</td>\n",
       "    </tr>\n",
       "    <tr>\n",
       "      <th>4</th>\n",
       "      <td>5</td>\n",
       "      <td>杭州</td>\n",
       "      <td>263</td>\n",
       "      <td>2</td>\n",
       "      <td>2.0</td>\n",
       "      <td>2.0</td>\n",
       "      <td>0</td>\n",
       "      <td>美食</td>\n",
       "      <td>休闲食品</td>\n",
       "      <td>生鲜水果</td>\n",
       "    </tr>\n",
       "  </tbody>\n",
       "</table>\n",
       "</div>"
      ],
      "text/plain": [
       "   shop_id city_name  location_id  avg_pay  user_score  user_comment_cnt  \\\n",
       "0        1        湖州          885        8         4.0              12.0   \n",
       "1        2       哈尔滨           64       19         NaN               NaN   \n",
       "2        3        南昌          774        5         3.0               2.0   \n",
       "3        4        天津          380       18         NaN               NaN   \n",
       "4        5        杭州          263        2         2.0               2.0   \n",
       "\n",
       "   shop_level category_1 category_2 category_3  \n",
       "0           2         美食       休闲茶饮      饮品/甜点  \n",
       "1           1      超市便利店         超市        NaN  \n",
       "2           0         美食       休闲茶饮         奶茶  \n",
       "3           1      超市便利店         超市        NaN  \n",
       "4           0         美食       休闲食品       生鲜水果  "
      ]
     },
     "execution_count": 18,
     "metadata": {},
     "output_type": "execute_result"
    }
   ],
   "source": [
    "df_shop_info = pd.read_csv('data/shop_info.txt', header=None)\n",
    "df_shop_info.columns = ['shop_id', 'city_name', 'location_id', 'avg_pay', \n",
    "                        'user_score', 'user_comment_cnt', 'shop_level',\n",
    "                        'category_1', 'category_2', 'category_3']\n",
    "df_shop_info.head()"
   ]
  },
  {
   "cell_type": "code",
   "execution_count": 19,
   "metadata": {
    "collapsed": false
   },
   "outputs": [
    {
     "data": {
      "text/plain": [
       "2000"
      ]
     },
     "execution_count": 19,
     "metadata": {},
     "output_type": "execute_result"
    }
   ],
   "source": [
    "len(df_shop_info)"
   ]
  },
  {
   "cell_type": "code",
   "execution_count": 20,
   "metadata": {
    "collapsed": true
   },
   "outputs": [],
   "source": [
    "df_shop_info.category_1.fillna('', inplace=1)\n",
    "df_shop_info.category_2.fillna('', inplace=1)\n",
    "df_shop_info.category_3.fillna('', inplace=1)"
   ]
  },
  {
   "cell_type": "code",
   "execution_count": 21,
   "metadata": {
    "collapsed": false
   },
   "outputs": [],
   "source": [
    "user_score_na = df_shop_info.user_score.isnull()\n",
    "comment_cnt_na = df_shop_info.user_comment_cnt.isnull()"
   ]
  },
  {
   "cell_type": "code",
   "execution_count": 22,
   "metadata": {
    "collapsed": false
   },
   "outputs": [
    {
     "data": {
      "text/plain": [
       "True"
      ]
     },
     "execution_count": 22,
     "metadata": {},
     "output_type": "execute_result"
    }
   ],
   "source": [
    "(user_score_na == comment_cnt_na).all()"
   ]
  },
  {
   "cell_type": "code",
   "execution_count": 23,
   "metadata": {
    "collapsed": true
   },
   "outputs": [],
   "source": [
    "df_shop_info['no_user_info'] = user_score_na.astype('uint8')\n",
    "df_shop_info.user_score.fillna(0, inplace=1)\n",
    "df_shop_info.user_comment_cnt.fillna(0, inplace=1)"
   ]
  },
  {
   "cell_type": "code",
   "execution_count": 29,
   "metadata": {
    "collapsed": false
   },
   "outputs": [
    {
     "data": {
      "text/plain": [
       "True"
      ]
     },
     "execution_count": 29,
     "metadata": {},
     "output_type": "execute_result"
    }
   ],
   "source": [
    "(df_shop_info.shop_id == np.arange(1, 2001)).all()"
   ]
  },
  {
   "cell_type": "code",
   "execution_count": 30,
   "metadata": {
    "collapsed": true
   },
   "outputs": [],
   "source": [
    "df_shop_info.shop_id = df_shop_info.shop_id - 1"
   ]
  },
  {
   "cell_type": "code",
   "execution_count": 48,
   "metadata": {
    "collapsed": true
   },
   "outputs": [],
   "source": [
    "df_shop_info.shop_id = df_shop_info.shop_id.astype('uint16')\n",
    "df_shop_info.avg_pay = df_shop_info.avg_pay.astype('uint8')\n",
    "df_shop_info.location_id = df_shop_info.location_id.astype('uint16')\n",
    "df_shop_info.shop_level = df_shop_info.shop_level.astype('uint8')"
   ]
  },
  {
   "cell_type": "code",
   "execution_count": 52,
   "metadata": {
    "collapsed": false,
    "scrolled": true
   },
   "outputs": [
    {
     "data": {
      "text/html": [
       "<div>\n",
       "<table border=\"1\" class=\"dataframe\">\n",
       "  <thead>\n",
       "    <tr style=\"text-align: right;\">\n",
       "      <th></th>\n",
       "      <th>shop_id</th>\n",
       "      <th>city_name</th>\n",
       "      <th>location_id</th>\n",
       "      <th>avg_pay</th>\n",
       "      <th>user_score</th>\n",
       "      <th>user_comment_cnt</th>\n",
       "      <th>shop_level</th>\n",
       "      <th>category_1</th>\n",
       "      <th>category_2</th>\n",
       "      <th>category_3</th>\n",
       "      <th>no_user_info</th>\n",
       "    </tr>\n",
       "  </thead>\n",
       "  <tbody>\n",
       "    <tr>\n",
       "      <th>0</th>\n",
       "      <td>0</td>\n",
       "      <td>湖州</td>\n",
       "      <td>885</td>\n",
       "      <td>8</td>\n",
       "      <td>4.0</td>\n",
       "      <td>12.0</td>\n",
       "      <td>2</td>\n",
       "      <td>美食</td>\n",
       "      <td>休闲茶饮</td>\n",
       "      <td>饮品/甜点</td>\n",
       "      <td>0</td>\n",
       "    </tr>\n",
       "    <tr>\n",
       "      <th>1</th>\n",
       "      <td>1</td>\n",
       "      <td>哈尔滨</td>\n",
       "      <td>64</td>\n",
       "      <td>19</td>\n",
       "      <td>0.0</td>\n",
       "      <td>0.0</td>\n",
       "      <td>1</td>\n",
       "      <td>超市便利店</td>\n",
       "      <td>超市</td>\n",
       "      <td></td>\n",
       "      <td>1</td>\n",
       "    </tr>\n",
       "    <tr>\n",
       "      <th>2</th>\n",
       "      <td>2</td>\n",
       "      <td>南昌</td>\n",
       "      <td>774</td>\n",
       "      <td>5</td>\n",
       "      <td>3.0</td>\n",
       "      <td>2.0</td>\n",
       "      <td>0</td>\n",
       "      <td>美食</td>\n",
       "      <td>休闲茶饮</td>\n",
       "      <td>奶茶</td>\n",
       "      <td>0</td>\n",
       "    </tr>\n",
       "    <tr>\n",
       "      <th>3</th>\n",
       "      <td>3</td>\n",
       "      <td>天津</td>\n",
       "      <td>380</td>\n",
       "      <td>18</td>\n",
       "      <td>0.0</td>\n",
       "      <td>0.0</td>\n",
       "      <td>1</td>\n",
       "      <td>超市便利店</td>\n",
       "      <td>超市</td>\n",
       "      <td></td>\n",
       "      <td>1</td>\n",
       "    </tr>\n",
       "    <tr>\n",
       "      <th>4</th>\n",
       "      <td>4</td>\n",
       "      <td>杭州</td>\n",
       "      <td>263</td>\n",
       "      <td>2</td>\n",
       "      <td>2.0</td>\n",
       "      <td>2.0</td>\n",
       "      <td>0</td>\n",
       "      <td>美食</td>\n",
       "      <td>休闲食品</td>\n",
       "      <td>生鲜水果</td>\n",
       "      <td>0</td>\n",
       "    </tr>\n",
       "  </tbody>\n",
       "</table>\n",
       "</div>"
      ],
      "text/plain": [
       "   shop_id city_name  location_id  avg_pay  user_score  user_comment_cnt  \\\n",
       "0        0        湖州          885        8         4.0              12.0   \n",
       "1        1       哈尔滨           64       19         0.0               0.0   \n",
       "2        2        南昌          774        5         3.0               2.0   \n",
       "3        3        天津          380       18         0.0               0.0   \n",
       "4        4        杭州          263        2         2.0               2.0   \n",
       "\n",
       "   shop_level category_1 category_2 category_3  no_user_info  \n",
       "0           2         美食       休闲茶饮      饮品/甜点             0  \n",
       "1           1      超市便利店         超市                        1  \n",
       "2           0         美食       休闲茶饮         奶茶             0  \n",
       "3           1      超市便利店         超市                        1  \n",
       "4           0         美食       休闲食品       生鲜水果             0  "
      ]
     },
     "execution_count": 52,
     "metadata": {},
     "output_type": "execute_result"
    }
   ],
   "source": [
    "df_shop_info.head()"
   ]
  },
  {
   "cell_type": "code",
   "execution_count": 32,
   "metadata": {
    "collapsed": false
   },
   "outputs": [
    {
     "name": "stdout",
     "output_type": "stream",
     "text": [
      "shop_info.txt  user_pay.txt  user_view.txt\r\n"
     ]
    }
   ],
   "source": [
    "!ls data/"
   ]
  },
  {
   "cell_type": "code",
   "execution_count": 36,
   "metadata": {
    "collapsed": false
   },
   "outputs": [
    {
     "name": "stdout",
     "output_type": "stream",
     "text": [
      "22127870,1862,2015-12-25 17:00:00\n",
      "3434231,1862,2016-10-05 11:00:00\n",
      "16955285,1862,2016-02-10 15:00:00\n",
      "13799128,1862,2016-01-13 14:00:00\n",
      "13799128,1862,2016-07-05 12:00:00\n",
      "20244878,1862,2016-09-17 15:00:00\n",
      "20244878,1862,2016-05-29 16:00:00\n",
      "438444,1862,2016-02-22 17:00:00\n",
      "22003193,1862,2016-08-07 15:00:00\n",
      "20244878,1862,2016-04-17 16:00:00\n",
      "69674110 data/user_pay.txt\n"
     ]
    }
   ],
   "source": [
    "!head data/user_pay.txt\n",
    "!wc -l data/user_pay.txt"
   ]
  },
  {
   "cell_type": "code",
   "execution_count": 88,
   "metadata": {
    "collapsed": true
   },
   "outputs": [],
   "source": [
    "df_user_pay = pd.read_csv('data/user_pay.txt', header=None)\n",
    "df_user_pay.columns = ['user_id', 'shop_id', 'ts']\n",
    "df_user_pay.shop_id = df_user_pay.shop_id.astype('uint16')\n",
    "df_user_pay.user_id = df_user_pay.user_id.astype('uint32')\n",
    "df_user_pay.ts = pd.to_datetime(df_user_pay.ts)\n",
    "df_user_pay['day'] = df_user_pay.ts.dt.floor(freq='d')"
   ]
  },
  {
   "cell_type": "code",
   "execution_count": 92,
   "metadata": {
    "collapsed": false
   },
   "outputs": [
    {
     "name": "stdout",
     "output_type": "stream",
     "text": [
      "13201967,1197,2016-10-21 18:00:00\n",
      "19461365,1197,2016-06-28 23:00:00\n",
      "15022321,1197,2016-07-16 19:00:00\n",
      "5440872,1197,2016-07-15 07:00:00\n",
      "12594529,1197,2016-08-07 16:00:00\n",
      "5440872,1197,2016-08-12 08:00:00\n",
      "19918044,1197,2016-09-03 16:00:00\n",
      "9476039,1197,2016-09-04 17:00:00\n",
      "4081995,1197,2016-09-25 10:00:00\n",
      "12594529,1197,2016-08-07 16:00:00\n",
      "5556715 data/user_view.txt\n"
     ]
    }
   ],
   "source": [
    "!head data/user_view.txt\n",
    "!wc -l data/user_view.txt"
   ]
  },
  {
   "cell_type": "code",
   "execution_count": 93,
   "metadata": {
    "collapsed": true
   },
   "outputs": [],
   "source": [
    "df_user_view = pd.read_csv('data/user_view.txt', header=None)\n",
    "df_user_view.columns = ['user_id', 'shop_id', 'ts']\n",
    "df_user_view.shop_id = df_user_view.shop_id.astype('uint16')\n",
    "df_user_view.user_id = df_user_view.user_id.astype('uint32')\n",
    "df_user_view.ts = pd.to_datetime(df_user_view.ts)\n",
    "df_user_view['day'] = df_user_view.ts.dt.floor(freq='d')"
   ]
  },
  {
   "cell_type": "code",
   "execution_count": 95,
   "metadata": {
    "collapsed": false
   },
   "outputs": [
    {
     "data": {
      "text/plain": [
       "(69674110, 5556715)"
      ]
     },
     "execution_count": 95,
     "metadata": {},
     "output_type": "execute_result"
    }
   ],
   "source": [
    "len(df_user_pay), len(df_user_view)"
   ]
  },
  {
   "cell_type": "code",
   "execution_count": 96,
   "metadata": {
    "collapsed": false
   },
   "outputs": [
    {
     "data": {
      "text/plain": [
       "(Timestamp('2015-06-26 06:00:00'), Timestamp('2016-10-31 23:00:00'))"
      ]
     },
     "execution_count": 96,
     "metadata": {},
     "output_type": "execute_result"
    }
   ],
   "source": [
    "df_user_pay.ts.min(), df_user_pay.ts.max()"
   ]
  },
  {
   "cell_type": "code",
   "execution_count": 97,
   "metadata": {
    "collapsed": false
   },
   "outputs": [
    {
     "data": {
      "text/plain": [
       "(Timestamp('2016-06-22 00:00:00'), Timestamp('2016-10-31 23:00:00'))"
      ]
     },
     "execution_count": 97,
     "metadata": {},
     "output_type": "execute_result"
    }
   ],
   "source": [
    "df_user_view.ts.min(), df_user_view.ts.max()"
   ]
  },
  {
   "cell_type": "code",
   "execution_count": 108,
   "metadata": {
    "collapsed": false
   },
   "outputs": [],
   "source": [
    "import feather"
   ]
  },
  {
   "cell_type": "code",
   "execution_count": 109,
   "metadata": {
    "collapsed": false
   },
   "outputs": [],
   "source": [
    "feather.write_dataframe(df_shop_info, 'data/df_shop_info.feather')\n",
    "feather.write_dataframe(df_user_pay, 'data/df_user_pay.feather')\n",
    "feather.write_dataframe(df_user_view, 'data/df_user_view.feather')"
   ]
  },
  {
   "cell_type": "code",
   "execution_count": 110,
   "metadata": {
    "collapsed": false
   },
   "outputs": [
    {
     "name": "stdout",
     "output_type": "stream",
     "text": [
      "total 3.9G\r\n",
      "-rw-r--r-- 1 agrigorev agrigorev 137K Feb  9 15:22 df_shop_info.feather\r\n",
      "-rw-r--r-- 1 agrigorev agrigorev 1.5G Feb  9 15:22 df_user_pay.feather\r\n",
      "-rw-r--r-- 1 agrigorev agrigorev 117M Feb  9 15:22 df_user_view.feather\r\n",
      "-rw-r--r-- 1 agrigorev agrigorev 100K Dec 23 06:47 shop_info.txt\r\n",
      "-rw-r--r-- 1 agrigorev agrigorev 2.2G Dec 23 06:52 user_pay.txt\r\n",
      "-rw-r--r-- 1 agrigorev agrigorev 175M Dec 23 06:53 user_view.txt\r\n"
     ]
    }
   ],
   "source": [
    "!ls -lh data"
   ]
  },
  {
   "cell_type": "code",
   "execution_count": 111,
   "metadata": {
    "collapsed": true
   },
   "outputs": [],
   "source": [
    "df_shop_info = feather.read_dataframe('data/df_shop_info.feather')\n",
    "df_user_pay = feather.read_dataframe('data/df_user_pay.feather')\n",
    "df_user_view = feather.read_dataframe('data/df_user_view.feather')"
   ]
  },
  {
   "cell_type": "code",
   "execution_count": 117,
   "metadata": {
    "collapsed": false
   },
   "outputs": [],
   "source": [
    "df_views = df_user_view.groupby(by=['shop_id', 'day']).user_id.count().reset_index()\n",
    "df_views.rename(columns={'user_id': 'views_count'}, inplace=1)"
   ]
  },
  {
   "cell_type": "code",
   "execution_count": 126,
   "metadata": {
    "collapsed": false
   },
   "outputs": [],
   "source": [
    "df_views.shop_id = df_views.shop_id.astype('uint16')\n",
    "df_views.views_count = df_views.views_count.astype('uint16')"
   ]
  },
  {
   "cell_type": "code",
   "execution_count": 122,
   "metadata": {
    "collapsed": false
   },
   "outputs": [],
   "source": [
    "df_pays = df_user_pay.groupby(by=['shop_id', 'day']).user_id.count().reset_index()\n",
    "df_pays.rename(columns={'user_id': 'pays_count'}, inplace=1)"
   ]
  },
  {
   "cell_type": "code",
   "execution_count": 134,
   "metadata": {
    "collapsed": false
   },
   "outputs": [],
   "source": [
    "df_pays.shop_id = df_pays.shop_id.astype('uint16')\n",
    "df_pays.views_count = df_pays.pays_count.astype('uint16')"
   ]
  },
  {
   "cell_type": "code",
   "execution_count": 135,
   "metadata": {
    "collapsed": false
   },
   "outputs": [],
   "source": [
    "feather.write_dataframe(df_views, 'data/df_views_agg.feather')\n",
    "feather.write_dataframe(df_pays, 'data/df_pays_agg.feather')"
   ]
  },
  {
   "cell_type": "code",
   "execution_count": 144,
   "metadata": {
    "collapsed": false,
    "scrolled": true
   },
   "outputs": [],
   "source": [
    "last_day = df_pays.groupby('shop_id').day.max()\n",
    "last_day[last_day < pd.to_datetime('2016-10-31')]"
   ]
  },
  {
   "cell_type": "code",
   "execution_count": 147,
   "metadata": {
    "collapsed": false
   },
   "outputs": [
    {
     "data": {
      "text/plain": [
       "shop_id\n",
       "987    2016-10-30\n",
       "1707   2016-10-24\n",
       "1824   2016-10-10\n",
       "Name: day, dtype: datetime64[ns]"
      ]
     },
     "execution_count": 147,
     "metadata": {},
     "output_type": "execute_result"
    }
   ],
   "source": []
  },
  {
   "cell_type": "code",
   "execution_count": 158,
   "metadata": {
    "collapsed": false
   },
   "outputs": [
    {
     "data": {
      "text/plain": [
       "shop_id\n",
       "1776    491\n",
       "380     491\n",
       "1557    491\n",
       "217     491\n",
       "897     493\n",
       "Name: day, dtype: int64"
      ]
     },
     "execution_count": 158,
     "metadata": {},
     "output_type": "execute_result"
    }
   ],
   "source": [
    "df_pays.groupby('shop_id').day.count().sort_values().tail()"
   ]
  },
  {
   "cell_type": "code",
   "execution_count": 155,
   "metadata": {
    "collapsed": false
   },
   "outputs": [
    {
     "data": {
      "text/plain": [
       "Timestamp('2016-10-24 14:00:00')"
      ]
     },
     "execution_count": 155,
     "metadata": {},
     "output_type": "execute_result"
    }
   ],
   "source": [
    "dates.max()"
   ]
  },
  {
   "cell_type": "code",
   "execution_count": 443,
   "metadata": {
    "collapsed": false
   },
   "outputs": [],
   "source": [
    "df = df_pays[df_pays.shop_id == 897].reset_index(drop=1)"
   ]
  },
  {
   "cell_type": "code",
   "execution_count": 282,
   "metadata": {
    "collapsed": true
   },
   "outputs": [],
   "source": [
    "%matplotlib inline\n",
    "df.pays_count.plot()"
   ]
  },
  {
   "cell_type": "code",
   "execution_count": 444,
   "metadata": {
    "collapsed": false
   },
   "outputs": [],
   "source": [
    "idx = pd.date_range(df.day.min(), df.day.max())\n",
    "df['idx'] = df['day']\n",
    "df = df.set_index('idx').reindex(index=idx, fill_value=0).reset_index(drop=1)"
   ]
  },
  {
   "cell_type": "code",
   "execution_count": 445,
   "metadata": {
    "collapsed": false
   },
   "outputs": [],
   "source": [
    "dow = df.day.dt.dayofweek\n",
    "\n",
    "for i in range(7):\n",
    "    df['dow_%d' % i] = (dow == i).astype('uint8')"
   ]
  },
  {
   "cell_type": "code",
   "execution_count": 446,
   "metadata": {
    "collapsed": true
   },
   "outputs": [],
   "source": [
    "for i in range(1, 8):\n",
    "    df['pays_count_%i' % i] = df.pays_count.shift(i)"
   ]
  },
  {
   "cell_type": "code",
   "execution_count": 449,
   "metadata": {
    "collapsed": false
   },
   "outputs": [],
   "source": [
    "log_features = list(df.columns[df.columns.str.startswith('pays_count')])"
   ]
  },
  {
   "cell_type": "code",
   "execution_count": 466,
   "metadata": {
    "collapsed": false
   },
   "outputs": [],
   "source": [
    "cor = []\n",
    "\n",
    "for i in range(1, 30):\n",
    "    shift = df.pays_count.shift(i)\n",
    "    c = np.corrcoef(df.pays_count.values[i:], shift.values[i:])\n",
    "    c = c[0, 1]\n",
    "    cor.append(c)"
   ]
  },
  {
   "cell_type": "code",
   "execution_count": 462,
   "metadata": {
    "collapsed": false
   },
   "outputs": [],
   "source": [
    "import matplotlib.pyplot as plt\n"
   ]
  },
  {
   "cell_type": "code",
   "execution_count": 467,
   "metadata": {
    "collapsed": false
   },
   "outputs": [
    {
     "data": {
      "text/plain": [
       "([<matplotlib.axis.XTick at 0x7fbb0286eb00>,\n",
       "  <matplotlib.axis.XTick at 0x7fbba8775b38>,\n",
       "  <matplotlib.axis.XTick at 0x7fbb02869668>,\n",
       "  <matplotlib.axis.XTick at 0x7fbb028022b0>,\n",
       "  <matplotlib.axis.XTick at 0x7fbb02802da0>],\n",
       " <a list of 5 Text xticklabel objects>)"
      ]
     },
     "execution_count": 467,
     "metadata": {},
     "output_type": "execute_result"
    },
    {
     "data": {
      "image/png": "[encoded data removed]",
      "text/plain": [
       "<matplotlib.figure.Figure at 0x7fbb02865e48>"
      ]
     },
     "metadata": {},
     "output_type": "display_data"
    }
   ],
   "source": [
    "plt.plot(cor)\n",
    "plt.xticks([0, 6, 13, 20, 27])"
   ]
  },
  {
   "cell_type": "code",
   "execution_count": 430,
   "metadata": {
    "collapsed": true
   },
   "outputs": [],
   "source": [
    "for i in range(2, 8):\n",
    "    df['pays_count_diff_%i' % i] = df.pays_count_1 - df['pays_count_%d' % i]"
   ]
  },
  {
   "cell_type": "code",
   "execution_count": 431,
   "metadata": {
    "collapsed": false
   },
   "outputs": [],
   "source": [
    "for i in [3, 5, 7, 14]:\n",
    "    rolling = df.pays_count_1.rolling(i)\n",
    "    df['pays_count_mean_%d' % i] = rolling.mean()\n",
    "    df['pays_count_min_%d' % i] = rolling.min()\n",
    "    df['pays_count_max_%d' % i] = rolling.max()"
   ]
  },
  {
   "cell_type": "code",
   "execution_count": 297,
   "metadata": {
    "collapsed": false
   },
   "outputs": [],
   "source": [
    "from sklearn.linear_model import Lasso, Ridge"
   ]
  },
  {
   "cell_type": "code",
   "execution_count": 432,
   "metadata": {
    "collapsed": false
   },
   "outputs": [],
   "source": [
    "df['val'] = 0\n",
    "df.iloc[-14:, df.columns.get_loc('val')] = 1"
   ]
  },
  {
   "cell_type": "code",
   "execution_count": 433,
   "metadata": {
    "collapsed": false
   },
   "outputs": [],
   "source": [
    "df = df.iloc[14:]"
   ]
  },
  {
   "cell_type": "code",
   "execution_count": 311,
   "metadata": {
    "collapsed": true
   },
   "outputs": [],
   "source": [
    "from natsort import natsorted"
   ]
  },
  {
   "cell_type": "code",
   "execution_count": 434,
   "metadata": {
    "collapsed": false
   },
   "outputs": [],
   "source": [
    "features = natsorted(set(df.columns) - {'day', 'shop_id', 'val', 'pays_count'})"
   ]
  },
  {
   "cell_type": "code",
   "execution_count": 435,
   "metadata": {
    "collapsed": true
   },
   "outputs": [],
   "source": [
    "df_train = df[df.val == 0]\n",
    "df_val = df[df.val == 1]"
   ]
  },
  {
   "cell_type": "code",
   "execution_count": 436,
   "metadata": {
    "collapsed": true
   },
   "outputs": [],
   "source": [
    "y_train = df_train.pays_count.values\n",
    "y_val = df_val.pays_count.values"
   ]
  },
  {
   "cell_type": "code",
   "execution_count": 437,
   "metadata": {
    "collapsed": false
   },
   "outputs": [],
   "source": [
    "X_train = df_train[features].values\n",
    "X_val = df_val[features].values"
   ]
  },
  {
   "cell_type": "code",
   "execution_count": 438,
   "metadata": {
    "collapsed": true
   },
   "outputs": [],
   "source": [
    "from sklearn.metrics import mean_squared_error\n",
    "\n",
    "def rmse(y, y_pred):\n",
    "    return np.sqrt(mean_squared_error(y, y_pred))"
   ]
  },
  {
   "cell_type": "code",
   "execution_count": 439,
   "metadata": {
    "collapsed": false
   },
   "outputs": [
    {
     "data": {
      "text/plain": [
       "((380, 32), (100, 32))"
      ]
     },
     "execution_count": 439,
     "metadata": {},
     "output_type": "execute_result"
    }
   ],
   "source": [
    "X_train.shape, X_val.shape"
   ]
  },
  {
   "cell_type": "code",
   "execution_count": 440,
   "metadata": {
    "collapsed": false
   },
   "outputs": [
    {
     "name": "stdout",
     "output_type": "stream",
     "text": [
      " 0.01, 78.8931\n",
      "  0.1, 78.8658\n",
      "    1, 78.6519\n",
      "    3, 78.4668\n",
      "    5, 78.5293\n",
      "    7, 78.7283\n",
      "   10, 79.1543\n",
      "   15, 79.9759\n",
      "   20, 80.7860\n"
     ]
    }
   ],
   "source": [
    "for a in [0.01, 0.1, 1, 3, 5, 7, 10, 15, 20]:\n",
    "    lr = Ridge(alpha=a, random_state=1)\n",
    "    lr.fit(X_train, y_train)\n",
    "\n",
    "    y_pred = lr.predict(X_val)\n",
    "    print('%5s, %.4f' % (a, rmse(y_val, y_pred)))"
   ]
  },
  {
   "cell_type": "code",
   "execution_count": 441,
   "metadata": {
    "collapsed": false
   },
   "outputs": [
    {
     "name": "stdout",
     "output_type": "stream",
     "text": [
      "    5, 78.5293\n"
     ]
    }
   ],
   "source": [
    "a = 5\n",
    "lr = Ridge(alpha=a, random_state=1)\n",
    "lr.fit(X_train, y_train)\n",
    "\n",
    "y_pred = lr.predict(X_val)\n",
    "print('%5s, %.4f' % (a, rmse(y_val, y_pred)))"
   ]
  },
  {
   "cell_type": "code",
   "execution_count": 442,
   "metadata": {
    "collapsed": false,
    "scrolled": true
   },
   "outputs": [
    {
     "data": {
      "text/plain": [
       "[('dow_0', -88.340094649192665),\n",
       " ('dow_1', -7.5185805987342809),\n",
       " ('dow_2', -28.2844536895742),\n",
       " ('dow_3', -39.596465681445196),\n",
       " ('dow_4', 11.438773311926793),\n",
       " ('dow_5', 92.943564720819708),\n",
       " ('dow_6', 59.357256586197806),\n",
       " ('pays_count_1', 0.066073876587328856),\n",
       " ('pays_count_2', -0.072637963852206916),\n",
       " ('pays_count_3', -0.022187467236692342),\n",
       " ('pays_count_4', 0.020912008674551858),\n",
       " ('pays_count_5', 0.043506366789246576),\n",
       " ('pays_count_6', 0.071629019507718952),\n",
       " ('pays_count_7', 0.045154824373429867),\n",
       " ('pays_count_diff_2', 0.13871184030093509),\n",
       " ('pays_count_diff_3', 0.088261344015750878),\n",
       " ('pays_count_diff_4', 0.045161867852038011),\n",
       " ('pays_count_diff_5', 0.022567509584974433),\n",
       " ('pays_count_diff_6', -0.0055551433384907851),\n",
       " ('pays_count_diff_7', 0.020919051342265311),\n",
       " ('pays_count_max_3', 0.16803105716049821),\n",
       " ('pays_count_max_5', -0.25789146601341478),\n",
       " ('pays_count_max_7', 0.35389678235470179),\n",
       " ('pays_count_max_14', -0.11102937131146785),\n",
       " ('pays_count_mean_3', -0.0095838515137257243),\n",
       " ('pays_count_mean_5', 0.0071333640847704386),\n",
       " ('pays_count_mean_7', 0.021778666434740857),\n",
       " ('pays_count_mean_14', 0.34700019630245199),\n",
       " ('pays_count_min_3', -0.17878889338017981),\n",
       " ('pays_count_min_5', 0.62645201368443992),\n",
       " ('pays_count_min_7', -0.029261292642584768),\n",
       " ('pays_count_min_14', -0.25647201410166487)]"
      ]
     },
     "execution_count": 442,
     "metadata": {},
     "output_type": "execute_result"
    }
   ],
   "source": [
    "list(zip(features, lr.coef_))"
   ]
  },
  {
   "cell_type": "code",
   "execution_count": 339,
   "metadata": {
    "collapsed": true
   },
   "outputs": [],
   "source": [
    "import seaborn as sns"
   ]
  },
  {
   "cell_type": "code",
   "execution_count": 341,
   "metadata": {
    "collapsed": false
   },
   "outputs": [
    {
     "name": "stderr",
     "output_type": "stream",
     "text": [
      "/home/agrigorev/anaconda3/lib/python3.5/site-packages/statsmodels/nonparametric/kdetools.py:20: VisibleDeprecationWarning: using a non-integer number instead of an integer will result in an error in the future\n",
      "  y = X[:m/2+1] + np.r_[0,X[m/2+1:],0]*1j\n"
     ]
    },
    {
     "data": {
      "text/plain": [
       "<matplotlib.axes._subplots.AxesSubplot at 0x7fbbdad639e8>"
      ]
     },
     "execution_count": 341,
     "metadata": {},
     "output_type": "execute_result"
    },
    {
     "data": {
      "image/png": "[encoded data removed]",
      "text/plain": [
       "<matplotlib.figure.Figure at 0x7fbbdad604e0>"
      ]
     },
     "metadata": {},
     "output_type": "display_data"
    }
   ],
   "source": [
    "sns.distplot(y_pred)\n",
    "sns.distplot(y_val)"
   ]
  },
  {
   "cell_type": "code",
   "execution_count": null,
   "metadata": {
    "collapsed": true
   },
   "outputs": [],
   "source": []
  }
 ],
 "metadata": {
  "anaconda-cloud": {},
  "kernelspec": {
   "display_name": "Python [conda root]",
   "language": "python",
   "name": "conda-root-py"
  },
  "language_info": {
   "codemirror_mode": {
    "name": "ipython",
    "version": 3
   },
   "file_extension": ".py",
   "mimetype": "text/x-python",
   "name": "python",
   "nbconvert_exporter": "python",
   "pygments_lexer": "ipython3",
   "version": "3.5.2"
  }
 },
 "nbformat": 4,
 "nbformat_minor": 1
}
