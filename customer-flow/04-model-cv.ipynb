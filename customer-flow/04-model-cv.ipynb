{
 "cells": [
  {
   "cell_type": "code",
   "execution_count": 1,
   "metadata": {
    "collapsed": true
   },
   "outputs": [],
   "source": [
    "import pandas as pd\n",
    "import numpy as np\n",
    "import feather\n",
    "\n",
    "from tqdm import tqdm"
   ]
  },
  {
   "cell_type": "code",
   "execution_count": 2,
   "metadata": {
    "collapsed": true
   },
   "outputs": [],
   "source": [
    "def evaluation_metric(y_true, y_pred):\n",
    "    y_pred = y_pred.copy()\n",
    "    y_pred[y_pred < 1.0] = 1.0\n",
    "    y_pred = np.round(y_pred)\n",
    "    scores = (y_pred - y_true) / (y_pred + y_true)\n",
    "    scores[y_true < 1] = 0.0\n",
    "    return np.abs(scores).mean()"
   ]
  },
  {
   "cell_type": "code",
   "execution_count": 3,
   "metadata": {
    "collapsed": false
   },
   "outputs": [],
   "source": [
    "df_base = feather.read_dataframe('features/base_features_no_outliers.feather')\n",
    "df_mean_window = feather.read_dataframe('features/window_mean_features_noout.feather')\n",
    "df_trend_window = feather.read_dataframe('features/window_trend_features_noout.feather')\n",
    "df_week_trend = feather.read_dataframe('features/weekly_trends_features_noout.feather')\n",
    "df_last_values = feather.read_dataframe('features/last_values_features.feather')\n",
    "#df_prophet = feather.read_dataframe('features/prophet_features_proper.feather')\n",
    "#df_views = feather.read_dataframe('features/view_features.feather')\n",
    "# df_store_simple = feather.read_dataframe('features/store_simple.feather')\n",
    "# df_store_series = feather.read_dataframe('features/store_series.feather')\n",
    "\n",
    "df_entities = feather.read_dataframe('features/entity_embedding.feather')\n",
    "\n",
    "df_pc = feather.read_dataframe('features/pays_count_unmodified.feather')"
   ]
  },
  {
   "cell_type": "code",
   "execution_count": 4,
   "metadata": {
    "collapsed": true
   },
   "outputs": [],
   "source": [
    "df_entities['dow'] = df_base.dow"
   ]
  },
  {
   "cell_type": "code",
   "execution_count": 5,
   "metadata": {
    "collapsed": true
   },
   "outputs": [],
   "source": [
    "common = (set(df_base.columns) & set(df_mean_window.columns))"
   ]
  },
  {
   "cell_type": "code",
   "execution_count": 6,
   "metadata": {
    "collapsed": false,
    "scrolled": false
   },
   "outputs": [
    {
     "name": "stdout",
     "output_type": "stream",
     "text": [
      "pays_count uwaga\n"
     ]
    }
   ],
   "source": [
    "for c in common:\n",
    "    if not (df_base[c].fillna(-1) == df_mean_window[c].fillna(-1)).all():\n",
    "        print('uwaga')\n",
    "    if not (df_base[c].fillna(-1) == df_trend_window[c].fillna(-1)).all():\n",
    "        print('uwaga')\n",
    "    if not (df_base[c].fillna(-1) == df_week_trend[c].fillna(-1)).all():\n",
    "        print('uwaga')\n",
    "    if not (df_base[c].fillna(-1) == df_last_values[c].fillna(-1)).all():\n",
    "        print(c, 'uwaga')\n",
    "#     if not (df_base[c].fillna(-1) == df_prophet[c].fillna(-1)).all():\n",
    "#        print(c, 'uwaga')\n",
    "#     if not (df_base[c].fillna(-1) == df_views[c].fillna(-1)).all():\n",
    "#         print(c, 'uwaga')\n",
    "#     if not (df_base[c].fillna(-1) == df_store_simple[c].fillna(-1)).all():\n",
    "#         print(c, 'uwaga')\n",
    "#     if not (df_base[c].fillna(-1) == df_store_series[c].fillna(-1)).all():\n",
    "#         print(c, 'uwaga')\n",
    "\n",
    "    if not (df_base[c].fillna(-1) == df_entities[c].fillna(-1)).all():\n",
    "        print(c, 'uwaga')\n",
    "\n",
    "    if not (df_base[c].fillna(-1) == df_pc[c].fillna(-1)).all():\n",
    "        print(c, 'uwaga')"
   ]
  },
  {
   "cell_type": "code",
   "execution_count": 7,
   "metadata": {
    "collapsed": false
   },
   "outputs": [],
   "source": [
    "df_mean_window = df_mean_window[sorted(set(df_mean_window.columns) - common)]\n",
    "df_trend_window = df_trend_window[sorted(set(df_trend_window.columns) - common)]\n",
    "df_week_trend = df_week_trend[sorted(set(df_week_trend.columns) - common)]\n",
    "df_last_values = df_last_values[sorted(set(df_last_values.columns) - common)]\n",
    "#df_views = df_views[sorted(set(df_views.columns) - common)]\n",
    "#df_store_simple = df_store_simple[sorted(set(df_store_simple.columns) - common)]\n",
    "#df_store_series = df_store_series[sorted(set(df_store_series.columns) - common)]\n",
    "\n",
    "df_entities = df_entities[sorted(set(df_entities.columns) - common)]\n",
    "\n",
    "\n",
    "#df_prophet = df_prophet[sorted(set(df_prophet.columns) - common)]"
   ]
  },
  {
   "cell_type": "code",
   "execution_count": 8,
   "metadata": {
    "collapsed": false
   },
   "outputs": [],
   "source": [
    "#del df_views['views_count']"
   ]
  },
  {
   "cell_type": "code",
   "execution_count": 9,
   "metadata": {
    "collapsed": false
   },
   "outputs": [],
   "source": [
    "df_features = pd.concat([\n",
    "        df_base, \n",
    "        df_mean_window, \n",
    "        df_trend_window, \n",
    "        df_week_trend, \n",
    "        df_last_values,\n",
    "        df_entities,\n",
    "        #df_views,\n",
    "        #df_store_simple,\n",
    "        #df_store_series\n",
    "        #df_prophet,\n",
    "    ], axis=1)\n",
    "df_features['pays_count_unmodified'] = df_pc.pays_count_unmodified\n",
    "df_features['penultimate_unmodified'] = df_pc.penultimate_unmodified"
   ]
  },
  {
   "cell_type": "markdown",
   "metadata": {},
   "source": [
    "## Some stuff"
   ]
  },
  {
   "cell_type": "code",
   "execution_count": 10,
   "metadata": {
    "collapsed": true
   },
   "outputs": [],
   "source": [
    "import seaborn as sns\n",
    "import matplotlib.pyplot as plt\n",
    "%matplotlib inline"
   ]
  },
  {
   "cell_type": "code",
   "execution_count": 11,
   "metadata": {
    "collapsed": true
   },
   "outputs": [],
   "source": [
    "from sklearn.metrics import mean_squared_error\n",
    "\n",
    "def rmse(y, y_pred):\n",
    "    y_pred = y_pred[~np.isnan(y)]\n",
    "    y = y[~np.isnan(y)]\n",
    "\n",
    "    y = y[~np.isnan(y_pred)]\n",
    "    y_pred = y_pred[~np.isnan(y_pred)]\n",
    "\n",
    "    return np.sqrt(mean_squared_error(y, y_pred))"
   ]
  },
  {
   "cell_type": "markdown",
   "metadata": {},
   "source": [
    "### Median trend features"
   ]
  },
  {
   "cell_type": "code",
   "execution_count": 12,
   "metadata": {
    "collapsed": true
   },
   "outputs": [],
   "source": [
    "trend_groups = [\n",
    "    ('trend', ['trend_2', 'trend_3', 'trend_4', 'trend_5', 'trend_6', 'trend_12', 'trend_18']),\n",
    "    ('trend_dow', ['trend_dow_3', 'trend_dow_4', 'trend_dow_5', 'trend_dow_6', \n",
    "                   'trend_dow_12', 'trend_dow_18']),\n",
    "    ('trend_weekend', ['trend_weekend_3', 'trend_weekend_4', 'trend_weekend_5',\n",
    "                       'trend_weekend_6', 'trend_weekend_12', 'trend_weekend_18']),\n",
    "#     ('pays_count_category_1_mean_trend', ['pays_count_category_1_mean_trend_2', 'pays_count_category_1_mean_trend_3', 'pays_count_category_1_mean_trend_4', 'pays_count_category_1_mean_trend_5', 'pays_count_category_1_mean_trend_6', 'pays_count_category_1_mean_trend_12', 'pays_count_category_1_mean_trend_18']),\n",
    "#     ('pays_count_category_1_mean_trend_dow', ['pays_count_category_1_mean_trend_dow_3', 'pays_count_category_1_mean_trend_dow_4', 'pays_count_category_1_mean_trend_dow_5', 'pays_count_category_1_mean_trend_dow_6', \n",
    "#                    'pays_count_category_1_mean_trend_dow_12', 'pays_count_category_1_mean_trend_dow_18']),\n",
    "#     ('pays_count_category_1_mean_trend_weekend', ['pays_count_category_1_mean_trend_weekend_3', 'pays_count_category_1_mean_trend_weekend_4', 'pays_count_category_1_mean_trend_weekend_5',\n",
    "#                        'pays_count_category_1_mean_trend_weekend_6', 'pays_count_category_1_mean_trend_weekend_12', 'pays_count_category_1_mean_trend_weekend_18']),\n",
    "#     ('pays_count_category_2_mean_trend', ['pays_count_category_2_mean_trend_2', 'pays_count_category_2_mean_trend_3', 'pays_count_category_2_mean_trend_4', 'pays_count_category_2_mean_trend_5', 'pays_count_category_2_mean_trend_6', 'pays_count_category_2_mean_trend_12', 'pays_count_category_2_mean_trend_18']),\n",
    "#     ('pays_count_category_2_mean_trend_dow', ['pays_count_category_2_mean_trend_dow_3', 'pays_count_category_2_mean_trend_dow_4', 'pays_count_category_2_mean_trend_dow_5', 'pays_count_category_2_mean_trend_dow_6', \n",
    "#                    'pays_count_category_2_mean_trend_dow_12', 'pays_count_category_2_mean_trend_dow_18']),\n",
    "#     ('pays_count_category_2_mean_trend_weekend', ['pays_count_category_2_mean_trend_weekend_3', 'pays_count_category_2_mean_trend_weekend_4', 'pays_count_category_2_mean_trend_weekend_5',\n",
    "#                        'pays_count_category_2_mean_trend_weekend_6', 'pays_count_category_2_mean_trend_weekend_12', 'pays_count_category_2_mean_trend_weekend_18']),\n",
    "#     ('pays_count_category_3_mean_trend', ['pays_count_category_3_mean_trend_2', 'pays_count_category_3_mean_trend_3', 'pays_count_category_3_mean_trend_4', 'pays_count_category_3_mean_trend_5', 'pays_count_category_3_mean_trend_6', 'pays_count_category_3_mean_trend_12', 'pays_count_category_3_mean_trend_18']),\n",
    "#     ('pays_count_category_3_mean_trend_dow', ['pays_count_category_3_mean_trend_dow_3', 'pays_count_category_3_mean_trend_dow_4', 'pays_count_category_3_mean_trend_dow_5', 'pays_count_category_3_mean_trend_dow_6', \n",
    "#                    'pays_count_category_3_mean_trend_dow_12', 'pays_count_category_3_mean_trend_dow_18']),\n",
    "#     ('pays_count_category_3_mean_trend_weekend', ['pays_count_category_3_mean_trend_weekend_3', 'pays_count_category_3_mean_trend_weekend_4', 'pays_count_category_3_mean_trend_weekend_5',\n",
    "#                        'pays_count_category_3_mean_trend_weekend_6', 'pays_count_category_3_mean_trend_weekend_12', 'pays_count_category_3_mean_trend_weekend_18']),\n",
    "#     ('views_trend', ['views_trend_2', 'views_trend_3', 'views_trend_4', 'views_trend_5', \n",
    "#                      'views_trend_6', 'views_trend_12', 'views_trend_18']),\n",
    "#     ('views_trend_dow', ['views_trend_dow_3', 'views_trend_dow_4', 'views_trend_dow_5', \n",
    "#                          'views_trend_dow_6', 'views_trend_dow_12', 'views_trend_dow_18']),\n",
    "#     ('views_trend_weekend', ['views_trend_weekend_3', 'views_trend_weekend_4', 'views_trend_weekend_5',\n",
    "#                        'views_trend_weekend_6', 'views_trend_weekend_12', 'views_trend_weekend_18']),\n",
    "]"
   ]
  },
  {
   "cell_type": "code",
   "execution_count": 13,
   "metadata": {
    "collapsed": false
   },
   "outputs": [],
   "source": [
    "for n, g in trend_groups:\n",
    "    df_features[n + '_median'] = df_features[g].median(axis=1)\n",
    "    df_features[n + '_std'] = df_features[g].std(axis=1)"
   ]
  },
  {
   "cell_type": "markdown",
   "metadata": {},
   "source": [
    "## Model"
   ]
  },
  {
   "cell_type": "code",
   "execution_count": 14,
   "metadata": {
    "collapsed": true
   },
   "outputs": [],
   "source": [
    "import xgboost as xgb"
   ]
  },
  {
   "cell_type": "code",
   "execution_count": 15,
   "metadata": {
    "collapsed": false,
    "scrolled": true
   },
   "outputs": [
    {
     "name": "stdout",
     "output_type": "stream",
     "text": [
      "['biweekly_coef', 'biweekly_dow_coef', 'biweekly_dow_trend', 'biweekly_trend', 'biweekly_weekend_coef', 'biweekly_weekend_trend', 'category_1_0', 'category_1_1', 'category_2_0', 'category_2_1', 'category_2_2', 'category_3_0', 'category_3_1', 'category_3_2', 'category_3_3', 'city_name_0', 'city_name_1', 'city_name_2', 'city_name_3', 'city_name_4', 'city_name_5', 'city_name_6', 'city_name_7', 'dow', 'dow_0', 'dow_1', 'dow_2', 'dow_3', 'dow_4', 'dow_5', 'dow_mean_12', 'dow_mean_2', 'dow_mean_3', 'dow_mean_4', 'dow_mean_5', 'dow_mean_6', 'dow_std_12', 'dow_std_2', 'dow_std_3', 'dow_std_4', 'dow_std_5', 'dow_std_6', 'location_id_0', 'location_id_1', 'location_id_2', 'location_id_3', 'location_id_4', 'location_id_5', 'location_id_6', 'location_id_7', 'location_id_8', 'location_id_9', 'mean_1', 'ooo_mean_1', 'ooo_mean_2', 'ooo_mean_3', 'ooo_mean_4', 'pays_two_weeks_ago', 'penultimate', 'prev_biweek_last_value', 'prev_biweek_p25', 'prev_biweek_p75', 'prev_spread', 'second_in_biweek', 'shop_id', 'shop_id_0', 'shop_id_1', 'shop_id_10', 'shop_id_11', 'shop_id_2', 'shop_id_3', 'shop_id_4', 'shop_id_5', 'shop_id_6', 'shop_id_7', 'shop_id_8', 'shop_id_9', 'std_1', 'trend_12', 'trend_18', 'trend_2', 'trend_3', 'trend_4', 'trend_5', 'trend_6', 'trend_coef_12', 'trend_coef_18', 'trend_coef_2', 'trend_coef_3', 'trend_coef_4', 'trend_coef_5', 'trend_coef_6', 'trend_dow_12', 'trend_dow_18', 'trend_dow_3', 'trend_dow_4', 'trend_dow_5', 'trend_dow_6', 'trend_dow_coef_12', 'trend_dow_coef_18', 'trend_dow_coef_3', 'trend_dow_coef_4', 'trend_dow_coef_5', 'trend_dow_coef_6', 'trend_dow_median', 'trend_dow_std', 'trend_median', 'trend_overall', 'trend_overall_coeff', 'trend_overall_dow', 'trend_overall_dow_coeff', 'trend_overall_weekend', 'trend_overall_weekend_coeff', 'trend_std', 'trend_weekend_12', 'trend_weekend_18', 'trend_weekend_3', 'trend_weekend_4', 'trend_weekend_5', 'trend_weekend_6', 'trend_weekend_coef_12', 'trend_weekend_coef_18', 'trend_weekend_coef_3', 'trend_weekend_coef_4', 'trend_weekend_coef_5', 'trend_weekend_coef_6', 'trend_weekend_median', 'trend_weekend_std', 'weekly_coef', 'weekly_trend']\n"
     ]
    }
   ],
   "source": [
    "to_exclude = {\n",
    "    #'shop_id',\n",
    "    'day', 'days_from_beginning', 'pays_count', 'week_id', 'biweek_id',\n",
    "    'pays_count_unmodified', 'penultimate_unmodified'\n",
    "}\n",
    "\n",
    "useless = {\n",
    "    'mean_12', 'mean_2', 'mean_3', 'mean_4', 'mean_5', 'mean_6',\n",
    "    'out_of_operation', 'penultimate_null',\n",
    "    'std_12', 'std_2', 'std_3', 'std_4', 'std_5', 'std_6',\n",
    "    'weekend_mean_12', 'weekend_mean_2', 'weekend_mean_3',\n",
    "    'weekend_mean_4', 'weekend_mean_5', 'weekend_mean_6',\n",
    "    'weekend_std_12', 'weekend_std_2', 'weekend_std_3',\n",
    "    'weekend_std_4', 'weekend_std_5', 'weekend_std_6',\n",
    "    'views_mean_2', 'views_mean_3', 'views_penultimate_null',\n",
    "    'views_std_2', 'views_std_3', 'views_weekend_mean_2', \n",
    "    'views_weekend_mean_3', 'views_weekend_std_2', 'views_weekend_std_3',\n",
    "    'cat1_id',\n",
    " 'is_weekend',\n",
    " 'pays_count_category_1_mean_mean_2',\n",
    " 'pays_count_category_1_mean_mean_3',\n",
    " 'pays_count_category_1_mean_penultimate_null',\n",
    " 'pays_count_category_1_mean_std_2',\n",
    " 'pays_count_category_1_mean_std_3',\n",
    " 'pays_count_category_1_mean_weekend_mean_2',\n",
    " 'pays_count_category_1_mean_weekend_mean_3',\n",
    " 'pays_count_category_1_mean_weekend_std_2',\n",
    " 'pays_count_category_1_mean_weekend_std_3',\n",
    " 'pays_count_category_2_mean_mean_2',\n",
    " 'pays_count_category_2_mean_mean_3',\n",
    " 'pays_count_category_2_mean_penultimate_null',\n",
    " 'pays_count_category_2_mean_second_in_biweek',\n",
    " 'pays_count_category_2_mean_std_2',\n",
    " 'pays_count_category_2_mean_std_3',\n",
    " 'pays_count_category_2_mean_weekend_mean_2',\n",
    " 'pays_count_category_2_mean_weekend_mean_3',\n",
    " 'pays_count_category_2_mean_weekend_std_2',\n",
    " 'pays_count_category_2_mean_weekend_std_3',\n",
    " 'pays_count_category_3_mean_mean_2',\n",
    " 'pays_count_category_3_mean_mean_3',\n",
    " 'pays_count_category_3_mean_penultimate_null',\n",
    " 'pays_count_category_3_mean_second_in_biweek',\n",
    " 'pays_count_category_3_mean_std_2',\n",
    " 'pays_count_category_3_mean_std_3',\n",
    " 'pays_count_category_3_mean_weekend_mean_2',\n",
    " 'pays_count_category_3_mean_weekend_mean_3',\n",
    " 'pays_count_category_3_mean_weekend_std_2',\n",
    " 'pays_count_category_3_mean_weekend_std_3',\n",
    " 'pays_count_city_name_mean_mean_2',\n",
    " 'pays_count_city_name_mean_mean_3',\n",
    " 'pays_count_city_name_mean_penultimate_null',\n",
    " 'pays_count_city_name_mean_second_in_biweek',\n",
    " 'pays_count_city_name_mean_std_2',\n",
    " 'pays_count_city_name_mean_std_3',\n",
    " 'pays_count_city_name_mean_weekend_mean_2',\n",
    " 'pays_count_city_name_mean_weekend_mean_3',\n",
    " 'pays_count_city_name_mean_weekend_std_2',\n",
    " 'pays_count_city_name_mean_weekend_std_3',\n",
    " 'pays_count_location_id_mean_mean_2',\n",
    " 'pays_count_location_id_mean_mean_3',\n",
    " 'pays_count_location_id_mean_penultimate_null',\n",
    " 'pays_count_location_id_mean_second_in_biweek',\n",
    " 'pays_count_location_id_mean_std_2',\n",
    " 'pays_count_location_id_mean_std_3',\n",
    " 'pays_count_location_id_mean_weekend_mean_2',\n",
    " 'pays_count_location_id_mean_weekend_mean_3',\n",
    " 'pays_count_location_id_mean_weekend_std_2',\n",
    " 'pays_count_location_id_mean_weekend_std_3',\n",
    "}\n",
    "\n",
    "features = sorted(set(df_features.columns) - to_exclude - useless)\n",
    "print(features)"
   ]
  },
  {
   "cell_type": "code",
   "execution_count": 16,
   "metadata": {
    "collapsed": false
   },
   "outputs": [
    {
     "data": {
      "text/plain": [
       "130"
      ]
     },
     "execution_count": 16,
     "metadata": {},
     "output_type": "execute_result"
    }
   ],
   "source": [
    "len(features)"
   ]
  },
  {
   "cell_type": "code",
   "execution_count": 17,
   "metadata": {
    "collapsed": true
   },
   "outputs": [],
   "source": [
    "def eval_metric(preds, dtrain):\n",
    "    y_true = dtrain.get_label()\n",
    "    return 'metric', evaluation_metric(y_true, preds)"
   ]
  },
  {
   "cell_type": "code",
   "execution_count": 18,
   "metadata": {
    "collapsed": false
   },
   "outputs": [],
   "source": [
    "xgb_pars = {\n",
    "    'eta': 0.1,\n",
    "    'gamma': 0,\n",
    "    'max_depth': 12,\n",
    "    'min_child_weight': 1,\n",
    "    'max_delta_step': 0,\n",
    "    'subsample': 1,\n",
    "    'colsample_bytree': 1,\n",
    "    'colsample_bylevel': 1,\n",
    "    'lambda': 1,\n",
    "    'alpha': 0,\n",
    "    'tree_method': 'approx',\n",
    "    'objective': 'reg:linear',\n",
    "    #'objective': 'count:poisson',\n",
    "    'eval_metric': 'rmse',\n",
    "    'nthread': 8,\n",
    "    'seed': 42,\n",
    "    'silent': 1\n",
    "}\n",
    "\n",
    "n_estimators = 70"
   ]
  },
  {
   "cell_type": "code",
   "execution_count": 19,
   "metadata": {
    "collapsed": false,
    "scrolled": true
   },
   "outputs": [
    {
     "name": "stderr",
     "output_type": "stream",
     "text": [
      "100%|██████████| 4/4 [08:09<00:00, 122.36s/it]\n"
     ]
    }
   ],
   "source": [
    "df_features['pred'] = np.nan\n",
    "\n",
    "evals = []\n",
    "rmses = []\n",
    "\n",
    "for i in tqdm([1, 2, 3, 4]):\n",
    "    df_train = df_features[df_features.biweek_id > i].reset_index(drop=1)\n",
    "    df_val = df_features[df_features.biweek_id == i].reset_index(drop=1)\n",
    "\n",
    "    df_train = df_train[~df_train.pays_count.isnull()].reset_index(drop=1)\n",
    "    df_val = df_val[~df_val.pays_count_unmodified.isnull()].reset_index(drop=1)\n",
    "\n",
    "    y_train = df_train.pays_count.values\n",
    "    y_val = df_val.pays_count_unmodified.values\n",
    "\n",
    "    X_train = df_train[features].values\n",
    "    X_val = df_val[features].values\n",
    "\n",
    "    dtrain = xgb.DMatrix(X_train, label=y_train, feature_names=features, missing=np.nan)\n",
    "    dval = xgb.DMatrix(X_val, label=y_val, feature_names=features, missing=np.nan)\n",
    "    model = xgb.train(xgb_pars, dtrain, num_boost_round=n_estimators)\n",
    "\n",
    "    y_pred = model.predict(dval)\n",
    "    val_idx = (df_features.biweek_id == i) & (~df_features.pays_count_unmodified.isnull())\n",
    "    df_features.loc[val_idx, 'pred'] = y_pred\n",
    "\n",
    "    r = rmse(y_val, y_pred)\n",
    "    e = evaluation_metric(y_val, y_pred)\n",
    "\n",
    "    evals.append(e)\n",
    "    rmses.append(r)"
   ]
  },
  {
   "cell_type": "code",
   "execution_count": 20,
   "metadata": {
    "collapsed": false,
    "scrolled": true
   },
   "outputs": [
    {
     "name": "stdout",
     "output_type": "stream",
     "text": [
      "59.1484369734 4.11668717175\n",
      "0.11697823959 0.0133226101113\n"
     ]
    }
   ],
   "source": [
    "print(np.mean(rmses), np.std(rmses))\n",
    "print(np.mean(evals), np.std(evals))"
   ]
  },
  {
   "cell_type": "code",
   "execution_count": 21,
   "metadata": {
    "collapsed": true
   },
   "outputs": [],
   "source": [
    "from sklearn.ensemble import ExtraTreesRegressor"
   ]
  },
  {
   "cell_type": "code",
   "execution_count": 22,
   "metadata": {
    "collapsed": true
   },
   "outputs": [],
   "source": [
    "et_params = dict(\n",
    "    n_estimators=100,\n",
    "    criterion='mse',\n",
    "    max_depth=30,\n",
    "    min_samples_split=6,\n",
    "    min_samples_leaf=6,\n",
    "    max_features=4, \n",
    "    bootstrap=False, \n",
    "    n_jobs=-1,\n",
    "    random_state=1\n",
    ")"
   ]
  },
  {
   "cell_type": "code",
   "execution_count": 23,
   "metadata": {
    "collapsed": false,
    "scrolled": true
   },
   "outputs": [
    {
     "name": "stderr",
     "output_type": "stream",
     "text": [
      "100%|██████████| 4/4 [00:56<00:00, 14.11s/it]\n"
     ]
    }
   ],
   "source": [
    "df_features['pred_et'] = np.nan\n",
    "\n",
    "evals = []\n",
    "rmses = []\n",
    "\n",
    "for i in tqdm([1, 2, 3, 4]):\n",
    "    df_train = df_features[df_features.biweek_id > i].reset_index(drop=1)\n",
    "    df_val = df_features[df_features.biweek_id == i].reset_index(drop=1)\n",
    "\n",
    "    df_train = df_train[~df_train.pays_count.isnull()].reset_index(drop=1)\n",
    "    df_val = df_val[~df_val.pays_count_unmodified.isnull()].reset_index(drop=1)\n",
    "\n",
    "    y_train = df_train.pays_count.values\n",
    "    y_val = df_val.pays_count_unmodified.values\n",
    "\n",
    "    X_train = df_train[features].fillna(-1).values\n",
    "    X_val = df_val[features].fillna(-1).values\n",
    "\n",
    "    et = ExtraTreesRegressor(**et_params)\n",
    "    et.fit(X_train, y_train)\n",
    "    y_pred = et.predict(X_val)\n",
    "\n",
    "    val_idx = (df_features.biweek_id == i) & (~df_features.pays_count_unmodified.isnull())\n",
    "    df_features.loc[val_idx, 'pred_et'] = y_pred\n",
    "    \n",
    "    r = rmse(y_val, y_pred)\n",
    "    e = evaluation_metric(y_val, y_pred)\n",
    "\n",
    "    evals.append(e)\n",
    "    rmses.append(r)"
   ]
  },
  {
   "cell_type": "code",
   "execution_count": 24,
   "metadata": {
    "collapsed": false,
    "scrolled": true
   },
   "outputs": [
    {
     "name": "stdout",
     "output_type": "stream",
     "text": [
      "56.4404052145 4.17597846704\n",
      "0.120954603449 0.0108652292588\n"
     ]
    }
   ],
   "source": [
    "print(np.mean(rmses), np.std(rmses))\n",
    "print(np.mean(evals), np.std(evals))"
   ]
  },
  {
   "cell_type": "code",
   "execution_count": 35,
   "metadata": {
    "collapsed": false
   },
   "outputs": [
    {
     "name": "stderr",
     "output_type": "stream",
     "text": [
      "100%|██████████| 4/4 [00:00<00:00, 22.40it/s]"
     ]
    },
    {
     "name": "stdout",
     "output_type": "stream",
     "text": [
      "57.3178979979 3.9974898377\n",
      "0.116969866005 0.0126765164031\n"
     ]
    },
    {
     "name": "stderr",
     "output_type": "stream",
     "text": [
      "\n"
     ]
    }
   ],
   "source": [
    "evals = []\n",
    "rmses = []\n",
    "\n",
    "for i in tqdm([1, 2, 3, 4]):\n",
    "    df_val = df_features[df_features.biweek_id == i].reset_index(drop=1)\n",
    "    df_val = df_val[~df_val.pays_count_unmodified.isnull()].reset_index(drop=1)\n",
    "    y_val = df_val.pays_count_unmodified.values\n",
    "\n",
    "    xgb_pred = df_val.pred.values\n",
    "    et_pred = df_val.pred_et.values\n",
    "    y_pred = (3 * xgb_pred + 1 * et_pred) / 4\n",
    "\n",
    "    r = rmse(y_val, y_pred)\n",
    "    e = evaluation_metric(y_val, y_pred)\n",
    "\n",
    "    evals.append(e)\n",
    "    rmses.append(r)\n",
    "\n",
    "print(np.mean(rmses), np.std(rmses))\n",
    "print(np.mean(evals), np.std(evals))"
   ]
  },
  {
   "cell_type": "code",
   "execution_count": null,
   "metadata": {
    "collapsed": true
   },
   "outputs": [],
   "source": [
    "i = 1\n",
    "df_train = df_features[df_features.biweek_id > i].reset_index(drop=1)\n",
    "df_val = df_features[df_features.biweek_id == i].reset_index(drop=1)\n",
    "\n",
    "df_train = df_train[~df_train.pays_count.isnull()].reset_index(drop=1)\n",
    "df_val = df_val[~df_val.pays_count_unmodified.isnull()].reset_index(drop=1)\n",
    "\n",
    "y_train = df_train.pays_count.values\n",
    "y_val = df_val.pays_count_unmodified.values\n",
    "\n",
    "X_train = df_train[features].values\n",
    "X_val = df_val[features].values\n",
    "\n",
    "dtrain = xgb.DMatrix(X_train, label=y_train, feature_names=features, missing=np.nan)\n",
    "dval = xgb.DMatrix(X_val, label=y_val, feature_names=features, missing=np.nan)\n",
    "watchlist = [(dtrain, 'train'), (dval, 'val')]"
   ]
  },
  {
   "cell_type": "code",
   "execution_count": 39,
   "metadata": {
    "collapsed": false
   },
   "outputs": [],
   "source": [
    "xgb_pars = {\n",
    "    'eta': 0.1,\n",
    "    'gamma': 0,\n",
    "    'max_depth': 12,\n",
    "    'min_child_weight': 1,\n",
    "    'max_delta_step': 0,\n",
    "    'subsample': 1,\n",
    "    'colsample_bytree': 1,\n",
    "    'colsample_bylevel': 1,\n",
    "    'lambda': 1,\n",
    "    'alpha': 0,\n",
    "    'tree_method': 'approx',\n",
    "    'objective': 'reg:linear',\n",
    "    #'objective': 'count:poisson',\n",
    "    'eval_metric': 'rmse',\n",
    "    'nthread': 8,\n",
    "    'seed': 42,\n",
    "    'silent': 1\n",
    "}\n",
    "\n",
    "n_estimators = 70"
   ]
  },
  {
   "cell_type": "code",
   "execution_count": null,
   "metadata": {
    "collapsed": false,
    "scrolled": true
   },
   "outputs": [
    {
     "name": "stdout",
     "output_type": "stream",
     "text": [
      "[0]\ttrain-rmse:156.263\tval-rmse:189.873\ttrain-metric:0.792569\tval-metric:0.80063\n",
      "[1]\ttrain-rmse:141.64\tval-rmse:173.156\ttrain-metric:0.652692\tval-metric:0.661842\n",
      "[2]\ttrain-rmse:128.52\tval-rmse:158.505\ttrain-metric:0.546564\tval-metric:0.556942\n",
      "[3]\ttrain-rmse:116.769\tval-rmse:145.019\ttrain-metric:0.463802\tval-metric:0.474416\n",
      "[4]\ttrain-rmse:106.215\tval-rmse:133.289\ttrain-metric:0.397614\tval-metric:0.407687\n",
      "[5]\ttrain-rmse:96.774\tval-rmse:122.797\ttrain-metric:0.343971\tval-metric:0.3546\n",
      "[6]\ttrain-rmse:88.3167\tval-rmse:113.754\ttrain-metric:0.30015\tval-metric:0.310359\n",
      "[7]\ttrain-rmse:80.768\tval-rmse:105.396\ttrain-metric:0.264029\tval-metric:0.273557\n",
      "[8]\ttrain-rmse:74.0407\tval-rmse:98.6084\ttrain-metric:0.234225\tval-metric:0.243848\n",
      "[9]\ttrain-rmse:68.0344\tval-rmse:92.2743\ttrain-metric:0.209456\tval-metric:0.218786\n",
      "[10]\ttrain-rmse:62.6906\tval-rmse:86.9279\ttrain-metric:0.188919\tval-metric:0.197756\n",
      "[11]\ttrain-rmse:57.9127\tval-rmse:82.5198\ttrain-metric:0.171853\tval-metric:0.181234\n",
      "[12]\ttrain-rmse:53.6825\tval-rmse:78.6701\ttrain-metric:0.157718\tval-metric:0.167103\n",
      "[13]\ttrain-rmse:49.9145\tval-rmse:74.981\ttrain-metric:0.145973\tval-metric:0.155278\n",
      "[14]\ttrain-rmse:46.5844\tval-rmse:71.9283\ttrain-metric:0.136283\tval-metric:0.145609\n",
      "[15]\ttrain-rmse:43.6494\tval-rmse:69.5406\ttrain-metric:0.128338\tval-metric:0.137959\n",
      "[16]\ttrain-rmse:41.0649\tval-rmse:67.5009\ttrain-metric:0.12171\tval-metric:0.131641\n",
      "[17]\ttrain-rmse:38.7862\tval-rmse:65.4854\ttrain-metric:0.11627\tval-metric:0.126391\n",
      "[18]\ttrain-rmse:36.8037\tval-rmse:63.8953\ttrain-metric:0.111787\tval-metric:0.122318\n",
      "[19]\ttrain-rmse:35.0663\tval-rmse:62.4186\ttrain-metric:0.108085\tval-metric:0.118761\n",
      "[20]\ttrain-rmse:33.5461\tval-rmse:61.1188\ttrain-metric:0.105039\tval-metric:0.11586\n",
      "[21]\ttrain-rmse:32.1863\tval-rmse:60.0034\ttrain-metric:0.102447\tval-metric:0.113596\n",
      "[22]\ttrain-rmse:30.9831\tval-rmse:58.9723\ttrain-metric:0.100364\tval-metric:0.111618\n",
      "[23]\ttrain-rmse:29.9353\tval-rmse:58.0878\ttrain-metric:0.098594\tval-metric:0.109982\n",
      "[24]\ttrain-rmse:29.0268\tval-rmse:57.2686\ttrain-metric:0.097104\tval-metric:0.108746\n",
      "[25]\ttrain-rmse:28.2085\tval-rmse:56.6754\ttrain-metric:0.095782\tval-metric:0.107592\n",
      "[26]\ttrain-rmse:27.446\tval-rmse:56.0748\ttrain-metric:0.094637\tval-metric:0.106665\n",
      "[27]\ttrain-rmse:26.806\tval-rmse:55.6199\ttrain-metric:0.093678\tval-metric:0.105992\n",
      "[28]\ttrain-rmse:26.2294\tval-rmse:55.2279\ttrain-metric:0.092886\tval-metric:0.105255\n",
      "[29]\ttrain-rmse:25.6759\tval-rmse:54.672\ttrain-metric:0.092091\tval-metric:0.1046\n",
      "[30]\ttrain-rmse:25.2177\tval-rmse:54.271\ttrain-metric:0.091413\tval-metric:0.104245\n",
      "[31]\ttrain-rmse:24.8111\tval-rmse:53.9566\ttrain-metric:0.090866\tval-metric:0.103833\n",
      "[32]\ttrain-rmse:24.4497\tval-rmse:53.6689\ttrain-metric:0.090413\tval-metric:0.103567\n",
      "[33]\ttrain-rmse:24.089\tval-rmse:53.4157\ttrain-metric:0.089938\tval-metric:0.103378\n",
      "[34]\ttrain-rmse:23.7791\tval-rmse:53.2131\ttrain-metric:0.089551\tval-metric:0.103152\n",
      "[35]\ttrain-rmse:23.486\tval-rmse:53.0556\ttrain-metric:0.089135\tval-metric:0.103\n",
      "[36]\ttrain-rmse:23.2173\tval-rmse:52.9703\ttrain-metric:0.088743\tval-metric:0.102936\n",
      "[37]\ttrain-rmse:22.9662\tval-rmse:52.8396\ttrain-metric:0.088381\tval-metric:0.102785\n",
      "[38]\ttrain-rmse:22.6808\tval-rmse:52.6985\ttrain-metric:0.087902\tval-metric:0.10267\n",
      "[39]\ttrain-rmse:22.4384\tval-rmse:52.5342\ttrain-metric:0.087552\tval-metric:0.10254\n",
      "[40]\ttrain-rmse:22.2219\tval-rmse:52.4148\ttrain-metric:0.087186\tval-metric:0.102475\n",
      "[41]\ttrain-rmse:21.9741\tval-rmse:52.3595\ttrain-metric:0.086833\tval-metric:0.102376\n",
      "[42]\ttrain-rmse:21.7824\tval-rmse:52.2962\ttrain-metric:0.086493\tval-metric:0.102406\n",
      "[43]\ttrain-rmse:21.5649\tval-rmse:52.2942\ttrain-metric:0.086139\tval-metric:0.102485\n",
      "[44]\ttrain-rmse:21.3899\tval-rmse:52.2296\ttrain-metric:0.085863\tval-metric:0.10242\n",
      "[45]\ttrain-rmse:21.2348\tval-rmse:52.1857\ttrain-metric:0.08563\tval-metric:0.102515\n",
      "[46]\ttrain-rmse:21.0345\tval-rmse:52.0915\ttrain-metric:0.085267\tval-metric:0.102478\n",
      "[47]\ttrain-rmse:20.855\tval-rmse:52.0788\ttrain-metric:0.084977\tval-metric:0.102454\n",
      "[48]\ttrain-rmse:20.6728\tval-rmse:52.0414\ttrain-metric:0.084629\tval-metric:0.102508\n",
      "[49]\ttrain-rmse:20.5205\tval-rmse:51.9345\ttrain-metric:0.084381\tval-metric:0.102544\n",
      "[50]\ttrain-rmse:20.3848\tval-rmse:51.9052\ttrain-metric:0.084075\tval-metric:0.102525\n",
      "[51]\ttrain-rmse:20.2909\tval-rmse:51.8411\ttrain-metric:0.083881\tval-metric:0.10255\n",
      "[52]\ttrain-rmse:20.1502\tval-rmse:51.8212\ttrain-metric:0.08366\tval-metric:0.102522\n",
      "[53]\ttrain-rmse:20.0163\tval-rmse:51.8151\ttrain-metric:0.083338\tval-metric:0.102554\n",
      "[54]\ttrain-rmse:19.8851\tval-rmse:51.8523\ttrain-metric:0.083064\tval-metric:0.102711\n",
      "[55]\ttrain-rmse:19.7355\tval-rmse:51.8393\ttrain-metric:0.082686\tval-metric:0.102885\n",
      "[56]\ttrain-rmse:19.6469\tval-rmse:51.7932\ttrain-metric:0.082523\tval-metric:0.102864\n",
      "[57]\ttrain-rmse:19.5225\tval-rmse:51.7954\ttrain-metric:0.082251\tval-metric:0.102898\n",
      "[58]\ttrain-rmse:19.4089\tval-rmse:51.7964\ttrain-metric:0.081988\tval-metric:0.102924\n",
      "[59]\ttrain-rmse:19.2948\tval-rmse:51.8141\ttrain-metric:0.081746\tval-metric:0.102903\n",
      "[60]\ttrain-rmse:19.1696\tval-rmse:51.8054\ttrain-metric:0.081441\tval-metric:0.102925\n",
      "[61]\ttrain-rmse:19.089\tval-rmse:51.7692\ttrain-metric:0.081266\tval-metric:0.102884\n",
      "[62]\ttrain-rmse:18.9856\tval-rmse:51.7924\ttrain-metric:0.081032\tval-metric:0.103002\n",
      "[63]\ttrain-rmse:18.8901\tval-rmse:51.7293\ttrain-metric:0.080776\tval-metric:0.102988\n",
      "[64]\ttrain-rmse:18.785\tval-rmse:51.703\ttrain-metric:0.080566\tval-metric:0.10301\n",
      "[65]\ttrain-rmse:18.655\tval-rmse:51.708\ttrain-metric:0.080241\tval-metric:0.103014\n",
      "[66]\ttrain-rmse:18.5478\tval-rmse:51.684\ttrain-metric:0.080078\tval-metric:0.103035\n",
      "[67]\ttrain-rmse:18.4505\tval-rmse:51.6559\ttrain-metric:0.079784\tval-metric:0.10309\n",
      "[68]\ttrain-rmse:18.3733\tval-rmse:51.6611\ttrain-metric:0.07955\tval-metric:0.103081\n",
      "[69]\ttrain-rmse:18.2411\tval-rmse:51.6634\ttrain-metric:0.079312\tval-metric:0.103091\n",
      "[70]\ttrain-rmse:18.1386\tval-rmse:51.6573\ttrain-metric:0.079017\tval-metric:0.103058\n",
      "[71]\ttrain-rmse:18.0282\tval-rmse:51.6412\ttrain-metric:0.078758\tval-metric:0.103064\n",
      "[72]\ttrain-rmse:17.9388\tval-rmse:51.6643\ttrain-metric:0.078575\tval-metric:0.103107\n",
      "[73]\ttrain-rmse:17.8306\tval-rmse:51.6864\ttrain-metric:0.078251\tval-metric:0.103193\n",
      "[74]\ttrain-rmse:17.761\tval-rmse:51.6674\ttrain-metric:0.077893\tval-metric:0.103133\n",
      "[75]\ttrain-rmse:17.6625\tval-rmse:51.6695\ttrain-metric:0.077578\tval-metric:0.103209\n",
      "[76]\ttrain-rmse:17.5825\tval-rmse:51.6882\ttrain-metric:0.077294\tval-metric:0.103173\n"
     ]
    }
   ],
   "source": [
    "model = xgb.train(xgb_pars, dtrain, num_boost_round=n_estimators, evals=watchlist, \n",
    "                  verbose_eval=1, feval=eval_metric)"
   ]
  },
  {
   "cell_type": "code",
   "execution_count": 21,
   "metadata": {
    "collapsed": false,
    "scrolled": true
   },
   "outputs": [
    {
     "data": {
      "text/plain": [
       "[('trend_weekend_median', 113158448.22088234),\n",
       " ('trend_dow_median', 97180391.08636361),\n",
       " ('trend_median', 57006583.06192307),\n",
       " ('location_id', 26938969.343623374),\n",
       " ('trend_weekend_6', 13020910.39246154),\n",
       " ('dow_std_12', 5908357.5626754705),\n",
       " ('shop_id', 4335415.3214000035),\n",
       " ('trend_dow_12', 3286941.020923695),\n",
       " ('pays_count_category_2_mean_trend_dow_6', 2561957.192933334),\n",
       " ('trend_2', 2165176.7196511626),\n",
       " ('pays_count_category_3_mean_trend_weekend_18', 1588700.009302326),\n",
       " ('trend_weekend_coef_12', 1572212.5506666668),\n",
       " ('trend_dow_18', 1465860.336859156),\n",
       " ('no_user_info', 1336832.6),\n",
       " ('dow_std_2', 1178398.6259062497),\n",
       " ('pays_count_category_3_mean_trend_dow_18', 1147492.54625),\n",
       " ('loc_cnt', 1142407.4385357143),\n",
       " ('dow_mean_6', 1109656.6095925926),\n",
       " ('pays_count_category_1_mean_trend_dow_12', 1098164.747096774),\n",
       " ('trend_5', 1069983.8750000002),\n",
       " ('pays_count_location_id_mean_trend_coef_12', 1052398.6981818178),\n",
       " ('trend_dow_coef_18', 926727.4659322035),\n",
       " ('dow_std_3', 922202.7266084746),\n",
       " ('pays_count_city_name_mean_trend_weekend_coef_3', 882860.6255999999),\n",
       " ('pays_count_category_3_mean_trend_weekend_coef_18', 836731.4820833335),\n",
       " ('pays_count_city_name_mean_trend_weekend_12', 817767.027142857),\n",
       " ('prev_biweek_last_value', 815932.8441567697),\n",
       " ('trend_weekend_3', 798942.6989830509),\n",
       " ('pays_count_category_2_mean_trend_dow_18', 759871.4191081082),\n",
       " ('pays_count_location_id_mean_trend_dow_5', 686352.2214999999),\n",
       " ('pays_count_location_id_mean_std_1', 642698.8715384614),\n",
       " ('pays_count_city_name_mean_trend_overall_weekend', 614565.8183870972),\n",
       " ('dow_mean_12', 593514.0398181814),\n",
       " ('penultimate', 587575.6065454544),\n",
       " ('pays_count_city_name_mean_trend_12', 585498.1414285712),\n",
       " ('pays_count_category_2_mean_trend_overall_weekend', 579601.8213157894),\n",
       " ('pays_count_category_3_mean_trend_overall_coeff', 566454.9500000002),\n",
       " ('pays_count_category_3_mean_dow_std_3', 540466.2236842107),\n",
       " ('trend_weekend_18', 534471.1165957449),\n",
       " ('pays_count_city_name_mean_trend_weekend_18', 516430.6185217392),\n",
       " ('pays_count_category_1_mean_trend_weekend_12', 503970.26871794846),\n",
       " ('pays_count_location_id_mean_trend_coef_18', 492434.35268292675),\n",
       " ('trend_overall_dow', 481996.03322580643),\n",
       " ('pays_count_category_2_mean_trend_dow_12', 471459.21250000026),\n",
       " ('pays_count_location_id_mean_trend_weekend_5', 464250.24847368425),\n",
       " ('trend_dow_6', 461220.17540350865),\n",
       " ('pays_count_location_id_mean_trend_coef_4', 447544.4866666666),\n",
       " ('pays_count_city_name_mean_std_1', 435750.3496551725),\n",
       " ('trend_weekend_coef_4', 424707.30897435884),\n",
       " ('pays_count_category_2_mean_trend_overall_coeff', 400873.78192307684),\n",
       " ('pays_count_category_2_mean_trend_weekend_18', 398072.5119999999),\n",
       " ('biweekly_coef', 389531.80457355746),\n",
       " ('pays_count_category_3_mean_trend_dow_12', 377285.322547619),\n",
       " ('pays_count_city_name_mean_trend_dow_12', 359135.66071590915),\n",
       " ('weekly_coef', 359019.71176470583),\n",
       " ('pays_count_category_2_mean_trend_overall', 334957.60417500004),\n",
       " ('pays_count_category_1_mean_dow_mean_3', 329358.37793103454),\n",
       " ('pays_count_location_id_mean_trend_2', 323087.0632352942),\n",
       " ('trend_weekend_12', 316238.66327586217),\n",
       " ('pays_count_location_id_mean_trend_dow_12', 309060.85363636375),\n",
       " ('pays_count_location_id_mean_trend_dow_18', 308340.0113703704),\n",
       " ('pays_count_category_2_mean_dow_mean_3', 306367.91818181815),\n",
       " ('user_score', 303795.12),\n",
       " ('pays_count_category_3_mean_std_1', 302517.91359999997),\n",
       " ('pays_count_city_name_mean_trend_weekend_coef_18', 301671.79130434786),\n",
       " ('pays_count_city_name_mean_trend_dow_6', 288239.7248148148),\n",
       " ('pays_count_category_2_mean_trend_weekend_6', 282415.7798846154),\n",
       " ('pays_count_location_id_mean_trend_5', 282224.5875294117),\n",
       " ('trend_coef_3', 272896.7411764706),\n",
       " ('pays_count_category_3_mean_dow_std_2', 271970.647826087),\n",
       " ('pays_count_category_2_mean_trend_weekend_12', 268911.79000000004),\n",
       " ('pays_count_category_2_mean_trend_overall_dow', 267326.5018000001),\n",
       " ('trend_weekend_coef_3', 260398.72666666665),\n",
       " ('dow', 253090.6175460804),\n",
       " ('weekly_trend', 252241.35216000007),\n",
       " ('std_1', 251004.55635593215),\n",
       " ('pays_count_category_2_mean_mean_1', 241382.63125),\n",
       " ('pays_count_location_id_mean_trend_coef_5', 232346.3951612904),\n",
       " ('pays_count_category_3_mean_trend_4', 231140.88163265304),\n",
       " ('trend_coef_2', 229936.67137254903),\n",
       " ('prev_spread', 228073.3648780488),\n",
       " ('pays_count_location_id_mean_prev_spread', 225475.41468750002),\n",
       " ('pays_count_city_name_mean_trend_weekend_6', 225075.98900000003),\n",
       " ('pays_count_location_id_mean_trend_weekend_coef_12', 223047.92879999997),\n",
       " ('pays_count_city_name_mean_prev_biweek_last_value', 222546.02797101453),\n",
       " ('pays_count_location_id_mean_trend_weekend_coef_18', 222336.26521739128),\n",
       " ('cat2_cnt', 215432.17272727273),\n",
       " ('pays_count_location_id_mean_trend_overall_coeff', 214025.42950000003),\n",
       " ('pays_count_location_id_mean_prev_biweek_p25', 208742.21899999998),\n",
       " ('avg_pay', 198902.71074986106),\n",
       " ('pays_count_category_2_mean_trend_weekend_coef_12', 195886.72608695645),\n",
       " ('pays_count_location_id_mean_trend_dow_coef_12', 189950.01088888885),\n",
       " ('trend_overall_weekend_coeff', 189606.375),\n",
       " ('pays_count_city_name_mean_trend_6', 189232.26657142857),\n",
       " ('pays_count_city_name_mean_trend_4', 183269.66341463418),\n",
       " ('trend_weekend_4', 181544.7326666667),\n",
       " ('pays_count_city_name_mean_trend_overall_dow_coeff', 178552.9328571429),\n",
       " ('dow_std_6', 174697.2143076923),\n",
       " ('pays_count_category_3_mean_prev_biweek_p75', 173858.32499999998),\n",
       " ('city_id', 173040.86531914893),\n",
       " ('pays_count_category_1_mean_prev_biweek_last_value', 171839.1225531915),\n",
       " ('pays_count_category_1_mean_prev_spread', 170729.53509782613),\n",
       " ('pays_count_location_id_mean_dow_std_3', 169110.49066666668),\n",
       " ('pays_count_category_1_mean_trend_6', 166783.40345655737),\n",
       " ('pays_count_category_3_mean_prev_biweek_last_value', 165874.9444047619),\n",
       " ('pays_count_category_1_mean_trend_weekend_coef_3', 165805.05608695655),\n",
       " ('pays_count_city_name_mean_trend_18', 165116.33394285716),\n",
       " ('pays_count_city_name_mean_trend_overall_coeff', 164998.46764705883),\n",
       " ('pays_count_city_name_mean_trend_coef_5', 160228.39999999997),\n",
       " ('pays_count_category_1_mean_mean_1', 158710.45128205125),\n",
       " ('pays_count_category_1_mean_dow_mean_2', 158205.98266666668),\n",
       " ('trend_18', 155825.0201587302),\n",
       " ('pays_count_category_2_mean_trend_weekend_coef_6', 155595.53),\n",
       " ('pays_count_category_1_mean_dow_std_2', 154492.3355208634),\n",
       " ('biweekly_trend', 152757.94576399997),\n",
       " ('pays_count_city_name_mean_prev_biweek_p75', 147675.5770833333),\n",
       " ('pays_count_city_name_mean_mean_1', 146538.5584210526),\n",
       " ('pays_count_category_2_mean_trend_4', 145791.9124680851),\n",
       " ('pays_count_location_id_mean_trend_weekend_coef_3', 145519.44086956524),\n",
       " ('pays_count_city_name_mean_trend_overall_weekend_coeff', 144782.75181818183),\n",
       " ('pays_count_city_name_mean_trend_dow_coef_3', 143369.50535714286),\n",
       " ('pays_count_category_2_mean_dow_std_3', 142423.00499999995),\n",
       " ('pays_count_location_id_mean_trend_weekend_coef_4', 141513.091875),\n",
       " ('pays_count_category_3_mean_trend_weekend_coef_12', 139912.88909090913),\n",
       " ('pays_count_category_3_mean_trend_weekend_12', 139601.83223913045),\n",
       " ('pays_count_location_id_mean_prev_biweek_last_value', 138869.54835526313),\n",
       " ('dow_mean_3', 138645.99419354842),\n",
       " ('biweekly_weekend_trend', 138478.44895652172),\n",
       " ('pays_count_category_1_mean_trend_weekend_5', 137041.80101694915),\n",
       " ('pays_count_location_id_mean_trend_weekend_6', 137026.32315789475),\n",
       " ('pays_count_category_1_mean_trend_coef_2', 136525.72194805197),\n",
       " ('pays_count_city_name_mean_prev_spread', 135044.6207317073),\n",
       " ('pays_count_category_1_mean_prev_biweek_p25', 134757.69162790698),\n",
       " ('trend_overall_dow_coeff', 134715.15926470587),\n",
       " ('pays_count_category_3_mean_trend_coef_2', 133612.58098360655),\n",
       " ('pays_count_category_3_mean_trend_3', 133389.9686),\n",
       " ('pays_count_location_id_mean_trend_weekend_12', 132156.88181818184),\n",
       " ('pays_count_city_name_mean_trend_dow_coef_5', 131919.08534615382),\n",
       " ('pays_count_category_1_mean_prev_biweek_p75', 131714.1830909091),\n",
       " ('pays_count_category_3_mean_mean_1', 131521.04437500003),\n",
       " ('pays_count_city_name_mean_trend_5', 131421.81389285714),\n",
       " ('pays_count_location_id_mean_trend_coef_2', 131310.42918390792),\n",
       " ('pays_count_category_2_mean_trend_coef_12', 129933.51764705882),\n",
       " ('pays_count_category_3_mean_dow_mean_3', 129509.78571428571),\n",
       " ('pays_count_category_2_mean_trend_coef_2', 129407.43101449276),\n",
       " ('pays_count_category_2_mean_trend_coef_6', 128973.35),\n",
       " ('pays_count_city_name_mean_trend_coef_3', 128679.01826086952),\n",
       " ('pays_count_category_1_mean_trend_overall_dow_coeff', 127973.59894736837),\n",
       " ('trend_dow_coef_4', 127836.83615517238),\n",
       " ('trend_overall', 127378.86439999998),\n",
       " ('pays_count_location_id_mean_trend_weekend_coef_5', 127267.86125),\n",
       " ('dow_mean_5', 127088.0),\n",
       " ('pays_count_category_2_mean_trend_6', 126865.99515217391),\n",
       " ('pays_count_category_1_mean_trend_weekend_coef_5', 126861.53333333335),\n",
       " ('pays_count_category_2_mean_trend_coef_3', 125510.56000000003),\n",
       " ('pays_count_category_3_mean_trend_weekend_coef_5', 124721.14999999998),\n",
       " ('pays_count_category_3_mean_trend_weekend_coef_4', 124091.18523809526),\n",
       " ('pays_count_category_3_mean_prev_spread', 123949.84772727267),\n",
       " ('pays_count_category_2_mean_prev_biweek_last_value', 123243.8383606557),\n",
       " ('pays_count_category_2_mean_std_1', 122969.4375),\n",
       " ('trend_coef_4', 122387.33000000005),\n",
       " ('pays_count_category_2_mean_trend_weekend_coef_18', 122371.87550000001),\n",
       " ('pays_count_location_id_mean_trend_coef_6', 122330.54965517239),\n",
       " ('pays_count_category_3_mean_trend_coef_4', 121800.90975609755),\n",
       " ('pays_count_category_2_mean_trend_weekend_4', 120186.10205128207),\n",
       " ('pays_count_category_3_mean_trend_overall_weekend_coeff',\n",
       "  118995.22857142858),\n",
       " ('pays_count_location_id_mean_dow_mean_3', 118010.19285714286),\n",
       " ('pays_count_category_1_mean_trend_weekend_4', 117660.08938181821),\n",
       " ('pays_count_category_2_mean_trend_dow_coef_12', 117410.38887500003),\n",
       " ('pays_count_category_2_mean_trend_coef_4', 115854.88437499997),\n",
       " ('pays_count_category_3_mean_trend_dow_6', 114031.62857142858),\n",
       " ('pays_count_category_1_mean_trend_coef_6', 113864.63853571432),\n",
       " ('pays_count_category_1_mean_trend_weekend_6', 113753.78961538461),\n",
       " ('trend_overall_coeff', 112760.38888888889),\n",
       " ('pays_count_category_1_mean_trend_12', 111966.83060979386),\n",
       " ('pays_count_category_1_mean_trend_dow_3', 111592.4812499999),\n",
       " ('pays_count_category_1_mean_trend_weekend_coef_6', 110046.64705882351),\n",
       " ('pays_count_category_1_mean_trend_coef_4', 109659.1),\n",
       " ('pays_count_category_3_mean_trend_weekend_4', 108987.42202857144),\n",
       " ('pays_count_category_1_mean_trend_coef_12', 108244.9388888889),\n",
       " ('pays_count_category_1_mean_std_1', 108235.52924999999),\n",
       " ('pays_count_category_2_mean_trend_coef_18', 108088.17142857141),\n",
       " ('pays_count_city_name_mean_trend_dow_3', 108071.02594594596),\n",
       " ('pays_count_category_3_mean_trend_weekend_coef_3', 107587.55500000002),\n",
       " ('pays_count_category_1_mean_second_in_biweek', 107497.70841023629),\n",
       " ('pays_count_city_name_mean_trend_coef_12', 107249.96153846158),\n",
       " ('pays_count_category_1_mean_trend_overall_weekend', 107127.43530158732),\n",
       " ('pays_count_location_id_mean_trend_weekend_18', 106940.82142857145),\n",
       " ('cat3_cnt', 106535.575),\n",
       " ('pays_count_category_2_mean_prev_biweek_p25', 106389.28461538462),\n",
       " ('pays_count_city_name_mean_dow_std_3', 106255.2496969697),\n",
       " ('pays_count_city_name_mean_trend_overall_dow', 106164.20933333332),\n",
       " ('pays_count_category_1_mean_trend_coef_18', 106121.27028571429),\n",
       " ('pays_count_location_id_mean_trend_12', 105990.77956956522),\n",
       " ('pays_count_category_1_mean_trend_4', 105824.16064772726),\n",
       " ('pays_count_category_2_mean_trend_5', 105457.72187903225),\n",
       " ('pays_count_category_2_mean_prev_spread', 104670.53600000002),\n",
       " ('dow_mean_4', 104579.43681818178),\n",
       " ('pays_count_category_3_mean_dow_mean_2', 104550.41071428572),\n",
       " ('pays_count_category_1_mean_trend_weekend_coef_18', 104282.82962962965),\n",
       " ('pays_count_category_3_mean_prev_biweek_p25', 104276.3),\n",
       " ('pays_count_category_3_mean_trend_weekend_6', 103629.86405405405),\n",
       " ('pays_count_category_2_mean_trend_weekend_5', 103235.65333333335),\n",
       " ('pays_count_category_1_mean_trend_weekend_coef_12', 103183.9105),\n",
       " ('pays_count_category_1_mean_trend_overall', 102042.81791176472),\n",
       " ('pays_count_category_3_mean_trend_12', 101627.29901886793),\n",
       " ('pays_count_category_2_mean_trend_weekend_coef_4', 101343.3323529412),\n",
       " ('pays_count_category_3_mean_trend_dow_3', 101305.15975609756),\n",
       " ('pays_count_category_1_mean_trend_18', 101154.00141041668),\n",
       " ('pays_count_category_3_mean_trend_coef_12', 100858.926),\n",
       " ('pays_count_category_2_mean_penultimate', 100465.14450980393),\n",
       " ('pays_count_category_1_mean_dow_std_3', 99736.25),\n",
       " ('pays_count_category_1_mean_trend_overall_weekend_coeff', 98536.98999999999),\n",
       " ('pays_count_category_1_mean_trend_coef_5', 97843.46772093025),\n",
       " ('pays_count_location_id_mean_trend_coef_3', 97299.12500000001),\n",
       " ('pays_count_category_3_mean_trend_dow_coef_3', 97241.14296666667),\n",
       " ('pays_count_category_2_mean_trend_weekend_3', 97235.07155555555),\n",
       " ('pays_count_city_name_mean_trend_dow_coef_12', 97217.6007142857),\n",
       " ('pays_count_category_2_mean_trend_18', 96975.21444444443),\n",
       " ('pays_count_category_1_mean_trend_weekend_18', 96973.88760500001),\n",
       " ('pays_count_category_3_mean_trend_overall', 96421.10965517239),\n",
       " ('pays_count_city_name_mean_trend_dow_coef_18', 96403.64200000002),\n",
       " ('pays_count_city_name_mean_trend_2', 95921.31229508201),\n",
       " ('pays_count_category_3_mean_trend_5', 95697.14688888889),\n",
       " ('pays_count_category_1_mean_trend_dow_18', 95563.58125000002),\n",
       " ('pays_count_city_name_mean_trend_coef_18', 95314.22531250001),\n",
       " ('pays_count_category_2_mean_trend_overall_weekend_coeff', 94738.8652173913),\n",
       " ('pays_count_location_id_mean_dow_std_2', 94549.2145),\n",
       " ('pays_count_city_name_mean_trend_weekend_coef_6', 94153.94181818182),\n",
       " ('pays_count_category_3_mean_trend_coef_3', 93936.74722222221),\n",
       " ('pays_count_category_2_mean_trend_dow_coef_18', 93557.6315151515),\n",
       " ('pays_count_category_1_mean_trend_2', 93444.18516244442),\n",
       " ('pays_count_location_id_mean_dow_mean_2', 93260.96050000004),\n",
       " ('pays_count_category_2_mean_trend_overall_dow_coeff', 92438.65883870969),\n",
       " ('pays_count_category_1_mean_trend_5', 91968.8918691589),\n",
       " ('pays_count_city_name_mean_dow_mean_3', 91798.04166666667),\n",
       " ('pays_count_category_3_mean_trend_weekend_5', 91631.65263157895),\n",
       " ('pays_count_category_3_mean_trend_18', 91566.66499999994),\n",
       " ('pays_count_category_2_mean_trend_12', 90284.21747619049),\n",
       " ('pays_count_city_name_mean_trend_weekend_3', 89462.40025806452),\n",
       " ('pays_count_category_1_mean_trend_coef_3', 89113.91363636362),\n",
       " ('pays_count_category_2_mean_trend_coef_5', 89058.77142857143),\n",
       " ('pays_count_category_1_mean_trend_dow_coef_12', 88872.1860793651),\n",
       " ('pays_count_category_3_mean_trend_weekend_3', 88841.5089130435),\n",
       " ('biweekly_weekend_coef', 88705.74223999998),\n",
       " ('trend_weekend_coef_18', 88565.25631578946),\n",
       " ('pays_count_category_3_mean_trend_overall_dow', 88407.33342857141),\n",
       " ('trend_dow_5', 86716.56034482758),\n",
       " ('pays_count_category_2_mean_dow_std_2', 86039.79216216214),\n",
       " ('user_comment_cnt', 85978.82763440863),\n",
       " ('prev_biweek_p75', 85561.28461538459),\n",
       " ('pays_count_category_3_mean_trend_6', 85212.59642857146),\n",
       " ('trend_coef_6', 85186.22541666668),\n",
       " ('pays_count_category_3_mean_trend_coef_5', 84312.53916666665),\n",
       " ('ooo_mean_1', 84150.18823529413),\n",
       " ('trend_dow_coef_3', 83753.48854166667),\n",
       " ('pays_count_category_2_mean_trend_dow_3', 83660.61342222222),\n",
       " ('pays_count_category_1_mean_trend_3', 83532.78343333332),\n",
       " ('pays_count_location_id_mean_trend_dow_4', 83381.3571851852),\n",
       " ('mean_1', 83141.36028169013),\n",
       " ('pays_count_category_3_mean_trend_weekend_coef_6', 82963.05),\n",
       " ('pays_count_category_3_mean_trend_dow_4', 82846.40025714284),\n",
       " ('pays_count_category_2_mean_trend_2', 82010.3336842105),\n",
       " ('pays_count_category_2_mean_trend_weekend_coef_5', 81655.38962962963),\n",
       " ('pays_count_location_id_mean_trend_overall', 81655.37842105265),\n",
       " ('pays_count_category_2_mean_prev_biweek_p75', 80769.475),\n",
       " ('pays_count_category_3_mean_penultimate', 80426.34521311476),\n",
       " ('pays_count_category_3_mean_trend_overall_dow_coeff', 80167.69666666667),\n",
       " ('pays_count_category_3_mean_trend_coef_18', 79433.59599999999),\n",
       " ('pays_count_location_id_mean_trend_weekend_3', 79367.386),\n",
       " ('pays_count_city_name_mean_trend_weekend_coef_4', 79026.5111111111),\n",
       " ('pays_count_category_3_mean_trend_2', 78958.37592233012),\n",
       " ('trend_coef_5', 78920.06384615385),\n",
       " ('trend_6', 78485.97200000001),\n",
       " ('pays_count_category_2_mean_pays_two_weeks_ago', 78127.41418749999),\n",
       " ('dow_mean_2', 77954.30839024391),\n",
       " ('pays_count_category_1_mean_trend_weekend_coef_4', 76980.06809523811),\n",
       " ('pays_count_city_name_mean_trend_coef_4', 76748.38823529411),\n",
       " ('dow_std_5', 76711.39791666665),\n",
       " ('trend_weekend_coef_6', 76655.87750000002),\n",
       " ('trend_overall_weekend', 76571.54260869564),\n",
       " ('pays_count_category_2_mean_trend_dow_4', 76285.74597619048),\n",
       " ('pays_count_city_name_mean_trend_overall', 76225.09885714288),\n",
       " ('pays_count_city_name_mean_trend_weekend_coef_5', 75820.7575),\n",
       " ('pays_count_category_2_mean_trend_weekend_coef_3', 75760.80235294116),\n",
       " ('pays_count_city_name_mean_trend_dow_18', 75713.03713333336),\n",
       " ('trend_coef_18', 75332.58292537312),\n",
       " ('pays_count_category_3_mean_trend_overall_weekend', 75277.59602777773),\n",
       " ('ooo_mean_4', 74921.22407407408),\n",
       " ('pays_count_city_name_mean_prev_biweek_p25', 74696.57272727272),\n",
       " ('pays_count_city_name_mean_trend_coef_2', 74623.96222222225),\n",
       " ('pays_count_category_2_mean_trend_3', 74417.2940681818),\n",
       " ('pays_count_category_1_mean_penultimate', 73398.92796103896),\n",
       " ('pays_count_location_id_mean_trend_18', 73081.13416666667),\n",
       " ('trend_12', 72965.60341463413),\n",
       " ('trend_weekend_std', 72820.85390243905),\n",
       " ('pays_count_city_name_mean_trend_3', 72611.42271428571),\n",
       " ('trend_weekend_5', 72595.73189285715),\n",
       " ('pays_count_category_2_mean_trend_dow_5', 72089.82949999999),\n",
       " ('dow_std_4', 72077.14511764704),\n",
       " ('pays_count_category_2_mean_trend_dow_coef_6', 71795.00672727273),\n",
       " ('ooo_mean_3', 71608.43000000001),\n",
       " ('pays_count_category_1_mean_trend_overall_coeff', 70647.1891891892),\n",
       " ('pays_count_city_name_mean_dow_std_2', 70231.48645833334),\n",
       " ('pays_count_category_3_mean_pays_two_weeks_ago', 70032.90308411217),\n",
       " ('pays_count_category_1_mean_trend_dow_coef_5', 69924.35966666667),\n",
       " ('pays_count_category_1_mean_trend_dow_coef_6', 69620.7105357143),\n",
       " ('trend_dow_coef_5', 68623.56177999999),\n",
       " ('cat3_id', 68113.201),\n",
       " ('shop_level', 67995.54000000001),\n",
       " ('pays_count_category_3_mean_trend_coef_6', 67699.38210526315),\n",
       " ('pays_count_location_id_mean_trend_overall_weekend_coeff',\n",
       "  67414.09722222223),\n",
       " ('pays_count_category_3_mean_trend_dow_5', 66986.83074074074),\n",
       " ('pays_count_location_id_mean_prev_biweek_p75', 66973.67625),\n",
       " ('pays_count_location_id_mean_trend_weekend_coef_6', 66941.33320000001),\n",
       " ('trend_coef_12', 65964.12084782608),\n",
       " ('pays_count_category_1_mean_trend_dow_5', 65629.37508749998),\n",
       " ('pays_count_city_name_mean_trend_coef_6', 65364.915555555555),\n",
       " ('pays_count_location_id_mean_mean_1', 65320.525625),\n",
       " ('pays_count_category_1_mean_trend_dow_coef_18', 65091.1169470588),\n",
       " ('trend_4', 64848.75677419356),\n",
       " ('pays_count_location_id_mean_trend_overall_dow_coeff', 64772.712129032254),\n",
       " ('pays_count_category_2_mean_dow_mean_2', 64756.3240909091),\n",
       " ('pays_count_city_name_mean_trend_weekend_4', 64592.076210526306),\n",
       " ('pays_count_category_3_mean_trend_dow_coef_5', 64036.26761904763),\n",
       " ('pays_count_city_name_mean_trend_dow_5', 63428.160740740735),\n",
       " ('pays_count_category_3_mean_trend_dow_coef_12', 62827.84505263159),\n",
       " ('pays_count_category_2_mean_trend_dow_coef_3', 62578.17278378376),\n",
       " ('pays_count_category_1_mean_trend_weekend_3', 62421.02282539682),\n",
       " ('pays_count_category_1_mean_trend_dow_coef_3', 61207.639071428566),\n",
       " ('pays_count_location_id_mean_trend_6', 60717.4728),\n",
       " ('trend_dow_coef_12', 60716.15271084338),\n",
       " ('pays_count_category_3_mean_trend_dow_coef_6', 60445.73684210526),\n",
       " ('pays_two_weeks_ago', 60174.06951190474),\n",
       " ('pays_count_location_id_mean_trend_overall_weekend', 60106.16166666665),\n",
       " ('pays_count_category_1_mean_trend_dow_coef_4', 59919.64875),\n",
       " ('city_cnt', 59866.450243902436),\n",
       " ('pays_count_city_name_mean_trend_dow_coef_6', 59195.97173913043),\n",
       " ('trend_std', 59128.68160416667),\n",
       " ('pays_count_location_id_mean_trend_dow_coef_5', 58721.07266666666),\n",
       " ('pays_count_city_name_mean_pays_two_weeks_ago', 58623.298308333346),\n",
       " ('pays_count_city_name_mean_dow_mean_2', 57962.04),\n",
       " ('trend_dow_std', 57434.46045569618),\n",
       " ('pays_count_category_2_mean_trend_dow_coef_5', 57132.32716666668),\n",
       " ('trend_3', 56670.335806451614),\n",
       " ('trend_weekend_coef_5', 56578.358193548396),\n",
       " ('prev_biweek_p25', 56184.03300000001),\n",
       " ('pays_count_location_id_mean_trend_dow_coef_4', 54402.010699999984),\n",
       " ('pays_count_category_1_mean_pays_two_weeks_ago', 53779.674530924065),\n",
       " ('pays_count_category_3_mean_trend_dow_coef_4', 53671.372409090916),\n",
       " ('pays_count_city_name_mean_trend_weekend_coef_12', 53176.524999999994),\n",
       " ('pays_count_category_1_mean_trend_dow_4', 52184.93989473683),\n",
       " ('pays_count_location_id_mean_trend_dow_coef_6', 51884.09526315789),\n",
       " ('pays_count_city_name_mean_trend_weekend_5', 51073.12521428572),\n",
       " ('pays_count_location_id_mean_trend_dow_3', 50825.73414285715),\n",
       " ('pays_count_city_name_mean_penultimate', 49652.98005405406),\n",
       " ('pays_count_category_1_mean_trend_overall_dow', 49458.72908965516),\n",
       " ('pays_count_category_2_mean_trend_dow_coef_4', 49034.404545454534),\n",
       " ('trend_dow_3', 48381.41773584904),\n",
       " ('pays_count_category_1_mean_trend_dow_6', 48131.47212500002),\n",
       " ('pays_count_city_name_mean_trend_dow_coef_4', 47983.95052631579),\n",
       " ('pays_count_location_id_mean_trend_weekend_4', 47425.29333333332),\n",
       " ('ooo_mean_2', 44860.83433333333),\n",
       " ('trend_dow_4', 44571.08976744186),\n",
       " ('trend_dow_coef_6', 43167.61899999999),\n",
       " ('pays_count_location_id_mean_trend_dow_coef_18', 43007.32714285713),\n",
       " ('biweekly_dow_coef', 42559.39030674071),\n",
       " ('pays_count_location_id_mean_trend_3', 40852.74388888887),\n",
       " ('pays_count_city_name_mean_trend_dow_4', 37267.09233333334),\n",
       " ('pays_count_location_id_mean_trend_overall_dow', 37021.69411764705),\n",
       " ('cat2_id', 34910.647),\n",
       " ('pays_count_location_id_mean_trend_dow_coef_3', 34054.25623809524),\n",
       " ('pays_count_location_id_mean_trend_4', 33953.134999999995),\n",
       " ('pays_count_location_id_mean_trend_dow_6', 29012.491285714288),\n",
       " ('pays_count_location_id_mean_pays_two_weeks_ago', 27783.69347391304),\n",
       " ('pays_count_location_id_mean_penultimate', 27488.797666666665),\n",
       " ('cat1_cnt', 26792.72),\n",
       " ('pays_count_category_3_mean_trend_dow_coef_18', 26659.579285714288),\n",
       " ('biweekly_dow_trend', 25135.281760288468)]"
      ]
     },
     "execution_count": 21,
     "metadata": {},
     "output_type": "execute_result"
    }
   ],
   "source": [
    "scores = model.get_score(importance_type='gain')\n",
    "sorted(scores.items(), key=lambda x: -x[1])"
   ]
  },
  {
   "cell_type": "code",
   "execution_count": 22,
   "metadata": {
    "collapsed": false,
    "scrolled": true
   },
   "outputs": [
    {
     "data": {
      "text/plain": [
       "{'cat1_id',\n",
       " 'is_weekend',\n",
       " 'pays_count_category_1_mean_mean_2',\n",
       " 'pays_count_category_1_mean_mean_3',\n",
       " 'pays_count_category_1_mean_penultimate_null',\n",
       " 'pays_count_category_1_mean_std_2',\n",
       " 'pays_count_category_1_mean_std_3',\n",
       " 'pays_count_category_1_mean_weekend_mean_2',\n",
       " 'pays_count_category_1_mean_weekend_mean_3',\n",
       " 'pays_count_category_1_mean_weekend_std_2',\n",
       " 'pays_count_category_1_mean_weekend_std_3',\n",
       " 'pays_count_category_2_mean_mean_2',\n",
       " 'pays_count_category_2_mean_mean_3',\n",
       " 'pays_count_category_2_mean_penultimate_null',\n",
       " 'pays_count_category_2_mean_second_in_biweek',\n",
       " 'pays_count_category_2_mean_std_2',\n",
       " 'pays_count_category_2_mean_std_3',\n",
       " 'pays_count_category_2_mean_weekend_mean_2',\n",
       " 'pays_count_category_2_mean_weekend_mean_3',\n",
       " 'pays_count_category_2_mean_weekend_std_2',\n",
       " 'pays_count_category_2_mean_weekend_std_3',\n",
       " 'pays_count_category_3_mean_mean_2',\n",
       " 'pays_count_category_3_mean_mean_3',\n",
       " 'pays_count_category_3_mean_penultimate_null',\n",
       " 'pays_count_category_3_mean_second_in_biweek',\n",
       " 'pays_count_category_3_mean_std_2',\n",
       " 'pays_count_category_3_mean_std_3',\n",
       " 'pays_count_category_3_mean_weekend_mean_2',\n",
       " 'pays_count_category_3_mean_weekend_mean_3',\n",
       " 'pays_count_category_3_mean_weekend_std_2',\n",
       " 'pays_count_category_3_mean_weekend_std_3',\n",
       " 'pays_count_city_name_mean_mean_2',\n",
       " 'pays_count_city_name_mean_mean_3',\n",
       " 'pays_count_city_name_mean_penultimate_null',\n",
       " 'pays_count_city_name_mean_second_in_biweek',\n",
       " 'pays_count_city_name_mean_std_2',\n",
       " 'pays_count_city_name_mean_std_3',\n",
       " 'pays_count_city_name_mean_weekend_mean_2',\n",
       " 'pays_count_city_name_mean_weekend_mean_3',\n",
       " 'pays_count_city_name_mean_weekend_std_2',\n",
       " 'pays_count_city_name_mean_weekend_std_3',\n",
       " 'pays_count_location_id_mean_mean_2',\n",
       " 'pays_count_location_id_mean_mean_3',\n",
       " 'pays_count_location_id_mean_penultimate_null',\n",
       " 'pays_count_location_id_mean_second_in_biweek',\n",
       " 'pays_count_location_id_mean_std_2',\n",
       " 'pays_count_location_id_mean_std_3',\n",
       " 'pays_count_location_id_mean_weekend_mean_2',\n",
       " 'pays_count_location_id_mean_weekend_mean_3',\n",
       " 'pays_count_location_id_mean_weekend_std_2',\n",
       " 'pays_count_location_id_mean_weekend_std_3',\n",
       " 'second_in_biweek'}"
      ]
     },
     "execution_count": 22,
     "metadata": {},
     "output_type": "execute_result"
    }
   ],
   "source": [
    "set(features) - scores.keys()"
   ]
  },
  {
   "cell_type": "code",
   "execution_count": 28,
   "metadata": {
    "collapsed": false,
    "scrolled": true
   },
   "outputs": [],
   "source": [
    "df_train = df_features[df_features.biweek_id > 0].reset_index(drop=1)\n",
    "df_train = df_train[~df_train.pays_count.isnull()].reset_index(drop=1)\n",
    "\n",
    "y_train = df_train.pays_count.values\n",
    "X_train = df_train[features].values\n",
    "\n",
    "dtrain = xgb.DMatrix(X_train, label=y_train, feature_names=features, missing=np.nan)\n",
    "model = xgb.train(xgb_pars, dtrain, num_boost_round=n_estimators)"
   ]
  },
  {
   "cell_type": "markdown",
   "metadata": {},
   "source": [
    "Submission"
   ]
  },
  {
   "cell_type": "code",
   "execution_count": 29,
   "metadata": {
    "collapsed": true
   },
   "outputs": [],
   "source": [
    "df_test = df_features[df_features.biweek_id == 0].reset_index(drop=1)"
   ]
  },
  {
   "cell_type": "code",
   "execution_count": 30,
   "metadata": {
    "collapsed": false
   },
   "outputs": [],
   "source": [
    "X_test = df_test[features].values\n",
    "dtest = xgb.DMatrix(X_test, feature_names=features, missing=np.nan)"
   ]
  },
  {
   "cell_type": "code",
   "execution_count": 31,
   "metadata": {
    "collapsed": true
   },
   "outputs": [],
   "source": [
    "y_pred = model.predict(dtest)\n",
    "y_pred[y_pred < 1] = 1\n",
    "y_pred = np.round(y_pred).astype(int)\n",
    "df_test['pred'] = y_pred"
   ]
  },
  {
   "cell_type": "code",
   "execution_count": 32,
   "metadata": {
    "collapsed": true
   },
   "outputs": [],
   "source": [
    "shops = sorted(set(df_test.shop_id))"
   ]
  },
  {
   "cell_type": "code",
   "execution_count": 33,
   "metadata": {
    "collapsed": false
   },
   "outputs": [
    {
     "name": "stderr",
     "output_type": "stream",
     "text": [
      "100%|██████████| 2000/2000 [00:01<00:00, 1217.55it/s]\n"
     ]
    }
   ],
   "source": [
    "with open('sub8.csv', 'w') as f:\n",
    "    for i in tqdm(shops):\n",
    "        df_shop = df_test[df_test.shop_id == i]\n",
    "        f.write(str(i) + ',')\n",
    "        #if i == 810:\n",
    "        #    f.write(','.join(str(int(d)) for d in df_shop.penultimate_unmodified))\n",
    "        #else:\n",
    "        f.write(','.join(str(d) for d in df_shop.pred))\n",
    "        f.write('\\n')"
   ]
  },
  {
   "cell_type": "code",
   "execution_count": 35,
   "metadata": {
    "collapsed": false
   },
   "outputs": [
    {
     "name": "stdout",
     "output_type": "stream",
     "text": [
      "1,224,219,224,253,239,246,203,213,214,213,247,242,249,212\r\n",
      "2,83,87,84,95,112,104,82,86,90,88,98,111,106,85\r\n",
      "3,71,73,72,81,102,98,72,72,74,73,83,103,97,73\r\n",
      "4,100,110,103,112,172,173,93,94,108,94,116,171,168,94\r\n",
      "5,277,161,204,198,216,287,288,289,201,200,208,209,286,310\r\n",
      "6,98,98,101,105,104,93,93,98,97,100,105,103,89,94\r\n",
      "7,119,107,108,126,163,173,112,119,109,111,137,167,174,113\r\n",
      "8,52,52,51,48,72,72,50,53,53,54,49,71,71,50\r\n",
      "9,219,223,221,224,271,274,221,221,225,217,225,269,275,220\r\n",
      "10,100,111,104,104,105,105,106,103,111,103,103,105,105,110\r\n"
     ]
    }
   ],
   "source": [
    "!head sub8.csv"
   ]
  },
  {
   "cell_type": "code",
   "execution_count": null,
   "metadata": {
    "collapsed": true
   },
   "outputs": [],
   "source": []
  }
 ],
 "metadata": {
  "anaconda-cloud": {},
  "kernelspec": {
   "display_name": "Python [conda root]",
   "language": "python",
   "name": "conda-root-py"
  },
  "language_info": {
   "codemirror_mode": {
    "name": "ipython",
    "version": 3
   },
   "file_extension": ".py",
   "mimetype": "text/x-python",
   "name": "python",
   "nbconvert_exporter": "python",
   "pygments_lexer": "ipython3",
   "version": "3.5.2"
  }
 },
 "nbformat": 4,
 "nbformat_minor": 1
}
