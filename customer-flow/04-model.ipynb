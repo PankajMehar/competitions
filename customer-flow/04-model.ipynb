{
 "cells": [
  {
   "cell_type": "code",
   "execution_count": 1,
   "metadata": {
    "collapsed": true
   },
   "outputs": [],
   "source": [
    "import pandas as pd\n",
    "import numpy as np\n",
    "import feather\n",
    "\n",
    "from tqdm import tqdm"
   ]
  },
  {
   "cell_type": "code",
   "execution_count": 2,
   "metadata": {
    "collapsed": true
   },
   "outputs": [],
   "source": [
    "def evaluation_metric(y_true, y_pred):\n",
    "    y_pred = y_pred.copy()\n",
    "    y_pred[y_pred < 1.0] = 1.0\n",
    "    y_pred = np.round(y_pred)\n",
    "    scores = (y_pred - y_true) / (y_pred + y_true)\n",
    "    scores[y_true < 1] = 0.0\n",
    "    return np.abs(scores).mean()"
   ]
  },
  {
   "cell_type": "code",
   "execution_count": 3,
   "metadata": {
    "collapsed": false
   },
   "outputs": [],
   "source": [
    "df_base = feather.read_dataframe('features/base_features_no_outliers.feather')\n",
    "df_mean_window = feather.read_dataframe('features/window_mean_features_noout.feather')\n",
    "df_trend_window = feather.read_dataframe('features/window_trend_features_noout.feather')\n",
    "df_week_trend = feather.read_dataframe('features/weekly_trends_features_noout.feather')\n",
    "df_pc = feather.read_dataframe('features/pays_count_unmodified.feather')"
   ]
  },
  {
   "cell_type": "code",
   "execution_count": 4,
   "metadata": {
    "collapsed": true
   },
   "outputs": [],
   "source": [
    "common = (set(df_base.columns) & set(df_mean_window.columns))"
   ]
  },
  {
   "cell_type": "code",
   "execution_count": 5,
   "metadata": {
    "collapsed": false,
    "scrolled": false
   },
   "outputs": [
    {
     "name": "stdout",
     "output_type": "stream",
     "text": [
      "pays_count uwaga\n"
     ]
    }
   ],
   "source": [
    "for c in common:\n",
    "    if not (df_base[c].fillna(-1) == df_mean_window[c].fillna(-1)).all():\n",
    "        print('uwaga')\n",
    "    if not (df_base[c].fillna(-1) == df_trend_window[c].fillna(-1)).all():\n",
    "        print('uwaga')\n",
    "    if not (df_base[c].fillna(-1) == df_week_trend[c].fillna(-1)).all():\n",
    "        print('uwaga')\n",
    "    if not (df_base[c].fillna(-1) == df_pc[c].fillna(-1)).all():\n",
    "        print(c, 'uwaga')"
   ]
  },
  {
   "cell_type": "code",
   "execution_count": 6,
   "metadata": {
    "collapsed": false
   },
   "outputs": [],
   "source": [
    "df_mean_window = df_mean_window[sorted(set(df_mean_window.columns) - common)]\n",
    "df_trend_window = df_trend_window[sorted(set(df_trend_window.columns) - common)]\n",
    "df_week_trend = df_week_trend[sorted(set(df_week_trend.columns) - common)]"
   ]
  },
  {
   "cell_type": "code",
   "execution_count": 7,
   "metadata": {
    "collapsed": false
   },
   "outputs": [],
   "source": [
    "df_features = pd.concat([df_base, df_mean_window, df_trend_window, df_week_trend], axis=1)\n",
    "df_features['pays_count_unmodified'] = df_pc.pays_count_unmodified\n",
    "df_features['penultimate_unmodified'] = df_pc.penultimate_unmodified"
   ]
  },
  {
   "cell_type": "code",
   "execution_count": 8,
   "metadata": {
    "collapsed": false
   },
   "outputs": [],
   "source": [
    "shops = df_features.shop_id.unique()\n",
    "shops = sorted(shops)"
   ]
  },
  {
   "cell_type": "code",
   "execution_count": 9,
   "metadata": {
    "collapsed": true
   },
   "outputs": [],
   "source": [
    "df_train = df_features[df_features.biweek_id > 1].reset_index(drop=1)\n",
    "df_val = df_features[df_features.biweek_id == 1].reset_index(drop=1)\n",
    "df_test = df_features[df_features.biweek_id == 0].reset_index(drop=1)"
   ]
  },
  {
   "cell_type": "code",
   "execution_count": 10,
   "metadata": {
    "collapsed": false
   },
   "outputs": [
    {
     "data": {
      "text/plain": [
       "525010"
      ]
     },
     "execution_count": 10,
     "metadata": {},
     "output_type": "execute_result"
    }
   ],
   "source": [
    "len(df_train)"
   ]
  },
  {
   "cell_type": "code",
   "execution_count": 11,
   "metadata": {
    "collapsed": true
   },
   "outputs": [],
   "source": [
    "df_train = df_train[~df_train.pays_count.isnull()].reset_index(drop=1)\n",
    "df_val = df_val[~df_val.pays_count_unmodified.isnull()].reset_index(drop=1)"
   ]
  },
  {
   "cell_type": "markdown",
   "metadata": {},
   "source": [
    "## Some stuff"
   ]
  },
  {
   "cell_type": "code",
   "execution_count": 12,
   "metadata": {
    "collapsed": true
   },
   "outputs": [],
   "source": [
    "import seaborn as sns\n",
    "import matplotlib.pyplot as plt\n",
    "%matplotlib inline"
   ]
  },
  {
   "cell_type": "code",
   "execution_count": 13,
   "metadata": {
    "collapsed": true
   },
   "outputs": [],
   "source": [
    "from sklearn.metrics import mean_squared_error\n",
    "\n",
    "def rmse(y, y_pred):\n",
    "    y_pred = y_pred[~np.isnan(y)]\n",
    "    y = y[~np.isnan(y)]\n",
    "\n",
    "    y = y[~np.isnan(y_pred)]\n",
    "    y_pred = y_pred[~np.isnan(y_pred)]\n",
    "\n",
    "    return np.sqrt(mean_squared_error(y, y_pred))"
   ]
  },
  {
   "cell_type": "code",
   "execution_count": 14,
   "metadata": {
    "collapsed": true
   },
   "outputs": [],
   "source": [
    "y_train = df_train.pays_count.values\n",
    "y_val = df_val.pays_count_unmodified.values"
   ]
  },
  {
   "cell_type": "markdown",
   "metadata": {},
   "source": [
    "### Median trend features"
   ]
  },
  {
   "cell_type": "code",
   "execution_count": 15,
   "metadata": {
    "collapsed": true
   },
   "outputs": [],
   "source": [
    "trend_groups = [\n",
    "    ('trend', ['trend_2', 'trend_3', 'trend_4', 'trend_5', 'trend_6', 'trend_12', 'trend_18']),\n",
    "    ('trend_dow', ['trend_dow_3', 'trend_dow_4', 'trend_dow_5', 'trend_dow_6', \n",
    "                   'trend_dow_12', 'trend_dow_18']),\n",
    "    ('trend_weekend', ['trend_weekend_3', 'trend_weekend_4', 'trend_weekend_5',\n",
    "                       'trend_weekend_6', 'trend_weekend_12', 'trend_weekend_18']),\n",
    "]"
   ]
  },
  {
   "cell_type": "code",
   "execution_count": 16,
   "metadata": {
    "collapsed": false
   },
   "outputs": [],
   "source": [
    "for n, g in trend_groups:\n",
    "    for df in [df_train, df_val, df_test]:\n",
    "        df[n + '_median'] = df[g].median(axis=1)\n",
    "        df[n + '_std'] = df[g].std(axis=1)"
   ]
  },
  {
   "cell_type": "markdown",
   "metadata": {},
   "source": [
    "## Model"
   ]
  },
  {
   "cell_type": "code",
   "execution_count": 17,
   "metadata": {
    "collapsed": true
   },
   "outputs": [],
   "source": [
    "import xgboost as xgb"
   ]
  },
  {
   "cell_type": "code",
   "execution_count": 18,
   "metadata": {
    "collapsed": false,
    "scrolled": true
   },
   "outputs": [
    {
     "name": "stdout",
     "output_type": "stream",
     "text": [
      "['biweekly_coef', 'biweekly_dow_coef', 'biweekly_dow_trend', 'biweekly_trend', 'biweekly_weekend_coef', 'biweekly_weekend_trend', 'dow', 'dow_mean_12', 'dow_mean_2', 'dow_mean_3', 'dow_mean_4', 'dow_mean_5', 'dow_mean_6', 'dow_std_12', 'dow_std_2', 'dow_std_3', 'dow_std_4', 'dow_std_5', 'dow_std_6', 'is_weekend', 'mean_1', 'mean_12', 'mean_2', 'mean_3', 'mean_4', 'mean_5', 'mean_6', 'ooo_mean_1', 'ooo_mean_2', 'ooo_mean_3', 'ooo_mean_4', 'out_of_operation', 'pays_two_weeks_ago', 'penultimate', 'penultimate_null', 'second_in_biweek', 'std_1', 'std_12', 'std_2', 'std_3', 'std_4', 'std_5', 'std_6', 'trend_12', 'trend_18', 'trend_2', 'trend_3', 'trend_4', 'trend_5', 'trend_6', 'trend_coef_12', 'trend_coef_18', 'trend_coef_2', 'trend_coef_3', 'trend_coef_4', 'trend_coef_5', 'trend_coef_6', 'trend_dow_12', 'trend_dow_18', 'trend_dow_3', 'trend_dow_4', 'trend_dow_5', 'trend_dow_6', 'trend_dow_coef_12', 'trend_dow_coef_18', 'trend_dow_coef_3', 'trend_dow_coef_4', 'trend_dow_coef_5', 'trend_dow_coef_6', 'trend_dow_median', 'trend_dow_std', 'trend_median', 'trend_overall', 'trend_overall_coeff', 'trend_overall_dow', 'trend_overall_dow_coeff', 'trend_overall_weekend', 'trend_overall_weekend_coeff', 'trend_std', 'trend_weekend_12', 'trend_weekend_18', 'trend_weekend_3', 'trend_weekend_4', 'trend_weekend_5', 'trend_weekend_6', 'trend_weekend_coef_12', 'trend_weekend_coef_18', 'trend_weekend_coef_3', 'trend_weekend_coef_4', 'trend_weekend_coef_5', 'trend_weekend_coef_6', 'trend_weekend_median', 'trend_weekend_std', 'weekend_mean_12', 'weekend_mean_2', 'weekend_mean_3', 'weekend_mean_4', 'weekend_mean_5', 'weekend_mean_6', 'weekend_std_12', 'weekend_std_2', 'weekend_std_3', 'weekend_std_4', 'weekend_std_5', 'weekend_std_6', 'weekly_coef', 'weekly_trend']\n"
     ]
    }
   ],
   "source": [
    "to_exclude = {\n",
    "    'shop_id',\n",
    "    'day', 'days_from_beginning', 'pays_count', 'week_id', 'biweek_id',\n",
    "    'pays_count_unmodified', 'penultimate_unmodified'\n",
    "}\n",
    "features = sorted(set(df_train.columns) - to_exclude)\n",
    "print(features)"
   ]
  },
  {
   "cell_type": "code",
   "execution_count": 19,
   "metadata": {
    "collapsed": true
   },
   "outputs": [],
   "source": [
    "X_train = df_train[features].values\n",
    "X_val = df_val[features].values"
   ]
  },
  {
   "cell_type": "code",
   "execution_count": 20,
   "metadata": {
    "collapsed": true
   },
   "outputs": [],
   "source": [
    "def eval_metric(preds, dtrain):\n",
    "    y_true = dtrain.get_label()\n",
    "    return 'metric', evaluation_metric(y_true, preds)"
   ]
  },
  {
   "cell_type": "code",
   "execution_count": 21,
   "metadata": {
    "collapsed": true
   },
   "outputs": [],
   "source": [
    "dtrain = xgb.DMatrix(X_train, label=y_train, feature_names=features, missing=np.nan)\n",
    "dval = xgb.DMatrix(X_val, label=y_val, feature_names=features, missing=np.nan)\n",
    "watchlist = [(dtrain, 'train'), (dval, 'val')]"
   ]
  },
  {
   "cell_type": "code",
   "execution_count": 22,
   "metadata": {
    "collapsed": false
   },
   "outputs": [],
   "source": [
    "xgb_pars = {\n",
    "    'eta': 0.1,\n",
    "    'gamma': 0,\n",
    "    'max_depth': 8,\n",
    "    'min_child_weight': 1,\n",
    "    'max_delta_step': 0,\n",
    "    'subsample': 1,\n",
    "    'colsample_bytree': 1,\n",
    "    'colsample_bylevel': 1,\n",
    "    'lambda': 1,\n",
    "    'alpha': 0,\n",
    "    'tree_method': 'approx',\n",
    "    'objective': 'reg:linear',\n",
    "    #'objective': 'count:poisson',\n",
    "    'eval_metric': 'rmse',\n",
    "    'nthread': 8,\n",
    "    'seed': 42,\n",
    "    'silent': 1\n",
    "}"
   ]
  },
  {
   "cell_type": "code",
   "execution_count": 23,
   "metadata": {
    "collapsed": true
   },
   "outputs": [],
   "source": [
    "n_estimators = 80"
   ]
  },
  {
   "cell_type": "code",
   "execution_count": 24,
   "metadata": {
    "collapsed": false,
    "scrolled": true
   },
   "outputs": [
    {
     "name": "stdout",
     "output_type": "stream",
     "text": [
      "[0]\ttrain-rmse:156.833\tval-rmse:190.841\ttrain-metric:0.788842\tval-metric:0.798445\n",
      "[5]\ttrain-rmse:100.518\tval-rmse:126.778\ttrain-metric:0.342685\tval-metric:0.346112\n",
      "[10]\ttrain-rmse:69.5775\tval-rmse:92.9427\ttrain-metric:0.194667\tval-metric:0.187896\n",
      "[15]\ttrain-rmse:53.7689\tval-rmse:75.6542\ttrain-metric:0.140614\tval-metric:0.129817\n",
      "[20]\ttrain-rmse:46.0385\tval-rmse:67.3311\ttrain-metric:0.121506\tval-metric:0.109892\n",
      "[25]\ttrain-rmse:42.1675\tval-rmse:64.0155\ttrain-metric:0.114871\tval-metric:0.10334\n",
      "[30]\ttrain-rmse:39.9237\tval-rmse:61.7121\ttrain-metric:0.112393\tval-metric:0.101175\n",
      "[35]\ttrain-rmse:38.6861\tval-rmse:60.9528\ttrain-metric:0.111369\tval-metric:0.1005\n",
      "[40]\ttrain-rmse:37.5836\tval-rmse:61.011\ttrain-metric:0.110789\tval-metric:0.100229\n",
      "[45]\ttrain-rmse:36.9628\tval-rmse:61.2557\ttrain-metric:0.110517\tval-metric:0.100205\n",
      "[50]\ttrain-rmse:36.4846\tval-rmse:61.586\ttrain-metric:0.110273\tval-metric:0.100136\n",
      "[55]\ttrain-rmse:35.9895\tval-rmse:61.8063\ttrain-metric:0.110205\tval-metric:0.100218\n",
      "[60]\ttrain-rmse:35.6406\tval-rmse:62.115\ttrain-metric:0.110025\tval-metric:0.100251\n",
      "[65]\ttrain-rmse:35.3739\tval-rmse:62.1506\ttrain-metric:0.109822\tval-metric:0.100214\n",
      "[70]\ttrain-rmse:35.0834\tval-rmse:62.2889\ttrain-metric:0.109486\tval-metric:0.1002\n",
      "[75]\ttrain-rmse:34.9269\tval-rmse:62.3391\ttrain-metric:0.109297\tval-metric:0.100161\n"
     ]
    }
   ],
   "source": [
    "model = xgb.train(xgb_pars, dtrain, num_boost_round=n_estimators, verbose_eval=5, \n",
    "                  evals=watchlist, feval=eval_metric)"
   ]
  },
  {
   "cell_type": "code",
   "execution_count": 25,
   "metadata": {
    "collapsed": false,
    "scrolled": true
   },
   "outputs": [
    {
     "data": {
      "text/plain": [
       "0.10013925680118055"
      ]
     },
     "execution_count": 25,
     "metadata": {},
     "output_type": "execute_result"
    }
   ],
   "source": [
    "y_pred = model.predict(dval)\n",
    "evaluation_metric(y_val, y_pred)"
   ]
  },
  {
   "cell_type": "code",
   "execution_count": 26,
   "metadata": {
    "collapsed": false
   },
   "outputs": [
    {
     "data": {
      "text/plain": [
       "62.455900503814014"
      ]
     },
     "execution_count": 26,
     "metadata": {},
     "output_type": "execute_result"
    }
   ],
   "source": [
    "rmse(y_val, y_pred)"
   ]
  },
  {
   "cell_type": "code",
   "execution_count": 27,
   "metadata": {
    "collapsed": false
   },
   "outputs": [],
   "source": [
    "df_val['pred'] = np.round(y_pred)"
   ]
  },
  {
   "cell_type": "code",
   "execution_count": 28,
   "metadata": {
    "collapsed": false,
    "scrolled": true
   },
   "outputs": [
    {
     "data": {
      "text/plain": [
       "[('trend_weekend_median', 147237914.0433333),\n",
       " ('trend_dow_median', 96918043.18243282),\n",
       " ('dow_std_12', 8373928.30963115),\n",
       " ('trend_overall_dow', 7489301.011446153),\n",
       " ('trend_weekend_coef_18', 4499246.953636364),\n",
       " ('trend_weekend_6', 1960595.5648110239),\n",
       " ('biweekly_weekend_coef', 1908431.604785185),\n",
       " ('trend_weekend_coef_12', 1600441.9012977101),\n",
       " ('biweekly_dow_trend', 1463254.2826232512),\n",
       " ('trend_coef_12', 1367831.510114286),\n",
       " ('trend_dow_18', 1248345.9398168495),\n",
       " ('trend_dow_6', 1028232.0170955891),\n",
       " ('penultimate', 951665.8941835256),\n",
       " ('ooo_mean_4', 926801.6622080005),\n",
       " ('trend_dow_12', 915797.7932907341),\n",
       " ('trend_coef_3', 893282.8000000002),\n",
       " ('dow_mean_12', 883914.8857142861),\n",
       " ('dow_std_2', 778182.2368987341),\n",
       " ('trend_overall_coeff', 774487.2727272725),\n",
       " ('trend_coef_5', 765485.8131100481),\n",
       " ('trend_coef_4', 741322.5240291258),\n",
       " ('trend_weekend_coef_3', 734476.8209790211),\n",
       " ('trend_overall_weekend_coeff', 688246.0243589745),\n",
       " ('dow_mean_3', 612255.461932773),\n",
       " ('trend_2', 562197.7966236193),\n",
       " ('std_1', 508028.20481099613),\n",
       " ('trend_weekend_coef_6', 478052.8395973154),\n",
       " ('trend_std', 473212.8003258063),\n",
       " ('biweekly_trend', 447569.7590843376),\n",
       " ('weekly_trend', 444785.0422222224),\n",
       " ('trend_weekend_3', 442643.3436290322),\n",
       " ('biweekly_coef', 434587.19008195546),\n",
       " ('weekly_coef', 432136.10779220774),\n",
       " ('ooo_mean_3', 431749.9757894736),\n",
       " ('trend_coef_2', 419006.7828585862),\n",
       " ('trend_weekend_12', 418925.712689655),\n",
       " ('trend_coef_6', 389376.4000000002),\n",
       " ('trend_18', 379194.97869736847),\n",
       " ('dow', 373514.2148309176),\n",
       " ('trend_weekend_coef_4', 361216.8165089285),\n",
       " ('trend_weekend_18', 340328.2843816424),\n",
       " ('dow_std_3', 309557.24525641045),\n",
       " ('trend_dow_coef_4', 294458.67683707847),\n",
       " ('dow_mean_4', 284040.233125),\n",
       " ('trend_dow_coef_3', 282626.6090754719),\n",
       " ('dow_mean_6', 277985.95714285714),\n",
       " ('trend_weekend_std', 276708.12381730764),\n",
       " ('ooo_mean_1', 274984.1494117648),\n",
       " ('trend_3', 268579.5392500002),\n",
       " ('trend_overall_dow_coeff', 266208.5753521126),\n",
       " ('trend_weekend_coef_5', 266119.9827102805),\n",
       " ('biweekly_dow_coef', 252667.53347676745),\n",
       " ('trend_dow_coef_12', 247801.71521438373),\n",
       " ('ooo_mean_2', 233198.95264150944),\n",
       " ('trend_coef_18', 230470.4346906078),\n",
       " ('trend_dow_std', 203392.4068493975),\n",
       " ('trend_dow_coef_6', 201946.99732876706),\n",
       " ('trend_dow_coef_5', 199612.96452173928),\n",
       " ('dow_mean_5', 196279.27213114756),\n",
       " ('dow_std_6', 189311.36000000002),\n",
       " ('trend_median', 186785.53557692308),\n",
       " ('trend_dow_5', 164751.99405882356),\n",
       " ('trend_5', 163311.5481863158),\n",
       " ('dow_std_4', 146929.87772151895),\n",
       " ('trend_overall_weekend', 145762.00865789474),\n",
       " ('dow_mean_2', 142120.4193495935),\n",
       " ('trend_dow_coef_18', 137834.10551388888),\n",
       " ('pays_two_weeks_ago', 123587.14175606478),\n",
       " ('trend_6', 114775.1381111111),\n",
       " ('trend_12', 111431.0087619047),\n",
       " ('trend_overall', 105788.64444444445),\n",
       " ('trend_weekend_5', 101489.2180952381),\n",
       " ('trend_4', 101449.06195402301),\n",
       " ('dow_std_5', 98996.9705882353),\n",
       " ('trend_weekend_4', 97717.77671232876),\n",
       " ('mean_1', 94206.6753731343),\n",
       " ('biweekly_weekend_trend', 90226.9716467532),\n",
       " ('second_in_biweek', 87566.40911789575),\n",
       " ('trend_dow_3', 84237.54842022469),\n",
       " ('trend_dow_4', 81629.9888888889)]"
      ]
     },
     "execution_count": 28,
     "metadata": {},
     "output_type": "execute_result"
    }
   ],
   "source": [
    "scores = model.get_score(importance_type='gain')\n",
    "sorted(scores.items(), key=lambda x: -x[1])"
   ]
  },
  {
   "cell_type": "code",
   "execution_count": 35,
   "metadata": {
    "collapsed": false,
    "scrolled": true
   },
   "outputs": [
    {
     "data": {
      "text/plain": [
       "{'is_weekend',\n",
       " 'mean_12',\n",
       " 'mean_2',\n",
       " 'mean_3',\n",
       " 'mean_4',\n",
       " 'mean_5',\n",
       " 'mean_6',\n",
       " 'out_of_operation',\n",
       " 'penultimate_null',\n",
       " 'std_12',\n",
       " 'std_2',\n",
       " 'std_3',\n",
       " 'std_4',\n",
       " 'std_5',\n",
       " 'std_6',\n",
       " 'weekend_mean_12',\n",
       " 'weekend_mean_2',\n",
       " 'weekend_mean_3',\n",
       " 'weekend_mean_4',\n",
       " 'weekend_mean_5',\n",
       " 'weekend_mean_6',\n",
       " 'weekend_std_12',\n",
       " 'weekend_std_2',\n",
       " 'weekend_std_3',\n",
       " 'weekend_std_4',\n",
       " 'weekend_std_5',\n",
       " 'weekend_std_6'}"
      ]
     },
     "execution_count": 35,
     "metadata": {},
     "output_type": "execute_result"
    }
   ],
   "source": [
    "set(features) - scores.keys()"
   ]
  },
  {
   "cell_type": "code",
   "execution_count": 30,
   "metadata": {
    "collapsed": false
   },
   "outputs": [],
   "source": [
    "nom = (df_val.pays_count_unmodified - df_val.pred).abs()\n",
    "denom = (df_val.pays_count_unmodified + df_val.pred)\n",
    "df_val['score'] = nom / denom"
   ]
  },
  {
   "cell_type": "code",
   "execution_count": 31,
   "metadata": {
    "collapsed": false
   },
   "outputs": [
    {
     "data": {
      "text/plain": [
       "<matplotlib.axes._subplots.AxesSubplot at 0x7f061f0a39b0>"
      ]
     },
     "execution_count": 31,
     "metadata": {},
     "output_type": "execute_result"
    },
    {
     "data": {
      "image/png": "[encoded data removed]",
      "text/plain": [
       "<matplotlib.figure.Figure at 0x7f068fd83b00>"
      ]
     },
     "metadata": {},
     "output_type": "display_data"
    }
   ],
   "source": [
    "df_val.score.hist(bins=51)"
   ]
  },
  {
   "cell_type": "code",
   "execution_count": 32,
   "metadata": {
    "collapsed": false,
    "scrolled": true
   },
   "outputs": [
    {
     "data": {
      "text/plain": [
       "shop_id\n",
       "810     0.859152\n",
       "1556    0.732299\n",
       "1918    0.730967\n",
       "731     0.566994\n",
       "1464    0.541632\n",
       "1548    0.516754\n",
       "742     0.500438\n",
       "474     0.457529\n",
       "23      0.455818\n",
       "1747    0.425345\n",
       "1526    0.410194\n",
       "632     0.400937\n",
       "459     0.388744\n",
       "727     0.386010\n",
       "1214    0.382350\n",
       "1843    0.361151\n",
       "524     0.346781\n",
       "561     0.343351\n",
       "530     0.329794\n",
       "1100    0.321051\n",
       "1384    0.320399\n",
       "619     0.316677\n",
       "1426    0.314295\n",
       "1107    0.309489\n",
       "1561    0.308740\n",
       "1968    0.307536\n",
       "1218    0.306449\n",
       "1875    0.304210\n",
       "1856    0.303355\n",
       "1510    0.297581\n",
       "          ...   \n",
       "1648    0.036571\n",
       "318     0.036227\n",
       "346     0.036171\n",
       "226     0.035814\n",
       "1413    0.035674\n",
       "1400    0.035439\n",
       "1778    0.035353\n",
       "1624    0.035151\n",
       "1392    0.034857\n",
       "1807    0.034612\n",
       "1025    0.034360\n",
       "17      0.034183\n",
       "102     0.033787\n",
       "293     0.033582\n",
       "1355    0.032517\n",
       "1181    0.032205\n",
       "1117    0.031977\n",
       "820     0.031693\n",
       "362     0.031555\n",
       "884     0.031551\n",
       "54      0.031040\n",
       "909     0.030840\n",
       "1976    0.030276\n",
       "100     0.030084\n",
       "516     0.029394\n",
       "1901    0.028120\n",
       "1874    0.023896\n",
       "713     0.021964\n",
       "1365    0.020276\n",
       "968     0.019560\n",
       "Name: score, dtype: float64"
      ]
     },
     "execution_count": 32,
     "metadata": {},
     "output_type": "execute_result"
    }
   ],
   "source": [
    "val_mean_score = df_val.groupby('shop_id').score.mean()\n",
    "val_mean_score.sort_values(ascending=False)"
   ]
  },
  {
   "cell_type": "code",
   "execution_count": 43,
   "metadata": {
    "collapsed": false
   },
   "outputs": [
    {
     "data": {
      "image/png": "[encoded data removed]",
      "text/plain": [
       "<matplotlib.figure.Figure at 0x7f068e16b898>"
      ]
     },
     "metadata": {},
     "output_type": "display_data"
    }
   ],
   "source": [
    "shop_id = 1548\n",
    "df_shop_train = df_train[df_train.shop_id == shop_id]\n",
    "df_shop_val = df_val[df_val.shop_id == shop_id]\n",
    "\n",
    "plt.figure(figsize=(12, 3))\n",
    "plt.plot(df_shop_train.days_from_beginning, df_shop_train.pays_count, label='train')\n",
    "\n",
    "plt.plot(df_shop_val.days_from_beginning, df_shop_val.pays_count_unmodified, label='val')\n",
    "#plt.plot(df_shop_val.days_from_beginning, df_shop_val.pred, label='pred')\n",
    "plt.legend()\n",
    "plt.show()"
   ]
  },
  {
   "cell_type": "code",
   "execution_count": 34,
   "metadata": {
    "collapsed": false
   },
   "outputs": [
    {
     "data": {
      "text/plain": [
       "0.09024919457575448"
      ]
     },
     "execution_count": 34,
     "metadata": {},
     "output_type": "execute_result"
    }
   ],
   "source": [
    "evaluation_metric(y_val, df_val.penultimate_unmodified)"
   ]
  },
  {
   "cell_type": "code",
   "execution_count": 98,
   "metadata": {
    "collapsed": false
   },
   "outputs": [],
   "source": [
    "X_test = df_test[features].values\n",
    "dtest = xgb.DMatrix(X_test, feature_names=features, missing=np.nan)"
   ]
  },
  {
   "cell_type": "code",
   "execution_count": 103,
   "metadata": {
    "collapsed": true
   },
   "outputs": [],
   "source": [
    "y_pred = model.predict(dtest)\n",
    "y_pred[y_pred < 1] = 1\n",
    "y_pred = np.round(y_pred).astype(int)\n",
    "df_test['pred'] = y_pred"
   ]
  },
  {
   "cell_type": "code",
   "execution_count": 104,
   "metadata": {
    "collapsed": true
   },
   "outputs": [],
   "source": [
    "shops = sorted(set(df_test.shop_id))"
   ]
  },
  {
   "cell_type": "code",
   "execution_count": 107,
   "metadata": {
    "collapsed": false
   },
   "outputs": [
    {
     "name": "stderr",
     "output_type": "stream",
     "text": [
      "100%|██████████| 2000/2000 [00:01<00:00, 1258.09it/s]\n"
     ]
    }
   ],
   "source": [
    "with open('sub.csv', 'w') as f:\n",
    "    for i in tqdm(shops):\n",
    "        df_shop = df_test[df_test.shop_id == i]\n",
    "        f.write(str(i) + ',')\n",
    "        f.write(','.join(str(d) for d in df_shop.pred))\n",
    "        f.write('\\n')"
   ]
  },
  {
   "cell_type": "code",
   "execution_count": 108,
   "metadata": {
    "collapsed": false
   },
   "outputs": [
    {
     "name": "stdout",
     "output_type": "stream",
     "text": [
      "1,232,206,218,236,253,241,206,241,212,221,245,260,242,226\r\n",
      "2,87,94,89,95,113,108,85,88,96,92,97,114,104,86\r\n",
      "3,76,76,76,81,98,97,76,77,77,77,81,98,98,77\r\n",
      "4,97,101,97,104,165,165,100,97,101,95,103,167,167,99\r\n",
      "5,254,194,236,220,222,242,293,276,197,227,219,225,242,308\r\n",
      "6,94,94,100,103,103,98,92,98,94,98,104,102,94,92\r\n",
      "7,130,122,121,132,162,169,120,133,122,122,132,166,175,123\r\n",
      "8,57,55,55,54,71,71,52,57,53,55,53,72,70,52\r\n",
      "9,229,229,228,237,273,280,231,233,234,232,242,272,278,236\r\n",
      "10,93,99,94,95,96,97,102,95,102,98,100,101,100,104\r\n"
     ]
    }
   ],
   "source": [
    "!head sub.csv"
   ]
  },
  {
   "cell_type": "code",
   "execution_count": null,
   "metadata": {
    "collapsed": true
   },
   "outputs": [],
   "source": []
  }
 ],
 "metadata": {
  "anaconda-cloud": {},
  "kernelspec": {
   "display_name": "Python [conda root]",
   "language": "python",
   "name": "conda-root-py"
  },
  "language_info": {
   "codemirror_mode": {
    "name": "ipython",
    "version": 3
   },
   "file_extension": ".py",
   "mimetype": "text/x-python",
   "name": "python",
   "nbconvert_exporter": "python",
   "pygments_lexer": "ipython3",
   "version": "3.5.2"
  }
 },
 "nbformat": 4,
 "nbformat_minor": 1
}
