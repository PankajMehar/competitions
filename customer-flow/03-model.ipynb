{
 "cells": [
  {
   "cell_type": "code",
   "execution_count": 1,
   "metadata": {
    "collapsed": true
   },
   "outputs": [],
   "source": [
    "import pandas as pd\n",
    "import numpy as np\n",
    "import feather\n",
    "\n",
    "from tqdm import tqdm"
   ]
  },
  {
   "cell_type": "code",
   "execution_count": 2,
   "metadata": {
    "collapsed": true
   },
   "outputs": [],
   "source": [
    "def evaluation_metric(y_true, y_pred):\n",
    "    y_pred = y_pred.copy()\n",
    "    y_pred[y_pred < 1.0] = 1.0\n",
    "    y_pred = np.round(y_pred)\n",
    "    scores = (y_pred - y_true) / (y_pred + y_true)\n",
    "    scores[y_true < 1] = 0.0\n",
    "    return np.abs(scores).mean()"
   ]
  },
  {
   "cell_type": "code",
   "execution_count": 3,
   "metadata": {
    "collapsed": false
   },
   "outputs": [],
   "source": [
    "df_base = feather.read_dataframe('features/base_features.feather')\n",
    "df_mean_window = feather.read_dataframe('features/window_mean_features.feather')\n",
    "df_trend_window = feather.read_dataframe('features/window_trend_features.feather')\n",
    "df_week_trend = feather.read_dataframe('features/weekly_trends_features.feather')"
   ]
  },
  {
   "cell_type": "code",
   "execution_count": 4,
   "metadata": {
    "collapsed": true
   },
   "outputs": [],
   "source": [
    "common = (set(df_base.columns) & set(df_mean_window.columns))"
   ]
  },
  {
   "cell_type": "code",
   "execution_count": 5,
   "metadata": {
    "collapsed": false,
    "scrolled": false
   },
   "outputs": [],
   "source": [
    "for c in common:\n",
    "    if not (df_base[c].fillna(-1) == df_mean_window[c].fillna(-1)).all():\n",
    "        print('uwaga')\n",
    "    if not (df_base[c].fillna(-1) == df_trend_window[c].fillna(-1)).all():\n",
    "        print('uwaga')\n",
    "    if not (df_base[c].fillna(-1) == df_week_trend[c].fillna(-1)).all():\n",
    "        print('uwaga')"
   ]
  },
  {
   "cell_type": "code",
   "execution_count": 6,
   "metadata": {
    "collapsed": false
   },
   "outputs": [],
   "source": [
    "df_mean_window = df_mean_window[sorted(set(df_mean_window.columns) - common)]\n",
    "df_trend_window = df_trend_window[sorted(set(df_trend_window.columns) - common)]\n",
    "df_week_trend = df_week_trend[sorted(set(df_week_trend.columns) - common)]"
   ]
  },
  {
   "cell_type": "code",
   "execution_count": 7,
   "metadata": {
    "collapsed": false
   },
   "outputs": [],
   "source": [
    "df_features = pd.concat([df_base, df_mean_window, df_trend_window, df_week_trend], axis=1)"
   ]
  },
  {
   "cell_type": "code",
   "execution_count": 8,
   "metadata": {
    "collapsed": false
   },
   "outputs": [],
   "source": [
    "shops = df_features.shop_id.unique()\n",
    "shops = sorted(shops)"
   ]
  },
  {
   "cell_type": "code",
   "execution_count": 9,
   "metadata": {
    "collapsed": true
   },
   "outputs": [],
   "source": [
    "df_train = df_features[df_features.biweek_id > 1].reset_index(drop=1)\n",
    "df_val = df_features[df_features.biweek_id == 1].reset_index(drop=1)\n",
    "df_test = df_features[df_features.biweek_id == 0].reset_index(drop=1)"
   ]
  },
  {
   "cell_type": "code",
   "execution_count": 11,
   "metadata": {
    "collapsed": false
   },
   "outputs": [
    {
     "data": {
      "text/plain": [
       "525010"
      ]
     },
     "execution_count": 11,
     "metadata": {},
     "output_type": "execute_result"
    }
   ],
   "source": [
    "len(df_train)"
   ]
  },
  {
   "cell_type": "code",
   "execution_count": 10,
   "metadata": {
    "collapsed": true
   },
   "outputs": [],
   "source": [
    "df_train = df_train[~df_train.pays_count.isnull()].reset_index(drop=1)\n",
    "df_val = df_val[~df_val.pays_count.isnull()].reset_index(drop=1)"
   ]
  },
  {
   "cell_type": "markdown",
   "metadata": {},
   "source": [
    "Remove outliers from training"
   ]
  },
  {
   "cell_type": "code",
   "execution_count": 12,
   "metadata": {
    "collapsed": true
   },
   "outputs": [],
   "source": [
    "from sklearn.linear_model import Ridge\n",
    "\n",
    "def linear_fit(group):\n",
    "    y = group.pays_count\n",
    "    not_null = ~y.isnull()\n",
    "\n",
    "    x = group.days_from_beginning\n",
    "    x_not_null = x[not_null].values.reshape(-1, 1)\n",
    "    y = y[not_null].values\n",
    "    lr = Ridge(alpha=1).fit(x_not_null, y)\n",
    "\n",
    "    return pd.Series(lr.predict(x.values.reshape(-1, 1)), x.index)"
   ]
  },
  {
   "cell_type": "code",
   "execution_count": 13,
   "metadata": {
    "collapsed": false
   },
   "outputs": [],
   "source": [
    "trends = df_train.groupby('shop_id').apply(linear_fit)\n",
    "trends = trends.reset_index(drop=1)"
   ]
  },
  {
   "cell_type": "code",
   "execution_count": 14,
   "metadata": {
    "collapsed": false
   },
   "outputs": [],
   "source": [
    "mae = (df_train.pays_count - trends).abs()"
   ]
  },
  {
   "cell_type": "code",
   "execution_count": 15,
   "metadata": {
    "collapsed": false
   },
   "outputs": [],
   "source": [
    "std = pd.groupby(mae, by=df_train.shop_id).std()\n",
    "std = std[df_train.shop_id].reset_index(drop=1)"
   ]
  },
  {
   "cell_type": "code",
   "execution_count": 16,
   "metadata": {
    "collapsed": false
   },
   "outputs": [],
   "source": [
    "outliers = mae > (std * 4)"
   ]
  },
  {
   "cell_type": "code",
   "execution_count": 17,
   "metadata": {
    "collapsed": false
   },
   "outputs": [],
   "source": [
    "df_train = df_train[~outliers]"
   ]
  },
  {
   "cell_type": "markdown",
   "metadata": {},
   "source": [
    "## Some stuff"
   ]
  },
  {
   "cell_type": "code",
   "execution_count": 18,
   "metadata": {
    "collapsed": true
   },
   "outputs": [],
   "source": [
    "import seaborn as sns\n",
    "import matplotlib.pyplot as plt\n",
    "%matplotlib inline"
   ]
  },
  {
   "cell_type": "code",
   "execution_count": 19,
   "metadata": {
    "collapsed": true
   },
   "outputs": [],
   "source": [
    "from sklearn.metrics import mean_squared_error\n",
    "\n",
    "def rmse(y, y_pred):\n",
    "    y_pred = y_pred[~np.isnan(y)]\n",
    "    y = y[~np.isnan(y)]\n",
    "\n",
    "    y = y[~np.isnan(y_pred)]\n",
    "    y_pred = y_pred[~np.isnan(y_pred)]\n",
    "\n",
    "    return np.sqrt(mean_squared_error(y, y_pred))"
   ]
  },
  {
   "cell_type": "code",
   "execution_count": 20,
   "metadata": {
    "collapsed": true
   },
   "outputs": [],
   "source": [
    "y_train = df_train.pays_count.values\n",
    "y_val = df_val.pays_count.values"
   ]
  },
  {
   "cell_type": "markdown",
   "metadata": {},
   "source": [
    "### Median trend features"
   ]
  },
  {
   "cell_type": "code",
   "execution_count": 21,
   "metadata": {
    "collapsed": true
   },
   "outputs": [],
   "source": [
    "trend_groups = [\n",
    "    ('trend', ['trend_2', 'trend_3', 'trend_4', 'trend_5', 'trend_6', 'trend_12', 'trend_18']),\n",
    "    ('trend_dow', ['trend_dow_3', 'trend_dow_4', 'trend_dow_5', 'trend_dow_6', \n",
    "                   'trend_dow_12', 'trend_dow_18']),\n",
    "    ('trend_weekend', ['trend_weekend_3', 'trend_weekend_4', 'trend_weekend_5',\n",
    "                       'trend_weekend_6', 'trend_weekend_12', 'trend_weekend_18']),\n",
    "]"
   ]
  },
  {
   "cell_type": "code",
   "execution_count": 22,
   "metadata": {
    "collapsed": false
   },
   "outputs": [],
   "source": [
    "for n, g in trend_groups:\n",
    "    df_train[n + '_median'] = df_train[g].median(axis=1)\n",
    "    df_val[n + '_median'] = df_val[g].median(axis=1)\n",
    "    df_train[n + '_std'] = df_train[g].std(axis=1)\n",
    "    df_val[n + '_std'] = df_val[g].std(axis=1)"
   ]
  },
  {
   "cell_type": "markdown",
   "metadata": {},
   "source": [
    "## Model"
   ]
  },
  {
   "cell_type": "code",
   "execution_count": 23,
   "metadata": {
    "collapsed": true
   },
   "outputs": [],
   "source": [
    "import xgboost as xgb"
   ]
  },
  {
   "cell_type": "code",
   "execution_count": 24,
   "metadata": {
    "collapsed": false,
    "scrolled": true
   },
   "outputs": [
    {
     "name": "stdout",
     "output_type": "stream",
     "text": [
      "['biweekly_coef', 'biweekly_dow_coef', 'biweekly_dow_trend', 'biweekly_trend', 'biweekly_weekend_coef', 'biweekly_weekend_trend', 'dow', 'dow_mean_12', 'dow_mean_2', 'dow_mean_3', 'dow_mean_4', 'dow_mean_5', 'dow_mean_6', 'dow_std_12', 'dow_std_2', 'dow_std_3', 'dow_std_4', 'dow_std_5', 'dow_std_6', 'is_weekend', 'mean_1', 'mean_12', 'mean_2', 'mean_3', 'mean_4', 'mean_5', 'mean_6', 'ooo_mean_1', 'ooo_mean_2', 'ooo_mean_3', 'ooo_mean_4', 'out_of_operation', 'pays_two_weeks_ago', 'penultimate', 'penultimate_null', 'second_in_biweek', 'std_1', 'std_12', 'std_2', 'std_3', 'std_4', 'std_5', 'std_6', 'trend_12', 'trend_18', 'trend_2', 'trend_3', 'trend_4', 'trend_5', 'trend_6', 'trend_coef_12', 'trend_coef_18', 'trend_coef_2', 'trend_coef_3', 'trend_coef_4', 'trend_coef_5', 'trend_coef_6', 'trend_dow_12', 'trend_dow_18', 'trend_dow_3', 'trend_dow_4', 'trend_dow_5', 'trend_dow_6', 'trend_dow_coef_12', 'trend_dow_coef_18', 'trend_dow_coef_3', 'trend_dow_coef_4', 'trend_dow_coef_5', 'trend_dow_coef_6', 'trend_dow_median', 'trend_dow_std', 'trend_median', 'trend_overall', 'trend_overall_coeff', 'trend_overall_dow', 'trend_overall_dow_coeff', 'trend_overall_weekend', 'trend_overall_weekend_coeff', 'trend_std', 'trend_weekend_12', 'trend_weekend_18', 'trend_weekend_3', 'trend_weekend_4', 'trend_weekend_5', 'trend_weekend_6', 'trend_weekend_coef_12', 'trend_weekend_coef_18', 'trend_weekend_coef_3', 'trend_weekend_coef_4', 'trend_weekend_coef_5', 'trend_weekend_coef_6', 'trend_weekend_median', 'trend_weekend_std', 'weekend_mean_12', 'weekend_mean_2', 'weekend_mean_3', 'weekend_mean_4', 'weekend_mean_5', 'weekend_mean_6', 'weekend_std_12', 'weekend_std_2', 'weekend_std_3', 'weekend_std_4', 'weekend_std_5', 'weekend_std_6', 'weekly_coef', 'weekly_trend']\n"
     ]
    }
   ],
   "source": [
    "to_exclude = {\n",
    "    'shop_id', \n",
    "    'day', 'days_from_beginning', 'pays_count', 'week_id', 'biweek_id',\n",
    "}\n",
    "features = sorted(set(df_train.columns) - to_exclude)\n",
    "print(features)"
   ]
  },
  {
   "cell_type": "code",
   "execution_count": 25,
   "metadata": {
    "collapsed": true
   },
   "outputs": [],
   "source": [
    "X_train = df_train[features].values\n",
    "X_val = df_val[features].values"
   ]
  },
  {
   "cell_type": "code",
   "execution_count": 26,
   "metadata": {
    "collapsed": true
   },
   "outputs": [],
   "source": [
    "def eval_metric(preds, dtrain):\n",
    "    y_true = dtrain.get_label()\n",
    "    return 'metric', evaluation_metric(y_true, preds)"
   ]
  },
  {
   "cell_type": "markdown",
   "metadata": {},
   "source": [
    "### Remove outliers"
   ]
  },
  {
   "cell_type": "code",
   "execution_count": 33,
   "metadata": {
    "collapsed": true
   },
   "outputs": [],
   "source": [
    "dtrain = xgb.DMatrix(X_train, label=y_train, feature_names=features, missing=np.nan)\n",
    "dval = xgb.DMatrix(X_val, label=y_val, feature_names=features, missing=np.nan)\n",
    "watchlist = [(dtrain, 'train'), (dval, 'val')]"
   ]
  },
  {
   "cell_type": "code",
   "execution_count": 30,
   "metadata": {
    "collapsed": false
   },
   "outputs": [],
   "source": [
    "xgb_pars = {\n",
    "    'eta': 0.1,\n",
    "    'gamma': 0,\n",
    "    'max_depth': 8,\n",
    "    'min_child_weight': 1,\n",
    "    'max_delta_step': 0,\n",
    "    'subsample': 1,\n",
    "    'colsample_bytree': 1,\n",
    "    'colsample_bylevel': 1,\n",
    "    'lambda': 1,\n",
    "    'alpha': 0,\n",
    "    'tree_method': 'approx',\n",
    "    'objective': 'reg:linear',\n",
    "    #'objective': 'count:poisson',\n",
    "    'eval_metric': 'rmse',\n",
    "    'nthread': 8,\n",
    "    'seed': 42,\n",
    "    'silent': 1\n",
    "}"
   ]
  },
  {
   "cell_type": "code",
   "execution_count": 31,
   "metadata": {
    "collapsed": true
   },
   "outputs": [],
   "source": [
    "n_estimators = 101"
   ]
  },
  {
   "cell_type": "code",
   "execution_count": 34,
   "metadata": {
    "collapsed": false,
    "scrolled": true
   },
   "outputs": [
    {
     "name": "stdout",
     "output_type": "stream",
     "text": [
      "[0]\ttrain-rmse:157.065\tval-rmse:191.296\ttrain-metric:0.786885\tval-metric:0.796192\n",
      "[5]\ttrain-rmse:100.849\tval-rmse:128.413\ttrain-metric:0.342167\tval-metric:0.345253\n",
      "[10]\ttrain-rmse:70.2059\tval-rmse:94.7267\ttrain-metric:0.194919\tval-metric:0.188209\n",
      "[15]\ttrain-rmse:54.2382\tval-rmse:78.5385\ttrain-metric:0.141362\tval-metric:0.130511\n",
      "[20]\ttrain-rmse:46.2621\tval-rmse:70.2351\ttrain-metric:0.122447\tval-metric:0.111206\n",
      "[25]\ttrain-rmse:42.4563\tval-rmse:65.7147\ttrain-metric:0.115877\tval-metric:0.104812\n",
      "[30]\ttrain-rmse:40.3302\tval-rmse:63.3744\ttrain-metric:0.113366\tval-metric:0.102761\n",
      "[35]\ttrain-rmse:39.1937\tval-rmse:62.1756\ttrain-metric:0.112432\tval-metric:0.101973\n",
      "[40]\ttrain-rmse:38.1853\tval-rmse:61.4659\ttrain-metric:0.111825\tval-metric:0.101727\n",
      "[45]\ttrain-rmse:37.5264\tval-rmse:61.0891\ttrain-metric:0.111441\tval-metric:0.101659\n",
      "[50]\ttrain-rmse:36.8908\tval-rmse:60.6995\ttrain-metric:0.111161\tval-metric:0.101545\n",
      "[55]\ttrain-rmse:36.7568\tval-rmse:60.5382\ttrain-metric:0.111208\tval-metric:0.101578\n",
      "[60]\ttrain-rmse:36.61\tval-rmse:60.4433\ttrain-metric:0.111144\tval-metric:0.101542\n",
      "[65]\ttrain-rmse:36.3697\tval-rmse:60.6414\ttrain-metric:0.110896\tval-metric:0.101484\n",
      "[70]\ttrain-rmse:36.0778\tval-rmse:60.7056\ttrain-metric:0.110632\tval-metric:0.101534\n",
      "[75]\ttrain-rmse:35.6198\tval-rmse:61.1088\ttrain-metric:0.110346\tval-metric:0.101498\n",
      "[80]\ttrain-rmse:35.4373\tval-rmse:61.1912\ttrain-metric:0.109942\tval-metric:0.101411\n",
      "[85]\ttrain-rmse:35.2167\tval-rmse:61.2396\ttrain-metric:0.109729\tval-metric:0.101298\n",
      "[90]\ttrain-rmse:35.0618\tval-rmse:61.1929\ttrain-metric:0.109503\tval-metric:0.101299\n",
      "[95]\ttrain-rmse:34.9838\tval-rmse:61.2536\ttrain-metric:0.109332\tval-metric:0.10132\n",
      "[100]\ttrain-rmse:34.5767\tval-rmse:61.4095\ttrain-metric:0.109048\tval-metric:0.101346\n"
     ]
    }
   ],
   "source": [
    "model = xgb.train(xgb_pars, dtrain, num_boost_round=n_estimators, verbose_eval=5, \n",
    "                  evals=watchlist, feval=eval_metric)"
   ]
  },
  {
   "cell_type": "code",
   "execution_count": 31,
   "metadata": {
    "collapsed": false,
    "scrolled": true
   },
   "outputs": [
    {
     "data": {
      "text/plain": [
       "0.10134647057043274"
      ]
     },
     "execution_count": 31,
     "metadata": {},
     "output_type": "execute_result"
    }
   ],
   "source": [
    "y_pred = model.predict(dval)\n",
    "evaluation_metric(y_val, y_pred)"
   ]
  },
  {
   "cell_type": "code",
   "execution_count": 34,
   "metadata": {
    "collapsed": false
   },
   "outputs": [
    {
     "data": {
      "text/plain": [
       "61.409453554901042"
      ]
     },
     "execution_count": 34,
     "metadata": {},
     "output_type": "execute_result"
    }
   ],
   "source": [
    "rmse(y_val, y_pred)"
   ]
  },
  {
   "cell_type": "code",
   "execution_count": 35,
   "metadata": {
    "collapsed": false
   },
   "outputs": [],
   "source": [
    "df_val['pred'] = np.round(y_pred)"
   ]
  },
  {
   "cell_type": "code",
   "execution_count": 36,
   "metadata": {
    "collapsed": false,
    "scrolled": true
   },
   "outputs": [
    {
     "data": {
      "text/plain": [
       "[('trend_weekend_median', 145222486.837381),\n",
       " ('trend_dow_median', 49005607.375405386),\n",
       " ('dow_std_12', 9143313.235143347),\n",
       " ('trend_weekend_coef_18', 2987963.702774195),\n",
       " ('trend_dow_18', 2040584.7171428574),\n",
       " ('trend_weekend_coef_12', 1998428.5274431817),\n",
       " ('trend_overall_coeff', 1472421.6619469032),\n",
       " ('trend_weekend_6', 1406218.745385185),\n",
       " ('trend_coef_12', 1383894.9188392854),\n",
       " ('penultimate', 1224355.6747330208),\n",
       " ('biweekly_dow_trend', 1222305.9564407826),\n",
       " ('trend_18', 1179010.1477327948),\n",
       " ('trend_dow_12', 961219.4574769126),\n",
       " ('dow_mean_4', 918018.978817205),\n",
       " ('ooo_mean_4', 884228.0235102045),\n",
       " ('biweekly_trend', 764738.8691801799),\n",
       " ('weekly_coef', 758534.0202702705),\n",
       " ('trend_2', 755852.90244164),\n",
       " ('dow_mean_12', 744642.8380552642),\n",
       " ('trend_weekend_coef_3', 592449.924367347),\n",
       " ('trend_coef_3', 573367.4317433333),\n",
       " ('trend_overall_weekend', 537665.0567721517),\n",
       " ('trend_weekend_18', 532946.1372200769),\n",
       " ('biweekly_weekend_coef', 519421.5904111112),\n",
       " ('trend_weekend_std', 510893.1229742647),\n",
       " ('dow_mean_2', 474059.2660212765),\n",
       " ('trend_coef_2', 469419.4354237291),\n",
       " ('dow_mean_6', 448651.8901438848),\n",
       " ('dow', 436115.02864648384),\n",
       " ('trend_weekend_12', 410420.57797093014),\n",
       " ('trend_overall_weekend_coeff', 377619.4818803419),\n",
       " ('trend_dow_6', 370594.6139727892),\n",
       " ('trend_overall_dow', 369401.46264705854),\n",
       " ('biweekly_coef', 368123.26523983025),\n",
       " ('trend_coef_4', 367318.1288211381),\n",
       " ('trend_12', 358853.3462006578),\n",
       " ('trend_5', 341504.66531690117),\n",
       " ('dow_std_3', 338676.2711718752),\n",
       " ('trend_weekend_3', 329195.93141935463),\n",
       " ('std_1', 320716.72732193733),\n",
       " ('trend_weekend_coef_4', 312477.78475),\n",
       " ('trend_coef_5', 268593.55050632905),\n",
       " ('trend_weekend_coef_6', 267526.785771812),\n",
       " ('dow_std_6', 244970.94293103454),\n",
       " ('trend_weekend_coef_5', 233802.8940350877),\n",
       " ('dow_std_2', 223717.31017924522),\n",
       " ('weekly_trend', 222783.65766666664),\n",
       " ('ooo_mean_3', 221537.01645161293),\n",
       " ('ooo_mean_2', 214590.19824561404),\n",
       " ('dow_std_5', 206666.20623376628),\n",
       " ('trend_median', 203031.2864615385),\n",
       " ('biweekly_weekend_trend', 202283.21649615385),\n",
       " ('trend_std', 201978.91889217406),\n",
       " ('trend_coef_6', 199483.0488990825),\n",
       " ('trend_overall_dow_coeff', 198183.22614583335),\n",
       " ('trend_dow_3', 191713.6718),\n",
       " ('trend_dow_coef_12', 186828.2439396985),\n",
       " ('trend_coef_18', 186200.73793749994),\n",
       " ('dow_std_4', 184086.46134453782),\n",
       " ('trend_6', 145279.5376442953),\n",
       " ('dow_mean_5', 144992.9821518988),\n",
       " ('dow_mean_3', 142130.9216483517),\n",
       " ('trend_dow_coef_4', 141335.97677522938),\n",
       " ('trend_dow_coef_6', 139191.29541314553),\n",
       " ('ooo_mean_1', 134349.59206896552),\n",
       " ('trend_dow_std', 131852.94672422673),\n",
       " ('pays_two_weeks_ago', 131734.958066279),\n",
       " ('trend_dow_coef_5', 126420.56825000003),\n",
       " ('biweekly_dow_coef', 117370.80517094505),\n",
       " ('trend_dow_coef_3', 114171.02995855862),\n",
       " ('trend_dow_coef_18', 107585.5741132075),\n",
       " ('second_in_biweek', 101578.75883088235),\n",
       " ('mean_1', 99517.11330985912),\n",
       " ('trend_dow_5', 98457.44107692305),\n",
       " ('trend_4', 96724.05074193551),\n",
       " ('trend_weekend_4', 90254.06931506851),\n",
       " ('trend_overall', 88371.40865384617),\n",
       " ('trend_weekend_5', 85369.22926190477),\n",
       " ('trend_3', 84252.58528448279),\n",
       " ('trend_dow_4', 63797.54462886598)]"
      ]
     },
     "execution_count": 36,
     "metadata": {},
     "output_type": "execute_result"
    }
   ],
   "source": [
    "scores = model.get_score(importance_type='gain')\n",
    "sorted(scores.items(), key=lambda x: -x[1])"
   ]
  },
  {
   "cell_type": "code",
   "execution_count": 37,
   "metadata": {
    "collapsed": false,
    "scrolled": true
   },
   "outputs": [
    {
     "data": {
      "text/plain": [
       "{'is_weekend',\n",
       " 'mean_12',\n",
       " 'mean_2',\n",
       " 'mean_3',\n",
       " 'mean_4',\n",
       " 'mean_5',\n",
       " 'mean_6',\n",
       " 'out_of_operation',\n",
       " 'penultimate_null',\n",
       " 'std_12',\n",
       " 'std_2',\n",
       " 'std_3',\n",
       " 'std_4',\n",
       " 'std_5',\n",
       " 'std_6',\n",
       " 'weekend_mean_12',\n",
       " 'weekend_mean_2',\n",
       " 'weekend_mean_3',\n",
       " 'weekend_mean_4',\n",
       " 'weekend_mean_5',\n",
       " 'weekend_mean_6',\n",
       " 'weekend_std_12',\n",
       " 'weekend_std_2',\n",
       " 'weekend_std_3',\n",
       " 'weekend_std_4',\n",
       " 'weekend_std_5',\n",
       " 'weekend_std_6'}"
      ]
     },
     "execution_count": 37,
     "metadata": {},
     "output_type": "execute_result"
    }
   ],
   "source": [
    "set(features) - scores.keys()"
   ]
  },
  {
   "cell_type": "code",
   "execution_count": 38,
   "metadata": {
    "collapsed": false
   },
   "outputs": [],
   "source": [
    "nom = (df_val.pays_count - df_val.pred).abs()\n",
    "denom = (df_val.pays_count + df_val.pred)\n",
    "df_val['score'] = nom / denom"
   ]
  },
  {
   "cell_type": "code",
   "execution_count": 39,
   "metadata": {
    "collapsed": false
   },
   "outputs": [
    {
     "data": {
      "text/plain": [
       "<matplotlib.axes._subplots.AxesSubplot at 0x7fb1042e7a20>"
      ]
     },
     "execution_count": 39,
     "metadata": {},
     "output_type": "execute_result"
    }
   ],
   "source": [
    "df_val.score.hist(bins=51)"
   ]
  },
  {
   "cell_type": "code",
   "execution_count": 40,
   "metadata": {
    "collapsed": false,
    "scrolled": true
   },
   "outputs": [
    {
     "data": {
      "text/plain": [
       "shop_id\n",
       "810     0.868587\n",
       "1918    0.773590\n",
       "1556    0.738055\n",
       "742     0.516086\n",
       "1548    0.480525\n",
       "632     0.464393\n",
       "474     0.459073\n",
       "1843    0.452030\n",
       "23      0.446964\n",
       "1464    0.433443\n",
       "1747    0.423745\n",
       "1526    0.411231\n",
       "459     0.402838\n",
       "1384    0.390728\n",
       "1214    0.381862\n",
       "1629    0.367309\n",
       "727     0.366093\n",
       "561     0.345310\n",
       "352     0.329120\n",
       "1426    0.324574\n",
       "1561    0.323810\n",
       "1875    0.315589\n",
       "749     0.311623\n",
       "1510    0.307389\n",
       "524     0.306853\n",
       "1218    0.303105\n",
       "1856    0.303041\n",
       "1100    0.301268\n",
       "619     0.290740\n",
       "1107    0.289983\n",
       "          ...   \n",
       "86      0.037611\n",
       "1489    0.037400\n",
       "928     0.037294\n",
       "1584    0.037098\n",
       "293     0.037091\n",
       "362     0.037045\n",
       "395     0.036640\n",
       "226     0.036381\n",
       "1285    0.036186\n",
       "1976    0.036171\n",
       "1146    0.036073\n",
       "1624    0.035858\n",
       "323     0.035766\n",
       "1392    0.033338\n",
       "884     0.033268\n",
       "318     0.033202\n",
       "565     0.033132\n",
       "1181    0.033115\n",
       "82      0.033018\n",
       "1355    0.033010\n",
       "909     0.032374\n",
       "1092    0.032022\n",
       "820     0.031310\n",
       "1025    0.030985\n",
       "1365    0.028665\n",
       "516     0.028203\n",
       "1901    0.025850\n",
       "1874    0.024961\n",
       "968     0.023800\n",
       "713     0.023336\n",
       "Name: score, dtype: float64"
      ]
     },
     "execution_count": 40,
     "metadata": {},
     "output_type": "execute_result"
    }
   ],
   "source": [
    "val_mean_score = df_val.groupby('shop_id').score.mean()\n",
    "val_mean_score.sort_values(ascending=False)"
   ]
  },
  {
   "cell_type": "code",
   "execution_count": 44,
   "metadata": {
    "collapsed": false
   },
   "outputs": [
    {
     "data": {
      "image/png": "[encoded data removed]",
      "text/plain": [
       "<matplotlib.figure.Figure at 0x7fb0ff48d9b0>"
      ]
     },
     "metadata": {},
     "output_type": "display_data"
    }
   ],
   "source": [
    "shop_id = 968\n",
    "df_shop_train = df_train[df_train.shop_id == shop_id]\n",
    "df_shop_val = df_val[df_val.shop_id == shop_id]\n",
    "\n",
    "plt.figure(figsize=(12, 3))\n",
    "plt.plot(df_shop_train.days_from_beginning, df_shop_train.pays_count, label='train')\n",
    "#plt.plot(df_shop_train.days_from_beginning, df_shop_train., label='median')\n",
    "\n",
    "plt.plot(df_shop_val.days_from_beginning, df_shop_val.pays_count, label='val')\n",
    "plt.plot(df_shop_val.days_from_beginning, df_shop_val.pred, label='pred')\n",
    "plt.legend()\n",
    "plt.show()"
   ]
  },
  {
   "cell_type": "code",
   "execution_count": 76,
   "metadata": {
    "collapsed": false
   },
   "outputs": [
    {
     "data": {
      "text/plain": [
       "0.09024919457575448"
      ]
     },
     "execution_count": 76,
     "metadata": {},
     "output_type": "execute_result"
    }
   ],
   "source": [
    "evaluation_metric(y_val, df_val.penultimate)"
   ]
  }
 ],
 "metadata": {
  "anaconda-cloud": {},
  "kernelspec": {
   "display_name": "Python [conda root]",
   "language": "python",
   "name": "conda-root-py"
  },
  "language_info": {
   "codemirror_mode": {
    "name": "ipython",
    "version": 3
   },
   "file_extension": ".py",
   "mimetype": "text/x-python",
   "name": "python",
   "nbconvert_exporter": "python",
   "pygments_lexer": "ipython3",
   "version": "3.5.2"
  }
 },
 "nbformat": 4,
 "nbformat_minor": 1
}
