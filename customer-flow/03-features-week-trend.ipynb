{
 "cells": [
  {
   "cell_type": "code",
   "execution_count": 1,
   "metadata": {
    "collapsed": true
   },
   "outputs": [],
   "source": [
    "import pandas as pd\n",
    "import numpy as np\n",
    "import feather\n",
    "\n",
    "from tqdm import tqdm"
   ]
  },
  {
   "cell_type": "code",
   "execution_count": 3,
   "metadata": {
    "collapsed": true
   },
   "outputs": [],
   "source": [
    "from feature_gen import add_weekly_trends_features\n",
    "from outliers import remove_outliers"
   ]
  },
  {
   "cell_type": "code",
   "execution_count": 4,
   "metadata": {
    "collapsed": true
   },
   "outputs": [],
   "source": [
    "df_pays = feather.read_dataframe('data/df_pays_na_test.feather')"
   ]
  },
  {
   "cell_type": "code",
   "execution_count": 6,
   "metadata": {
    "collapsed": false
   },
   "outputs": [
    {
     "name": "stderr",
     "output_type": "stream",
     "text": [
      "100%|██████████| 2000/2000 [1:07:41<00:00,  1.54s/it]\n"
     ]
    }
   ],
   "source": [
    "shops = df_pays.shop_id.unique()\n",
    "shops = sorted(shops)\n",
    "\n",
    "dfs = []\n",
    "\n",
    "for i in tqdm(shops):\n",
    "    df_shop = df_pays[df_pays.shop_id == i].reset_index(drop=1)\n",
    "    remove_outliers(df_shop)\n",
    "    add_weekly_trends_features(df_shop)\n",
    "    dfs.append(df_shop)"
   ]
  },
  {
   "cell_type": "code",
   "execution_count": 7,
   "metadata": {
    "collapsed": true
   },
   "outputs": [],
   "source": [
    "truncated_dfs = []\n",
    "\n",
    "for df in dfs:\n",
    "    df = df.iloc[7 * 2 * 3:]\n",
    "    truncated_dfs.append(df)"
   ]
  },
  {
   "cell_type": "code",
   "execution_count": 8,
   "metadata": {
    "collapsed": true
   },
   "outputs": [],
   "source": [
    "df_features = pd.concat(truncated_dfs).reset_index(drop=1)"
   ]
  },
  {
   "cell_type": "code",
   "execution_count": 9,
   "metadata": {
    "collapsed": false
   },
   "outputs": [
    {
     "name": "stdout",
     "output_type": "stream",
     "text": [
      "weekly_trend\n",
      "biweekly_trend\n",
      "biweekly_dow_trend\n",
      "biweekly_weekend_trend\n"
     ]
    }
   ],
   "source": [
    "for c in df_features.columns:\n",
    "    if 'trend' not in c or 'coef' in c:\n",
    "        continue\n",
    "    print(c)\n",
    "    df_features.loc[df_features[c] <= 1, c] = 1"
   ]
  },
  {
   "cell_type": "code",
   "execution_count": 10,
   "metadata": {
    "collapsed": true
   },
   "outputs": [],
   "source": [
    "feather.write_dataframe(df_features, 'features/weekly_trends_features_noout.feather')"
   ]
  },
  {
   "cell_type": "code",
   "execution_count": null,
   "metadata": {
    "collapsed": true
   },
   "outputs": [],
   "source": []
  }
 ],
 "metadata": {
  "anaconda-cloud": {},
  "kernelspec": {
   "display_name": "Python [conda root]",
   "language": "python",
   "name": "conda-root-py"
  },
  "language_info": {
   "codemirror_mode": {
    "name": "ipython",
    "version": 3
   },
   "file_extension": ".py",
   "mimetype": "text/x-python",
   "name": "python",
   "nbconvert_exporter": "python",
   "pygments_lexer": "ipython3",
   "version": "3.5.2"
  }
 },
 "nbformat": 4,
 "nbformat_minor": 1
}
