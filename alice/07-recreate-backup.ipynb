{
 "cells": [
  {
   "cell_type": "code",
   "execution_count": 1,
   "metadata": {
    "collapsed": true
   },
   "outputs": [],
   "source": [
    "import pandas as pd\n",
    "import numpy as np\n",
    "import scipy.sparse as sp\n",
    "\n",
    "from time import time"
   ]
  },
  {
   "cell_type": "code",
   "execution_count": 2,
   "metadata": {
    "collapsed": true
   },
   "outputs": [],
   "source": [
    "from tqdm import tqdm_notebook as tqdm"
   ]
  },
  {
   "cell_type": "code",
   "execution_count": 3,
   "metadata": {
    "collapsed": true
   },
   "outputs": [],
   "source": [
    "from sklearn.svm import LinearSVC\n",
    "from sklearn.linear_model import LogisticRegression\n",
    "from sklearn.metrics import roc_auc_score\n",
    "from sklearn.feature_extraction.text import CountVectorizer, TfidfVectorizer"
   ]
  },
  {
   "cell_type": "code",
   "execution_count": 4,
   "metadata": {
    "collapsed": true
   },
   "outputs": [],
   "source": [
    "import pickle \n",
    "\n",
    "with open('./site_dic.pkl', 'rb') as f:\n",
    "    site_dict = pickle.load(f)"
   ]
  },
  {
   "cell_type": "code",
   "execution_count": 5,
   "metadata": {
    "collapsed": true
   },
   "outputs": [],
   "source": [
    "sites = ['site%s' % i for i in range(1, 11)]\n",
    "times = ['time%d' % i for i in range(1, 11)]"
   ]
  },
  {
   "cell_type": "code",
   "execution_count": 6,
   "metadata": {
    "collapsed": true
   },
   "outputs": [],
   "source": [
    "def roll(df, window_size, step=1):\n",
    "    n = len(df)\n",
    "    for i in range(0, n, step):\n",
    "        yield df.iloc[i:i+window_size]"
   ]
  },
  {
   "cell_type": "code",
   "execution_count": 7,
   "metadata": {
    "collapsed": false
   },
   "outputs": [],
   "source": [
    "colnames = []\n",
    "for i in range(1, 11):\n",
    "    colnames.append('time%d' % i)\n",
    "    colnames.append('site%d' % i)"
   ]
  },
  {
   "cell_type": "code",
   "execution_count": 8,
   "metadata": {
    "collapsed": false
   },
   "outputs": [],
   "source": [
    "def batch_to_line(batch):\n",
    "    line = []\n",
    "\n",
    "    for t, s in zip(batch.timestamp, batch.site):\n",
    "        line.append(t)\n",
    "        line.append(str(s))\n",
    "\n",
    "    l = len(line) // 2\n",
    "    if l < 10:\n",
    "        need = 10 - l\n",
    "        line.extend([None, 'na'] * need)\n",
    "\n",
    "    return line"
   ]
  },
  {
   "cell_type": "code",
   "execution_count": 9,
   "metadata": {
    "collapsed": false
   },
   "outputs": [],
   "source": [
    "def read_file(file_name):\n",
    "    df = pd.read_csv(file_name)\n",
    "    df.site = df.site.apply(site_dict.get)\n",
    "    df.timestamp = pd.to_datetime(df.timestamp)\n",
    "\n",
    "    df['delta'] = df.timestamp - df.timestamp.shift()\n",
    "\n",
    "    half_hour = 30 * 60\n",
    "    session_change = df.delta.dt.seconds >= half_hour\n",
    "\n",
    "    df['session_id'] = session_change.cumsum().astype(int)\n",
    "\n",
    "    groups = df.groupby('session_id')\n",
    "\n",
    "    lines = []\n",
    "    for sid, group in groups:\n",
    "\n",
    "        windows = roll(group, 10)\n",
    "        for win in windows:\n",
    "            line = batch_to_line(win)\n",
    "            lines.append(line)\n",
    "\n",
    "    df_res = pd.DataFrame(lines, columns=colnames)\n",
    "\n",
    "    user = file_name.split('/')[-1][:-4].lower()\n",
    "    df_res['user'] = user\n",
    "\n",
    "    return df_res"
   ]
  },
  {
   "cell_type": "code",
   "execution_count": 10,
   "metadata": {
    "collapsed": true
   },
   "outputs": [],
   "source": [
    "from glob import glob"
   ]
  },
  {
   "cell_type": "code",
   "execution_count": 11,
   "metadata": {
    "collapsed": false
   },
   "outputs": [],
   "source": [
    "all_files = sorted(glob('train/*.csv') + glob('train/other_user_logs/*.csv'))\n"
   ]
  },
  {
   "cell_type": "code",
   "execution_count": 12,
   "metadata": {
    "collapsed": true
   },
   "outputs": [],
   "source": [
    "from concurrent.futures import ProcessPoolExecutor"
   ]
  },
  {
   "cell_type": "code",
   "execution_count": 13,
   "metadata": {
    "collapsed": false
   },
   "outputs": [
    {
     "name": "stdout",
     "output_type": "stream",
     "text": [
      "\n"
     ]
    }
   ],
   "source": [
    "with ProcessPoolExecutor() as pool:\n",
    "    progress = tqdm(total=len(all_files))\n",
    "   \n",
    "    futures = []\n",
    " \n",
    "    for file in all_files:\n",
    "        future = pool.submit(read_file, file)\n",
    "        future.add_done_callback(lambda x: progress.update())\n",
    "        futures.append(future)\n",
    " \n",
    "    results = []\n",
    "    for f in futures:\n",
    "        results.append(f.result())\n",
    " \n",
    "    progress.close()"
   ]
  },
  {
   "cell_type": "code",
   "execution_count": 14,
   "metadata": {
    "collapsed": false
   },
   "outputs": [],
   "source": [
    "df_train = pd.concat(results)\n",
    "df_train = df_train.reset_index(drop=True)"
   ]
  },
  {
   "cell_type": "code",
   "execution_count": 15,
   "metadata": {
    "collapsed": true
   },
   "outputs": [],
   "source": [
    "df = df_train\n",
    "df['sites'] = df.site1 + ' ' + df.site2 + ' ' + df.site3 + ' ' + df.site4 + ' ' + df.site5 + ' ' + \\\n",
    "              df.site6 + ' ' + df.site7 + ' ' + df.site8 + ' ' + df.site9 + ' ' + df.site10  "
   ]
  },
  {
   "cell_type": "code",
   "execution_count": 17,
   "metadata": {
    "collapsed": false
   },
   "outputs": [],
   "source": [
    "df_train['target'] = (df_train.user == 'alice_log').astype('uint8')"
   ]
  },
  {
   "cell_type": "code",
   "execution_count": 46,
   "metadata": {
    "collapsed": false
   },
   "outputs": [],
   "source": [
    "with open('recreated.bin', 'wb') as f:\n",
    "    pickle.dump(df_train, f)"
   ]
  },
  {
   "cell_type": "code",
   "execution_count": 47,
   "metadata": {
    "collapsed": false
   },
   "outputs": [
    {
     "name": "stdout",
     "output_type": "stream",
     "text": [
      "total 1.2G\r\n",
      "-rw-rw-r-- 1 agrigorev agrigorev 5.1K Sep 13 21:10 01-benchmark.ipynb\r\n",
      "-rw-rw-r-- 1 agrigorev agrigorev  11K Sep 15 22:06 01-eda-Copy2.ipynb\r\n",
      "-rw-rw-r-- 1 agrigorev agrigorev  11K Sep 15 22:07 01-eda-Copy3.ipynb\r\n",
      "-rw-rw-r-- 1 agrigorev agrigorev  11K Sep 15 17:30 01-eda.ipynb\r\n",
      "-rw-rw-r-- 1 agrigorev agrigorev  37K Sep 15 17:02 02-eda-cont.ipynb\r\n",
      "-rw-rw-r-- 1 agrigorev agrigorev 6.2K Sep 15 22:06 03-again-Copy1.ipynb\r\n",
      "-rw-rw-r-- 1 agrigorev agrigorev 6.0K Sep 16 17:01 03-again.ipynb\r\n",
      "-rw-rw-r-- 1 agrigorev agrigorev  16K Sep 15 17:09 03-raw.ipynb\r\n",
      "-rw-rw-r-- 1 agrigorev agrigorev  10K Sep 15 22:25 04-eda.ipynb\r\n",
      "-rw-rw-r-- 1 agrigorev agrigorev  15K Sep 16 21:16 05-here-we-go-again.ipynb\r\n",
      "-rw-rw-r-- 1 agrigorev agrigorev 7.9K Sep 20 17:11 05-knn.ipynb\r\n",
      "-rw-rw-r-- 1 agrigorev agrigorev 9.1K Sep 16 21:45 05-libffm.ipynb\r\n",
      "-rw-rw-r-- 1 agrigorev agrigorev  16K Oct 11 21:41 06-ensemble-almost-top-benchmark-don't-touch.ipynb\r\n",
      "-rw-rw-r-- 1 agrigorev agrigorev 107K Oct 11 21:45 06-ensemble-almost-top-benchmark-exo.ipynb\r\n",
      "-rw-rw-r-- 1 agrigorev agrigorev  19K Oct  9 22:45 06-ensemble.ipynb\r\n",
      "-rw-rw-r-- 1 agrigorev agrigorev  20K Oct  9 22:52 06-lr+et.ipynb\r\n",
      "-rw-rw-r-- 1 agrigorev agrigorev  11K Oct 11 23:07 07-recreate.ipynb\r\n",
      "-rw-rw-r-- 1 agrigorev agrigorev  16M Sep 12 21:31 alice.zip\r\n",
      "-rw-rw-r-- 1 agrigorev agrigorev 856K Sep 16 17:06 benchmark10.csv.gz\r\n",
      "-rw-rw-r-- 1 agrigorev agrigorev 893K Sep 16 17:19 benchmark11.csv.gz\r\n",
      "-rw-rw-r-- 1 agrigorev agrigorev 746K Sep 12 22:06 benchmark2.csv.gz\r\n",
      "-rw-rw-r-- 1 agrigorev agrigorev 686K Sep 14 21:59 benchmark3.csv.gz\r\n",
      "-rw-rw-r-- 1 agrigorev agrigorev 745K Sep 15 17:09 benchmark4.csv.gz\r\n",
      "-rw-rw-r-- 1 agrigorev agrigorev 809K Sep 15 17:17 benchmark5.csv.gz\r\n",
      "-rw-rw-r-- 1 agrigorev agrigorev 837K Sep 15 17:18 benchmark6.csv.gz\r\n",
      "-rw-rw-r-- 1 agrigorev agrigorev 809K Sep 15 22:04 benchmark7.csv.gz\r\n",
      "-rw-rw-r-- 1 agrigorev agrigorev 657K Sep 12 22:04 benchmark.csv.gz\r\n",
      "-rw-rw-r-- 1 agrigorev agrigorev 844K Sep 16 21:44 benchmark_ffm.csv.gz\r\n",
      "-rw-rw-r-- 1 agrigorev agrigorev 2.1M Sep 12 22:11 benchmark_ololo.csv\r\n",
      "-rw-rw-r-- 1 agrigorev agrigorev 930K Oct  9 22:15 et01.csv.gz\r\n",
      "-rw-rw-r-- 1 agrigorev agrigorev 936K Oct 11 21:42 et02.csv.gz\r\n",
      "-rw-rw-r-- 1 agrigorev agrigorev 902K Oct 11 23:01 lr-full-01.csv.gz\r\n",
      "-rw-rw-r-- 1 agrigorev agrigorev 900K Oct 11 23:03 lr-full-02.csv.gz\r\n",
      "-rw-rw-r-- 1 agrigorev agrigorev 902K Oct 11 23:05 lr-full-03.csv.gz\r\n",
      "drwxrwxr-x 3 agrigorev agrigorev 4.0K Feb 24  2017 __MACOSX\r\n",
      "-rw-rw-r-- 1 agrigorev agrigorev 995M Oct 11 23:07 recreated.bin\r\n",
      "-rw-r--r-- 1 agrigorev agrigorev 105M Oct 11 23:06 recreated.feather\r\n",
      "-rw-rw-r-- 1 agrigorev agrigorev 481K Sep 12 21:29 sample_submission.csv.gz\r\n",
      "-rw-rw-r-- 1 agrigorev agrigorev 1.8M Sep 12 21:28 site_dic.pkl\r\n",
      "-rw-rw-r-- 1 agrigorev agrigorev  19M Sep 12 21:29 test_sessions.csv\r\n",
      "drwxr-xr-x 3 agrigorev agrigorev 4.0K Feb 24  2017 train\r\n",
      "-rw-rw-r-- 1 agrigorev agrigorev  58M Sep 12 21:37 train_sessions.csv\r\n",
      "-rw-rw-r-- 1 agrigorev agrigorev  11M Sep 12 21:28 train.zip\r\n"
     ]
    }
   ],
   "source": [
    "!ls -lh"
   ]
  },
  {
   "cell_type": "code",
   "execution_count": 18,
   "metadata": {
    "collapsed": true
   },
   "outputs": [],
   "source": [
    "cv = TfidfVectorizer(token_pattern='\\S+', min_df=10, max_df=0.5, stop_words={'na'}, ngram_range=(1, 3))\n",
    "X_ohe = cv.fit_transform(df_train.sites)"
   ]
  },
  {
   "cell_type": "code",
   "execution_count": 19,
   "metadata": {
    "collapsed": false
   },
   "outputs": [],
   "source": [
    "df_train['hour_start'] = df_train.time1.dt.hour\n",
    "df_train['weekday'] = df_train.time1.dt.weekday"
   ]
  },
  {
   "cell_type": "code",
   "execution_count": 20,
   "metadata": {
    "collapsed": true
   },
   "outputs": [],
   "source": [
    "from sklearn.preprocessing import OneHotEncoder"
   ]
  },
  {
   "cell_type": "code",
   "execution_count": 21,
   "metadata": {
    "collapsed": true
   },
   "outputs": [],
   "source": [
    "time_ohe = OneHotEncoder(dtype=np.uint8)\n",
    "X_time = time_ohe.fit_transform(df_train[['hour_start', 'weekday']])"
   ]
  },
  {
   "cell_type": "code",
   "execution_count": 22,
   "metadata": {
    "collapsed": true
   },
   "outputs": [],
   "source": [
    "y = df_train.target.values\n",
    "X_sparse = sp.hstack([X_ohe, X_time], format='csr')"
   ]
  },
  {
   "cell_type": "code",
   "execution_count": 39,
   "metadata": {
    "collapsed": false
   },
   "outputs": [
    {
     "name": "stdout",
     "output_type": "stream",
     "text": [
      "CPU times: user 3min 56s, sys: 5.24 s, total: 4min 2s\n",
      "Wall time: 1min 10s\n"
     ]
    }
   ],
   "source": [
    "%%time\n",
    "C = 2\n",
    "svm = LogisticRegression(penalty='l2', dual=False, C=C, random_state=1)\n",
    "svm.fit(X_sparse, y)"
   ]
  },
  {
   "cell_type": "markdown",
   "metadata": {},
   "source": [
    "Test"
   ]
  },
  {
   "cell_type": "code",
   "execution_count": 27,
   "metadata": {
    "collapsed": true
   },
   "outputs": [],
   "source": [
    "df_test = pd.read_csv('test_sessions.csv', dtype={s: 'str' for s in sites})\n",
    "\n",
    "for i in range(1, 11):\n",
    "    s = 'site%d' % i\n",
    "    df_test[s] = df_test[s].fillna('na')\n",
    "\n",
    "    t = 'time%d' % i\n",
    "    df_test[t] = pd.to_datetime(df_test[t])"
   ]
  },
  {
   "cell_type": "code",
   "execution_count": 28,
   "metadata": {
    "collapsed": false
   },
   "outputs": [],
   "source": [
    "df_test['hour_start'] = df_test.time1.dt.hour\n",
    "df_test['weekday'] = df_test.time1.dt.weekday"
   ]
  },
  {
   "cell_type": "code",
   "execution_count": 29,
   "metadata": {
    "collapsed": true
   },
   "outputs": [],
   "source": [
    "df = df_test\n",
    "df['sites'] = df.site1 + ' ' + df.site2 + ' ' + df.site3 + ' ' + df.site4 + ' ' + df.site5 + ' ' + \\\n",
    "              df.site6 + ' ' + df.site7 + ' ' + df.site8 + ' ' + df.site9 + ' ' + df.site10  "
   ]
  },
  {
   "cell_type": "code",
   "execution_count": 30,
   "metadata": {
    "collapsed": true
   },
   "outputs": [],
   "source": [
    "X_test_ohe = cv.transform(df_test.sites)\n",
    "X_test_time = time_ohe.transform(df_test[['hour_start', 'weekday']])"
   ]
  },
  {
   "cell_type": "code",
   "execution_count": 31,
   "metadata": {
    "collapsed": true
   },
   "outputs": [],
   "source": [
    "X_test = sp.hstack([X_test_ohe, X_test_time], format='csr')"
   ]
  },
  {
   "cell_type": "code",
   "execution_count": 40,
   "metadata": {
    "collapsed": false
   },
   "outputs": [],
   "source": [
    "df_res = pd.DataFrame()\n",
    "df_res['session_id'] = df_test.session_id\n",
    "df_res['target'] = svm.decision_function(X_test)"
   ]
  },
  {
   "cell_type": "code",
   "execution_count": 41,
   "metadata": {
    "collapsed": false
   },
   "outputs": [],
   "source": [
    "df_res.to_csv('lr-full-03.csv', index=False)\n",
    "!gzip lr-full-03.csv"
   ]
  },
  {
   "cell_type": "code",
   "execution_count": null,
   "metadata": {
    "collapsed": true
   },
   "outputs": [],
   "source": []
  }
 ],
 "metadata": {
  "anaconda-cloud": {},
  "kernelspec": {
   "display_name": "Python [conda root]",
   "language": "python",
   "name": "conda-root-py"
  },
  "language_info": {
   "codemirror_mode": {
    "name": "ipython",
    "version": 3
   },
   "file_extension": ".py",
   "mimetype": "text/x-python",
   "name": "python",
   "nbconvert_exporter": "python",
   "pygments_lexer": "ipython3",
   "version": "3.5.2"
  },
  "widgets": {
   "state": {
    "24946e41b1df436f887ae980e6af10d8": {
     "views": [
      {
       "cell_index": 12
      }
     ]
    }
   },
   "version": "1.2.0"
  }
 },
 "nbformat": 4,
 "nbformat_minor": 1
}
