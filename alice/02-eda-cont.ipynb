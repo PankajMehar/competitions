{
 "cells": [
  {
   "cell_type": "code",
   "execution_count": 4,
   "metadata": {
    "collapsed": false
   },
   "outputs": [
    {
     "name": "stdout",
     "output_type": "stream",
     "text": [
      "Alice_log.csv  other_user_logs\r\n"
     ]
    }
   ],
   "source": [
    "!ls train"
   ]
  },
  {
   "cell_type": "code",
   "execution_count": 5,
   "metadata": {
    "collapsed": false
   },
   "outputs": [
    {
     "name": "stdout",
     "output_type": "stream",
     "text": [
      "timestamp,site\r\n",
      "2013-02-12 16:25:10,api.bing.com\r\n",
      "2013-02-12 16:25:11,api.bing.com\r\n",
      "2013-02-12 16:32:10,api.bing.com\r\n",
      "2013-02-12 16:32:11,www.google.fr\r\n",
      "2013-02-12 16:32:24,www.google.fr\r\n",
      "2013-02-12 16:32:25,www.info-jeunes.net\r\n",
      "2013-02-12 16:32:25,www.google.fr\r\n",
      "2013-02-12 16:32:26,www.info-jeunes.net\r\n",
      "2013-02-12 16:32:27,platform.twitter.com\r\n"
     ]
    }
   ],
   "source": [
    "!head train/Alice_log.csv"
   ]
  },
  {
   "cell_type": "code",
   "execution_count": 96,
   "metadata": {
    "collapsed": true
   },
   "outputs": [],
   "source": [
    "import pandas as pd\n",
    "import numpy as np"
   ]
  },
  {
   "cell_type": "code",
   "execution_count": 31,
   "metadata": {
    "collapsed": false
   },
   "outputs": [],
   "source": [
    "sites = ['site%s' % i for i in range(1, 11)]\n",
    "\n",
    "df_train = pd.read_csv('train_sessions.csv', dtype={s: 'str' for s in sites})"
   ]
  },
  {
   "cell_type": "code",
   "execution_count": 45,
   "metadata": {
    "collapsed": false
   },
   "outputs": [],
   "source": [
    "parts = []\n",
    "\n",
    "for i in range(1, 11):\n",
    "    part = df_train[['session_id', 'time%d' % i, 'site%d' % i, 'target']]\n",
    "    part = part.rename(columns={'time%d' % i: 'time', 'site%d' % i: 'site'})\n",
    "    part = part.dropna()\n",
    "    parts.append(part)"
   ]
  },
  {
   "cell_type": "code",
   "execution_count": 46,
   "metadata": {
    "collapsed": false
   },
   "outputs": [],
   "source": [
    "df_parts = pd.concat(parts)\n",
    "df_parts = df_parts.sort_values(by='session_id', kind='mergesort').reset_index(drop=1)\n",
    "df_parts.time = pd.to_datetime(df_parts.time)"
   ]
  },
  {
   "cell_type": "code",
   "execution_count": 50,
   "metadata": {
    "collapsed": false
   },
   "outputs": [],
   "source": [
    "df_alice = df_parts[df_parts.target == 1]"
   ]
  },
  {
   "cell_type": "code",
   "execution_count": 53,
   "metadata": {
    "collapsed": false
   },
   "outputs": [],
   "source": [
    "sessions = df_alice.sort_values(by='time')"
   ]
  },
  {
   "cell_type": "code",
   "execution_count": 55,
   "metadata": {
    "collapsed": false
   },
   "outputs": [
    {
     "data": {
      "text/plain": [
       "2390199        NaT\n",
       "2390200   00:00:01\n",
       "2390201   00:06:59\n",
       "2390202   00:00:01\n",
       "2390203   00:00:13\n",
       "2390204   00:00:01\n",
       "2390205   00:00:00\n",
       "2390206   00:00:01\n",
       "2390207   00:00:01\n",
       "2390208   00:00:00\n",
       "1868918   00:00:00\n",
       "1868919   00:00:01\n",
       "1868920   00:00:01\n",
       "1868921   00:00:05\n",
       "1868922   00:00:01\n",
       "1868923   00:00:00\n",
       "1868925   00:00:07\n",
       "1868924   00:00:00\n",
       "1868926   00:00:09\n",
       "1868927   00:00:02\n",
       "1640992   00:00:00\n",
       "1640993   00:00:18\n",
       "1640994   00:00:01\n",
       "1640995   00:00:01\n",
       "1640996   00:00:02\n",
       "1640998   00:00:09\n",
       "1640997   00:00:00\n",
       "1640999   00:00:09\n",
       "1641000   00:00:01\n",
       "1641001   00:00:12\n",
       "            ...   \n",
       "381600    00:00:07\n",
       "381601    00:00:00\n",
       "381602    00:00:00\n",
       "381603    00:00:01\n",
       "381604    00:00:01\n",
       "381605    00:00:01\n",
       "1956856   00:00:00\n",
       "1956857   00:00:01\n",
       "1956858   00:00:03\n",
       "1956859   00:00:01\n",
       "1956860   00:00:01\n",
       "1956861   00:01:42\n",
       "1956862   00:00:04\n",
       "1956863   00:12:52\n",
       "1956864   00:00:04\n",
       "1956865   00:00:53\n",
       "577399    00:07:32\n",
       "577400    00:00:01\n",
       "577401    00:00:01\n",
       "577402    00:00:02\n",
       "577403    00:00:11\n",
       "577404    00:00:17\n",
       "577405    00:00:08\n",
       "577406    00:00:01\n",
       "577407    00:00:02\n",
       "577408    00:00:04\n",
       "2324102   00:00:59\n",
       "2324101   00:00:00\n",
       "2324104   00:00:02\n",
       "2324103   00:00:00\n",
       "Name: time, dtype: timedelta64[ns]"
      ]
     },
     "execution_count": 55,
     "metadata": {},
     "output_type": "execute_result"
    }
   ],
   "source": [
    "sessions.time.diff()"
   ]
  },
  {
   "cell_type": "code",
   "execution_count": 56,
   "metadata": {
    "collapsed": false
   },
   "outputs": [],
   "source": [
    "df_test = pd.read_csv('test_sessions.csv', dtype={s: 'str' for s in sites})"
   ]
  },
  {
   "cell_type": "code",
   "execution_count": 59,
   "metadata": {
    "collapsed": false
   },
   "outputs": [],
   "source": [
    "parts = []\n",
    "\n",
    "for i in range(1, 11):\n",
    "    part = df_test[['session_id', 'time%d' % i, 'site%d' % i]]\n",
    "    part = part.rename(columns={'time%d' % i: 'time', 'site%d' % i: 'site'})\n",
    "    part = part.dropna()\n",
    "    parts.append(part)"
   ]
  },
  {
   "cell_type": "code",
   "execution_count": 60,
   "metadata": {
    "collapsed": true
   },
   "outputs": [],
   "source": [
    "df_parts_test = pd.concat(parts)\n",
    "df_parts_test = df_parts_test.sort_values(by='session_id', kind='mergesort').reset_index(drop=1)\n",
    "df_parts_test.time = pd.to_datetime(df_parts_test.time)"
   ]
  },
  {
   "cell_type": "code",
   "execution_count": 62,
   "metadata": {
    "collapsed": false
   },
   "outputs": [
    {
     "data": {
      "text/plain": [
       "(Timestamp('2014-05-01 17:14:03'), Timestamp('2014-12-05 23:56:23'))"
      ]
     },
     "execution_count": 62,
     "metadata": {},
     "output_type": "execute_result"
    }
   ],
   "source": [
    "df_parts_test.time.min(), df_parts_test.time.max()"
   ]
  },
  {
   "cell_type": "code",
   "execution_count": 64,
   "metadata": {
    "collapsed": false
   },
   "outputs": [
    {
     "data": {
      "text/plain": [
       "(Timestamp('2013-01-12 08:05:57'), Timestamp('2014-04-30 23:40:05'))"
      ]
     },
     "execution_count": 64,
     "metadata": {},
     "output_type": "execute_result"
    }
   ],
   "source": [
    "df_parts.time.min(), df_parts.time.max()"
   ]
  },
  {
   "cell_type": "code",
   "execution_count": 66,
   "metadata": {
    "collapsed": false
   },
   "outputs": [
    {
     "data": {
      "text/plain": [
       "Timestamp('2014-04-15 18:07:50')"
      ]
     },
     "execution_count": 66,
     "metadata": {},
     "output_type": "execute_result"
    }
   ],
   "source": [
    "df_alice.time.max()"
   ]
  },
  {
   "cell_type": "code",
   "execution_count": 74,
   "metadata": {
    "collapsed": true
   },
   "outputs": [],
   "source": [
    "df_train_all = df_train"
   ]
  },
  {
   "cell_type": "code",
   "execution_count": 98,
   "metadata": {
    "collapsed": false
   },
   "outputs": [],
   "source": [
    "for s in sites:\n",
    "    df_train_all[s].fillna('', inplace=1)"
   ]
  },
  {
   "cell_type": "code",
   "execution_count": 134,
   "metadata": {
    "collapsed": false
   },
   "outputs": [],
   "source": [
    "val_mask = pd.to_datetime(df_train_all.time1) > '2014-04-01 00:00:00'"
   ]
  },
  {
   "cell_type": "code",
   "execution_count": 135,
   "metadata": {
    "collapsed": false
   },
   "outputs": [],
   "source": [
    "df_train = df_train_all[~val_mask].reset_index(drop=True)\n",
    "df_val = df_train_all[val_mask].reset_index(drop=True)"
   ]
  },
  {
   "cell_type": "code",
   "execution_count": 136,
   "metadata": {
    "collapsed": false
   },
   "outputs": [
    {
     "data": {
      "text/plain": [
       "(222357, 31204)"
      ]
     },
     "execution_count": 136,
     "metadata": {},
     "output_type": "execute_result"
    }
   ],
   "source": [
    "len(df_train), len(df_val)"
   ]
  },
  {
   "cell_type": "code",
   "execution_count": 137,
   "metadata": {
    "collapsed": false
   },
   "outputs": [
    {
     "data": {
      "text/plain": [
       "(0.008972058446552167, 0.009678246378669401)"
      ]
     },
     "execution_count": 137,
     "metadata": {},
     "output_type": "execute_result"
    }
   ],
   "source": [
    "df_train.target.mean(), df_val.target.mean()"
   ]
  },
  {
   "cell_type": "code",
   "execution_count": 138,
   "metadata": {
    "collapsed": true
   },
   "outputs": [],
   "source": [
    "from sklearn.svm import LinearSVC\n",
    "from sklearn.metrics import roc_auc_score\n",
    "from sklearn.feature_extraction.text import CountVectorizer, TfidfVectorizer\n",
    "\n",
    "from sklearn.model_selection import train_test_split\n",
    "\n",
    "from time import time"
   ]
  },
  {
   "cell_type": "code",
   "execution_count": 139,
   "metadata": {
    "collapsed": true
   },
   "outputs": [],
   "source": [
    "df = df_train\n",
    "df['sites'] = df.site1 + ' ' + df.site2 + ' ' + df.site3 + ' ' + df.site4 + ' ' + df.site5 + ' ' + \\\n",
    "              df.site6 + ' ' + df.site7 + ' ' + df.site8 + ' ' + df.site9 + ' ' + df.site10  "
   ]
  },
  {
   "cell_type": "code",
   "execution_count": 140,
   "metadata": {
    "collapsed": true
   },
   "outputs": [],
   "source": [
    "df = df_val\n",
    "df['sites'] = df.site1 + ' ' + df.site2 + ' ' + df.site3 + ' ' + df.site4 + ' ' + df.site5 + ' ' + \\\n",
    "              df.site6 + ' ' + df.site7 + ' ' + df.site8 + ' ' + df.site9 + ' ' + df.site10  "
   ]
  },
  {
   "cell_type": "code",
   "execution_count": 141,
   "metadata": {
    "collapsed": false
   },
   "outputs": [],
   "source": [
    "cv = CountVectorizer(token_pattern='\\S+', dtype=np.uint8, binary=True, min_df=10, max_df=0.5)\n",
    "X_train = cv.fit_transform(df_train.sites)\n",
    "y_train = df_train.target.values"
   ]
  },
  {
   "cell_type": "code",
   "execution_count": 142,
   "metadata": {
    "collapsed": true
   },
   "outputs": [],
   "source": [
    "X_val = cv.transform(df_val.sites)\n",
    "y_val = df_val.target.values"
   ]
  },
  {
   "cell_type": "code",
   "execution_count": 159,
   "metadata": {
    "collapsed": false
   },
   "outputs": [
    {
     "name": "stdout",
     "output_type": "stream",
     "text": [
      "C=0.01, took 0.392s, auc=0.850, 0.134\n",
      "C=0.1, took 1.206s, auc=0.908, 0.226\n",
      "C=0.5, took 2.078s, auc=0.922, 0.239\n",
      "C=1, took 2.315s, auc=0.919, 0.234\n"
     ]
    }
   ],
   "source": [
    "for C in [0.01, 0.1, 0.5, 1]:\n",
    "    t0 = time()\n",
    "\n",
    "    svm = LinearSVC(penalty='l1', dual=False, C=C, random_state=1)\n",
    "    svm.fit(X_train, y_train)\n",
    "\n",
    "    y_pred = svm.decision_function(X_val)\n",
    "    auc = roc_auc_score(y_val, y_pred)\n",
    "    pr_auc = average_precision_score(y_val, y_pred)\n",
    "\n",
    "    print('C=%s, took %.3fs, auc=%.3f, %.3f' % (C, time() - t0, auc, pr_auc))"
   ]
  },
  {
   "cell_type": "code",
   "execution_count": 151,
   "metadata": {
    "collapsed": false
   },
   "outputs": [],
   "source": [
    "from sklearn.metrics import precision_recall_curve, average_precision_score"
   ]
  },
  {
   "cell_type": "code",
   "execution_count": 160,
   "metadata": {
    "collapsed": false
   },
   "outputs": [],
   "source": [
    "p, r, _ = precision_recall_curve(y_val, y_pred)\n",
    "average_precision = average_precision_score(y_val, y_pred)"
   ]
  },
  {
   "cell_type": "code",
   "execution_count": 148,
   "metadata": {
    "collapsed": true
   },
   "outputs": [],
   "source": [
    "import matplotlib.pyplot as plt\n",
    "%matplotlib inline"
   ]
  },
  {
   "cell_type": "code",
   "execution_count": 161,
   "metadata": {
    "collapsed": false
   },
   "outputs": [
    {
     "data": {
      "text/plain": [
       "<matplotlib.text.Text at 0x7f19ccf93710>"
      ]
     },
     "execution_count": 161,
     "metadata": {},
     "output_type": "execute_result"
    },
    {
     "data": {
      "image/png": "[encoded data removed]",
      "text/plain": [
       "<matplotlib.figure.Figure at 0x7f19ccf2a8d0>"
      ]
     },
     "metadata": {},
     "output_type": "display_data"
    }
   ],
   "source": [
    "plt.step(r, p, color='b', alpha=0.2, where='post')\n",
    "plt.fill_between(r, p, step='post', alpha=0.2, color='b')\n",
    "\n",
    "plt.xlabel('Recall')\n",
    "plt.ylabel('Precision')\n",
    "plt.ylim([0.0, 1.05])\n",
    "plt.xlim([0.0, 1.0])\n",
    "plt.title('2-class Precision-Recall curve: AUC={0:0.2f}'.format(\n",
    "          average_precision))"
   ]
  },
  {
   "cell_type": "code",
   "execution_count": null,
   "metadata": {
    "collapsed": true
   },
   "outputs": [],
   "source": []
  }
 ],
 "metadata": {
  "anaconda-cloud": {},
  "kernelspec": {
   "display_name": "Python [conda root]",
   "language": "python",
   "name": "conda-root-py"
  },
  "language_info": {
   "codemirror_mode": {
    "name": "ipython",
    "version": 3
   },
   "file_extension": ".py",
   "mimetype": "text/x-python",
   "name": "python",
   "nbconvert_exporter": "python",
   "pygments_lexer": "ipython3",
   "version": "3.5.2"
  }
 },
 "nbformat": 4,
 "nbformat_minor": 1
}
