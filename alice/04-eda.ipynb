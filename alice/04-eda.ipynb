{
 "cells": [
  {
   "cell_type": "code",
   "execution_count": 1,
   "metadata": {
    "collapsed": true
   },
   "outputs": [],
   "source": [
    "import pickle"
   ]
  },
  {
   "cell_type": "code",
   "execution_count": 2,
   "metadata": {
    "collapsed": true
   },
   "outputs": [],
   "source": [
    "with open('./site_dic.pkl', 'rb') as f:\n",
    "    site_dict = pickle.load(f)"
   ]
  },
  {
   "cell_type": "code",
   "execution_count": 3,
   "metadata": {
    "collapsed": true
   },
   "outputs": [],
   "source": [
    "import pandas as pd\n",
    "import numpy as np\n",
    "import scipy.sparse as sp\n",
    "\n",
    "from time import time"
   ]
  },
  {
   "cell_type": "code",
   "execution_count": 4,
   "metadata": {
    "collapsed": true
   },
   "outputs": [],
   "source": [
    "sites = ['site%s' % i for i in range(1, 11)]"
   ]
  },
  {
   "cell_type": "code",
   "execution_count": 5,
   "metadata": {
    "collapsed": true
   },
   "outputs": [],
   "source": [
    "df_train = pd.read_csv('train_sessions.csv')"
   ]
  },
  {
   "cell_type": "code",
   "execution_count": 8,
   "metadata": {
    "collapsed": false
   },
   "outputs": [],
   "source": [
    "sites = []\n",
    "\n",
    "for i in range(1, 11):\n",
    "    s = 'site%d' % i\n",
    "    df_train[s] = df_train[s].fillna(0).astype(int)\n",
    "    \n",
    "    t = 'time%d' % i\n",
    "    df_train[t] = pd.to_datetime(df_train[t])\n",
    "\n",
    "    sites.append(s)"
   ]
  },
  {
   "cell_type": "code",
   "execution_count": 11,
   "metadata": {
    "collapsed": false
   },
   "outputs": [],
   "source": [
    "df_train = df_train.sort_values(by='time1').reset_index(drop=True)"
   ]
  },
  {
   "cell_type": "code",
   "execution_count": 72,
   "metadata": {
    "collapsed": true
   },
   "outputs": [],
   "source": [
    "df = df_train\n",
    "df['sites'] = df.site1.astype('str') + ' ' + df.site2.astype('str') + ' ' + \\\n",
    "              df.site3.astype('str') + ' ' + df.site4.astype('str') + ' ' + \\\n",
    "              df.site5.astype('str') + ' ' + \\\n",
    "              df.site6.astype('str') + ' ' + df.site7.astype('str') + ' ' + \\\n",
    "              df.site8.astype('str') + ' ' + df.site9.astype('str') + ' ' + \\\n",
    "              df.site10.astype('str')  "
   ]
  },
  {
   "cell_type": "code",
   "execution_count": 62,
   "metadata": {
    "collapsed": false
   },
   "outputs": [],
   "source": [
    "columns = df_train[sites].values.flatten()\n",
    "ones = np.ones_like(columns, dtype=np.uint8)\n",
    "\n",
    "row_ptrs = np.arange(0, len(ones) + 1, 10)"
   ]
  },
  {
   "cell_type": "code",
   "execution_count": 63,
   "metadata": {
    "collapsed": false
   },
   "outputs": [],
   "source": [
    "X = sp.csr_matrix((ones, columns, row_ptrs), )"
   ]
  },
  {
   "cell_type": "code",
   "execution_count": 73,
   "metadata": {
    "collapsed": true
   },
   "outputs": [],
   "source": [
    "cv = CountVectorizer(token_pattern='\\S+')#, min_df=10, max_df=0.5)\n",
    "X_ohe = cv.fit_transform(df_train.sites)"
   ]
  },
  {
   "cell_type": "code",
   "execution_count": 74,
   "metadata": {
    "collapsed": true
   },
   "outputs": [],
   "source": [
    "X = X_ohe"
   ]
  },
  {
   "cell_type": "code",
   "execution_count": 75,
   "metadata": {
    "collapsed": false
   },
   "outputs": [],
   "source": [
    "from sklearn.svm import LinearSVC\n",
    "from sklearn.linear_model import LogisticRegression\n",
    "from sklearn.metrics import roc_auc_score\n",
    "from sklearn.feature_extraction.text import CountVectorizer, TfidfVectorizer\n",
    "\n",
    "from sklearn.model_selection import train_test_split"
   ]
  },
  {
   "cell_type": "code",
   "execution_count": 76,
   "metadata": {
    "collapsed": true
   },
   "outputs": [],
   "source": [
    "y = df_train.target.values"
   ]
  },
  {
   "cell_type": "code",
   "execution_count": 77,
   "metadata": {
    "collapsed": true
   },
   "outputs": [],
   "source": [
    "n = len(df_train) // 10\n",
    "\n",
    "X_train = X[:-n]\n",
    "y_train = y[:-n]\n",
    "\n",
    "X_val = X[-n:]\n",
    "y_val = y[-n:]"
   ]
  },
  {
   "cell_type": "code",
   "execution_count": 78,
   "metadata": {
    "collapsed": false
   },
   "outputs": [
    {
     "name": "stdout",
     "output_type": "stream",
     "text": [
      "C=0.01, took 0.539s, auc=0.877\n",
      "C=0.1, took 3.197s, auc=0.903\n",
      "C=0.5, took 6.966s, auc=0.897\n",
      "C=1, took 7.048s, auc=0.891\n"
     ]
    }
   ],
   "source": [
    "for C in [0.01, 0.1, 0.5, 1]:\n",
    "    t0 = time()\n",
    "\n",
    "    svm = LinearSVC(penalty='l1', dual=False, C=C, random_state=1)\n",
    "    #svm = LogisticRegression(penalty='l1', dual=False, C=C, random_state=1)\n",
    "    svm.fit(X_train, y_train)\n",
    "\n",
    "    y_pred = svm.decision_function(X_val)\n",
    "    auc = roc_auc_score(y_val, y_pred)\n",
    "\n",
    "    print('C=%s, took %.3fs, auc=%.3f' % (C, time() - t0, auc))"
   ]
  },
  {
   "cell_type": "code",
   "execution_count": 70,
   "metadata": {
    "collapsed": false
   },
   "outputs": [
    {
     "name": "stdout",
     "output_type": "stream",
     "text": [
      "C=0.01, took 0.460s, auc=0.877\n",
      "C=0.1, took 3.189s, auc=0.903\n",
      "C=0.5, took 6.987s, auc=0.897\n",
      "C=1, took 7.116s, auc=0.891\n"
     ]
    }
   ],
   "source": [
    "for C in [0.01, 0.1, 0.5, 1]:\n",
    "    t0 = time()\n",
    "\n",
    "    svm = LinearSVC(penalty='l1', dual=False, C=C, random_state=1)\n",
    "    #svm = LogisticRegression(penalty='l1', dual=False, C=C, random_state=1)\n",
    "    svm.fit(X_train, y_train)\n",
    "\n",
    "    y_pred = svm.decision_function(X_val)\n",
    "    auc = roc_auc_score(y_val, y_pred)\n",
    "\n",
    "    print('C=%s, took %.3fs, auc=%.3f' % (C, time() - t0, auc))"
   ]
  },
  {
   "cell_type": "code",
   "execution_count": 71,
   "metadata": {
    "collapsed": false
   },
   "outputs": [
    {
     "name": "stdout",
     "output_type": "stream",
     "text": [
      "C=0.01, took 0.594s, auc=0.843\n",
      "C=0.1, took 0.932s, auc=0.911\n",
      "C=0.5, took 1.921s, auc=0.912\n",
      "C=1, took 3.382s, auc=0.911\n"
     ]
    }
   ],
   "source": [
    "for C in [0.01, 0.1, 0.5, 1]:\n",
    "    t0 = time()\n",
    "\n",
    "    #svm = LinearSVC(penalty='l1', dual=False, C=C, random_state=1)\n",
    "    svm = LogisticRegression(penalty='l1', dual=False, C=C, random_state=1)\n",
    "    svm.fit(X_train, y_train)\n",
    "\n",
    "    y_pred = svm.decision_function(X_val)\n",
    "    auc = roc_auc_score(y_val, y_pred)\n",
    "\n",
    "    print('C=%s, took %.3fs, auc=%.3f' % (C, time() - t0, auc))"
   ]
  },
  {
   "cell_type": "code",
   "execution_count": 64,
   "metadata": {
    "collapsed": false
   },
   "outputs": [
    {
     "data": {
      "text/plain": [
       "LogisticRegression(C=5, class_weight=None, dual=False, fit_intercept=True,\n",
       "          intercept_scaling=1, max_iter=100, multi_class='ovr', n_jobs=1,\n",
       "          penalty='l1', random_state=1, solver='liblinear', tol=0.0001,\n",
       "          verbose=0, warm_start=False)"
      ]
     },
     "execution_count": 64,
     "metadata": {},
     "output_type": "execute_result"
    }
   ],
   "source": [
    "#C = 0.1\n",
    "#svm = LinearSVC(penalty='l1', dual=False, C=C, random_state=1)\n",
    "C = 1\n",
    "svm =LogisticRegression(penalty='l1', dual=False, C=C, random_state=1)\n",
    "svm.fit(X, y)"
   ]
  },
  {
   "cell_type": "markdown",
   "metadata": {},
   "source": [
    "logreg, tf-idf 1-3 ngrams\n",
    "\n",
    "- C=1, 0.91868, cv = auc=0.945\n",
    "- C=5, 0.91512, cv = auc=0.952"
   ]
  },
  {
   "cell_type": "code",
   "execution_count": 65,
   "metadata": {
    "collapsed": true
   },
   "outputs": [],
   "source": [
    "df_test = pd.read_csv('test_sessions.csv', dtype={s: 'str' for s in sites})\n",
    "\n",
    "for s in sites:\n",
    "    df_test[s].fillna('', inplace=1)"
   ]
  },
  {
   "cell_type": "code",
   "execution_count": 66,
   "metadata": {
    "collapsed": true
   },
   "outputs": [],
   "source": [
    "df = df_test\n",
    "df['sites'] = df.site1 + ' ' + df.site2 + ' ' + df.site3 + ' ' + df.site4 + ' ' + df.site5 + ' ' + \\\n",
    "              df.site6 + ' ' + df.site7 + ' ' + df.site8 + ' ' + df.site9 + ' ' + df.site10  "
   ]
  },
  {
   "cell_type": "code",
   "execution_count": 67,
   "metadata": {
    "collapsed": true
   },
   "outputs": [],
   "source": [
    "X_test = cv.transform(df_test.sites)"
   ]
  },
  {
   "cell_type": "code",
   "execution_count": 68,
   "metadata": {
    "collapsed": true
   },
   "outputs": [],
   "source": [
    "pred = svm.decision_function(X_test)"
   ]
  },
  {
   "cell_type": "code",
   "execution_count": 69,
   "metadata": {
    "collapsed": false
   },
   "outputs": [],
   "source": [
    "df_res = pd.DataFrame()\n",
    "df_res['session_id'] = df_test.session_id\n",
    "df_res['target'] = pred"
   ]
  },
  {
   "cell_type": "code",
   "execution_count": 70,
   "metadata": {
    "collapsed": true
   },
   "outputs": [],
   "source": [
    "df_res.to_csv('benchmark6.csv', index=False)"
   ]
  },
  {
   "cell_type": "code",
   "execution_count": 71,
   "metadata": {
    "collapsed": false,
    "scrolled": true
   },
   "outputs": [],
   "source": [
    "!gzip -f benchmark6.csv"
   ]
  },
  {
   "cell_type": "markdown",
   "metadata": {},
   "source": [
    "- 1 -> LB: 89\n",
    "- 0.1 -> 0.91416"
   ]
  },
  {
   "cell_type": "code",
   "execution_count": null,
   "metadata": {
    "collapsed": true
   },
   "outputs": [],
   "source": []
  }
 ],
 "metadata": {
  "anaconda-cloud": {},
  "kernelspec": {
   "display_name": "Python [conda root]",
   "language": "python",
   "name": "conda-root-py"
  },
  "language_info": {
   "codemirror_mode": {
    "name": "ipython",
    "version": 3
   },
   "file_extension": ".py",
   "mimetype": "text/x-python",
   "name": "python",
   "nbconvert_exporter": "python",
   "pygments_lexer": "ipython3",
   "version": "3.5.2"
  }
 },
 "nbformat": 4,
 "nbformat_minor": 1
}
