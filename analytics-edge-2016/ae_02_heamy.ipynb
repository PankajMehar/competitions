{
 "cells": [
  {
   "cell_type": "code",
   "execution_count": 1,
   "metadata": {
    "collapsed": false
   },
   "outputs": [],
   "source": [
    "from pprint import pprint\n",
    "from collections import Counter\n",
    "\n",
    "import pandas as pd\n",
    "import numpy as np\n",
    "import scipy\n",
    "\n",
    "from natsort import natsorted\n",
    "import itertools\n",
    "\n",
    "from tqdm import tqdm\n",
    "\n",
    "import warnings\n",
    "warnings.filterwarnings(\"ignore\")"
   ]
  },
  {
   "cell_type": "code",
   "execution_count": 2,
   "metadata": {
    "collapsed": true
   },
   "outputs": [],
   "source": [
    "from sklearn.feature_extraction import DictVectorizer\n",
    "from sklearn.preprocessing import LabelEncoder\n",
    "from sklearn.cross_validation import StratifiedKFold, StratifiedShuffleSplit\n",
    "from sklearn.decomposition import TruncatedSVD, NMF\n",
    "from sklearn.manifold import TSNE\n",
    "from sklearn.svm import LinearSVC, SVC\n",
    "from sklearn.linear_model import LogisticRegression\n",
    "\n",
    "import xgboost as xgb\n",
    "from ml_metrics import auc"
   ]
  },
  {
   "cell_type": "code",
   "execution_count": 3,
   "metadata": {
    "collapsed": true
   },
   "outputs": [],
   "source": [
    "import matplotlib.pyplot as plt\n",
    "%matplotlib inline"
   ]
  },
  {
   "cell_type": "code",
   "execution_count": 4,
   "metadata": {
    "collapsed": false
   },
   "outputs": [],
   "source": [
    "df_train = pd.read_csv('../input/train2016.csv')\n",
    "df_test = pd.read_csv('../input/test2016.csv')\n",
    "\n",
    "party_encoder = LabelEncoder()\n",
    "df_train.Party = party_encoder.fit_transform(df_train.Party)\n",
    "\n",
    "TRAIN = 0\n",
    "HOLD_OUT = 1\n",
    "TEST = 2\n",
    "\n",
    "df_train['source'] = TRAIN\n",
    "cv = StratifiedShuffleSplit(df_train.Party, n_iter=1, test_size=500, random_state=31)\n",
    "_, holdout_idx = next(iter(cv))\n",
    "df_train.loc[holdout_idx, 'source'] = HOLD_OUT\n",
    "df_test['source'] = TEST\n",
    "\n",
    "df_all = pd.concat([df_train, df_test]).reset_index(drop=1)\n",
    "\n",
    "describe = df_all.YOB.describe(percentiles=[0.01, 0.99])\n",
    "low = describe['1%']\n",
    "high = describe['99%']\n",
    "\n",
    "df_all.loc[(df_all.YOB < low) | (df_all.YOB > high), 'YOB'] = np.nan \n",
    "\n",
    "# age brackets: below 20 - 20-29 - 30-39 - 40-49 - 50-59 - 60+\n",
    "age = 2016 - df_all.YOB\n",
    "\n",
    "bins = [0, 19, 29, 39, 49, 59, 100]\n",
    "labels = [('%d-%d') % (bins[i], bins[i + 1]) for i in range(len(bins) - 1)]\n",
    "df_all['Age'] = pd.cut(age, bins=bins, labels=labels).astype(str)\n",
    "df_all.drop('YOB', axis=1, inplace=1)"
   ]
  },
  {
   "cell_type": "code",
   "execution_count": 5,
   "metadata": {
    "collapsed": false
   },
   "outputs": [],
   "source": [
    "all_columns  = natsorted(set(df_all.columns) - {'USER_ID', 'Party', 'source'})\n",
    "questions    = [q for q in all_columns if q.startswith('Q')]\n",
    "demographics = ['Age', 'EducationLevel', 'Gender', 'HouseholdStatus', 'Income']"
   ]
  },
  {
   "cell_type": "code",
   "execution_count": 6,
   "metadata": {
    "collapsed": false
   },
   "outputs": [],
   "source": [
    "for c in all_columns:\n",
    "    df_all[c] = df_all[c].str.lower()\n",
    "\n",
    "def clean_level_names(s):\n",
    "    if isinstance(s, float):\n",
    "        return s\n",
    "    s = s.replace('$', '')\n",
    "    s = s.replace(',', '')\n",
    "    s = s.replace(' - ', '_')\n",
    "    s = s.replace(' ', '_')\n",
    "    return s\n",
    "\n",
    "df_all.Income = df_all.Income.apply(clean_level_names)\n",
    "df_all.HouseholdStatus = df_all.HouseholdStatus.str.replace(' ', '_')\n",
    "df_all.EducationLevel = df_all.EducationLevel.str.replace(' ', '_')\n",
    "\n",
    "df_all.Q117193 = df_all.Q117193.str.replace(' ', '_')\n",
    "df_all.Q120194 = df_all.Q120194.str.replace(' ', '_')\n",
    "\n",
    "df_all.Q98059  = df_all.Q98059.map({'yes': 'yes', 'only-child': 'no'})\n",
    "df_all.Q99982  = df_all.Q99982.map({'check!': 'yes', 'nope': 'no'})\n",
    "df_all.Q106997 = df_all.Q106997.map({'yay people!': 'yes', 'grrr people': 'no'})\n",
    "df_all.Q108855 = df_all.Q108855.map({'yes!': 'yes', 'umm...': 'no'})\n",
    "df_all.Q117186 = df_all.Q117186.map({'hot headed': 'yes', 'cool headed': 'no'})"
   ]
  },
  {
   "cell_type": "code",
   "execution_count": 7,
   "metadata": {
    "collapsed": true
   },
   "outputs": [],
   "source": [
    "df_all.loc[:, all_columns] = df_all.loc[:, all_columns].fillna('NA')"
   ]
  },
  {
   "cell_type": "code",
   "execution_count": 8,
   "metadata": {
    "collapsed": true
   },
   "outputs": [],
   "source": [
    "df_questions = pd.read_csv('questions_selected.csv', index_col='Question ID')\n",
    "yes_no = set(df_questions[df_questions['Possible Answers'] == 'Yes,No'].index) \n",
    "yes_no = natsorted(yes_no | {'Q98059', 'Q99982', 'Q106997', 'Q108855', 'Q117186'})"
   ]
  },
  {
   "cell_type": "code",
   "execution_count": 9,
   "metadata": {
    "collapsed": true
   },
   "outputs": [],
   "source": [
    "df_train = df_all[df_all.source == TRAIN]\n",
    "df_holdout = df_all[df_all.source == HOLD_OUT]\n",
    "df_test = df_all[df_all.source == TEST]"
   ]
  },
  {
   "cell_type": "code",
   "execution_count": 10,
   "metadata": {
    "collapsed": false
   },
   "outputs": [],
   "source": [
    "best_questions = [\"Q109244\", \"Q115611\", \"Q98197\", \"Q113181\", \"Q98869\", \"Q99480\", \"Q116881\", \"Q106272\", \"Q115195\"]\n",
    "top = demographics + best_questions"
   ]
  },
  {
   "cell_type": "code",
   "execution_count": 11,
   "metadata": {
    "collapsed": false
   },
   "outputs": [],
   "source": [
    "records = df_all[top].to_dict(orient='records')\n",
    "oh_vectorizer = DictVectorizer(separator='_',)\n",
    "oh_top = oh_vectorizer.fit_transform(records)\n",
    "\n",
    "svd_top_5 = TruncatedSVD(n_components=5, random_state=1).fit_transform(oh_top)\n",
    "svd_top_10 = TruncatedSVD(n_components=10, random_state=1).fit_transform(oh_top)\n",
    "svd_top_15 = TruncatedSVD(n_components=15, random_state=1).fit_transform(oh_top)\n",
    "nmf_top_5 = NMF(n_components=5, random_state=1).fit_transform(oh_top)\n",
    "nmf_top_10 = NMF(n_components=10, random_state=1).fit_transform(oh_top)\n",
    "nmf_top_15 = NMF(n_components=15, random_state=1).fit_transform(oh_top)"
   ]
  },
  {
   "cell_type": "code",
   "execution_count": 12,
   "metadata": {
    "collapsed": false
   },
   "outputs": [],
   "source": [
    "not_selected = natsorted(set(all_columns) - set(top))\n",
    "records = df_all[not_selected].to_dict(orient='records')\n",
    "oh_vectorizer = DictVectorizer(separator='_',)\n",
    "oh_not_selected = oh_vectorizer.fit_transform(records)\n",
    "\n",
    "svd_not_selected_10 = TruncatedSVD(n_components=10, random_state=1).fit_transform(oh_not_selected)\n",
    "nmf_not_selected_10 = NMF(n_components=10, random_state=1).fit_transform(oh_not_selected)"
   ]
  },
  {
   "cell_type": "code",
   "execution_count": 13,
   "metadata": {
    "collapsed": true
   },
   "outputs": [],
   "source": [
    "records = df_all[all_columns].to_dict(orient='records')\n",
    "oh_vectorizer = DictVectorizer(separator='_',)\n",
    "oh_all = oh_vectorizer.fit_transform(records)\n",
    "\n",
    "svd_all_15 = TruncatedSVD(n_components=15, random_state=1).fit_transform(oh_all)\n",
    "svd_all_25 = TruncatedSVD(n_components=25, random_state=1).fit_transform(oh_all)\n",
    "svd_all_50 = TruncatedSVD(n_components=50, random_state=1).fit_transform(oh_all)\n",
    "nmf_all_15 = NMF(n_components=15, random_state=1).fit_transform(oh_all)\n",
    "nmf_all_25 = NMF(n_components=25, random_state=1).fit_transform(oh_all)\n",
    "nmf_all_50 = NMF(n_components=50, random_state=1).fit_transform(oh_all)"
   ]
  },
  {
   "cell_type": "code",
   "execution_count": 14,
   "metadata": {
    "collapsed": true
   },
   "outputs": [],
   "source": [
    "datasets = {\n",
    "    'oh_top': oh_top.toarray(),\n",
    "    'svd_top_5': svd_top_5,\n",
    "    'svd_top_10': svd_top_10,\n",
    "    'svd_top_15': svd_top_15,\n",
    "    'nmf_top_5': nmf_top_5,\n",
    "    'nmf_top_10': nmf_top_10,\n",
    "    'nmf_top_15': nmf_top_15,\n",
    "    'oh_top_notsel_svd': np.hstack([oh_top.toarray(), svd_not_selected_10]),  \n",
    "    'svd_top_5_notsel_svd': np.hstack([svd_top_5, svd_not_selected_10]),\n",
    "    'svd_top_10_notsel_svd': np.hstack([svd_top_10, svd_not_selected_10]),\n",
    "    'svd_top_15_notsel_svd': np.hstack([svd_top_15, svd_not_selected_10]),\n",
    "    'nmf_top_5_notsel_svd': np.hstack([nmf_top_5, svd_not_selected_10]),\n",
    "    'nmf_top_10_notsel_svd': np.hstack([nmf_top_10, svd_not_selected_10]),\n",
    "    'nmf_top_15_notsel_svd': np.hstack([nmf_top_15, svd_not_selected_10]),\n",
    "    'oh_top_notsel_nmf': np.hstack([oh_top.toarray(), nmf_not_selected_10]),\n",
    "    'svd_top_5_notsel_nmf': np.hstack([svd_top_5, nmf_not_selected_10]),\n",
    "    'svd_top_10_notsel_nmf': np.hstack([svd_top_10, nmf_not_selected_10]),\n",
    "    'svd_top_15_notsel_nmf': np.hstack([svd_top_15, nmf_not_selected_10]),\n",
    "    'nmf_top_5_notsel_nmf': np.hstack([nmf_top_5, nmf_not_selected_10]),\n",
    "    'nmf_top_10_notsel_nmf': np.hstack([nmf_top_10, nmf_not_selected_10]),\n",
    "    'nmf_top_15_notsel_nmf': np.hstack([nmf_top_15, nmf_not_selected_10]),\n",
    "    'oh_all': oh_all.toarray(),\n",
    "    'svd_all_15': svd_all_15,\n",
    "    'svd_all_25': svd_all_25,\n",
    "    'svd_all_50': svd_all_50,\n",
    "    'nmf_all_15': nmf_all_15,\n",
    "    'nmf_all_25': nmf_all_25,\n",
    "    'nmf_all_50': nmf_all_50,\n",
    "}"
   ]
  },
  {
   "cell_type": "code",
   "execution_count": 15,
   "metadata": {
    "collapsed": true
   },
   "outputs": [],
   "source": [
    "from bayes_opt import BayesianOptimization\n",
    "\n",
    "def round_to_int(val_min, val_max):\n",
    "    return ('transform', int, (val_min, val_max))\n",
    "\n",
    "def find_best_params(X, y, model, evaluation_callback, search_space, bo_rounds=20, verbose=0):\n",
    "    cv = StratifiedKFold(y, n_folds=3, shuffle=True, random_state=1)\n",
    "\n",
    "    search_space_internal = {}\n",
    "    to_transform = {}\n",
    "    for k, v in search_space.items():\n",
    "        if v[0] == 'transform':\n",
    "            search_space_internal[k] = v[2]\n",
    "            to_transform[k] = v[1]\n",
    "        else:\n",
    "            search_space_internal[k] = v\n",
    "    \n",
    "    def transform_params(params):\n",
    "        result = {}\n",
    "        for k, v in params.items():\n",
    "            if k in to_transform:\n",
    "                f = to_transform[k]\n",
    "                result[k] = f(v)\n",
    "            else:\n",
    "                result[k] = v\n",
    "        return result\n",
    "    \n",
    "    def optimize(**params):\n",
    "        scores = []\n",
    "        params = transform_params(params)\n",
    "        model.set_params(**params)\n",
    "        for train, test in cv:\n",
    "            model.fit(X[train], y[train])\n",
    "            score = evaluation_callback(model, X[test], y[test])\n",
    "            scores.append(score)\n",
    "\n",
    "        return np.mean(scores)\n",
    "\n",
    "    bo = BayesianOptimization(optimize, search_space_internal, verbose=verbose)\n",
    "    bo.maximize(n_iter=bo_rounds)\n",
    "\n",
    "    best_params = bo.res['max']['max_params']\n",
    "    best_score = bo.res['max']['max_val']\n",
    "\n",
    "    return transform_params(best_params), best_score"
   ]
  },
  {
   "cell_type": "code",
   "execution_count": 16,
   "metadata": {
    "collapsed": true
   },
   "outputs": [],
   "source": [
    "train_idx = df_all.source == TRAIN\n",
    "ho_idx = df_all.source == HOLD_OUT\n",
    "\n",
    "y = df_all[train_idx].Party.astype(int).values\n",
    "y_val = df_all[ho_idx].Party.astype(int).values"
   ]
  },
  {
   "cell_type": "code",
   "execution_count": 17,
   "metadata": {
    "collapsed": false
   },
   "outputs": [
    {
     "name": "stdout",
     "output_type": "stream",
     "text": [
      "nmf_top_15_notsel_nmf 0.638\n",
      "nmf_top_5_notsel_nmf 0.604\n",
      "svd_top_5_notsel_nmf 0.614\n",
      "mtv 0.628\n",
      "svd_top_15_notsel_svd 0.622\n",
      "alternative 0.642\n",
      "oh_top_notsel_svd 0.628\n",
      "oh_top_notsel_nmf 0.626\n",
      "nmf_top_5 0.604\n",
      "svd_top_10_notsel_svd 0.646\n",
      "svd_all_50 0.632\n",
      "svd_all_15 0.592\n",
      "svd_top_10 0.636\n",
      "svd_top_15 0.632\n",
      "svd_top_5_notsel_svd 0.618\n",
      "nmf_top_10_notsel_nmf 0.616\n",
      "svd_top_15_notsel_nmf 0.63\n",
      "svd_top_5 0.6\n",
      "oh_all 0.62\n",
      "nmf_top_15_notsel_svd 0.642\n",
      "nmf_top_5_notsel_svd 0.608\n",
      "svd_top_10_notsel_nmf 0.634\n",
      "nmf_all_50 0.624\n",
      "svd_all_25 0.614\n",
      "nmf_top_15 0.634\n",
      "nmf_top_10_notsel_svd 0.614\n",
      "nmf_all_15 0.554\n",
      "nmf_top_10 0.6\n",
      "nmf_all_25 0.572\n",
      "oh_top 0.63\n"
     ]
    }
   ],
   "source": [
    "def svm_eval(svm, X_val, y_val):\n",
    "    pred = svm.decision_function(X_val)\n",
    "    pred = 1 / (1 + np.exp(-pred))\n",
    "    return auc(y_val, pred)\n",
    "\n",
    "svm_models = []\n",
    "\n",
    "for ds_name, dataset in datasets.items():\n",
    "    X = dataset[train_idx.values]\n",
    "    X_val = dataset[ho_idx.values]\n",
    "    svm = LinearSVC()\n",
    "    svm_search_space = {'C': (0.00005, 1)}\n",
    "\n",
    "    best_params, best_score = find_best_params(X, y, svm, svm_eval, svm_search_space, bo_rounds=10)\n",
    "    svm.set_params(**best_params)\n",
    "    svm.fit(X, y)\n",
    "\n",
    "    y_pred = svm.predict(X_val).astype(int)\n",
    "    acc = (y_val == y_pred).mean()\n",
    "\n",
    "    svm_models.append((ds_name, best_params, svm, acc))\n",
    "    print ds_name, acc"
   ]
  },
  {
   "cell_type": "code",
   "execution_count": 18,
   "metadata": {
    "collapsed": false,
    "scrolled": false
   },
   "outputs": [
    {
     "name": "stdout",
     "output_type": "stream",
     "text": [
      "nmf_top_15_notsel_nmf 0.604\n",
      "nmf_top_5_notsel_nmf 0.58\n",
      "svd_top_5_notsel_nmf 0.614\n",
      "mtv 0.638\n",
      "svd_top_15_notsel_svd 0.642\n",
      "alternative 0.638\n",
      "oh_top_notsel_svd 0.636\n",
      "oh_top_notsel_nmf 0.638\n",
      "nmf_top_5 0.586\n",
      "svd_top_10_notsel_svd 0.62\n",
      "svd_all_50 0.61\n",
      "svd_all_15 0.566\n",
      "svd_top_10 0.608\n",
      "svd_top_15 0.63\n",
      "svd_top_5_notsel_svd 0.598\n",
      "nmf_top_10_notsel_nmf 0.598\n",
      "svd_top_15_notsel_nmf 0.63\n",
      "svd_top_5 0.612\n",
      "oh_all 0.608\n",
      "nmf_top_15_notsel_svd 0.56\n",
      "nmf_top_5_notsel_svd 0.548\n",
      "svd_top_10_notsel_nmf 0.608\n",
      "nmf_all_50 0.53\n",
      "svd_all_25 0.606\n",
      "nmf_top_15 0.614\n",
      "nmf_top_10_notsel_svd 0.56\n",
      "nmf_all_15 0.556\n",
      "nmf_top_10 0.582\n",
      "nmf_all_25 0.598\n",
      "oh_top 0.634\n"
     ]
    }
   ],
   "source": [
    "def sklearn_standard_eval(m, X_val, y_val):\n",
    "    pred = m.predict_proba(X_val)[:, 1]\n",
    "    return auc(y_val, pred)\n",
    "\n",
    "svm_rbf_models = []\n",
    "\n",
    "for ds_name, dataset in datasets.items():\n",
    "    X = dataset[train_idx.values]\n",
    "    X_val = dataset[ho_idx.values]\n",
    "    svm = SVC(kernel='rbf', probability=True)\n",
    "    svm_search_space = {'C': (0.00005, 2)}\n",
    "\n",
    "    best_params, best_score = find_best_params(X, y, svm, sklearn_standard_eval, svm_search_space, bo_rounds=7)\n",
    "    svm.set_params(**best_params)\n",
    "    svm.fit(X, y)\n",
    "\n",
    "    y_pred = svm.predict(X_val).astype(int)\n",
    "    acc = (y_val == y_pred).mean()\n",
    "\n",
    "    svm_rbf_models.append((ds_name, best_params, svm, acc))\n",
    "    print ds_name, acc"
   ]
  },
  {
   "cell_type": "code",
   "execution_count": 19,
   "metadata": {
    "collapsed": false,
    "scrolled": true
   },
   "outputs": [
    {
     "name": "stdout",
     "output_type": "stream",
     "text": [
      "svm_params = {\n",
      "    'nmf_top_15_notsel_nmf': {'C': 0.69321305571720226}, # 0.638\n",
      "    'nmf_top_5_notsel_nmf': {'C': 0.91349932602059136}, # 0.604\n",
      "    'svd_top_5_notsel_nmf': {'C': 0.15167154118755863}, # 0.614\n",
      "    'mtv': {'C': 0.023722913966058645}, # 0.628\n",
      "    'svd_top_15_notsel_svd': {'C': 0.098033592004883971}, # 0.622\n",
      "    'alternative': {'C': 0.42890651105294347}, # 0.642\n",
      "    'oh_top_notsel_svd': {'C': 0.023837630761856292}, # 0.628\n",
      "    'oh_top_notsel_nmf': {'C': 0.071723987188209382}, # 0.626\n",
      "    'nmf_top_5': {'C': 1.0}, # 0.604\n",
      "    'svd_top_10_notsel_svd': {'C': 0.07645076102888701}, # 0.646\n",
      "    'svd_all_50': {'C': 0.97924085163206098}, # 0.632\n",
      "    'svd_all_15': {'C': 0.19273835898510619}, # 0.592\n",
      "    'svd_top_10': {'C': 0.33907125526716581}, # 0.636\n",
      "    'svd_top_15': {'C': 0.93863689565760577}, # 0.632\n",
      "    'svd_top_5_notsel_svd': {'C': 0.052262222410459122}, # 0.618\n",
      "    'nmf_top_10_notsel_nmf': {'C': 0.60419796734036824}, # 0.616\n",
      "    'svd_top_15_notsel_nmf': {'C': 0.073847522576564878}, # 0.630\n",
      "    'svd_top_5': {'C': 0.02085284132838814}, # 0.600\n",
      "    'oh_all': {'C': 0.0026402810121232624}, # 0.620\n",
      "    'nmf_top_15_notsel_svd': {'C': 0.97759048052356123}, # 0.642\n",
      "    'nmf_top_5_notsel_svd': {'C': 0.95225048665533629}, # 0.608\n",
      "    'svd_top_10_notsel_nmf': {'C': 0.15231137972577216}, # 0.634\n",
      "    'nmf_all_50': {'C': 0.99903529644260691}, # 0.624\n",
      "    'svd_all_25': {'C': 0.45011573705300428}, # 0.614\n",
      "    'nmf_top_15': {'C': 0.40958024992915704}, # 0.634\n",
      "    'nmf_top_10_notsel_svd': {'C': 0.80744274390613024}, # 0.614\n",
      "    'nmf_all_15': {'C': 0.17314403233766912}, # 0.554\n",
      "    'nmf_top_10': {'C': 0.9143573939562053}, # 0.600\n",
      "    'nmf_all_25': {'C': 1.0}, # 0.572\n",
      "    'oh_top': {'C': 0.21049266255578908}, # 0.630\n",
      "}\n",
      "\n",
      "svm_rbf_params = {\n",
      "    'nmf_top_15_notsel_nmf': {'C': 2.0}, # 0.604\n",
      "    'nmf_top_5_notsel_nmf': {'C': 2.0}, # 0.580\n",
      "    'svd_top_5_notsel_nmf': {'C': 2.0}, # 0.614\n",
      "    'mtv': {'C': 2.0}, # 0.638\n",
      "    'svd_top_15_notsel_svd': {'C': 0.99463539553853331}, # 0.642\n",
      "    'alternative': {'C': 0.097029755861334874}, # 0.638\n",
      "    'oh_top_notsel_svd': {'C': 0.99292456077965718}, # 0.636\n",
      "    'oh_top_notsel_nmf': {'C': 2.0}, # 0.638\n",
      "    'nmf_top_5': {'C': 2.0}, # 0.586\n",
      "    'svd_top_10_notsel_svd': {'C': 0.54599603497527593}, # 0.620\n",
      "    'svd_all_50': {'C': 0.75931063513043806}, # 0.610\n",
      "    'svd_all_15': {'C': 0.62908704507633795}, # 0.566\n",
      "    'svd_top_10': {'C': 0.4299317488628388}, # 0.608\n",
      "    'svd_top_15': {'C': 0.84106683216597722}, # 0.630\n",
      "    'svd_top_5_notsel_svd': {'C': 0.64276277266668769}, # 0.598\n",
      "    'nmf_top_10_notsel_nmf': {'C': 2.0}, # 0.598\n",
      "    'svd_top_15_notsel_nmf': {'C': 1.4769677050229639}, # 0.630\n",
      "    'svd_top_5': {'C': 1.7310963933072609}, # 0.612\n",
      "    'oh_all': {'C': 0.94743922501636857}, # 0.608\n",
      "    'nmf_top_15_notsel_svd': {'C': 2.0}, # 0.560\n",
      "    'nmf_top_5_notsel_svd': {'C': 2.0}, # 0.548\n",
      "    'svd_top_10_notsel_nmf': {'C': 1.5588057695061843}, # 0.608\n",
      "    'nmf_all_50': {'C': 1.0983406391792048}, # 0.530\n",
      "    'svd_all_25': {'C': 0.62237267586232325}, # 0.606\n",
      "    'nmf_top_15': {'C': 2.0}, # 0.614\n",
      "    'nmf_top_10_notsel_svd': {'C': 2.0}, # 0.560\n",
      "    'nmf_all_15': {'C': 2.0}, # 0.556\n",
      "    'nmf_top_10': {'C': 2.0}, # 0.582\n",
      "    'nmf_all_25': {'C': 2.0}, # 0.598\n",
      "    'oh_top': {'C': 2.0}, # 0.634\n",
      "}\n",
      "\n"
     ]
    }
   ],
   "source": [
    "params_set = {\n",
    "    'svm_params': svm_models,\n",
    "    'svm_rbf_params': svm_rbf_models,\n",
    "}\n",
    "\n",
    "for dict_name, models in params_set.items():\n",
    "    print dict_name, '= {'\n",
    "    for ds_name, best_params, model, acc in models:\n",
    "        print \"    '%s': %s, # %0.3f\" % (ds_name, best_params, acc)\n",
    "    print '}'\n",
    "    print"
   ]
  },
  {
   "cell_type": "code",
   "execution_count": 21,
   "metadata": {
    "collapsed": true
   },
   "outputs": [],
   "source": [
    "svm_params = {\n",
    "    'nmf_top_15_notsel_nmf': {'C': 0.69321305571720226}, # 0.638\n",
    "    'nmf_top_5_notsel_nmf': {'C': 0.91349932602059136}, # 0.604\n",
    "    'svd_top_5_notsel_nmf': {'C': 0.15167154118755863}, # 0.614\n",
    "    'svd_top_15_notsel_svd': {'C': 0.098033592004883971}, # 0.622\n",
    "    'oh_top_notsel_svd': {'C': 0.023837630761856292}, # 0.628\n",
    "    'oh_top_notsel_nmf': {'C': 0.071723987188209382}, # 0.626\n",
    "    'nmf_top_5': {'C': 1.0}, # 0.604\n",
    "    'svd_top_10_notsel_svd': {'C': 0.07645076102888701}, # 0.646\n",
    "    'svd_all_50': {'C': 0.97924085163206098}, # 0.632\n",
    "    'svd_all_15': {'C': 0.19273835898510619}, # 0.592\n",
    "    'svd_top_10': {'C': 0.33907125526716581}, # 0.636\n",
    "    'svd_top_15': {'C': 0.93863689565760577}, # 0.632\n",
    "    'svd_top_5_notsel_svd': {'C': 0.052262222410459122}, # 0.618\n",
    "    'nmf_top_10_notsel_nmf': {'C': 0.60419796734036824}, # 0.616\n",
    "    'svd_top_15_notsel_nmf': {'C': 0.073847522576564878}, # 0.630\n",
    "    'svd_top_5': {'C': 0.02085284132838814}, # 0.600\n",
    "    'oh_all': {'C': 0.0026402810121232624}, # 0.620\n",
    "    'nmf_top_15_notsel_svd': {'C': 0.97759048052356123}, # 0.642\n",
    "    'nmf_top_5_notsel_svd': {'C': 0.95225048665533629}, # 0.608\n",
    "    'svd_top_10_notsel_nmf': {'C': 0.15231137972577216}, # 0.634\n",
    "    'nmf_all_50': {'C': 0.99903529644260691}, # 0.624\n",
    "    'svd_all_25': {'C': 0.45011573705300428}, # 0.614\n",
    "    'nmf_top_15': {'C': 0.40958024992915704}, # 0.634\n",
    "    'nmf_top_10_notsel_svd': {'C': 0.80744274390613024}, # 0.614\n",
    "    'nmf_all_15': {'C': 0.17314403233766912}, # 0.554\n",
    "    'nmf_top_10': {'C': 0.9143573939562053}, # 0.600\n",
    "    'nmf_all_25': {'C': 1.0}, # 0.572\n",
    "    'oh_top': {'C': 0.21049266255578908}, # 0.630\n",
    "}\n",
    "\n",
    "svm_rbf_params = {\n",
    "    'nmf_top_15_notsel_nmf': {'C': 2.0}, # 0.604\n",
    "    'nmf_top_5_notsel_nmf': {'C': 2.0}, # 0.580\n",
    "    'svd_top_5_notsel_nmf': {'C': 2.0}, # 0.614\n",
    "    'svd_top_15_notsel_svd': {'C': 0.99463539553853331}, # 0.642\n",
    "    'oh_top_notsel_svd': {'C': 0.99292456077965718}, # 0.636\n",
    "    'oh_top_notsel_nmf': {'C': 2.0}, # 0.638\n",
    "    'nmf_top_5': {'C': 2.0}, # 0.586\n",
    "    'svd_top_10_notsel_svd': {'C': 0.54599603497527593}, # 0.620\n",
    "    'svd_all_50': {'C': 0.75931063513043806}, # 0.610\n",
    "    'svd_all_15': {'C': 0.62908704507633795}, # 0.566\n",
    "    'svd_top_10': {'C': 0.4299317488628388}, # 0.608\n",
    "    'svd_top_15': {'C': 0.84106683216597722}, # 0.630\n",
    "    'svd_top_5_notsel_svd': {'C': 0.64276277266668769}, # 0.598\n",
    "    'nmf_top_10_notsel_nmf': {'C': 2.0}, # 0.598\n",
    "    'svd_top_15_notsel_nmf': {'C': 1.4769677050229639}, # 0.630\n",
    "    'svd_top_5': {'C': 1.7310963933072609}, # 0.612\n",
    "    'oh_all': {'C': 0.94743922501636857}, # 0.608\n",
    "    'nmf_top_15_notsel_svd': {'C': 2.0}, # 0.560\n",
    "    'nmf_top_5_notsel_svd': {'C': 2.0}, # 0.548\n",
    "    'svd_top_10_notsel_nmf': {'C': 1.5588057695061843}, # 0.608\n",
    "    'nmf_all_50': {'C': 1.0983406391792048}, # 0.530\n",
    "    'svd_all_25': {'C': 0.62237267586232325}, # 0.606\n",
    "    'nmf_top_15': {'C': 2.0}, # 0.614\n",
    "    'nmf_top_10_notsel_svd': {'C': 2.0}, # 0.560\n",
    "    'nmf_all_15': {'C': 2.0}, # 0.556\n",
    "    'nmf_top_10': {'C': 2.0}, # 0.582\n",
    "    'nmf_all_25': {'C': 2.0}, # 0.598\n",
    "    'oh_top': {'C': 2.0}, # 0.634\n",
    "}"
   ]
  },
  {
   "cell_type": "code",
   "execution_count": 22,
   "metadata": {
    "collapsed": false
   },
   "outputs": [],
   "source": [
    "from heamy.dataset import Dataset\n",
    "from heamy.estimator import Classifier\n",
    "from heamy.pipeline import ModelsPipeline"
   ]
  },
  {
   "cell_type": "code",
   "execution_count": 23,
   "metadata": {
    "collapsed": true
   },
   "outputs": [],
   "source": [
    "def svm_predict_proba(self, X_test):\n",
    "    pred = self.decision_function(X_test)\n",
    "    return 1 / (1 + np.exp(-pred))\n",
    "\n",
    "LinearSVC.predict_proba = svm_predict_proba"
   ]
  },
  {
   "cell_type": "code",
   "execution_count": 24,
   "metadata": {
    "collapsed": false
   },
   "outputs": [],
   "source": [
    "heamy_datasets = {}\n",
    "for ds_name, dataset in datasets.items():\n",
    "    X = dataset[train_idx.values]\n",
    "    X_val = dataset[ho_idx.values]\n",
    "    heamy_datasets[ds_name] = Dataset(X, y, X_val)\n",
    "\n",
    "classifiers = []\n",
    "\n",
    "for ds_name, params in svm_params.items():\n",
    "    clf = Classifier(dataset=heamy_datasets[ds_name], estimator=LinearSVC, parameters=params,\n",
    "                     name='svm_lin_' + ds_name)\n",
    "    classifiers.append(clf)\n",
    "\n",
    "for ds_name, params in svm_rbf_params.items():\n",
    "    params = params.copy()\n",
    "    params['probability'] = True\n",
    "    clf = Classifier(dataset=heamy_datasets[ds_name], estimator=SVC, parameters=params,\n",
    "                     name='svm_rbf_' + ds_name)\n",
    "    classifiers.append(clf)"
   ]
  },
  {
   "cell_type": "code",
   "execution_count": 25,
   "metadata": {
    "collapsed": false
   },
   "outputs": [],
   "source": [
    "pipeline = ModelsPipeline(*classifiers)\n",
    "stacked = pipeline.stack()"
   ]
  },
  {
   "cell_type": "code",
   "execution_count": 26,
   "metadata": {
    "collapsed": false
   },
   "outputs": [],
   "source": [
    "corr = stacked.X_train.corr()\n",
    "\n",
    "no, comps = scipy.sparse.csgraph.connected_components(corr.values >= 0.95)\n",
    "uncorrelated = pd.DataFrame({'variable': corr.columns, 'component': comps}).groupby('component').head(1).variable\n",
    "use = natsorted(uncorrelated)"
   ]
  },
  {
   "cell_type": "code",
   "execution_count": 27,
   "metadata": {
    "collapsed": false,
    "scrolled": true
   },
   "outputs": [
    {
     "name": "stdout",
     "output_type": "stream",
     "text": [
      "Metric: roc_auc_score\n",
      "Folds accuracy: [0.68730924945499838, 0.67881955409587569, 0.70593090988381146, 0.64980679212088832, 0.66124964976183809, 0.69852550685701786, 0.68057592113062748, 0.68678438835678401, 0.71548647633358375, 0.7036030341340076]\n",
      "Mean accuracy: 0.686809148213\n",
      "Standard Deviation: 0.0193202959281\n",
      "Variance: 0.00037327383475\n"
     ]
    },
    {
     "data": {
      "text/plain": [
       "(500,)"
      ]
     },
     "execution_count": 27,
     "metadata": {},
     "output_type": "execute_result"
    }
   ],
   "source": [
    "stacked_decorr = Dataset(X_train=stacked.X_train[use], y_train=stacked.y_train, X_test=stacked.X_test[use])\n",
    "stacker = Classifier(dataset=stacked_decorr, estimator=LogisticRegression)\n",
    "\n",
    "_ = stacker.validate(k=10, scorer=roc_auc_score)\n",
    "stacked_result = stacker.predict()\n",
    "stacked_result.shape"
   ]
  },
  {
   "cell_type": "code",
   "execution_count": 28,
   "metadata": {
    "collapsed": false
   },
   "outputs": [
    {
     "data": {
      "text/plain": [
       "0.44999999999999996"
      ]
     },
     "execution_count": 28,
     "metadata": {},
     "output_type": "execute_result"
    },
    {
     "data": {
      "image/png": "[encoded data removed]",
      "text/plain": [
       "<matplotlib.figure.Figure at 0x7fe8491f2f10>"
      ]
     },
     "metadata": {},
     "output_type": "display_data"
    }
   ],
   "source": [
    "thresholds = []\n",
    "for i in np.linspace(0.30, 0.60, 31):\n",
    "    stacked_pred = (stacked_result >= i).astype(int)\n",
    "    acc = (y_val == stacked_pred).mean()\n",
    "    thresholds.append((i, acc))\n",
    "\n",
    "thresholds = pd.DataFrame(thresholds, columns=['threshold', 'accuracy'])\n",
    "thresholds['mean_accuracy'] = thresholds.accuracy.rolling(5, center=True).mean()\n",
    "ax = thresholds.plot(kind='line', x='threshold', y='accuracy')\n",
    "thresholds.plot(kind='line', x='threshold', y='mean_accuracy', ax=ax)\n",
    "\n",
    "thresholds.threshold[thresholds.mean_accuracy.argmax()]"
   ]
  },
  {
   "cell_type": "markdown",
   "metadata": {},
   "source": [
    "Submission"
   ]
  },
  {
   "cell_type": "code",
   "execution_count": 29,
   "metadata": {
    "collapsed": true
   },
   "outputs": [],
   "source": [
    "full_train_idx = df_all.source != TEST\n",
    "full_test_idx = df_all.source == TEST\n",
    "y_full = df_all[full_train_idx].Party.astype(int).values\n",
    "\n",
    "heamy_datasets_full = {}\n",
    "for ds_name, dataset in datasets.items():\n",
    "    X_full = dataset[full_train_idx.values]\n",
    "    X_test = dataset[full_test_idx.values]\n",
    "    heamy_datasets_full[ds_name] = Dataset(X_full, y_full, X_test)\n",
    "\n",
    "classifiers = []\n",
    "\n",
    "for ds_name, params in svm_params.items():\n",
    "    clf = Classifier(dataset=heamy_datasets_full[ds_name], estimator=LinearSVC, parameters=params,\n",
    "                     name='svm_lin_' + ds_name)\n",
    "    classifiers.append(clf)\n",
    "\n",
    "for ds_name, params in svm_rbf_params.items():\n",
    "    params = params.copy()\n",
    "    params['probability'] = True\n",
    "    clf = Classifier(dataset=heamy_datasets_full[ds_name], estimator=SVC, parameters=params,\n",
    "                     name='svm_rbf_' + ds_name)\n",
    "    classifiers.append(clf)"
   ]
  },
  {
   "cell_type": "code",
   "execution_count": 30,
   "metadata": {
    "collapsed": true
   },
   "outputs": [],
   "source": [
    "pipeline = ModelsPipeline(*classifiers)\n",
    "stacked = pipeline.stack()"
   ]
  },
  {
   "cell_type": "code",
   "execution_count": 31,
   "metadata": {
    "collapsed": true
   },
   "outputs": [],
   "source": [
    "stacked_decorr = Dataset(X_train=stacked.X_train[use], y_train=stacked.y_train, X_test=stacked.X_test[use])\n",
    "stacker = Classifier(dataset=stacked_decorr, estimator=LogisticRegression)\n",
    "stacked_result = stacker.predict()"
   ]
  },
  {
   "cell_type": "code",
   "execution_count": 32,
   "metadata": {
    "collapsed": true
   },
   "outputs": [],
   "source": [
    "y_pred = (stacked_result >= 0.45).astype(int)\n",
    "y_pred = party_encoder.inverse_transform(y_pred)\n",
    "\n",
    "user_ids = df_all.USER_ID[df_all.source == TEST].values\n",
    "\n",
    "result = pd.DataFrame({'USER_ID': user_ids, 'Predictions': y_pred})\n",
    "result.to_csv('heamy3.csv', index=False)"
   ]
  }
 ],
 "metadata": {
  "kernelspec": {
   "display_name": "Python 2",
   "language": "python",
   "name": "python2"
  },
  "language_info": {
   "codemirror_mode": {
    "name": "ipython",
    "version": 2
   },
   "file_extension": ".py",
   "mimetype": "text/x-python",
   "name": "python",
   "nbconvert_exporter": "python",
   "pygments_lexer": "ipython2",
   "version": "2.7.11"
  }
 },
 "nbformat": 4,
 "nbformat_minor": 0
}
