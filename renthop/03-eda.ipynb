{
 "cells": [
  {
   "cell_type": "code",
   "execution_count": 1,
   "metadata": {
    "collapsed": true
   },
   "outputs": [],
   "source": [
    "import re\n",
    "\n",
    "import numpy as np\n",
    "import pandas as pd\n",
    "\n",
    "from tqdm import tqdm\n",
    "tqdm.pandas(desc=\"pd\")"
   ]
  },
  {
   "cell_type": "code",
   "execution_count": 2,
   "metadata": {
    "collapsed": false
   },
   "outputs": [],
   "source": [
    "df_train = pd.read_json('data/train.json')\n",
    "df_test = pd.read_json('data/test.json')"
   ]
  },
  {
   "cell_type": "code",
   "execution_count": 3,
   "metadata": {
    "collapsed": false
   },
   "outputs": [
    {
     "data": {
      "text/plain": [
       "low       34284\n",
       "medium    11229\n",
       "high       3839\n",
       "Name: interest_level, dtype: int64"
      ]
     },
     "execution_count": 3,
     "metadata": {},
     "output_type": "execute_result"
    }
   ],
   "source": [
    "df_train.interest_level.value_counts()"
   ]
  },
  {
   "cell_type": "code",
   "execution_count": 4,
   "metadata": {
    "collapsed": true
   },
   "outputs": [],
   "source": [
    "np.random.seed(1)\n",
    "folds = np.random.choice([0, 1, 2, 3, 4, 5], size=len(df_train))\n",
    "df_train['fold'] = folds\n",
    "df_test['fold'] = -1"
   ]
  },
  {
   "cell_type": "code",
   "execution_count": 5,
   "metadata": {
    "collapsed": false
   },
   "outputs": [],
   "source": [
    "df_train.reset_index(inplace=1)\n",
    "df_test.reset_index(inplace=1)\n",
    "\n",
    "df_all = pd.concat([df_train, df_test])"
   ]
  },
  {
   "cell_type": "code",
   "execution_count": 6,
   "metadata": {
    "collapsed": false
   },
   "outputs": [],
   "source": [
    "df_all.interest_level.fillna('', inplace=1)"
   ]
  },
  {
   "cell_type": "code",
   "execution_count": 7,
   "metadata": {
    "collapsed": true
   },
   "outputs": [],
   "source": [
    "re_unsplit = re.compile('([a-z])([A-Z])')\n",
    "re_html = re.compile(r'<.{1,5}>')\n",
    "re_tokens = re.compile(r'\\w+')\n",
    "\n",
    "stopwords = {'a', 'an', 'these', 'as', 'you', 'w', 'in', 'the', 'do', 'don', 't', \n",
    "             'we', 'have', 'in', 'for', 'to', 'lot', 'lots', 'of', 'it', 's', 'and',\n",
    "             'by', 'is', 'are', 'been', 'or', 'any', 'me', 'at', 'that', 'via', \n",
    "             'this', 'also', 'has', 'very', 'many', 'your', 'i', 'forward', 'into', \n",
    "             'up', 'then', 'p'}\n",
    "\n",
    "def unsplit(s):\n",
    "    return re_unsplit.sub(r'\\1 \\2', s)\n",
    "\n",
    "def remove_html(s):\n",
    "    return re_html.sub(' ', s)\n",
    "\n",
    "def prepare_text(s):\n",
    "    s = unsplit(s)\n",
    "    s = remove_html(s)\n",
    "    s = s.lower()\n",
    "    tokens = re_tokens.findall(s)\n",
    "    tokens = [t for t in tokens if t not in stopwords]\n",
    "    return ' '.join(tokens)"
   ]
  },
  {
   "cell_type": "code",
   "execution_count": 8,
   "metadata": {
    "collapsed": false
   },
   "outputs": [
    {
     "name": "stderr",
     "output_type": "stream",
     "text": [
      "pd: 100%|██████████| 124011/124011 [00:09<00:00, 13730.56it/s]\n"
     ]
    }
   ],
   "source": [
    "df_all['description_cleaned'] = df_all.description.progress_apply(prepare_text)"
   ]
  },
  {
   "cell_type": "code",
   "execution_count": 9,
   "metadata": {
    "collapsed": false
   },
   "outputs": [],
   "source": [
    "df_all.display_address = df_all.display_address.str.lower()\n",
    "df_all.street_address = df_all.street_address.str.lower()\n",
    "\n",
    "df_all['num_features'] = df_all.features.apply(len)"
   ]
  },
  {
   "cell_type": "code",
   "execution_count": 10,
   "metadata": {
    "collapsed": false
   },
   "outputs": [
    {
     "name": "stderr",
     "output_type": "stream",
     "text": [
      "pd: 100%|██████████| 124011/124011 [00:00<00:00, 160507.96it/s]\n"
     ]
    }
   ],
   "source": [
    "def str_features(f):\n",
    "    return ' '.join(s.replace(' ', '_').lower() for s in f)\n",
    "\n",
    "df_all.features = df_all.features.progress_apply(str_features)"
   ]
  },
  {
   "cell_type": "code",
   "execution_count": 11,
   "metadata": {
    "collapsed": false
   },
   "outputs": [],
   "source": [
    "interest_level_map = {'low': 0, 'medium': 1, 'high': 2}\n",
    "df_all.interest_level = df_all.interest_level.apply(lambda x: interest_level_map.get(x, -1))"
   ]
  },
  {
   "cell_type": "code",
   "execution_count": 12,
   "metadata": {
    "collapsed": false
   },
   "outputs": [],
   "source": [
    "df_all['num_photos'] = df_all.photos.apply(len)"
   ]
  },
  {
   "cell_type": "code",
   "execution_count": 13,
   "metadata": {
    "collapsed": false
   },
   "outputs": [],
   "source": [
    "b_cnt = df_all.building_id.value_counts()\n",
    "\n",
    "df_all['building_cnt'] = b_cnt[df_all.building_id].reset_index(drop=1)\n",
    "df_all.loc[df_all.building_cnt == 20664, 'building_cnt'] = -1"
   ]
  },
  {
   "cell_type": "code",
   "execution_count": 14,
   "metadata": {
    "collapsed": true
   },
   "outputs": [],
   "source": [
    "m_cnt = df_all.manager_id.value_counts()\n",
    "df_all['manager_cnt'] = m_cnt[df_all.manager_id].reset_index(drop=1)"
   ]
  },
  {
   "cell_type": "code",
   "execution_count": 15,
   "metadata": {
    "collapsed": true
   },
   "outputs": [],
   "source": [
    "re_spaces = re.compile(' +')\n",
    "\n",
    "def normalize_address(s):\n",
    "    s = s.replace('.', '')\n",
    "    s = s.replace(',', '')\n",
    "    s = s.replace('\\r', '')\n",
    "    s = s.replace('\\t', '')\n",
    "    s = s.replace('avenue', 'av')\n",
    "    s = s.replace('ave', 'av')\n",
    "    s = s.replace('street', 'st')\n",
    "    s = s.replace('east', 'e')\n",
    "    s = s.replace('west', 'w')\n",
    "    s = s.replace('st', '') # replaces both 1st and street\n",
    "    s = s.replace('nd', '')\n",
    "    s = s.replace('rd', '')\n",
    "    s = s.replace('th', '')\n",
    "    s = re_spaces.sub(' ', s)\n",
    "    s = s.replace('av', '')\n",
    "    s = s.strip()\n",
    "    return s"
   ]
  },
  {
   "cell_type": "code",
   "execution_count": 16,
   "metadata": {
    "collapsed": false
   },
   "outputs": [
    {
     "name": "stderr",
     "output_type": "stream",
     "text": [
      "pd: 100%|██████████| 124011/124011 [00:00<00:00, 130360.01it/s]\n"
     ]
    }
   ],
   "source": [
    "df_all['address_normalized'] = df_all.street_address.progress_apply(normalize_address)"
   ]
  },
  {
   "cell_type": "code",
   "execution_count": 17,
   "metadata": {
    "collapsed": true
   },
   "outputs": [],
   "source": [
    "def fit_mtv(df, target_col, cat_col, C):\n",
    "    m0 = (df[target_col] == 1).mean()\n",
    "\n",
    "    cnt = df[df[target_col] == 1][cat_col].value_counts()\n",
    "    cnt_all = df[cat_col].value_counts()\n",
    "\n",
    "    probs = (cnt + C * m0) / (cnt_all + C)\n",
    "    return probs, m0\n",
    "\n",
    "def transform_mtv(df_target, cat_col, probs, m0):\n",
    "    probs_targ = probs[df_target[cat_col]].reset_index(drop=1)\n",
    "    probs_targ.fillna(m0, inplace=1)\n",
    "    return probs_targ.values"
   ]
  },
  {
   "cell_type": "code",
   "execution_count": 18,
   "metadata": {
    "collapsed": false
   },
   "outputs": [],
   "source": [
    "df_train = df_all[df_all.fold != -1].reset_index(drop=1)\n",
    "df_test = df_all[df_all.fold == -1].reset_index(drop=1)"
   ]
  },
  {
   "cell_type": "code",
   "execution_count": 19,
   "metadata": {
    "collapsed": false
   },
   "outputs": [],
   "source": [
    "for i in [0, 1, 2]:\n",
    "    df_train['interest_%s' % i] = (df_train.interest_level == i).astype('uint8')"
   ]
  },
  {
   "cell_type": "code",
   "execution_count": 28,
   "metadata": {
    "collapsed": false
   },
   "outputs": [
    {
     "name": "stderr",
     "output_type": "stream",
     "text": [
      "100%|██████████| 7/7 [00:03<00:00,  1.93it/s]\n"
     ]
    }
   ],
   "source": [
    "categorical = ['building_id', 'manager_id', 'address_normalized', 'num_photos', 'num_features',\n",
    "               'bathrooms', 'bedrooms']\n",
    "\n",
    "C = 12\n",
    "\n",
    "for c in tqdm(categorical):\n",
    "    for i in [0, 1, 2, 3, 4, 5]:\n",
    "        df_train_fold = df_train[df_train.fold != i].reset_index(drop=1)\n",
    "        df_test_fold = df_train[df_train.fold == i].reset_index(drop=1)\n",
    "\n",
    "        for target_col in ['interest_0', 'interest_1', 'interest_2']:\n",
    "            res_name = '%s_%s_mtv' % (c, target_col)\n",
    "\n",
    "            probs, m0 = fit_mtv(df_train_fold, target_col, c, C=C)\n",
    "            df_train.loc[df_train.fold == i, res_name] = transform_mtv(df_test_fold, c, probs, m0)\n",
    "\n",
    "    for target_col in ['interest_0', 'interest_1', 'interest_2']:\n",
    "        res_name = '%s_%s_mtv' % (c, target_col)\n",
    "        probs, m0 = fit_mtv(df_train, target_col, c, C=C)\n",
    "        df_test[res_name] = transform_mtv(df_test, c, probs, m0)"
   ]
  },
  {
   "cell_type": "code",
   "execution_count": 45,
   "metadata": {
    "collapsed": false
   },
   "outputs": [],
   "source": [
    "from sklearn.linear_model import LogisticRegression\n",
    "from sklearn.feature_extraction.text import TfidfVectorizer, CountVectorizer\n",
    "from sklearn.metrics import log_loss"
   ]
  },
  {
   "cell_type": "code",
   "execution_count": 34,
   "metadata": {
    "collapsed": true
   },
   "outputs": [],
   "source": [
    "desc_vec = TfidfVectorizer(token_pattern='\\S+', ngram_range=(1, 3), min_df=10)\n",
    "X_desc_train = desc_vec.fit_transform(df_train.description_cleaned)\n",
    "X_desc_test = desc_vec.transform(df_test.description_cleaned)"
   ]
  },
  {
   "cell_type": "code",
   "execution_count": 42,
   "metadata": {
    "collapsed": false
   },
   "outputs": [
    {
     "name": "stdout",
     "output_type": "stream",
     "text": [
      "0.715655998193\n",
      "0.723938513301\n",
      "0.725838268891\n",
      "0.712791916892\n",
      "0.708006400636\n",
      "0.70097148356\n"
     ]
    },
    {
     "data": {
      "text/plain": [
       "(0.71453376357895282, 0.0086320768492308114)"
      ]
     },
     "execution_count": 42,
     "metadata": {},
     "output_type": "execute_result"
    }
   ],
   "source": [
    "scores = []\n",
    "\n",
    "for i in [0, 1, 2, 3, 4, 5]:\n",
    "    train_idx = df_train.fold != i\n",
    "    val_idx = df_train.fold == i\n",
    "\n",
    "    X = X_desc_train[train_idx.values]\n",
    "    y = df_train[train_idx].interest_level\n",
    "    X_val = X_desc_train[val_idx.values]\n",
    "    y_val = df_train[val_idx].interest_level\n",
    "\n",
    "    clf = LogisticRegression(C=1, penalty='l1', random_state=1)\n",
    "    clf.fit(X, y)\n",
    "\n",
    "    y_pred = clf.predict_proba(X_val)\n",
    "    score = log_loss(y_val, y_pred)\n",
    "    scores.append(score)\n",
    "    print(score)\n",
    "    \n",
    "    for i in [0, 1, 2]:\n",
    "        res_name = 'description_lr_%d' % i\n",
    "        df_train.loc[val_idx, res_name] = y_pred[:, i]\n",
    "\n",
    "np.mean(scores), np.std(scores)"
   ]
  },
  {
   "cell_type": "code",
   "execution_count": 62,
   "metadata": {
    "collapsed": false
   },
   "outputs": [],
   "source": [
    "clf = LogisticRegression(C=1, penalty='l1', random_state=1)\n",
    "clf.fit(X_desc_train, df_train.interest_level.values)\n",
    "\n",
    "y_pred = clf.predict_proba(X_desc_test)\n",
    "for i in [0, 1, 2]:\n",
    "    res_name = 'description_lr_%d' % i\n",
    "    df_test[res_name] = y_pred[:, i]"
   ]
  },
  {
   "cell_type": "code",
   "execution_count": 46,
   "metadata": {
    "collapsed": true
   },
   "outputs": [],
   "source": [
    "fvec = CountVectorizer(token_pattern='\\S+', ngram_range=(1, 3), min_df=10)\n",
    "Xf_train = fvec.fit_transform(df_train.features)\n",
    "Xf_test = fvec.transform(df_test.features)"
   ]
  },
  {
   "cell_type": "code",
   "execution_count": 82,
   "metadata": {
    "collapsed": false
   },
   "outputs": [
    {
     "name": "stdout",
     "output_type": "stream",
     "text": [
      "0.722846365401\n",
      "0.731271872954\n",
      "0.733929009458\n",
      "0.72174829897\n",
      "0.722139420345\n",
      "0.718488895693\n"
     ]
    },
    {
     "data": {
      "text/plain": [
       "(0.72507064380363484, 0.0055501164223626361)"
      ]
     },
     "execution_count": 82,
     "metadata": {},
     "output_type": "execute_result"
    }
   ],
   "source": [
    "scores = []\n",
    "\n",
    "for i in [0, 1, 2, 3, 4, 5]:\n",
    "    train_idx = df_train.fold != i\n",
    "    val_idx = df_train.fold == i\n",
    "\n",
    "    X = Xf_train[train_idx.values]\n",
    "    y = df_train[train_idx].interest_level\n",
    "    X_val = Xf_train[val_idx.values]\n",
    "    y_val = df_train[val_idx].interest_level\n",
    "\n",
    "    clf = LogisticRegression(C=0.5, penalty='l1', random_state=1)\n",
    "    clf.fit(X, y)\n",
    "\n",
    "    y_pred = clf.predict_proba(X_val)\n",
    "    score = log_loss(y_val, y_pred)\n",
    "    scores.append(score)\n",
    "    print(score)\n",
    "    \n",
    "    for i in [0, 1, 2]:\n",
    "        res_name = 'features_lr_%d' % i\n",
    "        df_train.loc[val_idx, res_name] = y_pred[:, i]\n",
    "\n",
    "np.mean(scores), np.std(scores)"
   ]
  },
  {
   "cell_type": "code",
   "execution_count": 83,
   "metadata": {
    "collapsed": false
   },
   "outputs": [],
   "source": [
    "clf = LogisticRegression(C=0.5, penalty='l1', random_state=1)\n",
    "clf.fit(Xf_train, df_train.interest_level.values)\n",
    "\n",
    "y_pred = clf.predict_proba(Xf_test)\n",
    "for i in [0, 1, 2]:\n",
    "    res_name = 'features_lr_%d' % i\n",
    "    df_test[res_name] = y_pred[:, i]"
   ]
  },
  {
   "cell_type": "code",
   "execution_count": 84,
   "metadata": {
    "collapsed": true
   },
   "outputs": [],
   "source": [
    "avec = TfidfVectorizer(token_pattern='\\S+', ngram_range=(1, 3), min_df=10)\n",
    "X_ad_train = avec.fit_transform(df_train.address_normalized)\n",
    "X_ad_test = avec.transform(df_test.address_normalized)"
   ]
  },
  {
   "cell_type": "code",
   "execution_count": 91,
   "metadata": {
    "collapsed": false
   },
   "outputs": [
    {
     "name": "stdout",
     "output_type": "stream",
     "text": [
      "0.751564992284\n",
      "0.754053809436\n",
      "0.764623296695\n",
      "0.75382927063\n",
      "0.744765232424\n",
      "0.737144524952\n"
     ]
    },
    {
     "data": {
      "text/plain": [
       "(0.75099685440355002, 0.0085057863602203965)"
      ]
     },
     "execution_count": 91,
     "metadata": {},
     "output_type": "execute_result"
    }
   ],
   "source": [
    "scores = []\n",
    "\n",
    "for i in [0, 1, 2, 3, 4, 5]:\n",
    "    train_idx = df_train.fold != i\n",
    "    val_idx = df_train.fold == i\n",
    "\n",
    "    X = X_ad_train[train_idx.values]\n",
    "    y = df_train[train_idx].interest_level\n",
    "    X_val = X_ad_train[val_idx.values]\n",
    "    y_val = df_train[val_idx].interest_level\n",
    "\n",
    "    clf = LogisticRegression(C=1, penalty='l1', random_state=1)\n",
    "    clf.fit(X, y)\n",
    "\n",
    "    y_pred = clf.predict_proba(X_val)\n",
    "    score = log_loss(y_val, y_pred)\n",
    "    scores.append(score)\n",
    "    print(score)\n",
    "    \n",
    "    for i in [0, 1, 2]:\n",
    "        res_name = 'address_lr_%d' % i\n",
    "        df_train.loc[val_idx, res_name] = y_pred[:, i]\n",
    "\n",
    "np.mean(scores), np.std(scores)"
   ]
  },
  {
   "cell_type": "code",
   "execution_count": 92,
   "metadata": {
    "collapsed": false
   },
   "outputs": [],
   "source": [
    "clf = LogisticRegression(C=1, penalty='l1', random_state=1)\n",
    "clf.fit(X_ad_train, df_train.interest_level.values)\n",
    "\n",
    "y_pred = clf.predict_proba(X_ad_test)\n",
    "for i in [0, 1, 2]:\n",
    "    res_name = 'address_lr_%d' % i\n",
    "    df_test[res_name] = y_pred[:, i]"
   ]
  },
  {
   "cell_type": "code",
   "execution_count": 94,
   "metadata": {
    "collapsed": true
   },
   "outputs": [],
   "source": [
    "import feather"
   ]
  },
  {
   "cell_type": "code",
   "execution_count": 95,
   "metadata": {
    "collapsed": true
   },
   "outputs": [],
   "source": [
    "df_images_train = feather.read_dataframe('dfs/df_train_group.feather')\n",
    "df_images_test = feather.read_dataframe('dfs/df_test_group.feather')"
   ]
  },
  {
   "cell_type": "code",
   "execution_count": 112,
   "metadata": {
    "collapsed": false
   },
   "outputs": [],
   "source": [
    "df_train_m = df_train.merge(df_images_train, on='listing_id', how='left')\n",
    "df_test_m = df_test.merge(df_images_test, on='listing_id', how='left')"
   ]
  },
  {
   "cell_type": "code",
   "execution_count": 109,
   "metadata": {
    "collapsed": false
   },
   "outputs": [],
   "source": [
    "to_exclude = {'building_id', 'created', 'description', 'display_address', 'features',\n",
    "              'fold', 'index', 'interest_level', 'listing_id', 'manager_id', 'photos',\n",
    "              'street_address', 'description_cleaned', 'address_normalized', \n",
    "              'interest_0', 'interest_1', 'interest_2', 'geometries'}\n",
    "features = sorted(set(df_train_m.columns) - to_exclude)"
   ]
  },
  {
   "cell_type": "code",
   "execution_count": 145,
   "metadata": {
    "collapsed": false
   },
   "outputs": [],
   "source": [
    "i = 0 \n",
    "X_train = df_train_m[df_train.fold != i][features].values\n",
    "y_train = df_train_m[df_train.fold != i].interest_level.values\n",
    "\n",
    "X_val = df_train_m[df_train.fold == i][features].values\n",
    "y_val = df_train_m[df_train.fold == i].interest_level.values"
   ]
  },
  {
   "cell_type": "code",
   "execution_count": 146,
   "metadata": {
    "collapsed": true
   },
   "outputs": [],
   "source": [
    "import xgboost as xgb"
   ]
  },
  {
   "cell_type": "code",
   "execution_count": 147,
   "metadata": {
    "collapsed": true
   },
   "outputs": [],
   "source": [
    "xgb_pars = {\n",
    "    'eta': 0.15,\n",
    "    'gamma': 0,\n",
    "    'max_depth': 6,\n",
    "    'min_child_weight': 1,\n",
    "    'max_delta_step': 0,\n",
    "    'subsample': 0.6,\n",
    "    'colsample_bytree': 0.6,\n",
    "    'colsample_bylevel': 1,\n",
    "    'lambda': 1,\n",
    "    'alpha': 0,\n",
    "    'tree_method': 'approx',\n",
    "# not deafauts\n",
    "    'objective': 'multi:softprob',\n",
    "    'eval_metric': 'mlogloss',\n",
    "    'num_class': 3,\n",
    "    'nthread': 8,\n",
    "    'seed': 42,\n",
    "    'silent': 1\n",
    "}\n",
    "\n",
    "n_estimators = 95"
   ]
  },
  {
   "cell_type": "code",
   "execution_count": 148,
   "metadata": {
    "collapsed": false
   },
   "outputs": [
    {
     "name": "stdout",
     "output_type": "stream",
     "text": [
      "[0]\ttrain-mlogloss:1.00144\tval-mlogloss:1.00355\n",
      "[5]\ttrain-mlogloss:0.736731\tval-mlogloss:0.749817\n",
      "[10]\ttrain-mlogloss:0.632958\tval-mlogloss:0.655255\n",
      "[15]\ttrain-mlogloss:0.580952\tval-mlogloss:0.611823\n",
      "[20]\ttrain-mlogloss:0.550654\tval-mlogloss:0.590184\n",
      "[25]\ttrain-mlogloss:0.530236\tval-mlogloss:0.577469\n",
      "[30]\ttrain-mlogloss:0.514732\tval-mlogloss:0.570599\n",
      "[35]\ttrain-mlogloss:0.501694\tval-mlogloss:0.56591\n",
      "[40]\ttrain-mlogloss:0.490268\tval-mlogloss:0.561882\n",
      "[45]\ttrain-mlogloss:0.479862\tval-mlogloss:0.559776\n",
      "[50]\ttrain-mlogloss:0.469656\tval-mlogloss:0.55743\n",
      "[55]\ttrain-mlogloss:0.460824\tval-mlogloss:0.556028\n",
      "[60]\ttrain-mlogloss:0.451789\tval-mlogloss:0.554588\n",
      "[65]\ttrain-mlogloss:0.442779\tval-mlogloss:0.553264\n",
      "[70]\ttrain-mlogloss:0.435168\tval-mlogloss:0.552729\n",
      "[75]\ttrain-mlogloss:0.427881\tval-mlogloss:0.552666\n",
      "[80]\ttrain-mlogloss:0.420621\tval-mlogloss:0.55219\n",
      "[85]\ttrain-mlogloss:0.413019\tval-mlogloss:0.551662\n",
      "[90]\ttrain-mlogloss:0.405725\tval-mlogloss:0.551242\n"
     ]
    }
   ],
   "source": [
    "dtrain = xgb.DMatrix(X_train, label=y_train, feature_names=features)\n",
    "dval = xgb.DMatrix(X_val, label=y_val, feature_names=features)\n",
    "\n",
    "watchlist = [(dtrain, 'train'), (dval, 'val')]\n",
    "\n",
    "model = xgb.train(xgb_pars, dtrain, num_boost_round=n_estimators, verbose_eval=5,\n",
    "             evals=watchlist)"
   ]
  },
  {
   "cell_type": "code",
   "execution_count": 149,
   "metadata": {
    "collapsed": false
   },
   "outputs": [
    {
     "data": {
      "text/plain": [
       "0.55111310279975945"
      ]
     },
     "execution_count": 149,
     "metadata": {},
     "output_type": "execute_result"
    }
   ],
   "source": [
    "y_pred = model.predict(dval)\n",
    "log_loss(y_val, y_pred)"
   ]
  },
  {
   "cell_type": "markdown",
   "metadata": {},
   "source": [
    "X_train = df_train_m[features].values\n",
    "y_train = df_train_m.interest_level.values\n",
    "\n",
    "watchlist = [(dtrain, 'train')]\n",
    "\n",
    "model = xgb.train(xgb_pars, dtrain, num_boost_round=n_estimators, verbose_eval=5,\n",
    "             evals=watchlist)"
   ]
  },
  {
   "cell_type": "code",
   "execution_count": 126,
   "metadata": {
    "collapsed": false,
    "scrolled": true
   },
   "outputs": [
    {
     "name": "stdout",
     "output_type": "stream",
     "text": [
      "feature importance:\n",
      " - manager_id_interest_0_mtv: 29.8774\n",
      " - manager_id_interest_1_mtv: 12.2894\n",
      " - building_id_interest_0_mtv: 11.6440\n",
      " - interest_level_xgb_0_mean: 11.4313\n",
      " - manager_id_interest_2_mtv: 10.0934\n",
      " - price: 9.9939\n",
      " - address_normalized_interest_0_mtv: 7.6513\n",
      " - interest_level_xgb_0_min: 7.6261\n",
      " - building_id_interest_1_mtv: 7.6039\n",
      " - description_lr_0: 6.9513\n",
      " - bedrooms: 6.2555\n",
      " - description_lr_2: 6.2418\n",
      " - bathrooms_interest_0_mtv: 6.1566\n",
      " - interest_level_xgb_2_mean: 6.0577\n",
      " - features_lr_0: 5.9845\n",
      " - building_id_interest_2_mtv: 5.7086\n",
      " - interest_level_xgb_1_mean: 5.4699\n",
      " - bedrooms_interest_0_mtv: 5.2054\n",
      " - interest_level_xgb_1_max: 5.0503\n",
      " - features_lr_1: 4.9938\n",
      " - features_lr_2: 4.7784\n",
      " - interest_level_xgb_1_min: 4.6456\n",
      " - bedrooms_interest_1_mtv: 4.5214\n",
      " - description_lr_1: 4.2799\n",
      " - longitude: 4.2438\n",
      " - num_features: 4.1553\n",
      " - interest_level_xgb_0_max: 4.0930\n",
      " - latitude: 4.0846\n",
      " - building_cnt: 4.0547\n",
      " - interest_level_xgb_2_max: 3.8852\n",
      " - seconds_from_min_min: 3.7628\n",
      " - manager_cnt: 3.7426\n",
      " - address_lr_0: 3.7331\n",
      " - seconds_from_min_mean: 3.6935\n",
      " - bathrooms_interest_1_mtv: 3.6728\n",
      " - address_normalized_interest_2_mtv: 3.5867\n",
      " - seconds_from_min_max: 3.5442\n",
      " - address_lr_2: 3.5237\n",
      " - num_photos: 3.4740\n",
      " - bathrooms: 3.4115\n",
      " - address_normalized_interest_1_mtv: 3.3408\n",
      " - geometry_interest_2_mtv_min: 3.3190\n",
      " - interest_level_xgb_2_std: 3.3112\n",
      " - bathrooms_interest_2_mtv: 3.2944\n",
      " - no_pixels_mean: 3.2785\n",
      " - num_features_interest_1_mtv: 3.2753\n",
      " - bedrooms_interest_2_mtv: 3.2620\n",
      " - no_pixels_max: 3.2351\n",
      " - num_photos_interest_0_mtv: 3.2161\n",
      " - geometry_interest_2_mtv_mean: 3.2101\n",
      " - geometry_interest_1_mtv_std: 3.2039\n",
      " - num_photos_interest_2_mtv: 3.1866\n",
      " - num_photos_interest_1_mtv: 3.1749\n",
      " - interest_level_xgb_0_std: 3.1578\n",
      " - geometry_interest_2_mtv_std: 3.1544\n",
      " - geometry_interest_1_mtv_min: 3.1533\n",
      " - no_pixels_min: 3.1429\n",
      " - interest_level_xgb_1_std: 3.1070\n",
      " - geometry_interest_2_mtv_max: 3.1046\n",
      " - seconds_from_min_std: 3.0711\n",
      " - address_lr_1: 3.0698\n",
      " - geometry_interest_1_mtv_mean: 3.0531\n",
      " - geometry_interest_0_mtv_mean: 3.0505\n",
      " - no_pixels_std: 3.0432\n",
      " - num_features_interest_2_mtv: 3.0353\n",
      " - filesize_std: 3.0324\n",
      " - filesize_min: 3.0298\n",
      " - geometry_interest_1_mtv_max: 3.0263\n",
      " - geometry_interest_0_mtv_max: 2.9972\n",
      " - geometry_interest_0_mtv_std: 2.9954\n",
      " - filesize_max: 2.9819\n",
      " - num_features_interest_0_mtv: 2.9807\n",
      " - interest_level_xgb_2_min: 2.9553\n",
      " - filesize_mean: 2.9543\n",
      " - geometry_interest_0_mtv_min: 2.8523\n",
      "not used features: set()\n"
     ]
    }
   ],
   "source": [
    "print('feature importance:')\n",
    "\n",
    "scores = model.get_score(importance_type='gain')\n",
    "\n",
    "for n, s in sorted(scores.items(), key=lambda x: -x[1]):\n",
    "    print(' - %s: %.4f' % (n, s))\n",
    "\n",
    "not_used = set(features) - scores.keys()\n",
    "print('not used features: %s' % not_used)"
   ]
  },
  {
   "cell_type": "code",
   "execution_count": 128,
   "metadata": {
    "collapsed": true
   },
   "outputs": [],
   "source": [
    "dtest = xgb.DMatrix(df_test_m[features], feature_names=features)"
   ]
  },
  {
   "cell_type": "code",
   "execution_count": 130,
   "metadata": {
    "collapsed": false
   },
   "outputs": [],
   "source": [
    "y_pred = model.predict(dtest)"
   ]
  },
  {
   "cell_type": "code",
   "execution_count": 136,
   "metadata": {
    "collapsed": false
   },
   "outputs": [],
   "source": [
    "df_res = df_test_m[['listing_id']].copy()\n",
    "\n",
    "df_res['low'] = y_pred[:, 0]\n",
    "df_res['medium'] = y_pred[:, 1]\n",
    "df_res['high'] = y_pred[:, 2]"
   ]
  },
  {
   "cell_type": "code",
   "execution_count": 137,
   "metadata": {
    "collapsed": false
   },
   "outputs": [],
   "source": [
    "df_res.to_csv('eda.csv', index=False)"
   ]
  },
  {
   "cell_type": "code",
   "execution_count": 138,
   "metadata": {
    "collapsed": true
   },
   "outputs": [],
   "source": [
    "!gzip eda.csv"
   ]
  },
  {
   "cell_type": "code",
   "execution_count": null,
   "metadata": {
    "collapsed": true
   },
   "outputs": [],
   "source": []
  }
 ],
 "metadata": {
  "anaconda-cloud": {},
  "kernelspec": {
   "display_name": "Python [conda root]",
   "language": "python",
   "name": "conda-root-py"
  },
  "language_info": {
   "codemirror_mode": {
    "name": "ipython",
    "version": 3
   },
   "file_extension": ".py",
   "mimetype": "text/x-python",
   "name": "python",
   "nbconvert_exporter": "python",
   "pygments_lexer": "ipython3",
   "version": "3.5.2"
  }
 },
 "nbformat": 4,
 "nbformat_minor": 1
}
