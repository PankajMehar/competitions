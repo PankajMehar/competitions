{
 "cells": [
  {
   "cell_type": "code",
   "execution_count": 29,
   "metadata": {
    "collapsed": true
   },
   "outputs": [],
   "source": [
    "import json\n",
    "import csv"
   ]
  },
  {
   "cell_type": "code",
   "execution_count": 23,
   "metadata": {
    "collapsed": true
   },
   "outputs": [],
   "source": [
    "def extract_parentesis(s):\n",
    "    res = s.split()[1]\n",
    "    return res[1:-1]\n",
    "\n",
    "def extract_both(s):\n",
    "    split = s.split()\n",
    "    return split[0], split[1][1:-1]\n",
    "\n",
    "def moment_features(pref, in_dict, out_dict={}):\n",
    "    ellipse_major, ellipse_minor = in_dict['Ellipse Semi-Major/Minor axis'].split(',')\n",
    "\n",
    "    out_dict['moments_' + pref + '_ellipse_major'] = float(ellipse_major)\n",
    "    out_dict['moments_' + pref + '_ellipse_minor'] = float(ellipse_minor)\n",
    "    out_dict['moments_' + pref + '_ellipse_eccentricity'] = float(in_dict['Ellipse eccentricity'])\n",
    "    out_dict['moments_' + pref + '_ellipse_intensity'] = float(extract_parentesis(in_dict['Ellipse intensity']))\n",
    "    out_dict['moments_' + pref + '_ellipse_angle'] = float(in_dict[u'Ellipse angle'])\n",
    "\n",
    "    centroid_x, centroid_y = in_dict[u'Centroid'].split(',')\n",
    "    out_dict['moments_' + pref + '_ellipse_centroid_x'] = float(centroid_x)\n",
    "    out_dict['moments_' + pref + '_ellipse_centroid_y'] = float(centroid_y)\n",
    "\n",
    "    for i in range(1, 9):\n",
    "        #v1, v2 = extract_both(in_dict['I%d' % i])\n",
    "        #out_dict['moments_' + pref + '_I%d_1' % i] = float(v1)\n",
    "        #out_dict['moments_' + pref + '_I%d_2' % i] = float(v2)\n",
    "        v2 = extract_parentesis(in_dict['I%d' % i])\n",
    "        out_dict['moments_' + pref + '_I%d' % i] = float(v2)\n",
    "\n",
    "def phash_features(in_dict, out_dict={}):\n",
    "    for k, phdict in in_dict.items():\n",
    "        k1, k2 = k.lower().split(', ')\n",
    "        for phk, phv in phdict.items():\n",
    "            phv1, phv2 = phv.split(', ')\n",
    "            out_dict['phash_%s_%s' % (k1, phk.lower())] = float(phv1)\n",
    "            out_dict['phash_%s_%s' % (k2, phk.lower())] = float(phv2)\n",
    "        \n",
    "def image_stats_features(pref, in_dict, out_dict={}):\n",
    "    out_dict['imstat_' + pref + '_skewness'] = float(in_dict['skewness'])\n",
    "    out_dict['imstat_' + pref + '_min'] = float(extract_parentesis(in_dict['min']))\n",
    "    out_dict['imstat_' + pref + '_max'] = float(extract_parentesis(in_dict['max']))\n",
    "    out_dict['imstat_' + pref + '_mean'] = float(extract_parentesis(in_dict['mean']))\n",
    "    out_dict['imstat_' + pref + '_std'] = float(extract_parentesis(in_dict['standard deviation']))\n",
    "    out_dict['imstat_' + pref + '_entropy'] = float(in_dict['entropy'])\n",
    "    out_dict['imstat_' + pref + '_kurtosis'] = float(in_dict['kurtosis'])\n",
    "\n",
    "def chromaticity_features(in_dict, out_dict={}):\n",
    "    for k, v in in_dict.items():\n",
    "        k = k.split()[0]\n",
    "        v1, v2 = eval(v)\n",
    "        out_dict['croma_%s_1' % k] = v1\n",
    "        out_dict['croma_%s_2' % k] = v2    \n",
    "\n",
    "def number_pixels(s):\n",
    "    if type(s) in [int, float]:\n",
    "        return s\n",
    "    if s.endswith('K'):\n",
    "        return 1000 * float(s[:-1])\n",
    "\n",
    "    raise Exception('number_pixels: unknown format' + s)\n",
    "\n",
    "def file_size(s):\n",
    "    if s.endswith('KB'):\n",
    "        return 1024 * float(s[:-2])\n",
    "    elif s.endswith('B'):\n",
    "        return float(s[:-1])\n",
    "    elif s.endswith('MB'):\n",
    "        return 1024 * 1024 * float(s[:-2])\n",
    "    raise Exception('file_size: unknown format ' + s)\n",
    "\n",
    "def process_line(line):\n",
    "    image_id, features = line.split('\\t', maxsplit=1)\n",
    "    features = json.loads(features)\n",
    "\n",
    "    res_dict = {'_id': image_id}\n",
    "    res_dict['alpha_color'] = features['Alpha color']\n",
    "    res_dict['bg_color'] =  features['Background color']\n",
    "    \n",
    "    is_gray = features[u'Type'] in [u'Grayscale', u'Bilevel']\n",
    "    if is_gray:\n",
    "        res_dict['color'] = False\n",
    "        moment_features('overall', features[u'Channel moments']['Gray'], res_dict)\n",
    "        moment_features('red', features[u'Channel moments']['Gray'], res_dict)\n",
    "        moment_features('green', features[u'Channel moments']['Gray'], res_dict)\n",
    "        moment_features('blue', features[u'Channel moments']['Gray'], res_dict)\n",
    "\n",
    "        image_stats_features('overall', features[u'Channel statistics']['Gray'], res_dict)\n",
    "        image_stats_features('red', features[u'Channel statistics']['Gray'], res_dict)\n",
    "        image_stats_features('green', features[u'Channel statistics']['Gray'], res_dict)\n",
    "        image_stats_features('blue', features[u'Channel statistics']['Gray'], res_dict)\n",
    "    else:\n",
    "        res_dict['color'] = True\n",
    "        moment_features('overall', features[u'Image moments']['Overall'], res_dict)\n",
    "        moment_features('red', features[u'Channel moments']['Red'], res_dict)\n",
    "        moment_features('green', features[u'Channel moments']['Green'], res_dict)\n",
    "        moment_features('blue', features[u'Channel moments']['Blue'], res_dict)\n",
    "\n",
    "        image_stats_features('overall', features[u'Image statistics']['Overall'], res_dict)\n",
    "        image_stats_features('red', features[u'Channel statistics']['Red'], res_dict)\n",
    "        image_stats_features('green', features[u'Channel statistics']['Green'], res_dict)\n",
    "        image_stats_features('blue', features[u'Channel statistics']['Blue'], res_dict)\n",
    "\n",
    "    phash_features(features[u'Channel perceptual hash'], res_dict)\n",
    "    res_dict['no_pixels'] = number_pixels(features[u'Number pixels'])\n",
    "    res_dict['filesize'] = file_size(features[u'Filesize'])\n",
    "\n",
    "    res_dict['quality'] = features[u'Quality']\n",
    "    res_dict['geometry'] = features[u'Geometry'][:-4]\n",
    "    res_dict['type'] = features[u'Type']\n",
    "    res_dict['colorspace'] = features[u'Colorspace']\n",
    "\n",
    "    props = features[u'Properties']\n",
    "    res_dict['date'] = props[u'date:modify']\n",
    "    #res_dict['signature'] = props[u'signature']\n",
    "\n",
    "    return res_dict"
   ]
  },
  {
   "cell_type": "code",
   "execution_count": 24,
   "metadata": {
    "collapsed": false
   },
   "outputs": [],
   "source": [
    "header = ['_id', 'alpha_color', 'bg_color', 'color', 'colorspace', 'date', 'filesize', 'geometry', \n",
    "          'imstat_blue_entropy', 'imstat_blue_kurtosis', 'imstat_blue_max', 'imstat_blue_mean', \n",
    "          'imstat_blue_min', 'imstat_blue_skewness', 'imstat_blue_std', 'imstat_green_entropy',\n",
    "          'imstat_green_kurtosis', 'imstat_green_max', 'imstat_green_mean', 'imstat_green_min',\n",
    "          'imstat_green_skewness', 'imstat_green_std', 'imstat_overall_entropy', 'imstat_overall_kurtosis',\n",
    "          'imstat_overall_max', 'imstat_overall_mean', 'imstat_overall_min', 'imstat_overall_skewness',\n",
    "          'imstat_overall_std', 'imstat_red_entropy', 'imstat_red_kurtosis', 'imstat_red_max',\n",
    "          'imstat_red_mean', 'imstat_red_min', 'imstat_red_skewness', 'imstat_red_std', 'moments_blue_I1',\n",
    "          'moments_blue_I2', 'moments_blue_I3', 'moments_blue_I4', 'moments_blue_I5', 'moments_blue_I6',\n",
    "          'moments_blue_I7', 'moments_blue_I8', 'moments_blue_ellipse_angle', 'moments_blue_ellipse_centroid_x',\n",
    "          'moments_blue_ellipse_centroid_y', 'moments_blue_ellipse_eccentricity', 'moments_blue_ellipse_intensity',\n",
    "          'moments_blue_ellipse_major', 'moments_blue_ellipse_minor', 'moments_green_I1', 'moments_green_I2',\n",
    "          'moments_green_I3', 'moments_green_I4', 'moments_green_I5', 'moments_green_I6', 'moments_green_I7',\n",
    "          'moments_green_I8', 'moments_green_ellipse_angle', 'moments_green_ellipse_centroid_x', \n",
    "          'moments_green_ellipse_centroid_y', 'moments_green_ellipse_eccentricity', \n",
    "          'moments_green_ellipse_intensity', 'moments_green_ellipse_major', 'moments_green_ellipse_minor',\n",
    "          'moments_overall_I1', 'moments_overall_I2', 'moments_overall_I3', 'moments_overall_I4', \n",
    "          'moments_overall_I5', 'moments_overall_I6', 'moments_overall_I7', 'moments_overall_I8', \n",
    "          'moments_overall_ellipse_angle', 'moments_overall_ellipse_centroid_x', \n",
    "          'moments_overall_ellipse_centroid_y', 'moments_overall_ellipse_eccentricity', \n",
    "          'moments_overall_ellipse_intensity', 'moments_overall_ellipse_major', 'moments_overall_ellipse_minor',\n",
    "          'moments_red_I1', 'moments_red_I2', 'moments_red_I3', 'moments_red_I4', 'moments_red_I5', \n",
    "          'moments_red_I6', 'moments_red_I7', 'moments_red_I8', 'moments_red_ellipse_angle', \n",
    "          'moments_red_ellipse_centroid_x', 'moments_red_ellipse_centroid_y', 'moments_red_ellipse_eccentricity', \n",
    "          'moments_red_ellipse_intensity', 'moments_red_ellipse_major', 'moments_red_ellipse_minor', \n",
    "          'no_pixels', 'phash_blue_ph1', 'phash_blue_ph2', 'phash_blue_ph3', 'phash_blue_ph4', 'phash_blue_ph5', \n",
    "          'phash_blue_ph6', 'phash_blue_ph7', 'phash_chroma_ph1', 'phash_chroma_ph2', 'phash_chroma_ph3', \n",
    "          'phash_chroma_ph4', 'phash_chroma_ph5', 'phash_chroma_ph6', 'phash_chroma_ph7', 'phash_green_ph1',\n",
    "          'phash_green_ph2', 'phash_green_ph3', 'phash_green_ph4', 'phash_green_ph5', 'phash_green_ph6',\n",
    "          'phash_green_ph7', 'phash_hue_ph1', 'phash_hue_ph2', 'phash_hue_ph3', 'phash_hue_ph4', 'phash_hue_ph5',\n",
    "          'phash_hue_ph6', 'phash_hue_ph7', 'phash_luma_ph1', 'phash_luma_ph2', 'phash_luma_ph3', 'phash_luma_ph4',\n",
    "          'phash_luma_ph5', 'phash_luma_ph6', 'phash_luma_ph7', 'phash_red_ph1', 'phash_red_ph2', 'phash_red_ph3',\n",
    "          'phash_red_ph4', 'phash_red_ph5', 'phash_red_ph6', 'phash_red_ph7', 'quality', 'type']"
   ]
  },
  {
   "cell_type": "code",
   "execution_count": 30,
   "metadata": {
    "collapsed": true
   },
   "outputs": [],
   "source": [
    "csv_res_file = open('imagemagick_features_res.csv', 'w')\n",
    "\n",
    "writer = csv.DictWriter(csv_res_file, fieldnames=header)"
   ]
  },
  {
   "cell_type": "code",
   "execution_count": 31,
   "metadata": {
    "collapsed": true
   },
   "outputs": [],
   "source": [
    "writer.writeheader()"
   ]
  },
  {
   "cell_type": "code",
   "execution_count": 32,
   "metadata": {
    "collapsed": true
   },
   "outputs": [],
   "source": [
    "from tqdm import tqdm"
   ]
  },
  {
   "cell_type": "code",
   "execution_count": 33,
   "metadata": {
    "collapsed": false
   },
   "outputs": [
    {
     "name": "stderr",
     "output_type": "stream",
     "text": [
      "692156it [07:34, 1522.07it/s]\n"
     ]
    }
   ],
   "source": [
    "with open('imagemagick_features.txt') as f:\n",
    "    for line in tqdm(f):\n",
    "        d = process_line(line.strip())\n",
    "        writer.writerow(d)"
   ]
  },
  {
   "cell_type": "code",
   "execution_count": 34,
   "metadata": {
    "collapsed": true
   },
   "outputs": [],
   "source": [
    "csv_res_file.flush()\n",
    "csv_res_file.close()"
   ]
  },
  {
   "cell_type": "code",
   "execution_count": 35,
   "metadata": {
    "collapsed": true
   },
   "outputs": [],
   "source": [
    "import re\n",
    "\n",
    "import numpy as np\n",
    "import pandas as pd\n",
    "\n",
    "import os\n",
    "\n",
    "from tqdm import tqdm\n",
    "import gc\n",
    "\n",
    "from sklearn.utils import shuffle\n",
    "from sklearn.metrics import log_loss\n",
    "\n",
    "import feather"
   ]
  },
  {
   "cell_type": "code",
   "execution_count": 116,
   "metadata": {
    "collapsed": true
   },
   "outputs": [],
   "source": [
    "df_train = pd.read_json('data/train.json')\n"
   ]
  },
  {
   "cell_type": "code",
   "execution_count": 197,
   "metadata": {
    "collapsed": true
   },
   "outputs": [],
   "source": [
    "df_test = pd.read_json('data/test.json')\n"
   ]
  },
  {
   "cell_type": "code",
   "execution_count": 117,
   "metadata": {
    "collapsed": true
   },
   "outputs": [],
   "source": [
    "def extract_file_name(url):\n",
    "    return url[url.rfind('/')+1:]"
   ]
  },
  {
   "cell_type": "code",
   "execution_count": 118,
   "metadata": {
    "collapsed": true
   },
   "outputs": [],
   "source": [
    "np.random.seed(1)\n",
    "folds = np.random.choice([0, 1, 2, 3, 4, 5], size=len(df_train))\n",
    "df_train['fold'] = folds.astype('uint8')"
   ]
  },
  {
   "cell_type": "code",
   "execution_count": 119,
   "metadata": {
    "collapsed": true
   },
   "outputs": [],
   "source": [
    "interest_level_map = {'low': 0, 'medium': 1, 'high': 2}\n",
    "df_train.interest_level = df_train.interest_level.apply(lambda x: interest_level_map.get(x, -1))"
   ]
  },
  {
   "cell_type": "code",
   "execution_count": 120,
   "metadata": {
    "collapsed": false
   },
   "outputs": [],
   "source": [
    "images_train = []\n",
    "\n",
    "for row in df_train.itertuples():\n",
    "    id = row.listing_id\n",
    "    fold = row.fold\n",
    "    lev = row.interest_level\n",
    "    for p in row.photos:\n",
    "        path = extract_file_name(p)\n",
    "        images_train.append((id, path, lev, fold))"
   ]
  },
  {
   "cell_type": "code",
   "execution_count": 121,
   "metadata": {
    "collapsed": false
   },
   "outputs": [
    {
     "data": {
      "text/html": [
       "<div>\n",
       "<table border=\"1\" class=\"dataframe\">\n",
       "  <thead>\n",
       "    <tr style=\"text-align: right;\">\n",
       "      <th></th>\n",
       "      <th>listing_id</th>\n",
       "      <th>image</th>\n",
       "      <th>interest_level</th>\n",
       "      <th>fold</th>\n",
       "    </tr>\n",
       "  </thead>\n",
       "  <tbody>\n",
       "    <tr>\n",
       "      <th>48745</th>\n",
       "      <td>6844210</td>\n",
       "      <td>6844210_02cbfc2fa16da927305118fcd83aa434.jpg</td>\n",
       "      <td>1</td>\n",
       "      <td>0</td>\n",
       "    </tr>\n",
       "    <tr>\n",
       "      <th>136193</th>\n",
       "      <td>7134435</td>\n",
       "      <td>7134435_885ac210b226103408b2dd92ec247a6c.jpg</td>\n",
       "      <td>0</td>\n",
       "      <td>1</td>\n",
       "    </tr>\n",
       "    <tr>\n",
       "      <th>174944</th>\n",
       "      <td>7159349</td>\n",
       "      <td>7159349_23fb954c529b048204dec432e347e143.jpg</td>\n",
       "      <td>1</td>\n",
       "      <td>5</td>\n",
       "    </tr>\n",
       "    <tr>\n",
       "      <th>96446</th>\n",
       "      <td>7089849</td>\n",
       "      <td>7089849_1ecde35675aed2d4c2c0fa95d8e646a7.jpg</td>\n",
       "      <td>0</td>\n",
       "      <td>0</td>\n",
       "    </tr>\n",
       "    <tr>\n",
       "      <th>11971</th>\n",
       "      <td>6882010</td>\n",
       "      <td>6882010_acc0ecd59f7c530156febd6908ccb8b7.jpg</td>\n",
       "      <td>1</td>\n",
       "      <td>0</td>\n",
       "    </tr>\n",
       "  </tbody>\n",
       "</table>\n",
       "</div>"
      ],
      "text/plain": [
       "        listing_id                                         image  \\\n",
       "48745      6844210  6844210_02cbfc2fa16da927305118fcd83aa434.jpg   \n",
       "136193     7134435  7134435_885ac210b226103408b2dd92ec247a6c.jpg   \n",
       "174944     7159349  7159349_23fb954c529b048204dec432e347e143.jpg   \n",
       "96446      7089849  7089849_1ecde35675aed2d4c2c0fa95d8e646a7.jpg   \n",
       "11971      6882010  6882010_acc0ecd59f7c530156febd6908ccb8b7.jpg   \n",
       "\n",
       "        interest_level  fold  \n",
       "48745                1     0  \n",
       "136193               0     1  \n",
       "174944               1     5  \n",
       "96446                0     0  \n",
       "11971                1     0  "
      ]
     },
     "execution_count": 121,
     "metadata": {},
     "output_type": "execute_result"
    }
   ],
   "source": [
    "df_images_train = pd.DataFrame(images_train, columns=['listing_id', 'image', 'interest_level', 'fold'])\n",
    "df_images_train.sample(n=5)"
   ]
  },
  {
   "cell_type": "code",
   "execution_count": 198,
   "metadata": {
    "collapsed": false
   },
   "outputs": [],
   "source": [
    "images_test = []\n",
    "\n",
    "for row in df_test.itertuples():\n",
    "    id = row.listing_id\n",
    "    for p in row.photos:\n",
    "        path = extract_file_name(p)\n",
    "        images_test.append((id, path))"
   ]
  },
  {
   "cell_type": "code",
   "execution_count": 199,
   "metadata": {
    "collapsed": false
   },
   "outputs": [
    {
     "data": {
      "text/html": [
       "<div>\n",
       "<table border=\"1\" class=\"dataframe\">\n",
       "  <thead>\n",
       "    <tr style=\"text-align: right;\">\n",
       "      <th></th>\n",
       "      <th>listing_id</th>\n",
       "      <th>image</th>\n",
       "    </tr>\n",
       "  </thead>\n",
       "  <tbody>\n",
       "    <tr>\n",
       "      <th>173889</th>\n",
       "      <td>7090665</td>\n",
       "      <td>7090665_7175ce1f0c8746ab4d89e4f37c270e10.jpg</td>\n",
       "    </tr>\n",
       "    <tr>\n",
       "      <th>70543</th>\n",
       "      <td>6879043</td>\n",
       "      <td>6879043_085b7b2d435873a7846fcb3d36e8e042.jpg</td>\n",
       "    </tr>\n",
       "    <tr>\n",
       "      <th>247810</th>\n",
       "      <td>6958897</td>\n",
       "      <td>6958897_41dbcb278bf7d333dec9849ebd1bc6c4.jpg</td>\n",
       "    </tr>\n",
       "    <tr>\n",
       "      <th>287339</th>\n",
       "      <td>7173404</td>\n",
       "      <td>7173404_fdde48b40f4151de1c01d2523a294f53.jpg</td>\n",
       "    </tr>\n",
       "    <tr>\n",
       "      <th>52162</th>\n",
       "      <td>6946356</td>\n",
       "      <td>6946356_bd130121417bda6b2a03713468ee90d3.jpg</td>\n",
       "    </tr>\n",
       "  </tbody>\n",
       "</table>\n",
       "</div>"
      ],
      "text/plain": [
       "        listing_id                                         image\n",
       "173889     7090665  7090665_7175ce1f0c8746ab4d89e4f37c270e10.jpg\n",
       "70543      6879043  6879043_085b7b2d435873a7846fcb3d36e8e042.jpg\n",
       "247810     6958897  6958897_41dbcb278bf7d333dec9849ebd1bc6c4.jpg\n",
       "287339     7173404  7173404_fdde48b40f4151de1c01d2523a294f53.jpg\n",
       "52162      6946356  6946356_bd130121417bda6b2a03713468ee90d3.jpg"
      ]
     },
     "execution_count": 199,
     "metadata": {},
     "output_type": "execute_result"
    }
   ],
   "source": [
    "df_images_test = pd.DataFrame(images_test, columns=['listing_id', 'image'])\n",
    "df_images_test.sample(n=5)"
   ]
  },
  {
   "cell_type": "code",
   "execution_count": 122,
   "metadata": {
    "collapsed": false
   },
   "outputs": [],
   "source": [
    "for i in [0, 1, 2]:\n",
    "    df_images_train['interest_%s' % i] = (df_images_train.interest_level == i).astype('uint8')"
   ]
  },
  {
   "cell_type": "code",
   "execution_count": 123,
   "metadata": {
    "collapsed": true
   },
   "outputs": [],
   "source": [
    "train_images = set(df_images_train.image)"
   ]
  },
  {
   "cell_type": "code",
   "execution_count": 56,
   "metadata": {
    "collapsed": true
   },
   "outputs": [],
   "source": [
    "dtypes = {'_id': 'O',\n",
    "     'alpha_color': 'O',\n",
    "     'bg_color': 'O',\n",
    "     'color': 'bool',\n",
    "     'colorspace': 'O',\n",
    "     'date': 'O',\n",
    "     'geometry': 'O',\n",
    "     'type': 'O'}\n",
    "\n",
    "for t in header:\n",
    "    if t not in dtypes:\n",
    "        dtypes[t] = 'float32'"
   ]
  },
  {
   "cell_type": "code",
   "execution_count": 147,
   "metadata": {
    "collapsed": false
   },
   "outputs": [],
   "source": [
    "df_im = pd.read_csv('imagemagick_features_res.csv', dtype=dtypes)\n",
    "del df_im['alpha_color']\n",
    "del df_im['bg_color']\n",
    "del df_im['color']\n",
    "del df_im['colorspace']\n",
    "del df_im['type']\n",
    "del df_im['quality']"
   ]
  },
  {
   "cell_type": "code",
   "execution_count": 148,
   "metadata": {
    "collapsed": false
   },
   "outputs": [],
   "source": [
    "df_im.date = pd.to_datetime(df_im.date)"
   ]
  },
  {
   "cell_type": "code",
   "execution_count": 149,
   "metadata": {
    "collapsed": false
   },
   "outputs": [],
   "source": [
    "from_start = (df_im.date - df_im.date.min())"
   ]
  },
  {
   "cell_type": "code",
   "execution_count": 150,
   "metadata": {
    "collapsed": false
   },
   "outputs": [],
   "source": [
    "sec_from_start = from_start / np.timedelta64(1, 's')\n",
    "df_im['seconds_from_min'] = sec_from_start.astype('float32')"
   ]
  },
  {
   "cell_type": "code",
   "execution_count": 151,
   "metadata": {
    "collapsed": false
   },
   "outputs": [],
   "source": [
    "del df_im['date']"
   ]
  },
  {
   "cell_type": "code",
   "execution_count": 152,
   "metadata": {
    "collapsed": false
   },
   "outputs": [],
   "source": [
    "df_im['train'] = df_im._id.isin(train_images)"
   ]
  },
  {
   "cell_type": "code",
   "execution_count": 153,
   "metadata": {
    "collapsed": false
   },
   "outputs": [],
   "source": [
    "time_train = df_im[df_im.train == True].seconds_from_min\n",
    "time_test = df_im[df_im.train == False].seconds_from_min"
   ]
  },
  {
   "cell_type": "code",
   "execution_count": 101,
   "metadata": {
    "collapsed": true
   },
   "outputs": [],
   "source": [
    "import seaborn as sns\n",
    "%matplotlib inline"
   ]
  },
  {
   "cell_type": "code",
   "execution_count": 103,
   "metadata": {
    "collapsed": false,
    "scrolled": true
   },
   "outputs": [
    {
     "data": {
      "text/plain": [
       "<matplotlib.axes._subplots.AxesSubplot at 0x7f386b857b38>"
      ]
     },
     "execution_count": 103,
     "metadata": {},
     "output_type": "execute_result"
    },
    {
     "data": {
      "image/png": "[encoded data removed]",
      "text/plain": [
       "<matplotlib.figure.Figure at 0x7f3874d83ac8>"
      ]
     },
     "metadata": {},
     "output_type": "display_data"
    }
   ],
   "source": [
    "sns.distplot(time_train, kde=False)\n",
    "sns.distplot(time_test, kde=False)"
   ]
  },
  {
   "cell_type": "code",
   "execution_count": 154,
   "metadata": {
    "collapsed": true
   },
   "outputs": [],
   "source": [
    "df_train = df_images_train.merge(df_im, left_on='image', right_on='_id')\n",
    "del df_train['train']\n",
    "del df_train['_id']"
   ]
  },
  {
   "cell_type": "code",
   "execution_count": 214,
   "metadata": {
    "collapsed": true
   },
   "outputs": [],
   "source": [
    "df_test = df_images_test.merge(df_im, left_on='image', right_on='_id')\n",
    "del df_test['_id']"
   ]
  },
  {
   "cell_type": "code",
   "execution_count": 156,
   "metadata": {
    "collapsed": false
   },
   "outputs": [],
   "source": [
    "df_fold012 = df_train[df_train.fold <= 2].reset_index(drop=1)\n",
    "df_fold345 = df_train[df_train.fold >= 3].reset_index(drop=1)"
   ]
  },
  {
   "cell_type": "code",
   "execution_count": 157,
   "metadata": {
    "collapsed": false
   },
   "outputs": [],
   "source": [
    "def fit_mtv(df, target_col, cat_col, C):\n",
    "    m0 = (df[target_col] == 1).mean()\n",
    "\n",
    "    cnt = df[df[target_col] == 1][cat_col].value_counts()\n",
    "    cnt_all = df[cat_col].value_counts()\n",
    "\n",
    "    probs = (cnt + C * m0) / (cnt_all + C)\n",
    "    return probs, m0\n",
    "\n",
    "def transform_mtv(df_target, probs, m0):\n",
    "    probs_targ = probs[df_target[cat_col]].reset_index(drop=1)\n",
    "    probs_targ.fillna(m0, inplace=1)\n",
    "    return probs_targ"
   ]
  },
  {
   "cell_type": "code",
   "execution_count": 159,
   "metadata": {
    "collapsed": false
   },
   "outputs": [],
   "source": [
    "C = 12\n",
    "cat_col = 'geometry'\n",
    "\n",
    "df1 = df_fold012\n",
    "df2 = df_fold345\n",
    "\n",
    "for target_col in ['interest_0', 'interest_1', 'interest_2']:\n",
    "    res_name = '%s_%s_mtv' % (cat_col, target_col)\n",
    "\n",
    "    probs, m0 = fit_mtv(df1, target_col, cat_col, C=C)\n",
    "    df2[res_name] = transform_mtv(df2, probs, m0)\n",
    "\n",
    "    probs, m0 = fit_mtv(df2, target_col, cat_col, C=C)\n",
    "    df1[res_name] = transform_mtv(df1, probs, m0)"
   ]
  },
  {
   "cell_type": "code",
   "execution_count": 217,
   "metadata": {
    "collapsed": false
   },
   "outputs": [],
   "source": [
    "C = 12\n",
    "cat_col = 'geometry'\n",
    "\n",
    "df1 = df_train\n",
    "df2 = df_test\n",
    "\n",
    "for target_col in ['interest_0', 'interest_1', 'interest_2']:\n",
    "    res_name = '%s_%s_mtv' % (cat_col, target_col)\n",
    "\n",
    "    probs, m0 = fit_mtv(df1, target_col, cat_col, C=C)\n",
    "    df2[res_name] = transform_mtv(df2, probs, m0)"
   ]
  },
  {
   "cell_type": "code",
   "execution_count": null,
   "metadata": {
    "collapsed": true
   },
   "outputs": [],
   "source": []
  },
  {
   "cell_type": "code",
   "execution_count": 164,
   "metadata": {
    "collapsed": false,
    "scrolled": true
   },
   "outputs": [],
   "source": [
    "exclude = {'listing_id', 'image', 'interest_level', 'fold',\n",
    "           'interest_0', 'interest_1', 'interest_2', 'geometry'}\n",
    "\n",
    "features = sorted(set(df_fold012.columns) - exclude)"
   ]
  },
  {
   "cell_type": "code",
   "execution_count": 168,
   "metadata": {
    "collapsed": true
   },
   "outputs": [],
   "source": [
    "import xgboost as xgb"
   ]
  },
  {
   "cell_type": "code",
   "execution_count": 200,
   "metadata": {
    "collapsed": true
   },
   "outputs": [],
   "source": [
    "X_1 = df_fold012[features]\n",
    "y_1 = df_fold012.interest_level"
   ]
  },
  {
   "cell_type": "code",
   "execution_count": 201,
   "metadata": {
    "collapsed": false
   },
   "outputs": [],
   "source": [
    "dfold1 = xgb.DMatrix(X_1, label=y_1, feature_names=features)\n",
    "del X_1, y_1"
   ]
  },
  {
   "cell_type": "code",
   "execution_count": 202,
   "metadata": {
    "collapsed": true
   },
   "outputs": [],
   "source": [
    "X_2 = df_fold345[features]\n",
    "y_2 = df_fold345.interest_level"
   ]
  },
  {
   "cell_type": "code",
   "execution_count": 203,
   "metadata": {
    "collapsed": true
   },
   "outputs": [],
   "source": [
    "dfold2 = xgb.DMatrix(X_2, label=y_2, feature_names=features)\n",
    "del X_2, y_2"
   ]
  },
  {
   "cell_type": "code",
   "execution_count": 204,
   "metadata": {
    "collapsed": true
   },
   "outputs": [],
   "source": [
    "watchlist = [(dfold1, 'train'), (dfold2, 'val')]"
   ]
  },
  {
   "cell_type": "code",
   "execution_count": 205,
   "metadata": {
    "collapsed": true
   },
   "outputs": [],
   "source": [
    "xgb_pars = {\n",
    "    'eta': 0.15,\n",
    "    'gamma': 0,\n",
    "    'max_depth': 6,\n",
    "    'min_child_weight': 1,\n",
    "    'max_delta_step': 0,\n",
    "    'subsample': 0.6,\n",
    "    'colsample_bytree': 0.6,\n",
    "    'colsample_bylevel': 1,\n",
    "    'lambda': 1,\n",
    "    'alpha': 0,\n",
    "    'tree_method': 'approx',\n",
    "# not deafauts\n",
    "    'objective': 'multi:softprob',\n",
    "    'eval_metric': 'mlogloss',\n",
    "    'num_class': 3,\n",
    "    'nthread': 8,\n",
    "    'seed': 42,\n",
    "    'silent': 1\n",
    "}"
   ]
  },
  {
   "cell_type": "code",
   "execution_count": 206,
   "metadata": {
    "collapsed": false,
    "scrolled": true
   },
   "outputs": [
    {
     "name": "stdout",
     "output_type": "stream",
     "text": [
      "[0]\ttrain-mlogloss:1.02967\tval-mlogloss:1.02994\n",
      "[1]\ttrain-mlogloss:0.975435\tval-mlogloss:0.976409\n",
      "[2]\ttrain-mlogloss:0.934338\tval-mlogloss:0.936016\n",
      "[3]\ttrain-mlogloss:0.900403\tval-mlogloss:0.902528\n",
      "[4]\ttrain-mlogloss:0.872669\tval-mlogloss:0.874804\n",
      "[5]\ttrain-mlogloss:0.850392\tval-mlogloss:0.852463\n",
      "[6]\ttrain-mlogloss:0.832121\tval-mlogloss:0.834516\n",
      "[7]\ttrain-mlogloss:0.817694\tval-mlogloss:0.820551\n",
      "[8]\ttrain-mlogloss:0.805488\tval-mlogloss:0.808689\n",
      "[9]\ttrain-mlogloss:0.79529\tval-mlogloss:0.798727\n",
      "[10]\ttrain-mlogloss:0.787322\tval-mlogloss:0.791373\n",
      "[11]\ttrain-mlogloss:0.780661\tval-mlogloss:0.78531\n",
      "[12]\ttrain-mlogloss:0.7747\tval-mlogloss:0.77985\n",
      "[13]\ttrain-mlogloss:0.76962\tval-mlogloss:0.775377\n",
      "[14]\ttrain-mlogloss:0.765557\tval-mlogloss:0.771913\n",
      "[15]\ttrain-mlogloss:0.762058\tval-mlogloss:0.769185\n",
      "[16]\ttrain-mlogloss:0.758782\tval-mlogloss:0.766617\n",
      "[17]\ttrain-mlogloss:0.75578\tval-mlogloss:0.764403\n",
      "[18]\ttrain-mlogloss:0.75345\tval-mlogloss:0.762674\n",
      "[19]\ttrain-mlogloss:0.751272\tval-mlogloss:0.761169\n",
      "[20]\ttrain-mlogloss:0.749041\tval-mlogloss:0.759776\n",
      "[21]\ttrain-mlogloss:0.74694\tval-mlogloss:0.758501\n",
      "[22]\ttrain-mlogloss:0.745211\tval-mlogloss:0.757585\n",
      "[23]\ttrain-mlogloss:0.743534\tval-mlogloss:0.756751\n",
      "[24]\ttrain-mlogloss:0.742014\tval-mlogloss:0.755918\n",
      "[25]\ttrain-mlogloss:0.740553\tval-mlogloss:0.755235\n",
      "[26]\ttrain-mlogloss:0.739276\tval-mlogloss:0.754755\n",
      "[27]\ttrain-mlogloss:0.738095\tval-mlogloss:0.754348\n",
      "[28]\ttrain-mlogloss:0.736745\tval-mlogloss:0.754036\n",
      "[29]\ttrain-mlogloss:0.735689\tval-mlogloss:0.753723\n",
      "[30]\ttrain-mlogloss:0.734561\tval-mlogloss:0.753354\n",
      "[31]\ttrain-mlogloss:0.733504\tval-mlogloss:0.753038\n",
      "[32]\ttrain-mlogloss:0.732526\tval-mlogloss:0.752762\n",
      "[33]\ttrain-mlogloss:0.731559\tval-mlogloss:0.752493\n",
      "[34]\ttrain-mlogloss:0.730715\tval-mlogloss:0.752377\n",
      "[35]\ttrain-mlogloss:0.729902\tval-mlogloss:0.752169\n",
      "[36]\ttrain-mlogloss:0.728947\tval-mlogloss:0.751936\n",
      "[37]\ttrain-mlogloss:0.727979\tval-mlogloss:0.751837\n",
      "[38]\ttrain-mlogloss:0.726885\tval-mlogloss:0.75173\n",
      "[39]\ttrain-mlogloss:0.725894\tval-mlogloss:0.751513\n",
      "[40]\ttrain-mlogloss:0.725076\tval-mlogloss:0.751424\n",
      "[41]\ttrain-mlogloss:0.724091\tval-mlogloss:0.751389\n",
      "[42]\ttrain-mlogloss:0.723168\tval-mlogloss:0.751352\n",
      "[43]\ttrain-mlogloss:0.722301\tval-mlogloss:0.751271\n",
      "[44]\ttrain-mlogloss:0.721617\tval-mlogloss:0.751195\n",
      "[45]\ttrain-mlogloss:0.72082\tval-mlogloss:0.751079\n",
      "[46]\ttrain-mlogloss:0.719959\tval-mlogloss:0.750969\n",
      "[47]\ttrain-mlogloss:0.719033\tval-mlogloss:0.750941\n",
      "[48]\ttrain-mlogloss:0.718236\tval-mlogloss:0.750929\n",
      "[49]\ttrain-mlogloss:0.717459\tval-mlogloss:0.75084\n",
      "[50]\ttrain-mlogloss:0.716546\tval-mlogloss:0.750769\n",
      "[51]\ttrain-mlogloss:0.715739\tval-mlogloss:0.750718\n",
      "[52]\ttrain-mlogloss:0.714843\tval-mlogloss:0.750613\n",
      "[53]\ttrain-mlogloss:0.713983\tval-mlogloss:0.750513\n",
      "[54]\ttrain-mlogloss:0.713134\tval-mlogloss:0.750443\n",
      "[55]\ttrain-mlogloss:0.71238\tval-mlogloss:0.750383\n",
      "[56]\ttrain-mlogloss:0.711559\tval-mlogloss:0.750393\n",
      "[57]\ttrain-mlogloss:0.710892\tval-mlogloss:0.750366\n",
      "[58]\ttrain-mlogloss:0.71009\tval-mlogloss:0.750314\n",
      "[59]\ttrain-mlogloss:0.709141\tval-mlogloss:0.75018\n",
      "[60]\ttrain-mlogloss:0.70831\tval-mlogloss:0.750124\n",
      "[61]\ttrain-mlogloss:0.707503\tval-mlogloss:0.74998\n",
      "[62]\ttrain-mlogloss:0.706855\tval-mlogloss:0.749886\n",
      "[63]\ttrain-mlogloss:0.706036\tval-mlogloss:0.749985\n",
      "[64]\ttrain-mlogloss:0.705291\tval-mlogloss:0.749898\n",
      "[65]\ttrain-mlogloss:0.704528\tval-mlogloss:0.749815\n",
      "[66]\ttrain-mlogloss:0.703859\tval-mlogloss:0.749724\n",
      "[67]\ttrain-mlogloss:0.703184\tval-mlogloss:0.749725\n",
      "[68]\ttrain-mlogloss:0.702449\tval-mlogloss:0.749665\n",
      "[69]\ttrain-mlogloss:0.701639\tval-mlogloss:0.749559\n",
      "[70]\ttrain-mlogloss:0.701024\tval-mlogloss:0.749531\n",
      "[71]\ttrain-mlogloss:0.700197\tval-mlogloss:0.749454\n",
      "[72]\ttrain-mlogloss:0.699387\tval-mlogloss:0.749387\n",
      "[73]\ttrain-mlogloss:0.698727\tval-mlogloss:0.74939\n",
      "[74]\ttrain-mlogloss:0.697897\tval-mlogloss:0.749405\n",
      "[75]\ttrain-mlogloss:0.697131\tval-mlogloss:0.749384\n",
      "[76]\ttrain-mlogloss:0.696297\tval-mlogloss:0.749372\n",
      "[77]\ttrain-mlogloss:0.6956\tval-mlogloss:0.749335\n",
      "[78]\ttrain-mlogloss:0.694956\tval-mlogloss:0.749344\n",
      "[79]\ttrain-mlogloss:0.694259\tval-mlogloss:0.749281\n",
      "[80]\ttrain-mlogloss:0.693462\tval-mlogloss:0.749216\n",
      "[81]\ttrain-mlogloss:0.692637\tval-mlogloss:0.749099\n",
      "[82]\ttrain-mlogloss:0.692029\tval-mlogloss:0.749089\n",
      "[83]\ttrain-mlogloss:0.691341\tval-mlogloss:0.749037\n",
      "[84]\ttrain-mlogloss:0.690567\tval-mlogloss:0.748983\n",
      "[85]\ttrain-mlogloss:0.689901\tval-mlogloss:0.748977\n",
      "[86]\ttrain-mlogloss:0.689173\tval-mlogloss:0.748925\n",
      "[87]\ttrain-mlogloss:0.688415\tval-mlogloss:0.748839\n",
      "[88]\ttrain-mlogloss:0.687693\tval-mlogloss:0.748779\n",
      "[89]\ttrain-mlogloss:0.686914\tval-mlogloss:0.748857\n",
      "[90]\ttrain-mlogloss:0.686253\tval-mlogloss:0.748821\n",
      "[91]\ttrain-mlogloss:0.685493\tval-mlogloss:0.748806\n",
      "[92]\ttrain-mlogloss:0.684799\tval-mlogloss:0.748776\n",
      "[93]\ttrain-mlogloss:0.683936\tval-mlogloss:0.748721\n",
      "[94]\ttrain-mlogloss:0.6832\tval-mlogloss:0.748693\n",
      "[95]\ttrain-mlogloss:0.682528\tval-mlogloss:0.74866\n",
      "[96]\ttrain-mlogloss:0.681783\tval-mlogloss:0.748667\n",
      "[97]\ttrain-mlogloss:0.681155\tval-mlogloss:0.748651\n",
      "[98]\ttrain-mlogloss:0.680278\tval-mlogloss:0.748646\n",
      "[99]\ttrain-mlogloss:0.679543\tval-mlogloss:0.748624\n"
     ]
    }
   ],
   "source": [
    "n_estimators = 100\n",
    "model2 = xgb.train(xgb_pars, dfold1, num_boost_round=n_estimators, verbose_eval=1,\n",
    "                 evals=watchlist)"
   ]
  },
  {
   "cell_type": "code",
   "execution_count": 188,
   "metadata": {
    "collapsed": false,
    "scrolled": true
   },
   "outputs": [
    {
     "name": "stdout",
     "output_type": "stream",
     "text": [
      "feature importance:\n",
      " - seconds_from_min: 22.8870\n",
      " - geometry_interest_0_mtv: 12.9843\n",
      " - geometry_interest_1_mtv: 10.4574\n",
      " - geometry_interest_2_mtv: 10.4289\n",
      " - filesize: 7.0023\n",
      " - no_pixels: 6.3033\n",
      " - moments_red_I2: 5.1933\n",
      " - moments_overall_ellipse_major: 5.1474\n",
      " - moments_red_I1: 5.1313\n",
      " - imstat_blue_min: 5.0430\n",
      " - moments_blue_ellipse_centroid_y: 5.0327\n",
      " - moments_red_ellipse_minor: 5.0324\n",
      " - moments_green_ellipse_intensity: 5.0166\n",
      " - moments_red_ellipse_centroid_y: 5.0159\n",
      " - moments_blue_ellipse_intensity: 5.0025\n",
      " - imstat_overall_min: 4.9704\n",
      " - moments_overall_ellipse_centroid_y: 4.9698\n",
      " - moments_green_ellipse_centroid_y: 4.9674\n",
      " - moments_green_ellipse_major: 4.9667\n",
      " - phash_luma_ph2: 4.9616\n",
      " - phash_red_ph2: 4.9497\n",
      " - imstat_red_skewness: 4.9235\n",
      " - phash_green_ph2: 4.9191\n",
      " - moments_red_ellipse_major: 4.8981\n",
      " - phash_hue_ph2: 4.8980\n",
      " - moments_overall_I1: 4.8616\n",
      " - imstat_green_min: 4.8406\n",
      " - phash_blue_ph1: 4.8283\n",
      " - moments_red_ellipse_intensity: 4.7816\n",
      " - moments_green_ellipse_eccentricity: 4.7690\n",
      " - moments_red_ellipse_centroid_x: 4.7588\n",
      " - moments_red_ellipse_eccentricity: 4.7527\n",
      " - phash_red_ph7: 4.7378\n",
      " - phash_green_ph1: 4.7350\n",
      " - phash_luma_ph5: 4.7331\n",
      " - imstat_overall_skewness: 4.7326\n",
      " - phash_luma_ph3: 4.7308\n",
      " - imstat_red_mean: 4.7301\n",
      " - phash_red_ph5: 4.7284\n",
      " - phash_luma_ph1: 4.7232\n",
      " - phash_chroma_ph2: 4.7173\n",
      " - phash_blue_ph2: 4.7147\n",
      " - moments_overall_I6: 4.7123\n",
      " - phash_luma_ph7: 4.7052\n",
      " - imstat_red_kurtosis: 4.6814\n",
      " - moments_green_ellipse_minor: 4.6670\n",
      " - phash_blue_ph7: 4.6633\n",
      " - moments_blue_ellipse_eccentricity: 4.6606\n",
      " - imstat_red_max: 4.6564\n",
      " - phash_blue_ph5: 4.6534\n",
      " - imstat_green_mean: 4.6406\n",
      " - moments_overall_ellipse_eccentricity: 4.6169\n",
      " - moments_overall_ellipse_minor: 4.6081\n",
      " - phash_hue_ph1: 4.5995\n",
      " - phash_red_ph1: 4.5895\n",
      " - phash_red_ph3: 4.5745\n",
      " - imstat_red_entropy: 4.5695\n",
      " - imstat_red_min: 4.5665\n",
      " - imstat_overall_entropy: 4.5603\n",
      " - moments_blue_I8: 4.5352\n",
      " - phash_blue_ph3: 4.5299\n",
      " - imstat_blue_skewness: 4.5215\n",
      " - moments_overall_ellipse_centroid_x: 4.5190\n",
      " - moments_red_I8: 4.4966\n",
      " - moments_green_I1: 4.4920\n",
      " - phash_chroma_ph5: 4.4899\n",
      " - moments_green_I4: 4.4881\n",
      " - phash_green_ph6: 4.4862\n",
      " - phash_red_ph4: 4.4837\n",
      " - moments_blue_I1: 4.4820\n",
      " - moments_blue_I5: 4.4792\n",
      " - phash_green_ph4: 4.4787\n",
      " - moments_green_ellipse_centroid_x: 4.4773\n",
      " - moments_green_I2: 4.4760\n",
      " - moments_overall_I4: 4.4756\n",
      " - moments_overall_I2: 4.4543\n",
      " - moments_overall_I3: 4.4436\n",
      " - phash_hue_ph4: 4.4389\n",
      " - moments_green_I5: 4.4382\n",
      " - imstat_green_skewness: 4.4368\n",
      " - phash_red_ph6: 4.4343\n",
      " - imstat_blue_mean: 4.4171\n",
      " - phash_chroma_ph1: 4.4140\n",
      " - phash_blue_ph4: 4.4140\n",
      " - moments_red_I3: 4.4133\n",
      " - imstat_overall_kurtosis: 4.4027\n",
      " - imstat_green_max: 4.3828\n",
      " - phash_luma_ph6: 4.3698\n",
      " - imstat_red_std: 4.3677\n",
      " - moments_green_I6: 4.3525\n",
      " - phash_blue_ph6: 4.3446\n",
      " - imstat_green_std: 4.3430\n",
      " - imstat_overall_mean: 4.3281\n",
      " - phash_chroma_ph7: 4.2502\n",
      " - moments_overall_I8: 4.2452\n",
      " - phash_luma_ph4: 4.2439\n",
      " - moments_overall_ellipse_intensity: 4.2417\n",
      " - moments_overall_I7: 4.2370\n",
      " - phash_chroma_ph6: 4.2358\n",
      " - moments_blue_ellipse_centroid_x: 4.2353\n",
      " - moments_blue_ellipse_major: 4.2165\n",
      " - phash_green_ph7: 4.2144\n",
      " - imstat_blue_std: 4.1924\n",
      " - imstat_green_entropy: 4.1852\n",
      " - imstat_overall_std: 4.1851\n",
      " - phash_green_ph3: 4.1752\n",
      " - moments_overall_I5: 4.1697\n",
      " - phash_hue_ph7: 4.1668\n",
      " - phash_hue_ph5: 4.1604\n",
      " - moments_blue_ellipse_minor: 4.1491\n",
      " - imstat_blue_entropy: 4.1484\n",
      " - phash_hue_ph3: 4.1376\n",
      " - moments_blue_I2: 4.1325\n",
      " - moments_overall_ellipse_angle: 4.1118\n",
      " - phash_chroma_ph4: 4.1115\n",
      " - moments_red_I6: 4.0980\n",
      " - imstat_green_kurtosis: 4.0945\n",
      " - imstat_blue_kurtosis: 4.0594\n",
      " - moments_red_I5: 4.0230\n",
      " - moments_blue_I3: 4.0154\n",
      " - imstat_blue_max: 4.0144\n",
      " - phash_green_ph5: 3.9947\n",
      " - phash_chroma_ph3: 3.9913\n",
      " - moments_red_I7: 3.9903\n",
      " - moments_red_ellipse_angle: 3.9522\n",
      " - moments_blue_I4: 3.9513\n",
      " - moments_red_I4: 3.9322\n",
      " - moments_blue_I6: 3.9207\n",
      " - moments_blue_I7: 3.9122\n",
      " - moments_blue_ellipse_angle: 3.9068\n",
      " - phash_hue_ph6: 3.8851\n",
      " - moments_green_I3: 3.8745\n",
      " - moments_green_I8: 3.8336\n",
      " - moments_green_ellipse_angle: 3.7225\n",
      " - imstat_overall_max: 3.5112\n",
      " - moments_green_I7: 3.3221\n",
      "not used features: set()\n"
     ]
    }
   ],
   "source": [
    "print('feature importance:')\n",
    "\n",
    "scores = model2.get_score(importance_type='gain')\n",
    "\n",
    "for n, s in sorted(scores.items(), key=lambda x: -x[1]):\n",
    "    print(' - %s: %.4f' % (n, s))\n",
    "\n",
    "not_used = set(features) - scores.keys()\n",
    "print('not used features: %s' % not_used)"
   ]
  },
  {
   "cell_type": "code",
   "execution_count": 207,
   "metadata": {
    "collapsed": true
   },
   "outputs": [],
   "source": [
    "ypred2 = model2.predict(dfold2)"
   ]
  },
  {
   "cell_type": "code",
   "execution_count": 208,
   "metadata": {
    "collapsed": true
   },
   "outputs": [],
   "source": [
    "watchlist = [(dfold2, 'train'), (dfold1, 'val')]"
   ]
  },
  {
   "cell_type": "code",
   "execution_count": 209,
   "metadata": {
    "collapsed": false,
    "scrolled": true
   },
   "outputs": [
    {
     "name": "stdout",
     "output_type": "stream",
     "text": [
      "[0]\ttrain-mlogloss:1.03074\tval-mlogloss:1.03314\n",
      "[1]\ttrain-mlogloss:0.972641\tval-mlogloss:0.977098\n",
      "[2]\ttrain-mlogloss:0.929253\tval-mlogloss:0.936204\n",
      "[3]\ttrain-mlogloss:0.894003\tval-mlogloss:0.902996\n",
      "[4]\ttrain-mlogloss:0.864896\tval-mlogloss:0.875668\n",
      "[5]\ttrain-mlogloss:0.843522\tval-mlogloss:0.856024\n",
      "[6]\ttrain-mlogloss:0.824063\tval-mlogloss:0.838076\n",
      "[7]\ttrain-mlogloss:0.808459\tval-mlogloss:0.824212\n",
      "[8]\ttrain-mlogloss:0.796212\tval-mlogloss:0.813382\n",
      "[9]\ttrain-mlogloss:0.785998\tval-mlogloss:0.804792\n",
      "[10]\ttrain-mlogloss:0.777127\tval-mlogloss:0.797334\n",
      "[11]\ttrain-mlogloss:0.769754\tval-mlogloss:0.791251\n",
      "[12]\ttrain-mlogloss:0.763264\tval-mlogloss:0.786144\n",
      "[13]\ttrain-mlogloss:0.758078\tval-mlogloss:0.782242\n",
      "[14]\ttrain-mlogloss:0.754145\tval-mlogloss:0.779492\n",
      "[15]\ttrain-mlogloss:0.750396\tval-mlogloss:0.776954\n",
      "[16]\ttrain-mlogloss:0.747059\tval-mlogloss:0.774782\n",
      "[17]\ttrain-mlogloss:0.744415\tval-mlogloss:0.77314\n",
      "[18]\ttrain-mlogloss:0.741644\tval-mlogloss:0.771538\n",
      "[19]\ttrain-mlogloss:0.739221\tval-mlogloss:0.770192\n",
      "[20]\ttrain-mlogloss:0.737145\tval-mlogloss:0.769089\n",
      "[21]\ttrain-mlogloss:0.735101\tval-mlogloss:0.76814\n",
      "[22]\ttrain-mlogloss:0.733306\tval-mlogloss:0.767471\n",
      "[23]\ttrain-mlogloss:0.731597\tval-mlogloss:0.766811\n",
      "[24]\ttrain-mlogloss:0.730076\tval-mlogloss:0.76637\n",
      "[25]\ttrain-mlogloss:0.728621\tval-mlogloss:0.765857\n",
      "[26]\ttrain-mlogloss:0.727218\tval-mlogloss:0.765519\n",
      "[27]\ttrain-mlogloss:0.72587\tval-mlogloss:0.765152\n",
      "[28]\ttrain-mlogloss:0.724412\tval-mlogloss:0.764705\n",
      "[29]\ttrain-mlogloss:0.723281\tval-mlogloss:0.764485\n",
      "[30]\ttrain-mlogloss:0.722082\tval-mlogloss:0.764238\n",
      "[31]\ttrain-mlogloss:0.720811\tval-mlogloss:0.763986\n",
      "[32]\ttrain-mlogloss:0.719777\tval-mlogloss:0.763933\n",
      "[33]\ttrain-mlogloss:0.718691\tval-mlogloss:0.763786\n",
      "[34]\ttrain-mlogloss:0.71759\tval-mlogloss:0.763665\n",
      "[35]\ttrain-mlogloss:0.716358\tval-mlogloss:0.763469\n",
      "[36]\ttrain-mlogloss:0.715317\tval-mlogloss:0.763345\n",
      "[37]\ttrain-mlogloss:0.714231\tval-mlogloss:0.763204\n",
      "[38]\ttrain-mlogloss:0.713197\tval-mlogloss:0.763149\n",
      "[39]\ttrain-mlogloss:0.712197\tval-mlogloss:0.762962\n",
      "[40]\ttrain-mlogloss:0.711248\tval-mlogloss:0.762833\n",
      "[41]\ttrain-mlogloss:0.710312\tval-mlogloss:0.762662\n",
      "[42]\ttrain-mlogloss:0.709497\tval-mlogloss:0.762646\n",
      "[43]\ttrain-mlogloss:0.708634\tval-mlogloss:0.762612\n",
      "[44]\ttrain-mlogloss:0.707764\tval-mlogloss:0.762502\n",
      "[45]\ttrain-mlogloss:0.706699\tval-mlogloss:0.762473\n",
      "[46]\ttrain-mlogloss:0.705832\tval-mlogloss:0.762359\n",
      "[47]\ttrain-mlogloss:0.705007\tval-mlogloss:0.762297\n",
      "[48]\ttrain-mlogloss:0.704084\tval-mlogloss:0.762176\n",
      "[49]\ttrain-mlogloss:0.703242\tval-mlogloss:0.762144\n",
      "[50]\ttrain-mlogloss:0.702387\tval-mlogloss:0.762028\n",
      "[51]\ttrain-mlogloss:0.701484\tval-mlogloss:0.761917\n",
      "[52]\ttrain-mlogloss:0.700841\tval-mlogloss:0.761851\n",
      "[53]\ttrain-mlogloss:0.699967\tval-mlogloss:0.761823\n",
      "[54]\ttrain-mlogloss:0.699089\tval-mlogloss:0.761868\n",
      "[55]\ttrain-mlogloss:0.69825\tval-mlogloss:0.761797\n",
      "[56]\ttrain-mlogloss:0.697286\tval-mlogloss:0.761705\n",
      "[57]\ttrain-mlogloss:0.696541\tval-mlogloss:0.761644\n",
      "[58]\ttrain-mlogloss:0.695655\tval-mlogloss:0.761514\n",
      "[59]\ttrain-mlogloss:0.694893\tval-mlogloss:0.761521\n",
      "[60]\ttrain-mlogloss:0.69408\tval-mlogloss:0.761524\n",
      "[61]\ttrain-mlogloss:0.693275\tval-mlogloss:0.761507\n",
      "[62]\ttrain-mlogloss:0.69256\tval-mlogloss:0.761488\n",
      "[63]\ttrain-mlogloss:0.691914\tval-mlogloss:0.761483\n",
      "[64]\ttrain-mlogloss:0.691037\tval-mlogloss:0.761406\n",
      "[65]\ttrain-mlogloss:0.690216\tval-mlogloss:0.76142\n",
      "[66]\ttrain-mlogloss:0.689505\tval-mlogloss:0.761362\n",
      "[67]\ttrain-mlogloss:0.688611\tval-mlogloss:0.761335\n",
      "[68]\ttrain-mlogloss:0.687864\tval-mlogloss:0.761374\n",
      "[69]\ttrain-mlogloss:0.687077\tval-mlogloss:0.761282\n",
      "[70]\ttrain-mlogloss:0.686211\tval-mlogloss:0.761274\n",
      "[71]\ttrain-mlogloss:0.685547\tval-mlogloss:0.761311\n",
      "[72]\ttrain-mlogloss:0.684858\tval-mlogloss:0.761299\n",
      "[73]\ttrain-mlogloss:0.684052\tval-mlogloss:0.761209\n",
      "[74]\ttrain-mlogloss:0.683249\tval-mlogloss:0.761147\n",
      "[75]\ttrain-mlogloss:0.682449\tval-mlogloss:0.761054\n",
      "[76]\ttrain-mlogloss:0.681808\tval-mlogloss:0.761052\n",
      "[77]\ttrain-mlogloss:0.681033\tval-mlogloss:0.760968\n",
      "[78]\ttrain-mlogloss:0.680273\tval-mlogloss:0.760916\n",
      "[79]\ttrain-mlogloss:0.679555\tval-mlogloss:0.760887\n",
      "[80]\ttrain-mlogloss:0.678754\tval-mlogloss:0.760935\n",
      "[81]\ttrain-mlogloss:0.677962\tval-mlogloss:0.760945\n",
      "[82]\ttrain-mlogloss:0.677328\tval-mlogloss:0.760875\n",
      "[83]\ttrain-mlogloss:0.676623\tval-mlogloss:0.76087\n",
      "[84]\ttrain-mlogloss:0.67589\tval-mlogloss:0.760814\n",
      "[85]\ttrain-mlogloss:0.675126\tval-mlogloss:0.760789\n",
      "[86]\ttrain-mlogloss:0.674304\tval-mlogloss:0.760803\n",
      "[87]\ttrain-mlogloss:0.673591\tval-mlogloss:0.760881\n",
      "[88]\ttrain-mlogloss:0.672801\tval-mlogloss:0.760882\n",
      "[89]\ttrain-mlogloss:0.672075\tval-mlogloss:0.760857\n",
      "[90]\ttrain-mlogloss:0.671365\tval-mlogloss:0.760863\n",
      "[91]\ttrain-mlogloss:0.670721\tval-mlogloss:0.760809\n",
      "[92]\ttrain-mlogloss:0.66985\tval-mlogloss:0.760694\n",
      "[93]\ttrain-mlogloss:0.669059\tval-mlogloss:0.760711\n",
      "[94]\ttrain-mlogloss:0.668473\tval-mlogloss:0.760664\n",
      "[95]\ttrain-mlogloss:0.667734\tval-mlogloss:0.760594\n",
      "[96]\ttrain-mlogloss:0.6671\tval-mlogloss:0.760603\n",
      "[97]\ttrain-mlogloss:0.666393\tval-mlogloss:0.760588\n",
      "[98]\ttrain-mlogloss:0.665719\tval-mlogloss:0.760547\n",
      "[99]\ttrain-mlogloss:0.664965\tval-mlogloss:0.760568\n"
     ]
    }
   ],
   "source": [
    "model1 = xgb.train(xgb_pars, dfold2, num_boost_round=n_estimators, verbose_eval=1,\n",
    "                 evals=watchlist)"
   ]
  },
  {
   "cell_type": "code",
   "execution_count": 210,
   "metadata": {
    "collapsed": true
   },
   "outputs": [],
   "source": [
    "ypred1 = model1.predict(dfold1)"
   ]
  },
  {
   "cell_type": "code",
   "execution_count": 211,
   "metadata": {
    "collapsed": true
   },
   "outputs": [],
   "source": [
    "X_1 = df_fold012[features]\n",
    "y_1 = df_fold012.interest_level\n",
    "X_2 = df_fold345[features]\n",
    "y_2 = df_fold345.interest_level\n",
    "\n",
    "X = np.concatenate([X_1, X_2])\n",
    "y = np.concatenate([y_1, y_2])\n",
    "\n",
    "del X_1, X_2, y_1, y_2"
   ]
  },
  {
   "cell_type": "code",
   "execution_count": 212,
   "metadata": {
    "collapsed": true
   },
   "outputs": [],
   "source": [
    "dfull = xgb.DMatrix(X, label=y, feature_names=features)\n",
    "watchlist = [(dfull, 'train')]"
   ]
  },
  {
   "cell_type": "code",
   "execution_count": 213,
   "metadata": {
    "collapsed": false,
    "scrolled": true
   },
   "outputs": [
    {
     "name": "stdout",
     "output_type": "stream",
     "text": [
      "[0]\ttrain-mlogloss:1.03029\n",
      "[1]\ttrain-mlogloss:0.974487\n",
      "[2]\ttrain-mlogloss:0.932541\n",
      "[3]\ttrain-mlogloss:0.899528\n",
      "[4]\ttrain-mlogloss:0.872318\n",
      "[5]\ttrain-mlogloss:0.85166\n",
      "[6]\ttrain-mlogloss:0.833809\n",
      "[7]\ttrain-mlogloss:0.818107\n",
      "[8]\ttrain-mlogloss:0.805744\n",
      "[9]\ttrain-mlogloss:0.795231\n",
      "[10]\ttrain-mlogloss:0.786569\n",
      "[11]\ttrain-mlogloss:0.779673\n",
      "[12]\ttrain-mlogloss:0.774486\n",
      "[13]\ttrain-mlogloss:0.770151\n",
      "[14]\ttrain-mlogloss:0.765894\n",
      "[15]\ttrain-mlogloss:0.762434\n",
      "[16]\ttrain-mlogloss:0.759476\n",
      "[17]\ttrain-mlogloss:0.756965\n",
      "[18]\ttrain-mlogloss:0.755003\n",
      "[19]\ttrain-mlogloss:0.753142\n",
      "[20]\ttrain-mlogloss:0.751231\n",
      "[21]\ttrain-mlogloss:0.749493\n",
      "[22]\ttrain-mlogloss:0.748057\n",
      "[23]\ttrain-mlogloss:0.746803\n",
      "[24]\ttrain-mlogloss:0.745667\n",
      "[25]\ttrain-mlogloss:0.744508\n",
      "[26]\ttrain-mlogloss:0.74349\n",
      "[27]\ttrain-mlogloss:0.742592\n",
      "[28]\ttrain-mlogloss:0.741668\n",
      "[29]\ttrain-mlogloss:0.740936\n",
      "[30]\ttrain-mlogloss:0.74011\n",
      "[31]\ttrain-mlogloss:0.739258\n",
      "[32]\ttrain-mlogloss:0.738438\n",
      "[33]\ttrain-mlogloss:0.737616\n",
      "[34]\ttrain-mlogloss:0.736859\n",
      "[35]\ttrain-mlogloss:0.736227\n",
      "[36]\ttrain-mlogloss:0.735512\n",
      "[37]\ttrain-mlogloss:0.734796\n",
      "[38]\ttrain-mlogloss:0.734212\n",
      "[39]\ttrain-mlogloss:0.733661\n",
      "[40]\ttrain-mlogloss:0.732944\n",
      "[41]\ttrain-mlogloss:0.732336\n",
      "[42]\ttrain-mlogloss:0.731724\n",
      "[43]\ttrain-mlogloss:0.731151\n",
      "[44]\ttrain-mlogloss:0.730571\n",
      "[45]\ttrain-mlogloss:0.729937\n",
      "[46]\ttrain-mlogloss:0.729492\n",
      "[47]\ttrain-mlogloss:0.728833\n",
      "[48]\ttrain-mlogloss:0.728274\n",
      "[49]\ttrain-mlogloss:0.727678\n",
      "[50]\ttrain-mlogloss:0.727172\n",
      "[51]\ttrain-mlogloss:0.726697\n",
      "[52]\ttrain-mlogloss:0.726178\n",
      "[53]\ttrain-mlogloss:0.725528\n",
      "[54]\ttrain-mlogloss:0.725105\n",
      "[55]\ttrain-mlogloss:0.724545\n",
      "[56]\ttrain-mlogloss:0.724047\n",
      "[57]\ttrain-mlogloss:0.723512\n",
      "[58]\ttrain-mlogloss:0.722951\n",
      "[59]\ttrain-mlogloss:0.722382\n",
      "[60]\ttrain-mlogloss:0.721819\n",
      "[61]\ttrain-mlogloss:0.721264\n",
      "[62]\ttrain-mlogloss:0.720718\n",
      "[63]\ttrain-mlogloss:0.720196\n",
      "[64]\ttrain-mlogloss:0.719709\n",
      "[65]\ttrain-mlogloss:0.719204\n",
      "[66]\ttrain-mlogloss:0.718807\n",
      "[67]\ttrain-mlogloss:0.718393\n",
      "[68]\ttrain-mlogloss:0.717814\n",
      "[69]\ttrain-mlogloss:0.717282\n",
      "[70]\ttrain-mlogloss:0.716741\n",
      "[71]\ttrain-mlogloss:0.716189\n",
      "[72]\ttrain-mlogloss:0.715781\n",
      "[73]\ttrain-mlogloss:0.715236\n",
      "[74]\ttrain-mlogloss:0.714746\n",
      "[75]\ttrain-mlogloss:0.714279\n",
      "[76]\ttrain-mlogloss:0.713812\n",
      "[77]\ttrain-mlogloss:0.713368\n",
      "[78]\ttrain-mlogloss:0.71292\n",
      "[79]\ttrain-mlogloss:0.712527\n",
      "[80]\ttrain-mlogloss:0.7121\n",
      "[81]\ttrain-mlogloss:0.711623\n",
      "[82]\ttrain-mlogloss:0.711194\n",
      "[83]\ttrain-mlogloss:0.710687\n",
      "[84]\ttrain-mlogloss:0.710222\n",
      "[85]\ttrain-mlogloss:0.70971\n",
      "[86]\ttrain-mlogloss:0.709292\n",
      "[87]\ttrain-mlogloss:0.708824\n",
      "[88]\ttrain-mlogloss:0.708325\n",
      "[89]\ttrain-mlogloss:0.707829\n",
      "[90]\ttrain-mlogloss:0.707383\n",
      "[91]\ttrain-mlogloss:0.706951\n",
      "[92]\ttrain-mlogloss:0.70647\n",
      "[93]\ttrain-mlogloss:0.706041\n",
      "[94]\ttrain-mlogloss:0.705616\n",
      "[95]\ttrain-mlogloss:0.705197\n",
      "[96]\ttrain-mlogloss:0.704748\n",
      "[97]\ttrain-mlogloss:0.704277\n",
      "[98]\ttrain-mlogloss:0.703787\n",
      "[99]\ttrain-mlogloss:0.703304\n"
     ]
    }
   ],
   "source": [
    "model = xgb.train(xgb_pars, dfull, num_boost_round=n_estimators, verbose_eval=1,\n",
    "                 evals=watchlist)"
   ]
  },
  {
   "cell_type": "code",
   "execution_count": 218,
   "metadata": {
    "collapsed": false
   },
   "outputs": [],
   "source": [
    "dtest = xgb.DMatrix(df_test[features], feature_names=features)"
   ]
  },
  {
   "cell_type": "code",
   "execution_count": 219,
   "metadata": {
    "collapsed": true
   },
   "outputs": [],
   "source": [
    "ytest1 = model1.predict(dtest)\n",
    "ytest2 = model2.predict(dtest)\n",
    "\n",
    "ytest = model.predict(dtest)"
   ]
  },
  {
   "cell_type": "code",
   "execution_count": 221,
   "metadata": {
    "collapsed": true
   },
   "outputs": [],
   "source": [
    "import seaborn as sns\n",
    "%matplotlib inline"
   ]
  },
  {
   "cell_type": "code",
   "execution_count": 225,
   "metadata": {
    "collapsed": false,
    "scrolled": true
   },
   "outputs": [
    {
     "data": {
      "text/plain": [
       "<matplotlib.axes._subplots.AxesSubplot at 0x7f386cfc3470>"
      ]
     },
     "execution_count": 225,
     "metadata": {},
     "output_type": "execute_result"
    },
    {
     "data": {
      "image/png": "[encoded data removed]",
      "text/plain": [
       "<matplotlib.figure.Figure at 0x7f3861ed55f8>"
      ]
     },
     "metadata": {},
     "output_type": "display_data"
    }
   ],
   "source": [
    "\n",
    "sns.distplot(ytest[:, 2], kde=False)\n",
    "sns.distplot((ytest1[:, 2] + ytest2[:, 2]) / 2, kde=False)\n"
   ]
  },
  {
   "cell_type": "code",
   "execution_count": 233,
   "metadata": {
    "collapsed": false
   },
   "outputs": [],
   "source": [
    "export_cols = [\n",
    "        'listing_id', 'image', \n",
    "        'seconds_from_min',\n",
    "        'geometry',\n",
    "        'geometry_interest_0_mtv',\n",
    "        'geometry_interest_1_mtv',\n",
    "        'geometry_interest_2_mtv',\n",
    "        'filesize',\n",
    "        'no_pixels'\n",
    "    ]\n",
    "\n",
    "\n",
    "df_fold012_res = df_fold012[export_cols + ['interest_level']].copy()\n",
    "for i in [0, 1, 2]:\n",
    "    df_fold012_res['interest_level_xgb_%d' % i] = ypred1[:, i]"
   ]
  },
  {
   "cell_type": "code",
   "execution_count": 229,
   "metadata": {
    "collapsed": true
   },
   "outputs": [],
   "source": [
    "df_fold345_res = df_fold345[export_cols + ['interest_level']].copy()\n",
    "for i in [0, 1, 2]:\n",
    "    df_fold345_res['interest_level_xgb_%d' % i] = ypred2[:, i]"
   ]
  },
  {
   "cell_type": "code",
   "execution_count": 235,
   "metadata": {
    "collapsed": false
   },
   "outputs": [],
   "source": [
    "df_test_res = df_test[export_cols].copy()\n",
    "for i in [0, 1, 2]:\n",
    "    df_test_res['interest_level_xgb_%d' % i] = ytest[:, i]"
   ]
  },
  {
   "cell_type": "code",
   "execution_count": null,
   "metadata": {
    "collapsed": true
   },
   "outputs": [],
   "source": [
    "feather."
   ]
  }
 ],
 "metadata": {
  "anaconda-cloud": {},
  "kernelspec": {
   "display_name": "Python [conda root]",
   "language": "python",
   "name": "conda-root-py"
  },
  "language_info": {
   "codemirror_mode": {
    "name": "ipython",
    "version": 3
   },
   "file_extension": ".py",
   "mimetype": "text/x-python",
   "name": "python",
   "nbconvert_exporter": "python",
   "pygments_lexer": "ipython3",
   "version": "3.5.2"
  }
 },
 "nbformat": 4,
 "nbformat_minor": 1
}
