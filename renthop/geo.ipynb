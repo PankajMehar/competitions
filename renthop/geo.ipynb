{
 "cells": [
  {
   "cell_type": "code",
   "execution_count": 3,
   "metadata": {
    "collapsed": false
   },
   "outputs": [],
   "source": [
    "library(ggplot2)\n",
    "library(ggmap)\n",
    "library(rjson)\n",
    "library(class)\n"
   ]
  },
  {
   "cell_type": "code",
   "execution_count": 5,
   "metadata": {
    "collapsed": false
   },
   "outputs": [],
   "source": [
    "train <- fromJSON(file=\"data/train.json\")\n",
    "\n",
    "df <- data.frame(do.call(\"cbind\", train))"
   ]
  },
  {
   "cell_type": "code",
   "execution_count": 13,
   "metadata": {
    "collapsed": true
   },
   "outputs": [],
   "source": [
    "df_coords <- data.frame(\n",
    "    listing_id=unlist(df$listing_id),\n",
    "    lat=unlist(df$latitude), \n",
    "    long=unlist(df$longitude), \n",
    "    ID=c(1:49352))"
   ]
  },
  {
   "cell_type": "code",
   "execution_count": 7,
   "metadata": {
    "collapsed": true
   },
   "outputs": [],
   "source": [
    "m_neighborhoods <- c(\"Chelsea\", \"Washington Heights\", \"Harlem\", \n",
    "                   \"East Harlem\", \"Upper West Side\", \n",
    "                   \"Upper East Side\", \"Midtown West\", \"Midtown East\",\n",
    "                   \"Greenwich Village\",\n",
    "                   \"Lower East Side\", \"Murray Hill\",\n",
    "                   \"Stuyvesant Town\", \"Upper Manhattan\", \"Hell's Kitchen\", \n",
    "                   \"East Village\", \"SoHo\", \"Financial District\", \"Gramercy\",\n",
    "                   \"Garment District\", \"Morningside Heights\", \"Tribeca\",\n",
    "                   \"Chinatown\", \"Times Square\")\n",
    "\n",
    "b_neighborhoods <- c(\"Bay Ridge\", \"Sunset Park\", \"Bensonhurst\", \"Sheepshead Bay\",\n",
    "                     \"Borough Park\", \"Midwood\", \"Flatbush\", \"East Flatbush\", \n",
    "                     \"Park Slope\", \"East New York\", \"Bedford-Stuyvesant\", \n",
    "                     \"Williamsburg\", \"Greenpoint\", \"Red Hook\", \"Downtown Brooklyn\", \n",
    "                     \"DUMBO\", \"Brownsville\", \"Prospect Park\", \"Fort Hamilton\", \n",
    "                     \"Cypress Hills\", \"Bushwick\", \"Canarsie\", \"Brooklyn Heights\",\n",
    "                     \"Cobble Hill\")\n",
    "\n",
    "q_neighborhoods <- c(\"Astoria\", \"Long Island City\", \"Steinway\", \"Ridgewood\", \"Woodside\", \n",
    "                     \"Elmhurst\", \"Jackson Heights\", \"Corona\", \"Murray Hill\", \"Flushing\", \n",
    "                     \"Kew Gardens\", \"Fresh Meadows\", \"Jamaica\", \"Bayside\", \"Whitestone\")\n",
    "\n",
    "s_neighborhoods <- c(\"West New Brighton\", \"Mariners Harbor\")\n",
    "\n",
    "\n",
    "bx_neighborhoods <- c(\"West Bronx\", \"Yankee Stadium\")\n",
    "\n",
    "nj_neighborhoods <- c(\"Newark\")\n",
    "\n",
    "\n",
    "getCoords <- function(neighborhoods){  \n",
    "  num_n <- length(neighborhoods)\n",
    "  if (neighborhoods[1]==\"Newark\"){\n",
    "    neighborhoods <- paste0(neighborhoods, \", NJ\")\n",
    "  } else {\n",
    "    neighborhoods <- paste0(neighborhoods, \", NY\")\n",
    "  }\n",
    "  \n",
    "  lat <- rep(0, num_n)\n",
    "  lon <- rep(0, num_n)\n",
    "  \n",
    "  for(i in 1:num_n){\n",
    "    n <- neighborhoods[i]\n",
    "    reply <- suppressMessages(geocode(n)) # You may want to expand on this to get status\n",
    "    lat[i] <- reply$lat\n",
    "    lon[i] <- reply$lon\n",
    "  }\n",
    "  \n",
    "  return(data.frame(n=neighborhoods, lat=lat, lon=lon))\n",
    "}"
   ]
  },
  {
   "cell_type": "code",
   "execution_count": 8,
   "metadata": {
    "collapsed": true
   },
   "outputs": [],
   "source": [
    "X <- do.call(\"rbind\", list(getCoords(m_neighborhoods), getCoords(b_neighborhoods), \n",
    "                           getCoords(q_neighborhoods), getCoords(s_neighborhoods),\n",
    "                           getCoords(bx_neighborhoods), getCoords(nj_neighborhoods)))\n",
    "  \n",
    "neighborhoods <- knn(X[, c(\"lat\", \"lon\")], df_coords[, c(1,2)], X$n, k = 1)"
   ]
  },
  {
   "cell_type": "code",
   "execution_count": 39,
   "metadata": {
    "collapsed": true
   },
   "outputs": [],
   "source": [
    "write.csv(X, 'dfs/neighborhoods.csv')"
   ]
  },
  {
   "cell_type": "code",
   "execution_count": 14,
   "metadata": {
    "collapsed": false
   },
   "outputs": [],
   "source": [
    "df_coords['neighborhoods'] = neighborhoods"
   ]
  },
  {
   "cell_type": "code",
   "execution_count": 17,
   "metadata": {
    "collapsed": false
   },
   "outputs": [],
   "source": [
    "write.csv(df_coords, 'dfs/train_neighborhoods.csv')"
   ]
  },
  {
   "cell_type": "code",
   "execution_count": 20,
   "metadata": {
    "collapsed": false
   },
   "outputs": [],
   "source": [
    "test <- fromJSON(file=\"data/test.json\")\n",
    "\n",
    "df <- data.frame(do.call(\"cbind\", test))"
   ]
  },
  {
   "cell_type": "code",
   "execution_count": 29,
   "metadata": {
    "collapsed": true
   },
   "outputs": [],
   "source": [
    "df_coords <- data.frame(\n",
    "    listing_id=unlist(df$listing_id),\n",
    "    lat=unlist(df$latitude), \n",
    "    long=unlist(df$longitude), \n",
    "    ID=c(1:74659))"
   ]
  },
  {
   "cell_type": "code",
   "execution_count": 28,
   "metadata": {
    "collapsed": false
   },
   "outputs": [
    {
     "data": {
      "text/html": [
       "74659"
      ],
      "text/latex": [
       "74659"
      ],
      "text/markdown": [
       "74659"
      ],
      "text/plain": [
       "[1] 74659"
      ]
     },
     "metadata": {},
     "output_type": "display_data"
    }
   ],
   "source": [
    "nrow(df_coords)"
   ]
  },
  {
   "cell_type": "code",
   "execution_count": 34,
   "metadata": {
    "collapsed": true
   },
   "outputs": [],
   "source": [
    "X <- do.call(\"rbind\", list(getCoords(m_neighborhoods), getCoords(b_neighborhoods), \n",
    "                           getCoords(q_neighborhoods), getCoords(s_neighborhoods),\n",
    "                           getCoords(bx_neighborhoods), getCoords(nj_neighborhoods)))\n",
    "  \n",
    "neighborhoods <- knn(X[, c(\"lat\", \"lon\")], df_coords[, c(1,2)], X$n, k = 1)"
   ]
  },
  {
   "cell_type": "code",
   "execution_count": 35,
   "metadata": {
    "collapsed": false
   },
   "outputs": [
    {
     "data": {
      "text/html": [
       "<ol class=list-inline>\n",
       "\t<li>Red Hook, NY</li>\n",
       "\t<li>Red Hook, NY</li>\n",
       "\t<li>Red Hook, NY</li>\n",
       "\t<li>Red Hook, NY</li>\n",
       "\t<li>Red Hook, NY</li>\n",
       "\t<li>Red Hook, NY</li>\n",
       "</ol>\n"
      ],
      "text/latex": [
       "\\begin{enumerate*}\n",
       "\\item Red Hook, NY\n",
       "\\item Red Hook, NY\n",
       "\\item Red Hook, NY\n",
       "\\item Red Hook, NY\n",
       "\\item Red Hook, NY\n",
       "\\item Red Hook, NY\n",
       "\\end{enumerate*}\n"
      ],
      "text/markdown": [
       "1. Red Hook, NY\n",
       "2. Red Hook, NY\n",
       "3. Red Hook, NY\n",
       "4. Red Hook, NY\n",
       "5. Red Hook, NY\n",
       "6. Red Hook, NY\n",
       "\n",
       "\n"
      ],
      "text/plain": [
       "[1] Red Hook, NY Red Hook, NY Red Hook, NY Red Hook, NY Red Hook, NY\n",
       "[6] Red Hook, NY\n",
       "66 Levels: Chelsea, NY Chinatown, NY East Harlem, NY ... Newark, NJ"
      ]
     },
     "metadata": {},
     "output_type": "display_data"
    }
   ],
   "source": [
    "head(neighborhoods)"
   ]
  },
  {
   "cell_type": "code",
   "execution_count": 36,
   "metadata": {
    "collapsed": true
   },
   "outputs": [],
   "source": [
    "df_coords['neighborhoods'] = neighborhoods"
   ]
  },
  {
   "cell_type": "code",
   "execution_count": 37,
   "metadata": {
    "collapsed": true
   },
   "outputs": [],
   "source": [
    "write.csv(df_coords, 'dfs/test_neighborhoods.csv')"
   ]
  },
  {
   "cell_type": "code",
   "execution_count": null,
   "metadata": {
    "collapsed": true
   },
   "outputs": [],
   "source": []
  }
 ],
 "metadata": {
  "anaconda-cloud": {},
  "kernelspec": {
   "display_name": "R",
   "language": "R",
   "name": "ir"
  },
  "language_info": {
   "codemirror_mode": "r",
   "file_extension": ".r",
   "mimetype": "text/x-r-source",
   "name": "R",
   "pygments_lexer": "r",
   "version": "3.3.2"
  }
 },
 "nbformat": 4,
 "nbformat_minor": 1
}
