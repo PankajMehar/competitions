{
 "cells": [
  {
   "cell_type": "code",
   "execution_count": 1,
   "metadata": {
    "collapsed": true
   },
   "outputs": [],
   "source": [
    "import json\n",
    "import csv"
   ]
  },
  {
   "cell_type": "code",
   "execution_count": 23,
   "metadata": {
    "collapsed": true
   },
   "outputs": [],
   "source": [
    "def extract_parentesis(s):\n",
    "    res = s.split()[1]\n",
    "    return res[1:-1]\n",
    "\n",
    "def extract_both(s):\n",
    "    split = s.split()\n",
    "    return split[0], split[1][1:-1]\n",
    "\n",
    "def moment_features(pref, in_dict, out_dict={}):\n",
    "    ellipse_major, ellipse_minor = in_dict['Ellipse Semi-Major/Minor axis'].split(',')\n",
    "\n",
    "    out_dict['moments_' + pref + '_ellipse_major'] = float(ellipse_major)\n",
    "    out_dict['moments_' + pref + '_ellipse_minor'] = float(ellipse_minor)\n",
    "    out_dict['moments_' + pref + '_ellipse_eccentricity'] = float(in_dict['Ellipse eccentricity'])\n",
    "    out_dict['moments_' + pref + '_ellipse_intensity'] = float(extract_parentesis(in_dict['Ellipse intensity']))\n",
    "    out_dict['moments_' + pref + '_ellipse_angle'] = float(in_dict[u'Ellipse angle'])\n",
    "\n",
    "    centroid_x, centroid_y = in_dict[u'Centroid'].split(',')\n",
    "    out_dict['moments_' + pref + '_ellipse_centroid_x'] = float(centroid_x)\n",
    "    out_dict['moments_' + pref + '_ellipse_centroid_y'] = float(centroid_y)\n",
    "\n",
    "    for i in range(1, 9):\n",
    "        #v1, v2 = extract_both(in_dict['I%d' % i])\n",
    "        #out_dict['moments_' + pref + '_I%d_1' % i] = float(v1)\n",
    "        #out_dict['moments_' + pref + '_I%d_2' % i] = float(v2)\n",
    "        v2 = extract_parentesis(in_dict['I%d' % i])\n",
    "        out_dict['moments_' + pref + '_I%d' % i] = float(v2)\n",
    "\n",
    "def phash_features(in_dict, out_dict={}):\n",
    "    for k, phdict in in_dict.items():\n",
    "        k1, k2 = k.lower().split(', ')\n",
    "        for phk, phv in phdict.items():\n",
    "            phv1, phv2 = phv.split(', ')\n",
    "            out_dict['phash_%s_%s' % (k1, phk.lower())] = float(phv1)\n",
    "            out_dict['phash_%s_%s' % (k2, phk.lower())] = float(phv2)\n",
    "        \n",
    "def image_stats_features(pref, in_dict, out_dict={}):\n",
    "    out_dict['imstat_' + pref + '_skewness'] = float(in_dict['skewness'])\n",
    "    out_dict['imstat_' + pref + '_min'] = float(extract_parentesis(in_dict['min']))\n",
    "    out_dict['imstat_' + pref + '_max'] = float(extract_parentesis(in_dict['max']))\n",
    "    out_dict['imstat_' + pref + '_mean'] = float(extract_parentesis(in_dict['mean']))\n",
    "    out_dict['imstat_' + pref + '_std'] = float(extract_parentesis(in_dict['standard deviation']))\n",
    "    out_dict['imstat_' + pref + '_entropy'] = float(in_dict['entropy'])\n",
    "    out_dict['imstat_' + pref + '_kurtosis'] = float(in_dict['kurtosis'])\n",
    "\n",
    "def chromaticity_features(in_dict, out_dict={}):\n",
    "    for k, v in in_dict.items():\n",
    "        k = k.split()[0]\n",
    "        v1, v2 = eval(v)\n",
    "        out_dict['croma_%s_1' % k] = v1\n",
    "        out_dict['croma_%s_2' % k] = v2    \n",
    "\n",
    "def number_pixels(s):\n",
    "    if type(s) in [int, float]:\n",
    "        return s\n",
    "    if s.endswith('K'):\n",
    "        return 1000 * float(s[:-1])\n",
    "\n",
    "    raise Exception('number_pixels: unknown format' + s)\n",
    "\n",
    "def file_size(s):\n",
    "    if s.endswith('KB'):\n",
    "        return 1024 * float(s[:-2])\n",
    "    elif s.endswith('B'):\n",
    "        return float(s[:-1])\n",
    "    elif s.endswith('MB'):\n",
    "        return 1024 * 1024 * float(s[:-2])\n",
    "    raise Exception('file_size: unknown format ' + s)\n",
    "\n",
    "def process_line(line):\n",
    "    image_id, features = line.split('\\t', maxsplit=1)\n",
    "    features = json.loads(features)\n",
    "\n",
    "    res_dict = {'_id': image_id}\n",
    "    res_dict['alpha_color'] = features['Alpha color']\n",
    "    res_dict['bg_color'] =  features['Background color']\n",
    "    \n",
    "    is_gray = features[u'Type'] in [u'Grayscale', u'Bilevel']\n",
    "    if is_gray:\n",
    "        res_dict['color'] = False\n",
    "        moment_features('overall', features[u'Channel moments']['Gray'], res_dict)\n",
    "        moment_features('red', features[u'Channel moments']['Gray'], res_dict)\n",
    "        moment_features('green', features[u'Channel moments']['Gray'], res_dict)\n",
    "        moment_features('blue', features[u'Channel moments']['Gray'], res_dict)\n",
    "\n",
    "        image_stats_features('overall', features[u'Channel statistics']['Gray'], res_dict)\n",
    "        image_stats_features('red', features[u'Channel statistics']['Gray'], res_dict)\n",
    "        image_stats_features('green', features[u'Channel statistics']['Gray'], res_dict)\n",
    "        image_stats_features('blue', features[u'Channel statistics']['Gray'], res_dict)\n",
    "    else:\n",
    "        res_dict['color'] = True\n",
    "        moment_features('overall', features[u'Image moments']['Overall'], res_dict)\n",
    "        moment_features('red', features[u'Channel moments']['Red'], res_dict)\n",
    "        moment_features('green', features[u'Channel moments']['Green'], res_dict)\n",
    "        moment_features('blue', features[u'Channel moments']['Blue'], res_dict)\n",
    "\n",
    "        image_stats_features('overall', features[u'Image statistics']['Overall'], res_dict)\n",
    "        image_stats_features('red', features[u'Channel statistics']['Red'], res_dict)\n",
    "        image_stats_features('green', features[u'Channel statistics']['Green'], res_dict)\n",
    "        image_stats_features('blue', features[u'Channel statistics']['Blue'], res_dict)\n",
    "\n",
    "    phash_features(features[u'Channel perceptual hash'], res_dict)\n",
    "    res_dict['no_pixels'] = number_pixels(features[u'Number pixels'])\n",
    "    res_dict['filesize'] = file_size(features[u'Filesize'])\n",
    "\n",
    "    res_dict['quality'] = features[u'Quality']\n",
    "    res_dict['geometry'] = features[u'Geometry'][:-4]\n",
    "    res_dict['type'] = features[u'Type']\n",
    "    res_dict['colorspace'] = features[u'Colorspace']\n",
    "\n",
    "    props = features[u'Properties']\n",
    "    res_dict['date'] = props[u'date:modify']\n",
    "    #res_dict['signature'] = props[u'signature']\n",
    "\n",
    "    return res_dict"
   ]
  },
  {
   "cell_type": "code",
   "execution_count": 14,
   "metadata": {
    "collapsed": false
   },
   "outputs": [],
   "source": [
    "header = ['_id', 'alpha_color', 'bg_color', 'color', 'colorspace', 'date', 'filesize', 'geometry', \n",
    "          'imstat_blue_entropy', 'imstat_blue_kurtosis', 'imstat_blue_max', 'imstat_blue_mean', \n",
    "          'imstat_blue_min', 'imstat_blue_skewness', 'imstat_blue_std', 'imstat_green_entropy',\n",
    "          'imstat_green_kurtosis', 'imstat_green_max', 'imstat_green_mean', 'imstat_green_min',\n",
    "          'imstat_green_skewness', 'imstat_green_std', 'imstat_overall_entropy', 'imstat_overall_kurtosis',\n",
    "          'imstat_overall_max', 'imstat_overall_mean', 'imstat_overall_min', 'imstat_overall_skewness',\n",
    "          'imstat_overall_std', 'imstat_red_entropy', 'imstat_red_kurtosis', 'imstat_red_max',\n",
    "          'imstat_red_mean', 'imstat_red_min', 'imstat_red_skewness', 'imstat_red_std', 'moments_blue_I1',\n",
    "          'moments_blue_I2', 'moments_blue_I3', 'moments_blue_I4', 'moments_blue_I5', 'moments_blue_I6',\n",
    "          'moments_blue_I7', 'moments_blue_I8', 'moments_blue_ellipse_angle', 'moments_blue_ellipse_centroid_x',\n",
    "          'moments_blue_ellipse_centroid_y', 'moments_blue_ellipse_eccentricity', 'moments_blue_ellipse_intensity',\n",
    "          'moments_blue_ellipse_major', 'moments_blue_ellipse_minor', 'moments_green_I1', 'moments_green_I2',\n",
    "          'moments_green_I3', 'moments_green_I4', 'moments_green_I5', 'moments_green_I6', 'moments_green_I7',\n",
    "          'moments_green_I8', 'moments_green_ellipse_angle', 'moments_green_ellipse_centroid_x', \n",
    "          'moments_green_ellipse_centroid_y', 'moments_green_ellipse_eccentricity', \n",
    "          'moments_green_ellipse_intensity', 'moments_green_ellipse_major', 'moments_green_ellipse_minor',\n",
    "          'moments_overall_I1', 'moments_overall_I2', 'moments_overall_I3', 'moments_overall_I4', \n",
    "          'moments_overall_I5', 'moments_overall_I6', 'moments_overall_I7', 'moments_overall_I8', \n",
    "          'moments_overall_ellipse_angle', 'moments_overall_ellipse_centroid_x', \n",
    "          'moments_overall_ellipse_centroid_y', 'moments_overall_ellipse_eccentricity', \n",
    "          'moments_overall_ellipse_intensity', 'moments_overall_ellipse_major', 'moments_overall_ellipse_minor',\n",
    "          'moments_red_I1', 'moments_red_I2', 'moments_red_I3', 'moments_red_I4', 'moments_red_I5', \n",
    "          'moments_red_I6', 'moments_red_I7', 'moments_red_I8', 'moments_red_ellipse_angle', \n",
    "          'moments_red_ellipse_centroid_x', 'moments_red_ellipse_centroid_y', 'moments_red_ellipse_eccentricity', \n",
    "          'moments_red_ellipse_intensity', 'moments_red_ellipse_major', 'moments_red_ellipse_minor', \n",
    "          'no_pixels', 'phash_blue_ph1', 'phash_blue_ph2', 'phash_blue_ph3', 'phash_blue_ph4', 'phash_blue_ph5', \n",
    "          'phash_blue_ph6', 'phash_blue_ph7', 'phash_chroma_ph1', 'phash_chroma_ph2', 'phash_chroma_ph3', \n",
    "          'phash_chroma_ph4', 'phash_chroma_ph5', 'phash_chroma_ph6', 'phash_chroma_ph7', 'phash_green_ph1',\n",
    "          'phash_green_ph2', 'phash_green_ph3', 'phash_green_ph4', 'phash_green_ph5', 'phash_green_ph6',\n",
    "          'phash_green_ph7', 'phash_hue_ph1', 'phash_hue_ph2', 'phash_hue_ph3', 'phash_hue_ph4', 'phash_hue_ph5',\n",
    "          'phash_hue_ph6', 'phash_hue_ph7', 'phash_luma_ph1', 'phash_luma_ph2', 'phash_luma_ph3', 'phash_luma_ph4',\n",
    "          'phash_luma_ph5', 'phash_luma_ph6', 'phash_luma_ph7', 'phash_red_ph1', 'phash_red_ph2', 'phash_red_ph3',\n",
    "          'phash_red_ph4', 'phash_red_ph5', 'phash_red_ph6', 'phash_red_ph7', 'quality', 'type']"
   ]
  },
  {
   "cell_type": "code",
   "execution_count": 30,
   "metadata": {
    "collapsed": true
   },
   "outputs": [],
   "source": [
    "csv_res_file = open('imagemagick_features_res.csv', 'w')\n",
    "\n",
    "writer = csv.DictWriter(csv_res_file, fieldnames=header)"
   ]
  },
  {
   "cell_type": "code",
   "execution_count": 31,
   "metadata": {
    "collapsed": true
   },
   "outputs": [],
   "source": [
    "writer.writeheader()"
   ]
  },
  {
   "cell_type": "code",
   "execution_count": 32,
   "metadata": {
    "collapsed": true
   },
   "outputs": [],
   "source": [
    "from tqdm import tqdm"
   ]
  },
  {
   "cell_type": "code",
   "execution_count": 33,
   "metadata": {
    "collapsed": false
   },
   "outputs": [
    {
     "name": "stderr",
     "output_type": "stream",
     "text": [
      "692156it [07:34, 1522.07it/s]\n"
     ]
    }
   ],
   "source": [
    "with open('imagemagick_features.txt') as f:\n",
    "    for line in tqdm(f):\n",
    "        d = process_line(line.strip())\n",
    "        writer.writerow(d)"
   ]
  },
  {
   "cell_type": "code",
   "execution_count": 34,
   "metadata": {
    "collapsed": true
   },
   "outputs": [],
   "source": [
    "csv_res_file.flush()\n",
    "csv_res_file.close()"
   ]
  },
  {
   "cell_type": "code",
   "execution_count": 2,
   "metadata": {
    "collapsed": true
   },
   "outputs": [],
   "source": [
    "import re\n",
    "\n",
    "import numpy as np\n",
    "import pandas as pd\n",
    "\n",
    "import os\n",
    "\n",
    "from tqdm import tqdm\n",
    "import gc\n",
    "\n",
    "from sklearn.utils import shuffle\n",
    "from sklearn.metrics import log_loss\n",
    "\n",
    "import feather"
   ]
  },
  {
   "cell_type": "code",
   "execution_count": 3,
   "metadata": {
    "collapsed": true
   },
   "outputs": [],
   "source": [
    "df_train = pd.read_json('data/train.json')\n",
    "df_test = pd.read_json('data/test.json')"
   ]
  },
  {
   "cell_type": "code",
   "execution_count": 4,
   "metadata": {
    "collapsed": true
   },
   "outputs": [],
   "source": [
    "def extract_file_name(url):\n",
    "    return url[url.rfind('/')+1:]"
   ]
  },
  {
   "cell_type": "code",
   "execution_count": 5,
   "metadata": {
    "collapsed": true
   },
   "outputs": [],
   "source": [
    "np.random.seed(1)\n",
    "folds = np.random.choice([0, 1, 2, 3, 4, 5], size=len(df_train))\n",
    "df_train['fold'] = folds.astype('uint8')"
   ]
  },
  {
   "cell_type": "code",
   "execution_count": 6,
   "metadata": {
    "collapsed": true
   },
   "outputs": [],
   "source": [
    "interest_level_map = {'low': 0, 'medium': 1, 'high': 2}\n",
    "df_train.interest_level = df_train.interest_level.apply(lambda x: interest_level_map.get(x, -1))"
   ]
  },
  {
   "cell_type": "code",
   "execution_count": 7,
   "metadata": {
    "collapsed": false
   },
   "outputs": [],
   "source": [
    "images_train = []\n",
    "\n",
    "for row in df_train.itertuples():\n",
    "    id = row.listing_id\n",
    "    fold = row.fold\n",
    "    lev = row.interest_level\n",
    "    for p in row.photos:\n",
    "        path = extract_file_name(p)\n",
    "        images_train.append((id, path, lev, fold))"
   ]
  },
  {
   "cell_type": "code",
   "execution_count": 8,
   "metadata": {
    "collapsed": false
   },
   "outputs": [
    {
     "data": {
      "text/html": [
       "<div>\n",
       "<table border=\"1\" class=\"dataframe\">\n",
       "  <thead>\n",
       "    <tr style=\"text-align: right;\">\n",
       "      <th></th>\n",
       "      <th>listing_id</th>\n",
       "      <th>image</th>\n",
       "      <th>interest_level</th>\n",
       "      <th>fold</th>\n",
       "    </tr>\n",
       "  </thead>\n",
       "  <tbody>\n",
       "    <tr>\n",
       "      <th>136798</th>\n",
       "      <td>7234004</td>\n",
       "      <td>7234004_471899ecee3126b170f68b4555e92f45.jpg</td>\n",
       "      <td>1</td>\n",
       "      <td>0</td>\n",
       "    </tr>\n",
       "    <tr>\n",
       "      <th>247061</th>\n",
       "      <td>6947851</td>\n",
       "      <td>6947851_1b323983edc41e22c2d0ab6cc5fcfb77.jpg</td>\n",
       "      <td>1</td>\n",
       "      <td>3</td>\n",
       "    </tr>\n",
       "    <tr>\n",
       "      <th>181087</th>\n",
       "      <td>7064283</td>\n",
       "      <td>7064283_a462dcfdb5929c8a00af16eccf9c8aa3.jpg</td>\n",
       "      <td>0</td>\n",
       "      <td>1</td>\n",
       "    </tr>\n",
       "    <tr>\n",
       "      <th>7257</th>\n",
       "      <td>6813365</td>\n",
       "      <td>6813365_4ad9176e9ee78ef050bf550f845dcd74.jpg</td>\n",
       "      <td>1</td>\n",
       "      <td>3</td>\n",
       "    </tr>\n",
       "    <tr>\n",
       "      <th>33607</th>\n",
       "      <td>6875160</td>\n",
       "      <td>6875160_cf121fe5a5aa0e8adcd4de427b9b2494.jpg</td>\n",
       "      <td>0</td>\n",
       "      <td>5</td>\n",
       "    </tr>\n",
       "  </tbody>\n",
       "</table>\n",
       "</div>"
      ],
      "text/plain": [
       "        listing_id                                         image  \\\n",
       "136798     7234004  7234004_471899ecee3126b170f68b4555e92f45.jpg   \n",
       "247061     6947851  6947851_1b323983edc41e22c2d0ab6cc5fcfb77.jpg   \n",
       "181087     7064283  7064283_a462dcfdb5929c8a00af16eccf9c8aa3.jpg   \n",
       "7257       6813365  6813365_4ad9176e9ee78ef050bf550f845dcd74.jpg   \n",
       "33607      6875160  6875160_cf121fe5a5aa0e8adcd4de427b9b2494.jpg   \n",
       "\n",
       "        interest_level  fold  \n",
       "136798               1     0  \n",
       "247061               1     3  \n",
       "181087               0     1  \n",
       "7257                 1     3  \n",
       "33607                0     5  "
      ]
     },
     "execution_count": 8,
     "metadata": {},
     "output_type": "execute_result"
    }
   ],
   "source": [
    "df_images_train = pd.DataFrame(images_train, columns=['listing_id', 'image', 'interest_level', 'fold'])\n",
    "df_images_train.sample(n=5)"
   ]
  },
  {
   "cell_type": "code",
   "execution_count": 9,
   "metadata": {
    "collapsed": false
   },
   "outputs": [],
   "source": [
    "images_test = []\n",
    "\n",
    "for row in df_test.itertuples():\n",
    "    id = row.listing_id\n",
    "    for p in row.photos:\n",
    "        path = extract_file_name(p)\n",
    "        images_test.append((id, path))"
   ]
  },
  {
   "cell_type": "code",
   "execution_count": 10,
   "metadata": {
    "collapsed": false
   },
   "outputs": [
    {
     "data": {
      "text/html": [
       "<div>\n",
       "<table border=\"1\" class=\"dataframe\">\n",
       "  <thead>\n",
       "    <tr style=\"text-align: right;\">\n",
       "      <th></th>\n",
       "      <th>listing_id</th>\n",
       "      <th>image</th>\n",
       "    </tr>\n",
       "  </thead>\n",
       "  <tbody>\n",
       "    <tr>\n",
       "      <th>334950</th>\n",
       "      <td>6955855</td>\n",
       "      <td>6955855_df81a971dbecd0afc4bb5e73a2874ba7.jpg</td>\n",
       "    </tr>\n",
       "    <tr>\n",
       "      <th>237453</th>\n",
       "      <td>6994781</td>\n",
       "      <td>6994781_ea45afc5fee56ea1af5d8feb30464928.jpg</td>\n",
       "    </tr>\n",
       "    <tr>\n",
       "      <th>323950</th>\n",
       "      <td>6981834</td>\n",
       "      <td>6981834_c8d2c7bafa6f3f3ef09cc7074d52710d.jpg</td>\n",
       "    </tr>\n",
       "    <tr>\n",
       "      <th>138090</th>\n",
       "      <td>7091800</td>\n",
       "      <td>7091800_c514528233417240c0a93622bf403b6a.jpg</td>\n",
       "    </tr>\n",
       "    <tr>\n",
       "      <th>76765</th>\n",
       "      <td>7099109</td>\n",
       "      <td>7099109_9d48aed035b754796cac3e55aa8246a7.jpg</td>\n",
       "    </tr>\n",
       "  </tbody>\n",
       "</table>\n",
       "</div>"
      ],
      "text/plain": [
       "        listing_id                                         image\n",
       "334950     6955855  6955855_df81a971dbecd0afc4bb5e73a2874ba7.jpg\n",
       "237453     6994781  6994781_ea45afc5fee56ea1af5d8feb30464928.jpg\n",
       "323950     6981834  6981834_c8d2c7bafa6f3f3ef09cc7074d52710d.jpg\n",
       "138090     7091800  7091800_c514528233417240c0a93622bf403b6a.jpg\n",
       "76765      7099109  7099109_9d48aed035b754796cac3e55aa8246a7.jpg"
      ]
     },
     "execution_count": 10,
     "metadata": {},
     "output_type": "execute_result"
    }
   ],
   "source": [
    "df_images_test = pd.DataFrame(images_test, columns=['listing_id', 'image'])\n",
    "df_images_test.sample(n=5)"
   ]
  },
  {
   "cell_type": "code",
   "execution_count": 11,
   "metadata": {
    "collapsed": false
   },
   "outputs": [],
   "source": [
    "for i in [0, 1, 2]:\n",
    "    df_images_train['interest_%s' % i] = (df_images_train.interest_level == i).astype('uint8')"
   ]
  },
  {
   "cell_type": "code",
   "execution_count": 15,
   "metadata": {
    "collapsed": false
   },
   "outputs": [],
   "source": [
    "dtypes = {'_id': 'O',\n",
    "     'alpha_color': 'O',\n",
    "     'bg_color': 'O',\n",
    "     'color': 'bool',\n",
    "     'colorspace': 'O',\n",
    "     'date': 'O',\n",
    "     'geometry': 'O',\n",
    "     'type': 'O'}\n",
    "\n",
    "for t in header:\n",
    "    if t not in dtypes:\n",
    "        dtypes[t] = 'float32'"
   ]
  },
  {
   "cell_type": "code",
   "execution_count": 16,
   "metadata": {
    "collapsed": false
   },
   "outputs": [],
   "source": [
    "df_im = pd.read_csv('imagemagick_features_res.csv', dtype=dtypes)\n",
    "del df_im['alpha_color']\n",
    "del df_im['bg_color']\n",
    "del df_im['color']\n",
    "del df_im['colorspace']\n",
    "del df_im['type']\n",
    "del df_im['quality']"
   ]
  },
  {
   "cell_type": "code",
   "execution_count": 17,
   "metadata": {
    "collapsed": false
   },
   "outputs": [],
   "source": [
    "df_im.date = pd.to_datetime(df_im.date)\n",
    "from_start = (df_im.date - df_im.date.min())\n",
    "sec_from_start = from_start / np.timedelta64(1, 's')\n",
    "df_im['seconds_from_min'] = sec_from_start.astype('float32')\n",
    "del df_im['date']"
   ]
  },
  {
   "cell_type": "code",
   "execution_count": 20,
   "metadata": {
    "collapsed": true
   },
   "outputs": [],
   "source": [
    "df_train = df_images_train.merge(df_im, left_on='image', right_on='_id')\n",
    "del df_train['_id']\n",
    "df_test = df_images_test.merge(df_im, left_on='image', right_on='_id')\n",
    "del df_test['_id']"
   ]
  },
  {
   "cell_type": "code",
   "execution_count": 26,
   "metadata": {
    "collapsed": false
   },
   "outputs": [],
   "source": [
    "def fit_mtv(df, target_col, cat_col, C):\n",
    "    m0 = (df[target_col] == 1).mean()\n",
    "\n",
    "    cnt = df[df[target_col] == 1][cat_col].value_counts()\n",
    "    cnt_all = df[cat_col].value_counts()\n",
    "\n",
    "    probs = (cnt + C * m0) / (cnt_all + C)\n",
    "    return probs, m0\n",
    "\n",
    "def transform_mtv(df_target, probs, m0):\n",
    "    probs_targ = probs[df_target[cat_col]].reset_index(drop=1)\n",
    "    probs_targ.fillna(m0, inplace=1)\n",
    "    return probs_targ.values"
   ]
  },
  {
   "cell_type": "code",
   "execution_count": 27,
   "metadata": {
    "collapsed": false,
    "scrolled": true
   },
   "outputs": [
    {
     "name": "stderr",
     "output_type": "stream",
     "text": [
      "100%|██████████| 6/6 [00:02<00:00,  2.90it/s]\n"
     ]
    }
   ],
   "source": [
    "C = 12\n",
    "cat_col = 'geometry'\n",
    "\n",
    "for i in tqdm([0, 1, 2, 3, 4, 5]):\n",
    "    df_train_fold = df_train[df_train.fold != i].reset_index(drop=1)\n",
    "    df_test_fold = df_train[df_train.fold == i].reset_index(drop=1)\n",
    "\n",
    "    for target_col in ['interest_0', 'interest_1', 'interest_2']:\n",
    "        res_name = '%s_%s_mtv' % (cat_col, target_col)\n",
    "\n",
    "        probs, m0 = fit_mtv(df_train_fold, target_col, cat_col, C=C)\n",
    "        df_train.loc[df_train.fold == i, res_name] = transform_mtv(df_test_fold, probs, m0)"
   ]
  },
  {
   "cell_type": "code",
   "execution_count": 29,
   "metadata": {
    "collapsed": false
   },
   "outputs": [],
   "source": [
    "C = 12\n",
    "cat_col = 'geometry'\n",
    "\n",
    "for target_col in ['interest_0', 'interest_1', 'interest_2']:\n",
    "    res_name = '%s_%s_mtv' % (cat_col, target_col)\n",
    "\n",
    "    probs, m0 = fit_mtv(df_train, target_col, cat_col, C=C)\n",
    "    df_test[res_name] = transform_mtv(df_test, probs, m0)"
   ]
  },
  {
   "cell_type": "code",
   "execution_count": 31,
   "metadata": {
    "collapsed": false,
    "scrolled": true
   },
   "outputs": [],
   "source": [
    "exclude = {'listing_id', 'image', 'interest_level', 'fold',\n",
    "           'interest_0', 'interest_1', 'interest_2', 'geometry'}\n",
    "\n",
    "features = sorted(set(df_train.columns) - exclude)"
   ]
  },
  {
   "cell_type": "code",
   "execution_count": 32,
   "metadata": {
    "collapsed": true
   },
   "outputs": [],
   "source": [
    "import xgboost as xgb"
   ]
  },
  {
   "cell_type": "code",
   "execution_count": 34,
   "metadata": {
    "collapsed": true
   },
   "outputs": [],
   "source": [
    "xgb_pars = {\n",
    "    'eta': 0.15,\n",
    "    'gamma': 0,\n",
    "    'max_depth': 6,\n",
    "    'min_child_weight': 1,\n",
    "    'max_delta_step': 0,\n",
    "    'subsample': 0.6,\n",
    "    'colsample_bytree': 0.6,\n",
    "    'colsample_bylevel': 1,\n",
    "    'lambda': 1,\n",
    "    'alpha': 0,\n",
    "    'tree_method': 'approx',\n",
    "# not deafauts\n",
    "    'objective': 'multi:softprob',\n",
    "    'eval_metric': 'mlogloss',\n",
    "    'num_class': 3,\n",
    "    'nthread': 8,\n",
    "    'seed': 42,\n",
    "    'silent': 1\n",
    "}\n",
    "\n",
    "n_estimators = 100\n"
   ]
  },
  {
   "cell_type": "code",
   "execution_count": 37,
   "metadata": {
    "collapsed": false,
    "scrolled": true
   },
   "outputs": [
    {
     "name": "stderr",
     "output_type": "stream",
     "text": [
      "\n",
      "  0%|          | 0/6 [00:00<?, ?it/s]\u001b[A"
     ]
    },
    {
     "name": "stdout",
     "output_type": "stream",
     "text": [
      "[0]\ttrain-mlogloss:1.02717\tval-mlogloss:1.02763\n"
     ]
    },
    {
     "name": "stderr",
     "output_type": "stream",
     "text": [
      "\n"
     ]
    },
    {
     "name": "stdout",
     "output_type": "stream",
     "text": [
      "[10]\ttrain-mlogloss:0.786614\tval-mlogloss:0.790121\n",
      "[20]\ttrain-mlogloss:0.748396\tval-mlogloss:0.755955\n",
      "[30]\ttrain-mlogloss:0.736463\tval-mlogloss:0.748617\n",
      "[40]\ttrain-mlogloss:0.728633\tval-mlogloss:0.745687\n",
      "[50]\ttrain-mlogloss:0.722116\tval-mlogloss:0.744162\n",
      "[60]\ttrain-mlogloss:0.716322\tval-mlogloss:0.742909\n",
      "[70]\ttrain-mlogloss:0.710849\tval-mlogloss:0.742227\n",
      "[80]\ttrain-mlogloss:0.70533\tval-mlogloss:0.741519\n",
      "[90]\ttrain-mlogloss:0.700274\tval-mlogloss:0.741052\n"
     ]
    },
    {
     "name": "stderr",
     "output_type": "stream",
     "text": [
      "\r",
      " 17%|█▋        | 1/6 [01:43<08:35, 103.08s/it]"
     ]
    },
    {
     "name": "stdout",
     "output_type": "stream",
     "text": [
      "[0]\ttrain-mlogloss:1.02683\tval-mlogloss:1.02841\n",
      "[10]\ttrain-mlogloss:0.781886\tval-mlogloss:0.793629\n",
      "[20]\ttrain-mlogloss:0.745401\tval-mlogloss:0.765076\n",
      "[30]\ttrain-mlogloss:0.733425\tval-mlogloss:0.760251\n",
      "[40]\ttrain-mlogloss:0.725684\tval-mlogloss:0.758819\n",
      "[50]\ttrain-mlogloss:0.719554\tval-mlogloss:0.757887\n",
      "[60]\ttrain-mlogloss:0.713504\tval-mlogloss:0.757131\n",
      "[70]\ttrain-mlogloss:0.707591\tval-mlogloss:0.756563\n",
      "[80]\ttrain-mlogloss:0.701708\tval-mlogloss:0.756006\n",
      "[90]\ttrain-mlogloss:0.696565\tval-mlogloss:0.755444\n"
     ]
    },
    {
     "name": "stderr",
     "output_type": "stream",
     "text": [
      "\r",
      " 33%|███▎      | 2/6 [03:24<06:50, 102.51s/it]"
     ]
    },
    {
     "name": "stdout",
     "output_type": "stream",
     "text": [
      "[0]\ttrain-mlogloss:1.03079\tval-mlogloss:1.0336\n",
      "[10]\ttrain-mlogloss:0.781941\tval-mlogloss:0.804328\n",
      "[20]\ttrain-mlogloss:0.743729\tval-mlogloss:0.775759\n",
      "[30]\ttrain-mlogloss:0.7319\tval-mlogloss:0.770517\n",
      "[40]\ttrain-mlogloss:0.724122\tval-mlogloss:0.768882\n",
      "[50]\ttrain-mlogloss:0.717573\tval-mlogloss:0.767932\n",
      "[60]\ttrain-mlogloss:0.711591\tval-mlogloss:0.7666\n",
      "[70]\ttrain-mlogloss:0.706278\tval-mlogloss:0.765927\n",
      "[80]\ttrain-mlogloss:0.7004\tval-mlogloss:0.765255\n",
      "[90]\ttrain-mlogloss:0.695403\tval-mlogloss:0.764486\n"
     ]
    },
    {
     "name": "stderr",
     "output_type": "stream",
     "text": [
      "\r",
      " 50%|█████     | 3/6 [05:04<05:05, 101.86s/it]"
     ]
    },
    {
     "name": "stdout",
     "output_type": "stream",
     "text": [
      "[0]\ttrain-mlogloss:1.02696\tval-mlogloss:1.02776\n",
      "[10]\ttrain-mlogloss:0.782617\tval-mlogloss:0.792858\n",
      "[20]\ttrain-mlogloss:0.745972\tval-mlogloss:0.764048\n",
      "[30]\ttrain-mlogloss:0.734131\tval-mlogloss:0.759029\n",
      "[40]\ttrain-mlogloss:0.726668\tval-mlogloss:0.757444\n",
      "[50]\ttrain-mlogloss:0.720056\tval-mlogloss:0.756026\n",
      "[60]\ttrain-mlogloss:0.713802\tval-mlogloss:0.755131\n",
      "[70]\ttrain-mlogloss:0.708069\tval-mlogloss:0.754438\n",
      "[80]\ttrain-mlogloss:0.702753\tval-mlogloss:0.753766\n",
      "[90]\ttrain-mlogloss:0.697458\tval-mlogloss:0.753543\n"
     ]
    },
    {
     "name": "stderr",
     "output_type": "stream",
     "text": [
      "\r",
      " 67%|██████▋   | 4/6 [06:44<03:22, 101.32s/it]"
     ]
    },
    {
     "name": "stdout",
     "output_type": "stream",
     "text": [
      "[0]\ttrain-mlogloss:1.03161\tval-mlogloss:1.03018\n",
      "[10]\ttrain-mlogloss:0.785855\tval-mlogloss:0.78094\n",
      "[20]\ttrain-mlogloss:0.749731\tval-mlogloss:0.747699\n",
      "[30]\ttrain-mlogloss:0.737946\tval-mlogloss:0.741135\n",
      "[40]\ttrain-mlogloss:0.730266\tval-mlogloss:0.73921\n",
      "[50]\ttrain-mlogloss:0.723633\tval-mlogloss:0.738027\n",
      "[60]\ttrain-mlogloss:0.717936\tval-mlogloss:0.737157\n",
      "[70]\ttrain-mlogloss:0.712553\tval-mlogloss:0.736248\n",
      "[80]\ttrain-mlogloss:0.707236\tval-mlogloss:0.7355\n",
      "[90]\ttrain-mlogloss:0.702012\tval-mlogloss:0.73498\n"
     ]
    },
    {
     "name": "stderr",
     "output_type": "stream",
     "text": [
      "\r",
      " 83%|████████▎ | 5/6 [08:39<01:45, 105.51s/it]"
     ]
    },
    {
     "name": "stdout",
     "output_type": "stream",
     "text": [
      "[0]\ttrain-mlogloss:1.02821\tval-mlogloss:1.02833\n",
      "[10]\ttrain-mlogloss:0.78647\tval-mlogloss:0.786125\n",
      "[20]\ttrain-mlogloss:0.749281\tval-mlogloss:0.751623\n",
      "[30]\ttrain-mlogloss:0.737446\tval-mlogloss:0.744114\n",
      "[40]\ttrain-mlogloss:0.729626\tval-mlogloss:0.741027\n",
      "[50]\ttrain-mlogloss:0.723566\tval-mlogloss:0.73963\n",
      "[60]\ttrain-mlogloss:0.71745\tval-mlogloss:0.738459\n",
      "[70]\ttrain-mlogloss:0.711973\tval-mlogloss:0.737483\n",
      "[80]\ttrain-mlogloss:0.706601\tval-mlogloss:0.736615\n",
      "[90]\ttrain-mlogloss:0.701257\tval-mlogloss:0.735751\n"
     ]
    },
    {
     "name": "stderr",
     "output_type": "stream",
     "text": [
      "100%|██████████| 6/6 [10:21<00:00, 104.33s/it]\n"
     ]
    }
   ],
   "source": [
    "for i in tqdm([0, 1, 2, 3, 4, 5]):\n",
    "    train_idx = df_train.fold != i\n",
    "    val_idx = df_train.fold == i\n",
    "\n",
    "    X_train = df_train[train_idx][features].values\n",
    "    y_train = df_train[train_idx].interest_level.values\n",
    "    X_val = df_train[val_idx][features].values\n",
    "    y_val = df_train[val_idx].interest_level.values\n",
    "\n",
    "    dtrain = xgb.DMatrix(X_train, label=y_train, feature_names=features)\n",
    "    dval = xgb.DMatrix(X_val, label=y_val, feature_names=features)\n",
    "\n",
    "    watchlist = [(dtrain, 'train'), (dval, 'val')]\n",
    "\n",
    "    model = xgb.train(xgb_pars, dtrain, num_boost_round=n_estimators, verbose_eval=10,\n",
    "                 evals=watchlist)\n",
    "\n",
    "    ypred = model.predict(dval)\n",
    "\n",
    "    for i in [0, 1, 2]:\n",
    "        df_train.loc[val_idx, 'interest_level_xgb_%d' % i] = ypred[:, i]"
   ]
  },
  {
   "cell_type": "code",
   "execution_count": 38,
   "metadata": {
    "collapsed": false,
    "scrolled": true
   },
   "outputs": [
    {
     "name": "stdout",
     "output_type": "stream",
     "text": [
      "feature importance:\n",
      " - seconds_from_min: 39.7189\n",
      " - geometry_interest_0_mtv: 22.8024\n",
      " - geometry_interest_2_mtv: 10.9328\n",
      " - geometry_interest_1_mtv: 9.1919\n",
      " - filesize: 8.7095\n",
      " - no_pixels: 7.5591\n",
      " - phash_blue_ph1: 6.4866\n",
      " - phash_red_ph1: 6.1640\n",
      " - moments_overall_ellipse_eccentricity: 6.1422\n",
      " - moments_red_I2: 5.9906\n",
      " - moments_overall_ellipse_centroid_y: 5.9529\n",
      " - moments_red_ellipse_intensity: 5.9463\n",
      " - phash_red_ph2: 5.8751\n",
      " - moments_green_ellipse_minor: 5.8070\n",
      " - imstat_overall_min: 5.8028\n",
      " - imstat_blue_mean: 5.7422\n",
      " - moments_green_ellipse_eccentricity: 5.7343\n",
      " - moments_red_ellipse_major: 5.7179\n",
      " - phash_luma_ph2: 5.7117\n",
      " - moments_red_ellipse_minor: 5.7099\n",
      " - moments_blue_ellipse_intensity: 5.6997\n",
      " - moments_overall_ellipse_intensity: 5.6882\n",
      " - phash_hue_ph1: 5.5987\n",
      " - imstat_red_std: 5.5978\n",
      " - imstat_overall_mean: 5.5953\n",
      " - phash_luma_ph1: 5.5705\n",
      " - imstat_red_skewness: 5.5567\n",
      " - moments_overall_I2: 5.5152\n",
      " - moments_overall_ellipse_major: 5.5131\n",
      " - phash_blue_ph3: 5.5017\n",
      " - imstat_blue_min: 5.4969\n",
      " - phash_luma_ph4: 5.4704\n",
      " - phash_blue_ph2: 5.4594\n",
      " - moments_blue_ellipse_major: 5.4429\n",
      " - imstat_overall_skewness: 5.4331\n",
      " - moments_overall_ellipse_minor: 5.4047\n",
      " - phash_green_ph1: 5.3965\n",
      " - moments_red_ellipse_eccentricity: 5.3904\n",
      " - moments_red_ellipse_centroid_y: 5.3534\n",
      " - moments_blue_I1: 5.3522\n",
      " - imstat_red_max: 5.3178\n",
      " - imstat_red_min: 5.3123\n",
      " - moments_green_I2: 5.2912\n",
      " - moments_green_I1: 5.2700\n",
      " - moments_blue_ellipse_eccentricity: 5.2638\n",
      " - phash_chroma_ph1: 5.2582\n",
      " - moments_green_ellipse_intensity: 5.2384\n",
      " - phash_hue_ph2: 5.2304\n",
      " - phash_hue_ph7: 5.2204\n",
      " - phash_chroma_ph2: 5.1989\n",
      " - imstat_red_entropy: 5.1921\n",
      " - moments_green_ellipse_centroid_y: 5.1777\n",
      " - moments_overall_I1: 5.1578\n",
      " - moments_green_ellipse_major: 5.1538\n",
      " - moments_green_I7: 5.1360\n",
      " - phash_luma_ph3: 5.1289\n",
      " - phash_green_ph3: 5.1205\n",
      " - moments_overall_ellipse_centroid_x: 5.1132\n",
      " - phash_green_ph2: 5.1099\n",
      " - imstat_green_max: 5.1086\n",
      " - moments_red_I6: 5.1055\n",
      " - moments_overall_I8: 5.0988\n",
      " - imstat_blue_skewness: 5.0902\n",
      " - imstat_green_min: 5.0714\n",
      " - moments_blue_ellipse_centroid_y: 5.0711\n",
      " - imstat_overall_std: 5.0596\n",
      " - moments_blue_ellipse_centroid_x: 5.0508\n",
      " - phash_blue_ph7: 5.0483\n",
      " - imstat_red_mean: 5.0370\n",
      " - phash_chroma_ph7: 5.0294\n",
      " - phash_luma_ph5: 5.0245\n",
      " - imstat_green_skewness: 5.0228\n",
      " - moments_red_I1: 5.0122\n",
      " - phash_chroma_ph5: 5.0048\n",
      " - moments_red_ellipse_centroid_x: 5.0025\n",
      " - phash_red_ph4: 4.9944\n",
      " - phash_red_ph5: 4.9921\n",
      " - phash_chroma_ph6: 4.9917\n",
      " - phash_blue_ph6: 4.9765\n",
      " - moments_green_ellipse_centroid_x: 4.9703\n",
      " - moments_green_I6: 4.9689\n",
      " - phash_green_ph4: 4.9589\n",
      " - moments_overall_I6: 4.9531\n",
      " - phash_green_ph5: 4.9514\n",
      " - moments_blue_ellipse_minor: 4.9383\n",
      " - phash_blue_ph5: 4.9295\n",
      " - phash_hue_ph6: 4.9281\n",
      " - phash_luma_ph7: 4.9261\n",
      " - moments_blue_I4: 4.9212\n",
      " - imstat_blue_entropy: 4.9201\n",
      " - phash_luma_ph6: 4.9165\n",
      " - phash_hue_ph3: 4.8996\n",
      " - phash_green_ph6: 4.8931\n",
      " - moments_green_I3: 4.8907\n",
      " - imstat_red_kurtosis: 4.8905\n",
      " - phash_green_ph7: 4.8740\n",
      " - phash_hue_ph4: 4.8622\n",
      " - moments_red_I3: 4.8605\n",
      " - moments_red_I7: 4.8593\n",
      " - moments_overall_I3: 4.8577\n",
      " - phash_red_ph6: 4.8502\n",
      " - imstat_overall_entropy: 4.8442\n",
      " - imstat_green_entropy: 4.8403\n",
      " - imstat_blue_kurtosis: 4.8266\n",
      " - moments_blue_I3: 4.8066\n",
      " - phash_blue_ph4: 4.8057\n",
      " - moments_red_I4: 4.7870\n",
      " - imstat_green_kurtosis: 4.7694\n",
      " - phash_red_ph7: 4.7636\n",
      " - moments_overall_I7: 4.7528\n",
      " - moments_red_ellipse_angle: 4.7225\n",
      " - moments_blue_I8: 4.7188\n",
      " - moments_blue_I5: 4.7101\n",
      " - imstat_blue_std: 4.7098\n",
      " - moments_green_I4: 4.7085\n",
      " - moments_red_I8: 4.7040\n",
      " - phash_chroma_ph3: 4.6713\n",
      " - moments_blue_I2: 4.6590\n",
      " - imstat_overall_max: 4.6449\n",
      " - phash_chroma_ph4: 4.6300\n",
      " - phash_hue_ph5: 4.6255\n",
      " - moments_overall_I4: 4.6204\n",
      " - moments_blue_I7: 4.5909\n",
      " - imstat_overall_kurtosis: 4.5865\n",
      " - imstat_green_mean: 4.5848\n",
      " - imstat_green_std: 4.5472\n",
      " - moments_green_I5: 4.5420\n",
      " - moments_red_I5: 4.5395\n",
      " - moments_blue_I6: 4.5394\n",
      " - phash_red_ph3: 4.5175\n",
      " - moments_overall_ellipse_angle: 4.4781\n",
      " - moments_green_I8: 4.4753\n",
      " - imstat_blue_max: 4.3635\n",
      " - moments_green_ellipse_angle: 4.3556\n",
      " - moments_blue_ellipse_angle: 4.3163\n",
      " - moments_overall_I5: 3.7942\n",
      "not used features: set()\n"
     ]
    }
   ],
   "source": [
    "print('feature importance:')\n",
    "\n",
    "scores = model.get_score(importance_type='gain')\n",
    "\n",
    "for n, s in sorted(scores.items(), key=lambda x: -x[1]):\n",
    "    print(' - %s: %.4f' % (n, s))\n",
    "\n",
    "not_used = set(features) - scores.keys()\n",
    "print('not used features: %s' % not_used)"
   ]
  },
  {
   "cell_type": "code",
   "execution_count": 39,
   "metadata": {
    "collapsed": false
   },
   "outputs": [
    {
     "name": "stdout",
     "output_type": "stream",
     "text": [
      "[0]\ttrain-mlogloss:1.02994\n",
      "[10]\ttrain-mlogloss:0.785228\n",
      "[20]\ttrain-mlogloss:0.749266\n",
      "[30]\ttrain-mlogloss:0.737736\n",
      "[40]\ttrain-mlogloss:0.730357\n",
      "[50]\ttrain-mlogloss:0.724692\n",
      "[60]\ttrain-mlogloss:0.719521\n",
      "[70]\ttrain-mlogloss:0.714565\n",
      "[80]\ttrain-mlogloss:0.709857\n",
      "[90]\ttrain-mlogloss:0.705578\n"
     ]
    }
   ],
   "source": [
    "X_train = df_train[features].values\n",
    "y_train = df_train.interest_level.values\n",
    "\n",
    "dtrain = xgb.DMatrix(X_train, label=y_train, feature_names=features)\n",
    "watchlist = [(dtrain, 'train')]\n",
    "\n",
    "model = xgb.train(xgb_pars, dtrain, num_boost_round=n_estimators, verbose_eval=10,\n",
    "                  evals=watchlist)"
   ]
  },
  {
   "cell_type": "code",
   "execution_count": 40,
   "metadata": {
    "collapsed": false
   },
   "outputs": [],
   "source": [
    "dtest = xgb.DMatrix(df_test[features], feature_names=features)"
   ]
  },
  {
   "cell_type": "code",
   "execution_count": 41,
   "metadata": {
    "collapsed": true
   },
   "outputs": [],
   "source": [
    "ytest = model.predict(dtest)"
   ]
  },
  {
   "cell_type": "code",
   "execution_count": 55,
   "metadata": {
    "collapsed": false
   },
   "outputs": [],
   "source": [
    "for i in [0, 1, 2]:\n",
    "    df_test['interest_level_xgb_%d' % i] = ytest[:, i]"
   ]
  },
  {
   "cell_type": "code",
   "execution_count": 52,
   "metadata": {
    "collapsed": false
   },
   "outputs": [],
   "source": [
    "export_cols = [\n",
    "        'listing_id', 'image', \n",
    "        'seconds_from_min',\n",
    "        'filesize',\n",
    "        'no_pixels',\n",
    "        'geometry',\n",
    "        'geometry_interest_0_mtv',\n",
    "        'geometry_interest_1_mtv',\n",
    "        'geometry_interest_2_mtv',\n",
    "        'interest_level_xgb_0',\n",
    "        'interest_level_xgb_1',\n",
    "        'interest_level_xgb_2'\n",
    "    ]"
   ]
  },
  {
   "cell_type": "code",
   "execution_count": 53,
   "metadata": {
    "collapsed": false
   },
   "outputs": [],
   "source": [
    "df_train_export = df_train[export_cols + ['interest_level']]\n",
    "df_test_export = df_test[export_cols]"
   ]
  },
  {
   "cell_type": "code",
   "execution_count": 66,
   "metadata": {
    "collapsed": true
   },
   "outputs": [],
   "source": [
    "def stats(vals, prefix, res=None):\n",
    "    if res is None:\n",
    "        res = {}\n",
    "    res[prefix + '_mean'] = np.mean(vals)\n",
    "    res[prefix + '_min'] = np.min(vals)\n",
    "    res[prefix + '_max'] = np.max(vals)\n",
    "    res[prefix + '_std'] = np.std(vals)\n",
    "    return res"
   ]
  },
  {
   "cell_type": "code",
   "execution_count": 67,
   "metadata": {
    "collapsed": true
   },
   "outputs": [],
   "source": [
    "def calculate_group_features(group):\n",
    "    res = {}\n",
    "    stats(group['seconds_from_min'], 'seconds_from_min', res)\n",
    "    stats(group['filesize'], 'filesize', res)\n",
    "    stats(group['no_pixels'], 'no_pixels', res)\n",
    "    for i in [0, 1, 2]:\n",
    "        stats(group['geometry_interest_%d_mtv' % i], 'geometry_interest_%d_mtv' % i, res)\n",
    "        stats(group['interest_level_xgb_%d' % i], 'interest_level_xgb_%d' % i, res)\n",
    "    res['geometries'] = ' '.join(group['geometry'])\n",
    "    return pd.Series(res)"
   ]
  },
  {
   "cell_type": "code",
   "execution_count": 69,
   "metadata": {
    "collapsed": false
   },
   "outputs": [],
   "source": [
    "df_train_group = df_train_export.groupby('listing_id').apply(calculate_group_features)\n",
    "df_train_group.reset_index(inplace=1)"
   ]
  },
  {
   "cell_type": "code",
   "execution_count": 70,
   "metadata": {
    "collapsed": false
   },
   "outputs": [],
   "source": [
    "df_test_group = df_test_export.groupby('listing_id').apply(calculate_group_features)\n",
    "df_test_group.reset_index(inplace=1)"
   ]
  },
  {
   "cell_type": "code",
   "execution_count": 82,
   "metadata": {
    "collapsed": false
   },
   "outputs": [],
   "source": [
    "feather.write_dataframe(df_train_group, 'dfs/df_train_group.feather')\n",
    "feather.write_dataframe(df_test_group, 'dfs/df_test_group.feather')"
   ]
  },
  {
   "cell_type": "code",
   "execution_count": null,
   "metadata": {
    "collapsed": true
   },
   "outputs": [],
   "source": []
  }
 ],
 "metadata": {
  "anaconda-cloud": {},
  "kernelspec": {
   "display_name": "Python [conda root]",
   "language": "python",
   "name": "conda-root-py"
  },
  "language_info": {
   "codemirror_mode": {
    "name": "ipython",
    "version": 3
   },
   "file_extension": ".py",
   "mimetype": "text/x-python",
   "name": "python",
   "nbconvert_exporter": "python",
   "pygments_lexer": "ipython3",
   "version": "3.5.2"
  }
 },
 "nbformat": 4,
 "nbformat_minor": 1
}
