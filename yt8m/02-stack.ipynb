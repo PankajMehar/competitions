{
 "cells": [
  {
   "cell_type": "code",
   "execution_count": 1,
   "metadata": {
    "collapsed": true
   },
   "outputs": [],
   "source": [
    "import gc\n",
    "\n",
    "import numpy as np\n",
    "import scipy.sparse as sp\n",
    "\n",
    "from sklearn.utils import shuffle\n",
    "from tqdm import tqdm_notebook as tqdm"
   ]
  },
  {
   "cell_type": "code",
   "execution_count": 2,
   "metadata": {
    "collapsed": false
   },
   "outputs": [
    {
     "name": "stderr",
     "output_type": "stream",
     "text": [
      "Using TensorFlow backend.\n"
     ]
    }
   ],
   "source": [
    "from keras.models import Sequential\n",
    "from keras.layers.core import Dense, Dropout, Activation\n",
    "from keras.optimizers import SGD, Adam\n",
    "from keras.layers.normalization import BatchNormalization\n",
    "from keras.layers.advanced_activations import PReLU"
   ]
  },
  {
   "cell_type": "code",
   "execution_count": 3,
   "metadata": {
    "collapsed": true
   },
   "outputs": [],
   "source": [
    "# from http://stackoverflow.com/a/8980156/861423\n",
    "\n",
    "def save_sparse_csr(filename, array):\n",
    "    np.savez(filename, data=array.data, indices=array.indices, indptr=array.indptr, shape=array.shape)\n",
    "\n",
    "def load_sparse_csr(filename):\n",
    "    loader = np.load(filename)\n",
    "    return sp.csr_matrix((loader['data'], loader['indices'], loader['indptr']), shape=loader['shape'])"
   ]
  },
  {
   "cell_type": "code",
   "execution_count": 4,
   "metadata": {
    "collapsed": true
   },
   "outputs": [],
   "source": [
    "def nnet():\n",
    "    model = Sequential()\n",
    "\n",
    "    model.add(Dense(input_dim=1152, units=5500, kernel_initializer='glorot_uniform'))\n",
    "    model.add(PReLU())\n",
    "    model.add(Dropout(0.5))\n",
    "\n",
    "    model.add(BatchNormalization())\n",
    "\n",
    "    model.add(Dense(units=4716, kernel_initializer='glorot_uniform')) \n",
    "    model.add(Activation('sigmoid'))\n",
    "\n",
    "    model.compile(loss='binary_crossentropy', optimizer=Adam(lr=0.01))\n",
    "    \n",
    "    return model"
   ]
  },
  {
   "cell_type": "code",
   "execution_count": 5,
   "metadata": {
    "collapsed": false
   },
   "outputs": [],
   "source": [
    "nnet_model = nnet()\n",
    "nnet_model.load_weights('ololo.bin')"
   ]
  },
  {
   "cell_type": "code",
   "execution_count": 6,
   "metadata": {
    "collapsed": true
   },
   "outputs": [],
   "source": [
    "import pickle"
   ]
  },
  {
   "cell_type": "code",
   "execution_count": 7,
   "metadata": {
    "collapsed": true
   },
   "outputs": [],
   "source": [
    "with open('scaler.bin', 'rb') as f:\n",
    "    scaler = pickle.load(f)"
   ]
  },
  {
   "cell_type": "code",
   "execution_count": 8,
   "metadata": {
    "collapsed": true
   },
   "outputs": [],
   "source": [
    "X_val = np.load('X_val.npy')\n",
    "y_val = load_sparse_csr('y_val.npz')"
   ]
  },
  {
   "cell_type": "code",
   "execution_count": 9,
   "metadata": {
    "collapsed": false,
    "scrolled": true
   },
   "outputs": [],
   "source": [
    "knn_val = load_sparse_csr('knn_pred_val.npz')\n",
    "knn_test = load_sparse_csr('knn_pred_test.npz')"
   ]
  },
  {
   "cell_type": "code",
   "execution_count": 11,
   "metadata": {
    "collapsed": true
   },
   "outputs": [],
   "source": [
    "n = 10000\n",
    "n_val = 20000"
   ]
  },
  {
   "cell_type": "code",
   "execution_count": 12,
   "metadata": {
    "collapsed": true
   },
   "outputs": [],
   "source": [
    "import xgboost as xgb"
   ]
  },
  {
   "cell_type": "code",
   "execution_count": 13,
   "metadata": {
    "collapsed": false,
    "scrolled": true
   },
   "outputs": [],
   "source": [
    "xgbs = {}\n",
    "\n",
    "for i in range(4716):\n",
    "    try:\n",
    "        xgbs[i] = xgb.Booster(model_file='xgb_models/model_%d.xgb' % i)\n",
    "    except:\n",
    "        pass\n",
    "        #print('cannot load model for class %d' % i)"
   ]
  },
  {
   "cell_type": "code",
   "execution_count": 15,
   "metadata": {
    "collapsed": false
   },
   "outputs": [],
   "source": [
    "d = 4\n",
    "X_train_reshaped = np.zeros((n * 4716, d), dtype='float16')\n",
    "X_val_reshaped = np.zeros((n_val * 4716, d), dtype='float16')"
   ]
  },
  {
   "cell_type": "code",
   "execution_count": 16,
   "metadata": {
    "collapsed": false
   },
   "outputs": [],
   "source": [
    "idx_shuffled = shuffle(np.arange(X_val.shape[0]), random_state=1)\n",
    "\n",
    "train_sample_idx = idx_shuffled[:n]\n",
    "val_sample_idx = idx_shuffled[n:(n+n_val)]"
   ]
  },
  {
   "cell_type": "code",
   "execution_count": 17,
   "metadata": {
    "collapsed": true
   },
   "outputs": [],
   "source": [
    "X_sample_train = X_val[train_sample_idx]\n",
    "X_sample_val = X_val[val_sample_idx]"
   ]
  },
  {
   "cell_type": "code",
   "execution_count": 18,
   "metadata": {
    "collapsed": true
   },
   "outputs": [],
   "source": [
    "dtrain = xgb.DMatrix(X_sample_train)\n",
    "dval = xgb.DMatrix(X_sample_val)"
   ]
  },
  {
   "cell_type": "code",
   "execution_count": 19,
   "metadata": {
    "collapsed": true
   },
   "outputs": [],
   "source": [
    "X_xgb_train = np.full((n, 4716), 0, dtype='float16')\n",
    "X_miss_train = np.full((n, 4716), 1, dtype='float16')\n",
    "\n",
    "X_xgb_val = np.full((n_val, 4716), 0, dtype='float16')\n",
    "X_miss_val = np.full((n_val, 4716), 1, dtype='float16')"
   ]
  },
  {
   "cell_type": "code",
   "execution_count": 20,
   "metadata": {
    "collapsed": false
   },
   "outputs": [
    {
     "name": "stderr",
     "output_type": "stream",
     "text": [
      "/home/agrigorev/anaconda3/lib/python3.6/site-packages/ipywidgets/widgets/widget.py:166: DeprecationWarning: Widget._keys_default is deprecated in traitlets 4.1: use @default decorator instead.\n",
      "  def _keys_default(self):\n"
     ]
    },
    {
     "name": "stdout",
     "output_type": "stream",
     "text": [
      "\n"
     ]
    }
   ],
   "source": [
    "for i in tqdm(range(4716)):\n",
    "    if i not in xgbs:\n",
    "        continue\n",
    "    X_xgb_train[:, i] = xgbs[i].predict(dtrain)\n",
    "    X_miss_train[:, i] = 0.0\n",
    "\n",
    "    X_xgb_val[:, i] = xgbs[i].predict(dval)\n",
    "    X_miss_val[:, i] = 0.0"
   ]
  },
  {
   "cell_type": "code",
   "execution_count": 21,
   "metadata": {
    "collapsed": false
   },
   "outputs": [],
   "source": [
    "X_train_reshaped[:, 0] = X_xgb_train.flatten()\n",
    "X_train_reshaped[:, 1] = X_miss_train.flatten()"
   ]
  },
  {
   "cell_type": "code",
   "execution_count": 22,
   "metadata": {
    "collapsed": false
   },
   "outputs": [],
   "source": [
    "knn_d = knn_val[train_sample_idx].toarray().reshape(-1)\n",
    "X_train_reshaped[:, 2] = knn_d / 48.531"
   ]
  },
  {
   "cell_type": "code",
   "execution_count": 48,
   "metadata": {
    "collapsed": true
   },
   "outputs": [],
   "source": [
    "knn_sample_val = knn_val[val_sample_idx].toarray() / 48.531"
   ]
  },
  {
   "cell_type": "code",
   "execution_count": 28,
   "metadata": {
    "collapsed": false
   },
   "outputs": [],
   "source": [
    "nnet_d = nnet_model.predict(scaler.transform(X_sample_train))\n",
    "X_train_reshaped[:, 3] = nnet_d.reshape(-1)\n",
    "del nnet_d"
   ]
  },
  {
   "cell_type": "code",
   "execution_count": 23,
   "metadata": {
    "collapsed": false
   },
   "outputs": [],
   "source": [
    "y_train = np.asarray(y_val[train_sample_idx].todense()).reshape(-1)"
   ]
  },
  {
   "cell_type": "code",
   "execution_count": 24,
   "metadata": {
    "collapsed": false
   },
   "outputs": [
    {
     "data": {
      "text/plain": [
       "6"
      ]
     },
     "execution_count": 24,
     "metadata": {},
     "output_type": "execute_result"
    }
   ],
   "source": [
    "gc.collect()"
   ]
  },
  {
   "cell_type": "code",
   "execution_count": 25,
   "metadata": {
    "collapsed": true
   },
   "outputs": [],
   "source": [
    "from sklearn.linear_model import LogisticRegression"
   ]
  },
  {
   "cell_type": "code",
   "execution_count": 30,
   "metadata": {
    "collapsed": true
   },
   "outputs": [],
   "source": [
    "lr = LogisticRegression(C=1.0, random_state=1, solver='liblinear')"
   ]
  },
  {
   "cell_type": "code",
   "execution_count": 46,
   "metadata": {
    "collapsed": false
   },
   "outputs": [
    {
     "name": "stdout",
     "output_type": "stream",
     "text": [
      "CPU times: user 1min 1s, sys: 1.3 s, total: 1min 2s\n",
      "Wall time: 1min 2s\n"
     ]
    },
    {
     "data": {
      "text/plain": [
       "LogisticRegression(C=1.0, class_weight=None, dual=False, fit_intercept=True,\n",
       "          intercept_scaling=1, max_iter=100, multi_class='ovr', n_jobs=1,\n",
       "          penalty='l2', random_state=1, solver='liblinear', tol=0.0001,\n",
       "          verbose=0, warm_start=False)"
      ]
     },
     "execution_count": 46,
     "metadata": {},
     "output_type": "execute_result"
    }
   ],
   "source": [
    "%time lr.fit(X_train_reshaped[:,[2,3]], y_train, )"
   ]
  },
  {
   "cell_type": "code",
   "execution_count": 47,
   "metadata": {
    "collapsed": false
   },
   "outputs": [
    {
     "data": {
      "text/plain": [
       "array([  7.32869425,  13.87249349])"
      ]
     },
     "execution_count": 47,
     "metadata": {},
     "output_type": "execute_result"
    }
   ],
   "source": [
    "lr.coef_[0]"
   ]
  },
  {
   "cell_type": "code",
   "execution_count": 32,
   "metadata": {
    "collapsed": false
   },
   "outputs": [
    {
     "data": {
      "text/plain": [
       "array([ -0.29514885,  -2.0692742 ,   6.93966496,  13.42163642])"
      ]
     },
     "execution_count": 32,
     "metadata": {},
     "output_type": "execute_result"
    }
   ],
   "source": [
    "lr.coef_[0]"
   ]
  },
  {
   "cell_type": "code",
   "execution_count": 26,
   "metadata": {
    "collapsed": false
   },
   "outputs": [
    {
     "data": {
      "text/plain": [
       "array([  8.00144297,  -2.22362558,  19.1382344 ])"
      ]
     },
     "execution_count": 26,
     "metadata": {},
     "output_type": "execute_result"
    }
   ],
   "source": [
    "lr.coef_[0]"
   ]
  },
  {
   "cell_type": "code",
   "execution_count": 36,
   "metadata": {
    "collapsed": true
   },
   "outputs": [],
   "source": [
    "nn_val = nnet_model.predict(scaler.transform(X_sample_val))"
   ]
  },
  {
   "cell_type": "code",
   "execution_count": 51,
   "metadata": {
    "collapsed": false
   },
   "outputs": [],
   "source": [
    "pred_val = -0.29514885 * X_xgb_val + \\\n",
    "           -2.0692742 * X_miss_val + \\\n",
    "            6.93966496 * knn_sample_val + \\\n",
    "            13.42163642 * nn_val"
   ]
  },
  {
   "cell_type": "code",
   "execution_count": 53,
   "metadata": {
    "collapsed": false
   },
   "outputs": [],
   "source": [
    "pred_val = 7.32869425 * knn_sample_val + \\\n",
    "           13.872493494 * nn_val"
   ]
  },
  {
   "cell_type": "code",
   "execution_count": 41,
   "metadata": {
    "collapsed": true
   },
   "outputs": [],
   "source": [
    "def ap_at_n(predictions, actuals, n=20):\n",
    "    \n",
    "    sortidx = (-predictions).argsort()\n",
    "    numpos = (actuals > 0).sum()\n",
    "    if numpos == 0:\n",
    "        return 0\n",
    "\n",
    "    numpos = min(numpos, n)\n",
    "    delta_recall = 1.0 / numpos\n",
    "\n",
    "    ap = 0.0\n",
    "    poscount = 0.0\n",
    "\n",
    "    for i in range(n):\n",
    "        if actuals[sortidx[i]] > 0:\n",
    "            poscount += 1\n",
    "            ap += poscount / (i + 1) * delta_recall\n",
    "    return ap\n",
    "\n",
    "def gap(pred, actual):\n",
    "    all = 0.0\n",
    "    cnt = 0\n",
    "    for i in range(len(pred)):\n",
    "        v = ap_at_n(pred[i], actual[i], n=20)\n",
    "        all = all + v\n",
    "        cnt = cnt + 1\n",
    "    return all / cnt"
   ]
  },
  {
   "cell_type": "code",
   "execution_count": 54,
   "metadata": {
    "collapsed": false
   },
   "outputs": [
    {
     "data": {
      "text/plain": [
       "0.78568446192758623"
      ]
     },
     "execution_count": 54,
     "metadata": {},
     "output_type": "execute_result"
    }
   ],
   "source": [
    "gap(pred_val, y_val[val_sample_idx].toarray())"
   ]
  },
  {
   "cell_type": "code",
   "execution_count": 55,
   "metadata": {
    "collapsed": true
   },
   "outputs": [],
   "source": [
    "X_test = np.load('X_test.npy')"
   ]
  },
  {
   "cell_type": "code",
   "execution_count": 56,
   "metadata": {
    "collapsed": true
   },
   "outputs": [],
   "source": [
    "nn_test = nnet_model.predict(scaler.transform(X_test))"
   ]
  },
  {
   "cell_type": "code",
   "execution_count": 59,
   "metadata": {
    "collapsed": true
   },
   "outputs": [],
   "source": [
    "y_pred = 7.32869425 * (knn_test.toarray() / 48.531) + \\\n",
    "           13.872493494 * nn_test"
   ]
  },
  {
   "cell_type": "code",
   "execution_count": 61,
   "metadata": {
    "collapsed": true
   },
   "outputs": [],
   "source": [
    "def prepare_pred_row(prow):\n",
    "    classes = (-prow).argsort()[:20]\n",
    "    scores = prow[classes]\n",
    "    return ' '.join(['%d %0.3f' % (c, s) for (c, s) in zip(classes, scores)])"
   ]
  },
  {
   "cell_type": "code",
   "execution_count": 62,
   "metadata": {
    "collapsed": true
   },
   "outputs": [],
   "source": [
    "with open('test_ids.bin', 'rb') as f:\n",
    "    test_ids = pickle.load(f)"
   ]
  },
  {
   "cell_type": "code",
   "execution_count": 63,
   "metadata": {
    "collapsed": false
   },
   "outputs": [
    {
     "name": "stdout",
     "output_type": "stream",
     "text": [
      "\n"
     ]
    }
   ],
   "source": [
    "with open('subm_stack.csv', 'w') as f:\n",
    "    f.write('VideoId,LabelConfidencePairs\\n')\n",
    "\n",
    "    for id, prow in tqdm(zip(test_ids, y_pred), total=len(test_ids)):\n",
    "        lab_conf = prepare_pred_row(prow)\n",
    "        f.write('%s,%s\\n' % (id, lab_conf))"
   ]
  },
  {
   "cell_type": "code",
   "execution_count": 64,
   "metadata": {
    "collapsed": true
   },
   "outputs": [],
   "source": [
    "!gzip subm_stack.csv"
   ]
  },
  {
   "cell_type": "code",
   "execution_count": null,
   "metadata": {
    "collapsed": true
   },
   "outputs": [],
   "source": []
  }
 ],
 "metadata": {
  "kernelspec": {
   "display_name": "Python 3",
   "language": "python",
   "name": "python3"
  },
  "language_info": {
   "codemirror_mode": {
    "name": "ipython",
    "version": 3
   },
   "file_extension": ".py",
   "mimetype": "text/x-python",
   "name": "python",
   "nbconvert_exporter": "python",
   "pygments_lexer": "ipython3",
   "version": "3.6.0"
  },
  "widgets": {
   "state": {
    "587f7f951ddb4cf192489f274d4fc19c": {
     "views": [
      {
       "cell_index": 17
      }
     ]
    },
    "83bb654cdc9e4c7fbab81daa717ef803": {
     "views": [
      {
       "cell_index": 40
      }
     ]
    }
   },
   "version": "1.2.0"
  }
 },
 "nbformat": 4,
 "nbformat_minor": 2
}
