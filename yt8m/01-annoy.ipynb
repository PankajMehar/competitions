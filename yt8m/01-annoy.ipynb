{
 "cells": [
  {
   "cell_type": "code",
   "execution_count": 1,
   "metadata": {
    "collapsed": true
   },
   "outputs": [],
   "source": [
    "import numpy as np\n",
    "import pandas as pd \n",
    "\n",
    "import scipy.sparse as sp\n",
    "\n",
    "from tqdm import tqdm_notebook as tqdm\n",
    "\n",
    "from time import time\n",
    "\n",
    "from annoy import AnnoyIndex"
   ]
  },
  {
   "cell_type": "code",
   "execution_count": 2,
   "metadata": {
    "collapsed": true
   },
   "outputs": [],
   "source": [
    "def ap_at_n(predictions, actuals, n=20):\n",
    "    \n",
    "    sortidx = (-predictions).argsort()\n",
    "    numpos = (actuals > 0).sum()\n",
    "    if numpos == 0:\n",
    "        return 0\n",
    "\n",
    "    numpos = min(numpos, n)\n",
    "    delta_recall = 1.0 / numpos\n",
    "\n",
    "    ap = 0.0\n",
    "    poscount = 0.0\n",
    "\n",
    "    for i in range(n):\n",
    "        if actuals[sortidx[i]] > 0:\n",
    "            poscount += 1\n",
    "            ap += poscount / (i + 1) * delta_recall\n",
    "    return ap\n",
    "\n",
    "def gap(pred, actual):\n",
    "    all = 0.0\n",
    "    cnt = 0\n",
    "    for i in range(len(pred)):\n",
    "        v = ap_at_n(pred[i], actual[i], n=20)\n",
    "        all = all + v\n",
    "        cnt = cnt + 1\n",
    "    return all / cnt\n",
    "\n",
    "def gap_sparse(pred, actual):\n",
    "    all = 0.0\n",
    "    cnt = 0\n",
    "    for i in range(len(pred)):\n",
    "        p = pred[i].toarray().reshape(-1)\n",
    "        a = actual[i].toarray().reshape(-1)\n",
    "        v = ap_at_n(p, a, n=20)\n",
    "        all = all + v\n",
    "        cnt = cnt + 1\n",
    "    return all / cnt"
   ]
  },
  {
   "cell_type": "code",
   "execution_count": 3,
   "metadata": {
    "collapsed": true
   },
   "outputs": [],
   "source": [
    "X_0_train = np.load('X_train_0.npy')\n",
    "X_1_train = np.load('X_train_1.npy')\n",
    "X_val = np.load('X_val.npy')"
   ]
  },
  {
   "cell_type": "code",
   "execution_count": 4,
   "metadata": {
    "collapsed": true
   },
   "outputs": [],
   "source": [
    "# from http://stackoverflow.com/a/8980156/861423\n",
    "\n",
    "def save_sparse_csr(filename, array):\n",
    "    np.savez(filename, data=array.data, indices=array.indices, indptr=array.indptr, shape=array.shape)\n",
    "\n",
    "def load_sparse_csr(filename):\n",
    "    loader = np.load(filename)\n",
    "    return sp.csr_matrix((loader['data'], loader['indices'], loader['indptr']), shape=loader['shape'])"
   ]
  },
  {
   "cell_type": "code",
   "execution_count": 5,
   "metadata": {
    "collapsed": true
   },
   "outputs": [],
   "source": [
    "y_0 = load_sparse_csr('y_0.npz')\n",
    "y_1 = load_sparse_csr('y_1.npz')\n",
    "y_val = load_sparse_csr('y_val.npz')"
   ]
  },
  {
   "cell_type": "code",
   "execution_count": null,
   "metadata": {
    "collapsed": true
   },
   "outputs": [
    {
     "name": "stdout",
     "output_type": "stream",
     "text": [
      "\n"
     ]
    },
    {
     "ename": "KeyboardInterrupt",
     "evalue": "",
     "output_type": "error",
     "traceback": [
      "\u001b[0;31m---------------------------------------------------------------------------\u001b[0m",
      "\u001b[0;31mKeyboardInterrupt\u001b[0m                         Traceback (most recent call last)",
      "\u001b[0;32m<ipython-input-6-1038ba64ac5a>\u001b[0m in \u001b[0;36m<module>\u001b[0;34m()\u001b[0m\n\u001b[1;32m      3\u001b[0m \u001b[0;32mfor\u001b[0m \u001b[0mi\u001b[0m \u001b[0;32min\u001b[0m \u001b[0mtqdm\u001b[0m\u001b[0;34m(\u001b[0m\u001b[0mrange\u001b[0m\u001b[0;34m(\u001b[0m\u001b[0mlen\u001b[0m\u001b[0;34m(\u001b[0m\u001b[0mX_0_train\u001b[0m\u001b[0;34m)\u001b[0m\u001b[0;34m)\u001b[0m\u001b[0;34m)\u001b[0m\u001b[0;34m:\u001b[0m\u001b[0;34m\u001b[0m\u001b[0m\n\u001b[1;32m      4\u001b[0m     \u001b[0mrow\u001b[0m \u001b[0;34m=\u001b[0m \u001b[0mX_0_train\u001b[0m\u001b[0;34m[\u001b[0m\u001b[0mi\u001b[0m\u001b[0;34m]\u001b[0m\u001b[0;34m\u001b[0m\u001b[0m\n\u001b[0;32m----> 5\u001b[0;31m     \u001b[0mindex_0\u001b[0m\u001b[0;34m.\u001b[0m\u001b[0madd_item\u001b[0m\u001b[0;34m(\u001b[0m\u001b[0mi\u001b[0m\u001b[0;34m,\u001b[0m \u001b[0mrow\u001b[0m\u001b[0;34m)\u001b[0m\u001b[0;34m\u001b[0m\u001b[0m\n\u001b[0m",
      "\u001b[0;32m/home/agrigorev/anaconda3/lib/python3.5/site-packages/annoy/__init__.py\u001b[0m in \u001b[0;36madd_item\u001b[0;34m(self, i, vector)\u001b[0m\n\u001b[1;32m     47\u001b[0m         \"\"\"\n\u001b[1;32m     48\u001b[0m         \u001b[0;31m# Wrapper to convert inputs to list\u001b[0m\u001b[0;34m\u001b[0m\u001b[0;34m\u001b[0m\u001b[0m\n\u001b[0;32m---> 49\u001b[0;31m         \u001b[0;32mreturn\u001b[0m \u001b[0msuper\u001b[0m\u001b[0;34m(\u001b[0m\u001b[0mAnnoyIndex\u001b[0m\u001b[0;34m,\u001b[0m \u001b[0mself\u001b[0m\u001b[0;34m)\u001b[0m\u001b[0;34m.\u001b[0m\u001b[0madd_item\u001b[0m\u001b[0;34m(\u001b[0m\u001b[0mself\u001b[0m\u001b[0;34m.\u001b[0m\u001b[0mcheck_item\u001b[0m\u001b[0;34m(\u001b[0m\u001b[0mi\u001b[0m\u001b[0;34m,\u001b[0m \u001b[0mbuilding\u001b[0m\u001b[0;34m=\u001b[0m\u001b[0;32mTrue\u001b[0m\u001b[0;34m)\u001b[0m\u001b[0;34m,\u001b[0m \u001b[0mself\u001b[0m\u001b[0;34m.\u001b[0m\u001b[0mcheck_list\u001b[0m\u001b[0;34m(\u001b[0m\u001b[0mvector\u001b[0m\u001b[0;34m)\u001b[0m\u001b[0;34m)\u001b[0m\u001b[0;34m\u001b[0m\u001b[0m\n\u001b[0m\u001b[1;32m     50\u001b[0m \u001b[0;34m\u001b[0m\u001b[0m\n\u001b[1;32m     51\u001b[0m     \u001b[0;32mdef\u001b[0m \u001b[0mget_nns_by_vector\u001b[0m\u001b[0;34m(\u001b[0m\u001b[0mself\u001b[0m\u001b[0;34m,\u001b[0m \u001b[0mvector\u001b[0m\u001b[0;34m,\u001b[0m \u001b[0mn\u001b[0m\u001b[0;34m,\u001b[0m \u001b[0msearch_k\u001b[0m\u001b[0;34m=\u001b[0m\u001b[0;34m-\u001b[0m\u001b[0;36m1\u001b[0m\u001b[0;34m,\u001b[0m \u001b[0minclude_distances\u001b[0m\u001b[0;34m=\u001b[0m\u001b[0;32mFalse\u001b[0m\u001b[0;34m)\u001b[0m\u001b[0;34m:\u001b[0m\u001b[0;34m\u001b[0m\u001b[0m\n",
      "\u001b[0;31mKeyboardInterrupt\u001b[0m: "
     ]
    }
   ],
   "source": [
    "index_0 = AnnoyIndex(1152)\n",
    "\n",
    "for i in tqdm(range(len(X_0_train))):\n",
    "    row = X_0_train[i]\n",
    "    index_0.add_item(i, row)"
   ]
  },
  {
   "cell_type": "code",
   "execution_count": null,
   "metadata": {
    "collapsed": false
   },
   "outputs": [],
   "source": [
    "t0 = time()\n",
    "\n",
    "index_0.build(50)\n",
    "\n",
    "print('building index took %.3s' % (time() - t0))"
   ]
  },
  {
   "cell_type": "code",
   "execution_count": 11,
   "metadata": {
    "collapsed": false,
    "scrolled": true
   },
   "outputs": [
    {
     "data": {
      "text/plain": [
       "True"
      ]
     },
     "execution_count": 11,
     "metadata": {},
     "output_type": "execute_result"
    }
   ],
   "source": [
    "index_0.save('index_0.ann')"
   ]
  },
  {
   "cell_type": "code",
   "execution_count": 6,
   "metadata": {
    "collapsed": false
   },
   "outputs": [
    {
     "data": {
      "text/plain": [
       "True"
      ]
     },
     "execution_count": 6,
     "metadata": {},
     "output_type": "execute_result"
    }
   ],
   "source": [
    "index_0 = AnnoyIndex(1152)\n",
    "index_0.load('index_0.ann')"
   ]
  },
  {
   "cell_type": "code",
   "execution_count": 9,
   "metadata": {
    "collapsed": false
   },
   "outputs": [
    {
     "name": "stdout",
     "output_type": "stream",
     "text": [
      "\n"
     ]
    }
   ],
   "source": [
    "index_1 = AnnoyIndex(1152)\n",
    "\n",
    "for i in tqdm(range(len(X_1_train))):\n",
    "    row = X_1_train[i]\n",
    "    index_1.add_item(i, row)"
   ]
  },
  {
   "cell_type": "code",
   "execution_count": 10,
   "metadata": {
    "collapsed": false
   },
   "outputs": [
    {
     "name": "stdout",
     "output_type": "stream",
     "text": [
      "building index took 788\n"
     ]
    }
   ],
   "source": [
    "t0 = time()\n",
    "\n",
    "index_1.build(50)\n",
    "\n",
    "print('building index took %.3fs' % (time() - t0))"
   ]
  },
  {
   "cell_type": "code",
   "execution_count": 12,
   "metadata": {
    "collapsed": false
   },
   "outputs": [
    {
     "data": {
      "text/plain": [
       "True"
      ]
     },
     "execution_count": 12,
     "metadata": {},
     "output_type": "execute_result"
    }
   ],
   "source": [
    "index_1.save('index_1.ann')"
   ]
  },
  {
   "cell_type": "code",
   "execution_count": 7,
   "metadata": {
    "collapsed": false
   },
   "outputs": [
    {
     "data": {
      "text/plain": [
       "True"
      ]
     },
     "execution_count": 7,
     "metadata": {},
     "output_type": "execute_result"
    }
   ],
   "source": [
    "index_1 = AnnoyIndex(1152)\n",
    "index_1.load('index_1.ann')"
   ]
  },
  {
   "cell_type": "code",
   "execution_count": 8,
   "metadata": {
    "collapsed": false
   },
   "outputs": [],
   "source": [
    "def dist_to_cos(d):\n",
    "    return 1 - 0.5 * d * d\n",
    "\n",
    "def knn_pred(y, idx, dst):\n",
    "    y_nn = y[idx]\n",
    "    cos = dist_to_cos(dst)\n",
    "    \n",
    "    res = y_nn.multiply(cos.reshape(-1, 1)).sum(axis=0)\n",
    "    res = np.asarray(res).reshape(-1)\n",
    "\n",
    "    return res.astype('float32')"
   ]
  },
  {
   "cell_type": "code",
   "execution_count": 9,
   "metadata": {
    "collapsed": false
   },
   "outputs": [
    {
     "name": "stdout",
     "output_type": "stream",
     "text": [
      "\n"
     ]
    }
   ],
   "source": [
    "knn_1 = []\n",
    "\n",
    "for i in tqdm(range(5000)):\n",
    "    row = X_1_train[i]\n",
    "\n",
    "    idx, dst = index_0.get_nns_by_vector(row, n=50, include_distances=True)\n",
    "    pred = knn_pred(y_0, idx, np.array(dst))\n",
    "    pred = sp.csr_matrix(pred)\n",
    "\n",
    "    knn_1.append(pred)"
   ]
  },
  {
   "cell_type": "code",
   "execution_count": 10,
   "metadata": {
    "collapsed": false
   },
   "outputs": [
    {
     "data": {
      "text/plain": [
       "0.66393109762410263"
      ]
     },
     "execution_count": 10,
     "metadata": {},
     "output_type": "execute_result"
    }
   ],
   "source": [
    "gap_sparse(knn_1, y_1[:5000])"
   ]
  },
  {
   "cell_type": "code",
   "execution_count": null,
   "metadata": {
    "collapsed": false,
    "scrolled": true
   },
   "outputs": [
    {
     "name": "stdout",
     "output_type": "stream",
     "text": [
      "\n"
     ]
    },
    {
     "name": "stderr",
     "output_type": "stream",
     "text": [
      "Exception in thread Thread-5:\n",
      "Traceback (most recent call last):\n",
      "  File \"/home/agrigorev/anaconda3/lib/python3.5/threading.py\", line 914, in _bootstrap_inner\n",
      "    self.run()\n",
      "  File \"/home/agrigorev/anaconda3/lib/python3.5/site-packages/tqdm/_tqdm.py\", line 103, in run\n",
      "    for instance in self.tqdm_cls._instances:\n",
      "  File \"/home/agrigorev/anaconda3/lib/python3.5/_weakrefset.py\", line 60, in __iter__\n",
      "    for itemref in self.data:\n",
      "RuntimeError: Set changed size during iteration\n",
      "\n"
     ]
    },
    {
     "name": "stdout",
     "output_type": "stream",
     "text": [
      "\n"
     ]
    }
   ],
   "source": [
    "knn_1 = []\n",
    "\n",
    "for i in tqdm(range(len(X_1_train))):\n",
    "    row = X_1_train[i]\n",
    "\n",
    "    idx, dst = index_0.get_nns_by_vector(row, n=50, include_distances=True)\n",
    "    pred = knn_pred(y_0, idx, np.array(dst))\n",
    "    pred = sp.csr_matrix(pred)\n",
    "\n",
    "    knn_1.append(pred)"
   ]
  },
  {
   "cell_type": "code",
   "execution_count": 36,
   "metadata": {
    "collapsed": false
   },
   "outputs": [],
   "source": [
    "knn_1 = sp.vstack(knn_1)"
   ]
  },
  {
   "cell_type": "code",
   "execution_count": null,
   "metadata": {
    "collapsed": false
   },
   "outputs": [],
   "source": [
    "knn_0 = []\n",
    "\n",
    "for i in tqdm(range(len(X_0_train))):\n",
    "    row = X_0_train[i]\n",
    "\n",
    "    idx, dst = index_1.get_nns_by_vector(row, n=50, include_distances=True)\n",
    "    pred = knn_pred(y_1, idx, np.array(dst))\n",
    "    pred = sp.csr_matrix(pred)\n",
    "\n",
    "    knn_0.append(pred)"
   ]
  },
  {
   "cell_type": "code",
   "execution_count": 35,
   "metadata": {
    "collapsed": false
   },
   "outputs": [],
   "source": [
    "knn_0 = sp.vstack(knn_0)"
   ]
  },
  {
   "cell_type": "code",
   "execution_count": null,
   "metadata": {
    "collapsed": false
   },
   "outputs": [],
   "source": [
    "knn_val = []\n",
    "\n",
    "for i in tqdm(range(len(X_val))):\n",
    "    row = X_val[i]\n",
    "\n",
    "    idx, dst = index_0.get_nns_by_vector(row, n=50, include_distances=True)\n",
    "    pred_0 = knn_pred(y_0, idx, np.array(dst))\n",
    "\n",
    "    idx, dst = index_1.get_nns_by_vector(row, n=50, include_distances=True)\n",
    "    pred_1 = knn_pred(y_1, idx, np.array(dst))\n",
    "\n",
    "    pred = (pred_0 + pred_1) / 2\n",
    "    pred = sp.csr_matrix(pred)\n",
    "\n",
    "    knn_val.append(pred)"
   ]
  },
  {
   "cell_type": "code",
   "execution_count": 37,
   "metadata": {
    "collapsed": false
   },
   "outputs": [],
   "source": [
    "knn_val = sp.vstack(knn_val)"
   ]
  },
  {
   "cell_type": "code",
   "execution_count": 25,
   "metadata": {
    "collapsed": false
   },
   "outputs": [
    {
     "data": {
      "text/plain": [
       "0"
      ]
     },
     "execution_count": 25,
     "metadata": {},
     "output_type": "execute_result"
    }
   ],
   "source": [
    "import gc\n",
    "gc.collect()"
   ]
  },
  {
   "cell_type": "code",
   "execution_count": 26,
   "metadata": {
    "collapsed": false
   },
   "outputs": [
    {
     "data": {
      "text/plain": [
       "0.67894650999682049"
      ]
     },
     "execution_count": 26,
     "metadata": {},
     "output_type": "execute_result"
    }
   ],
   "source": [
    "gap_sparse(knn_val[:5000], y_val[:5000])"
   ]
  },
  {
   "cell_type": "code",
   "execution_count": 27,
   "metadata": {
    "collapsed": true
   },
   "outputs": [],
   "source": [
    "import pickle"
   ]
  },
  {
   "cell_type": "code",
   "execution_count": 28,
   "metadata": {
    "collapsed": true
   },
   "outputs": [],
   "source": [
    "with open('test_ids.bin', 'rb') as f:\n",
    "    test_ids = pickle.load(f)\n"
   ]
  },
  {
   "cell_type": "code",
   "execution_count": 30,
   "metadata": {
    "collapsed": true
   },
   "outputs": [],
   "source": [
    "X_test = np.load('X_test.npy')"
   ]
  },
  {
   "cell_type": "code",
   "execution_count": 32,
   "metadata": {
    "collapsed": false
   },
   "outputs": [
    {
     "name": "stdout",
     "output_type": "stream",
     "text": [
      "\n"
     ]
    }
   ],
   "source": [
    "knn_test = []\n",
    "\n",
    "for i in tqdm(range(len(X_test))):\n",
    "    row = X_val[i]\n",
    "\n",
    "    idx, dst = index_0.get_nns_by_vector(row, n=50, include_distances=True)\n",
    "    pred_0 = knn_pred(y_0, idx, np.array(dst))\n",
    "\n",
    "    idx, dst = index_1.get_nns_by_vector(row, n=50, include_distances=True)\n",
    "    pred_1 = knn_pred(y_1, idx, np.array(dst))\n",
    "\n",
    "    pred = (pred_0 + pred_1) / 2\n",
    "    pred = sp.csr_matrix(pred)\n",
    "\n",
    "    knn_test.append(pred)"
   ]
  },
  {
   "cell_type": "code",
   "execution_count": 38,
   "metadata": {
    "collapsed": false
   },
   "outputs": [],
   "source": [
    "knn_test = sp.vstack(knn_test)"
   ]
  },
  {
   "cell_type": "code",
   "execution_count": 41,
   "metadata": {
    "collapsed": false
   },
   "outputs": [],
   "source": [
    "save_sparse_csr('knn_pred_0.npz', knn_0)\n",
    "save_sparse_csr('knn_pred_1.npz', knn_1)\n",
    "save_sparse_csr('knn_pred_val.npz', knn_val)\n",
    "save_sparse_csr('knn_pred_test.npz', knn_test)"
   ]
  },
  {
   "cell_type": "code",
   "execution_count": 31,
   "metadata": {
    "collapsed": true
   },
   "outputs": [],
   "source": [
    "def prepare_pred_row(prow):\n",
    "    classes = (-prow).argsort()[:20]\n",
    "    scores = prow[classes]\n",
    "    return ' '.join(['%d %0.3f' % (c, s) for (c, s) in zip(classes, scores)])"
   ]
  },
  {
   "cell_type": "code",
   "execution_count": null,
   "metadata": {
    "collapsed": true
   },
   "outputs": [],
   "source": []
  }
 ],
 "metadata": {
  "anaconda-cloud": {},
  "kernelspec": {
   "display_name": "Python 3",
   "language": "python",
   "name": "python3"
  },
  "language_info": {
   "codemirror_mode": {
    "name": "ipython",
    "version": 3
   },
   "file_extension": ".py",
   "mimetype": "text/x-python",
   "name": "python",
   "nbconvert_exporter": "python",
   "pygments_lexer": "ipython3",
   "version": "3.6.0"
  }
 },
 "nbformat": 4,
 "nbformat_minor": 1
}
