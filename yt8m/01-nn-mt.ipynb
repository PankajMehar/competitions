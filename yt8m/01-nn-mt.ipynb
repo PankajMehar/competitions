{
 "cells": [
  {
   "cell_type": "code",
   "execution_count": 1,
   "metadata": {
    "collapsed": true
   },
   "outputs": [],
   "source": [
    "import numpy as np\n",
    "import pandas as pd \n",
    "import tensorflow as tf"
   ]
  },
  {
   "cell_type": "code",
   "execution_count": 2,
   "metadata": {
    "collapsed": false
   },
   "outputs": [],
   "source": [
    "label_names = pd.read_csv('data/label_names.csv', index_col='label_id').label_name.to_dict()"
   ]
  },
  {
   "cell_type": "code",
   "execution_count": 3,
   "metadata": {
    "collapsed": false
   },
   "outputs": [
    {
     "data": {
      "text/plain": [
       "4716"
      ]
     },
     "execution_count": 3,
     "metadata": {},
     "output_type": "execute_result"
    }
   ],
   "source": [
    "len(label_names)"
   ]
  },
  {
   "cell_type": "code",
   "execution_count": 4,
   "metadata": {
    "collapsed": true
   },
   "outputs": [],
   "source": [
    "from glob import glob\n",
    "from tqdm import tqdm_notebook as tqdm"
   ]
  },
  {
   "cell_type": "code",
   "execution_count": 5,
   "metadata": {
    "collapsed": true
   },
   "outputs": [],
   "source": [
    "train_recs = sorted(glob('data/video_level/train*.tfrecord'))\n",
    "val_recs = sorted(glob('data/video_level/validate*.tfrecord'))\n",
    "test_recs = sorted(glob('data/video_level/test*.tfrecord'))"
   ]
  },
  {
   "cell_type": "code",
   "execution_count": 6,
   "metadata": {
    "collapsed": true
   },
   "outputs": [],
   "source": [
    "def read_file(fine_name):\n",
    "    vid_ids = []\n",
    "    labels = []\n",
    "    mean_rgb = []\n",
    "    mean_audio = []\n",
    "\n",
    "    for example in tf.python_io.tf_record_iterator(fine_name):\n",
    "        tf_example = tf.train.Example.FromString(example)\n",
    "\n",
    "        features = tf_example.features.feature\n",
    "\n",
    "        id = features['video_id'].bytes_list.value[0].decode(encoding='UTF-8')\n",
    "        label = np.array(features['labels'].int64_list.value, dtype='uint16')\n",
    "        rgb = np.array(features['mean_rgb'].float_list.value, dtype='float32')\n",
    "        audio = np.array(features['mean_audio'].float_list.value, dtype='float32')\n",
    "                \n",
    "        vid_ids.append(id)\n",
    "        labels.append(label)\n",
    "        mean_rgb.append(rgb)\n",
    "        mean_audio.append(audio)\n",
    "\n",
    "    return vid_ids, labels, mean_rgb, mean_audio"
   ]
  },
  {
   "cell_type": "code",
   "execution_count": 7,
   "metadata": {
    "collapsed": true
   },
   "outputs": [],
   "source": [
    "import traceback"
   ]
  },
  {
   "cell_type": "code",
   "execution_count": 8,
   "metadata": {
    "collapsed": true
   },
   "outputs": [],
   "source": [
    "def read_data(files_list):\n",
    "    vid_ids = []\n",
    "    labels = []\n",
    "    mean_rgb = []\n",
    "    mean_audio = []\n",
    "\n",
    "    for f in files_list:\n",
    "        for example in tf.python_io.tf_record_iterator(f):\n",
    "            good = False\n",
    "    \n",
    "            try:\n",
    "                tf_example = tf.train.Example.FromString(example)\n",
    "\n",
    "                features = tf_example.features.feature\n",
    "\n",
    "                id = features['video_id'].bytes_list.value[0].decode(encoding='UTF-8')\n",
    "                label = np.array(features['labels'].int64_list.value, dtype='uint16')\n",
    "                rgb = np.array(features['mean_rgb'].float_list.value, dtype='float32')\n",
    "                audio = np.array(features['mean_audio'].float_list.value, dtype='float32')\n",
    "                good = True\n",
    "            except:\n",
    "                print('exception ocurred while reading, swallowing it')\n",
    "                traceback.print_exc()\n",
    "                continue\n",
    "\n",
    "            if good:\n",
    "                vid_ids.append(id)\n",
    "                labels.append(label)\n",
    "                mean_rgb.append(rgb)\n",
    "                mean_audio.append(audio)\n",
    "\n",
    "    return vid_ids, labels, mean_rgb, mean_audio"
   ]
  },
  {
   "cell_type": "code",
   "execution_count": 9,
   "metadata": {
    "collapsed": false
   },
   "outputs": [],
   "source": [
    "train_ids, train_labs, train_rgb, train_audio = read_data(train_recs[:10])"
   ]
  },
  {
   "cell_type": "code",
   "execution_count": 10,
   "metadata": {
    "collapsed": true
   },
   "outputs": [],
   "source": [
    "X_10_concat = np.hstack([train_rgb, train_audio])"
   ]
  },
  {
   "cell_type": "code",
   "execution_count": 11,
   "metadata": {
    "collapsed": true
   },
   "outputs": [],
   "source": [
    "from sklearn.preprocessing import StandardScaler\n",
    "scaler = StandardScaler().fit(X_10_concat)"
   ]
  },
  {
   "cell_type": "code",
   "execution_count": 12,
   "metadata": {
    "collapsed": false
   },
   "outputs": [],
   "source": [
    "val_ids, val_labs, val_rgb, val_audio = read_data(val_recs[:100])"
   ]
  },
  {
   "cell_type": "code",
   "execution_count": 13,
   "metadata": {
    "collapsed": true
   },
   "outputs": [],
   "source": [
    "X_100_val = np.hstack([val_rgb, val_audio])\n",
    "X_100_val = scaler.transform(X_100_val)"
   ]
  },
  {
   "cell_type": "code",
   "execution_count": 14,
   "metadata": {
    "collapsed": false
   },
   "outputs": [
    {
     "name": "stderr",
     "output_type": "stream",
     "text": [
      "Using TensorFlow backend.\n"
     ]
    }
   ],
   "source": [
    "from keras.models import Sequential, Input, Model\n",
    "from keras.layers import Concatenate, concatenate\n",
    "from keras.layers.core import Dense, Dropout, Activation\n",
    "from keras.optimizers import SGD, Adam\n",
    "from keras.regularizers import l1, l2\n",
    "from keras.callbacks import EarlyStopping\n",
    "from keras.layers.normalization import BatchNormalization\n",
    "from keras.layers.advanced_activations import PReLU, ELU, LeakyReLU\n",
    "from keras.callbacks import EarlyStopping, Callback"
   ]
  },
  {
   "cell_type": "code",
   "execution_count": 15,
   "metadata": {
    "collapsed": false
   },
   "outputs": [],
   "source": [
    "input_dim = X_100_val.shape[1]\n",
    "output_dim = len(label_names)"
   ]
  },
  {
   "cell_type": "code",
   "execution_count": 16,
   "metadata": {
    "collapsed": false
   },
   "outputs": [
    {
     "data": {
      "text/plain": [
       "1152"
      ]
     },
     "execution_count": 16,
     "metadata": {},
     "output_type": "execute_result"
    }
   ],
   "source": [
    "input_dim"
   ]
  },
  {
   "cell_type": "code",
   "execution_count": 17,
   "metadata": {
    "collapsed": false
   },
   "outputs": [
    {
     "data": {
      "text/plain": [
       "4716"
      ]
     },
     "execution_count": 17,
     "metadata": {},
     "output_type": "execute_result"
    }
   ],
   "source": [
    "output_dim"
   ]
  },
  {
   "cell_type": "code",
   "execution_count": 18,
   "metadata": {
    "collapsed": true
   },
   "outputs": [],
   "source": [
    "def to_dense_lab(labs):\n",
    "    res = np.zeros(output_dim, dtype='uint8')\n",
    "    res[labs] = 1\n",
    "    return res\n",
    "\n",
    "def to_dense_labs(list_labs):\n",
    "    return np.array([to_dense_lab(l) for l in list_labs])"
   ]
  },
  {
   "cell_type": "code",
   "execution_count": 19,
   "metadata": {
    "collapsed": false
   },
   "outputs": [],
   "source": [
    "val_labs_dense = to_dense_labs(val_labs)"
   ]
  },
  {
   "cell_type": "code",
   "execution_count": 20,
   "metadata": {
    "collapsed": true
   },
   "outputs": [],
   "source": [
    "from sklearn.metrics import log_loss, f1_score"
   ]
  },
  {
   "cell_type": "code",
   "execution_count": 21,
   "metadata": {
    "collapsed": true
   },
   "outputs": [],
   "source": [
    "class WatchlistCallback(Callback):\n",
    "    def __init__(self, watchlist):\n",
    "        super(Callback, self).__init__()\n",
    "        self.X, self.y = watchlist\n",
    "        self.log = open('log2.txt', 'a')\n",
    "\n",
    "    def on_epoch_end(self, epoch, logs={}):\n",
    "        #if epoch % self.epn == 0:\n",
    "        self.print_score(epoch)\n",
    "\n",
    "    def print_score(self, epoch):\n",
    "        y_pred = self.model.predict(self.X, verbose=0)\n",
    "\n",
    "        print(\"epoch no %d\" % (epoch), end=', ')\n",
    "        ll = log_loss(self.y, y_pred)\n",
    "        print('logloss=%.4f' % ll, end=', ')\n",
    "\n",
    "        \n",
    "        self.log.write(\"epoch no %d, \" % epoch)\n",
    "        self.log.write('model: %.4f, ' % ll)\n",
    "        self.log.write('\\n')\n",
    "        self.log.flush()\n",
    "        #f = f1_score(self.y, y_pred >= 0.5, average='micro')\n",
    "        #print('f1=%0.4f' % f, end=', ')\n",
    "        print()"
   ]
  },
  {
   "cell_type": "code",
   "execution_count": 22,
   "metadata": {
    "collapsed": true
   },
   "outputs": [],
   "source": [
    "from sklearn.utils import shuffle"
   ]
  },
  {
   "cell_type": "code",
   "execution_count": 23,
   "metadata": {
    "collapsed": false
   },
   "outputs": [
    {
     "data": {
      "text/plain": [
       "(34339, 1152)"
      ]
     },
     "execution_count": 23,
     "metadata": {},
     "output_type": "execute_result"
    }
   ],
   "source": [
    "X_100_val.shape"
   ]
  },
  {
   "cell_type": "code",
   "execution_count": 24,
   "metadata": {
    "collapsed": false
   },
   "outputs": [],
   "source": [
    "#watchlist = WatchlistCallback(watchlist=(X_100_val_pca, val_labs_dense))\n",
    "watchlist = WatchlistCallback(watchlist=(X_100_val, val_labs_dense))"
   ]
  },
  {
   "cell_type": "code",
   "execution_count": 25,
   "metadata": {
    "collapsed": false
   },
   "outputs": [],
   "source": [
    "def prepare_batches(seq, n):\n",
    "    for i in range(0, len(seq), n):\n",
    "        yield seq[i:i+n]\n",
    "\n",
    "def image_gen(file_list, n=2, seed=0):\n",
    "    i = seed + 0\n",
    "\n",
    "    while True:\n",
    "        files = shuffle(file_list, random_state=i)\n",
    "\n",
    "        batches = prepare_batches(files, n)\n",
    "\n",
    "        for batch in batches:\n",
    "            _, labs, rgb, audio = read_data(batch)\n",
    "            X = np.hstack([rgb, audio])\n",
    "            X = scaler.transform(X)\n",
    "            #X = pca.transform(X)\n",
    "            y = to_dense_labs(labs)\n",
    "\n",
    "            yield X, y\n",
    "\n",
    "        i = i + 1"
   ]
  },
  {
   "cell_type": "code",
   "execution_count": 26,
   "metadata": {
    "collapsed": true
   },
   "outputs": [],
   "source": [
    "from keras_tqdm import TQDMNotebookCallback"
   ]
  },
  {
   "cell_type": "code",
   "execution_count": 27,
   "metadata": {
    "collapsed": true
   },
   "outputs": [],
   "source": [
    "import keras.backend as K"
   ]
  },
  {
   "cell_type": "code",
   "execution_count": 28,
   "metadata": {
    "collapsed": false
   },
   "outputs": [],
   "source": [
    "# wide = Linear(input, 4k)\n",
    "# deep = sigmoid(Linear(input, 1k))\n",
    "# deep = sigmoid(Linear(deep, 1k))\n",
    "# deep =Linear(deep, 4k)\n",
    "# out = sigmoid(deep + wide)\n",
    "def create_model():\n",
    "    input = Input(shape=(input_dim, ))\n",
    "\n",
    "    wide = input\n",
    "    wide = Dense(input_dim=input_dim, units=4000, kernel_initializer='glorot_uniform')(wide)\n",
    "    wide = Activation('sigmoid')(wide)\n",
    "    wide = Dropout(0.5)(wide)\n",
    "\n",
    "    wide = BatchNormalization()(wide)\n",
    "\n",
    "\n",
    "    deep = wide\n",
    "    deep = Dense(input_dim=input_dim, units=1000, kernel_initializer='glorot_uniform')(deep)\n",
    "    deep = Activation('sigmoid')(deep)\n",
    "    deep = Dropout(0.2)(deep)\n",
    "\n",
    "    deep = BatchNormalization()(deep)\n",
    "\n",
    "    deep = Dense(input_dim=input_dim, units=1000, kernel_initializer='glorot_uniform')(deep)\n",
    "    deep = Activation('sigmoid')(deep)\n",
    "    deep = Dropout(0.2)(deep)\n",
    "\n",
    "    deep = BatchNormalization()(deep)\n",
    "\n",
    "    deep = Dense(input_dim=input_dim, units=4000, kernel_initializer='glorot_uniform')(deep)\n",
    "    deep = Activation('sigmoid')(deep)\n",
    "    deep = Dropout(0.5)(deep)\n",
    "\n",
    "\n",
    "    model = concatenate([wide, deep])\n",
    "    model = Dense(units=output_dim, kernel_initializer='glorot_uniform')(model)\n",
    "    model = Activation('sigmoid')(model)\n",
    "\n",
    "    model = Model(inputs=input, outputs=model)\n",
    "\n",
    "    model.compile(loss='binary_crossentropy', optimizer=Adam(lr=0.01))\n",
    "    \n",
    "    return model"
   ]
  },
  {
   "cell_type": "code",
   "execution_count": 29,
   "metadata": {
    "collapsed": true
   },
   "outputs": [],
   "source": [
    "model = create_model()"
   ]
  },
  {
   "cell_type": "code",
   "execution_count": 30,
   "metadata": {
    "collapsed": true
   },
   "outputs": [],
   "source": [
    "gen = image_gen(train_recs, n=8, seed=2)\n"
   ]
  },
  {
   "cell_type": "code",
   "execution_count": null,
   "metadata": {
    "collapsed": false,
    "scrolled": true
   },
   "outputs": [
    {
     "name": "stdout",
     "output_type": "stream",
     "text": [
      "epoch no 0, logloss=39.2281, \n",
      "epoch no 1, logloss=59.9097, \n",
      "epoch no 2, logloss=52.0797, \n",
      "epoch no 3, logloss=49.1388, \n",
      "epoch no 4, logloss=41.1664, \n",
      "epoch no 5, logloss=33.7037, \n",
      "epoch no 6, logloss=28.0021, \n",
      "epoch no 7, logloss=23.7866, \n",
      "epoch no 8, logloss=19.9821, \n",
      "epoch no 9, logloss=17.3367, \n",
      "epoch no 10, logloss=15.4236, \n",
      "epoch no 11, logloss=13.9567, \n",
      "epoch no 12, logloss=12.9591, \n",
      "epoch no 13, logloss=12.3136, \n",
      "epoch no 14, logloss=11.7894, \n",
      "epoch no 15, logloss=11.3657, \n",
      "epoch no 16, logloss=11.0584, \n",
      "epoch no 17, logloss=10.8080, \n",
      "epoch no 18, logloss=10.6068, \n",
      "epoch no 19, logloss=10.4226, \n",
      "epoch no 20, logloss=10.3121, \n",
      "epoch no 21, logloss=10.1784, \n",
      "epoch no 22, logloss=10.0961, \n",
      "epoch no 23, logloss=10.0253, \n",
      "epoch no 24, logloss=9.9523, \n",
      "epoch no 25, logloss=9.8819, \n",
      "epoch no 26, logloss=9.8335, \n",
      "epoch no 27, logloss=9.7775, \n",
      "epoch no 28, logloss=9.7102, \n",
      "epoch no 29, logloss=9.7133, \n",
      "epoch no 30, logloss=9.6682, \n",
      "epoch no 31, logloss=9.6232, \n",
      "epoch no 32, logloss=9.6168, \n",
      "epoch no 33, logloss=9.5839, \n",
      "epoch no 34, logloss=9.5512, \n",
      "epoch no 35, logloss=9.5390, \n",
      "epoch no 36, logloss=9.5036, \n",
      "epoch no 37, logloss=9.4882, \n",
      "epoch no 38, logloss=9.4655, \n",
      "epoch no 39, logloss=9.4384, \n",
      "epoch no 40, logloss=9.4318, \n",
      "epoch no 41, logloss=9.4324, \n",
      "epoch no 42, logloss=9.3866, \n",
      "epoch no 43, logloss=9.3655, \n",
      "epoch no 44, logloss=9.3594, \n",
      "epoch no 45, logloss=9.3441, \n",
      "epoch no 64, logloss=9.1684, \n",
      "epoch no 65, logloss=9.1578, \n",
      "epoch no 66, logloss=9.1479, \n",
      "epoch no 67, logloss=9.1456, \n",
      "epoch no 68, logloss=9.1336, \n",
      "epoch no 69, logloss=9.1325, \n",
      "epoch no 70, logloss=9.1269, \n",
      "epoch no 71, logloss=9.1209, \n",
      "epoch no 72, logloss=9.1160, \n",
      "epoch no 73, logloss=9.1122, \n",
      "epoch no 74, logloss=9.1014, \n",
      "epoch no 75, logloss=9.0985, \n",
      "epoch no 76, logloss=9.0980, \n",
      "epoch no 77, logloss=9.0962, \n",
      "epoch no 78, logloss=9.0816, \n",
      "epoch no 79, logloss=9.0785, \n",
      "epoch no 80, logloss=9.0725, \n",
      "epoch no 81, logloss=9.0714, \n",
      "epoch no 82, logloss=9.0699, \n",
      "epoch no 83, logloss=9.0682, \n",
      "epoch no 84, logloss=9.0636, \n",
      "epoch no 85, logloss=9.0611, \n",
      "epoch no 86, logloss=9.0579, \n",
      "epoch no 87, logloss=9.0538, \n",
      "epoch no 88, logloss=9.0523, \n",
      "epoch no 89, logloss=9.0501, \n",
      "epoch no 90, logloss=9.0446, \n",
      "epoch no 91, logloss=9.0433, \n",
      "epoch no 92, logloss=9.0391, \n",
      "epoch no 93, logloss=9.0314, \n",
      "epoch no 94, logloss=9.0298, \n",
      "epoch no 95, logloss=9.0217, \n",
      "epoch no 96, logloss=9.0259, \n",
      "epoch no 97, logloss=9.0174, \n",
      "epoch no 98, logloss=9.0153, \n",
      "epoch no 99, logloss=9.0078, \n",
      "epoch no 100, logloss=9.0088, \n",
      "epoch no 101, logloss=9.0092, \n",
      "epoch no 102, logloss=9.0006, \n",
      "epoch no 103, logloss=9.0011, \n",
      "epoch no 104, logloss=8.9961, \n",
      "epoch no 105, logloss=8.9869, \n",
      "epoch no 106, logloss=8.9902, \n",
      "epoch no 107, logloss=8.9935, \n",
      "epoch no 108, logloss=8.9882, \n",
      "epoch no 109, logloss=8.9869, \n",
      "epoch no 110, logloss=8.9866, \n",
      "epoch no 111, logloss=8.9854, \n",
      "epoch no 112, logloss=8.9719, \n",
      "epoch no 113, logloss=8.9708, \n",
      "epoch no 114, logloss=8.9720, \n",
      "epoch no 115, logloss=8.9706, \n",
      "epoch no 116, logloss=8.9673, \n",
      "epoch no 117, logloss=8.9633, \n",
      "epoch no 118, logloss=8.9637, \n",
      "epoch no 119, logloss=8.9634, \n",
      "epoch no 120, logloss=8.9581, \n",
      "epoch no 121, logloss=8.9574, \n",
      "epoch no 122, logloss=8.9538, \n",
      "epoch no 123, logloss=8.9538, \n",
      "epoch no 124, logloss=8.9474, \n",
      "epoch no 125, logloss=8.9504, \n",
      "epoch no 126, logloss=8.9480, \n",
      "epoch no 127, logloss=8.9462, \n",
      "epoch no 128, logloss=8.9426, \n",
      "epoch no 129, logloss=8.9387, \n",
      "epoch no 130, logloss=8.9410, \n",
      "epoch no 131, logloss=8.9375, \n",
      "epoch no 132, logloss=8.9449, \n",
      "epoch no 133, logloss=8.9354, \n",
      "epoch no 134, logloss=8.9314, \n",
      "epoch no 135, logloss=8.9345, \n",
      "epoch no 136, logloss=8.9268, \n",
      "epoch no 137, logloss=8.9316, \n",
      "epoch no 138, logloss=8.9250, \n",
      "epoch no 139, logloss=8.9244, \n",
      "epoch no 140, logloss=8.9329, \n",
      "epoch no 141, logloss=8.9231, \n",
      "epoch no 142, logloss=8.9223, \n",
      "epoch no 143, logloss=8.9177, \n",
      "epoch no 144, logloss=8.9102, \n",
      "epoch no 145, logloss=8.9200, \n",
      "epoch no 146, logloss=8.9091, \n",
      "epoch no 147, logloss=8.9063, \n",
      "epoch no 148, logloss=8.9180, \n",
      "epoch no 149, logloss=8.9086, \n",
      "epoch no 150, logloss=8.9054, \n",
      "epoch no 151, logloss=8.9056, \n",
      "epoch no 152, logloss=8.9028, \n",
      "epoch no 153, logloss=8.9082, \n",
      "epoch no 154, logloss=8.9031, \n",
      "epoch no 155, logloss=8.9075, \n",
      "epoch no 156, logloss=8.8987, \n",
      "epoch no 157, logloss=8.9020, \n",
      "epoch no 158, logloss=8.8975, \n",
      "epoch no 159, logloss=8.8994, \n",
      "epoch no 160, logloss=8.8898, \n",
      "epoch no 161, logloss=8.8912, \n",
      "epoch no 162, logloss=8.8889, \n",
      "epoch no 163, logloss=8.8879, \n",
      "epoch no 164, logloss=8.8891, \n",
      "epoch no 165, logloss=8.8933, \n",
      "epoch no 166, logloss=8.8911, \n",
      "epoch no 167, logloss=8.8786, \n",
      "epoch no 168, logloss=8.8829, \n",
      "epoch no 169, logloss=8.8778, \n",
      "epoch no 170, logloss=8.8770, \n",
      "epoch no 171, logloss=8.8837, \n",
      "epoch no 172, logloss=8.8785, \n",
      "epoch no 173, logloss=8.8760, \n",
      "epoch no 174, logloss=8.8765, \n",
      "epoch no 175, logloss=8.8709, \n",
      "epoch no 176, logloss=8.8736, \n",
      "epoch no 177, logloss=8.8623, \n",
      "epoch no 178, logloss=8.8642, \n",
      "epoch no 179, logloss=8.8701, \n",
      "epoch no 180, logloss=8.8718, \n",
      "epoch no 181, logloss=8.8710, \n",
      "epoch no 182, logloss=8.8631, \n",
      "epoch no 183, logloss=8.8672, \n",
      "epoch no 184, logloss=8.8587, \n",
      "epoch no 185, logloss=8.8623, \n",
      "epoch no 186, logloss=8.8613, \n",
      "epoch no 187, logloss=8.8613, \n",
      "epoch no 188, logloss=8.8560, \n",
      "epoch no 189, logloss=8.8572, \n",
      "epoch no 190, logloss=8.8596, \n",
      "epoch no 191, logloss=8.8487, \n",
      "epoch no 192, logloss=8.8552, \n",
      "epoch no 193, logloss=8.8502, \n",
      "epoch no 194, logloss=8.8560, \n",
      "epoch no 195, logloss=8.8497, \n",
      "epoch no 196, logloss=8.8499, \n",
      "epoch no 197, logloss=8.8492, \n",
      "epoch no 198, logloss=8.8461, \n",
      "epoch no 199, logloss=8.8583, \n",
      "epoch no 200, logloss=8.8464, \n",
      "epoch no 201, logloss=8.8468, \n",
      "epoch no 202, logloss=8.8452, \n",
      "epoch no 203, logloss=8.8399, \n",
      "epoch no 204, logloss=8.8455, \n",
      "epoch no 205, logloss=8.8438, \n",
      "epoch no 206, logloss=8.8389, \n",
      "epoch no 207, logloss=8.8297, \n",
      "epoch no 208, logloss=8.8356, \n",
      "epoch no 209, logloss=8.8322, \n",
      "epoch no 210, logloss=8.8340, \n",
      "epoch no 211, logloss=8.8325, \n",
      "epoch no 212, logloss=8.8341, \n",
      "epoch no 213, logloss=8.8284, \n",
      "epoch no 214, logloss=8.8316, \n",
      "epoch no 215, logloss=8.8282, \n",
      "epoch no 216, logloss=8.8299, \n",
      "epoch no 217, logloss=8.8293, \n",
      "epoch no 218, logloss=8.8272, \n",
      "epoch no 219, logloss=8.8291, \n",
      "epoch no 220, logloss=8.8222, \n",
      "epoch no 221, logloss=8.8222, \n",
      "epoch no 222, logloss=8.8225, \n",
      "epoch no 223, logloss=8.8271, \n",
      "epoch no 224, logloss=8.8159, \n",
      "epoch no 225, logloss=8.8178, \n",
      "epoch no 226, logloss=8.8231, \n",
      "epoch no 227, logloss=8.8237, \n",
      "epoch no 228, logloss=8.8218, \n",
      "epoch no 229, logloss=8.8178, \n",
      "epoch no 230, logloss=8.8226, \n",
      "epoch no 231, logloss=8.8254, \n",
      "epoch no 232, logloss=8.8200, \n",
      "epoch no 233, logloss=8.8146, \n",
      "epoch no 234, logloss=8.8154, \n",
      "epoch no 235, logloss=8.8130, \n",
      "epoch no 236, logloss=8.8079, \n",
      "epoch no 237, logloss=8.8119, \n",
      "epoch no 238, logloss=8.8088, \n",
      "epoch no 239, logloss=8.8043, \n",
      "epoch no 240, logloss=8.8078, \n",
      "epoch no 241, logloss=8.8081, \n",
      "epoch no 242, logloss=8.8120, \n",
      "epoch no 243, logloss=8.8145, \n",
      "epoch no 244, logloss=8.8060, \n",
      "epoch no 245, logloss=8.8061, \n",
      "epoch no 246, logloss=8.8033, \n",
      "epoch no 247, logloss=8.8054, \n",
      "epoch no 248, logloss=8.8041, \n",
      "epoch no 249, logloss=8.8063, \n",
      "epoch no 250, logloss=8.8069, \n",
      "epoch no 251, logloss=8.8051, \n",
      "epoch no 252, logloss=8.8027, \n",
      "epoch no 253, logloss=8.8014, \n",
      "epoch no 254, logloss=8.8092, \n",
      "epoch no 255, logloss=8.8010, \n",
      "epoch no 256, logloss=8.8003, \n",
      "epoch no 257, logloss=8.7979, \n",
      "epoch no 258, logloss=8.8057, \n",
      "epoch no 259, logloss=8.7988, \n",
      "epoch no 260, logloss=8.8054, \n",
      "epoch no 261, logloss=8.7959, \n",
      "epoch no 262, logloss=8.7933, \n",
      "epoch no 263, logloss=8.7951, \n",
      "epoch no 264, logloss=8.7938, \n",
      "epoch no 265, logloss=8.7921, \n",
      "epoch no 266, logloss=8.7929, \n",
      "epoch no 267, logloss=8.7901, \n",
      "epoch no 268, logloss=8.7926, \n",
      "epoch no 269, logloss=8.7890, \n",
      "epoch no 270, logloss=8.7838, \n",
      "epoch no 271, logloss=8.7868, \n",
      "epoch no 272, logloss=8.7881, \n"
     ]
    },
    {
     "ename": "KeyboardInterrupt",
     "evalue": "",
     "output_type": "error",
     "traceback": [
      "\u001b[0;31m---------------------------------------------------------------------------\u001b[0m",
      "\u001b[0;31mKeyboardInterrupt\u001b[0m                         Traceback (most recent call last)",
      "\u001b[0;32m<ipython-input-45-9588506690f1>\u001b[0m in \u001b[0;36m<module>\u001b[0;34m()\u001b[0m\n\u001b[1;32m      1\u001b[0m model.fit_generator(gen, steps_per_epoch=32, epochs=300, verbose=0, \n\u001b[0;32m----> 2\u001b[0;31m                     callbacks=[watchlist, TQDMNotebookCallback()])\n\u001b[0m",
      "\u001b[0;32m/usr/local/lib/python3.5/dist-packages/keras/legacy/interfaces.py\u001b[0m in \u001b[0;36mwrapper\u001b[0;34m(*args, **kwargs)\u001b[0m\n\u001b[1;32m     86\u001b[0m                 warnings.warn('Update your `' + object_name +\n\u001b[1;32m     87\u001b[0m                               '` call to the Keras 2 API: ' + signature, stacklevel=2)\n\u001b[0;32m---> 88\u001b[0;31m             \u001b[0;32mreturn\u001b[0m \u001b[0mfunc\u001b[0m\u001b[0;34m(\u001b[0m\u001b[0;34m*\u001b[0m\u001b[0margs\u001b[0m\u001b[0;34m,\u001b[0m \u001b[0;34m**\u001b[0m\u001b[0mkwargs\u001b[0m\u001b[0;34m)\u001b[0m\u001b[0;34m\u001b[0m\u001b[0m\n\u001b[0m\u001b[1;32m     89\u001b[0m         \u001b[0mwrapper\u001b[0m\u001b[0;34m.\u001b[0m\u001b[0m_legacy_support_signature\u001b[0m \u001b[0;34m=\u001b[0m \u001b[0minspect\u001b[0m\u001b[0;34m.\u001b[0m\u001b[0mgetargspec\u001b[0m\u001b[0;34m(\u001b[0m\u001b[0mfunc\u001b[0m\u001b[0;34m)\u001b[0m\u001b[0;34m\u001b[0m\u001b[0m\n\u001b[1;32m     90\u001b[0m         \u001b[0;32mreturn\u001b[0m \u001b[0mwrapper\u001b[0m\u001b[0;34m\u001b[0m\u001b[0m\n",
      "\u001b[0;32m/usr/local/lib/python3.5/dist-packages/keras/engine/training.py\u001b[0m in \u001b[0;36mfit_generator\u001b[0;34m(self, generator, steps_per_epoch, epochs, verbose, callbacks, validation_data, validation_steps, class_weight, max_q_size, workers, pickle_safe, initial_epoch)\u001b[0m\n\u001b[1;32m   1874\u001b[0m                     outs = self.train_on_batch(x, y,\n\u001b[1;32m   1875\u001b[0m                                                \u001b[0msample_weight\u001b[0m\u001b[0;34m=\u001b[0m\u001b[0msample_weight\u001b[0m\u001b[0;34m,\u001b[0m\u001b[0;34m\u001b[0m\u001b[0m\n\u001b[0;32m-> 1876\u001b[0;31m                                                class_weight=class_weight)\n\u001b[0m\u001b[1;32m   1877\u001b[0m \u001b[0;34m\u001b[0m\u001b[0m\n\u001b[1;32m   1878\u001b[0m                     \u001b[0;32mif\u001b[0m \u001b[0;32mnot\u001b[0m \u001b[0misinstance\u001b[0m\u001b[0;34m(\u001b[0m\u001b[0mouts\u001b[0m\u001b[0;34m,\u001b[0m \u001b[0mlist\u001b[0m\u001b[0;34m)\u001b[0m\u001b[0;34m:\u001b[0m\u001b[0;34m\u001b[0m\u001b[0m\n",
      "\u001b[0;32m/usr/local/lib/python3.5/dist-packages/keras/engine/training.py\u001b[0m in \u001b[0;36mtrain_on_batch\u001b[0;34m(self, x, y, sample_weight, class_weight)\u001b[0m\n\u001b[1;32m   1618\u001b[0m             \u001b[0mins\u001b[0m \u001b[0;34m=\u001b[0m \u001b[0mx\u001b[0m \u001b[0;34m+\u001b[0m \u001b[0my\u001b[0m \u001b[0;34m+\u001b[0m \u001b[0msample_weights\u001b[0m\u001b[0;34m\u001b[0m\u001b[0m\n\u001b[1;32m   1619\u001b[0m         \u001b[0mself\u001b[0m\u001b[0;34m.\u001b[0m\u001b[0m_make_train_function\u001b[0m\u001b[0;34m(\u001b[0m\u001b[0;34m)\u001b[0m\u001b[0;34m\u001b[0m\u001b[0m\n\u001b[0;32m-> 1620\u001b[0;31m         \u001b[0moutputs\u001b[0m \u001b[0;34m=\u001b[0m \u001b[0mself\u001b[0m\u001b[0;34m.\u001b[0m\u001b[0mtrain_function\u001b[0m\u001b[0;34m(\u001b[0m\u001b[0mins\u001b[0m\u001b[0;34m)\u001b[0m\u001b[0;34m\u001b[0m\u001b[0m\n\u001b[0m\u001b[1;32m   1621\u001b[0m         \u001b[0;32mif\u001b[0m \u001b[0mlen\u001b[0m\u001b[0;34m(\u001b[0m\u001b[0moutputs\u001b[0m\u001b[0;34m)\u001b[0m \u001b[0;34m==\u001b[0m \u001b[0;36m1\u001b[0m\u001b[0;34m:\u001b[0m\u001b[0;34m\u001b[0m\u001b[0m\n\u001b[1;32m   1622\u001b[0m             \u001b[0;32mreturn\u001b[0m \u001b[0moutputs\u001b[0m\u001b[0;34m[\u001b[0m\u001b[0;36m0\u001b[0m\u001b[0;34m]\u001b[0m\u001b[0;34m\u001b[0m\u001b[0m\n",
      "\u001b[0;32m/usr/local/lib/python3.5/dist-packages/keras/backend/tensorflow_backend.py\u001b[0m in \u001b[0;36m__call__\u001b[0;34m(self, inputs)\u001b[0m\n\u001b[1;32m   2071\u001b[0m         \u001b[0msession\u001b[0m \u001b[0;34m=\u001b[0m \u001b[0mget_session\u001b[0m\u001b[0;34m(\u001b[0m\u001b[0;34m)\u001b[0m\u001b[0;34m\u001b[0m\u001b[0m\n\u001b[1;32m   2072\u001b[0m         updated = session.run(self.outputs + [self.updates_op],\n\u001b[0;32m-> 2073\u001b[0;31m                               feed_dict=feed_dict)\n\u001b[0m\u001b[1;32m   2074\u001b[0m         \u001b[0;32mreturn\u001b[0m \u001b[0mupdated\u001b[0m\u001b[0;34m[\u001b[0m\u001b[0;34m:\u001b[0m\u001b[0mlen\u001b[0m\u001b[0;34m(\u001b[0m\u001b[0mself\u001b[0m\u001b[0;34m.\u001b[0m\u001b[0moutputs\u001b[0m\u001b[0;34m)\u001b[0m\u001b[0;34m]\u001b[0m\u001b[0;34m\u001b[0m\u001b[0m\n\u001b[1;32m   2075\u001b[0m \u001b[0;34m\u001b[0m\u001b[0m\n",
      "\u001b[0;32m/usr/local/lib/python3.5/dist-packages/tensorflow/python/client/session.py\u001b[0m in \u001b[0;36mrun\u001b[0;34m(self, fetches, feed_dict, options, run_metadata)\u001b[0m\n\u001b[1;32m    765\u001b[0m     \u001b[0;32mtry\u001b[0m\u001b[0;34m:\u001b[0m\u001b[0;34m\u001b[0m\u001b[0m\n\u001b[1;32m    766\u001b[0m       result = self._run(None, fetches, feed_dict, options_ptr,\n\u001b[0;32m--> 767\u001b[0;31m                          run_metadata_ptr)\n\u001b[0m\u001b[1;32m    768\u001b[0m       \u001b[0;32mif\u001b[0m \u001b[0mrun_metadata\u001b[0m\u001b[0;34m:\u001b[0m\u001b[0;34m\u001b[0m\u001b[0m\n\u001b[1;32m    769\u001b[0m         \u001b[0mproto_data\u001b[0m \u001b[0;34m=\u001b[0m \u001b[0mtf_session\u001b[0m\u001b[0;34m.\u001b[0m\u001b[0mTF_GetBuffer\u001b[0m\u001b[0;34m(\u001b[0m\u001b[0mrun_metadata_ptr\u001b[0m\u001b[0;34m)\u001b[0m\u001b[0;34m\u001b[0m\u001b[0m\n",
      "\u001b[0;32m/usr/local/lib/python3.5/dist-packages/tensorflow/python/client/session.py\u001b[0m in \u001b[0;36m_run\u001b[0;34m(self, handle, fetches, feed_dict, options, run_metadata)\u001b[0m\n\u001b[1;32m    963\u001b[0m     \u001b[0;32mif\u001b[0m \u001b[0mfinal_fetches\u001b[0m \u001b[0;32mor\u001b[0m \u001b[0mfinal_targets\u001b[0m\u001b[0;34m:\u001b[0m\u001b[0;34m\u001b[0m\u001b[0m\n\u001b[1;32m    964\u001b[0m       results = self._do_run(handle, final_targets, final_fetches,\n\u001b[0;32m--> 965\u001b[0;31m                              feed_dict_string, options, run_metadata)\n\u001b[0m\u001b[1;32m    966\u001b[0m     \u001b[0;32melse\u001b[0m\u001b[0;34m:\u001b[0m\u001b[0;34m\u001b[0m\u001b[0m\n\u001b[1;32m    967\u001b[0m       \u001b[0mresults\u001b[0m \u001b[0;34m=\u001b[0m \u001b[0;34m[\u001b[0m\u001b[0;34m]\u001b[0m\u001b[0;34m\u001b[0m\u001b[0m\n",
      "\u001b[0;32m/usr/local/lib/python3.5/dist-packages/tensorflow/python/client/session.py\u001b[0m in \u001b[0;36m_do_run\u001b[0;34m(self, handle, target_list, fetch_list, feed_dict, options, run_metadata)\u001b[0m\n\u001b[1;32m   1013\u001b[0m     \u001b[0;32mif\u001b[0m \u001b[0mhandle\u001b[0m \u001b[0;32mis\u001b[0m \u001b[0;32mNone\u001b[0m\u001b[0;34m:\u001b[0m\u001b[0;34m\u001b[0m\u001b[0m\n\u001b[1;32m   1014\u001b[0m       return self._do_call(_run_fn, self._session, feed_dict, fetch_list,\n\u001b[0;32m-> 1015\u001b[0;31m                            target_list, options, run_metadata)\n\u001b[0m\u001b[1;32m   1016\u001b[0m     \u001b[0;32melse\u001b[0m\u001b[0;34m:\u001b[0m\u001b[0;34m\u001b[0m\u001b[0m\n\u001b[1;32m   1017\u001b[0m       return self._do_call(_prun_fn, self._session, handle, feed_dict,\n",
      "\u001b[0;32m/usr/local/lib/python3.5/dist-packages/tensorflow/python/client/session.py\u001b[0m in \u001b[0;36m_do_call\u001b[0;34m(self, fn, *args)\u001b[0m\n\u001b[1;32m   1020\u001b[0m   \u001b[0;32mdef\u001b[0m \u001b[0m_do_call\u001b[0m\u001b[0;34m(\u001b[0m\u001b[0mself\u001b[0m\u001b[0;34m,\u001b[0m \u001b[0mfn\u001b[0m\u001b[0;34m,\u001b[0m \u001b[0;34m*\u001b[0m\u001b[0margs\u001b[0m\u001b[0;34m)\u001b[0m\u001b[0;34m:\u001b[0m\u001b[0;34m\u001b[0m\u001b[0m\n\u001b[1;32m   1021\u001b[0m     \u001b[0;32mtry\u001b[0m\u001b[0;34m:\u001b[0m\u001b[0;34m\u001b[0m\u001b[0m\n\u001b[0;32m-> 1022\u001b[0;31m       \u001b[0;32mreturn\u001b[0m \u001b[0mfn\u001b[0m\u001b[0;34m(\u001b[0m\u001b[0;34m*\u001b[0m\u001b[0margs\u001b[0m\u001b[0;34m)\u001b[0m\u001b[0;34m\u001b[0m\u001b[0m\n\u001b[0m\u001b[1;32m   1023\u001b[0m     \u001b[0;32mexcept\u001b[0m \u001b[0merrors\u001b[0m\u001b[0;34m.\u001b[0m\u001b[0mOpError\u001b[0m \u001b[0;32mas\u001b[0m \u001b[0me\u001b[0m\u001b[0;34m:\u001b[0m\u001b[0;34m\u001b[0m\u001b[0m\n\u001b[1;32m   1024\u001b[0m       \u001b[0mmessage\u001b[0m \u001b[0;34m=\u001b[0m \u001b[0mcompat\u001b[0m\u001b[0;34m.\u001b[0m\u001b[0mas_text\u001b[0m\u001b[0;34m(\u001b[0m\u001b[0me\u001b[0m\u001b[0;34m.\u001b[0m\u001b[0mmessage\u001b[0m\u001b[0;34m)\u001b[0m\u001b[0;34m\u001b[0m\u001b[0m\n",
      "\u001b[0;32m/usr/local/lib/python3.5/dist-packages/tensorflow/python/client/session.py\u001b[0m in \u001b[0;36m_run_fn\u001b[0;34m(session, feed_dict, fetch_list, target_list, options, run_metadata)\u001b[0m\n\u001b[1;32m   1002\u001b[0m         return tf_session.TF_Run(session, options,\n\u001b[1;32m   1003\u001b[0m                                  \u001b[0mfeed_dict\u001b[0m\u001b[0;34m,\u001b[0m \u001b[0mfetch_list\u001b[0m\u001b[0;34m,\u001b[0m \u001b[0mtarget_list\u001b[0m\u001b[0;34m,\u001b[0m\u001b[0;34m\u001b[0m\u001b[0m\n\u001b[0;32m-> 1004\u001b[0;31m                                  status, run_metadata)\n\u001b[0m\u001b[1;32m   1005\u001b[0m \u001b[0;34m\u001b[0m\u001b[0m\n\u001b[1;32m   1006\u001b[0m     \u001b[0;32mdef\u001b[0m \u001b[0m_prun_fn\u001b[0m\u001b[0;34m(\u001b[0m\u001b[0msession\u001b[0m\u001b[0;34m,\u001b[0m \u001b[0mhandle\u001b[0m\u001b[0;34m,\u001b[0m \u001b[0mfeed_dict\u001b[0m\u001b[0;34m,\u001b[0m \u001b[0mfetch_list\u001b[0m\u001b[0;34m)\u001b[0m\u001b[0;34m:\u001b[0m\u001b[0;34m\u001b[0m\u001b[0m\n",
      "\u001b[0;31mKeyboardInterrupt\u001b[0m: "
     ]
    }
   ],
   "source": [
    "#273\n",
    "model.fit_generator(gen, steps_per_epoch=32, epochs=300, verbose=0, \n",
    "                    callbacks=[watchlist, TQDMNotebookCallback()])"
   ]
  },
  {
   "cell_type": "code",
   "execution_count": 54,
   "metadata": {
    "collapsed": false
   },
   "outputs": [],
   "source": [
    "model.save_weights('mt-01.bin')"
   ]
  },
  {
   "cell_type": "code",
   "execution_count": 60,
   "metadata": {
    "collapsed": true
   },
   "outputs": [],
   "source": [
    "model.load_weights('mt-01.bin')"
   ]
  },
  {
   "cell_type": "code",
   "execution_count": 62,
   "metadata": {
    "collapsed": true
   },
   "outputs": [],
   "source": [
    "K.set_value(model.optimizer.lr, 0.002)"
   ]
  },
  {
   "cell_type": "code",
   "execution_count": null,
   "metadata": {
    "collapsed": false,
    "scrolled": true
   },
   "outputs": [
    {
     "name": "stdout",
     "output_type": "stream",
     "text": [
      "epoch no 0, logloss=8.7558, \n",
      "epoch no 1, logloss=8.7478, \n",
      "epoch no 2, logloss=8.7435, \n",
      "epoch no 3, logloss=8.7415, \n",
      "epoch no 4, logloss=8.7365, \n",
      "epoch no 5, logloss=8.7345, \n",
      "epoch no 6, logloss=8.7343, \n",
      "epoch no 7, logloss=8.7325, \n",
      "epoch no 8, logloss=8.7291, \n",
      "epoch no 9, logloss=8.7279, \n",
      "epoch no 10, logloss=8.7274, \n",
      "epoch no 11, logloss=8.7272, \n",
      "epoch no 12, logloss=8.7273, \n",
      "epoch no 13, logloss=8.7240, \n",
      "epoch no 14, logloss=8.7234, \n",
      "epoch no 15, logloss=8.7246, \n",
      "epoch no 16, logloss=8.7235, \n",
      "epoch no 20, "
     ]
    }
   ],
   "source": [
    "#273\n",
    "model.fit_generator(gen, steps_per_epoch=32, epochs=30, verbose=0, \n",
    "                    callbacks=[watchlist, TQDMNotebookCallback()])"
   ]
  },
  {
   "cell_type": "code",
   "execution_count": 64,
   "metadata": {
    "collapsed": false,
    "scrolled": true
   },
   "outputs": [
    {
     "name": "stdout",
     "output_type": "stream",
     "text": [
      "epoch no 0, logloss=8.7176, \n",
      "epoch no 1, logloss=8.7175, \n",
      "epoch no 2, logloss=8.7171, \n",
      "epoch no 3, logloss=8.7164, \n",
      "epoch no 4, logloss=8.7160, \n",
      "epoch no 5, logloss=8.7133, \n",
      "epoch no 6, logloss=8.7138, \n",
      "epoch no 7, logloss=8.7130, \n",
      "epoch no 8, logloss=8.7134, \n",
      "epoch no 9, logloss=8.7150, \n",
      "epoch no 10, logloss=8.7128, \n",
      "epoch no 11, logloss=8.7127, \n",
      "epoch no 12, logloss=8.7125, \n",
      "epoch no 13, logloss=8.7113, \n",
      "epoch no 14, logloss=8.7121, \n",
      "epoch no 15, logloss=8.7121, \n",
      "epoch no 16, logloss=8.7097, \n",
      "epoch no 17, logloss=8.7089, \n",
      "epoch no 18, logloss=8.7095, \n",
      "epoch no 19, logloss=8.7063, \n",
      "epoch no 20, logloss=8.7070, \n",
      "epoch no 21, logloss=8.7045, \n",
      "epoch no 22, logloss=8.7061, \n",
      "epoch no 23, logloss=8.7062, \n",
      "epoch no 24, logloss=8.7056, \n",
      "epoch no 25, logloss=8.7071, \n",
      "epoch no 26, logloss=8.7054, \n",
      "epoch no 27, logloss=8.7054, \n",
      "epoch no 28, logloss=8.7066, \n",
      "epoch no 29, logloss=8.7044, \n"
     ]
    },
    {
     "data": {
      "text/plain": [
       "<keras.callbacks.History at 0x7f58057c22b0>"
      ]
     },
     "execution_count": 64,
     "metadata": {},
     "output_type": "execute_result"
    }
   ],
   "source": [
    "#273\n",
    "model.fit_generator(gen, steps_per_epoch=32, epochs=30, verbose=0, \n",
    "                    callbacks=[watchlist, TQDMNotebookCallback()])"
   ]
  },
  {
   "cell_type": "code",
   "execution_count": 65,
   "metadata": {
    "collapsed": false
   },
   "outputs": [],
   "source": [
    "model.save_weights('mt-02.bin')"
   ]
  },
  {
   "cell_type": "code",
   "execution_count": 66,
   "metadata": {
    "collapsed": false
   },
   "outputs": [],
   "source": [
    "K.set_value(model.optimizer.lr, 0.001)"
   ]
  },
  {
   "cell_type": "code",
   "execution_count": 67,
   "metadata": {
    "collapsed": false,
    "scrolled": true
   },
   "outputs": [
    {
     "name": "stdout",
     "output_type": "stream",
     "text": [
      "epoch no 0, logloss=8.7012, \n",
      "epoch no 1, logloss=8.7002, \n",
      "epoch no 2, logloss=8.6999, \n",
      "epoch no 3, logloss=8.6988, \n",
      "epoch no 4, logloss=8.6987, \n",
      "epoch no 5, logloss=8.6971, \n",
      "epoch no 6, logloss=8.6968, \n",
      "epoch no 7, logloss=8.6961, \n",
      "epoch no 8, logloss=8.6971, \n",
      "epoch no 9, logloss=8.6970, \n",
      "epoch no 10, logloss=8.6982, \n",
      "epoch no 11, logloss=8.6983, \n",
      "epoch no 12, logloss=8.6969, \n",
      "epoch no 13, logloss=8.6968, \n",
      "epoch no 14, logloss=8.6951, \n",
      "epoch no 15, logloss=8.6958, \n",
      "epoch no 16, logloss=8.6951, \n",
      "epoch no 17, logloss=8.6943, \n",
      "epoch no 18, logloss=8.6952, \n",
      "epoch no 19, logloss=8.6947, \n"
     ]
    },
    {
     "ename": "KeyboardInterrupt",
     "evalue": "",
     "output_type": "error",
     "traceback": [
      "\u001b[0;31m---------------------------------------------------------------------------\u001b[0m",
      "\u001b[0;31mKeyboardInterrupt\u001b[0m                         Traceback (most recent call last)",
      "\u001b[0;32m<ipython-input-67-a14a87000aad>\u001b[0m in \u001b[0;36m<module>\u001b[0;34m()\u001b[0m\n\u001b[1;32m      1\u001b[0m model.fit_generator(gen, steps_per_epoch=32, epochs=32, verbose=0, \n\u001b[0;32m----> 2\u001b[0;31m                     callbacks=[watchlist, TQDMNotebookCallback()])\n\u001b[0m",
      "\u001b[0;32m/usr/local/lib/python3.5/dist-packages/keras/legacy/interfaces.py\u001b[0m in \u001b[0;36mwrapper\u001b[0;34m(*args, **kwargs)\u001b[0m\n\u001b[1;32m     86\u001b[0m                 warnings.warn('Update your `' + object_name +\n\u001b[1;32m     87\u001b[0m                               '` call to the Keras 2 API: ' + signature, stacklevel=2)\n\u001b[0;32m---> 88\u001b[0;31m             \u001b[0;32mreturn\u001b[0m \u001b[0mfunc\u001b[0m\u001b[0;34m(\u001b[0m\u001b[0;34m*\u001b[0m\u001b[0margs\u001b[0m\u001b[0;34m,\u001b[0m \u001b[0;34m**\u001b[0m\u001b[0mkwargs\u001b[0m\u001b[0;34m)\u001b[0m\u001b[0;34m\u001b[0m\u001b[0m\n\u001b[0m\u001b[1;32m     89\u001b[0m         \u001b[0mwrapper\u001b[0m\u001b[0;34m.\u001b[0m\u001b[0m_legacy_support_signature\u001b[0m \u001b[0;34m=\u001b[0m \u001b[0minspect\u001b[0m\u001b[0;34m.\u001b[0m\u001b[0mgetargspec\u001b[0m\u001b[0;34m(\u001b[0m\u001b[0mfunc\u001b[0m\u001b[0;34m)\u001b[0m\u001b[0;34m\u001b[0m\u001b[0m\n\u001b[1;32m     90\u001b[0m         \u001b[0;32mreturn\u001b[0m \u001b[0mwrapper\u001b[0m\u001b[0;34m\u001b[0m\u001b[0m\n",
      "\u001b[0;32m/usr/local/lib/python3.5/dist-packages/keras/engine/training.py\u001b[0m in \u001b[0;36mfit_generator\u001b[0;34m(self, generator, steps_per_epoch, epochs, verbose, callbacks, validation_data, validation_steps, class_weight, max_q_size, workers, pickle_safe, initial_epoch)\u001b[0m\n\u001b[1;32m   1874\u001b[0m                     outs = self.train_on_batch(x, y,\n\u001b[1;32m   1875\u001b[0m                                                \u001b[0msample_weight\u001b[0m\u001b[0;34m=\u001b[0m\u001b[0msample_weight\u001b[0m\u001b[0;34m,\u001b[0m\u001b[0;34m\u001b[0m\u001b[0m\n\u001b[0;32m-> 1876\u001b[0;31m                                                class_weight=class_weight)\n\u001b[0m\u001b[1;32m   1877\u001b[0m \u001b[0;34m\u001b[0m\u001b[0m\n\u001b[1;32m   1878\u001b[0m                     \u001b[0;32mif\u001b[0m \u001b[0;32mnot\u001b[0m \u001b[0misinstance\u001b[0m\u001b[0;34m(\u001b[0m\u001b[0mouts\u001b[0m\u001b[0;34m,\u001b[0m \u001b[0mlist\u001b[0m\u001b[0;34m)\u001b[0m\u001b[0;34m:\u001b[0m\u001b[0;34m\u001b[0m\u001b[0m\n",
      "\u001b[0;32m/usr/local/lib/python3.5/dist-packages/keras/engine/training.py\u001b[0m in \u001b[0;36mtrain_on_batch\u001b[0;34m(self, x, y, sample_weight, class_weight)\u001b[0m\n\u001b[1;32m   1618\u001b[0m             \u001b[0mins\u001b[0m \u001b[0;34m=\u001b[0m \u001b[0mx\u001b[0m \u001b[0;34m+\u001b[0m \u001b[0my\u001b[0m \u001b[0;34m+\u001b[0m \u001b[0msample_weights\u001b[0m\u001b[0;34m\u001b[0m\u001b[0m\n\u001b[1;32m   1619\u001b[0m         \u001b[0mself\u001b[0m\u001b[0;34m.\u001b[0m\u001b[0m_make_train_function\u001b[0m\u001b[0;34m(\u001b[0m\u001b[0;34m)\u001b[0m\u001b[0;34m\u001b[0m\u001b[0m\n\u001b[0;32m-> 1620\u001b[0;31m         \u001b[0moutputs\u001b[0m \u001b[0;34m=\u001b[0m \u001b[0mself\u001b[0m\u001b[0;34m.\u001b[0m\u001b[0mtrain_function\u001b[0m\u001b[0;34m(\u001b[0m\u001b[0mins\u001b[0m\u001b[0;34m)\u001b[0m\u001b[0;34m\u001b[0m\u001b[0m\n\u001b[0m\u001b[1;32m   1621\u001b[0m         \u001b[0;32mif\u001b[0m \u001b[0mlen\u001b[0m\u001b[0;34m(\u001b[0m\u001b[0moutputs\u001b[0m\u001b[0;34m)\u001b[0m \u001b[0;34m==\u001b[0m \u001b[0;36m1\u001b[0m\u001b[0;34m:\u001b[0m\u001b[0;34m\u001b[0m\u001b[0m\n\u001b[1;32m   1622\u001b[0m             \u001b[0;32mreturn\u001b[0m \u001b[0moutputs\u001b[0m\u001b[0;34m[\u001b[0m\u001b[0;36m0\u001b[0m\u001b[0;34m]\u001b[0m\u001b[0;34m\u001b[0m\u001b[0m\n",
      "\u001b[0;32m/usr/local/lib/python3.5/dist-packages/keras/backend/tensorflow_backend.py\u001b[0m in \u001b[0;36m__call__\u001b[0;34m(self, inputs)\u001b[0m\n\u001b[1;32m   2071\u001b[0m         \u001b[0msession\u001b[0m \u001b[0;34m=\u001b[0m \u001b[0mget_session\u001b[0m\u001b[0;34m(\u001b[0m\u001b[0;34m)\u001b[0m\u001b[0;34m\u001b[0m\u001b[0m\n\u001b[1;32m   2072\u001b[0m         updated = session.run(self.outputs + [self.updates_op],\n\u001b[0;32m-> 2073\u001b[0;31m                               feed_dict=feed_dict)\n\u001b[0m\u001b[1;32m   2074\u001b[0m         \u001b[0;32mreturn\u001b[0m \u001b[0mupdated\u001b[0m\u001b[0;34m[\u001b[0m\u001b[0;34m:\u001b[0m\u001b[0mlen\u001b[0m\u001b[0;34m(\u001b[0m\u001b[0mself\u001b[0m\u001b[0;34m.\u001b[0m\u001b[0moutputs\u001b[0m\u001b[0;34m)\u001b[0m\u001b[0;34m]\u001b[0m\u001b[0;34m\u001b[0m\u001b[0m\n\u001b[1;32m   2075\u001b[0m \u001b[0;34m\u001b[0m\u001b[0m\n",
      "\u001b[0;32m/usr/local/lib/python3.5/dist-packages/tensorflow/python/client/session.py\u001b[0m in \u001b[0;36mrun\u001b[0;34m(self, fetches, feed_dict, options, run_metadata)\u001b[0m\n\u001b[1;32m    765\u001b[0m     \u001b[0;32mtry\u001b[0m\u001b[0;34m:\u001b[0m\u001b[0;34m\u001b[0m\u001b[0m\n\u001b[1;32m    766\u001b[0m       result = self._run(None, fetches, feed_dict, options_ptr,\n\u001b[0;32m--> 767\u001b[0;31m                          run_metadata_ptr)\n\u001b[0m\u001b[1;32m    768\u001b[0m       \u001b[0;32mif\u001b[0m \u001b[0mrun_metadata\u001b[0m\u001b[0;34m:\u001b[0m\u001b[0;34m\u001b[0m\u001b[0m\n\u001b[1;32m    769\u001b[0m         \u001b[0mproto_data\u001b[0m \u001b[0;34m=\u001b[0m \u001b[0mtf_session\u001b[0m\u001b[0;34m.\u001b[0m\u001b[0mTF_GetBuffer\u001b[0m\u001b[0;34m(\u001b[0m\u001b[0mrun_metadata_ptr\u001b[0m\u001b[0;34m)\u001b[0m\u001b[0;34m\u001b[0m\u001b[0m\n",
      "\u001b[0;32m/usr/local/lib/python3.5/dist-packages/tensorflow/python/client/session.py\u001b[0m in \u001b[0;36m_run\u001b[0;34m(self, handle, fetches, feed_dict, options, run_metadata)\u001b[0m\n\u001b[1;32m    963\u001b[0m     \u001b[0;32mif\u001b[0m \u001b[0mfinal_fetches\u001b[0m \u001b[0;32mor\u001b[0m \u001b[0mfinal_targets\u001b[0m\u001b[0;34m:\u001b[0m\u001b[0;34m\u001b[0m\u001b[0m\n\u001b[1;32m    964\u001b[0m       results = self._do_run(handle, final_targets, final_fetches,\n\u001b[0;32m--> 965\u001b[0;31m                              feed_dict_string, options, run_metadata)\n\u001b[0m\u001b[1;32m    966\u001b[0m     \u001b[0;32melse\u001b[0m\u001b[0;34m:\u001b[0m\u001b[0;34m\u001b[0m\u001b[0m\n\u001b[1;32m    967\u001b[0m       \u001b[0mresults\u001b[0m \u001b[0;34m=\u001b[0m \u001b[0;34m[\u001b[0m\u001b[0;34m]\u001b[0m\u001b[0;34m\u001b[0m\u001b[0m\n",
      "\u001b[0;32m/usr/local/lib/python3.5/dist-packages/tensorflow/python/client/session.py\u001b[0m in \u001b[0;36m_do_run\u001b[0;34m(self, handle, target_list, fetch_list, feed_dict, options, run_metadata)\u001b[0m\n\u001b[1;32m   1013\u001b[0m     \u001b[0;32mif\u001b[0m \u001b[0mhandle\u001b[0m \u001b[0;32mis\u001b[0m \u001b[0;32mNone\u001b[0m\u001b[0;34m:\u001b[0m\u001b[0;34m\u001b[0m\u001b[0m\n\u001b[1;32m   1014\u001b[0m       return self._do_call(_run_fn, self._session, feed_dict, fetch_list,\n\u001b[0;32m-> 1015\u001b[0;31m                            target_list, options, run_metadata)\n\u001b[0m\u001b[1;32m   1016\u001b[0m     \u001b[0;32melse\u001b[0m\u001b[0;34m:\u001b[0m\u001b[0;34m\u001b[0m\u001b[0m\n\u001b[1;32m   1017\u001b[0m       return self._do_call(_prun_fn, self._session, handle, feed_dict,\n",
      "\u001b[0;32m/usr/local/lib/python3.5/dist-packages/tensorflow/python/client/session.py\u001b[0m in \u001b[0;36m_do_call\u001b[0;34m(self, fn, *args)\u001b[0m\n\u001b[1;32m   1020\u001b[0m   \u001b[0;32mdef\u001b[0m \u001b[0m_do_call\u001b[0m\u001b[0;34m(\u001b[0m\u001b[0mself\u001b[0m\u001b[0;34m,\u001b[0m \u001b[0mfn\u001b[0m\u001b[0;34m,\u001b[0m \u001b[0;34m*\u001b[0m\u001b[0margs\u001b[0m\u001b[0;34m)\u001b[0m\u001b[0;34m:\u001b[0m\u001b[0;34m\u001b[0m\u001b[0m\n\u001b[1;32m   1021\u001b[0m     \u001b[0;32mtry\u001b[0m\u001b[0;34m:\u001b[0m\u001b[0;34m\u001b[0m\u001b[0m\n\u001b[0;32m-> 1022\u001b[0;31m       \u001b[0;32mreturn\u001b[0m \u001b[0mfn\u001b[0m\u001b[0;34m(\u001b[0m\u001b[0;34m*\u001b[0m\u001b[0margs\u001b[0m\u001b[0;34m)\u001b[0m\u001b[0;34m\u001b[0m\u001b[0m\n\u001b[0m\u001b[1;32m   1023\u001b[0m     \u001b[0;32mexcept\u001b[0m \u001b[0merrors\u001b[0m\u001b[0;34m.\u001b[0m\u001b[0mOpError\u001b[0m \u001b[0;32mas\u001b[0m \u001b[0me\u001b[0m\u001b[0;34m:\u001b[0m\u001b[0;34m\u001b[0m\u001b[0m\n\u001b[1;32m   1024\u001b[0m       \u001b[0mmessage\u001b[0m \u001b[0;34m=\u001b[0m \u001b[0mcompat\u001b[0m\u001b[0;34m.\u001b[0m\u001b[0mas_text\u001b[0m\u001b[0;34m(\u001b[0m\u001b[0me\u001b[0m\u001b[0;34m.\u001b[0m\u001b[0mmessage\u001b[0m\u001b[0;34m)\u001b[0m\u001b[0;34m\u001b[0m\u001b[0m\n",
      "\u001b[0;32m/usr/local/lib/python3.5/dist-packages/tensorflow/python/client/session.py\u001b[0m in \u001b[0;36m_run_fn\u001b[0;34m(session, feed_dict, fetch_list, target_list, options, run_metadata)\u001b[0m\n\u001b[1;32m   1002\u001b[0m         return tf_session.TF_Run(session, options,\n\u001b[1;32m   1003\u001b[0m                                  \u001b[0mfeed_dict\u001b[0m\u001b[0;34m,\u001b[0m \u001b[0mfetch_list\u001b[0m\u001b[0;34m,\u001b[0m \u001b[0mtarget_list\u001b[0m\u001b[0;34m,\u001b[0m\u001b[0;34m\u001b[0m\u001b[0m\n\u001b[0;32m-> 1004\u001b[0;31m                                  status, run_metadata)\n\u001b[0m\u001b[1;32m   1005\u001b[0m \u001b[0;34m\u001b[0m\u001b[0m\n\u001b[1;32m   1006\u001b[0m     \u001b[0;32mdef\u001b[0m \u001b[0m_prun_fn\u001b[0m\u001b[0;34m(\u001b[0m\u001b[0msession\u001b[0m\u001b[0;34m,\u001b[0m \u001b[0mhandle\u001b[0m\u001b[0;34m,\u001b[0m \u001b[0mfeed_dict\u001b[0m\u001b[0;34m,\u001b[0m \u001b[0mfetch_list\u001b[0m\u001b[0;34m)\u001b[0m\u001b[0;34m:\u001b[0m\u001b[0;34m\u001b[0m\u001b[0m\n",
      "\u001b[0;31mKeyboardInterrupt\u001b[0m: "
     ]
    }
   ],
   "source": [
    "model.fit_generator(gen, steps_per_epoch=32, epochs=32, verbose=0, \n",
    "                    callbacks=[watchlist, TQDMNotebookCallback()])"
   ]
  },
  {
   "cell_type": "code",
   "execution_count": 68,
   "metadata": {
    "collapsed": true
   },
   "outputs": [],
   "source": [
    "model.save_weights('mt-03.bin')"
   ]
  },
  {
   "cell_type": "code",
   "execution_count": 69,
   "metadata": {
    "collapsed": false,
    "scrolled": true
   },
   "outputs": [
    {
     "name": "stdout",
     "output_type": "stream",
     "text": [
      "epoch no 0, logloss=8.6929, \n",
      "epoch no 1, logloss=8.6924, \n",
      "epoch no 2, logloss=8.6927, \n",
      "epoch no 3, logloss=8.6922, \n",
      "epoch no 4, logloss=8.6918, \n",
      "epoch no 5, logloss=8.6919, \n",
      "epoch no 6, logloss=8.6919, \n",
      "epoch no 7, logloss=8.6916, \n",
      "epoch no 8, logloss=8.6917, \n",
      "epoch no 9, logloss=8.6914, \n",
      "epoch no 10, logloss=8.6916, \n",
      "epoch no 11, logloss=8.6916, \n"
     ]
    },
    {
     "ename": "KeyboardInterrupt",
     "evalue": "",
     "output_type": "error",
     "traceback": [
      "\u001b[0;31m---------------------------------------------------------------------------\u001b[0m",
      "\u001b[0;31mKeyboardInterrupt\u001b[0m                         Traceback (most recent call last)",
      "\u001b[0;32m<ipython-input-69-299dc3638db5>\u001b[0m in \u001b[0;36m<module>\u001b[0;34m()\u001b[0m\n\u001b[1;32m      1\u001b[0m \u001b[0mK\u001b[0m\u001b[0;34m.\u001b[0m\u001b[0mset_value\u001b[0m\u001b[0;34m(\u001b[0m\u001b[0mmodel\u001b[0m\u001b[0;34m.\u001b[0m\u001b[0moptimizer\u001b[0m\u001b[0;34m.\u001b[0m\u001b[0mlr\u001b[0m\u001b[0;34m,\u001b[0m \u001b[0;36m0.0001\u001b[0m\u001b[0;34m)\u001b[0m\u001b[0;34m\u001b[0m\u001b[0m\n\u001b[1;32m      2\u001b[0m model.fit_generator(gen, steps_per_epoch=32, epochs=32, verbose=0, \n\u001b[0;32m----> 3\u001b[0;31m                     callbacks=[watchlist, TQDMNotebookCallback()])\n\u001b[0m",
      "\u001b[0;32m/usr/local/lib/python3.5/dist-packages/keras/legacy/interfaces.py\u001b[0m in \u001b[0;36mwrapper\u001b[0;34m(*args, **kwargs)\u001b[0m\n\u001b[1;32m     86\u001b[0m                 warnings.warn('Update your `' + object_name +\n\u001b[1;32m     87\u001b[0m                               '` call to the Keras 2 API: ' + signature, stacklevel=2)\n\u001b[0;32m---> 88\u001b[0;31m             \u001b[0;32mreturn\u001b[0m \u001b[0mfunc\u001b[0m\u001b[0;34m(\u001b[0m\u001b[0;34m*\u001b[0m\u001b[0margs\u001b[0m\u001b[0;34m,\u001b[0m \u001b[0;34m**\u001b[0m\u001b[0mkwargs\u001b[0m\u001b[0;34m)\u001b[0m\u001b[0;34m\u001b[0m\u001b[0m\n\u001b[0m\u001b[1;32m     89\u001b[0m         \u001b[0mwrapper\u001b[0m\u001b[0;34m.\u001b[0m\u001b[0m_legacy_support_signature\u001b[0m \u001b[0;34m=\u001b[0m \u001b[0minspect\u001b[0m\u001b[0;34m.\u001b[0m\u001b[0mgetargspec\u001b[0m\u001b[0;34m(\u001b[0m\u001b[0mfunc\u001b[0m\u001b[0;34m)\u001b[0m\u001b[0;34m\u001b[0m\u001b[0m\n\u001b[1;32m     90\u001b[0m         \u001b[0;32mreturn\u001b[0m \u001b[0mwrapper\u001b[0m\u001b[0;34m\u001b[0m\u001b[0m\n",
      "\u001b[0;32m/usr/local/lib/python3.5/dist-packages/keras/engine/training.py\u001b[0m in \u001b[0;36mfit_generator\u001b[0;34m(self, generator, steps_per_epoch, epochs, verbose, callbacks, validation_data, validation_steps, class_weight, max_q_size, workers, pickle_safe, initial_epoch)\u001b[0m\n\u001b[1;32m   1874\u001b[0m                     outs = self.train_on_batch(x, y,\n\u001b[1;32m   1875\u001b[0m                                                \u001b[0msample_weight\u001b[0m\u001b[0;34m=\u001b[0m\u001b[0msample_weight\u001b[0m\u001b[0;34m,\u001b[0m\u001b[0;34m\u001b[0m\u001b[0m\n\u001b[0;32m-> 1876\u001b[0;31m                                                class_weight=class_weight)\n\u001b[0m\u001b[1;32m   1877\u001b[0m \u001b[0;34m\u001b[0m\u001b[0m\n\u001b[1;32m   1878\u001b[0m                     \u001b[0;32mif\u001b[0m \u001b[0;32mnot\u001b[0m \u001b[0misinstance\u001b[0m\u001b[0;34m(\u001b[0m\u001b[0mouts\u001b[0m\u001b[0;34m,\u001b[0m \u001b[0mlist\u001b[0m\u001b[0;34m)\u001b[0m\u001b[0;34m:\u001b[0m\u001b[0;34m\u001b[0m\u001b[0m\n",
      "\u001b[0;32m/usr/local/lib/python3.5/dist-packages/keras/engine/training.py\u001b[0m in \u001b[0;36mtrain_on_batch\u001b[0;34m(self, x, y, sample_weight, class_weight)\u001b[0m\n\u001b[1;32m   1618\u001b[0m             \u001b[0mins\u001b[0m \u001b[0;34m=\u001b[0m \u001b[0mx\u001b[0m \u001b[0;34m+\u001b[0m \u001b[0my\u001b[0m \u001b[0;34m+\u001b[0m \u001b[0msample_weights\u001b[0m\u001b[0;34m\u001b[0m\u001b[0m\n\u001b[1;32m   1619\u001b[0m         \u001b[0mself\u001b[0m\u001b[0;34m.\u001b[0m\u001b[0m_make_train_function\u001b[0m\u001b[0;34m(\u001b[0m\u001b[0;34m)\u001b[0m\u001b[0;34m\u001b[0m\u001b[0m\n\u001b[0;32m-> 1620\u001b[0;31m         \u001b[0moutputs\u001b[0m \u001b[0;34m=\u001b[0m \u001b[0mself\u001b[0m\u001b[0;34m.\u001b[0m\u001b[0mtrain_function\u001b[0m\u001b[0;34m(\u001b[0m\u001b[0mins\u001b[0m\u001b[0;34m)\u001b[0m\u001b[0;34m\u001b[0m\u001b[0m\n\u001b[0m\u001b[1;32m   1621\u001b[0m         \u001b[0;32mif\u001b[0m \u001b[0mlen\u001b[0m\u001b[0;34m(\u001b[0m\u001b[0moutputs\u001b[0m\u001b[0;34m)\u001b[0m \u001b[0;34m==\u001b[0m \u001b[0;36m1\u001b[0m\u001b[0;34m:\u001b[0m\u001b[0;34m\u001b[0m\u001b[0m\n\u001b[1;32m   1622\u001b[0m             \u001b[0;32mreturn\u001b[0m \u001b[0moutputs\u001b[0m\u001b[0;34m[\u001b[0m\u001b[0;36m0\u001b[0m\u001b[0;34m]\u001b[0m\u001b[0;34m\u001b[0m\u001b[0m\n",
      "\u001b[0;32m/usr/local/lib/python3.5/dist-packages/keras/backend/tensorflow_backend.py\u001b[0m in \u001b[0;36m__call__\u001b[0;34m(self, inputs)\u001b[0m\n\u001b[1;32m   2071\u001b[0m         \u001b[0msession\u001b[0m \u001b[0;34m=\u001b[0m \u001b[0mget_session\u001b[0m\u001b[0;34m(\u001b[0m\u001b[0;34m)\u001b[0m\u001b[0;34m\u001b[0m\u001b[0m\n\u001b[1;32m   2072\u001b[0m         updated = session.run(self.outputs + [self.updates_op],\n\u001b[0;32m-> 2073\u001b[0;31m                               feed_dict=feed_dict)\n\u001b[0m\u001b[1;32m   2074\u001b[0m         \u001b[0;32mreturn\u001b[0m \u001b[0mupdated\u001b[0m\u001b[0;34m[\u001b[0m\u001b[0;34m:\u001b[0m\u001b[0mlen\u001b[0m\u001b[0;34m(\u001b[0m\u001b[0mself\u001b[0m\u001b[0;34m.\u001b[0m\u001b[0moutputs\u001b[0m\u001b[0;34m)\u001b[0m\u001b[0;34m]\u001b[0m\u001b[0;34m\u001b[0m\u001b[0m\n\u001b[1;32m   2075\u001b[0m \u001b[0;34m\u001b[0m\u001b[0m\n",
      "\u001b[0;32m/usr/local/lib/python3.5/dist-packages/tensorflow/python/client/session.py\u001b[0m in \u001b[0;36mrun\u001b[0;34m(self, fetches, feed_dict, options, run_metadata)\u001b[0m\n\u001b[1;32m    765\u001b[0m     \u001b[0;32mtry\u001b[0m\u001b[0;34m:\u001b[0m\u001b[0;34m\u001b[0m\u001b[0m\n\u001b[1;32m    766\u001b[0m       result = self._run(None, fetches, feed_dict, options_ptr,\n\u001b[0;32m--> 767\u001b[0;31m                          run_metadata_ptr)\n\u001b[0m\u001b[1;32m    768\u001b[0m       \u001b[0;32mif\u001b[0m \u001b[0mrun_metadata\u001b[0m\u001b[0;34m:\u001b[0m\u001b[0;34m\u001b[0m\u001b[0m\n\u001b[1;32m    769\u001b[0m         \u001b[0mproto_data\u001b[0m \u001b[0;34m=\u001b[0m \u001b[0mtf_session\u001b[0m\u001b[0;34m.\u001b[0m\u001b[0mTF_GetBuffer\u001b[0m\u001b[0;34m(\u001b[0m\u001b[0mrun_metadata_ptr\u001b[0m\u001b[0;34m)\u001b[0m\u001b[0;34m\u001b[0m\u001b[0m\n",
      "\u001b[0;32m/usr/local/lib/python3.5/dist-packages/tensorflow/python/client/session.py\u001b[0m in \u001b[0;36m_run\u001b[0;34m(self, handle, fetches, feed_dict, options, run_metadata)\u001b[0m\n\u001b[1;32m    963\u001b[0m     \u001b[0;32mif\u001b[0m \u001b[0mfinal_fetches\u001b[0m \u001b[0;32mor\u001b[0m \u001b[0mfinal_targets\u001b[0m\u001b[0;34m:\u001b[0m\u001b[0;34m\u001b[0m\u001b[0m\n\u001b[1;32m    964\u001b[0m       results = self._do_run(handle, final_targets, final_fetches,\n\u001b[0;32m--> 965\u001b[0;31m                              feed_dict_string, options, run_metadata)\n\u001b[0m\u001b[1;32m    966\u001b[0m     \u001b[0;32melse\u001b[0m\u001b[0;34m:\u001b[0m\u001b[0;34m\u001b[0m\u001b[0m\n\u001b[1;32m    967\u001b[0m       \u001b[0mresults\u001b[0m \u001b[0;34m=\u001b[0m \u001b[0;34m[\u001b[0m\u001b[0;34m]\u001b[0m\u001b[0;34m\u001b[0m\u001b[0m\n",
      "\u001b[0;32m/usr/local/lib/python3.5/dist-packages/tensorflow/python/client/session.py\u001b[0m in \u001b[0;36m_do_run\u001b[0;34m(self, handle, target_list, fetch_list, feed_dict, options, run_metadata)\u001b[0m\n\u001b[1;32m   1013\u001b[0m     \u001b[0;32mif\u001b[0m \u001b[0mhandle\u001b[0m \u001b[0;32mis\u001b[0m \u001b[0;32mNone\u001b[0m\u001b[0;34m:\u001b[0m\u001b[0;34m\u001b[0m\u001b[0m\n\u001b[1;32m   1014\u001b[0m       return self._do_call(_run_fn, self._session, feed_dict, fetch_list,\n\u001b[0;32m-> 1015\u001b[0;31m                            target_list, options, run_metadata)\n\u001b[0m\u001b[1;32m   1016\u001b[0m     \u001b[0;32melse\u001b[0m\u001b[0;34m:\u001b[0m\u001b[0;34m\u001b[0m\u001b[0m\n\u001b[1;32m   1017\u001b[0m       return self._do_call(_prun_fn, self._session, handle, feed_dict,\n",
      "\u001b[0;32m/usr/local/lib/python3.5/dist-packages/tensorflow/python/client/session.py\u001b[0m in \u001b[0;36m_do_call\u001b[0;34m(self, fn, *args)\u001b[0m\n\u001b[1;32m   1020\u001b[0m   \u001b[0;32mdef\u001b[0m \u001b[0m_do_call\u001b[0m\u001b[0;34m(\u001b[0m\u001b[0mself\u001b[0m\u001b[0;34m,\u001b[0m \u001b[0mfn\u001b[0m\u001b[0;34m,\u001b[0m \u001b[0;34m*\u001b[0m\u001b[0margs\u001b[0m\u001b[0;34m)\u001b[0m\u001b[0;34m:\u001b[0m\u001b[0;34m\u001b[0m\u001b[0m\n\u001b[1;32m   1021\u001b[0m     \u001b[0;32mtry\u001b[0m\u001b[0;34m:\u001b[0m\u001b[0;34m\u001b[0m\u001b[0m\n\u001b[0;32m-> 1022\u001b[0;31m       \u001b[0;32mreturn\u001b[0m \u001b[0mfn\u001b[0m\u001b[0;34m(\u001b[0m\u001b[0;34m*\u001b[0m\u001b[0margs\u001b[0m\u001b[0;34m)\u001b[0m\u001b[0;34m\u001b[0m\u001b[0m\n\u001b[0m\u001b[1;32m   1023\u001b[0m     \u001b[0;32mexcept\u001b[0m \u001b[0merrors\u001b[0m\u001b[0;34m.\u001b[0m\u001b[0mOpError\u001b[0m \u001b[0;32mas\u001b[0m \u001b[0me\u001b[0m\u001b[0;34m:\u001b[0m\u001b[0;34m\u001b[0m\u001b[0m\n\u001b[1;32m   1024\u001b[0m       \u001b[0mmessage\u001b[0m \u001b[0;34m=\u001b[0m \u001b[0mcompat\u001b[0m\u001b[0;34m.\u001b[0m\u001b[0mas_text\u001b[0m\u001b[0;34m(\u001b[0m\u001b[0me\u001b[0m\u001b[0;34m.\u001b[0m\u001b[0mmessage\u001b[0m\u001b[0;34m)\u001b[0m\u001b[0;34m\u001b[0m\u001b[0m\n",
      "\u001b[0;32m/usr/local/lib/python3.5/dist-packages/tensorflow/python/client/session.py\u001b[0m in \u001b[0;36m_run_fn\u001b[0;34m(session, feed_dict, fetch_list, target_list, options, run_metadata)\u001b[0m\n\u001b[1;32m   1002\u001b[0m         return tf_session.TF_Run(session, options,\n\u001b[1;32m   1003\u001b[0m                                  \u001b[0mfeed_dict\u001b[0m\u001b[0;34m,\u001b[0m \u001b[0mfetch_list\u001b[0m\u001b[0;34m,\u001b[0m \u001b[0mtarget_list\u001b[0m\u001b[0;34m,\u001b[0m\u001b[0;34m\u001b[0m\u001b[0m\n\u001b[0;32m-> 1004\u001b[0;31m                                  status, run_metadata)\n\u001b[0m\u001b[1;32m   1005\u001b[0m \u001b[0;34m\u001b[0m\u001b[0m\n\u001b[1;32m   1006\u001b[0m     \u001b[0;32mdef\u001b[0m \u001b[0m_prun_fn\u001b[0m\u001b[0;34m(\u001b[0m\u001b[0msession\u001b[0m\u001b[0;34m,\u001b[0m \u001b[0mhandle\u001b[0m\u001b[0;34m,\u001b[0m \u001b[0mfeed_dict\u001b[0m\u001b[0;34m,\u001b[0m \u001b[0mfetch_list\u001b[0m\u001b[0;34m)\u001b[0m\u001b[0;34m:\u001b[0m\u001b[0;34m\u001b[0m\u001b[0m\n",
      "\u001b[0;31mKeyboardInterrupt\u001b[0m: "
     ]
    }
   ],
   "source": [
    "K.set_value(model.optimizer.lr, 0.0001)\n",
    "model.fit_generator(gen, steps_per_epoch=32, epochs=32, verbose=0, \n",
    "                    callbacks=[watchlist, TQDMNotebookCallback()])"
   ]
  },
  {
   "cell_type": "code",
   "execution_count": 70,
   "metadata": {
    "collapsed": true
   },
   "outputs": [],
   "source": [
    "model.save_weights('mt-04.bin')"
   ]
  },
  {
   "cell_type": "code",
   "execution_count": 31,
   "metadata": {
    "collapsed": true
   },
   "outputs": [],
   "source": [
    "model.load_weights('mt-04.bin')"
   ]
  },
  {
   "cell_type": "code",
   "execution_count": 36,
   "metadata": {
    "collapsed": false
   },
   "outputs": [],
   "source": [
    "def prepare_pred_row(prow):\n",
    "    classes = (-prow).argsort()[:20]\n",
    "    scores = prow[classes]\n",
    "    return ' '.join(['%d %0.3f' % (c, s) for (c, s) in zip(classes, scores)])"
   ]
  },
  {
   "cell_type": "code",
   "execution_count": 37,
   "metadata": {
    "collapsed": false
   },
   "outputs": [
    {
     "name": "stdout",
     "output_type": "stream",
     "text": [
      "\n"
     ]
    }
   ],
   "source": [
    "with open('subm10_val.csv', 'w') as f:\n",
    "    f.write('VideoId,LabelConfidencePairs\\n')\n",
    "\n",
    "    for fn in tqdm(test_recs):\n",
    "        ids, _, rgb, audio = read_file(fn)\n",
    "        X = np.hstack([rgb, audio])\n",
    "        X = scaler.transform(X)\n",
    "\n",
    "        pred = model.predict(X)\n",
    "\n",
    "        for id, prow in zip(ids, pred):\n",
    "            lab_conf = prepare_pred_row(prow)\n",
    "            f.write('%s,%s\\n' % (id, lab_conf))\n",
    "\n",
    "        #break"
   ]
  },
  {
   "cell_type": "code",
   "execution_count": 38,
   "metadata": {
    "collapsed": true
   },
   "outputs": [],
   "source": [
    "!gzip subm10_val.csv"
   ]
  },
  {
   "cell_type": "code",
   "execution_count": 77,
   "metadata": {
    "collapsed": false
   },
   "outputs": [
    {
     "name": "stdout",
     "output_type": "stream",
     "text": [
      "_________________________________________________________________\n",
      "Layer (type)                 Output Shape              Param #   \n",
      "=================================================================\n",
      "input_4 (InputLayer)         (None, 1152)              0         \n",
      "_________________________________________________________________\n",
      "dense_13 (Dense)             (None, 4000)              4612000   \n",
      "_________________________________________________________________\n",
      "activation_13 (Activation)   (None, 4000)              0         \n",
      "_________________________________________________________________\n",
      "dropout_10 (Dropout)         (None, 4000)              0         \n",
      "_________________________________________________________________\n",
      "batch_normalization_7 (Batch (None, 4000)              16000     \n",
      "_________________________________________________________________\n",
      "dense_14 (Dense)             (None, 1000)              4001000   \n",
      "_________________________________________________________________\n",
      "activation_14 (Activation)   (None, 1000)              0         \n",
      "_________________________________________________________________\n",
      "dropout_11 (Dropout)         (None, 1000)              0         \n",
      "_________________________________________________________________\n",
      "batch_normalization_8 (Batch (None, 1000)              4000      \n",
      "_________________________________________________________________\n",
      "dense_15 (Dense)             (None, 1000)              1001000   \n",
      "_________________________________________________________________\n",
      "activation_15 (Activation)   (None, 1000)              0         \n",
      "_________________________________________________________________\n",
      "dropout_12 (Dropout)         (None, 1000)              0         \n",
      "_________________________________________________________________\n",
      "batch_normalization_9 (Batch (None, 1000)              4000      \n",
      "_________________________________________________________________\n",
      "dense_16 (Dense)             (None, 4000)              4004000   \n",
      "_________________________________________________________________\n",
      "activation_16 (Activation)   (None, 4000)              0         \n",
      "_________________________________________________________________\n",
      "dropout_13 (Dropout)         (None, 4000)              0         \n",
      "_________________________________________________________________\n",
      "concatenate_4 (Concatenate)  (None, 8000)              0         \n",
      "_________________________________________________________________\n",
      "dense_17 (Dense)             (None, 4716)              37732716  \n",
      "_________________________________________________________________\n",
      "activation_17 (Activation)   (None, 4716)              0         \n",
      "=================================================================\n",
      "Total params: 51,374,716.0\n",
      "Trainable params: 51,362,716.0\n",
      "Non-trainable params: 12,000.0\n",
      "_________________________________________________________________\n"
     ]
    }
   ],
   "source": [
    "model.summary()"
   ]
  },
  {
   "cell_type": "code",
   "execution_count": null,
   "metadata": {
    "collapsed": true
   },
   "outputs": [],
   "source": []
  }
 ],
 "metadata": {
  "kernelspec": {
   "display_name": "Python 3",
   "language": "python",
   "name": "python3"
  },
  "language_info": {
   "codemirror_mode": {
    "name": "ipython",
    "version": 3
   },
   "file_extension": ".py",
   "mimetype": "text/x-python",
   "name": "python",
   "nbconvert_exporter": "python",
   "pygments_lexer": "ipython3",
   "version": "3.5.2"
  },
  "widgets": {
   "state": {
    "0102211e305b4914aa8a5838a5fcf82c": {
     "views": [
      {
       "cell_index": 34
      }
     ]
    },
    "01c0a15bdd174a84a57a9dbd899b1f3d": {
     "views": [
      {
       "cell_index": 29
      }
     ]
    },
    "028b5a12bf14497fbc4cb0c24141de6c": {
     "views": [
      {
       "cell_index": 37
      }
     ]
    },
    "03b5c7066f66478aa12b3f2d710e22d2": {
     "views": [
      {
       "cell_index": 29
      }
     ]
    },
    "03bd5f78fbba427087a5696ad6602bfa": {
     "views": [
      {
       "cell_index": 29
      }
     ]
    },
    "04240123d3aa4437a2d6afc9a87314f9": {
     "views": [
      {
       "cell_index": 29
      }
     ]
    },
    "043f2e7f2d254c01842c2379c003fda0": {
     "views": [
      {
       "cell_index": 28
      }
     ]
    },
    "045366e5c7904a729880ce98dd76e956": {
     "views": [
      {
       "cell_index": 39
      }
     ]
    },
    "0456a29986784ab39596ab2ffc66daff": {
     "views": [
      {
       "cell_index": 29
      }
     ]
    },
    "066b1f947b9b4ac2a6170c94c7f32dae": {
     "views": [
      {
       "cell_index": 29
      }
     ]
    },
    "0775e06decbb46f2a365365684d4d340": {
     "views": [
      {
       "cell_index": 29
      }
     ]
    },
    "08b77204ecfc4082a7c9c4d7a6347e6a": {
     "views": [
      {
       "cell_index": 29
      }
     ]
    },
    "093522d86c1e4308928975e4eab06c76": {
     "views": [
      {
       "cell_index": 45
      }
     ]
    },
    "09ae0d50a0fd43de965849ed0c708406": {
     "views": [
      {
       "cell_index": 45
      }
     ]
    },
    "09c2c0d87659422598a0a3ac47f2862c": {
     "views": [
      {
       "cell_index": 29
      }
     ]
    },
    "09f3f075c9af4122a369b448ef7cfc2a": {
     "views": [
      {
       "cell_index": 29
      }
     ]
    },
    "0a1aeb3052e74d4b9419919708e10796": {
     "views": [
      {
       "cell_index": 37
      }
     ]
    },
    "0bbc0a356a104685b3f9faffad9b43da": {
     "views": [
      {
       "cell_index": 28
      }
     ]
    },
    "0c3b481dd14f45cd8860691133574339": {
     "views": [
      {
       "cell_index": 29
      }
     ]
    },
    "0d0b58a784934f5083d0a86d1c904210": {
     "views": [
      {
       "cell_index": 29
      }
     ]
    },
    "0d932cc20c934f649bf54d3bdba30083": {
     "views": [
      {
       "cell_index": 29
      }
     ]
    },
    "0f2ef2b3d6eb489797e386f934107420": {
     "views": [
      {
       "cell_index": 37
      }
     ]
    },
    "0f5d591d862c402bb49104ec2194c43c": {
     "views": [
      {
       "cell_index": 28
      }
     ]
    },
    "10623c02cc084b30adfb0fcc71ed0d48": {
     "views": [
      {
       "cell_index": 29
      }
     ]
    },
    "10722bcfec4b40a28658aecc755bff32": {
     "views": [
      {
       "cell_index": 29
      }
     ]
    },
    "10c4a7ff69194ad982382b5bc5e4c177": {
     "views": [
      {
       "cell_index": 34
      }
     ]
    },
    "10dac8229d484f9cafb9b7ccd61922c1": {
     "views": [
      {
       "cell_index": 29
      }
     ]
    },
    "11218ce0fadd426db0a05defc6f60402": {
     "views": [
      {
       "cell_index": 29
      }
     ]
    },
    "1125078d1df641f9958625e7a6a72061": {
     "views": [
      {
       "cell_index": 29
      }
     ]
    },
    "125c65eb1a2647f99e7514850527aa83": {
     "views": [
      {
       "cell_index": 29
      }
     ]
    },
    "12bc4ef71c744291ad97f41c7e267c67": {
     "views": [
      {
       "cell_index": 29
      }
     ]
    },
    "132e27dad84f4a118576137e938e40c8": {
     "views": [
      {
       "cell_index": 29
      }
     ]
    },
    "142a9d30508d4075bb745b994c68c551": {
     "views": [
      {
       "cell_index": 29
      }
     ]
    },
    "144c06ccd5784a309a4e734c55ba8c70": {
     "views": [
      {
       "cell_index": 37
      }
     ]
    },
    "146cee87763243e09721ad2d4725f0c6": {
     "views": [
      {
       "cell_index": 29
      }
     ]
    },
    "148a738d9f01401aadc5d615eaaf72df": {
     "views": [
      {
       "cell_index": 28
      }
     ]
    },
    "1581b3e9ff6b47918848345b5fdc16f0": {
     "views": [
      {
       "cell_index": 29
      }
     ]
    },
    "15db601ed29e4d44b40ce4ea48906f43": {
     "views": [
      {
       "cell_index": 29
      }
     ]
    },
    "15dc606f8c294930813d3409ec4c1ffb": {
     "views": [
      {
       "cell_index": 29
      }
     ]
    },
    "1602ee56e6f64920b9a6e1c8c09f6076": {
     "views": [
      {
       "cell_index": 29
      }
     ]
    },
    "1688531f972446d9bf530096d4bfdc32": {
     "views": [
      {
       "cell_index": 29
      }
     ]
    },
    "1902b8d69ad0451182afc2a905d48e51": {
     "views": [
      {
       "cell_index": 34
      }
     ]
    },
    "192b255c46f44d598e78e621ed53d64d": {
     "views": [
      {
       "cell_index": 37
      }
     ]
    },
    "1941ae8bc3d8476eb8ee130cf291f398": {
     "views": [
      {
       "cell_index": 33
      }
     ]
    },
    "19a594fa2fab4260973b2408a491573d": {
     "views": [
      {
       "cell_index": 29
      }
     ]
    },
    "19c8e58d319d4727b75ebe30f727a98d": {
     "views": [
      {
       "cell_index": 28
      }
     ]
    },
    "19d69e4fe17c484f8efdfda1dd715d15": {
     "views": [
      {
       "cell_index": 29
      }
     ]
    },
    "1a3b8165993243799ed2e3a2f663aeda": {
     "views": [
      {
       "cell_index": 28
      }
     ]
    },
    "1aad2870c1d3475ebcdebda0b6da89b5": {
     "views": [
      {
       "cell_index": 45
      }
     ]
    },
    "1b0df72813df440fa8d6372875c33b05": {
     "views": [
      {
       "cell_index": 29
      }
     ]
    },
    "1c3e70c78c8940d597538f642fb475fe": {
     "views": [
      {
       "cell_index": 29
      }
     ]
    },
    "1c7b744084ed453c9184632c347fcc5f": {
     "views": [
      {
       "cell_index": 33
      }
     ]
    },
    "1c7fce30bcbb4312bbfccf4ff8b1b7b0": {
     "views": [
      {
       "cell_index": 29
      }
     ]
    },
    "1cc8f73421524a5f88eb35c8b5ba9b28": {
     "views": [
      {
       "cell_index": 34
      }
     ]
    },
    "1f1150a61bc8475e9b5cffdb814b1ecd": {
     "views": [
      {
       "cell_index": 29
      }
     ]
    },
    "1f11afbdc9d34dfcab50061156621927": {
     "views": [
      {
       "cell_index": 34
      }
     ]
    },
    "1f2bf07db0554f7992fd8104c30ee557": {
     "views": [
      {
       "cell_index": 29
      }
     ]
    },
    "215c006ffee04306a53d5d4faf7a8bb8": {
     "views": [
      {
       "cell_index": 34
      }
     ]
    },
    "21d0119880a04706b872d7695cf72e24": {
     "views": [
      {
       "cell_index": 45
      }
     ]
    },
    "21d03946c4824baba73ab83ade4bc7d7": {
     "views": [
      {
       "cell_index": 29
      }
     ]
    },
    "23144197ecb74d81ba87f1ae4d686992": {
     "views": [
      {
       "cell_index": 29
      }
     ]
    },
    "241ea925771a4203a0e5b87b4b5f805f": {
     "views": [
      {
       "cell_index": 29
      }
     ]
    },
    "24398147acea47159844007c8db07ccf": {
     "views": [
      {
       "cell_index": 29
      }
     ]
    },
    "2472dff326d74db683851bc359a5ed0b": {
     "views": [
      {
       "cell_index": 29
      }
     ]
    },
    "250088e92f3d427f8ec802b02c7aafb9": {
     "views": [
      {
       "cell_index": 28
      }
     ]
    },
    "2544c9c87370415fa961c1648880c59a": {
     "views": [
      {
       "cell_index": 39
      }
     ]
    },
    "259b52a4e1044ee5ba7829e185852486": {
     "views": [
      {
       "cell_index": 47
      }
     ]
    },
    "25cb905ddee04d0eb5ac117329be23e8": {
     "views": [
      {
       "cell_index": 29
      }
     ]
    },
    "275566dc4d9d4b9889cc83d202952829": {
     "views": [
      {
       "cell_index": 29
      }
     ]
    },
    "27696d4dfe884c4baedce030250ef56e": {
     "views": [
      {
       "cell_index": 29
      }
     ]
    },
    "27805d29dea94c7f96dd446ab2d85e4a": {
     "views": [
      {
       "cell_index": 29
      }
     ]
    },
    "2831f3bf01014c238b327df28e75bebd": {
     "views": [
      {
       "cell_index": 37
      }
     ]
    },
    "28538f848c0f4ffa9318149645717746": {
     "views": [
      {
       "cell_index": 28
      }
     ]
    },
    "2a1f10fba97042eebd6c8e5ebc683298": {
     "views": [
      {
       "cell_index": 33
      }
     ]
    },
    "2a2e1d2bbe954883bf6da86b739da214": {
     "views": [
      {
       "cell_index": 29
      }
     ]
    },
    "2b3f7965ea2f4da6b772be48b99b626e": {
     "views": [
      {
       "cell_index": 28
      }
     ]
    },
    "2b4924386a164180a75f8af1fca2bc6f": {
     "views": [
      {
       "cell_index": 33
      }
     ]
    },
    "2bd435f96ac5418abec43393f5286c32": {
     "views": [
      {
       "cell_index": 28
      }
     ]
    },
    "2bdd5b16b9b24ea4904b342a5cec9ef5": {
     "views": [
      {
       "cell_index": 29
      }
     ]
    },
    "2e562281083b4fd798e8ead640eab9d2": {
     "views": [
      {
       "cell_index": 29
      }
     ]
    },
    "2ebe5d0db4cc4d63a13265f91fd77470": {
     "views": [
      {
       "cell_index": 29
      }
     ]
    },
    "2fc7fd20b2d3446793a75336119a35ac": {
     "views": [
      {
       "cell_index": 29
      }
     ]
    },
    "30bd4fde46d341f5aedf8b76fbdc44fa": {
     "views": [
      {
       "cell_index": 29
      }
     ]
    },
    "312abce3c5124433bf8df042dc7c4c19": {
     "views": [
      {
       "cell_index": 29
      }
     ]
    },
    "3159be9247ae47b5b9768d8270b79918": {
     "views": [
      {
       "cell_index": 29
      }
     ]
    },
    "31e983fa2967489995d1d6f5ebc1e864": {
     "views": [
      {
       "cell_index": 29
      }
     ]
    },
    "32b3590f3c194a2b81bf37ede9c9019d": {
     "views": [
      {
       "cell_index": 37
      }
     ]
    },
    "33006a8282714bda8362757e106ec8b1": {
     "views": [
      {
       "cell_index": 28
      }
     ]
    },
    "338cf57a43e040d88d2a13887eabc820": {
     "views": [
      {
       "cell_index": 29
      }
     ]
    },
    "339fd66a23fb44f694192e5446a3378a": {
     "views": [
      {
       "cell_index": 29
      }
     ]
    },
    "33a27cd12b334afdaa7093c3fe8e7798": {
     "views": [
      {
       "cell_index": 28
      }
     ]
    },
    "34c30acf0a77409b8b988f7d8536e6f8": {
     "views": [
      {
       "cell_index": 29
      }
     ]
    },
    "3a8c99c8ab564f5db5b74b58ab37d404": {
     "views": [
      {
       "cell_index": 29
      }
     ]
    },
    "3c2cdab9d5134dd39342a36b7356b958": {
     "views": [
      {
       "cell_index": 34
      }
     ]
    },
    "3c60444576a248fe9e58af7db1b0626b": {
     "views": [
      {
       "cell_index": 37
      }
     ]
    },
    "3c9983819697447d9c2898b9f042d8a8": {
     "views": [
      {
       "cell_index": 29
      }
     ]
    },
    "3cb58296b3094dccb08478b3bf671cce": {
     "views": [
      {
       "cell_index": 39
      }
     ]
    },
    "3e9b5de263e04b3b838d0b8b9663c181": {
     "views": [
      {
       "cell_index": 28
      }
     ]
    },
    "3eee504820984dcfa465f54fd5eefcaa": {
     "views": [
      {
       "cell_index": 29
      }
     ]
    },
    "3f025e525b2c401c93ba95414d93f46c": {
     "views": [
      {
       "cell_index": 45
      }
     ]
    },
    "3f4903f8c34c4621a57f2794214578f0": {
     "views": [
      {
       "cell_index": 28
      }
     ]
    },
    "3f4b29f46c6d479996f8d76119315039": {
     "views": [
      {
       "cell_index": 28
      }
     ]
    },
    "40199cee9ed94e699daeb3aab542223b": {
     "views": [
      {
       "cell_index": 45
      }
     ]
    },
    "401fdb5e8cab44f0a5c2ede049f9b798": {
     "views": [
      {
       "cell_index": 29
      }
     ]
    },
    "40f31536c8b8406aad0fbfb056e8f8a7": {
     "views": [
      {
       "cell_index": 39
      }
     ]
    },
    "41a60543bb684a9e839aa9bcd8f81ddf": {
     "views": [
      {
       "cell_index": 29
      }
     ]
    },
    "41bffb8135b7479a892cdc3ae8077a28": {
     "views": [
      {
       "cell_index": 29
      }
     ]
    },
    "41f527857f0f4a60a7289b6f9f9b4242": {
     "views": [
      {
       "cell_index": 29
      }
     ]
    },
    "4241847a3848499f9d6645819789f95d": {
     "views": [
      {
       "cell_index": 28
      }
     ]
    },
    "43025bc907684b6bb602eaaa2675e3c0": {
     "views": [
      {
       "cell_index": 33
      }
     ]
    },
    "4322de220d4e454ca30537e5d066257d": {
     "views": [
      {
       "cell_index": 29
      }
     ]
    },
    "432c172fcc0f4968bb157d25aa65d335": {
     "views": [
      {
       "cell_index": 29
      }
     ]
    },
    "44efb7f023714db1b848ec94be354343": {
     "views": [
      {
       "cell_index": 29
      }
     ]
    },
    "454335bf7b054581815a0ea9d2f76a1c": {
     "views": [
      {
       "cell_index": 28
      }
     ]
    },
    "467c59c13142433da5f4b2783d13ed89": {
     "views": [
      {
       "cell_index": 34
      }
     ]
    },
    "474c02b28cd9466c847d62edb09afccd": {
     "views": [
      {
       "cell_index": 29
      }
     ]
    },
    "47bf1c3e28a84d84a6c0db511d339b02": {
     "views": [
      {
       "cell_index": 29
      }
     ]
    },
    "492f9ada28c949899caf65ac756a2199": {
     "views": [
      {
       "cell_index": 29
      }
     ]
    },
    "49ab2ccc0bfd441d94100f19d706fdd5": {
     "views": [
      {
       "cell_index": 29
      }
     ]
    },
    "4a1ef32afd304412baa687b2d455c26a": {
     "views": [
      {
       "cell_index": 29
      }
     ]
    },
    "4a9f3729068b4acd908164a23843c8d4": {
     "views": [
      {
       "cell_index": 28
      }
     ]
    },
    "4ac0c9b1c2c348c2b02ed21389a0c3fc": {
     "views": [
      {
       "cell_index": 29
      }
     ]
    },
    "4b2d7ca3285d472c96c735f2fac065f4": {
     "views": [
      {
       "cell_index": 45
      }
     ]
    },
    "4e0468bf5900477e9fc631269f938469": {
     "views": [
      {
       "cell_index": 34
      }
     ]
    },
    "4e059d4bc5844843a1d7af890c0c0366": {
     "views": [
      {
       "cell_index": 29
      }
     ]
    },
    "4f4e30f15ed64db28abe7160a1b3be0f": {
     "views": [
      {
       "cell_index": 29
      }
     ]
    },
    "4f4e93f7adc04e34a03cf381fb4e179d": {
     "views": [
      {
       "cell_index": 29
      }
     ]
    },
    "4fb4f219ac5049e0bc6d910059c35dbe": {
     "views": [
      {
       "cell_index": 29
      }
     ]
    },
    "509d7d78574d496db2d4ca8eb2ca25f7": {
     "views": [
      {
       "cell_index": 34
      }
     ]
    },
    "50a4e01a99404d1ebdeaea3d48183903": {
     "views": [
      {
       "cell_index": 29
      }
     ]
    },
    "518f2b6897894bd2a816a9727336638d": {
     "views": [
      {
       "cell_index": 29
      }
     ]
    },
    "520b5abf755040e1851480f79bf95c57": {
     "views": [
      {
       "cell_index": 29
      }
     ]
    },
    "520d19f9ebeb4dc7839779ea2b47273b": {
     "views": [
      {
       "cell_index": 45
      }
     ]
    },
    "52ff0d3d82c44faead1aeaf6b008345c": {
     "views": [
      {
       "cell_index": 34
      }
     ]
    },
    "532581a11b0a49ce898c0c4900294293": {
     "views": [
      {
       "cell_index": 29
      }
     ]
    },
    "534e312e875240ee9cb666b8939e05dd": {
     "views": [
      {
       "cell_index": 29
      }
     ]
    },
    "5377f15d9ed94bc4897ae1ba13c49f9c": {
     "views": [
      {
       "cell_index": 29
      }
     ]
    },
    "5398397c6877462f801651165a15722a": {
     "views": [
      {
       "cell_index": 29
      }
     ]
    },
    "54330f9f50d54d3e921f1b4c2393d53c": {
     "views": [
      {
       "cell_index": 29
      }
     ]
    },
    "54b63f54469f40d5b2a320be365b0f4a": {
     "views": [
      {
       "cell_index": 34
      }
     ]
    },
    "54e791ed3a7f4c79b642fe0446d771d6": {
     "views": [
      {
       "cell_index": 28
      }
     ]
    },
    "550cbbc07e2547c493fd91b871ca763f": {
     "views": [
      {
       "cell_index": 29
      }
     ]
    },
    "556c46b4a05a4b7e8a036bf760d4f933": {
     "views": [
      {
       "cell_index": 29
      }
     ]
    },
    "55a122f4b88f410baae373cf2577de8c": {
     "views": [
      {
       "cell_index": 29
      }
     ]
    },
    "562ee814124d4f2c841af610792171b4": {
     "views": [
      {
       "cell_index": 28
      }
     ]
    },
    "563b7f66c58e477b9c4ef60be721da10": {
     "views": [
      {
       "cell_index": 29
      }
     ]
    },
    "56498ace57594a4987d79355a3b0aad9": {
     "views": [
      {
       "cell_index": 29
      }
     ]
    },
    "568809071aa44c9089f23bf4adbf3db2": {
     "views": [
      {
       "cell_index": 29
      }
     ]
    },
    "573a86e65de9492fb2732ccd57e9392a": {
     "views": [
      {
       "cell_index": 29
      }
     ]
    },
    "58e1627e70c54fc99c991a607efb652e": {
     "views": [
      {
       "cell_index": 34
      }
     ]
    },
    "5a4a433fcf3b4e8fb3e384920ed6b601": {
     "views": [
      {
       "cell_index": 29
      }
     ]
    },
    "5ac186bf673f4d6ea22616839b046ad6": {
     "views": [
      {
       "cell_index": 29
      }
     ]
    },
    "5b350e54cf5d42d1ba3ffd0945c97419": {
     "views": [
      {
       "cell_index": 29
      }
     ]
    },
    "5bbddd39356244e2a606d345c43c29c2": {
     "views": [
      {
       "cell_index": 29
      }
     ]
    },
    "5d2d83e14f2646fa9e8e0d6108af833e": {
     "views": [
      {
       "cell_index": 29
      }
     ]
    },
    "5d95e7d1fd1a49d48e8c54c077e49f7d": {
     "views": [
      {
       "cell_index": 29
      }
     ]
    },
    "5d9f81d5a0f940aaafcdb555ff2779ff": {
     "views": [
      {
       "cell_index": 34
      }
     ]
    },
    "5de68aa9c3354c12b249dc45a26e02e8": {
     "views": [
      {
       "cell_index": 28
      }
     ]
    },
    "5ede2fa37469442abaea9a6f89c8e0d6": {
     "views": [
      {
       "cell_index": 28
      }
     ]
    },
    "5efe7cb3050c48c5848efebff6b2b66d": {
     "views": [
      {
       "cell_index": 29
      }
     ]
    },
    "5f5d971062d7482583f6d689ab524463": {
     "views": [
      {
       "cell_index": 32
      }
     ]
    },
    "5fb9912071024cf0bc0bf5171007448f": {
     "views": [
      {
       "cell_index": 29
      }
     ]
    },
    "60e50349b70149368dc6c5b906a33ab0": {
     "views": [
      {
       "cell_index": 29
      }
     ]
    },
    "632983c2b6b045638101a447965048a9": {
     "views": [
      {
       "cell_index": 29
      }
     ]
    },
    "633419d55d8e4c5291f44d952efd725a": {
     "views": [
      {
       "cell_index": 29
      }
     ]
    },
    "6356bf09869547cfb353b8d9cf6ca03a": {
     "views": [
      {
       "cell_index": 39
      }
     ]
    },
    "64848f023bc041978a706efe3de55966": {
     "views": [
      {
       "cell_index": 29
      }
     ]
    },
    "651c51a183d64dad8596b3d06c2cf1f1": {
     "views": [
      {
       "cell_index": 33
      }
     ]
    },
    "662f19b94ef9413fbfdd5536166c4df4": {
     "views": [
      {
       "cell_index": 29
      }
     ]
    },
    "6685c4fe5b03486884f999a7af245975": {
     "views": [
      {
       "cell_index": 28
      }
     ]
    },
    "685b24a1b1704506b4510db34384e4d8": {
     "views": [
      {
       "cell_index": 33
      }
     ]
    },
    "68ea2828de984756ad718b8ea48927ac": {
     "views": [
      {
       "cell_index": 33
      }
     ]
    },
    "69408f3503f942db843aed937a86699f": {
     "views": [
      {
       "cell_index": 29
      }
     ]
    },
    "69591e1840e641a3bfad46d753bc393d": {
     "views": [
      {
       "cell_index": 29
      }
     ]
    },
    "6982beb8bec642d3b066f6eee9a4703b": {
     "views": [
      {
       "cell_index": 29
      }
     ]
    },
    "6a3d499d7b724b95852a6a77b1a74412": {
     "views": [
      {
       "cell_index": 33
      }
     ]
    },
    "6a98825a96294a2db49020fdc9954b3e": {
     "views": [
      {
       "cell_index": 39
      }
     ]
    },
    "6a9b2c116d7b4133b631aad61dae7639": {
     "views": [
      {
       "cell_index": 29
      }
     ]
    },
    "6b26c5194a7b4c55a3357c6bf8958b16": {
     "views": [
      {
       "cell_index": 29
      }
     ]
    },
    "6bac4cc26d1e49d8bc0fc5f6d85bb88e": {
     "views": [
      {
       "cell_index": 29
      }
     ]
    },
    "6bfd04979fbd424a835e0c3d4f463308": {
     "views": [
      {
       "cell_index": 29
      }
     ]
    },
    "6c0d53d093ec4692bf9585a025c5f89d": {
     "views": [
      {
       "cell_index": 29
      }
     ]
    },
    "6c189b40fab94046ae802b3f4c8f915e": {
     "views": [
      {
       "cell_index": 29
      }
     ]
    },
    "6c85199f59d94a95be327fb2a8d41dab": {
     "views": [
      {
       "cell_index": 28
      }
     ]
    },
    "6cdf570a58a14e6dbebed9e40fa83935": {
     "views": [
      {
       "cell_index": 28
      }
     ]
    },
    "6d83539ae7b14e9a9ee392cc7ea1122a": {
     "views": [
      {
       "cell_index": 29
      }
     ]
    },
    "6dd8ed78aec44db6925ffc827711835a": {
     "views": [
      {
       "cell_index": 29
      }
     ]
    },
    "6eb57b444aeb40118ac74578be693acf": {
     "views": [
      {
       "cell_index": 28
      }
     ]
    },
    "6edb55855bdc4158b876c6a13beb94dd": {
     "views": [
      {
       "cell_index": 29
      }
     ]
    },
    "6fcd2c35a5884961ba4afd11a5922b11": {
     "views": [
      {
       "cell_index": 29
      }
     ]
    },
    "71e6f788a9f5497fb475a814fd6cbe12": {
     "views": [
      {
       "cell_index": 29
      }
     ]
    },
    "745ac129d629408dab6c5e9dc2e37df7": {
     "views": [
      {
       "cell_index": 28
      }
     ]
    },
    "75686e9ea02b452399cb7791261804d2": {
     "views": [
      {
       "cell_index": 29
      }
     ]
    },
    "7635cac6d95542cda8fa5379f96fc8df": {
     "views": [
      {
       "cell_index": 29
      }
     ]
    },
    "7685f9e156544599a7a97a4fac4da871": {
     "views": [
      {
       "cell_index": 37
      }
     ]
    },
    "7736703d66f5476a97de0e0edcaf7828": {
     "views": [
      {
       "cell_index": 33
      }
     ]
    },
    "773f7b15e09748b2998d3f743b1332fc": {
     "views": [
      {
       "cell_index": 29
      }
     ]
    },
    "79a5d72d34644246bca5bd0068e731fe": {
     "views": [
      {
       "cell_index": 28
      }
     ]
    },
    "79b7f54191b24ecba30c48d2cc22be6f": {
     "views": [
      {
       "cell_index": 29
      }
     ]
    },
    "7a3e93f6989345f9aea6f0434f86ef21": {
     "views": [
      {
       "cell_index": 34
      }
     ]
    },
    "7b06d9b7f66c49708a76a54f09bc1371": {
     "views": [
      {
       "cell_index": 29
      }
     ]
    },
    "7bdf642d54cd4a58b5bd9d5e8a697faf": {
     "views": [
      {
       "cell_index": 29
      }
     ]
    },
    "7c65f6a851d84800900b1c264ba080fb": {
     "views": [
      {
       "cell_index": 29
      }
     ]
    },
    "7c7bd2f556754e46b179f04a0deee9c4": {
     "views": [
      {
       "cell_index": 29
      }
     ]
    },
    "7d0211046ed742c8a3b78e686f3c9fe8": {
     "views": [
      {
       "cell_index": 29
      }
     ]
    },
    "7d125cfd889e407f911e844a73da59fe": {
     "views": [
      {
       "cell_index": 33
      }
     ]
    },
    "7d38e16a3e08404c8dcd4cc9b7768916": {
     "views": [
      {
       "cell_index": 29
      }
     ]
    },
    "7d46de7a32994e38a5048ab3d3213ec9": {
     "views": [
      {
       "cell_index": 29
      }
     ]
    },
    "7d889e6e7da844fe8defe2a86a349e93": {
     "views": [
      {
       "cell_index": 29
      }
     ]
    },
    "7dd66fa7834941408845a7c30620f573": {
     "views": [
      {
       "cell_index": 33
      }
     ]
    },
    "7dda00bf76164740a0014712dcc5dcde": {
     "views": [
      {
       "cell_index": 37
      }
     ]
    },
    "7df42b9b021049ce9c6d3a21d51858fe": {
     "views": [
      {
       "cell_index": 28
      }
     ]
    },
    "7ebef46c8bce46188b7e2810410e2937": {
     "views": [
      {
       "cell_index": 29
      }
     ]
    },
    "7f8cf553d1cb43f4830678f8bb134ba3": {
     "views": [
      {
       "cell_index": 29
      }
     ]
    },
    "80529415833046a097c3783a304ec799": {
     "views": [
      {
       "cell_index": 29
      }
     ]
    },
    "806cf2b8b9a7409fa2af4809ce49179e": {
     "views": [
      {
       "cell_index": 29
      }
     ]
    },
    "815cebb6240d4e19ac6c0dcda6688ae5": {
     "views": [
      {
       "cell_index": 33
      }
     ]
    },
    "8167800f45bc46e49929c7c1e1733a12": {
     "views": [
      {
       "cell_index": 29
      }
     ]
    },
    "82067822f6db4e3ba76675cc9f26bed8": {
     "views": [
      {
       "cell_index": 29
      }
     ]
    },
    "829088918604445bbb354c950b8135f3": {
     "views": [
      {
       "cell_index": 29
      }
     ]
    },
    "829d6228022f4bd5a07daf84321a09d9": {
     "views": [
      {
       "cell_index": 29
      }
     ]
    },
    "8322d102efd54c39832d539ae51d628d": {
     "views": [
      {
       "cell_index": 29
      }
     ]
    },
    "856c209c2c854155b44911cc1cf2358f": {
     "views": [
      {
       "cell_index": 29
      }
     ]
    },
    "8698feaa4d8344548eabc401ded5dd54": {
     "views": [
      {
       "cell_index": 28
      }
     ]
    },
    "8776003d2d5849ef97b804d122ddb306": {
     "views": [
      {
       "cell_index": 29
      }
     ]
    },
    "87c132d880354788b4ae614a267d732d": {
     "views": [
      {
       "cell_index": 29
      }
     ]
    },
    "87c7f9a51cfe42d588fc480912afc36a": {
     "views": [
      {
       "cell_index": 28
      }
     ]
    },
    "87e0ace099154a059a63632dd8dbf799": {
     "views": [
      {
       "cell_index": 39
      }
     ]
    },
    "8834ae723eb0445088a1b01c2a493f6c": {
     "views": [
      {
       "cell_index": 29
      }
     ]
    },
    "8840e21be09247d18c2df1c1b1ba252b": {
     "views": [
      {
       "cell_index": 28
      }
     ]
    },
    "88ac22ef2cc345b985c6494fb4e24463": {
     "views": [
      {
       "cell_index": 29
      }
     ]
    },
    "89226e60aa7544f7908ff8b72a88840e": {
     "views": [
      {
       "cell_index": 29
      }
     ]
    },
    "89459eeddde644cb90d4c404ea77eb30": {
     "views": [
      {
       "cell_index": 34
      }
     ]
    },
    "8a70ede2f03a461daa70daff229ca3ef": {
     "views": [
      {
       "cell_index": 29
      }
     ]
    },
    "8aeab77a62804cdbae7908289fb84bc3": {
     "views": [
      {
       "cell_index": 37
      }
     ]
    },
    "8c98256932e14da6916b6b7b1aa56c34": {
     "views": [
      {
       "cell_index": 34
      }
     ]
    },
    "8cbea222fc334ac8a78e33299478e1bf": {
     "views": [
      {
       "cell_index": 29
      }
     ]
    },
    "8d99aef0962541f799356e675590e00d": {
     "views": [
      {
       "cell_index": 29
      }
     ]
    },
    "8e2fecf59add4d1f8fdc2d9a4759883f": {
     "views": [
      {
       "cell_index": 29
      }
     ]
    },
    "8eae2740b7184c04a5c0ebf833201d21": {
     "views": [
      {
       "cell_index": 29
      }
     ]
    },
    "8ef5856580bd4c37b888fd184e43696b": {
     "views": [
      {
       "cell_index": 37
      }
     ]
    },
    "8f3876be822e4fa09b99cc6797863d4c": {
     "views": [
      {
       "cell_index": 29
      }
     ]
    },
    "8f605169fb33404cadc49491276b6525": {
     "views": [
      {
       "cell_index": 45
      }
     ]
    },
    "8f780d50b3b34e54beddc911317c6d25": {
     "views": [
      {
       "cell_index": 29
      }
     ]
    },
    "90642a812d814a3ebfe6717b2b91c075": {
     "views": [
      {
       "cell_index": 29
      }
     ]
    },
    "91b261fa864a4b12842a5328b9781001": {
     "views": [
      {
       "cell_index": 29
      }
     ]
    },
    "931688ab09644d03b0d932a2bb4c1c14": {
     "views": [
      {
       "cell_index": 29
      }
     ]
    },
    "938b9bdad5a14085a4c3ac1187865368": {
     "views": [
      {
       "cell_index": 29
      }
     ]
    },
    "93a91174314242e0b6ad0c809766a089": {
     "views": [
      {
       "cell_index": 29
      }
     ]
    },
    "93b7d508e33a4db3a9f54d4bedd8ea75": {
     "views": [
      {
       "cell_index": 34
      }
     ]
    },
    "940098d99c1247c582bdeba1ad5238b0": {
     "views": [
      {
       "cell_index": 29
      }
     ]
    },
    "9412361c1a2b4629b7137e2372e82010": {
     "views": [
      {
       "cell_index": 29
      }
     ]
    },
    "945a9ad38e1b422aa10afab76a117d6f": {
     "views": [
      {
       "cell_index": 34
      }
     ]
    },
    "9464685a53274b40bd1d5000d6867549": {
     "views": [
      {
       "cell_index": 29
      }
     ]
    },
    "9531d11830224e4bb49714f587165949": {
     "views": [
      {
       "cell_index": 33
      }
     ]
    },
    "956b07eab55c4e5c9e41ee93fcba11e9": {
     "views": [
      {
       "cell_index": 29
      }
     ]
    },
    "95c67aac2c2b4acea0e7c13fe0a22895": {
     "views": [
      {
       "cell_index": 28
      }
     ]
    },
    "9650e46bfdf5433ca13236873693b4d7": {
     "views": [
      {
       "cell_index": 29
      }
     ]
    },
    "967caa93da7447539ebbee8f1b049d0a": {
     "views": [
      {
       "cell_index": 29
      }
     ]
    },
    "96c943b0cd5942b9aaa983a7864874e7": {
     "views": [
      {
       "cell_index": 37
      }
     ]
    },
    "96f8d5d3977f455589af1ee5ba764092": {
     "views": [
      {
       "cell_index": 29
      }
     ]
    },
    "9786fbbc883f422498755f5bf1fd22de": {
     "views": [
      {
       "cell_index": 29
      }
     ]
    },
    "978b71efc78d41879cdc2195ed5ee105": {
     "views": [
      {
       "cell_index": 28
      }
     ]
    },
    "97b20c0a6c244f3794831333d88a0a6f": {
     "views": [
      {
       "cell_index": 29
      }
     ]
    },
    "97f6b06e82a94ad0b4e653ae7f9d9d4b": {
     "views": [
      {
       "cell_index": 29
      }
     ]
    },
    "97f96941531145f98dfb83fcb7446491": {
     "views": [
      {
       "cell_index": 29
      }
     ]
    },
    "99c3c8ed1c43467f8e6f224793c26de2": {
     "views": [
      {
       "cell_index": 28
      }
     ]
    },
    "99ef89b836f749ab9948ae030d2d2fd7": {
     "views": [
      {
       "cell_index": 29
      }
     ]
    },
    "9b2a145432704fb597ba01337a569d09": {
     "views": [
      {
       "cell_index": 29
      }
     ]
    },
    "9c522c6bbc914eabb4bdf13eb4268357": {
     "views": [
      {
       "cell_index": 29
      }
     ]
    },
    "9cf275a17b11445cb94dae317bbc6289": {
     "views": [
      {
       "cell_index": 28
      }
     ]
    },
    "9cfb3199c35d4953a285ecc19ea89d93": {
     "views": [
      {
       "cell_index": 37
      }
     ]
    },
    "9db010b848dd44e0a9e653ef957626f7": {
     "views": [
      {
       "cell_index": 37
      }
     ]
    },
    "9dfaa842191b4274a7696b85cecafcf0": {
     "views": [
      {
       "cell_index": 29
      }
     ]
    },
    "9e16e319c44d4d7ca4ec3d3b6addb20f": {
     "views": [
      {
       "cell_index": 29
      }
     ]
    },
    "9e6f49608bf241beb73c18b465b609af": {
     "views": [
      {
       "cell_index": 29
      }
     ]
    },
    "a0305d8a60fc4af7aa283ab1943488ab": {
     "views": [
      {
       "cell_index": 45
      }
     ]
    },
    "a2619acefd694cf6ad829028e23b099e": {
     "views": [
      {
       "cell_index": 29
      }
     ]
    },
    "a296f686359d4c00af4d80b5d72837d2": {
     "views": [
      {
       "cell_index": 39
      }
     ]
    },
    "a2ed7efa610e43e3b4aac3f1a98e628d": {
     "views": [
      {
       "cell_index": 37
      }
     ]
    },
    "a3a9c76218f34d0f984697e0675b2766": {
     "views": [
      {
       "cell_index": 29
      }
     ]
    },
    "a4b335cfbea240b8b9063c8dcd605425": {
     "views": [
      {
       "cell_index": 29
      }
     ]
    },
    "a4cde29ac9ab40b788e20d50156b624f": {
     "views": [
      {
       "cell_index": 29
      }
     ]
    },
    "a4edcf73a7524dbbbf9e8b0f15b6adc9": {
     "views": [
      {
       "cell_index": 33
      }
     ]
    },
    "a58cf1e00be840a0a0a0e2d767bc7355": {
     "views": [
      {
       "cell_index": 29
      }
     ]
    },
    "a5bed1ff40844f3a935b651894e4d4c1": {
     "views": [
      {
       "cell_index": 29
      }
     ]
    },
    "a6916909542f4ada8299a09805656ba7": {
     "views": [
      {
       "cell_index": 29
      }
     ]
    },
    "a6b7e9e4522a4d0cb1ab782923f0a421": {
     "views": [
      {
       "cell_index": 28
      }
     ]
    },
    "a6e94f75c459456c84d03073068f00a3": {
     "views": [
      {
       "cell_index": 29
      }
     ]
    },
    "a70bf2a29b6e4b608430fb7a63ed3d0f": {
     "views": [
      {
       "cell_index": 34
      }
     ]
    },
    "a73bfb1201d74ae886a6ce87092c097f": {
     "views": [
      {
       "cell_index": 29
      }
     ]
    },
    "a7583c21a0644894bb002e7960503618": {
     "views": [
      {
       "cell_index": 39
      }
     ]
    },
    "a7bd29a09ec14aed82e76dd1222883ce": {
     "views": [
      {
       "cell_index": 29
      }
     ]
    },
    "a7bea46e1c3c4b79acdd81ada6b416b4": {
     "views": [
      {
       "cell_index": 29
      }
     ]
    },
    "a816831ad1a14ecba694b81179e379d6": {
     "views": [
      {
       "cell_index": 29
      }
     ]
    },
    "ab0f1f7d32ff48b99a1c4c37fa5dd937": {
     "views": [
      {
       "cell_index": 29
      }
     ]
    },
    "acb065626e9f4a7694c8952253891e94": {
     "views": [
      {
       "cell_index": 29
      }
     ]
    },
    "ad6ed08003b64af9a6d0c49f38d8bcf7": {
     "views": [
      {
       "cell_index": 29
      }
     ]
    },
    "ad7ed77f451c42b6b9bd42ac861df508": {
     "views": [
      {
       "cell_index": 29
      }
     ]
    },
    "ae12af16378141daaf45c2d4dbd1db52": {
     "views": [
      {
       "cell_index": 37
      }
     ]
    },
    "aedcfddbd2454bcc8d3ea134178bb173": {
     "views": [
      {
       "cell_index": 29
      }
     ]
    },
    "b1a661cc796f499485cadfe383d560de": {
     "views": [
      {
       "cell_index": 28
      }
     ]
    },
    "b26ecba9c19e4e9a952664c2bd21416b": {
     "views": [
      {
       "cell_index": 29
      }
     ]
    },
    "b40f8018f8ae48468aa3d5766f25f443": {
     "views": [
      {
       "cell_index": 34
      }
     ]
    },
    "b4a4680999254bbc9e91cbed55dfde40": {
     "views": [
      {
       "cell_index": 45
      }
     ]
    },
    "b5cbb9f1cce84b3a9f1df3f4b54d4a93": {
     "views": [
      {
       "cell_index": 33
      }
     ]
    },
    "b605ab95ec204e9d8e08cb244cb1e79f": {
     "views": [
      {
       "cell_index": 29
      }
     ]
    },
    "b6bc3587ae89452db222e79cb98dde5e": {
     "views": [
      {
       "cell_index": 33
      }
     ]
    },
    "b736d76d3341493b8755ca8912ec1979": {
     "views": [
      {
       "cell_index": 39
      }
     ]
    },
    "b895534f64de416f8655191234a86112": {
     "views": [
      {
       "cell_index": 29
      }
     ]
    },
    "b8da814e30f44acd8c54ed92f3a48a45": {
     "views": [
      {
       "cell_index": 29
      }
     ]
    },
    "b95179b1b8bb477199184338a6321fed": {
     "views": [
      {
       "cell_index": 28
      }
     ]
    },
    "b95af6d9945141c68ea664d8b71d024f": {
     "views": [
      {
       "cell_index": 29
      }
     ]
    },
    "bac34b377a4b4bab80637d5810872355": {
     "views": [
      {
       "cell_index": 28
      }
     ]
    },
    "bae37c9bdc3f49269d4766ad337b09ab": {
     "views": [
      {
       "cell_index": 29
      }
     ]
    },
    "baf338a602d942f8bfb41b4963bdf71f": {
     "views": [
      {
       "cell_index": 28
      }
     ]
    },
    "bbe6d104c98f435f90b077a86d1accdd": {
     "views": [
      {
       "cell_index": 29
      }
     ]
    },
    "bc57a1b2bb024bdd8ed4dd85e22440ad": {
     "views": [
      {
       "cell_index": 29
      }
     ]
    },
    "bcdee3386ba6492b88b63a07a02714db": {
     "views": [
      {
       "cell_index": 29
      }
     ]
    },
    "bdae2d018b904515b874c08baaba31f2": {
     "views": [
      {
       "cell_index": 45
      }
     ]
    },
    "be11e1b928004e60bd4232c0a522e2cb": {
     "views": [
      {
       "cell_index": 28
      }
     ]
    },
    "be60f722fd664a959475e618c16950f6": {
     "views": [
      {
       "cell_index": 29
      }
     ]
    },
    "beb36c0987ff4b699900d2382e8cad57": {
     "views": [
      {
       "cell_index": 29
      }
     ]
    },
    "bec5144420fc4d829708985f5f05aada": {
     "views": [
      {
       "cell_index": 28
      }
     ]
    },
    "bf51f5cabb1f4e6eaf0ba1f43d6bb151": {
     "views": [
      {
       "cell_index": 29
      }
     ]
    },
    "bf9038890bad4b659ec326ffdc116c77": {
     "views": [
      {
       "cell_index": 28
      }
     ]
    },
    "c0a9d64ba71b4e519be6955794edfc3a": {
     "views": [
      {
       "cell_index": 33
      }
     ]
    },
    "c0d47d60286945d084711903c387f6cf": {
     "views": [
      {
       "cell_index": 29
      }
     ]
    },
    "c10f244501bb4324a472fb0ecbfc70bc": {
     "views": [
      {
       "cell_index": 29
      }
     ]
    },
    "c2274fd74e8a45d9bcb86530a2c1aefc": {
     "views": [
      {
       "cell_index": 29
      }
     ]
    },
    "c29410de8cd745bb917a4b3448b5203c": {
     "views": [
      {
       "cell_index": 29
      }
     ]
    },
    "c2da0292c5bc4427a1a7e54db04e24b3": {
     "views": [
      {
       "cell_index": 34
      }
     ]
    },
    "c359e3838132411d8411e7ac10eb516e": {
     "views": [
      {
       "cell_index": 29
      }
     ]
    },
    "c381e28e408b48269baa607817a7d223": {
     "views": [
      {
       "cell_index": 29
      }
     ]
    },
    "c56512f001924e53bff253979b761e36": {
     "views": [
      {
       "cell_index": 29
      }
     ]
    },
    "c5e2c5004f1b4e8397d5c60c902fc0d5": {
     "views": [
      {
       "cell_index": 29
      }
     ]
    },
    "c7278d7d31f14fc3af14279e08a4fc4c": {
     "views": [
      {
       "cell_index": 34
      }
     ]
    },
    "c76b355dd7b3461f964f831408035d10": {
     "views": [
      {
       "cell_index": 29
      }
     ]
    },
    "c7bb999f85b54558a1b3b748a68fe964": {
     "views": [
      {
       "cell_index": 34
      }
     ]
    },
    "c899f325b4644598be3e6657f21c6116": {
     "views": [
      {
       "cell_index": 29
      }
     ]
    },
    "c8ac9a22f88741ee91c473b911d1b35a": {
     "views": [
      {
       "cell_index": 29
      }
     ]
    },
    "c8c35085c58c4e11820cd97a15d5d891": {
     "views": [
      {
       "cell_index": 29
      }
     ]
    },
    "c8decbe2267c428ab84985a97f28ec86": {
     "views": [
      {
       "cell_index": 29
      }
     ]
    },
    "c9f57b4efbfe4a148e2cfc0811047f08": {
     "views": [
      {
       "cell_index": 28
      }
     ]
    },
    "ca382ab46bb14ce090ef2041e6ea0a6c": {
     "views": [
      {
       "cell_index": 28
      }
     ]
    },
    "cac02a4a674a4e6b82c01a5c80d96784": {
     "views": [
      {
       "cell_index": 29
      }
     ]
    },
    "cb912a688c83416bb448142479f45886": {
     "views": [
      {
       "cell_index": 28
      }
     ]
    },
    "cbe82f5733ca4f2d9461c2fef84e0b95": {
     "views": [
      {
       "cell_index": 28
      }
     ]
    },
    "cd9fa25388dc405dae225fa4fb523136": {
     "views": [
      {
       "cell_index": 28
      }
     ]
    },
    "ce117450d4f44056ac3829544f74e845": {
     "views": [
      {
       "cell_index": 29
      }
     ]
    },
    "ce3ab4c605c84be49e2d0c54e780dab9": {
     "views": [
      {
       "cell_index": 28
      }
     ]
    },
    "ce3f5bb155c84c77a664f880f7468876": {
     "views": [
      {
       "cell_index": 37
      }
     ]
    },
    "cf2e61ba823e4ef1b4c0525de01a86d4": {
     "views": [
      {
       "cell_index": 34
      }
     ]
    },
    "cf42372a28d84b71937d1e07f1e4bbcb": {
     "views": [
      {
       "cell_index": 29
      }
     ]
    },
    "cf5af36d3b0940da9cd3530767c711c0": {
     "views": [
      {
       "cell_index": 37
      }
     ]
    },
    "cf7a8e9875514dd8a19caeb1733ed2ab": {
     "views": [
      {
       "cell_index": 28
      }
     ]
    },
    "d04b804baa554a6785b953c31bf82f48": {
     "views": [
      {
       "cell_index": 29
      }
     ]
    },
    "d0740f3f00a8405881c0c1a2ccdf70c4": {
     "views": [
      {
       "cell_index": 29
      }
     ]
    },
    "d0e81a05035c4c6b80d60647236a1ad5": {
     "views": [
      {
       "cell_index": 33
      }
     ]
    },
    "d1350508f53f483790a8cd79663ad75e": {
     "views": [
      {
       "cell_index": 34
      }
     ]
    },
    "d174ae3e72ae45b69b8f09724ed5020e": {
     "views": [
      {
       "cell_index": 29
      }
     ]
    },
    "d18a82fb614a403488f060c1369cebbd": {
     "views": [
      {
       "cell_index": 34
      }
     ]
    },
    "d197f9539e754fb6be8c578cb304dda4": {
     "views": [
      {
       "cell_index": 29
      }
     ]
    },
    "d205c648399f4021b00ca9e201edb754": {
     "views": [
      {
       "cell_index": 29
      }
     ]
    },
    "d2cf5d18f0884478ba907eb09549f6ac": {
     "views": [
      {
       "cell_index": 29
      }
     ]
    },
    "d45f12524a034482ace459cddbd58ca2": {
     "views": [
      {
       "cell_index": 29
      }
     ]
    },
    "d56968bc5d2f48978bee2fb500e7c449": {
     "views": [
      {
       "cell_index": 28
      }
     ]
    },
    "d5e15de8ff3c4a8b833d7521fc276120": {
     "views": [
      {
       "cell_index": 29
      }
     ]
    },
    "d6c45084533245178fe2c662b5412011": {
     "views": [
      {
       "cell_index": 39
      }
     ]
    },
    "d710979379984f598ee1baf0c1be2547": {
     "views": [
      {
       "cell_index": 37
      }
     ]
    },
    "d7148567210a4c5296a96c3b2babf280": {
     "views": [
      {
       "cell_index": 39
      }
     ]
    },
    "d75808edf0e04667bb81e254747b3e70": {
     "views": [
      {
       "cell_index": 29
      }
     ]
    },
    "d8335f65bec447f9b457c28685d806fb": {
     "views": [
      {
       "cell_index": 28
      }
     ]
    },
    "d84fe07d5df64928b661878a9ad64784": {
     "views": [
      {
       "cell_index": 29
      }
     ]
    },
    "d904e6fddc8a43f1bd24b4a5f1b35bd9": {
     "views": [
      {
       "cell_index": 29
      }
     ]
    },
    "d9057e1ed659435b9e7e87f4353004f9": {
     "views": [
      {
       "cell_index": 34
      }
     ]
    },
    "d9e1c3002a87424a85e483c110c3a5fb": {
     "views": [
      {
       "cell_index": 29
      }
     ]
    },
    "da7b8c7491dc43a79c67d771a44c80f2": {
     "views": [
      {
       "cell_index": 34
      }
     ]
    },
    "db2e30d55e4a4239bc1284b7c468fd73": {
     "views": [
      {
       "cell_index": 29
      }
     ]
    },
    "dc0be9a8f2a344b2b4245bb146b43a71": {
     "views": [
      {
       "cell_index": 39
      }
     ]
    },
    "dcb75a77abfc42d9b78db8c80cb5a3ae": {
     "views": [
      {
       "cell_index": 29
      }
     ]
    },
    "dd30e8f90859447e86355a247dd6205a": {
     "views": [
      {
       "cell_index": 29
      }
     ]
    },
    "dd51937e77254ba0beda4b96713dc79b": {
     "views": [
      {
       "cell_index": 45
      }
     ]
    },
    "dd5733d75ed6403e9f380ad2df239c39": {
     "views": [
      {
       "cell_index": 28
      }
     ]
    },
    "dd788795d2f14e8b829798c0ea45b27b": {
     "views": [
      {
       "cell_index": 28
      }
     ]
    },
    "dd82457edcb04a20a27c14807a73e6c1": {
     "views": [
      {
       "cell_index": 29
      }
     ]
    },
    "ddb3b2370f2c4068adc12c862693a898": {
     "views": [
      {
       "cell_index": 28
      }
     ]
    },
    "ded9df3e00da47b4ad0cbcdde201ac37": {
     "views": [
      {
       "cell_index": 29
      }
     ]
    },
    "df5af3588e234bec800095e66fd09385": {
     "views": [
      {
       "cell_index": 29
      }
     ]
    },
    "e08d670ee7714107a17ef58c982afd28": {
     "views": [
      {
       "cell_index": 29
      }
     ]
    },
    "e10bcbb15914494bbb6834fe8ffeb877": {
     "views": [
      {
       "cell_index": 45
      }
     ]
    },
    "e19cc2f75c84427bb92e2a2052273e8d": {
     "views": [
      {
       "cell_index": 28
      }
     ]
    },
    "e1ae94693b2f42b0bd48281fc6cb3875": {
     "views": [
      {
       "cell_index": 29
      }
     ]
    },
    "e1d9ec6235f448978a54384ab837c52d": {
     "views": [
      {
       "cell_index": 29
      }
     ]
    },
    "e1de4111177942669a8dd530e6dd966d": {
     "views": [
      {
       "cell_index": 29
      }
     ]
    },
    "e1f5a3b9730044518020ae5f1396b64c": {
     "views": [
      {
       "cell_index": 29
      }
     ]
    },
    "e3b1e970465244758e62f25fafa37b04": {
     "views": [
      {
       "cell_index": 29
      }
     ]
    },
    "e3dcbfade7a341408fe6850788a76fc1": {
     "views": [
      {
       "cell_index": 28
      }
     ]
    },
    "e4153f00d80e4f168c990599deadeb7c": {
     "views": [
      {
       "cell_index": 29
      }
     ]
    },
    "e4a253253baa4982a4cf883e091f4854": {
     "views": [
      {
       "cell_index": 28
      }
     ]
    },
    "e60e1b4c410f4815ab47b7a0cc63a913": {
     "views": [
      {
       "cell_index": 29
      }
     ]
    },
    "e712fbac83de43ba91274380ef32b8a5": {
     "views": [
      {
       "cell_index": 29
      }
     ]
    },
    "e7a0b2466ee6438eb4998109ccd7260c": {
     "views": [
      {
       "cell_index": 29
      }
     ]
    },
    "e7ea3b7163c1441a92f41cd2ea409e63": {
     "views": [
      {
       "cell_index": 29
      }
     ]
    },
    "e7f7bab1700d44d08c6d7b6db8c76e0d": {
     "views": [
      {
       "cell_index": 29
      }
     ]
    },
    "ea9a8df3fa844d8eb293d798e69cf402": {
     "views": [
      {
       "cell_index": 29
      }
     ]
    },
    "eac1185661f64087b3b4bcd0a0de85ca": {
     "views": [
      {
       "cell_index": 29
      }
     ]
    },
    "eb01370138c5401e8107a8d0bf6b6937": {
     "views": [
      {
       "cell_index": 28
      }
     ]
    },
    "eb2502e6687148c6951286da96db3da4": {
     "views": [
      {
       "cell_index": 33
      }
     ]
    },
    "eb3c580069634fa595861abc8d7e7346": {
     "views": [
      {
       "cell_index": 29
      }
     ]
    },
    "ec98ef6fc7cc47ac9ff92fd141c28911": {
     "views": [
      {
       "cell_index": 29
      }
     ]
    },
    "ee48fbfdb179468e8c0a8b2c5a78edee": {
     "views": [
      {
       "cell_index": 45
      }
     ]
    },
    "ee4e07d4af99448c9d8584673a8629bd": {
     "views": [
      {
       "cell_index": 29
      }
     ]
    },
    "ee921937f2ab421e9457978c907c3ac6": {
     "views": [
      {
       "cell_index": 37
      }
     ]
    },
    "eeebbbb86fd3446aab9ee670ad3971c8": {
     "views": [
      {
       "cell_index": 29
      }
     ]
    },
    "f09ac968442043a289c4ad3b5cb77485": {
     "views": [
      {
       "cell_index": 34
      }
     ]
    },
    "f0b4b059ddba45498555c8c7235f0f08": {
     "views": [
      {
       "cell_index": 29
      }
     ]
    },
    "f142d9a944ba490388c7148e8f306738": {
     "views": [
      {
       "cell_index": 29
      }
     ]
    },
    "f19133d985044d25b1a9fc3484a5e937": {
     "views": [
      {
       "cell_index": 29
      }
     ]
    },
    "f1bedfaf4f4e4d8099ceeb69c77a93b0": {
     "views": [
      {
       "cell_index": 29
      }
     ]
    },
    "f2630e0c9d63451a9511159690b98dfe": {
     "views": [
      {
       "cell_index": 37
      }
     ]
    },
    "f30d74f4ce4043af9f6212f0bbe85bc4": {
     "views": [
      {
       "cell_index": 29
      }
     ]
    },
    "f4752527b8cd445cbe8d320294cde0f3": {
     "views": [
      {
       "cell_index": 29
      }
     ]
    },
    "f483197206e0446eb4e10263e05859f2": {
     "views": [
      {
       "cell_index": 39
      }
     ]
    },
    "f52d6eaca74a4e1a892083ca614c1dad": {
     "views": [
      {
       "cell_index": 29
      }
     ]
    },
    "f57ce8f627af4b68b15f1d1e45286c36": {
     "views": [
      {
       "cell_index": 29
      }
     ]
    },
    "f7d7204251fa484995667bee41724fc6": {
     "views": [
      {
       "cell_index": 29
      }
     ]
    },
    "f9c2a61754494954aacc13b70a431b9e": {
     "views": [
      {
       "cell_index": 29
      }
     ]
    },
    "f9f6bd4635574efb9559d8be7b41c261": {
     "views": [
      {
       "cell_index": 29
      }
     ]
    },
    "fc4647fbd32b46d19d1ca18daa52a039": {
     "views": [
      {
       "cell_index": 29
      }
     ]
    },
    "fc55d51c109b4a388c955f657a0c58f5": {
     "views": [
      {
       "cell_index": 29
      }
     ]
    },
    "fc5a5dcd89c64d65ac048b797b76ba54": {
     "views": [
      {
       "cell_index": 34
      }
     ]
    },
    "fcaa0d29ac074520b92f85d1d534adfd": {
     "views": [
      {
       "cell_index": 29
      }
     ]
    },
    "fcbbfb9ffd26417dac86f3a98f420d7b": {
     "views": [
      {
       "cell_index": 45
      }
     ]
    },
    "fce3cec07dbb47ca95c307d116936965": {
     "views": [
      {
       "cell_index": 29
      }
     ]
    },
    "fd88482723874e57af9166ecfcaaca8b": {
     "views": [
      {
       "cell_index": 29
      }
     ]
    },
    "fec8bc990230431481e6fe5fa5520de7": {
     "views": [
      {
       "cell_index": 29
      }
     ]
    },
    "ff875d20acc94ba5b079bbab14775c4b": {
     "views": [
      {
       "cell_index": 28
      }
     ]
    },
    "ffbc3b271b3f49c2ab66eb6dd8f27cfc": {
     "views": [
      {
       "cell_index": 29
      }
     ]
    },
    "ffc688a99a1d4e50bc7b474945acac90": {
     "views": [
      {
       "cell_index": 28
      }
     ]
    }
   },
   "version": "1.2.0"
  }
 },
 "nbformat": 4,
 "nbformat_minor": 2
}
