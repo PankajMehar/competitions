{
 "cells": [
  {
   "cell_type": "code",
   "execution_count": 1,
   "metadata": {
    "collapsed": true
   },
   "outputs": [],
   "source": [
    "from collections import Counter\n",
    "\n",
    "import pandas as pd\n",
    "import numpy as np\n",
    "import scipy\n",
    "\n",
    "from statsmodels.formula.api import ols\n",
    "\n",
    "from tqdm import tqdm\n",
    "\n",
    "import matplotlib.pyplot as plt\n",
    "import seaborn as sns\n",
    "from IPython.display import display, HTML, clear_output\n",
    "\n",
    "%matplotlib inline"
   ]
  },
  {
   "cell_type": "code",
   "execution_count": 2,
   "metadata": {
    "collapsed": true
   },
   "outputs": [],
   "source": [
    "from sklearn.cross_validation import StratifiedShuffleSplit\n",
    "from sklearn.preprocessing import PolynomialFeatures"
   ]
  },
  {
   "cell_type": "code",
   "execution_count": 3,
   "metadata": {
    "collapsed": false
   },
   "outputs": [
    {
     "name": "stderr",
     "output_type": "stream",
     "text": [
      "Using Theano backend.\n"
     ]
    },
    {
     "name": "stdout",
     "output_type": "stream",
     "text": [
      "Couldn't import dot_parser, loading of dot files will not be possible.\n"
     ]
    }
   ],
   "source": [
    "from keras.models import Sequential\n",
    "from keras.layers.core import Dense, Dropout, Activation\n",
    "from keras.optimizers import SGD, Adam\n",
    "from keras.regularizers import WeightRegularizer, l1, l2\n",
    "from keras.callbacks import EarlyStopping, Callback\n",
    "\n",
    "from keras.layers.normalization import BatchNormalization"
   ]
  },
  {
   "cell_type": "code",
   "execution_count": 4,
   "metadata": {
    "collapsed": true
   },
   "outputs": [],
   "source": [
    "from libscores import auc_metric"
   ]
  },
  {
   "cell_type": "code",
   "execution_count": 5,
   "metadata": {
    "collapsed": true
   },
   "outputs": [],
   "source": [
    "class WatchlistCallback(Callback):\n",
    "    def __init__(self, watchlist, eval_metric, epoch_no=10):\n",
    "        super(Callback, self).__init__()\n",
    "\n",
    "        self.epoch_no = epoch_no\n",
    "        self.X, self.y = watchlist\n",
    "        self.eval_metric = eval_metric\n",
    "        self.scores = []\n",
    "        self.epochs = []\n",
    "\n",
    "    def on_epoch_end(self, epoch, logs={}):\n",
    "        if epoch % self.epoch_no == 0:\n",
    "            y_pred = self.model.predict(self.X, verbose=0)\n",
    "            score = self.eval_metric(self.y, y_pred)\n",
    "            self.scores.append(score)\n",
    "            self.epochs.append(epoch)\n",
    "\n",
    "            print \"score: %0.6f (epoch no %d)\" % (score, epoch)  \n",
    "\n",
    "class StatusCallback(Callback):    \n",
    "    def __init__(self, epoch_total):\n",
    "        super(Callback, self).__init__()\n",
    "        self.progress = tqdm(total=epoch_total)\n",
    "        \n",
    "    def on_epoch_end(self, epoch, logs={}):\n",
    "        self.progress.update(1)\n",
    "\n",
    "    def __enter__(self): \n",
    "        return self\n",
    "\n",
    "    def __exit__(self, type, value, traceback):\n",
    "        self.progress.close()"
   ]
  },
  {
   "cell_type": "code",
   "execution_count": 6,
   "metadata": {
    "collapsed": false
   },
   "outputs": [],
   "source": [
    "def read_info(file_name):\n",
    "    result = []\n",
    "    \n",
    "    for line in file(file_name):\n",
    "        key, value = line.strip().split('=')\n",
    "        key = key.strip()\n",
    "        value = value.strip().strip(\"'\")\n",
    "        if value.isdigit():\n",
    "            value = int(value)\n",
    "        result.append((key, value))\n",
    "    \n",
    "    return dict(result)"
   ]
  },
  {
   "cell_type": "code",
   "execution_count": 7,
   "metadata": {
    "collapsed": false
   },
   "outputs": [
    {
     "data": {
      "text/plain": [
       "{'feat_num': 3000,\n",
       " 'feat_type': 'Binary',\n",
       " 'has_categorical': 0,\n",
       " 'has_missing': 0,\n",
       " 'is_sparse': 1,\n",
       " 'label_num': 2,\n",
       " 'metric': 'auc_metric',\n",
       " 'name': 'evita',\n",
       " 'target_num': 1,\n",
       " 'target_type': 'Categorical',\n",
       " 'task': 'binary.classification',\n",
       " 'test_num': 14000,\n",
       " 'time_budget': 1200,\n",
       " 'train_num': 20000,\n",
       " 'usage': 'AutoML challenge 2014',\n",
       " 'valid_num': 8000}"
      ]
     },
     "execution_count": 7,
     "metadata": {},
     "output_type": "execute_result"
    }
   ],
   "source": [
    "public = read_info('data/set1_evita/evita_public.info')\n",
    "public"
   ]
  },
  {
   "cell_type": "code",
   "execution_count": 8,
   "metadata": {
    "collapsed": true
   },
   "outputs": [],
   "source": [
    "dim = public['feat_num']\n",
    "\n",
    "def read_features(fine_name):\n",
    "    result = list()\n",
    "    for line in file(fine_name):\n",
    "        row = [int(f) - 1 for f in line.strip().split(' ') if f]\n",
    "        result.append(row)\n",
    "    \n",
    "    rnum = len(result)\n",
    "    X = scipy.sparse.dok_matrix((rnum, dim), dtype=np.int)\n",
    "    for idx, row in enumerate(result):\n",
    "        X[idx, row] = 1\n",
    "\n",
    "    return scipy.sparse.csr_matrix(X)"
   ]
  },
  {
   "cell_type": "code",
   "execution_count": 26,
   "metadata": {
    "collapsed": false
   },
   "outputs": [
    {
     "name": "stdout",
     "output_type": "stream",
     "text": [
      "(20000, 3001) (20000,)\n",
      "(8000, 3001) (14000, 3001)\n"
     ]
    }
   ],
   "source": [
    "X = read_features('data/set1_evita/evita_train.data')\n",
    "y = np.fromfile('data/set1_evita/evita_train.solution', sep='\\n', dtype=np.int)\n",
    "\n",
    "X_valid = read_features('data/set1_evita/evita_valid.data')\n",
    "X_test  = read_features('data/set1_evita/evita_test.data')\n",
    "\n",
    "print X.shape, y.shape\n",
    "print X_valid.shape, X_test.shape"
   ]
  },
  {
   "cell_type": "code",
   "execution_count": 36,
   "metadata": {
    "collapsed": false,
    "scrolled": true
   },
   "outputs": [],
   "source": [
    "train_size = 0.8\n",
    "EPOCHS = 2000\n",
    "dim = X.shape[1]\n",
    "\n",
    "cv = StratifiedShuffleSplit(y, n_iter=1, train_size=train_size, random_state=11)\n",
    "train, test = next(cv.__iter__())\n",
    "\n",
    "X_train_svd = X[train].toarray() #svd.transform(X_input[train])\n",
    "X_test_svd = X[test].toarray() # svd.transform(X_input[test])"
   ]
  },
  {
   "cell_type": "code",
   "execution_count": 46,
   "metadata": {
    "collapsed": true
   },
   "outputs": [],
   "source": [
    "model = Sequential()\n",
    "model.add(Dense(input_dim=dim, output_dim=1000, init='uniform', W_regularizer=l1(0.0001)))\n",
    "model.add(Activation('sigmoid'))\n",
    "\n",
    "model.add(Dense(input_dim=1000, output_dim=200, init='uniform'))\n",
    "model.add(Activation('sigmoid'))\n",
    "\n",
    "model.add(Dense(input_dim=200, output_dim=1, init='uniform'))\n",
    "model.add(Activation('sigmoid'))\n",
    "\n",
    "model.compile(loss='binary_crossentropy', optimizer='sgd')\n",
    "\n",
    "watchlist = (X_test_svd, y[test].reshape(-1, 1))\n",
    "watchlist_callback = WatchlistCallback(watchlist, eval_metric=auc_metric, epoch_no=1)"
   ]
  },
  {
   "cell_type": "code",
   "execution_count": null,
   "metadata": {
    "collapsed": false,
    "scrolled": true
   },
   "outputs": [
    {
     "name": "stdout",
     "output_type": "stream",
     "text": [
      "score: -0.084993 (epoch no 0)\n",
      "score: -0.073765 (epoch no 1)\n",
      "score: -0.061724 (epoch no 2)\n",
      "score: -0.051509 (epoch no 3)\n",
      "score: -0.040654 (epoch no 4)\n",
      "score: -0.029762 (epoch no 5)\n"
     ]
    }
   ],
   "source": [
    "model.fit(X_train_svd, y[train], nb_epoch=EPOCHS, batch_size=250, \n",
    "          callbacks=[watchlist_callback], verbose=0)"
   ]
  },
  {
   "cell_type": "code",
   "execution_count": 15,
   "metadata": {
    "collapsed": false
   },
   "outputs": [
    {
     "data": {
      "image/png": "[encoded data removed]",
      "text/plain": [
       "<matplotlib.figure.Figure at 0x7f63059d2d10>"
      ]
     },
     "metadata": {},
     "output_type": "display_data"
    }
   ],
   "source": [
    "plt.plot(watchlist_callback.epochs, watchlist_callback.scores)\n",
    "plt.ylim(0, 0.6)\n",
    "plt.show()"
   ]
  },
  {
   "cell_type": "code",
   "execution_count": 18,
   "metadata": {
    "collapsed": false,
    "scrolled": true
   },
   "outputs": [
    {
     "name": "stderr",
     "output_type": "stream",
     "text": []
    }
   ],
   "source": [
    "EPOCHS = 260\n",
    "dim = X_input.shape[1]\n",
    "\n",
    "model = Sequential()\n",
    "model.add(Dense(input_dim=dim, output_dim=300, init='uniform'))\n",
    "model.add(BatchNormalization())\n",
    "model.add(Dropout(0.1))\n",
    "model.add(Activation('sigmoid'))\n",
    "\n",
    "model.add(Dense(input_dim=300, output_dim=1, init='uniform'))\n",
    "model.add(Activation('sigmoid'))\n",
    "model.compile(loss='binary_crossentropy', optimizer='sgd')\n",
    "\n",
    "with StatusCallback(epoch_total=EPOCHS) as status:\n",
    "    model.fit(X_input.toarray(), y, nb_epoch=EPOCHS, batch_size=250, callbacks=[status], verbose=0)"
   ]
  },
  {
   "cell_type": "code",
   "execution_count": 19,
   "metadata": {
    "collapsed": false
   },
   "outputs": [],
   "source": [
    "y_valid_score = model.predict(X_valid.toarray())\n",
    "y_test_score = model.predict(X_test.toarray())"
   ]
  },
  {
   "cell_type": "code",
   "execution_count": 20,
   "metadata": {
    "collapsed": false
   },
   "outputs": [],
   "source": [
    "np.savetxt('submission/evita_valid.predict', y_valid_score, fmt='%0.18f')\n",
    "np.savetxt('submission/evita_test.predict', y_test_score, fmt='%0.18f')"
   ]
  }
 ],
 "metadata": {
  "kernelspec": {
   "display_name": "Python 2",
   "language": "python",
   "name": "python2"
  },
  "language_info": {
   "codemirror_mode": {
    "name": "ipython",
    "version": 2
   },
   "file_extension": ".py",
   "mimetype": "text/x-python",
   "name": "python",
   "nbconvert_exporter": "python",
   "pygments_lexer": "ipython2",
   "version": "2.7.11"
  }
 },
 "nbformat": 4,
 "nbformat_minor": 0
}
