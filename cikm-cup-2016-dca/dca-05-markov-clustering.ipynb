{
 "cells": [
  {
   "cell_type": "code",
   "execution_count": 1,
   "metadata": {
    "collapsed": true
   },
   "outputs": [],
   "source": [
    "import json\n",
    "import itertools\n",
    "import cPickle\n",
    "\n",
    "from collections import Counter, defaultdict\n",
    "\n",
    "import pandas as pd\n",
    "import numpy as np\n",
    "from tqdm import tqdm\n",
    "import feather\n",
    "\n",
    "import networkx as nx\n",
    "import matplotlib.pyplot as plt\n",
    "%matplotlib inline"
   ]
  },
  {
   "cell_type": "code",
   "execution_count": 2,
   "metadata": {
    "collapsed": true
   },
   "outputs": [],
   "source": [
    "df_res = feather.read_dataframe('./stacking_pred.feather')"
   ]
  },
  {
   "cell_type": "markdown",
   "metadata": {},
   "source": [
    "Markov clustering params"
   ]
  },
  {
   "cell_type": "code",
   "execution_count": 3,
   "metadata": {
    "collapsed": true
   },
   "outputs": [],
   "source": [
    "T = 100\n",
    "p = 0.8\n",
    "EXPANSION_POWER = 2\n",
    "INFLATION_POWER = 2.2"
   ]
  },
  {
   "cell_type": "markdown",
   "metadata": {},
   "source": [
    "Top results"
   ]
  },
  {
   "cell_type": "code",
   "execution_count": 4,
   "metadata": {
    "collapsed": false
   },
   "outputs": [
    {
     "name": "stderr",
     "output_type": "stream",
     "text": [
      "155341it [00:09, 16727.72it/s]\n"
     ]
    }
   ],
   "source": [
    "best_res = []\n",
    "seen = set()\n",
    "count = 215307 * 0.4\n",
    "\n",
    "for _, row in tqdm(df_res.iterrows()):\n",
    "    uid1 = int(row.user_1)\n",
    "    uid2 = int(row.user_2)\n",
    "    score = row.model_score\n",
    "\n",
    "    if (uid1, uid2) in seen or (uid2, uid1) in seen:\n",
    "        continue\n",
    "\n",
    "    seen.add((uid1, uid2))\n",
    "    best_res.append((uid1, uid2, score))\n",
    "\n",
    "    count = count - 1\n",
    "    if count <= 0:\n",
    "        break"
   ]
  },
  {
   "cell_type": "code",
   "execution_count": 5,
   "metadata": {
    "collapsed": false
   },
   "outputs": [
    {
     "data": {
      "text/plain": [
       "(18721, 57242, 0.63561976)"
      ]
     },
     "execution_count": 5,
     "metadata": {},
     "output_type": "execute_result"
    }
   ],
   "source": [
    "best_res[-1]"
   ]
  },
  {
   "cell_type": "markdown",
   "metadata": {},
   "source": [
    "Collecting data for MCL"
   ]
  },
  {
   "cell_type": "code",
   "execution_count": 6,
   "metadata": {
    "collapsed": true
   },
   "outputs": [],
   "source": [
    "def get_component_nodes(other_nodes, uid):\n",
    "    nodes = other_nodes[uid]\n",
    "    if len(nodes) == 0:\n",
    "        nodes.add(uid)\n",
    "    return nodes\n",
    "\n",
    "def merge_components(other_nodes, uid1, uid2):\n",
    "    nodes = other_nodes[uid1] | other_nodes[uid2]\n",
    "    for node in nodes:\n",
    "        other_nodes[node] = nodes"
   ]
  },
  {
   "cell_type": "code",
   "execution_count": 7,
   "metadata": {
    "collapsed": false
   },
   "outputs": [
    {
     "name": "stderr",
     "output_type": "stream",
     "text": [
      "116017it [00:08, 14260.84it/s]\n"
     ]
    }
   ],
   "source": [
    "other_nodes = defaultdict(set)\n",
    "\n",
    "df_markov_nodes = []\n",
    "seen = set()\n",
    "count = 215307\n",
    "skipped = 0\n",
    "\n",
    "for _, row in tqdm(df_res.iterrows()):\n",
    "    uid1 = int(row.user_1)\n",
    "    uid2 = int(row.user_2)\n",
    "    score = row.model_score\n",
    "\n",
    "    if score <= p:\n",
    "        break\n",
    "\n",
    "    if (uid1, uid2) in seen or (uid2, uid1) in seen:\n",
    "        continue\n",
    "\n",
    "    nodes_1 = get_component_nodes(other_nodes, uid1)\n",
    "    nodes_2 = get_component_nodes(other_nodes, uid2)\n",
    "\n",
    "    if len(nodes_1) + len(nodes_2) > T:\n",
    "        skipped = skipped + 1\n",
    "        continue \n",
    "\n",
    "    seen.add((uid1, uid2))\n",
    "    merge_components(other_nodes, uid1, uid2)\n",
    "\n",
    "    df_markov_nodes.append((uid1, uid2, score))\n",
    "\n",
    "    count = count - 1\n",
    "    if count <= 0:\n",
    "        break"
   ]
  },
  {
   "cell_type": "code",
   "execution_count": 8,
   "metadata": {
    "collapsed": false
   },
   "outputs": [
    {
     "data": {
      "text/plain": [
       "(64133, 0)"
      ]
     },
     "execution_count": 8,
     "metadata": {},
     "output_type": "execute_result"
    }
   ],
   "source": [
    "len(df_markov_nodes), skipped"
   ]
  },
  {
   "cell_type": "code",
   "execution_count": 9,
   "metadata": {
    "collapsed": false
   },
   "outputs": [
    {
     "data": {
      "text/html": [
       "<div>\n",
       "<table border=\"1\" class=\"dataframe\">\n",
       "  <thead>\n",
       "    <tr style=\"text-align: right;\">\n",
       "      <th></th>\n",
       "      <th>user_1</th>\n",
       "      <th>user_2</th>\n",
       "      <th>score</th>\n",
       "    </tr>\n",
       "  </thead>\n",
       "  <tbody>\n",
       "    <tr>\n",
       "      <th>64128</th>\n",
       "      <td>8382</td>\n",
       "      <td>337011</td>\n",
       "      <td>0.800032</td>\n",
       "    </tr>\n",
       "    <tr>\n",
       "      <th>64129</th>\n",
       "      <td>140733</td>\n",
       "      <td>268054</td>\n",
       "      <td>0.800030</td>\n",
       "    </tr>\n",
       "    <tr>\n",
       "      <th>64130</th>\n",
       "      <td>118794</td>\n",
       "      <td>264913</td>\n",
       "      <td>0.800005</td>\n",
       "    </tr>\n",
       "    <tr>\n",
       "      <th>64131</th>\n",
       "      <td>150089</td>\n",
       "      <td>162928</td>\n",
       "      <td>0.800003</td>\n",
       "    </tr>\n",
       "    <tr>\n",
       "      <th>64132</th>\n",
       "      <td>112851</td>\n",
       "      <td>165087</td>\n",
       "      <td>0.800003</td>\n",
       "    </tr>\n",
       "  </tbody>\n",
       "</table>\n",
       "</div>"
      ],
      "text/plain": [
       "       user_1  user_2     score\n",
       "64128    8382  337011  0.800032\n",
       "64129  140733  268054  0.800030\n",
       "64130  118794  264913  0.800005\n",
       "64131  150089  162928  0.800003\n",
       "64132  112851  165087  0.800003"
      ]
     },
     "execution_count": 9,
     "metadata": {},
     "output_type": "execute_result"
    }
   ],
   "source": [
    "df_markov_nodes = pd.DataFrame(df_markov_nodes, columns=['user_1', 'user_2', 'score'])\n",
    "df_markov_nodes.tail()"
   ]
  },
  {
   "cell_type": "code",
   "execution_count": 10,
   "metadata": {
    "collapsed": false
   },
   "outputs": [],
   "source": [
    "edges = zip(df_markov_nodes.user_1, df_markov_nodes.user_2)\n",
    "scores = dict(zip(edges, df_markov_nodes.score))"
   ]
  },
  {
   "cell_type": "code",
   "execution_count": 11,
   "metadata": {
    "collapsed": true
   },
   "outputs": [],
   "source": [
    "def edge_score(u1, u2):\n",
    "    if (u1, u2) in scores:\n",
    "        return scores[(u1, u2)]\n",
    "    if (u2, u1) in scores:\n",
    "        return scores[(u2, u1)]\n",
    "    return 0.0"
   ]
  },
  {
   "cell_type": "code",
   "execution_count": 12,
   "metadata": {
    "collapsed": false
   },
   "outputs": [
    {
     "name": "stderr",
     "output_type": "stream",
     "text": [
      "100%|██████████| 64133/64133 [00:00<00:00, 154792.05it/s]\n"
     ]
    }
   ],
   "source": [
    "G = nx.Graph()\n",
    "\n",
    "for u1, u2 in tqdm(edges):\n",
    "    G.add_edge(u1, u2)"
   ]
  },
  {
   "cell_type": "code",
   "execution_count": 13,
   "metadata": {
    "collapsed": false
   },
   "outputs": [],
   "source": [
    "components = list(nx.connected_components(G))"
   ]
  },
  {
   "cell_type": "markdown",
   "metadata": {},
   "source": [
    "MCL implementation:"
   ]
  },
  {
   "cell_type": "code",
   "execution_count": 14,
   "metadata": {
    "collapsed": true
   },
   "outputs": [],
   "source": [
    "def normalize_cols(M):\n",
    "    return M / M.sum(axis=0, keepdims=1)\n",
    "\n",
    "def prepare_markov_matrix(comp):\n",
    "    n = len(comp)\n",
    "    M = np.zeros((n, n), dtype=float)\n",
    "\n",
    "    for i in xrange(n):\n",
    "        M[i, i] = 1.0\n",
    "        for j in xrange(i + 1, n):\n",
    "            s = edge_score(comp[i], comp[j])\n",
    "            M[i, j] = M[j, i] = s\n",
    "    \n",
    "    return normalize_cols(M)\n",
    "\n",
    "\n",
    "def markov_step(M, n, p):\n",
    "    for i in range(n):\n",
    "        M = M.dot(M)\n",
    "    \n",
    "    M = M ** p\n",
    "    return normalize_cols(M)\n",
    "\n",
    "def array_to_graph(M):\n",
    "    GM = nx.Graph()\n",
    "\n",
    "    N, _  = M.shape\n",
    "    for i in xrange(N):\n",
    "        for j in xrange(i + 1, N):\n",
    "            s = M[i, j]\n",
    "            if s > 1e-6:\n",
    "                GM.add_edge(i, j)\n",
    "    return GM\n",
    "\n",
    "\n",
    "def markov_clustering(comp, n, p, max_iter=100):\n",
    "    comp = sorted(comp)\n",
    "    M = prepare_markov_matrix(comp)\n",
    "\n",
    "    c = max_iter\n",
    "    while c > 0:\n",
    "        M_old = M\n",
    "        M = markov_step(M, n, p)\n",
    "        err = ((M - M_old) ** 2).sum()\n",
    "        if err < 1e-6:\n",
    "            break\n",
    "\n",
    "    M[M < 1e-6] = 0.0\n",
    "\n",
    "    GM = array_to_graph(M)\n",
    "    new_comps = list(nx.connected_components(GM))\n",
    "\n",
    "    result = []\n",
    "    for c in new_comps:\n",
    "        result.append([comp[i] for i in c])\n",
    "    \n",
    "    return result\n",
    "\n",
    "def draw_graph(M):\n",
    "    GM = array_to_graph(M)\n",
    "    nx.draw(GM)\n",
    "    plt.show()"
   ]
  },
  {
   "cell_type": "code",
   "execution_count": 15,
   "metadata": {
    "collapsed": false
   },
   "outputs": [
    {
     "data": {
      "image/png": "[encoded data removed]",
      "text/plain": [
       "<matplotlib.figure.Figure at 0x7f120c41c9d0>"
      ]
     },
     "metadata": {},
     "output_type": "display_data"
    },
    {
     "data": {
      "image/png": "[encoded data removed]",
      "text/plain": [
       "<matplotlib.figure.Figure at 0x7f121c197650>"
      ]
     },
     "metadata": {},
     "output_type": "display_data"
    },
    {
     "data": {
      "image/png": "[encoded data removed]",
      "text/plain": [
       "<matplotlib.figure.Figure at 0x7f120bc2ad90>"
      ]
     },
     "metadata": {},
     "output_type": "display_data"
    },
    {
     "data": {
      "image/png": "[encoded data removed]",
      "text/plain": [
       "<matplotlib.figure.Figure at 0x7f120bbc5fd0>"
      ]
     },
     "metadata": {},
     "output_type": "display_data"
    }
   ],
   "source": [
    "comp = list(components[1099])\n",
    "M = prepare_markov_matrix(comp)\n",
    "draw_graph(M)\n",
    "\n",
    "M = markov_step(M, n=2, p=2.2)\n",
    "M = markov_step(M, n=2, p=2.2)\n",
    "M = markov_step(M, n=2, p=2.2)\n",
    "M = markov_step(M, n=2, p=2.2)\n",
    "draw_graph(M)\n",
    "\n",
    "M = markov_step(M, n=2, p=2.2)\n",
    "M = markov_step(M, n=2, p=2.2)\n",
    "M = markov_step(M, n=2, p=2.2)\n",
    "M = markov_step(M, n=2, p=2.2)\n",
    "draw_graph(M)\n",
    "\n",
    "M = markov_step(M, n=2, p=2.2)\n",
    "M = markov_step(M, n=2, p=2.2)\n",
    "M = markov_step(M, n=2, p=2.2)\n",
    "M = markov_step(M, n=2, p=2.2)\n",
    "draw_graph(M)"
   ]
  },
  {
   "cell_type": "code",
   "execution_count": 16,
   "metadata": {
    "collapsed": false,
    "scrolled": true
   },
   "outputs": [
    {
     "name": "stderr",
     "output_type": "stream",
     "text": [
      "100%|██████████| 18201/18201 [00:01<00:00, 11366.50it/s]\n"
     ]
    }
   ],
   "source": [
    "component_results = []\n",
    "\n",
    "for comp in tqdm(components):\n",
    "    if len(comp) <= 3:\n",
    "        component_results.append(comp)\n",
    "        continue\n",
    "\n",
    "    new_comp = markov_clustering(comp, n=EXPANSION_POWER, p=INFLATION_POWER)\n",
    "    component_results.extend(new_comp)"
   ]
  },
  {
   "cell_type": "code",
   "execution_count": 17,
   "metadata": {
    "collapsed": false
   },
   "outputs": [
    {
     "data": {
      "text/plain": [
       "(17429, 18201)"
      ]
     },
     "execution_count": 17,
     "metadata": {},
     "output_type": "execute_result"
    }
   ],
   "source": [
    "len(component_results), len(components)"
   ]
  },
  {
   "cell_type": "code",
   "execution_count": 18,
   "metadata": {
    "collapsed": false
   },
   "outputs": [
    {
     "data": {
      "text/plain": [
       "count    17429.000000\n",
       "mean         2.800907\n",
       "std          1.105756\n",
       "min          2.000000\n",
       "25%          2.000000\n",
       "50%          3.000000\n",
       "75%          3.000000\n",
       "max         22.000000\n",
       "dtype: float64"
      ]
     },
     "execution_count": 18,
     "metadata": {},
     "output_type": "execute_result"
    }
   ],
   "source": [
    "pd.Series([len(c) for c in component_results]).describe()"
   ]
  },
  {
   "cell_type": "code",
   "execution_count": 19,
   "metadata": {
    "collapsed": true
   },
   "outputs": [],
   "source": [
    "pairs = []\n",
    "\n",
    "for comp in component_results:\n",
    "    if len(comp) > 6:\n",
    "        continue\n",
    "\n",
    "    for (u1, u2) in list(itertools.combinations(comp, r=2)):\n",
    "        pairs.append((u1, u2))"
   ]
  },
  {
   "cell_type": "code",
   "execution_count": 20,
   "metadata": {
    "collapsed": false
   },
   "outputs": [
    {
     "data": {
      "text/plain": [
       "45471"
      ]
     },
     "execution_count": 20,
     "metadata": {},
     "output_type": "execute_result"
    }
   ],
   "source": [
    "len(pairs)"
   ]
  },
  {
   "cell_type": "code",
   "execution_count": 21,
   "metadata": {
    "collapsed": true
   },
   "outputs": [],
   "source": [
    "with open('tmp/idx_to_uid.bin', 'rb') as f:\n",
    "    idx_to_uid = cPickle.load(f)"
   ]
  },
  {
   "cell_type": "code",
   "execution_count": 22,
   "metadata": {
    "collapsed": false
   },
   "outputs": [
    {
     "name": "stderr",
     "output_type": "stream",
     "text": [
      "100%|██████████| 86123/86123 [00:00<00:00, 321112.65it/s]\n",
      "100%|██████████| 45471/45471 [00:00<00:00, 704103.83it/s]\n"
     ]
    }
   ],
   "source": [
    "seen = set()\n",
    "\n",
    "with open('submission.txt', 'w') as f_out:\n",
    "    for uid1, uid2, _ in tqdm(best_res):\n",
    "        seen.add((uid1, uid2))\n",
    "\n",
    "        uid1 = idx_to_uid[uid1]\n",
    "        uid2 = idx_to_uid[uid2]\n",
    "        if uid2 < uid1:\n",
    "            uid2, uid1 = uid1, uid2\n",
    "\n",
    "        f_out.write(\"%s,%s\\n\" % (uid1, uid2))\n",
    "    \n",
    "    for uid1, uid2 in tqdm(pairs):\n",
    "        if (uid1, uid2) in seen or (uid2, uid1) in seen:\n",
    "            continue\n",
    "\n",
    "        seen.add((uid1, uid2))\n",
    "\n",
    "        uid1 = idx_to_uid[uid1]\n",
    "        uid2 = idx_to_uid[uid2]\n",
    "        if uid2 < uid1:\n",
    "            uid2, uid1 = uid1, uid2\n",
    "\n",
    "        f_out.write(\"%s,%s\\n\" % (uid1, uid2))"
   ]
  },
  {
   "cell_type": "code",
   "execution_count": 23,
   "metadata": {
    "collapsed": false
   },
   "outputs": [
    {
     "name": "stdout",
     "output_type": "stream",
     "text": [
      "92985 submission.txt\r\n"
     ]
    }
   ],
   "source": [
    "!wc -l submission.txt"
   ]
  },
  {
   "cell_type": "code",
   "execution_count": 24,
   "metadata": {
    "collapsed": false
   },
   "outputs": [
    {
     "name": "stdout",
     "output_type": "stream",
     "text": [
      "updating: submission.txt (deflated 44%)\n"
     ]
    }
   ],
   "source": [
    "!zip -r submission-mc4.zip submission.txt"
   ]
  }
 ],
 "metadata": {
  "kernelspec": {
   "display_name": "Python 2",
   "language": "python",
   "name": "python2"
  },
  "language_info": {
   "codemirror_mode": {
    "name": "ipython",
    "version": 2
   },
   "file_extension": ".py",
   "mimetype": "text/x-python",
   "name": "python",
   "nbconvert_exporter": "python",
   "pygments_lexer": "ipython2",
   "version": "2.7.12"
  }
 },
 "nbformat": 4,
 "nbformat_minor": 0
}
