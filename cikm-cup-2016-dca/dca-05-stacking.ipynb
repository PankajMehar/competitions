{
 "cells": [
  {
   "cell_type": "code",
   "execution_count": 1,
   "metadata": {
    "collapsed": true
   },
   "outputs": [],
   "source": [
    "import json\n",
    "\n",
    "import pandas as pd\n",
    "import numpy as np\n",
    "from tqdm import tqdm\n",
    "\n",
    "import xgboost as xgb\n",
    "\n",
    "import cPickle\n",
    "\n",
    "import feather"
   ]
  },
  {
   "cell_type": "code",
   "execution_count": 2,
   "metadata": {
    "collapsed": true
   },
   "outputs": [],
   "source": [
    "df_train = feather.read_dataframe('pair_features_tfidf_profiles_train.feather')"
   ]
  },
  {
   "cell_type": "code",
   "execution_count": 3,
   "metadata": {
    "collapsed": false
   },
   "outputs": [],
   "source": [
    "fold = df_train.fold\n",
    "target = df_train.target\n",
    "\n",
    "fold1 = (fold == 1).values\n",
    "fold2 = (fold == 2).values"
   ]
  },
  {
   "cell_type": "code",
   "execution_count": null,
   "metadata": {
    "collapsed": true
   },
   "outputs": [],
   "source": [
    "df_train_ranks = feather.read_dataframe('stack/df_train_ranks.feather')\n",
    "all_features = list(df_train_ranks.columns)"
   ]
  },
  {
   "cell_type": "code",
   "execution_count": 4,
   "metadata": {
    "collapsed": true
   },
   "outputs": [],
   "source": [
    "df_xgb_train = feather.read_dataframe('stack/plain_xgb.feather')\n",
    "df_et_train = feather.read_dataframe('stack/et_914.feather')\n",
    "\n",
    "df_train['xgb_prob'] = df_xgb_train.xgb_pred\n",
    "df_train['et_prob'] = df_et_train.et_pred"
   ]
  },
  {
   "cell_type": "code",
   "execution_count": 6,
   "metadata": {
    "collapsed": true
   },
   "outputs": [],
   "source": [
    "del df_xgb_train, df_et_train"
   ]
  },
  {
   "cell_type": "code",
   "execution_count": 7,
   "metadata": {
    "collapsed": true
   },
   "outputs": [],
   "source": [
    "userful_features = ['domain_tfidf_sim', 'domain_tfidf_svd_sim', 'url_tfidf_sim',\n",
    "                    'url_tfidf_svd_sim', 'title_tfidf_sim', 'title_tfidf_svd_sim',\n",
    "                    'es_score', 'xgb_prob', 'et_prob']\n",
    "rank_features = []"
   ]
  },
  {
   "cell_type": "code",
   "execution_count": 10,
   "metadata": {
    "collapsed": false,
    "scrolled": true
   },
   "outputs": [
    {
     "name": "stderr",
     "output_type": "stream",
     "text": [
      "100%|██████████| 9/9 [11:49<00:00, 79.23s/it]\n"
     ]
    }
   ],
   "source": [
    "u12_pair = zip(df_train.user_1, df_train.user_2)\n",
    "u21_pair = pd.Series(zip(df_train.user_2, df_train.user_1))\n",
    "\n",
    "for f in tqdm(userful_features):\n",
    "    rank_user_1 = df_train.groupby('user_1')[f].rank(method='dense', ascending=0)\n",
    "    rank_user_2 = df_train.groupby('user_2')[f].rank(method='dense', ascending=0)\n",
    "    \n",
    "    df_train[f + '_rank_user_1'] = rank_user_1\n",
    "    df_train[f + '_rank_user_2'] = rank_user_2\n",
    "\n",
    "    u12_rank = dict(zip(u12_pair, rank_user_1))\n",
    "    df_train[f + '_rank_lookup'] = u21_pair.apply(u12_rank.get).fillna(100)\n",
    "\n",
    "    rank_features.extend([f + '_rank_user_1', f + '_rank_user_2', f + '_rank_lookup'])"
   ]
  },
  {
   "cell_type": "code",
   "execution_count": 10,
   "metadata": {
    "collapsed": false
   },
   "outputs": [],
   "source": [
    "all_features = sorted(userful_features + rank_features)\n",
    "df_train_ranks = df_train[all_features].copy()\n",
    "\n",
    "for f in all_features:\n",
    "    df_train_ranks[f] = df_train_ranks[f].astype('float32')\n",
    "    \n",
    "feather.write_dataframe(df_train_ranks, 'stack/df_train_ranks.feather')"
   ]
  },
  {
   "cell_type": "code",
   "execution_count": 12,
   "metadata": {
    "collapsed": true
   },
   "outputs": [],
   "source": [
    "X_all = df_train_ranks.values\n",
    "del df_train, df_train_ranks"
   ]
  },
  {
   "cell_type": "code",
   "execution_count": 15,
   "metadata": {
    "collapsed": false
   },
   "outputs": [],
   "source": [
    "fold1_xgb = xgb.DMatrix(X_all[fold1], target[fold1], feature_names=all_features, missing=np.nan)\n",
    "fold2_xgb = xgb.DMatrix(X_all[fold2], target[fold2], feature_names=all_features, missing=np.nan)"
   ]
  },
  {
   "cell_type": "code",
   "execution_count": 18,
   "metadata": {
    "collapsed": true
   },
   "outputs": [],
   "source": [
    "n_estimators = 300\n",
    "\n",
    "xgb_pars = {\n",
    "    'eta': 0.15,\n",
    "    'gamma': 0.5,\n",
    "    'max_depth': 6,\n",
    "    'min_child_weight': 1,\n",
    "    'max_delta_step': 0,\n",
    "    'subsample': 0.7,\n",
    "    'colsample_bytree': 0.7,\n",
    "    'colsample_bylevel': 1,\n",
    "    'lambda': 1,\n",
    "    'alpha': 0,\n",
    "    'tree_method': 'approx',\n",
    "    'objective': 'binary:logistic',\n",
    "    'eval_metric': 'auc',\n",
    "    'nthread': 8,\n",
    "    'seed': 42,\n",
    "    'silent': 1\n",
    "}"
   ]
  },
  {
   "cell_type": "code",
   "execution_count": 20,
   "metadata": {
    "collapsed": false,
    "scrolled": true
   },
   "outputs": [
    {
     "name": "stdout",
     "output_type": "stream",
     "text": [
      "[0]\ttrain-auc:0.947175\tval-auc:0.947388\n",
      "[5]\ttrain-auc:0.961597\tval-auc:0.961296\n",
      "[10]\ttrain-auc:0.963874\tval-auc:0.963577\n",
      "[15]\ttrain-auc:0.964884\tval-auc:0.96445\n",
      "[20]\ttrain-auc:0.965768\tval-auc:0.965262\n",
      "[25]\ttrain-auc:0.966472\tval-auc:0.965856\n",
      "[30]\ttrain-auc:0.967158\tval-auc:0.966395\n",
      "[35]\ttrain-auc:0.967699\tval-auc:0.966797\n",
      "[40]\ttrain-auc:0.968255\tval-auc:0.96716\n",
      "[45]\ttrain-auc:0.968687\tval-auc:0.967494\n",
      "[50]\ttrain-auc:0.96906\tval-auc:0.967717\n",
      "[55]\ttrain-auc:0.969412\tval-auc:0.967942\n",
      "[60]\ttrain-auc:0.969691\tval-auc:0.968131\n",
      "[65]\ttrain-auc:0.970027\tval-auc:0.968327\n",
      "[70]\ttrain-auc:0.970262\tval-auc:0.968448\n",
      "[75]\ttrain-auc:0.970471\tval-auc:0.968594\n",
      "[80]\ttrain-auc:0.97065\tval-auc:0.968709\n",
      "[85]\ttrain-auc:0.970871\tval-auc:0.968819\n",
      "[90]\ttrain-auc:0.971028\tval-auc:0.968908\n",
      "[95]\ttrain-auc:0.971207\tval-auc:0.969007\n"
     ]
    }
   ],
   "source": [
    "watchlist = [(fold1_xgb, 'train'), (fold2_xgb, 'val')]\n",
    "model_fold2 = xgb.train(xgb_pars, fold1_xgb, num_boost_round=100, verbose_eval=5, evals=watchlist)"
   ]
  },
  {
   "cell_type": "code",
   "execution_count": 23,
   "metadata": {
    "collapsed": false,
    "scrolled": true
   },
   "outputs": [
    {
     "ename": "NameError",
     "evalue": "name 'model_fold2' is not defined",
     "output_type": "error",
     "traceback": [
      "\u001b[1;31m---------------------------------------------------------------------------\u001b[0m",
      "\u001b[1;31mNameError\u001b[0m                                 Traceback (most recent call last)",
      "\u001b[1;32m<ipython-input-23-789307d4fecf>\u001b[0m in \u001b[0;36m<module>\u001b[1;34m()\u001b[0m\n\u001b[1;32m----> 1\u001b[1;33m \u001b[0msorted\u001b[0m\u001b[1;33m(\u001b[0m\u001b[0mmodel_fold2\u001b[0m\u001b[1;33m.\u001b[0m\u001b[0mget_fscore\u001b[0m\u001b[1;33m(\u001b[0m\u001b[1;33m)\u001b[0m\u001b[1;33m.\u001b[0m\u001b[0mitems\u001b[0m\u001b[1;33m(\u001b[0m\u001b[1;33m)\u001b[0m\u001b[1;33m,\u001b[0m \u001b[0mkey\u001b[0m\u001b[1;33m=\u001b[0m\u001b[1;32mlambda\u001b[0m \u001b[1;33m(\u001b[0m\u001b[0m_\u001b[0m\u001b[1;33m,\u001b[0m \u001b[0ms\u001b[0m\u001b[1;33m)\u001b[0m\u001b[1;33m:\u001b[0m \u001b[1;33m-\u001b[0m\u001b[0ms\u001b[0m\u001b[1;33m)\u001b[0m\u001b[1;33m\u001b[0m\u001b[0m\n\u001b[0m",
      "\u001b[1;31mNameError\u001b[0m: name 'model_fold2' is not defined"
     ]
    }
   ],
   "source": [
    "sorted(model_fold2.get_fscore().items(), key=lambda (_, s): -s)"
   ]
  },
  {
   "cell_type": "code",
   "execution_count": 21,
   "metadata": {
    "collapsed": true
   },
   "outputs": [],
   "source": [
    "del fold1_xgb, fold2_xgb, watchlist, model_fold2"
   ]
  },
  {
   "cell_type": "code",
   "execution_count": 22,
   "metadata": {
    "collapsed": false
   },
   "outputs": [],
   "source": [
    "dfull = xgb.DMatrix(X_all, target, feature_names=all_features, missing=np.nan)"
   ]
  },
  {
   "cell_type": "code",
   "execution_count": 12,
   "metadata": {
    "collapsed": true
   },
   "outputs": [],
   "source": [
    "del X_all, target"
   ]
  },
  {
   "cell_type": "code",
   "execution_count": 26,
   "metadata": {
    "collapsed": false,
    "scrolled": true
   },
   "outputs": [
    {
     "name": "stdout",
     "output_type": "stream",
     "text": [
      "[0]\ttrain-auc:0.952119\n",
      "[5]\ttrain-auc:0.961395\n",
      "[10]\ttrain-auc:0.96318\n",
      "[15]\ttrain-auc:0.964476\n",
      "[20]\ttrain-auc:0.965559\n",
      "[25]\ttrain-auc:0.966347\n",
      "[30]\ttrain-auc:0.966877\n",
      "[35]\ttrain-auc:0.9674\n",
      "[40]\ttrain-auc:0.967885\n",
      "[45]\ttrain-auc:0.968271\n",
      "[50]\ttrain-auc:0.968573\n",
      "[55]\ttrain-auc:0.968858\n",
      "[60]\ttrain-auc:0.969137\n",
      "[65]\ttrain-auc:0.969383\n",
      "[70]\ttrain-auc:0.969567\n",
      "[75]\ttrain-auc:0.969788\n",
      "[80]\ttrain-auc:0.96999\n",
      "[85]\ttrain-auc:0.970151\n",
      "[90]\ttrain-auc:0.970297\n",
      "[95]\ttrain-auc:0.970425\n",
      "[100]\ttrain-auc:0.970576\n",
      "[105]\ttrain-auc:0.970709\n",
      "[110]\ttrain-auc:0.970824\n",
      "[115]\ttrain-auc:0.970923\n",
      "[120]\ttrain-auc:0.971032\n",
      "[125]\ttrain-auc:0.971151\n",
      "[130]\ttrain-auc:0.971237\n",
      "[135]\ttrain-auc:0.971339\n",
      "[140]\ttrain-auc:0.971438\n",
      "[145]\ttrain-auc:0.97153\n",
      "[150]\ttrain-auc:0.9716\n",
      "[155]\ttrain-auc:0.971667\n",
      "[160]\ttrain-auc:0.971722\n",
      "[165]\ttrain-auc:0.97181\n",
      "[170]\ttrain-auc:0.971896\n",
      "[175]\ttrain-auc:0.971963\n",
      "[180]\ttrain-auc:0.972046\n",
      "[185]\ttrain-auc:0.97212\n",
      "[190]\ttrain-auc:0.972177\n",
      "[195]\ttrain-auc:0.972241\n",
      "[200]\ttrain-auc:0.972324\n",
      "[205]\ttrain-auc:0.972379\n",
      "[210]\ttrain-auc:0.972443\n",
      "[215]\ttrain-auc:0.972503\n",
      "[220]\ttrain-auc:0.972581\n",
      "[225]\ttrain-auc:0.972632\n",
      "[230]\ttrain-auc:0.972702\n",
      "[235]\ttrain-auc:0.972755\n",
      "[240]\ttrain-auc:0.972807\n",
      "[245]\ttrain-auc:0.972869\n",
      "[250]\ttrain-auc:0.972921\n",
      "[255]\ttrain-auc:0.972979\n",
      "[260]\ttrain-auc:0.973016\n",
      "[265]\ttrain-auc:0.973078\n",
      "[270]\ttrain-auc:0.973125\n",
      "[275]\ttrain-auc:0.973178\n",
      "[280]\ttrain-auc:0.973233\n",
      "[285]\ttrain-auc:0.973284\n",
      "[290]\ttrain-auc:0.973342\n",
      "[295]\ttrain-auc:0.97339\n"
     ]
    }
   ],
   "source": [
    "watchlist = [(dfull, 'train')]\n",
    "model_full = xgb.train(xgb_pars, dfull, num_boost_round=n_estimators, verbose_eval=5, evals=watchlist)"
   ]
  },
  {
   "cell_type": "code",
   "execution_count": 28,
   "metadata": {
    "collapsed": true
   },
   "outputs": [],
   "source": [
    "model_full.save_model('tmp/final.bin')"
   ]
  },
  {
   "cell_type": "code",
   "execution_count": 29,
   "metadata": {
    "collapsed": true
   },
   "outputs": [],
   "source": [
    "del watchlist, dfull"
   ]
  },
  {
   "cell_type": "code",
   "execution_count": 30,
   "metadata": {
    "collapsed": false,
    "scrolled": true
   },
   "outputs": [],
   "source": [
    "df_test = feather.read_dataframe('pair_features_tfidf_profiles_test.feather')\n",
    "df_res = df_test[['user_1', 'user_2']].copy()"
   ]
  },
  {
   "cell_type": "code",
   "execution_count": 50,
   "metadata": {
    "collapsed": false
   },
   "outputs": [],
   "source": [
    "df_xgb_test = feather.read_dataframe('stack/plain_xgb_test.feather')\n",
    "df_et_test = feather.read_dataframe('stack/et_914_test.feather')\n",
    "\n",
    "df_test['xgb_prob'] = df_xgb_test.x_pred\n",
    "df_test['et_prob'] = df_et_test.et_pred\n",
    "\n",
    "del df_xgb_test, df_et_test"
   ]
  },
  {
   "cell_type": "code",
   "execution_count": 54,
   "metadata": {
    "collapsed": false,
    "scrolled": true
   },
   "outputs": [
    {
     "name": "stderr",
     "output_type": "stream",
     "text": [
      "100%|██████████| 9/9 [04:46<00:00, 31.95s/it]\n"
     ]
    }
   ],
   "source": [
    "u12_pair = zip(df_test.user_1, df_test.user_2)\n",
    "u21_pair = pd.Series(zip(df_test.user_2, df_test.user_1))\n",
    "\n",
    "for f in tqdm(userful_features):\n",
    "    rank_user_1 = df_test.groupby('user_1')[f].rank(method='dense', ascending=0)\n",
    "    rank_user_2 = df_test.groupby('user_2')[f].rank(method='dense', ascending=0)\n",
    "    df_test[f + '_rank_user_1'] = rank_user_1\n",
    "    df_test[f + '_rank_user_2'] = rank_user_2\n",
    "\n",
    "    u12_rank = dict(zip(u12_pair, rank_user_1))\n",
    "    df_test[f + '_rank_lookup'] = u21_pair.apply(u12_rank.get).fillna(100)"
   ]
  },
  {
   "cell_type": "code",
   "execution_count": 55,
   "metadata": {
    "collapsed": true
   },
   "outputs": [],
   "source": [
    "df_test_ranks = df_test[all_features].copy()\n",
    "\n",
    "for f in all_features:\n",
    "    df_test_ranks[f] = df_test_ranks[f].astype('float32')"
   ]
  },
  {
   "cell_type": "code",
   "execution_count": 56,
   "metadata": {
    "collapsed": true
   },
   "outputs": [],
   "source": [
    "feather.write_dataframe(df_test_ranks, 'stack/df_test_ranks.feather')"
   ]
  },
  {
   "cell_type": "code",
   "execution_count": 69,
   "metadata": {
    "collapsed": true
   },
   "outputs": [],
   "source": [
    "df_test_ranks = feather.read_dataframe('stack/df_test_ranks.feather')"
   ]
  },
  {
   "cell_type": "code",
   "execution_count": 57,
   "metadata": {
    "collapsed": true
   },
   "outputs": [],
   "source": [
    "X_test = df_test_ranks.values\n",
    "del df_test, df_test_ranks"
   ]
  },
  {
   "cell_type": "code",
   "execution_count": 58,
   "metadata": {
    "collapsed": false
   },
   "outputs": [],
   "source": [
    "test_xgb = xgb.DMatrix(X_test, feature_names=all_features, missing=np.nan)\n",
    "del X_test"
   ]
  },
  {
   "cell_type": "code",
   "execution_count": 60,
   "metadata": {
    "collapsed": true
   },
   "outputs": [],
   "source": [
    "pred = model_full.predict(test_xgb)\n",
    "df_res['model_score'] = pred\n",
    "df_res.model_score = df_res.model_score.astype('float32')"
   ]
  },
  {
   "cell_type": "code",
   "execution_count": 62,
   "metadata": {
    "collapsed": false
   },
   "outputs": [],
   "source": [
    "df_res.sort_values(by='model_score', ascending=0, inplace=1)"
   ]
  },
  {
   "cell_type": "code",
   "execution_count": 64,
   "metadata": {
    "collapsed": true
   },
   "outputs": [],
   "source": [
    "with open('tmp/idx_to_uid.bin', 'rb') as f:\n",
    "    idx_to_uid = cPickle.load(f)"
   ]
  },
  {
   "cell_type": "code",
   "execution_count": 65,
   "metadata": {
    "collapsed": true
   },
   "outputs": [],
   "source": [
    "df_test_dedup = []\n",
    "seen = set()\n",
    "count = 215307 * 0.5\n",
    "\n",
    "with open('submission.txt', 'w') as f_out:\n",
    "\n",
    "    for _, row in df_res.iterrows():\n",
    "        uid1 = int(row.user_1)\n",
    "        uid2 = int(row.user_2)\n",
    "        if (uid1, uid2) in seen:\n",
    "            continue\n",
    "\n",
    "        seen.add((uid1, uid2))\n",
    "\n",
    "        uid1 = idx_to_uid[uid1]\n",
    "        uid2 = idx_to_uid[uid2]\n",
    "        if uid2 < uid1:\n",
    "            uid2, uid1 = uid1, uid2\n",
    "\n",
    "        f_out.write(\"%s,%s\\n\" % (uid1, uid2))\n",
    "\n",
    "        count = count - 1\n",
    "        if count <= 0:\n",
    "            break"
   ]
  },
  {
   "cell_type": "code",
   "execution_count": 72,
   "metadata": {
    "collapsed": true
   },
   "outputs": [],
   "source": [
    "feather.write_dataframe(df_res, 'stacking_pred.feather')"
   ]
  },
  {
   "cell_type": "code",
   "execution_count": 68,
   "metadata": {
    "collapsed": false
   },
   "outputs": [
    {
     "name": "stdout",
     "output_type": "stream",
     "text": [
      "updating: submission.txt (deflated 43%)\n"
     ]
    }
   ],
   "source": [
    "!zip -r submission.txt.zip submission.txt"
   ]
  },
  {
   "cell_type": "code",
   "execution_count": null,
   "metadata": {
    "collapsed": true
   },
   "outputs": [],
   "source": []
  },
  {
   "cell_type": "code",
   "execution_count": null,
   "metadata": {
    "collapsed": true
   },
   "outputs": [],
   "source": []
  },
  {
   "cell_type": "code",
   "execution_count": 34,
   "metadata": {
    "collapsed": true
   },
   "outputs": [],
   "source": [
    "fscore =[('domain_tfidf_svd_sim', 1069),\n",
    " ('domain_tfidf_sim', 951),\n",
    " ('es_score_rank_user_1', 848),\n",
    " ('url_tfidf_svd_sim', 846),\n",
    " ('xgb_prob', 809),\n",
    " ('title_tfidf_sim', 794),\n",
    " ('title_tfidf_svd_sim', 776),\n",
    " ('url_tfidf_sim', 735),\n",
    " ('url_tfidf_sim_rank_user_1', 720),\n",
    " ('es_score', 713),\n",
    " ('domain_tfidf_sim_rank_user_1', 653),\n",
    " ('xgb_prob_rank_user_1', 599),\n",
    " ('xgb_prob_rank_user_2', 591),\n",
    " ('et_prob', 522),\n",
    " ('es_score_rank_user_2', 505),\n",
    " ('url_tfidf_svd_sim_rank_user_1', 497),\n",
    " ('et_prob_rank_user_1', 486),\n",
    " ('title_tfidf_svd_sim_rank_user_2', 480),\n",
    " ('url_tfidf_sim_rank_user_2', 475),\n",
    " ('domain_tfidf_sim_rank_lookup', 474),\n",
    " ('domain_tfidf_svd_sim_rank_user_1', 473),\n",
    " ('domain_tfidf_sim_rank_user_2', 464),\n",
    " ('domain_tfidf_svd_sim_rank_user_2', 458)]"
   ]
  },
  {
   "cell_type": "code",
   "execution_count": 35,
   "metadata": {
    "collapsed": false
   },
   "outputs": [],
   "source": [
    "import matplotlib\n",
    "import matplotlib.pyplot as plt\n",
    "%matplotlib inline"
   ]
  },
  {
   "cell_type": "code",
   "execution_count": 45,
   "metadata": {
    "collapsed": false,
    "scrolled": false
   },
   "outputs": [
    {
     "data": {
      "image/png": "[encoded data removed]",
      "text/plain": [
       "<matplotlib.figure.Figure at 0x7f8e01d5d790>"
      ]
     },
     "metadata": {},
     "output_type": "display_data"
    }
   ],
   "source": [
    "plt.figure(figsize=(10, 7))\n",
    "\n",
    "fs, scores = zip(*fscore)\n",
    "\n",
    "fs = np.array(fs)[::-1]\n",
    "scores = np.array(scores)[::-1]\n",
    "\n",
    "n = len(scores)\n",
    "start = np.arange(n)\n",
    "width = 0.35\n",
    "plt.barh(start, scores)\n",
    "\n",
    "plt.yticks(start + 0.4, fs, fontsize=18)\n",
    "\n",
    "plt.margins(0.01)\n",
    "plt.show()"
   ]
  },
  {
   "cell_type": "code",
   "execution_count": null,
   "metadata": {
    "collapsed": true
   },
   "outputs": [],
   "source": []
  }
 ],
 "metadata": {
  "kernelspec": {
   "display_name": "Python 2",
   "language": "python",
   "name": "python2"
  },
  "language_info": {
   "codemirror_mode": {
    "name": "ipython",
    "version": 2
   },
   "file_extension": ".py",
   "mimetype": "text/x-python",
   "name": "python",
   "nbconvert_exporter": "python",
   "pygments_lexer": "ipython2",
   "version": "2.7.12"
  }
 },
 "nbformat": 4,
 "nbformat_minor": 0
}
