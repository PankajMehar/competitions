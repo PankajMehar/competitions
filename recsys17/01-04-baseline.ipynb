{
 "cells": [
  {
   "cell_type": "code",
   "execution_count": 1,
   "metadata": {
    "collapsed": true
   },
   "outputs": [],
   "source": [
    "import feather\n",
    "import pandas as pd\n",
    "import numpy as np"
   ]
  },
  {
   "cell_type": "code",
   "execution_count": 6,
   "metadata": {
    "collapsed": true
   },
   "outputs": [],
   "source": [
    "from sklearn.feature_extraction.text import CountVectorizer"
   ]
  },
  {
   "cell_type": "code",
   "execution_count": 2,
   "metadata": {
    "collapsed": true
   },
   "outputs": [],
   "source": [
    "df_interactions_1 = feather.read_dataframe('df/df_interactions_1.feather')\n",
    "df_interactions_2 = feather.read_dataframe('df/df_interactions_2.feather')\n",
    "\n",
    "df_interactions_1 = df_interactions_1[df_interactions_1.interaction_type != 0].reset_index(drop=1)\n",
    "df_interactions_2 = df_interactions_2[df_interactions_2.interaction_type != 0].reset_index(drop=1)\n",
    "\n",
    "df_int = pd.concat([df_interactions_1, df_interactions_2]).reset_index(drop=1)\n",
    "del df_interactions_1, df_interactions_2, df_int['ts']"
   ]
  },
  {
   "cell_type": "code",
   "execution_count": 3,
   "metadata": {
    "collapsed": false
   },
   "outputs": [],
   "source": [
    "val_items = pd.read_csv('tmp/val_items.txt', header=None)[0]\n",
    "vi = set(val_items)"
   ]
  },
  {
   "cell_type": "code",
   "execution_count": 4,
   "metadata": {
    "collapsed": true
   },
   "outputs": [],
   "source": [
    "df_int = df_int[~df_int.item_id.isin(vi)].reset_index(drop=1)"
   ]
  },
  {
   "cell_type": "code",
   "execution_count": 5,
   "metadata": {
    "collapsed": true
   },
   "outputs": [],
   "source": [
    "df_users = feather.read_dataframe('df/df_users.feather')\n",
    "df_items = feather.read_dataframe('df/df_items.feather')\n",
    "\n",
    "uid_idx = dict(zip(df_users.user_id, df_users.index))\n",
    "iid_idx = dict(zip(df_items.item_id, df_items.index))"
   ]
  },
  {
   "cell_type": "code",
   "execution_count": 7,
   "metadata": {
    "collapsed": true
   },
   "outputs": [],
   "source": [
    "cv = CountVectorizer(token_pattern=r'\\d+', dtype=np.uint8)\n",
    "X_item_titles = cv.fit_transform(df_items.title)\n",
    "X_user_job = cv.transform(df_users.jobroles)"
   ]
  },
  {
   "cell_type": "code",
   "execution_count": 8,
   "metadata": {
    "collapsed": true
   },
   "outputs": [],
   "source": [
    "common_columns = ['career_level', 'discipline_id', 'industry_id', 'country', 'region']"
   ]
  },
  {
   "cell_type": "code",
   "execution_count": 9,
   "metadata": {
    "collapsed": true
   },
   "outputs": [],
   "source": [
    "uidx = df_int.user_id.apply(uid_idx.get)\n",
    "df_int_users = df_users.iloc[uidx].reset_index(drop=1)\n",
    "\n",
    "iidx = df_int.item_id.apply(iid_idx.get)\n",
    "df_int_items = df_items.iloc[iidx].reset_index(drop=1)"
   ]
  },
  {
   "cell_type": "code",
   "execution_count": 10,
   "metadata": {
    "collapsed": false
   },
   "outputs": [],
   "source": [
    "df_features = (df_int_users[common_columns] == df_int_items[common_columns]).astype('uint8')"
   ]
  },
  {
   "cell_type": "code",
   "execution_count": 11,
   "metadata": {
    "collapsed": false
   },
   "outputs": [],
   "source": [
    "title_match = X_item_titles[iidx.values].multiply(X_user_job[uidx.values]).sum(axis=1)\n",
    "title_match = np.asarray(title_match).reshape(-1)"
   ]
  },
  {
   "cell_type": "code",
   "execution_count": 12,
   "metadata": {
    "collapsed": true
   },
   "outputs": [],
   "source": [
    "df_features['title_match'] = title_match"
   ]
  },
  {
   "cell_type": "code",
   "execution_count": 13,
   "metadata": {
    "collapsed": false
   },
   "outputs": [
    {
     "data": {
      "text/plain": [
       "52"
      ]
     },
     "execution_count": 13,
     "metadata": {},
     "output_type": "execute_result"
    }
   ],
   "source": [
    "del X_item_titles, X_user_job, uidx, iidx, title_match, df_int_items, df_int_users\n",
    "import gc\n",
    "gc.collect()"
   ]
  },
  {
   "cell_type": "code",
   "execution_count": 14,
   "metadata": {
    "collapsed": false
   },
   "outputs": [],
   "source": [
    "df_features['target'] = (df_int.interaction_type != 4).astype('uint8')"
   ]
  },
  {
   "cell_type": "code",
   "execution_count": 15,
   "metadata": {
    "collapsed": false
   },
   "outputs": [],
   "source": [
    "df_features = df_features[df_features.title_match > 0].reset_index(drop=1)"
   ]
  },
  {
   "cell_type": "code",
   "execution_count": 16,
   "metadata": {
    "collapsed": false
   },
   "outputs": [
    {
     "name": "stderr",
     "output_type": "stream",
     "text": [
      "/home/agrigorev/anaconda3/lib/python3.5/site-packages/sklearn/cross_validation.py:44: DeprecationWarning: This module was deprecated in version 0.18 in favor of the model_selection module into which all the refactored classes and functions are moved. Also note that the interface of the new CV iterators are different from that of this module. This module will be removed in 0.20.\n",
      "  \"This module will be removed in 0.20.\", DeprecationWarning)\n"
     ]
    }
   ],
   "source": [
    "from sklearn.cross_validation import train_test_split"
   ]
  },
  {
   "cell_type": "code",
   "execution_count": 17,
   "metadata": {
    "collapsed": false
   },
   "outputs": [],
   "source": [
    "df_train, df_val = train_test_split(df_features, test_size=0.1, random_state=1)"
   ]
  },
  {
   "cell_type": "code",
   "execution_count": 18,
   "metadata": {
    "collapsed": false
   },
   "outputs": [],
   "source": [
    "features = sorted(set(df_train.columns) - {'target'})"
   ]
  },
  {
   "cell_type": "code",
   "execution_count": 19,
   "metadata": {
    "collapsed": true
   },
   "outputs": [],
   "source": [
    "X_train = df_train[features].values\n",
    "y_train = df_train.target.values"
   ]
  },
  {
   "cell_type": "code",
   "execution_count": 20,
   "metadata": {
    "collapsed": true
   },
   "outputs": [],
   "source": [
    "X_val = df_val[features].values\n",
    "y_val = df_val.target.values"
   ]
  },
  {
   "cell_type": "code",
   "execution_count": 21,
   "metadata": {
    "collapsed": true
   },
   "outputs": [],
   "source": [
    "import xgboost as xgb"
   ]
  },
  {
   "cell_type": "code",
   "execution_count": 22,
   "metadata": {
    "collapsed": false
   },
   "outputs": [],
   "source": [
    "dtrain = xgb.DMatrix(X_train, label=y_train, feature_names=features)\n",
    "dval = xgb.DMatrix(X_val, label=y_val, feature_names=features)\n",
    "watchlist = [(dtrain, 'train'), (dval, 'val')]"
   ]
  },
  {
   "cell_type": "code",
   "execution_count": 23,
   "metadata": {
    "collapsed": true
   },
   "outputs": [],
   "source": [
    "xgb_pars = {\n",
    "    'eta': 0.1,\n",
    "    'gamma': 0,\n",
    "    'max_depth': 2,\n",
    "    'min_child_weight': 1,\n",
    "    'max_delta_step': 0,\n",
    "    'subsample': 1,\n",
    "    'colsample_bytree': 1,\n",
    "    'colsample_bylevel': 1,\n",
    "    'lambda': 1,\n",
    "    'alpha': 0,\n",
    "    'tree_method': 'approx',\n",
    "# not deafauts\n",
    "    'objective': 'reg:linear',\n",
    "    'eval_metric': 'rmse',\n",
    "    'nthread': 8,\n",
    "    'seed': 42,\n",
    "    'silent': 1,\n",
    "    'base_score': 0.0,\n",
    "}\n",
    "\n",
    "num_round = 25"
   ]
  },
  {
   "cell_type": "code",
   "execution_count": 24,
   "metadata": {
    "collapsed": false,
    "scrolled": true
   },
   "outputs": [
    {
     "name": "stdout",
     "output_type": "stream",
     "text": [
      "[0]\ttrain-rmse:0.838921\tval-rmse:0.838582\n",
      "[1]\ttrain-rmse:0.771652\tval-rmse:0.771348\n",
      "[2]\ttrain-rmse:0.712524\tval-rmse:0.712259\n",
      "[3]\ttrain-rmse:0.660762\tval-rmse:0.660541\n",
      "[4]\ttrain-rmse:0.615653\tval-rmse:0.615479\n",
      "[5]\ttrain-rmse:0.576534\tval-rmse:0.576409\n",
      "[6]\ttrain-rmse:0.542782\tval-rmse:0.542708\n",
      "[7]\ttrain-rmse:0.513816\tval-rmse:0.513795\n",
      "[8]\ttrain-rmse:0.489094\tval-rmse:0.489128\n",
      "[9]\ttrain-rmse:0.468108\tval-rmse:0.468196\n",
      "[10]\ttrain-rmse:0.450391\tval-rmse:0.450533\n",
      "[11]\ttrain-rmse:0.435508\tval-rmse:0.435701\n",
      "[12]\ttrain-rmse:0.423067\tval-rmse:0.423308\n",
      "[13]\ttrain-rmse:0.4127\tval-rmse:0.412986\n",
      "[14]\ttrain-rmse:0.404114\tval-rmse:0.404443\n",
      "[15]\ttrain-rmse:0.397011\tval-rmse:0.397381\n",
      "[16]\ttrain-rmse:0.391165\tval-rmse:0.391573\n",
      "[17]\ttrain-rmse:0.386358\tval-rmse:0.386799\n",
      "[18]\ttrain-rmse:0.38242\tval-rmse:0.382893\n",
      "[19]\ttrain-rmse:0.379194\tval-rmse:0.379695\n",
      "[20]\ttrain-rmse:0.376561\tval-rmse:0.377089\n",
      "[21]\ttrain-rmse:0.374414\tval-rmse:0.374964\n",
      "[22]\ttrain-rmse:0.372659\tval-rmse:0.37323\n",
      "[23]\ttrain-rmse:0.371218\tval-rmse:0.371804\n",
      "[24]\ttrain-rmse:0.370054\tval-rmse:0.370656\n"
     ]
    }
   ],
   "source": [
    "model = xgb.train(xgb_pars, dtrain, num_round, evals=watchlist, verbose_eval=1)"
   ]
  },
  {
   "cell_type": "markdown",
   "metadata": {},
   "source": [
    "## Validation"
   ]
  },
  {
   "cell_type": "code",
   "execution_count": 25,
   "metadata": {
    "collapsed": true
   },
   "outputs": [],
   "source": [
    "from tqdm import tqdm"
   ]
  },
  {
   "cell_type": "code",
   "execution_count": 26,
   "metadata": {
    "collapsed": false
   },
   "outputs": [],
   "source": [
    "val_users = pd.read_csv('tmp/val_users2.txt').user_id\n",
    "vu = set(val_users)"
   ]
  },
  {
   "cell_type": "code",
   "execution_count": 27,
   "metadata": {
    "collapsed": true
   },
   "outputs": [],
   "source": [
    "df_scores = feather.read_dataframe('df/df_int_scores.feather')\n",
    "uval = df_scores.user_id.isin(vu)\n",
    "ival = df_scores.item_id.isin(vi)\n",
    "df_scores = df_scores[uval & ival].append(df_scores.iloc[-1]).reset_index(drop=1)"
   ]
  },
  {
   "cell_type": "code",
   "execution_count": 28,
   "metadata": {
    "collapsed": false
   },
   "outputs": [],
   "source": [
    "scores_idx = dict(zip(zip(df_scores.user_id, df_scores.item_id), df_scores.index))\n",
    "del df_scores['user_id'], df_scores['item_id']"
   ]
  },
  {
   "cell_type": "code",
   "execution_count": 29,
   "metadata": {
    "collapsed": false
   },
   "outputs": [],
   "source": [
    "batch_uids = [uid_idx[i] for i in val_users]\n",
    "df_candidates = df_users.iloc[batch_uids].reset_index(drop=1)\n",
    "user_roles = cv.transform(df_candidates.jobroles)"
   ]
  },
  {
   "cell_type": "code",
   "execution_count": 34,
   "metadata": {
    "collapsed": false
   },
   "outputs": [
    {
     "name": "stderr",
     "output_type": "stream",
     "text": [
      "100%|██████████| 10000/10000 [05:14<00:00, 31.76it/s]\n"
     ]
    }
   ],
   "source": [
    "delete_score = []\n",
    "\n",
    "for item_id in tqdm(val_items[:10000]):\n",
    "    batch_res = df_candidates.copy()\n",
    "\n",
    "    item = df_items.iloc[iid_idx[item_id]]\n",
    "    item_title = cv.transform([item.title])\n",
    "    \n",
    "    title_match = user_roles.dot(item_title.T).toarray().reshape(-1)\n",
    "\n",
    "    batch_res['title_match'] = title_match\n",
    "    batch_res = batch_res[batch_res.title_match > 0].reset_index(drop=1)\n",
    "    \n",
    "    if len(batch_res) == 0:\n",
    "        continue\n",
    "\n",
    "    eq_features = (item[common_columns] == batch_res[common_columns]).astype('uint8')\n",
    "    eq_features['title_match'] = batch_res.title_match\n",
    "\n",
    "    X = eq_features[features].values\n",
    "    dtest = xgb.DMatrix(X, feature_names=features)\n",
    "\n",
    "    batch_res['pred'] = model.predict(dtest)\n",
    "    batch_res.sort_values(by='pred', ascending=0, inplace=1)\n",
    "\n",
    "    scores_join_idx = [scores_idx.get((u, item_id), -1) for u in batch_res.user_id]\n",
    "    batch_scores = df_scores.iloc[scores_join_idx].reset_index(drop=1)\n",
    "\n",
    "    is_delete = batch_scores.deleted + batch_scores.delete_only\n",
    "    \n",
    "    delete_score.extend(zip(batch_res['pred'], is_delete))"
   ]
  },
  {
   "cell_type": "code",
   "execution_count": 37,
   "metadata": {
    "collapsed": false
   },
   "outputs": [],
   "source": [
    "df_deletes = pd.DataFrame(delete_score, columns=['score', 'is_delete'])"
   ]
  },
  {
   "cell_type": "code",
   "execution_count": 38,
   "metadata": {
    "collapsed": true
   },
   "outputs": [],
   "source": [
    "from sklearn.metrics import roc_auc_score"
   ]
  },
  {
   "cell_type": "code",
   "execution_count": 44,
   "metadata": {
    "collapsed": false
   },
   "outputs": [],
   "source": [
    "df_deletes.is_delete = (df_deletes.is_delete >= 1).astype('uint8')"
   ]
  },
  {
   "cell_type": "code",
   "execution_count": 45,
   "metadata": {
    "collapsed": false
   },
   "outputs": [
    {
     "data": {
      "text/plain": [
       "0.44673225107789977"
      ]
     },
     "execution_count": 45,
     "metadata": {},
     "output_type": "execute_result"
    }
   ],
   "source": [
    "roc_auc_score(df_deletes.is_delete.values, df_deletes.score.values)"
   ]
  },
  {
   "cell_type": "code",
   "execution_count": 51,
   "metadata": {
    "collapsed": false
   },
   "outputs": [
    {
     "name": "stderr",
     "output_type": "stream",
     "text": [
      "100%|██████████| 10000/10000 [05:40<00:00, 29.41it/s]\n"
     ]
    }
   ],
   "source": [
    "total_sum = 0\n",
    "scores = []\n",
    "\n",
    "for item_id in tqdm(val_items[:10000]):\n",
    "    batch_res = df_candidates.copy()\n",
    "\n",
    "    item = df_items.iloc[iid_idx[item_id]]\n",
    "    item_title = cv.transform([item.title])\n",
    "    \n",
    "    title_match = user_roles.dot(item_title.T).toarray().reshape(-1)\n",
    "\n",
    "    batch_res['title_match'] = title_match\n",
    "    batch_res = batch_res[batch_res.title_match > 0].reset_index(drop=1)\n",
    "    \n",
    "    if len(batch_res) == 0:\n",
    "        continue\n",
    "\n",
    "    eq_features = (item[common_columns] == batch_res[common_columns]).astype('uint8')\n",
    "    eq_features['title_match'] = batch_res.title_match\n",
    "\n",
    "    X = eq_features[features].values\n",
    "    dtest = xgb.DMatrix(X, feature_names=features)\n",
    "\n",
    "    batch_res['pred'] = model.predict(dtest)\n",
    "        \n",
    "    batch_res = batch_res[batch_res['pred'] > 0.8].reset_index(drop=1)\n",
    "    if len(batch_res) == 0:\n",
    "        continue\n",
    "\n",
    "    batch_res.sort_values(by='pred', ascending=0, inplace=1)\n",
    "    batch_res = batch_res.iloc[:100].reset_index(drop=1)\n",
    "\n",
    "    scores_join_idx = [scores_idx.get((u, item_id), -1) for u in batch_res.user_id]\n",
    "    batch_scores = df_scores.iloc[scores_join_idx].reset_index(drop=1)\n",
    "    batch_res['score'] = batch_scores.premium_boost * batch_scores.score\n",
    "\n",
    "    item_score = 0\n",
    "\n",
    "    if batch_scores[['clicked', 'bookmarked', 'replied']].values.sum() > 0:\n",
    "        if item.is_paid == 1:\n",
    "            item_score = 50\n",
    "        else:\n",
    "            item_score = 25\n",
    "\n",
    "    s = batch_res.score.sum() + item_score\n",
    "    scores.append(s)\n",
    "\n",
    "    total_sum = total_sum + s"
   ]
  },
  {
   "cell_type": "code",
   "execution_count": 1,
   "metadata": {
    "collapsed": false
   },
   "outputs": [
    {
     "ename": "NameError",
     "evalue": "name 'total_sum' is not defined",
     "output_type": "error",
     "traceback": [
      "\u001b[0;31m---------------------------------------------------------------------------\u001b[0m",
      "\u001b[0;31mNameError\u001b[0m                                 Traceback (most recent call last)",
      "\u001b[0;32m<ipython-input-1-66ddcbb7717f>\u001b[0m in \u001b[0;36m<module>\u001b[0;34m()\u001b[0m\n\u001b[0;32m----> 1\u001b[0;31m \u001b[0mtotal_sum\u001b[0m \u001b[0;34m/\u001b[0m \u001b[0;36m10000\u001b[0m\u001b[0;34m\u001b[0m\u001b[0m\n\u001b[0m",
      "\u001b[0;31mNameError\u001b[0m: name 'total_sum' is not defined"
     ]
    }
   ],
   "source": [
    "total_sum / 10000"
   ]
  },
  {
   "cell_type": "markdown",
   "metadata": {},
   "source": [
    "## Submission"
   ]
  },
  {
   "cell_type": "code",
   "execution_count": 180,
   "metadata": {
    "collapsed": true
   },
   "outputs": [],
   "source": [
    "val_items = pd.read_csv('data/targetItems.csv', header=None)[0]\n",
    "val_users = pd.read_csv('data/targetUsers.csv').user_id"
   ]
  },
  {
   "cell_type": "code",
   "execution_count": 182,
   "metadata": {
    "collapsed": true
   },
   "outputs": [],
   "source": [
    "batch_uids = [uid_idx[i] for i in val_users]\n",
    "df_candidates = df_users.iloc[batch_uids].reset_index(drop=1)\n",
    "user_roles = cv.transform(df_candidates.jobroles)"
   ]
  },
  {
   "cell_type": "code",
   "execution_count": 183,
   "metadata": {
    "collapsed": false
   },
   "outputs": [
    {
     "name": "stderr",
     "output_type": "stream",
     "text": [
      "100%|██████████| 46559/46559 [26:24<00:00, 29.39it/s]\n"
     ]
    }
   ],
   "source": [
    "res = []\n",
    "\n",
    "for item_id in tqdm(val_items):\n",
    "    batch_res = df_candidates.copy()\n",
    "\n",
    "    item = df_items.iloc[iid_idx[item_id]]\n",
    "    item_title = cv.transform([item.title])\n",
    "\n",
    "    title_match = user_roles.dot(item_title.T).toarray().reshape(-1)\n",
    "\n",
    "    batch_res['title_match'] = title_match\n",
    "    batch_res = batch_res[batch_res.title_match > 0].reset_index(drop=1)\n",
    "\n",
    "    if len(batch_res) == 0:\n",
    "        continue\n",
    "\n",
    "    eq_features = (item[common_columns] == batch_res[common_columns]).astype('uint8')\n",
    "    eq_features['title_match'] = batch_res.title_match\n",
    "\n",
    "    X = eq_features[features].values\n",
    "    dtest = xgb.DMatrix(X, feature_names=features)\n",
    "\n",
    "    batch_res['pred'] = model.predict(dtest)\n",
    "    batch_res = batch_res[batch_res['pred'] > 0.8].reset_index(drop=1)\n",
    "    if len(batch_res) == 0:\n",
    "        continue\n",
    "\n",
    "    batch_res.sort_values(by='pred', ascending=0, inplace=1)\n",
    "    batch_res = batch_res.iloc[:100].reset_index(drop=1)\n",
    "\n",
    "    user_ids = list(batch_res.user_id)\n",
    "\n",
    "    res.append((item_id, user_ids))"
   ]
  },
  {
   "cell_type": "code",
   "execution_count": 185,
   "metadata": {
    "collapsed": false
   },
   "outputs": [
    {
     "name": "stderr",
     "output_type": "stream",
     "text": [
      "100%|██████████| 44904/44904 [00:08<00:00, 5201.42it/s]\n"
     ]
    }
   ],
   "source": [
    "output_file = 'benchmark.txt'\n",
    "\n",
    "with open(output_file, 'w') as fp:\n",
    "    #fp.write('item_id\\tuser_ids\\n')\n",
    "    for item, users in tqdm(res):\n",
    "        top_users_joined = ','.join(str(u) for u in users)\n",
    "        fp.write('%d\\t%s\\n' % (item, top_users_joined))\n",
    "        fp.flush()"
   ]
  },
  {
   "cell_type": "code",
   "execution_count": null,
   "metadata": {
    "collapsed": true
   },
   "outputs": [],
   "source": []
  }
 ],
 "metadata": {
  "anaconda-cloud": {},
  "kernelspec": {
   "display_name": "Python [conda root]",
   "language": "python",
   "name": "conda-root-py"
  },
  "language_info": {
   "codemirror_mode": {
    "name": "ipython",
    "version": 3
   },
   "file_extension": ".py",
   "mimetype": "text/x-python",
   "name": "python",
   "nbconvert_exporter": "python",
   "pygments_lexer": "ipython3",
   "version": "3.5.2"
  }
 },
 "nbformat": 4,
 "nbformat_minor": 1
}
