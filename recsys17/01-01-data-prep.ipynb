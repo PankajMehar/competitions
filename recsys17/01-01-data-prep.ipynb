{
 "cells": [
  {
   "cell_type": "code",
   "execution_count": 1,
   "metadata": {
    "collapsed": true
   },
   "outputs": [],
   "source": [
    "import feather\n",
    "import pandas as pd\n",
    "import numpy as np"
   ]
  },
  {
   "cell_type": "code",
   "execution_count": 2,
   "metadata": {
    "collapsed": true
   },
   "outputs": [],
   "source": [
    "df_items = pd.read_csv('data/items.csv', sep='\\t', na_values=['null'])\n",
    "df_items.columns = [c.split('.')[1] for c in df_items.columns]"
   ]
  },
  {
   "cell_type": "code",
   "execution_count": 3,
   "metadata": {
    "collapsed": true
   },
   "outputs": [],
   "source": [
    "df_items.title.fillna('', inplace=1)\n",
    "df_items.tags.fillna('', inplace=1)\n",
    "\n",
    "df_items.id = df_items.id.astype('uint32')\n",
    "\n",
    "df_items.career_level = df_items.career_level.astype('uint8')\n",
    "df_items.discipline_id = df_items.discipline_id.astype('uint8')\n",
    "df_items.industry_id = df_items.industry_id.astype('uint8')\n",
    "df_items.is_payed = df_items.is_payed.astype('uint8')\n",
    "df_items.employment= df_items.employment.astype('uint8')\n",
    "\n",
    "df_items.latitude = df_items.latitude.astype('float32')\n",
    "df_items.longitude = df_items.longitude.astype('float32')"
   ]
  },
  {
   "cell_type": "code",
   "execution_count": 4,
   "metadata": {
    "collapsed": true
   },
   "outputs": [],
   "source": [
    "df_items.rename(columns={'id': 'item_id', 'is_payed': 'is_paid'}, inplace=1)"
   ]
  },
  {
   "cell_type": "code",
   "execution_count": 5,
   "metadata": {
    "collapsed": false
   },
   "outputs": [
    {
     "name": "stderr",
     "output_type": "stream",
     "text": [
      "/home/agrigorev/anaconda3/lib/python3.5/site-packages/ipykernel/__main__.py:2: SettingWithCopyWarning: modifications to a method of a datetimelike object are not supported and are discarded. Change values on the original.\n",
      "  from ipykernel import kernelapp as app\n",
      "/home/agrigorev/anaconda3/lib/python3.5/site-packages/pandas/core/generic.py:4485: SettingWithCopyWarning: modifications to a method of a datetimelike object are not supported and are discarded. Change values on the original.\n",
      "  self._update_inplace(new_data)\n"
     ]
    }
   ],
   "source": [
    "ca = pd.to_datetime(df_items.created_at, unit='s').dt.ceil(freq='d')\n",
    "ca[df_items.created_at.isnull()] = np.nan\n",
    "df_items.created_at = ca"
   ]
  },
  {
   "cell_type": "code",
   "execution_count": 9,
   "metadata": {
    "collapsed": true
   },
   "outputs": [],
   "source": [
    "feather.write_dataframe(df_items, 'df/df_items.feather')"
   ]
  },
  {
   "cell_type": "code",
   "execution_count": 10,
   "metadata": {
    "collapsed": true
   },
   "outputs": [],
   "source": [
    "df_users = pd.read_csv('data/users.csv', sep='\\t', na_values=['null'])\n",
    "df_users.columns = [c.split('.')[1] for c in df_users.columns]"
   ]
  },
  {
   "cell_type": "code",
   "execution_count": 11,
   "metadata": {
    "collapsed": true
   },
   "outputs": [],
   "source": [
    "df_users.edu_fieldofstudies.fillna('', inplace=1)\n",
    "\n",
    "df_users.id = df_users.id.astype('uint32')\n",
    "df_users.career_level = df_users.career_level.astype('uint8')\n",
    "df_users.discipline_id = df_users.discipline_id.astype('uint8')\n",
    "df_users.industry_id = df_users.industry_id.astype('uint8')\n",
    "df_users.region = df_users.region.astype('uint8')\n",
    "df_users.experience_n_entries_class = df_users.experience_n_entries_class.astype('uint8')\n",
    "df_users.experience_years_experience = df_users.experience_years_experience.astype('uint8')\n",
    "df_users.experience_years_in_current = df_users.experience_years_in_current.astype('uint8')\n",
    "df_users.edu_degree = df_users.edu_degree.astype('uint8')\n",
    "df_users.wtcj = df_users.wtcj.astype('uint8')\n",
    "df_users.premium = df_users.premium.astype('uint8')"
   ]
  },
  {
   "cell_type": "code",
   "execution_count": 12,
   "metadata": {
    "collapsed": true
   },
   "outputs": [],
   "source": [
    "df_users.rename(columns={'id': 'user_id'}, inplace=1)\n",
    "df_users.loc[df_users.jobroles == '0', 'jobroles'] = ''"
   ]
  },
  {
   "cell_type": "code",
   "execution_count": 18,
   "metadata": {
    "collapsed": true
   },
   "outputs": [],
   "source": [
    "feather.write_dataframe(df_users, 'df/df_users.feather')"
   ]
  },
  {
   "cell_type": "code",
   "execution_count": 19,
   "metadata": {
    "collapsed": true
   },
   "outputs": [],
   "source": [
    "pref = 'recsyschallenge_v2017_interactions_final_anonym_training_export.'\n",
    "\n",
    "dtypes = {}\n",
    "dtypes[pref + 'user_id'] = 'uint32'\n",
    "dtypes[pref + 'item_id'] = 'uint32'\n",
    "dtypes[pref + 'interaction_type'] = 'uint8'\n",
    "dtypes[pref + 'created_at'] = 'uint32'\n",
    "\n",
    "df_interactions = pd.read_csv('data/interactions.csv', sep='\\t', dtype=dtypes)\n",
    "df_interactions.columns = [c.split('.')[1] for c in df_interactions.columns]"
   ]
  },
  {
   "cell_type": "code",
   "execution_count": 20,
   "metadata": {
    "collapsed": true
   },
   "outputs": [],
   "source": [
    "df_interactions['ts'] = pd.to_datetime(df_interactions.created_at, unit='s')\n",
    "del df_interactions['created_at']"
   ]
  },
  {
   "cell_type": "code",
   "execution_count": 21,
   "metadata": {
    "collapsed": true
   },
   "outputs": [],
   "source": [
    "n = len(df_interactions) // 2"
   ]
  },
  {
   "cell_type": "code",
   "execution_count": 22,
   "metadata": {
    "collapsed": true
   },
   "outputs": [],
   "source": [
    "feather.write_dataframe(df_interactions.iloc[:n], 'df/df_interactions_1.feather')\n",
    "feather.write_dataframe(df_interactions.iloc[n:], 'df/df_interactions_2.feather')"
   ]
  },
  {
   "cell_type": "code",
   "execution_count": null,
   "metadata": {
    "collapsed": true
   },
   "outputs": [],
   "source": []
  }
 ],
 "metadata": {
  "kernelspec": {
   "display_name": "Python [conda root]",
   "language": "python",
   "name": "conda-root-py"
  },
  "language_info": {
   "codemirror_mode": {
    "name": "ipython",
    "version": 3
   },
   "file_extension": ".py",
   "mimetype": "text/x-python",
   "name": "python",
   "nbconvert_exporter": "python",
   "pygments_lexer": "ipython3",
   "version": "3.5.2"
  }
 },
 "nbformat": 4,
 "nbformat_minor": 1
}
