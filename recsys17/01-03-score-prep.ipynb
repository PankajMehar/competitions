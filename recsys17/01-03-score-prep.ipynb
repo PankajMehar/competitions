{
 "cells": [
  {
   "cell_type": "code",
   "execution_count": 11,
   "metadata": {
    "collapsed": true
   },
   "outputs": [],
   "source": [
    "import feather\n",
    "import pandas as pd\n",
    "import numpy as np\n",
    "\n",
    "from tqdm import tqdm\n",
    "from functools import partial"
   ]
  },
  {
   "cell_type": "code",
   "execution_count": 2,
   "metadata": {
    "collapsed": true
   },
   "outputs": [],
   "source": [
    "df_interactions_1 = feather.read_dataframe('df/df_interactions_1.feather')\n",
    "df_interactions_2 = feather.read_dataframe('df/df_interactions_2.feather')\n",
    "\n",
    "df_interactions_1 = df_interactions_1[df_interactions_1.interaction_type != 0].reset_index(drop=1)\n",
    "df_interactions_2 = df_interactions_2[df_interactions_2.interaction_type != 0].reset_index(drop=1)\n",
    "\n",
    "df_int = pd.concat([df_interactions_1, df_interactions_2]).reset_index(drop=1)\n",
    "del df_interactions_1, df_interactions_2, df_int['ts']"
   ]
  },
  {
   "cell_type": "code",
   "execution_count": 6,
   "metadata": {
    "collapsed": true
   },
   "outputs": [],
   "source": [
    "df_int.drop_duplicates(inplace=1)"
   ]
  },
  {
   "cell_type": "code",
   "execution_count": 8,
   "metadata": {
    "collapsed": true
   },
   "outputs": [],
   "source": [
    "def to_set(g):\n",
    "    return set(g)\n",
    "\n",
    "int_dict = df_int.groupby(by=['user_id', 'item_id']).agg({'interaction_type': to_set})\n",
    "int_dict.reset_index(inplace=1)"
   ]
  },
  {
   "cell_type": "code",
   "execution_count": 13,
   "metadata": {
    "collapsed": false
   },
   "outputs": [],
   "source": [
    "df_users = feather.read_dataframe('df/df_users.feather')\n",
    "iid_idx = dict(zip(df_items.item_id, df_items.index))"
   ]
  },
  {
   "cell_type": "code",
   "execution_count": 15,
   "metadata": {
    "collapsed": false
   },
   "outputs": [
    {
     "data": {
      "text/plain": [
       "True"
      ]
     },
     "execution_count": 15,
     "metadata": {},
     "output_type": "execute_result"
    }
   ],
   "source": [
    "def is_in(s, t):\n",
    "    return t in s\n",
    "\n",
    "partial(is_in, t=1)({1, 2})"
   ]
  },
  {
   "cell_type": "code",
   "execution_count": 10,
   "metadata": {
    "collapsed": true
   },
   "outputs": [],
   "source": [
    "codes = [\n",
    "    ('clicked', 1),\n",
    "    ('bookmarked', 2),\n",
    "    ('replied', 3),\n",
    "    ('deleted', 4),\n",
    "    ('recruiter_interested', 5),\n",
    "]"
   ]
  },
  {
   "cell_type": "code",
   "execution_count": 16,
   "metadata": {
    "collapsed": false
   },
   "outputs": [
    {
     "name": "stderr",
     "output_type": "stream",
     "text": [
      "100%|██████████| 5/5 [00:30<00:00,  6.67s/it]\n"
     ]
    }
   ],
   "source": [
    "for col, t in tqdm(codes):\n",
    "    int_dict[col] = int_dict.interaction_type.apply(partial(is_in, t=t))\n",
    "\n",
    "int_dict['delete_only'] = (int_dict.interaction_type == {4})"
   ]
  },
  {
   "cell_type": "code",
   "execution_count": 18,
   "metadata": {
    "collapsed": true
   },
   "outputs": [],
   "source": [
    "del int_dict['interaction_type']"
   ]
  },
  {
   "cell_type": "code",
   "execution_count": 20,
   "metadata": {
    "collapsed": true
   },
   "outputs": [],
   "source": [
    "bookmark_or_replied = (int_dict.bookmarked == 1) | (int_dict.replied == 1) "
   ]
  },
  {
   "cell_type": "code",
   "execution_count": 21,
   "metadata": {
    "collapsed": true
   },
   "outputs": [],
   "source": [
    "uidx = int_dict.user_id.apply(uid_idx.get)"
   ]
  },
  {
   "cell_type": "code",
   "execution_count": 22,
   "metadata": {
    "collapsed": true
   },
   "outputs": [],
   "source": [
    "is_premium = df_users.iloc[uidx].premium.reset_index(drop=1)\n",
    "premium_boost = is_premium + 1\n",
    "int_dict['premium_boost'] = premium_boost"
   ]
  },
  {
   "cell_type": "code",
   "execution_count": 23,
   "metadata": {
    "collapsed": true
   },
   "outputs": [],
   "source": [
    "int_dict['score'] = 1 * int_dict.clicked + \\\n",
    "                    5 * bookmark_or_replied + \\\n",
    "                   20 * int_dict.recruiter_interested + \\\n",
    "                  -10 * int_dict.delete_only"
   ]
  },
  {
   "cell_type": "code",
   "execution_count": 25,
   "metadata": {
    "collapsed": false
   },
   "outputs": [
    {
     "data": {
      "text/plain": [
       "user_id                 uint32\n",
       "item_id                 uint32\n",
       "clicked                  uint8\n",
       "bookmarked               uint8\n",
       "replied                  uint8\n",
       "deleted                  uint8\n",
       "recruiter_interested     uint8\n",
       "delete_only              uint8\n",
       "premium_boost            uint8\n",
       "score                     int8\n",
       "dtype: object"
      ]
     },
     "execution_count": 25,
     "metadata": {},
     "output_type": "execute_result"
    }
   ],
   "source": [
    "no_interaction = {\n",
    "    'item_id': 0,\n",
    "    'user_id': 0,\n",
    "    'bookmarked': 0,\n",
    "    'clicked': 0,\n",
    "    'delete_only': 0,\n",
    "    'deleted': 0,\n",
    "    'recruiter_interested': 0,\n",
    "    'replied': 0,\n",
    "    'premium_boost': 0,\n",
    "    'score': 0,\n",
    "}\n",
    "\n",
    "df_interactions = int_dict.append(no_interaction, ignore_index=1)\n",
    "\n",
    "for c in df_interactions.columns:\n",
    "    if c.endswith('_id'):\n",
    "        df_interactions[c] = df_interactions[c].astype('uint32')\n",
    "        continue\n",
    "    if c == 'score':\n",
    "        df_interactions[c] = df_interactions[c].astype('int8')\n",
    "        continue\n",
    "    df_interactions[c] = df_interactions[c].astype('uint8')\n",
    "\n",
    "df_interactions.dtypes"
   ]
  },
  {
   "cell_type": "code",
   "execution_count": 26,
   "metadata": {
    "collapsed": true
   },
   "outputs": [],
   "source": [
    "feather.write_dataframe(df_interactions, 'df/df_int_scores.feather')"
   ]
  },
  {
   "cell_type": "code",
   "execution_count": 28,
   "metadata": {
    "collapsed": false
   },
   "outputs": [
    {
     "data": {
      "text/plain": [
       " 1     4764541\n",
       "-10     856849\n",
       " 6      327172\n",
       " 5       31749\n",
       " 20       2356\n",
       " 21        130\n",
       " 26         14\n",
       " 25          2\n",
       " 0           1\n",
       "Name: score, dtype: int64"
      ]
     },
     "execution_count": 28,
     "metadata": {},
     "output_type": "execute_result"
    }
   ],
   "source": [
    "df_interactions.score.value_counts()"
   ]
  },
  {
   "cell_type": "code",
   "execution_count": null,
   "metadata": {
    "collapsed": true
   },
   "outputs": [],
   "source": []
  }
 ],
 "metadata": {
  "anaconda-cloud": {},
  "kernelspec": {
   "display_name": "Python [conda root]",
   "language": "python",
   "name": "conda-root-py"
  },
  "language_info": {
   "codemirror_mode": {
    "name": "ipython",
    "version": 3
   },
   "file_extension": ".py",
   "mimetype": "text/x-python",
   "name": "python",
   "nbconvert_exporter": "python",
   "pygments_lexer": "ipython3",
   "version": "3.5.2"
  }
 },
 "nbformat": 4,
 "nbformat_minor": 1
}
