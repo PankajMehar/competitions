{
 "cells": [
  {
   "cell_type": "code",
   "execution_count": 1,
   "metadata": {
    "collapsed": true
   },
   "outputs": [],
   "source": [
    "from collections import Counter\n",
    "import pickle\n",
    "from functools import partial\n",
    "\n",
    "import pandas as pd\n",
    "import numpy as np\n",
    "import scipy\n",
    "\n",
    "from statsmodels.formula.api import ols\n",
    "\n",
    "from tqdm import tqdm\n",
    "\n",
    "import matplotlib.pyplot as plt\n",
    "import seaborn as sns\n",
    "from IPython.display import display, HTML, clear_output\n",
    "\n",
    "%matplotlib inline"
   ]
  },
  {
   "cell_type": "code",
   "execution_count": 2,
   "metadata": {
    "collapsed": true
   },
   "outputs": [],
   "source": [
    "from sklearn.cross_validation import StratifiedShuffleSplit, ShuffleSplit\n",
    "from sklearn.preprocessing import StandardScaler\n",
    "from sklearn.decomposition import TruncatedSVD"
   ]
  },
  {
   "cell_type": "code",
   "execution_count": 3,
   "metadata": {
    "collapsed": false
   },
   "outputs": [
    {
     "name": "stderr",
     "output_type": "stream",
     "text": [
      "Using Theano backend.\n"
     ]
    },
    {
     "name": "stdout",
     "output_type": "stream",
     "text": [
      "Couldn't import dot_parser, loading of dot files will not be possible.\n"
     ]
    }
   ],
   "source": [
    "from keras.models import Sequential\n",
    "from keras.layers.core import Dense, Dropout, Activation\n",
    "from keras.optimizers import SGD, Adam\n",
    "from keras.regularizers import WeightRegularizer, l1, l2\n",
    "from keras.callbacks import EarlyStopping\n",
    "from keras.layers.normalization import BatchNormalization\n",
    "from keras.layers.advanced_activations import PReLU, ELU, LeakyReLU\n",
    "from keras.callbacks import EarlyStopping, Callback"
   ]
  },
  {
   "cell_type": "code",
   "execution_count": 4,
   "metadata": {
    "collapsed": false
   },
   "outputs": [],
   "source": [
    "class WatchlistCallback(Callback):\n",
    "    def __init__(self, watchlist, eval_metric, epoch_no=10):\n",
    "        super(Callback, self).__init__()\n",
    "\n",
    "        self.epoch_no = epoch_no\n",
    "        self.X, self.y = watchlist\n",
    "        self.eval_metric = eval_metric\n",
    "        self.scores = []\n",
    "        self.epochs = []\n",
    "\n",
    "    def on_epoch_end(self, epoch, logs={}):\n",
    "        if epoch % self.epoch_no == 0:\n",
    "            y_pred = self.model.predict(self.X, verbose=0)\n",
    "            score = self.eval_metric(self.y, y_pred)\n",
    "            self.scores.append(score)\n",
    "            self.epochs.append(epoch)\n",
    "\n",
    "            print \"score: %0.6f (epoch no %d)\" % (score, epoch)  \n",
    "\n",
    "class StatusCallback(Callback):    \n",
    "    def __init__(self, epoch_total):\n",
    "        super(Callback, self).__init__()\n",
    "        self.progress = tqdm(total=epoch_total)\n",
    "        \n",
    "    def on_epoch_end(self, epoch, logs={}):\n",
    "        self.progress.update(1)\n",
    "\n",
    "    def __enter__(self): \n",
    "        return self\n",
    "\n",
    "    def __exit__(self, type, value, traceback):\n",
    "        self.progress.close()"
   ]
  },
  {
   "cell_type": "code",
   "execution_count": 5,
   "metadata": {
    "collapsed": false
   },
   "outputs": [],
   "source": [
    "def read_info(file_name):\n",
    "    result = []\n",
    "    \n",
    "    for line in file(file_name):\n",
    "        key, value = line.strip().split('=')\n",
    "        key = key.strip()\n",
    "        value = value.strip().strip(\"'\")\n",
    "        if value.isdigit():\n",
    "            value = int(value)\n",
    "        result.append((key, value))\n",
    "    \n",
    "    return dict(result)"
   ]
  },
  {
   "cell_type": "code",
   "execution_count": 6,
   "metadata": {
    "collapsed": false
   },
   "outputs": [
    {
     "data": {
      "text/plain": [
       "{'feat_num': 200000,\n",
       " 'feat_type': 'Numerical',\n",
       " 'has_categorical': 0,\n",
       " 'has_missing': 0,\n",
       " 'is_sparse': 1,\n",
       " 'label_num': 0,\n",
       " 'metric': 'a_metric',\n",
       " 'name': 'flora',\n",
       " 'target_num': 1,\n",
       " 'target_type': 'Numerical',\n",
       " 'task': 'regression',\n",
       " 'test_num': 2000,\n",
       " 'time_budget': 1200,\n",
       " 'train_num': 15000,\n",
       " 'usage': 'AutoML challenge 2014',\n",
       " 'valid_num': 2000}"
      ]
     },
     "execution_count": 6,
     "metadata": {},
     "output_type": "execute_result"
    }
   ],
   "source": [
    "public = read_info('data/set2_flora/flora_public.info')\n",
    "public"
   ]
  },
  {
   "cell_type": "code",
   "execution_count": 7,
   "metadata": {
    "collapsed": true
   },
   "outputs": [],
   "source": [
    "dim = public['feat_num']\n",
    "\n",
    "def read_sparse_features(fine_name):\n",
    "    result = list()\n",
    "    for line in file(fine_name):\n",
    "        row = []\n",
    "        for el in line.strip().split(' '): \n",
    "            pos, value = el.split(':')\n",
    "            pos = int(pos) - 1\n",
    "            row.append((pos, float(value)))\n",
    "        result.append(row)\n",
    "\n",
    "    rnum = len(result)\n",
    "    X = scipy.sparse.dok_matrix((rnum, dim), dtype=np.float)\n",
    "    for idx, row in enumerate(result):\n",
    "        for pos, val in row:\n",
    "            X[idx, pos] = val\n",
    "\n",
    "    return scipy.sparse.csr_matrix(X)"
   ]
  },
  {
   "cell_type": "code",
   "execution_count": 8,
   "metadata": {
    "collapsed": true
   },
   "outputs": [],
   "source": [
    "from libscores import a_metric"
   ]
  },
  {
   "cell_type": "code",
   "execution_count": 101,
   "metadata": {
    "collapsed": true
   },
   "outputs": [],
   "source": [
    "X, y, X_valid, X_test = pickle.load(open('data/set2_flora/data.pickle', 'rb'))"
   ]
  },
  {
   "cell_type": "markdown",
   "metadata": {
    "collapsed": false
   },
   "source": [
    "X = read_sparse_features('data/set2_flora/flora_train.data')\n",
    "y = np.fromfile('data/set2_flora/flora_train.solution', sep='\\n', dtype=np.float)\n",
    "\n",
    "X_valid = read_sparse_features('data/set2_flora/flora_valid.data')\n",
    "X_test  = read_sparse_features('data/set2_flora/flora_test.data')\n",
    "\n",
    "print X.shape, y.shape\n",
    "print X_valid.shape, X_test.shape"
   ]
  },
  {
   "cell_type": "markdown",
   "metadata": {},
   "source": [
    "pickle.dump([X, y, X_valid, X_test], open('data/set2_flora/data.pickle', 'wb'))"
   ]
  },
  {
   "cell_type": "markdown",
   "metadata": {},
   "source": [
    "X = norm.fit_transform(X)\n",
    "X_valid = norm.transform(X_valid)\n",
    "X_test = norm.transform(X_test)"
   ]
  },
  {
   "cell_type": "code",
   "execution_count": 102,
   "metadata": {
    "collapsed": false
   },
   "outputs": [
    {
     "data": {
      "text/plain": [
       "(15000, 200000)"
      ]
     },
     "execution_count": 102,
     "metadata": {},
     "output_type": "execute_result"
    }
   ],
   "source": [
    "X.shape"
   ]
  },
  {
   "cell_type": "code",
   "execution_count": 103,
   "metadata": {
    "collapsed": true
   },
   "outputs": [],
   "source": [
    "rows, cols = X.nonzero()\n",
    "per_col_count = np.bincount(cols)\n",
    "\n",
    "lim = 20\n",
    "\n",
    "X = X[:, per_col_count >= lim]\n",
    "X_valid = X_valid[:, per_col_count >= lim]\n",
    "X_test = X_test[:, per_col_count >= lim]"
   ]
  },
  {
   "cell_type": "code",
   "execution_count": 104,
   "metadata": {
    "collapsed": false
   },
   "outputs": [
    {
     "data": {
      "text/plain": [
       "(15000, 26772)"
      ]
     },
     "execution_count": 104,
     "metadata": {},
     "output_type": "execute_result"
    }
   ],
   "source": [
    "X.shape"
   ]
  },
  {
   "cell_type": "code",
   "execution_count": null,
   "metadata": {
    "collapsed": true
   },
   "outputs": [],
   "source": [
    "svd = TruncatedSVD(n_components=1500, random_state=123)\n",
    "X = svd.fit_transform(X)\n",
    "X_valid = svd.transform(X_valid)\n",
    "X_test = svd.transform(X_test)"
   ]
  },
  {
   "cell_type": "code",
   "execution_count": 105,
   "metadata": {
    "collapsed": true
   },
   "outputs": [],
   "source": [
    "scaler = StandardScaler(with_mean=False, copy=False)\n",
    "X = scaler.fit_transform(X)\n",
    "X_valid = scaler.transform(X_valid)\n",
    "X_test = scaler.transform(X_test)"
   ]
  },
  {
   "cell_type": "code",
   "execution_count": 106,
   "metadata": {
    "collapsed": true
   },
   "outputs": [],
   "source": [
    "y_mean = y.mean()\n",
    "y = y - y_mean\n",
    "y = y.reshape(-1, 1)"
   ]
  },
  {
   "cell_type": "code",
   "execution_count": 95,
   "metadata": {
    "collapsed": false
   },
   "outputs": [],
   "source": [
    "import seaborn as sns"
   ]
  },
  {
   "cell_type": "code",
   "execution_count": 107,
   "metadata": {
    "collapsed": false
   },
   "outputs": [],
   "source": [
    "EPOCHS = 600\n",
    "dims = X.shape[1]\n",
    "\n",
    "cv = ShuffleSplit(len(y), n_iter=1, test_size=0.25, random_state=1)\n",
    "train, test = next(cv.__iter__())\n",
    "\n",
    "X_train_svd = X[train].toarray()\n",
    "X_test_svd = X[test].toarray()"
   ]
  },
  {
   "cell_type": "code",
   "execution_count": 128,
   "metadata": {
    "collapsed": false,
    "scrolled": true
   },
   "outputs": [],
   "source": [
    "model = Sequential()\n",
    "model.add(Dense(input_dim=dims, output_dim=1000, init='uniform'))\n",
    "#model.add(Dropout(0.3))\n",
    "#model.add(Dropout(0.7))\n",
    "\n",
    "model.add(Activation('tanh'))\n",
    "\n",
    "model.add(Dense(input_dim=1000, output_dim=100, init='uniform', W_regularizer=l1(0.005)))\n",
    "model.add(Activation('tanh'))\n",
    "\n",
    "model.add(Dense(input_dim=200, output_dim=100, init='uniform', W_regularizer=l2(0.001)))\n",
    "model.add(Activation('tanh'))\n",
    "\n",
    "model.add(Dense(input_dim=100, output_dim=1, init='uniform', W_regularizer=l2(0.001)))\n",
    "model.add(Activation('linear'))\n",
    "\n",
    "model.compile(loss='mse', optimizer='sgd')\n",
    "\n",
    "def eval_model(solution, prediction):\n",
    "    return a_metric(solution + y_mean, prediction + y_mean, task='regression')\n",
    "\n",
    "watchlist = WatchlistCallback(watchlist=(X_test_svd, y[test]), eval_metric=eval_model, epoch_no=1)"
   ]
  },
  {
   "cell_type": "code",
   "execution_count": 129,
   "metadata": {
    "collapsed": false,
    "scrolled": true
   },
   "outputs": [
    {
     "name": "stdout",
     "output_type": "stream",
     "text": [
      "score: 0.002658 (epoch no 0)\n",
      "score: 0.005705 (epoch no 1)\n",
      "score: 0.008504 (epoch no 2)\n",
      "score: 0.011048 (epoch no 3)\n",
      "score: 0.013515 (epoch no 4)\n",
      "score: 0.015806 (epoch no 5)\n",
      "score: 0.018029 (epoch no 6)\n",
      "score: 0.019906 (epoch no 7)\n",
      "score: 0.021533 (epoch no 8)\n",
      "score: 0.023081 (epoch no 9)\n",
      "score: 0.024482 (epoch no 10)\n",
      "score: 0.025473 (epoch no 11)\n",
      "score: 0.026099 (epoch no 12)\n",
      "score: 0.026046 (epoch no 13)\n",
      "score: 0.025304 (epoch no 14)\n",
      "score: 0.023916 (epoch no 15)\n",
      "score: 0.021910 (epoch no 16)\n",
      "score: 0.019359 (epoch no 17)\n",
      "score: 0.015868 (epoch no 18)\n",
      "score: 0.011615 (epoch no 19)\n",
      "score: 0.007457 (epoch no 20)\n",
      "score: 0.003559 (epoch no 21)\n",
      "score: 0.001707 (epoch no 22)\n",
      "score: 0.001221 (epoch no 23)\n",
      "score: 0.001301 (epoch no 24)\n",
      "score: 0.001107 (epoch no 25)\n",
      "score: 0.000832 (epoch no 26)\n",
      "score: 0.000643 (epoch no 27)\n",
      "score: 0.001041 (epoch no 28)\n",
      "score: 0.000912 (epoch no 29)\n",
      "score: 0.001086 (epoch no 30)\n",
      "score: 0.000843 (epoch no 31)\n",
      "score: 0.000720 (epoch no 32)\n",
      "score: 0.000723 (epoch no 33)\n",
      "score: 0.000964 (epoch no 34)\n",
      "score: 0.000871 (epoch no 35)\n",
      "score: 0.000823 (epoch no 36)\n",
      "score: 0.000665 (epoch no 37)\n",
      "score: 0.000479 (epoch no 38)\n",
      "score: 0.000803 (epoch no 39)\n",
      "score: 0.000835 (epoch no 40)\n",
      "score: 0.000956 (epoch no 41)\n",
      "score: 0.000917 (epoch no 42)\n",
      "score: 0.000945 (epoch no 43)\n",
      "score: 0.000874 (epoch no 44)\n",
      "score: 0.000963 (epoch no 45)\n",
      "score: 0.000780 (epoch no 46)\n",
      "score: 0.000829 (epoch no 47)\n",
      "score: 0.000857 (epoch no 48)\n",
      "score: 0.000712 (epoch no 49)\n",
      "score: 0.000729 (epoch no 50)\n",
      "score: 0.000773 (epoch no 51)\n",
      "score: 0.001081 (epoch no 52)\n",
      "score: 0.001119 (epoch no 53)\n",
      "score: 0.001014 (epoch no 54)\n",
      "score: 0.000926 (epoch no 55)\n",
      "score: 0.000854 (epoch no 56)\n",
      "score: 0.000853 (epoch no 57)\n",
      "score: 0.000898 (epoch no 58)\n",
      "score: 0.000677 (epoch no 59)\n",
      "score: 0.000795 (epoch no 60)\n",
      "score: 0.000919 (epoch no 61)\n",
      "score: 0.001010 (epoch no 62)\n",
      "score: 0.000904 (epoch no 63)\n",
      "score: 0.000777 (epoch no 64)\n",
      "score: 0.000478 (epoch no 65)\n",
      "score: 0.000706 (epoch no 66)\n",
      "score: 0.000862 (epoch no 67)\n",
      "score: 0.000294 (epoch no 68)\n",
      "score: 0.000711 (epoch no 69)\n",
      "score: 0.000829 (epoch no 70)\n",
      "score: 0.000859 (epoch no 71)\n",
      "score: 0.001046 (epoch no 72)\n",
      "score: 0.000913 (epoch no 73)\n",
      "score: 0.000808 (epoch no 74)\n",
      "score: 0.000763 (epoch no 75)\n",
      "score: 0.000830 (epoch no 76)\n",
      "score: 0.000712 (epoch no 77)\n",
      "score: 0.000709 (epoch no 78)\n",
      "score: 0.000685 (epoch no 79)\n",
      "score: 0.001027 (epoch no 80)\n",
      "score: 0.000765 (epoch no 81)\n",
      "score: 0.000988 (epoch no 82)\n",
      "score: 0.000879 (epoch no 83)\n",
      "score: 0.000783 (epoch no 84)\n",
      "score: 0.000636 (epoch no 85)\n",
      "score: 0.000931 (epoch no 86)\n",
      "score: 0.000645 (epoch no 87)\n",
      "score: 0.000740 (epoch no 88)\n",
      "score: 0.000926 (epoch no 89)\n",
      "score: 0.001051 (epoch no 90)\n",
      "score: 0.000929 (epoch no 91)\n",
      "score: 0.000747 (epoch no 92)\n",
      "score: 0.000839 (epoch no 93)\n",
      "score: 0.000854 (epoch no 94)\n",
      "score: 0.000879 (epoch no 95)\n",
      "score: 0.000644 (epoch no 96)\n",
      "score: 0.000703 (epoch no 97)\n",
      "score: 0.000859 (epoch no 98)\n",
      "score: 0.000789 (epoch no 99)\n",
      "score: 0.000898 (epoch no 100)\n",
      "score: 0.000996 (epoch no 101)\n",
      "score: 0.000665 (epoch no 102)\n",
      "score: 0.000739 (epoch no 103)\n",
      "score: 0.000801 (epoch no 104)\n",
      "score: 0.000858 (epoch no 105)\n",
      "score: 0.000905 (epoch no 106)\n",
      "score: 0.000735 (epoch no 107)\n",
      "score: 0.000923 (epoch no 108)\n",
      "score: 0.000821 (epoch no 109)\n",
      "score: 0.000612 (epoch no 110)\n",
      "score: 0.000595 (epoch no 111)\n",
      "score: 0.000782 (epoch no 112)\n",
      "score: 0.000732 (epoch no 113)\n",
      "score: 0.000864 (epoch no 114)\n",
      "score: 0.000776 (epoch no 115)\n",
      "score: 0.000583 (epoch no 116)\n",
      "score: 0.000741 (epoch no 117)\n",
      "score: 0.000773 (epoch no 118)\n",
      "score: 0.000855 (epoch no 119)\n",
      "score: 0.000793 (epoch no 120)\n",
      "score: 0.000835 (epoch no 121)\n",
      "score: 0.000937 (epoch no 122)\n",
      "score: 0.000747 (epoch no 123)\n",
      "score: 0.000738 (epoch no 124)\n",
      "score: 0.000924 (epoch no 125)\n",
      "score: 0.000883 (epoch no 126)\n",
      "score: 0.000803 (epoch no 127)\n",
      "score: 0.000782 (epoch no 128)\n",
      "score: 0.000586 (epoch no 129)\n",
      "score: 0.000728 (epoch no 130)\n",
      "score: 0.000601 (epoch no 131)\n",
      "score: 0.000632 (epoch no 132)\n",
      "score: 0.000806 (epoch no 133)\n",
      "score: 0.000887 (epoch no 134)\n",
      "score: 0.000966 (epoch no 135)\n",
      "score: 0.000940 (epoch no 136)\n",
      "score: 0.000971 (epoch no 137)\n",
      "score: 0.000672 (epoch no 138)\n",
      "score: 0.000740 (epoch no 139)\n",
      "score: 0.000888 (epoch no 140)\n",
      "score: 0.000453 (epoch no 141)\n",
      "score: 0.000915 (epoch no 142)\n",
      "score: 0.001016 (epoch no 143)\n",
      "score: 0.000667 (epoch no 144)\n",
      "score: 0.000741 (epoch no 145)\n",
      "score: 0.000952 (epoch no 146)\n",
      "score: 0.000954 (epoch no 147)\n",
      "score: 0.000757 (epoch no 148)\n",
      "score: 0.000833 (epoch no 149)\n",
      "score: 0.000742 (epoch no 150)\n",
      "score: 0.000808 (epoch no 151)\n",
      "score: 0.000922 (epoch no 152)\n",
      "score: 0.000755 (epoch no 153)\n",
      "score: 0.000729 (epoch no 154)\n",
      "score: 0.000872 (epoch no 155)\n",
      "score: 0.000567 (epoch no 156)\n",
      "score: 0.000721 (epoch no 157)\n",
      "score: 0.000767 (epoch no 158)\n",
      "score: 0.000757 (epoch no 159)\n",
      "score: 0.000713 (epoch no 160)\n"
     ]
    },
    {
     "ename": "KeyboardInterrupt",
     "evalue": "",
     "output_type": "error",
     "traceback": [
      "\u001b[1;31m---------------------------------------------------------------------------\u001b[0m",
      "\u001b[1;31mKeyboardInterrupt\u001b[0m                         Traceback (most recent call last)",
      "\u001b[1;32m<ipython-input-129-30128e45e331>\u001b[0m in \u001b[0;36m<module>\u001b[1;34m()\u001b[0m\n\u001b[1;32m----> 1\u001b[1;33m \u001b[0mmodel\u001b[0m\u001b[1;33m.\u001b[0m\u001b[0mfit\u001b[0m\u001b[1;33m(\u001b[0m\u001b[0mX_train_svd\u001b[0m\u001b[1;33m,\u001b[0m \u001b[0my\u001b[0m\u001b[1;33m[\u001b[0m\u001b[0mtrain\u001b[0m\u001b[1;33m]\u001b[0m\u001b[1;33m,\u001b[0m \u001b[0mnb_epoch\u001b[0m\u001b[1;33m=\u001b[0m\u001b[0mEPOCHS\u001b[0m\u001b[1;33m,\u001b[0m \u001b[0mbatch_size\u001b[0m\u001b[1;33m=\u001b[0m\u001b[1;36m250\u001b[0m\u001b[1;33m,\u001b[0m \u001b[0mcallbacks\u001b[0m\u001b[1;33m=\u001b[0m\u001b[1;33m[\u001b[0m\u001b[0mwatchlist\u001b[0m\u001b[1;33m]\u001b[0m\u001b[1;33m,\u001b[0m \u001b[0mverbose\u001b[0m\u001b[1;33m=\u001b[0m\u001b[1;36m0\u001b[0m\u001b[1;33m)\u001b[0m\u001b[1;33m\u001b[0m\u001b[0m\n\u001b[0m",
      "\u001b[1;32m/home/agrigorev/anaconda2/lib/python2.7/site-packages/keras/models.pyc\u001b[0m in \u001b[0;36mfit\u001b[1;34m(self, x, y, batch_size, nb_epoch, verbose, callbacks, validation_split, validation_data, shuffle, class_weight, sample_weight, **kwargs)\u001b[0m\n\u001b[0;32m    395\u001b[0m                               \u001b[0mshuffle\u001b[0m\u001b[1;33m=\u001b[0m\u001b[0mshuffle\u001b[0m\u001b[1;33m,\u001b[0m\u001b[1;33m\u001b[0m\u001b[0m\n\u001b[0;32m    396\u001b[0m                               \u001b[0mclass_weight\u001b[0m\u001b[1;33m=\u001b[0m\u001b[0mclass_weight\u001b[0m\u001b[1;33m,\u001b[0m\u001b[1;33m\u001b[0m\u001b[0m\n\u001b[1;32m--> 397\u001b[1;33m                               sample_weight=sample_weight)\n\u001b[0m\u001b[0;32m    398\u001b[0m \u001b[1;33m\u001b[0m\u001b[0m\n\u001b[0;32m    399\u001b[0m     def evaluate(self, x, y, batch_size=32, verbose=1,\n",
      "\u001b[1;32m/home/agrigorev/anaconda2/lib/python2.7/site-packages/keras/engine/training.pyc\u001b[0m in \u001b[0;36mfit\u001b[1;34m(self, x, y, batch_size, nb_epoch, verbose, callbacks, validation_split, validation_data, shuffle, class_weight, sample_weight)\u001b[0m\n\u001b[0;32m   1009\u001b[0m                               \u001b[0mverbose\u001b[0m\u001b[1;33m=\u001b[0m\u001b[0mverbose\u001b[0m\u001b[1;33m,\u001b[0m \u001b[0mcallbacks\u001b[0m\u001b[1;33m=\u001b[0m\u001b[0mcallbacks\u001b[0m\u001b[1;33m,\u001b[0m\u001b[1;33m\u001b[0m\u001b[0m\n\u001b[0;32m   1010\u001b[0m                               \u001b[0mval_f\u001b[0m\u001b[1;33m=\u001b[0m\u001b[0mval_f\u001b[0m\u001b[1;33m,\u001b[0m \u001b[0mval_ins\u001b[0m\u001b[1;33m=\u001b[0m\u001b[0mval_ins\u001b[0m\u001b[1;33m,\u001b[0m \u001b[0mshuffle\u001b[0m\u001b[1;33m=\u001b[0m\u001b[0mshuffle\u001b[0m\u001b[1;33m,\u001b[0m\u001b[1;33m\u001b[0m\u001b[0m\n\u001b[1;32m-> 1011\u001b[1;33m                               callback_metrics=callback_metrics)\n\u001b[0m\u001b[0;32m   1012\u001b[0m \u001b[1;33m\u001b[0m\u001b[0m\n\u001b[0;32m   1013\u001b[0m     \u001b[1;32mdef\u001b[0m \u001b[0mevaluate\u001b[0m\u001b[1;33m(\u001b[0m\u001b[0mself\u001b[0m\u001b[1;33m,\u001b[0m \u001b[0mx\u001b[0m\u001b[1;33m,\u001b[0m \u001b[0my\u001b[0m\u001b[1;33m,\u001b[0m \u001b[0mbatch_size\u001b[0m\u001b[1;33m=\u001b[0m\u001b[1;36m32\u001b[0m\u001b[1;33m,\u001b[0m \u001b[0mverbose\u001b[0m\u001b[1;33m=\u001b[0m\u001b[1;36m1\u001b[0m\u001b[1;33m,\u001b[0m \u001b[0msample_weight\u001b[0m\u001b[1;33m=\u001b[0m\u001b[0mNone\u001b[0m\u001b[1;33m)\u001b[0m\u001b[1;33m:\u001b[0m\u001b[1;33m\u001b[0m\u001b[0m\n",
      "\u001b[1;32m/home/agrigorev/anaconda2/lib/python2.7/site-packages/keras/engine/training.pyc\u001b[0m in \u001b[0;36m_fit_loop\u001b[1;34m(self, f, ins, out_labels, batch_size, nb_epoch, verbose, callbacks, val_f, val_ins, shuffle, callback_metrics)\u001b[0m\n\u001b[0;32m    747\u001b[0m                 \u001b[0mbatch_logs\u001b[0m\u001b[1;33m[\u001b[0m\u001b[1;34m'size'\u001b[0m\u001b[1;33m]\u001b[0m \u001b[1;33m=\u001b[0m \u001b[0mlen\u001b[0m\u001b[1;33m(\u001b[0m\u001b[0mbatch_ids\u001b[0m\u001b[1;33m)\u001b[0m\u001b[1;33m\u001b[0m\u001b[0m\n\u001b[0;32m    748\u001b[0m                 \u001b[0mcallbacks\u001b[0m\u001b[1;33m.\u001b[0m\u001b[0mon_batch_begin\u001b[0m\u001b[1;33m(\u001b[0m\u001b[0mbatch_index\u001b[0m\u001b[1;33m,\u001b[0m \u001b[0mbatch_logs\u001b[0m\u001b[1;33m)\u001b[0m\u001b[1;33m\u001b[0m\u001b[0m\n\u001b[1;32m--> 749\u001b[1;33m                 \u001b[0mouts\u001b[0m \u001b[1;33m=\u001b[0m \u001b[0mf\u001b[0m\u001b[1;33m(\u001b[0m\u001b[0mins_batch\u001b[0m\u001b[1;33m)\u001b[0m\u001b[1;33m\u001b[0m\u001b[0m\n\u001b[0m\u001b[0;32m    750\u001b[0m                 \u001b[1;32mif\u001b[0m \u001b[0mtype\u001b[0m\u001b[1;33m(\u001b[0m\u001b[0mouts\u001b[0m\u001b[1;33m)\u001b[0m \u001b[1;33m!=\u001b[0m \u001b[0mlist\u001b[0m\u001b[1;33m:\u001b[0m\u001b[1;33m\u001b[0m\u001b[0m\n\u001b[0;32m    751\u001b[0m                     \u001b[0mouts\u001b[0m \u001b[1;33m=\u001b[0m \u001b[1;33m[\u001b[0m\u001b[0mouts\u001b[0m\u001b[1;33m]\u001b[0m\u001b[1;33m\u001b[0m\u001b[0m\n",
      "\u001b[1;32m/home/agrigorev/anaconda2/lib/python2.7/site-packages/keras/backend/theano_backend.pyc\u001b[0m in \u001b[0;36m__call__\u001b[1;34m(self, inputs)\u001b[0m\n\u001b[0;32m    486\u001b[0m     \u001b[1;32mdef\u001b[0m \u001b[0m__call__\u001b[0m\u001b[1;33m(\u001b[0m\u001b[0mself\u001b[0m\u001b[1;33m,\u001b[0m \u001b[0minputs\u001b[0m\u001b[1;33m)\u001b[0m\u001b[1;33m:\u001b[0m\u001b[1;33m\u001b[0m\u001b[0m\n\u001b[0;32m    487\u001b[0m         \u001b[1;32massert\u001b[0m \u001b[0mtype\u001b[0m\u001b[1;33m(\u001b[0m\u001b[0minputs\u001b[0m\u001b[1;33m)\u001b[0m \u001b[1;32min\u001b[0m \u001b[1;33m{\u001b[0m\u001b[0mlist\u001b[0m\u001b[1;33m,\u001b[0m \u001b[0mtuple\u001b[0m\u001b[1;33m}\u001b[0m\u001b[1;33m\u001b[0m\u001b[0m\n\u001b[1;32m--> 488\u001b[1;33m         \u001b[1;32mreturn\u001b[0m \u001b[0mself\u001b[0m\u001b[1;33m.\u001b[0m\u001b[0mfunction\u001b[0m\u001b[1;33m(\u001b[0m\u001b[1;33m*\u001b[0m\u001b[0minputs\u001b[0m\u001b[1;33m)\u001b[0m\u001b[1;33m\u001b[0m\u001b[0m\n\u001b[0m\u001b[0;32m    489\u001b[0m \u001b[1;33m\u001b[0m\u001b[0m\n\u001b[0;32m    490\u001b[0m \u001b[1;33m\u001b[0m\u001b[0m\n",
      "\u001b[1;32m/home/agrigorev/anaconda2/lib/python2.7/site-packages/theano/compile/function_module.pyc\u001b[0m in \u001b[0;36m__call__\u001b[1;34m(self, *args, **kwargs)\u001b[0m\n\u001b[0;32m    857\u001b[0m         \u001b[0mt0_fn\u001b[0m \u001b[1;33m=\u001b[0m \u001b[0mtime\u001b[0m\u001b[1;33m.\u001b[0m\u001b[0mtime\u001b[0m\u001b[1;33m(\u001b[0m\u001b[1;33m)\u001b[0m\u001b[1;33m\u001b[0m\u001b[0m\n\u001b[0;32m    858\u001b[0m         \u001b[1;32mtry\u001b[0m\u001b[1;33m:\u001b[0m\u001b[1;33m\u001b[0m\u001b[0m\n\u001b[1;32m--> 859\u001b[1;33m             \u001b[0moutputs\u001b[0m \u001b[1;33m=\u001b[0m \u001b[0mself\u001b[0m\u001b[1;33m.\u001b[0m\u001b[0mfn\u001b[0m\u001b[1;33m(\u001b[0m\u001b[1;33m)\u001b[0m\u001b[1;33m\u001b[0m\u001b[0m\n\u001b[0m\u001b[0;32m    860\u001b[0m         \u001b[1;32mexcept\u001b[0m \u001b[0mException\u001b[0m\u001b[1;33m:\u001b[0m\u001b[1;33m\u001b[0m\u001b[0m\n\u001b[0;32m    861\u001b[0m             \u001b[1;32mif\u001b[0m \u001b[0mhasattr\u001b[0m\u001b[1;33m(\u001b[0m\u001b[0mself\u001b[0m\u001b[1;33m.\u001b[0m\u001b[0mfn\u001b[0m\u001b[1;33m,\u001b[0m \u001b[1;34m'position_of_error'\u001b[0m\u001b[1;33m)\u001b[0m\u001b[1;33m:\u001b[0m\u001b[1;33m\u001b[0m\u001b[0m\n",
      "\u001b[1;31mKeyboardInterrupt\u001b[0m: "
     ]
    }
   ],
   "source": [
    "model.fit(X_train_svd, y[train], nb_epoch=EPOCHS, batch_size=250, callbacks=[watchlist], verbose=0)"
   ]
  },
  {
   "cell_type": "code",
   "execution_count": 130,
   "metadata": {
    "collapsed": false
   },
   "outputs": [
    {
     "ename": "TypeError",
     "evalue": "sparse matrix length is ambiguous; use getnnz() or shape[0]",
     "output_type": "error",
     "traceback": [
      "\u001b[1;31m---------------------------------------------------------------------------\u001b[0m",
      "\u001b[1;31mTypeError\u001b[0m                                 Traceback (most recent call last)",
      "\u001b[1;32m<ipython-input-130-90209354d8bf>\u001b[0m in \u001b[0;36m<module>\u001b[1;34m()\u001b[0m\n\u001b[0;32m      1\u001b[0m \u001b[0msns\u001b[0m\u001b[1;33m.\u001b[0m\u001b[0mdistplot\u001b[0m\u001b[1;33m(\u001b[0m\u001b[0my\u001b[0m \u001b[1;33m+\u001b[0m \u001b[0my_mean\u001b[0m\u001b[1;33m,\u001b[0m \u001b[0mcolor\u001b[0m\u001b[1;33m=\u001b[0m\u001b[1;34m'black'\u001b[0m\u001b[1;33m)\u001b[0m\u001b[1;33m\u001b[0m\u001b[0m\n\u001b[1;32m----> 2\u001b[1;33m \u001b[0msns\u001b[0m\u001b[1;33m.\u001b[0m\u001b[0mdistplot\u001b[0m\u001b[1;33m(\u001b[0m\u001b[0mmodel\u001b[0m\u001b[1;33m.\u001b[0m\u001b[0mpredict\u001b[0m\u001b[1;33m(\u001b[0m\u001b[0mX_test\u001b[0m\u001b[1;33m)\u001b[0m \u001b[1;33m+\u001b[0m \u001b[0my_mean\u001b[0m\u001b[1;33m,\u001b[0m \u001b[0mcolor\u001b[0m\u001b[1;33m=\u001b[0m\u001b[1;34m'orange'\u001b[0m\u001b[1;33m)\u001b[0m\u001b[1;33m\u001b[0m\u001b[0m\n\u001b[0m",
      "\u001b[1;32m/home/agrigorev/anaconda2/lib/python2.7/site-packages/keras/models.pyc\u001b[0m in \u001b[0;36mpredict\u001b[1;34m(self, x, batch_size, verbose)\u001b[0m\n\u001b[0;32m    442\u001b[0m             \u001b[0mA\u001b[0m \u001b[0mNumpy\u001b[0m \u001b[0marray\u001b[0m \u001b[0mof\u001b[0m \u001b[0mpredictions\u001b[0m\u001b[1;33m.\u001b[0m\u001b[1;33m\u001b[0m\u001b[0m\n\u001b[0;32m    443\u001b[0m         '''\n\u001b[1;32m--> 444\u001b[1;33m         \u001b[1;32mreturn\u001b[0m \u001b[0mself\u001b[0m\u001b[1;33m.\u001b[0m\u001b[0mmodel\u001b[0m\u001b[1;33m.\u001b[0m\u001b[0mpredict\u001b[0m\u001b[1;33m(\u001b[0m\u001b[0mx\u001b[0m\u001b[1;33m,\u001b[0m \u001b[0mbatch_size\u001b[0m\u001b[1;33m=\u001b[0m\u001b[0mbatch_size\u001b[0m\u001b[1;33m,\u001b[0m \u001b[0mverbose\u001b[0m\u001b[1;33m=\u001b[0m\u001b[0mverbose\u001b[0m\u001b[1;33m)\u001b[0m\u001b[1;33m\u001b[0m\u001b[0m\n\u001b[0m\u001b[0;32m    445\u001b[0m \u001b[1;33m\u001b[0m\u001b[0m\n\u001b[0;32m    446\u001b[0m     \u001b[1;32mdef\u001b[0m \u001b[0mpredict_on_batch\u001b[0m\u001b[1;33m(\u001b[0m\u001b[0mself\u001b[0m\u001b[1;33m,\u001b[0m \u001b[0mx\u001b[0m\u001b[1;33m)\u001b[0m\u001b[1;33m:\u001b[0m\u001b[1;33m\u001b[0m\u001b[0m\n",
      "\u001b[1;32m/home/agrigorev/anaconda2/lib/python2.7/site-packages/keras/engine/training.pyc\u001b[0m in \u001b[0;36mpredict\u001b[1;34m(self, x, batch_size, verbose)\u001b[0m\n\u001b[0;32m   1082\u001b[0m         \u001b[0mf\u001b[0m \u001b[1;33m=\u001b[0m \u001b[0mself\u001b[0m\u001b[1;33m.\u001b[0m\u001b[0mpredict_function\u001b[0m\u001b[1;33m\u001b[0m\u001b[0m\n\u001b[0;32m   1083\u001b[0m         return self._predict_loop(f, ins,\n\u001b[1;32m-> 1084\u001b[1;33m                                   batch_size=batch_size, verbose=verbose)\n\u001b[0m\u001b[0;32m   1085\u001b[0m \u001b[1;33m\u001b[0m\u001b[0m\n\u001b[0;32m   1086\u001b[0m     def train_on_batch(self, x, y,\n",
      "\u001b[1;32m/home/agrigorev/anaconda2/lib/python2.7/site-packages/keras/engine/training.pyc\u001b[0m in \u001b[0;36m_predict_loop\u001b[1;34m(self, f, ins, batch_size, verbose)\u001b[0m\n\u001b[0;32m    788\u001b[0m             \u001b[1;33m(\u001b[0m\u001b[1;32mif\u001b[0m \u001b[0mthe\u001b[0m \u001b[0mmodel\u001b[0m \u001b[0mhas\u001b[0m \u001b[0mmultiple\u001b[0m \u001b[0moutputs\u001b[0m\u001b[1;33m)\u001b[0m\u001b[1;33m.\u001b[0m\u001b[1;33m\u001b[0m\u001b[0m\n\u001b[0;32m    789\u001b[0m         '''\n\u001b[1;32m--> 790\u001b[1;33m         \u001b[0mnb_sample\u001b[0m \u001b[1;33m=\u001b[0m \u001b[0mlen\u001b[0m\u001b[1;33m(\u001b[0m\u001b[0mins\u001b[0m\u001b[1;33m[\u001b[0m\u001b[1;36m0\u001b[0m\u001b[1;33m]\u001b[0m\u001b[1;33m)\u001b[0m\u001b[1;33m\u001b[0m\u001b[0m\n\u001b[0m\u001b[0;32m    791\u001b[0m         \u001b[0mouts\u001b[0m \u001b[1;33m=\u001b[0m \u001b[1;33m[\u001b[0m\u001b[1;33m]\u001b[0m\u001b[1;33m\u001b[0m\u001b[0m\n\u001b[0;32m    792\u001b[0m         \u001b[1;32mif\u001b[0m \u001b[0mverbose\u001b[0m \u001b[1;33m==\u001b[0m \u001b[1;36m1\u001b[0m\u001b[1;33m:\u001b[0m\u001b[1;33m\u001b[0m\u001b[0m\n",
      "\u001b[1;32m/home/agrigorev/anaconda2/lib/python2.7/site-packages/scipy/sparse/base.pyc\u001b[0m in \u001b[0;36m__len__\u001b[1;34m(self)\u001b[0m\n\u001b[0;32m    197\u001b[0m     \u001b[1;32mdef\u001b[0m \u001b[0m__len__\u001b[0m\u001b[1;33m(\u001b[0m\u001b[0mself\u001b[0m\u001b[1;33m)\u001b[0m\u001b[1;33m:\u001b[0m\u001b[1;33m\u001b[0m\u001b[0m\n\u001b[0;32m    198\u001b[0m         \u001b[1;31m# return self.getnnz()\u001b[0m\u001b[1;33m\u001b[0m\u001b[1;33m\u001b[0m\u001b[0m\n\u001b[1;32m--> 199\u001b[1;33m         raise TypeError(\"sparse matrix length is ambiguous; use getnnz()\"\n\u001b[0m\u001b[0;32m    200\u001b[0m                          \" or shape[0]\")\n\u001b[0;32m    201\u001b[0m \u001b[1;33m\u001b[0m\u001b[0m\n",
      "\u001b[1;31mTypeError\u001b[0m: sparse matrix length is ambiguous; use getnnz() or shape[0]"
     ]
    },
    {
     "data": {
      "image/png": "[encoded data removed]",
      "text/plain": [
       "<matplotlib.figure.Figure at 0x7fef62690090>"
      ]
     },
     "metadata": {},
     "output_type": "display_data"
    }
   ],
   "source": [
    "sns.distplot(y + y_mean, color='black')\n",
    "sns.distplot(model.predict(X_test) + y_mean, color='orange')"
   ]
  },
  {
   "cell_type": "code",
   "execution_count": 131,
   "metadata": {
    "collapsed": false
   },
   "outputs": [
    {
     "data": {
      "image/png": "[encoded data removed]",
      "text/plain": [
       "<matplotlib.figure.Figure at 0x7fef4e9f0410>"
      ]
     },
     "metadata": {},
     "output_type": "display_data"
    }
   ],
   "source": [
    "plt.plot(watchlist.epochs, watchlist.scores)\n",
    "plt.ylim(0, 0.6)\n",
    "plt.show()"
   ]
  },
  {
   "cell_type": "code",
   "execution_count": 91,
   "metadata": {
    "collapsed": false
   },
   "outputs": [
    {
     "name": "stderr",
     "output_type": "stream",
     "text": []
    }
   ],
   "source": [
    "EPOCHS=5\n",
    "\n",
    "model = Sequential()\n",
    "model.add(Dense(input_dim=dims, output_dim=1000, init='uniform', W_regularizer=l1(0.005)))\n",
    "model.add(Dropout(0.01))\n",
    "model.add(Activation('tanh'))\n",
    "\n",
    "model.add(Dense(input_dim=1000, output_dim=100, init='uniform', W_regularizer=l1(0.005)))\n",
    "model.add(Activation('tanh'))\n",
    "\n",
    "model.add(Dense(input_dim=200, output_dim=100, init='uniform', W_regularizer=l2(0.001)))\n",
    "model.add(Activation('tanh'))\n",
    "\n",
    "model.add(Dense(input_dim=100, output_dim=1, init='uniform', W_regularizer=l2(0.001)))\n",
    "model.add(Activation('linear'))\n",
    "\n",
    "model.compile(loss='mse', optimizer='adam')\n",
    "\n",
    "with StatusCallback(epoch_total=EPOCHS) as status:\n",
    "    model.fit(X, y, nb_epoch=EPOCHS, batch_size=250, callbacks=[status], verbose=0)"
   ]
  },
  {
   "cell_type": "code",
   "execution_count": 92,
   "metadata": {
    "collapsed": false
   },
   "outputs": [],
   "source": [
    "y_valid_score = model.predict(X_valid) + y_mean\n",
    "y_test_score = model.predict(X_test) + y_mean"
   ]
  },
  {
   "cell_type": "code",
   "execution_count": 93,
   "metadata": {
    "collapsed": false
   },
   "outputs": [],
   "source": [
    "np.savetxt('submission/flora_valid.predict', y_valid_score, fmt='%0.10f')\n",
    "np.savetxt('submission/flora_test.predict', y_test_score, fmt='%0.10f')"
   ]
  },
  {
   "cell_type": "code",
   "execution_count": null,
   "metadata": {
    "collapsed": true
   },
   "outputs": [],
   "source": []
  }
 ],
 "metadata": {
  "kernelspec": {
   "display_name": "Python 2",
   "language": "python",
   "name": "python2"
  },
  "language_info": {
   "codemirror_mode": {
    "name": "ipython",
    "version": 2
   },
   "file_extension": ".py",
   "mimetype": "text/x-python",
   "name": "python",
   "nbconvert_exporter": "python",
   "pygments_lexer": "ipython2",
   "version": "2.7.11"
  }
 },
 "nbformat": 4,
 "nbformat_minor": 0
}
