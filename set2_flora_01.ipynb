{
 "cells": [
  {
   "cell_type": "code",
   "execution_count": 1,
   "metadata": {
    "collapsed": true
   },
   "outputs": [],
   "source": [
    "from collections import Counter\n",
    "import pickle\n",
    "\n",
    "import pandas as pd\n",
    "import numpy as np\n",
    "import scipy\n",
    "\n",
    "from statsmodels.formula.api import ols\n",
    "\n",
    "from tqdm import tqdm\n",
    "\n",
    "import matplotlib.pyplot as plt\n",
    "import seaborn as sns\n",
    "from IPython.display import display, HTML, clear_output\n",
    "\n",
    "%matplotlib inline"
   ]
  },
  {
   "cell_type": "code",
   "execution_count": 2,
   "metadata": {
    "collapsed": true
   },
   "outputs": [],
   "source": [
    "from sklearn.base import BaseEstimator, TransformerMixin\n",
    "from sklearn.pipeline import Pipeline, FeatureUnion\n",
    "\n",
    "from sklearn.preprocessing import LabelEncoder, OneHotEncoder, Normalizer, StandardScaler\n",
    "from sklearn.feature_extraction import DictVectorizer\n",
    "from sklearn.feature_extraction.text import TfidfVectorizer\n",
    "from sklearn.decomposition import PCA, NMF, TruncatedSVD\n",
    "\n",
    "from sklearn.cross_validation import StratifiedShuffleSplit, ShuffleSplit\n",
    "from sklearn.metrics import log_loss, roc_auc_score\n",
    "\n",
    "from sklearn.feature_selection import SelectFromModel\n",
    "\n",
    "from sklearn.linear_model import LogisticRegression\n",
    "from sklearn.linear_model import LinearRegression, Lasso, ElasticNet\n",
    "from sklearn.svm import LinearSVC\n",
    "\n",
    "from sklearn.ensemble import ExtraTreesClassifier\n",
    "from xgboost.sklearn import XGBClassifier\n",
    "import xgboost as xgb"
   ]
  },
  {
   "cell_type": "code",
   "execution_count": 3,
   "metadata": {
    "collapsed": false
   },
   "outputs": [],
   "source": [
    "def read_info(file_name):\n",
    "    result = []\n",
    "    \n",
    "    for line in file(file_name):\n",
    "        key, value = line.strip().split('=')\n",
    "        key = key.strip()\n",
    "        value = value.strip().strip(\"'\")\n",
    "        if value.isdigit():\n",
    "            value = int(value)\n",
    "        result.append((key, value))\n",
    "    \n",
    "    return dict(result)"
   ]
  },
  {
   "cell_type": "code",
   "execution_count": 4,
   "metadata": {
    "collapsed": false
   },
   "outputs": [
    {
     "data": {
      "text/plain": [
       "{'feat_num': 200000,\n",
       " 'feat_type': 'Numerical',\n",
       " 'has_categorical': 0,\n",
       " 'has_missing': 0,\n",
       " 'is_sparse': 1,\n",
       " 'label_num': 0,\n",
       " 'metric': 'a_metric',\n",
       " 'name': 'flora',\n",
       " 'target_num': 1,\n",
       " 'target_type': 'Numerical',\n",
       " 'task': 'regression',\n",
       " 'test_num': 2000,\n",
       " 'time_budget': 1200,\n",
       " 'train_num': 15000,\n",
       " 'usage': 'AutoML challenge 2014',\n",
       " 'valid_num': 2000}"
      ]
     },
     "execution_count": 4,
     "metadata": {},
     "output_type": "execute_result"
    }
   ],
   "source": [
    "public = read_info('data/set2_flora/flora_public.info')\n",
    "public"
   ]
  },
  {
   "cell_type": "code",
   "execution_count": 5,
   "metadata": {
    "collapsed": false
   },
   "outputs": [
    {
     "name": "stdout",
     "output_type": "stream",
     "text": [
      "data.pickle      flora_public.info  flora_train.data      flora_valid.data\r\n",
      "flora_feat.type  flora_test.data    flora_train.solution\r\n"
     ]
    }
   ],
   "source": [
    "ls data/set2_flora/"
   ]
  },
  {
   "cell_type": "code",
   "execution_count": 6,
   "metadata": {
    "collapsed": true
   },
   "outputs": [],
   "source": [
    "dim = public['feat_num']\n",
    "\n",
    "def read_sparse_features(fine_name):\n",
    "    result = list()\n",
    "    for line in file(fine_name):\n",
    "        row = []\n",
    "        for el in line.strip().split(' '): \n",
    "            pos, value = el.split(':')\n",
    "            pos = int(pos) - 1\n",
    "            row.append((pos, float(value)))\n",
    "        result.append(row)\n",
    "\n",
    "    rnum = len(result)\n",
    "    X = scipy.sparse.dok_matrix((rnum, dim), dtype=np.float)\n",
    "    for idx, row in enumerate(result):\n",
    "        for pos, val in row:\n",
    "            X[idx, pos] = val\n",
    "\n",
    "    return scipy.sparse.csr_matrix(X)"
   ]
  },
  {
   "cell_type": "code",
   "execution_count": 7,
   "metadata": {
    "collapsed": true
   },
   "outputs": [],
   "source": [
    "from libscores import a_metric"
   ]
  },
  {
   "cell_type": "code",
   "execution_count": 8,
   "metadata": {
    "collapsed": true
   },
   "outputs": [],
   "source": [
    "X, y, X_valid, X_test = pickle.load(open('data/set2_flora/data.pickle', 'rb'))"
   ]
  },
  {
   "cell_type": "markdown",
   "metadata": {
    "collapsed": false
   },
   "source": [
    "X = read_sparse_features('data/set2_flora/flora_train.data')\n",
    "y = np.fromfile('data/set2_flora/flora_train.solution', sep='\\n', dtype=np.float)\n",
    "\n",
    "X_valid = read_sparse_features('data/set2_flora/flora_valid.data')\n",
    "X_test  = read_sparse_features('data/set2_flora/flora_test.data')\n",
    "\n",
    "print X.shape, y.shape\n",
    "print X_valid.shape, X_test.shape"
   ]
  },
  {
   "cell_type": "markdown",
   "metadata": {},
   "source": [
    "pickle.dump([X, y, X_valid, X_test], open('data/set2_flora/data.pickle', 'wb'))"
   ]
  },
  {
   "cell_type": "markdown",
   "metadata": {},
   "source": [
    "X = norm.fit_transform(X)\n",
    "X_valid = norm.transform(X_valid)\n",
    "X_test = norm.transform(X_test)"
   ]
  },
  {
   "cell_type": "code",
   "execution_count": 9,
   "metadata": {
    "collapsed": false
   },
   "outputs": [],
   "source": [
    "rows, cols = X.nonzero()\n",
    "per_col_count = np.bincount(cols)\n",
    "\n",
    "X = X[:, per_col_count > 5]\n",
    "X_valid = X_valid[:, per_col_count > 5]\n",
    "X_test = X_test[:, per_col_count > 5]"
   ]
  },
  {
   "cell_type": "code",
   "execution_count": 10,
   "metadata": {
    "collapsed": true
   },
   "outputs": [],
   "source": [
    "scaler = StandardScaler(with_mean=False, copy=False)\n",
    "X = scaler.fit_transform(X)\n",
    "X_valid = scaler.transform(X_valid)\n",
    "X_test = scaler.transform(X_test)"
   ]
  },
  {
   "cell_type": "markdown",
   "metadata": {},
   "source": [
    "Learning curves"
   ]
  },
  {
   "cell_type": "code",
   "execution_count": 191,
   "metadata": {
    "collapsed": false
   },
   "outputs": [],
   "source": [
    "n_iter = 5\n",
    "cv = ShuffleSplit(len(y), n_iter=n_iter, test_size=0.25, random_state=1)\n",
    "\n",
    "scores = []\n",
    "it = 1\n",
    "for train, test in cv:\n",
    "    print 'iteration %d' % it\n",
    "\n",
    "    model = Lasso()\n",
    "\n",
    "    X_train = X[train]\n",
    "    y_train = y[train]\n",
    "    N, d = X_train.shape\n",
    "\n",
    "    sample_size = list(range(1000, N, 1000)) + [N]\n",
    "    for j in tqdm(sample_size):\n",
    "        model.fit(X_train[:j], y_train[:j])\n",
    "        y_pred = model.predict(X[test])\n",
    "\n",
    "        score = a_metric(y[test], y_pred)\n",
    "        scores.append((it, j, score))\n",
    "\n",
    "    it = it + 1\n",
    "clear_output()"
   ]
  },
  {
   "cell_type": "code",
   "execution_count": 125,
   "metadata": {
    "collapsed": false
   },
   "outputs": [
    {
     "data": {
      "image/png": "[encoded data removed]",
      "text/plain": [
       "<matplotlib.figure.Figure at 0x7f4c6d84c950>"
      ]
     },
     "metadata": {},
     "output_type": "display_data"
    }
   ],
   "source": [
    "learning = pd.DataFrame(scores, columns=['it', 'sample_size', 'score'])\n",
    "\n",
    "for it, grp in learning.groupby('it'):\n",
    "    plt.plot(grp.sample_size, grp.score)\n",
    "\n",
    "mean_score = learning.groupby('sample_size').score.mean()\n",
    "plt.plot(mean_score.index, mean_score.values, color='black', linewidth=2)\n",
    "\n",
    "plt.title('Learning curves')\n",
    "plt.xlabel('Sample size')\n",
    "plt.ylabel('Score')\n",
    "\n",
    "plt.show()"
   ]
  },
  {
   "cell_type": "code",
   "execution_count": 11,
   "metadata": {
    "collapsed": true
   },
   "outputs": [],
   "source": [
    "X_input = X"
   ]
  },
  {
   "cell_type": "code",
   "execution_count": 12,
   "metadata": {
    "collapsed": true
   },
   "outputs": [],
   "source": [
    "results = []"
   ]
  },
  {
   "cell_type": "code",
   "execution_count": 13,
   "metadata": {
    "collapsed": false
   },
   "outputs": [
    {
     "name": "stderr",
     "output_type": "stream",
     "text": []
    },
    {
     "name": "stdout",
     "output_type": "stream",
     "text": [
      "0.49847365522 0.0\n"
     ]
    }
   ],
   "source": [
    "models = {\n",
    "    'lasso': Lasso()\n",
    "}\n",
    "\n",
    "params = {\n",
    "    'cv_train_size': 0.8,\n",
    "    'model': 'lasso'\n",
    "}\n",
    "\n",
    "pipeline = Pipeline([\n",
    "    ('model', models[params['model']])\n",
    "])\n",
    "\n",
    "pipe_params = {\n",
    "    'model__alpha': 0.0085,\n",
    "}\n",
    "\n",
    "pipeline.set_params(**pipe_params)\n",
    "\n",
    "n_iter = 5\n",
    "cv = ShuffleSplit(len(y), n_iter=n_iter, train_size=params['cv_train_size'], random_state=1)\n",
    "\n",
    "scores = []\n",
    "for train, test in tqdm(cv):\n",
    "    pipeline.fit(X_input[train], y[train])\n",
    "\n",
    "    y_pred = pipeline.predict(X_input[test])\n",
    "    score = a_metric(y[test], y_pred)\n",
    "\n",
    "    scores.append(score)\n",
    "\n",
    "params.update(pipe_params)\n",
    "results.append((params, np.mean(score), np.std(score)))\n",
    "print np.mean(score), np.std(score)"
   ]
  },
  {
   "cell_type": "code",
   "execution_count": 14,
   "metadata": {
    "collapsed": false
   },
   "outputs": [
    {
     "data": {
      "text/plain": [
       "252"
      ]
     },
     "execution_count": 14,
     "metadata": {},
     "output_type": "execute_result"
    }
   ],
   "source": [
    "lasso = models['lasso']\n",
    "(lasso.coef_ > 0).sum()"
   ]
  },
  {
   "cell_type": "code",
   "execution_count": 15,
   "metadata": {
    "collapsed": false
   },
   "outputs": [
    {
     "name": "stdout",
     "output_type": "stream",
     "text": [
      "score: 0.49847 ± 0.00000, params: {'model': 'lasso', 'model__alpha': 0.0085, 'cv_train_size': 0.8}\n"
     ]
    }
   ],
   "source": [
    "for p, s, std in reversed(results[-5:]):\n",
    "    print u'score: %0.5f ± %0.5f, params: %s' % (s, std, p)"
   ]
  },
  {
   "cell_type": "code",
   "execution_count": 16,
   "metadata": {
    "collapsed": false
   },
   "outputs": [
    {
     "data": {
      "text/plain": [
       "Pipeline(steps=[('model', Lasso(alpha=0.0085, copy_X=True, fit_intercept=True, max_iter=1000,\n",
       "   normalize=False, positive=False, precompute=False, random_state=None,\n",
       "   selection='cyclic', tol=0.0001, warm_start=False))])"
      ]
     },
     "execution_count": 16,
     "metadata": {},
     "output_type": "execute_result"
    }
   ],
   "source": [
    "pipeline.fit(X, y)"
   ]
  },
  {
   "cell_type": "code",
   "execution_count": 17,
   "metadata": {
    "collapsed": false
   },
   "outputs": [],
   "source": [
    "y_valid_score = pipeline.predict(X_valid)\n",
    "y_test_score = pipeline.predict(X_test)\n"
   ]
  },
  {
   "cell_type": "code",
   "execution_count": 18,
   "metadata": {
    "collapsed": false
   },
   "outputs": [],
   "source": [
    "np.savetxt('submission/flora_valid.predict', y_valid_score, fmt='%0.10f')\n",
    "np.savetxt('submission/flora_test.predict', y_test_score, fmt='%0.10f')"
   ]
  }
 ],
 "metadata": {
  "kernelspec": {
   "display_name": "Python 2",
   "language": "python",
   "name": "python2"
  },
  "language_info": {
   "codemirror_mode": {
    "name": "ipython",
    "version": 2
   },
   "file_extension": ".py",
   "mimetype": "text/x-python",
   "name": "python",
   "nbconvert_exporter": "python",
   "pygments_lexer": "ipython2",
   "version": "2.7.11"
  }
 },
 "nbformat": 4,
 "nbformat_minor": 0
}
