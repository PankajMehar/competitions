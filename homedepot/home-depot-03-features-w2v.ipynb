{
 "cells": [
  {
   "cell_type": "code",
   "execution_count": 1,
   "metadata": {
    "collapsed": false
   },
   "outputs": [
    {
     "name": "stdout",
     "output_type": "stream",
     "text": [
      "/home/agrigorev/notebooks/home-depot/homedepot\n"
     ]
    }
   ],
   "source": [
    "cd .."
   ]
  },
  {
   "cell_type": "code",
   "execution_count": 2,
   "metadata": {
    "collapsed": false
   },
   "outputs": [],
   "source": [
    "import Google_spell_check"
   ]
  },
  {
   "cell_type": "code",
   "execution_count": 3,
   "metadata": {
    "collapsed": true
   },
   "outputs": [],
   "source": [
    "import numpy as np\n",
    "import pandas as pd"
   ]
  },
  {
   "cell_type": "code",
   "execution_count": 4,
   "metadata": {
    "collapsed": true
   },
   "outputs": [],
   "source": [
    "from time import time"
   ]
  },
  {
   "cell_type": "code",
   "execution_count": 5,
   "metadata": {
    "collapsed": false
   },
   "outputs": [],
   "source": [
    "import re"
   ]
  },
  {
   "cell_type": "code",
   "execution_count": 8,
   "metadata": {
    "collapsed": true
   },
   "outputs": [],
   "source": [
    "from unidecode import unidecode\n",
    "from nltk.stem.porter import PorterStemmer\n",
    "from nltk.tokenize import word_tokenize"
   ]
  },
  {
   "cell_type": "code",
   "execution_count": 9,
   "metadata": {
    "collapsed": false
   },
   "outputs": [],
   "source": [
    "stemmer = PorterStemmer()"
   ]
  },
  {
   "cell_type": "code",
   "execution_count": 10,
   "metadata": {
    "collapsed": false
   },
   "outputs": [],
   "source": [
    "root_path = '/home/agrigorev/notebooks/home-depot/input'\n",
    "\n",
    "df_train = pd.read_csv(root_path + '/train.csv', encoding=\"ISO-8859-1\")\n",
    "df_test = pd.read_csv(root_path + '/test.csv', encoding=\"ISO-8859-1\")\n",
    "df_pro_desc = pd.read_csv(root_path + '/product_descriptions.csv')\n",
    "df_attr = pd.read_csv(root_path + '/attributes.csv', encoding='utf-8')"
   ]
  },
  {
   "cell_type": "code",
   "execution_count": 11,
   "metadata": {
    "collapsed": true
   },
   "outputs": [],
   "source": [
    "df_brand = df_attr[df_attr.name == \"MFG Brand Name\"][[\"product_uid\", \"value\"]].rename(columns={\"value\": \"brand\"})\n",
    "num_train = df_train.shape[0]\n",
    "\n",
    "df_all = pd.concat((df_train, df_test), axis=0, ignore_index=True)\n",
    "df_all = pd.merge(df_all, df_pro_desc, how='left', on='product_uid')\n",
    "df_all = pd.merge(df_all, df_brand, how='left', on='product_uid')"
   ]
  },
  {
   "cell_type": "code",
   "execution_count": 12,
   "metadata": {
    "collapsed": false
   },
   "outputs": [],
   "source": [
    "spell_check = Google_spell_check.spell_check_dict"
   ]
  },
  {
   "cell_type": "code",
   "execution_count": 13,
   "metadata": {
    "collapsed": false
   },
   "outputs": [],
   "source": [
    "def get_or_identity(query):\n",
    "    return spell_check.get(query, query)\n",
    "\n",
    "df_all.search_term = df_all.search_term.apply(get_or_identity)"
   ]
  },
  {
   "cell_type": "code",
   "execution_count": 14,
   "metadata": {
    "collapsed": false
   },
   "outputs": [],
   "source": [
    "from unidecode import unidecode"
   ]
  },
  {
   "cell_type": "code",
   "execution_count": 15,
   "metadata": {
    "collapsed": true
   },
   "outputs": [],
   "source": [
    "def str_stem(s): \n",
    "    if not isinstance(s, (str, unicode)):\n",
    "        return []\n",
    "\n",
    "    if isinstance(s, str):\n",
    "        s = unicode(s.decode('utf-8'))\n",
    "\n",
    "    # some title edits?\n",
    "    s = s.replace(\"&quot;\",\" \")\n",
    "    s = s.replace(u\"è_\",\" \")\n",
    "    s = s.replace(u\"å¡\",\" \")\n",
    "    s = s.replace(u\"Û\",\" \")\n",
    "    s = s.replace(u\"åÊ\",\" \")\n",
    "    s = s.replace(u\"ÛÒ\",\" \")\n",
    "    s = s.replace(u\"Ûª\",\" \")\n",
    "    s = s.replace(u\"ÛÜ\",\" \")\n",
    "    s = s.replace(u\"Û÷\",\" \")\n",
    "    s = s.replace(u\"ÈÀ\",\" \")\n",
    "    s = s.replace(u\"ã¢\",\" \")        \n",
    "    s = s.replace(u\"Ã¥Â¡\",\" \")\n",
    "    s = s.replace(u\"ã¨_\",\" \")\n",
    "\n",
    "    s = re.sub(r\"(\\w)\\.([A-Z])\", r\"\\1 \\2\", s) #Split words with a.A?\n",
    "    s = s.replace(\"U.S.\",\" US \")\n",
    "    \n",
    "\n",
    "    s = s.lower()\n",
    "    \n",
    "    s = s.replace(\"deckover\",\"deck over\")\n",
    "    s = s.replace(\"clouverleaf\",\"cloverleaf\")\n",
    "    s = s.replace(\"grilll\",\"gril\")\n",
    "    s = s.replace(\"rainbird\",\"rain bird\")\n",
    "    s = s.replace(\"flexlock\",\"flex lock\")\n",
    "    s = s.replace(\"ultratouch\",\"ultra touch\")\n",
    "    s = s.replace(\"shelfes\",\"shelfs\")\n",
    "    s = s.replace(\"shelfing\",\"selfing\")\n",
    "    s = s.replace(\"kitchenen\",\"kitchen\")\n",
    "    s = s.replace(\"boltless\",\"bolt less\")\n",
    "    s = s.replace(\"drilll\",\"drill\")\n",
    "    s = s.replace(\"ridgid\",\"rigid\")\n",
    "    s = s.replace(\"emberglow\",\"ember glow\")\n",
    "    s = s.replace(\"tooliet\",\"toilet\")\n",
    "    s = s.replace(\"wiremesh\",\"wire mesh\")\n",
    "    s = s.replace(\"prefinished\",\"pre finished\")\n",
    "    s = s.replace(\"prehung\",\"pre hung\")\n",
    "    s = s.replace(\"priceepfister\",\"pfister\")\n",
    "    s = s.replace(\"ceilingg\",\"ceiling\")\n",
    "    s = s.replace(\"trafficmaster\",\"traffic master\")\n",
    "    s = s.replace(\"glacierr\",\"glacier\")\n",
    "    s = s.replace(\"toolet\",\"toilet\")\n",
    "    s = s.replace(\"watter\",\"water\")\n",
    "    s = s.replace(\"rerefrigerator\",\"refrigerator\")\n",
    "    s = s.replace(\"garagee\",\"garage\")\n",
    "    s = s.replace(\"air condit\",\"air conditioner\")\n",
    "    s = s.replace(\"deckpaint\",\"deck paint\")\n",
    "    s = s.replace(\"drilll\",\"drill\")\n",
    "    s = s.replace(\"flangee\",\"flange\")\n",
    "    s = s.replace(\"chipaper\",\"chipper\")\n",
    "    s = s.replace(\"cleanerr\",\"cleaner\")\n",
    "    s = s.replace(\"fiberglasss\",\"fiberglass\")\n",
    "    s = s.replace(\"paccage\",\"package\")\n",
    "    s = s.replace(\"garagee\",\"garage\")\n",
    "    s = s.replace(\"collegege\",\"college\")\n",
    "    s = s.replace(\"whiteplywood\",\"white plywood\")\n",
    "    s = s.replace(\"beadboard\",\"breadboard\")\n",
    "    s = s.replace(\"porcelaine\",\"porcelain\")\n",
    "    s = s.replace(\"treatedd\",\"treated\")\n",
    "    s = s.replace(\"cedarsafe\",\"cedar safe\")\n",
    "    s = s.replace(\"plywooden\",\"plywood\")\n",
    "    s = s.replace(\"sundstrom\",\"sandstorm\")\n",
    "    s = s.replace(\"sprkinler\",\"sprinkler\")\n",
    "    s = s.replace(\"sinktop\",\"sink top\")\n",
    "    s = s.replace(\"ourdoor\",\"outdoor\")\n",
    "    s = s.replace(\"ultratouch\",\"ultra touch\")\n",
    "    s = s.replace(\"decoart\",\"deco art\")\n",
    "    s = s.replace(\"outdoorlounge\",\"outdoor lounge\")\n",
    "    s = s.replace(\"outdoorfurniture\",\"outdoor furniture\")\n",
    "    s = s.replace(\"pricepfister\",\"pfister\")\n",
    "    s = s.replace(\"glaciar\",\"glacier\")\n",
    "    s = s.replace(\"glacie\",\"glacier\")\n",
    "    s = s.replace(\"tiolet\",\"toilet\")\n",
    "    s = s.replace(\"handycap\",\"handicap\")\n",
    "    s = s.replace(\"wayer\",\"water\")\n",
    "    s = s.replace(\"undercounter\",\"under counter\")\n",
    "    s = s.replace(\"basemetnt\",\"basement\")\n",
    "    s = s.replace(\"rustollum\",\"rustoleum\")\n",
    "    s = s.replace(\"heaterconditioner\",\"air conditioner\")\n",
    "    s = s.replace(\"spliter\",\"splitter\")\n",
    "    s = s.replace(\"berh\",\"behr\")\n",
    "    s = s.replace(\"snow thower\",\"snow blower\")\n",
    "    s = s.replace(\"powertool\",\"power tool\")\n",
    "    s = s.replace(\"repir\",\"repair\")\n",
    "    s = s.replace(\"condtioners\",\"conditioners\")\n",
    "    s = s.replace(\"pannels\",\"panels\")\n",
    "    s = s.replace(\"frostking\",\"frost king\")\n",
    "    s = s.replace(\"flourescent\",\"fluorescent\")\n",
    "    s = s.replace(\"closetmade\",\"closetmaid\")\n",
    "    s = s.replace(\"repir\",\"repair\")\n",
    "    s = s.replace(\"greecianmarble\",\"grecian marble\")\n",
    "    s = s.replace(\"porcelin\",\"porcelain\")\n",
    "    s = s.replace(\"flushmount\",\"flush mount\")\n",
    "    s = s.replace(\"foof\",\"foot\")\n",
    "    s = s.replace(\"incide\",\"inside\")\n",
    "    s = s.replace(\"pedistal\",\"pedestal\")\n",
    "    s = s.replace(\"miricale\",\"miracle\")\n",
    "    s = s.replace(\"windos\",\"windows\")\n",
    "    s = s.replace(\"closetmaid\",\"closet maid\")\n",
    "    s = s.replace(\"aspiradora\",\"aspirator\")\n",
    "    s = s.replace(\"bentgrass\",\"bentgrass\")\n",
    "    s = s.replace(\"hindges\",\"hinges\")\n",
    "    s = s.replace(\"hieght\",\"height\")\n",
    "    s = s.replace(\"clab\",\"clay\")\n",
    "    s = s.replace(\"procelian\",\"porcelain\")\n",
    "    s = s.replace(\"wonderboard\",\"wonder board\")\n",
    "    s = s.replace(\"backerboard\",\"backer board\")\n",
    "    s = s.replace(\"flatbraces\",\"flat braces\")\n",
    "    s = s.replace(\"cieling\",\"ceiling\")\n",
    "    s = s.replace(\"ceadar\",\"cedar\")\n",
    "    s = s.replace(\"cedart\",\"cedar\")\n",
    "    s = s.replace(\"frontload\",\"front load\")\n",
    "    s = s.replace(\"stcking\",\"sticking\")\n",
    "    s = s.replace(\"barreir\",\"barrier\")\n",
    "    s = s.replace(\"ajustable\",\"adjustable\")\n",
    "    s = s.replace(\"sinnk\",\"sink\")\n",
    "    s = s.replace(\"pedelal\",\"pedestal\")\n",
    "    s = s.replace(\"undermount\",\"under mounted\")\n",
    "    s = s.replace(\"suppll\",\"supple\")\n",
    "    s = s.replace(\"conditionerionar\",\"conditioner\")\n",
    "    s = s.replace(\"vynal\",\"vinyl\")\n",
    "    s = s.replace(\"aluminun\",\"aluminum\")\n",
    "    s = s.replace(\"installbay\",\"install bay\")\n",
    "    s = s.replace(\"cermic\",\"ceramic\")\n",
    "    s = s.replace(\"plastice\",\"plastic\")\n",
    "    s = s.replace(\"wattsolar\",\"watt solar\")\n",
    "    s = s.replace(\"glaciar\",\"glacier\")\n",
    "    s = s.replace(\"toliet\",\"toilet\")\n",
    "    s = s.replace(\"garageescape\",\"garage escape\")\n",
    "    s = s.replace(\"alumanam\",\"aluminum\")\n",
    "    s = s.replace(\"treate\",\"treated\")\n",
    "    s = s.replace(\"weathershield\",\"weather shield\")\n",
    "    s = s.replace(\"conditionerioners\",\"conditioner\")\n",
    "    s = s.replace(\"heaterconditioner\",\"conditioner\")\n",
    "    s = s.replace(\"vbration\",\"vibration\")\n",
    "    s = s.replace(\"fencde\",\"fence\")\n",
    "    s = s.replace(\"knoty\",\"knotty\")\n",
    "    s = s.replace(\"untility\",\"utility\")\n",
    "    s = s.replace(\"christmass\",\"christmas\")\n",
    "    s = s.replace(\"garlend\",\"garland\")\n",
    "    s = s.replace(\"ceilig\",\"ceiling\")\n",
    "    s = s.replace(\"glaciar\",\"glacier\")\n",
    "    s = s.replace(\"dcanvas\",\"canvas\")\n",
    "    s = s.replace(\"vaccum\",\"vacuum\")\n",
    "    s = s.replace(\"garge\",\"garage\")\n",
    "    s = s.replace(\"ridiing\",\"riding\")\n",
    "    s = s.replace(\"barreir\",\"barrier\")\n",
    "    s = s.replace(\"keorsene\",\"kerosene\")\n",
    "    s = s.replace(\"lanterun\",\"lantern\")\n",
    "    s = s.replace(\"infered\",\"infrared\")\n",
    "    s = s.replace(\"hardiboard\",\"hardboard\")\n",
    "    s = s.replace(\"keorsene\",\"kerosene\")\n",
    "    s = s.replace(\"sinnk\",\"sink\")\n",
    "    s = s.replace(\"pedelal\",\"pedaled\")\n",
    "    s = s.replace(\"hindged\",\"hinged\")\n",
    "    s = s.replace(\"bateries\",\"batteries\")\n",
    "    s = s.replace(\"undercabinet\",\"under cabinet\")\n",
    "    s = s.replace(\"ceilig\",\"ceiling\")\n",
    "    s = s.replace(\"extention\",\"extension\")\n",
    "    s = s.replace(\"firepits\",\"fire pit\")\n",
    "    s = s.replace(\"edsel\",\"edsal\")\n",
    "    s = s.replace(\"aire acondicionado\",\"air conditioner\")\n",
    "    s = s.replace(\"linoliuml\",\"linoleum\")\n",
    "    s = s.replace(\"hagchet\",\"hatchet\")\n",
    "    s = s.replace(\"steele\",\"steel\")\n",
    "    s = s.replace(\"dimable\",\"dimmable\")\n",
    "    s = s.replace(\"lithum\",\"lithium\")\n",
    "    s = s.replace(\"rayoby\",\"ryobi\")\n",
    "    s = s.replace(\"washerparts\",\"washer kit\")\n",
    "    s = s.replace(\"lituim\",\"lithium\")\n",
    "    s = s.replace(\"naturlas\",\"naturals\")\n",
    "    s = s.replace(\"softners\",\"softener\")\n",
    "    s = s.replace(\"doorsmoocher\",\"doors moocher\")\n",
    "    s = s.replace(\"sofn\",\"soft\")\n",
    "    s = s.replace(\"scaleblaster\",\"scale blaster\")\n",
    "    s = s.replace(\"pressue\",\"pressure\")\n",
    "    s = s.replace(\"paito\",\"patio\")\n",
    "    s = s.replace(\"mandare\",\"mandara\")\n",
    "    s = s.replace(\"scod\",\"cod\")\n",
    "    s = s.replace(\"ddummy\",\"dummy\")\n",
    "    s = s.replace(\"florcant\",\"floor cant\")\n",
    "    s = s.replace(\"prunning\",\"pruning\")\n",
    "    s = s.replace(\"enrty\",\"enrty\")\n",
    "    s = s.replace(\"outdoorfurniture\",\"outdoor furniture\")\n",
    "    s = s.replace(\"handtools\",\"hand tools\")\n",
    "    s = s.replace(\"treate\",\"treated\")\n",
    "    s = s.replace(\"wheelbarow\",\"wheelbarrow\")\n",
    "    s = s.replace(\"hhigh\",\"high\")\n",
    "    s = s.replace(\"accordian\",\"accordion\")\n",
    "    s = s.replace(\"preature\",\"pressure\")\n",
    "    s = s.replace(\"steqamers\",\"steamers\")\n",
    "    s = s.replace(\"onda pressure\",\"honda pressure\")\n",
    "    s = s.replace(\"insallation\",\"insulation\")\n",
    "    s = s.replace(\"contracor\",\"multi color\")\n",
    "    s = s.replace(\"stell\",\"steel\")\n",
    "    s = s.replace(\"sjhelf\",\"shelf\")\n",
    "    s = s.replace(\"ridiing\",\"riding\")\n",
    "    s = s.replace(\"drils\",\"drills\")\n",
    "    s = s.replace(\"planel\",\"panel\")\n",
    "    s = s.replace(\"robi\",\"ryobi\")\n",
    "    s = s.replace(\"swivrl\",\"swirl\")\n",
    "    s = s.replace(\"enrty\",\"entry\")\n",
    "    s = s.replace(\"paneks\",\"panels\")\n",
    "    s = s.replace(\"floo shets\",\"flooring sheets\")\n",
    "    s = s.replace(\"gazhose\",\"gas hose\")\n",
    "    s = s.replace(\"artifical\",\"artifical\")\n",
    "    s = s.replace(\"insullation\",\"insulation\")\n",
    "    s = s.replace(\"peper\",\"peper\")\n",
    "    s = s.replace(\"extention\",\"extension\")\n",
    "    s = s.replace(\"insulaion\",\"insulation\")\n",
    "    s = s.replace(\"insullation\",\"insulation\")\n",
    "    s = s.replace(\"unsulation\",\"insulation\")\n",
    "    s = s.replace(\"upholstry\",\"upholstery\")\n",
    "    s = s.replace(\"medicien\",\"medicine\")\n",
    "    s = s.replace(\"floorinh\",\"flooring\")\n",
    "    s = s.replace(\"heavyduty\",\"heavy duty\")\n",
    "    s = s.replace(\"hardsware\",\"hardware\")\n",
    "    s = s.replace(\"traiter\",\"trailer\")\n",
    "    s = s.replace(\"bathroon\",\"bathroom\")\n",
    "    s = s.replace(\"tsnkless\",\"tankless\")\n",
    "    s = s.replace(\"shoplight\",\"shop light\")\n",
    "    s = s.replace(\"consertrated\",\"concentrated\")\n",
    "    s = s.replace(\"zeroturn\",\"zero turn\")\n",
    "    s = s.replace(\"vynik\",\"vinyl\")\n",
    "    s = s.replace(\"aircondiioner\",\"air conditioner\")\n",
    "    s = s.replace(\"plexy glass\",\"plastic sheet\")\n",
    "    s = s.replace(\"accesory\",\"accessory\")\n",
    "    s = s.replace(\"koolaroo\",\"coolaroo\")\n",
    "    s = s.replace(\"uplihght\",\"uplight\")\n",
    "    s = s.replace(\"edsel\",\"edsal\")\n",
    "    s = s.replace(\"outdooor\",\"outdoor\")\n",
    "    s = s.replace(\"pivotangle\",\"pivot angle\")\n",
    "    s = s.replace(\"plasticl\",\"plastic\")\n",
    "    s = s.replace(\"varigated\",\"variegated\")\n",
    "    s = s.replace(\"basemetnt\",\"basement\")\n",
    "    s = s.replace(\"cornor\",\"corner\")\n",
    "    s = s.replace(\"plaers\",\"pliers\")\n",
    "    # s = s.replace(\"soundfroofing\",\"roofing underlayment\")\n",
    "    s = s.replace(\"storeage\",\"storage\")\n",
    "    s = s.replace(\"fountin\",\"fountain\")\n",
    "    s = s.replace(\"extention\",\"extension\")\n",
    "    s = s.replace(\"polyeurethane\",\"polyurethane\")\n",
    "    s = s.replace(\"plastice\",\"plastic\")\n",
    "    s = s.replace(\"tilees\",\"tiles\")\n",
    "    s = s.replace(\"byefold\",\"bi fold\")\n",
    "    s = s.replace(\"whirpool\",\"whirlpool\")\n",
    "    s = s.replace(\"diining\",\"dining\")\n",
    "    s = s.replace(\"connnector\",\"connector\")\n",
    "    s = s.replace(\"woodebn\",\"wooden\")\n",
    "    s = s.replace(\"celliling\",\"ceiling\")\n",
    "    s = s.replace(\"waterroo\",\"water roof\")\n",
    "    s = s.replace(\"sofn\",\"softener\")\n",
    "    s = s.replace(\"softners\",\"softener\")\n",
    "    s = s.replace(\"shoipping\",\"shopping\")\n",
    "    s = s.replace(\"trollie\",\"trolly\")\n",
    "    s = s.replace(\"shoplight\",\"shop light\")\n",
    "    s = s.replace(\"diining\",\"dining\")\n",
    "    s = s.replace(\"elongagated\",\"elongated\")\n",
    "    s = s.replace(\"sjhelf\",\"shelf\")\n",
    "    s = s.replace(\"polycarbonite\",\"polycarbonate\")\n",
    "    s = s.replace(\"koolaroo\",\"coolaroo\")\n",
    "    s = s.replace(\"galvinized\",\"galvanized\")\n",
    "    s = s.replace(\"bakewarte\",\"bakeware\")\n",
    "    s = s.replace(\"kennal\",\"kennel\")\n",
    "    s = s.replace(\"elongagated\",\"elongated\")\n",
    "    s = s.replace(\"tolet\",\"toilet\")\n",
    "    s = s.replace(\"aspiradora\",\"vacuum\")\n",
    "    s = s.replace(\"aluminium\",\"aluminum\")\n",
    "    s = s.replace(\"laminet\",\"laminate\")\n",
    "    s = s.replace(\"elecronic\",\"electronic\")\n",
    "    s = s.replace(\"dedwalt\",\"dewalt\")\n",
    "    s = s.replace(\"vaccuum\",\"vacuum\")\n",
    "    s = s.replace(\"diining\",\"dining\")\n",
    "    s = s.replace(\"insided\",\"inside\")\n",
    "    s = s.replace(\"towbehind\",\"tow behind\")\n",
    "    s = s.replace(\"kidie\",\"kidde\")\n",
    "    s = s.replace(\"batterys\",\"battery\")\n",
    "    s = s.replace(\"nutru\",\"nutri\")\n",
    "    s = s.replace(\"kitchenfaucet\",\"kitchen faucet\")\n",
    "    s = s.replace(\"kitcheen\",\"kitchen\")\n",
    "\n",
    "    s = s.replace(\"whirpool\", \"whirlpool\")\n",
    "    s = s.replace(\"whirlpoolga\", \"whirlpool\")\n",
    "    s = s.replace(\"whirlpoolstainless\", \"whirlpool stainless\")\n",
    "    \n",
    "    # some title edits END?\n",
    "    s = s.replace(\"&#39;s\",\" \")\n",
    "\n",
    "    s = s.replace(\"  \",\" \")\n",
    "    s = s.replace(\",\",\"\") #could be number / segment later?\n",
    "    s = s.replace(\"$\",\" \")\n",
    "    s = s.replace(\"+\",\" plus \")\n",
    "    s = s.replace(\";\",\" \")\n",
    "    s = s.replace(\":\",\" \")\n",
    "    s = s.replace(\"&amp;\",\" \")\n",
    "    s = s.replace(\"&amp\",\" \")\n",
    "    s = s.replace(\"?\",\" \")\n",
    "    s = s.replace(\"-\",\" \")\n",
    "    s = s.replace(\"#\",\" \")\n",
    "    s = s.replace(\"(\",\" \")\n",
    "    s = s.replace(\")\",\" \")\n",
    "    s = s.replace(\"//\",\"/\")\n",
    "    s = s.replace(\"..\",\".\")\n",
    "    s = s.replace(\" / \",\" ovr \")\n",
    "    s = s.replace(\" \\\\ \",\" \")\n",
    "    s = s.replace(\".\",\" . \")\n",
    "\n",
    "    s = re.sub(r\"(^\\.|/)\", r\" \", s)\n",
    "    s = re.sub(r\"(\\.|/)$\", r\" \", s)\n",
    "    s = re.sub(r\"([0-9])([a-z])\", r\"\\1 \\2\", s)\n",
    "    s = re.sub(r\"([a-z])([0-9])\", r\"\\1 \\2\", s)\n",
    "    s = re.sub(r\"([a-z])( *)\\.( *)([a-z])\", r\"\\1 \\4\", s)\n",
    "    s = re.sub(r\"([a-z])( *)/( *)([a-z])\", r\"\\1 \\4\", s)\n",
    "\n",
    "    s = re.sub(r\"([0-9])( *)\\.( *)([0-9])\", r\"\\1.\\4\", s)\n",
    "    s = re.sub(r\"([0-9]+)( *)(inches|inch|in|')\\.?\", r\"\\1in \", s)\n",
    "    s = re.sub(r\"([0-9]+)( *)(foot|feet|ft|'')\\.?\", r\"\\1ft \", s)\n",
    "    s = re.sub(r\"([0-9]+)( *)(pounds|pound|lbs|lb)\\.?\", r\"\\1lb \", s)\n",
    "    s = re.sub(r\"([0-9]+)( *)(square|sq)\\.?\", r\"\\1sq \", s)\n",
    "    s = re.sub(r\"([0-9]+)( *)(cubic|cu)\\.?\", r\"\\1cu \", s)\n",
    "    s = re.sub(r\"([0-9]+)( *)(gallons|gallon|gal)\\.?\", r\"\\1gal \", s)\n",
    "    s = re.sub(r\"([0-9]+)( *)(ounces|ounce|oz)\\.?\", r\"\\1oz \", s)\n",
    "    s = re.sub(r\"([0-9]+)( *)(centimeters|cm)\\.?\", r\"\\1cm \", s)\n",
    "    s = re.sub(r\"([0-9]+)( *)(milimeters|mm)\\.?\", r\"\\1mm \", s)\n",
    "    s = re.sub(r\"([0-9]+)( *)(degrees|degree)\\.?\", r\"\\1deg \", s)\n",
    "    s = re.sub(r\"([0-9]+)( *)(volts|volt|v)\\.?\", r\"\\1volt \", s)\n",
    "    s = re.sub(r\"([0-9]+)( *)(watts|watt|w)\\.?\", r\"\\1watt \", s)\n",
    "    s = re.sub(r\"([0-9]+)( *)(amperes|ampere|amps|amp)\\.?\", r\"\\1amp \", s)\n",
    "\n",
    "    s = s.replace(\" x \", \" xby \")\n",
    "    s = s.replace(\"*\", \" xby \")\n",
    "    s = s.replace(\" by \", \" xby\")\n",
    "    s = s.replace(\"x0\", \" xby 0\")\n",
    "    s = s.replace(\"x1\", \" xby 1\")\n",
    "    s = s.replace(\"x2\", \" xby 2\")\n",
    "    s = s.replace(\"x3\", \" xby 3\")\n",
    "    s = s.replace(\"x4\", \" xby 4\")\n",
    "    s = s.replace(\"x5\", \" xby 5\")\n",
    "    s = s.replace(\"x6\", \" xby 6\")\n",
    "    s = s.replace(\"x7\", \" xby 7\")\n",
    "    s = s.replace(\"x8\", \" xby 8\")\n",
    "    s = s.replace(\"x9\", \" xby 9\")\n",
    "    s = s.replace(\"0x\", \"0 xby \")\n",
    "    s = s.replace(\"1x\", \"1 xby \")\n",
    "    s = s.replace(\"2x\", \"2 xby \")\n",
    "    s = s.replace(\"3x\", \"3 xby \")\n",
    "    s = s.replace(\"4x\", \"4 xby \")\n",
    "    s = s.replace(\"5x\", \"5 xby \")\n",
    "    s = s.replace(\"6x\", \"6 xby \")\n",
    "    s = s.replace(\"7x\", \"7 xby \")\n",
    "    s = s.replace(\"8x\", \"8 xby \")\n",
    "    s = s.replace(\"9x\", \"9 xby \")\n",
    "\n",
    "    s = s.replace(\"&\",\" \")\n",
    "    s = s.replace(\"'\",\" \")\n",
    "    s = s.replace(\"  \",\" \")\n",
    "    s = s.replace(\" . \",\" \")\n",
    "\n",
    "    s = unidecode(s.lower())\n",
    "    return [stemmer.stem(z) for z in s.split(\" \")]"
   ]
  },
  {
   "cell_type": "code",
   "execution_count": 16,
   "metadata": {
    "collapsed": false
   },
   "outputs": [
    {
     "name": "stdout",
     "output_type": "stream",
     "text": [
      "took 1407.98510s.\n"
     ]
    }
   ],
   "source": [
    "t0 = time()\n",
    "\n",
    "df_all['search_term'] = df_all['search_term'].apply(str_stem)\n",
    "df_all['product_title'] = df_all['product_title'].apply(str_stem)\n",
    "df_all['product_description'] = df_all['product_description'].apply(str_stem)\n",
    "df_all['brand_text'] = df_all['brand'].apply(str_stem)\n",
    "df_attr['value'] = df_attr['value'].apply(str_stem)\n",
    "\n",
    "print 'took %0.5fs.' % (time() - t0)"
   ]
  },
  {
   "cell_type": "code",
   "execution_count": 17,
   "metadata": {
    "collapsed": false
   },
   "outputs": [
    {
     "data": {
      "text/plain": [
       "3007843"
      ]
     },
     "execution_count": 17,
     "metadata": {},
     "output_type": "execute_result"
    }
   ],
   "source": [
    "all_text = []\n",
    "\n",
    "df_all['search_term'].apply(all_text.append)\n",
    "df_all['product_title'].apply(all_text.append)\n",
    "df_all['product_description'].apply(all_text.append)\n",
    "df_all['brand_text'].apply(all_text.append)\n",
    "df_attr['value'].apply(all_text.append)\n",
    "\n",
    "len(all_text)"
   ]
  },
  {
   "cell_type": "code",
   "execution_count": 19,
   "metadata": {
    "collapsed": false
   },
   "outputs": [
    {
     "name": "stdout",
     "output_type": "stream",
     "text": [
      "Couldn't import dot_parser, loading of dot files will not be possible.\n"
     ]
    }
   ],
   "source": [
    "from gensim.models import Word2Vec"
   ]
  },
  {
   "cell_type": "code",
   "execution_count": 20,
   "metadata": {
    "collapsed": true
   },
   "outputs": [],
   "source": [
    "num_features = 300    # Word vector dimensionality\n",
    "min_word_count = 10   # Minimum word count\n",
    "num_workers = 6     # Number of threads to run in parallel\n",
    "context = 3          # Context window size\n",
    "downsampling = 1e-3   # Downsample setting for frequent words"
   ]
  },
  {
   "cell_type": "code",
   "execution_count": 22,
   "metadata": {
    "collapsed": false
   },
   "outputs": [
    {
     "name": "stdout",
     "output_type": "stream",
     "text": [
      "took 197.38439s.\n"
     ]
    }
   ],
   "source": [
    "t0 = time()\n",
    "\n",
    "model = Word2Vec(all_text, workers=num_workers, size=num_features, min_count=min_word_count,\n",
    "                 window=context, sample=downsampling, seed=1)\n",
    "\n",
    "print 'took %0.5fs.' % (time() - t0)"
   ]
  },
  {
   "cell_type": "code",
   "execution_count": 23,
   "metadata": {
    "collapsed": true
   },
   "outputs": [],
   "source": [
    "model.save('home_depot_w2v.bin')"
   ]
  },
  {
   "cell_type": "code",
   "execution_count": null,
   "metadata": {
    "collapsed": true
   },
   "outputs": [],
   "source": [
    "model."
   ]
  }
 ],
 "metadata": {
  "kernelspec": {
   "display_name": "Python 2",
   "language": "python",
   "name": "python2"
  },
  "language_info": {
   "codemirror_mode": {
    "name": "ipython",
    "version": 2
   },
   "file_extension": ".py",
   "mimetype": "text/x-python",
   "name": "python",
   "nbconvert_exporter": "python",
   "pygments_lexer": "ipython2",
   "version": "2.7.11"
  }
 },
 "nbformat": 4,
 "nbformat_minor": 0
}
