{
 "cells": [
  {
   "cell_type": "code",
   "execution_count": 1,
   "metadata": {
    "collapsed": false
   },
   "outputs": [
    {
     "name": "stdout",
     "output_type": "stream",
     "text": [
      "/home/agrigorev/notebooks/home-depot/homedepot\n"
     ]
    }
   ],
   "source": [
    "cd .."
   ]
  },
  {
   "cell_type": "code",
   "execution_count": 2,
   "metadata": {
    "collapsed": true
   },
   "outputs": [],
   "source": [
    "import numpy as np\n",
    "import pandas as pd"
   ]
  },
  {
   "cell_type": "code",
   "execution_count": 35,
   "metadata": {
    "collapsed": true
   },
   "outputs": [],
   "source": [
    "import xgboost as xgb"
   ]
  },
  {
   "cell_type": "code",
   "execution_count": 4,
   "metadata": {
    "collapsed": false
   },
   "outputs": [],
   "source": [
    "root_path = '/home/agrigorev/notebooks/home-depot/input'\n",
    "\n",
    "df_train = pd.read_csv(root_path + '/train.csv', encoding=\"ISO-8859-1\")\n",
    "df_test = pd.read_csv(root_path + '/test.csv', encoding=\"ISO-8859-1\")"
   ]
  },
  {
   "cell_type": "markdown",
   "metadata": {},
   "source": [
    "## Feature Preparation"
   ]
  },
  {
   "cell_type": "code",
   "execution_count": null,
   "metadata": {
    "collapsed": true
   },
   "outputs": [],
   "source": [
    "full = 'w2v_features_cleaned_full.csv'\n",
    "exl = 'w2v_features_cleaned_query_excluded.csv'"
   ]
  },
  {
   "cell_type": "code",
   "execution_count": 6,
   "metadata": {
    "collapsed": false
   },
   "outputs": [],
   "source": [
    "df_w2v_sim_full = pd.read_csv(full)\n",
    "df_w2v_sim_exl = pd.read_csv(exl)"
   ]
  },
  {
   "cell_type": "code",
   "execution_count": 7,
   "metadata": {
    "collapsed": false
   },
   "outputs": [],
   "source": [
    "df_all = pd.concat((df_train, df_test), axis=0, ignore_index=True)\n",
    "df_all.drop(['product_title', 'product_uid', 'search_term'], axis=1, inplace=1)\n",
    "\n",
    "df_all = df_all.merge(df_w2v_sim_full, on='id')\n",
    "df_all = df_all.merge(df_w2v_sim_exl, on='id')"
   ]
  },
  {
   "cell_type": "code",
   "execution_count": 25,
   "metadata": {
    "collapsed": false
   },
   "outputs": [],
   "source": [
    "w2v_all = list(df_w2v_sim_full.columns)\n",
    "w2v_all.remove('id')\n",
    "\n",
    "feature_groups = {\n",
    "    'w2v_all': w2v_all,\n",
    "    'w2v_bullets': [c for c in w2v_all if 'bullet' in c],\n",
    "    'w2v_exl': [c + '_exl' for c in w2v_all],\n",
    "    'w2v_exl_bullets': [c + '_exl' for c in w2v_bullets],\n",
    "    'w2v_diff': [c + '_diff' for c in w2v_all],\n",
    "    'w2v_diff_bullets': [c + '_diff' for c in bullets]\n",
    "}"
   ]
  },
  {
   "cell_type": "code",
   "execution_count": 10,
   "metadata": {
    "collapsed": true
   },
   "outputs": [],
   "source": [
    "for c in w2v_all:\n",
    "    df_all[c + '_diff'] = df_all[c] - df_all[c + '_exl']"
   ]
  },
  {
   "cell_type": "code",
   "execution_count": 26,
   "metadata": {
    "collapsed": false
   },
   "outputs": [],
   "source": [
    "for name, columns in feature_groups.items():\n",
    "    df_all[name + '_min'] = df_all[columns].min(axis=1)\n",
    "    df_all[name + '_min'] = df_all[columns].max(axis=1)\n",
    "    df_all[name + '_mean'] = df_all[columns].mean(axis=1)\n",
    "    df_all[name + '_std'] = df_all[columns].std(axis=1)\n",
    "    df_all[name + '_mean+std'] = df_all[name + '_mean'] + df_all[name + '_std']\n",
    "    df_all[name + '_mean-std'] = df_all[name + '_mean'] - df_all[name + '_std']"
   ]
  },
  {
   "cell_type": "markdown",
   "metadata": {},
   "source": [
    "## Model"
   ]
  },
  {
   "cell_type": "code",
   "execution_count": 37,
   "metadata": {
    "collapsed": false
   },
   "outputs": [],
   "source": [
    "train_len = int(len(df_train) * 0.885)\n",
    "counts = df_train[:train_len].groupby(['product_uid']).count()[['id']]\n",
    "\n",
    "counts = counts[counts['id'] > 1]\n",
    "counts = counts.add_suffix('_Count').reset_index()\n",
    "valid_product_uids = set(counts['product_uid'].values)\n",
    "\n",
    "inds = []\n",
    "\n",
    "allowed_uids = df_train.loc[df_train['product_uid'].isin(valid_product_uids)]\n",
    "# For now, always grab first row of valid product uid.\n",
    "lastUid = 0\n",
    "\n",
    "for idx, mrow in allowed_uids.iterrows():\n",
    "    if lastUid == mrow['product_uid']:\n",
    "        continue\n",
    "\n",
    "    lastUid = mrow['product_uid']\n",
    "    inds.append(idx)\n",
    "\n",
    "validation_idx = np.array(inds + list(df_train[train_len:].index.values))\n",
    "train_idx = np.array(df_train.loc[~df_train.index.isin(validation_idx)].index.values)"
   ]
  },
  {
   "cell_type": "code",
   "execution_count": 51,
   "metadata": {
    "collapsed": false
   },
   "outputs": [],
   "source": [
    "features = list(df_all.columns)\n",
    "features.remove('id')\n",
    "features.remove('relevance')"
   ]
  },
  {
   "cell_type": "code",
   "execution_count": 52,
   "metadata": {
    "collapsed": true
   },
   "outputs": [],
   "source": [
    "X_all = df_all[features].values\n",
    "\n",
    "X = X_all[:len(df_train)]\n",
    "y = df_train.relevance.values\n",
    "\n",
    "X_test = X_all[len(df_train):]"
   ]
  },
  {
   "cell_type": "code",
   "execution_count": 53,
   "metadata": {
    "collapsed": false
   },
   "outputs": [],
   "source": [
    "dtrain = xgb.DMatrix(X[train_idx], label=y[train_idx], feature_names=features)\n",
    "dvalid = xgb.DMatrix(X[validation_idx], label=y[validation_idx], feature_names=features)\n",
    "watchlist = [(dtrain, 'train'), (dvalid, 'eval')]"
   ]
  },
  {
   "cell_type": "code",
   "execution_count": 69,
   "metadata": {
    "collapsed": true
   },
   "outputs": [],
   "source": [
    "results = []"
   ]
  },
  {
   "cell_type": "code",
   "execution_count": 101,
   "metadata": {
    "collapsed": true
   },
   "outputs": [],
   "source": [
    "n_estimators = 10000\n",
    "early_stopping_rounds = 50\n",
    "\n",
    "xgb_pars = {\n",
    "    'reg_alpha': 10, \n",
    "    'colsample_bytree': 0.8, \n",
    "    'silent': 1, \n",
    "    'eval_metric': 'rmse', \n",
    "    'learning_rate': 0.03, \n",
    "    'max_delta_step': 5, \n",
    "    'nthread': 8, \n",
    "    'min_child_weight': 1, \n",
    "    'subsample': 0.9, \n",
    "    'reg_lambda': 0.05, \n",
    "    'seed': 42, \n",
    "    'objective': 'reg:linear', \n",
    "    'max_depth': 10, \n",
    "    'gamma': 0.5\n",
    "}"
   ]
  },
  {
   "cell_type": "code",
   "execution_count": 102,
   "metadata": {
    "collapsed": false
   },
   "outputs": [
    {
     "data": {
      "text/plain": [
       "(0.496242, 132)"
      ]
     },
     "execution_count": 102,
     "metadata": {},
     "output_type": "execute_result"
    }
   ],
   "source": [
    "model = xgb.train(xgb_pars, dtrain, 10000, evals=watchlist, early_stopping_rounds=20, verbose_eval=10)\n",
    "results.append((model.best_score, dict(xgb_pars)))\n",
    "model.best_score, model.best_iteration"
   ]
  },
  {
   "cell_type": "code",
   "execution_count": 103,
   "metadata": {
    "collapsed": false
   },
   "outputs": [
    {
     "name": "stdout",
     "output_type": "stream",
     "text": [
      "0.496242 {'reg_alpha': 10, 'colsample_bytree': 0.8, 'silent': 1, 'eval_metric': 'rmse', 'learning_rate': 0.03, 'max_delta_step': 5, 'nthread': 8, 'min_child_weight': 1, 'subsample': 0.9, 'reg_lambda': 0.05, 'seed': 42, 'objective': 'reg:linear', 'max_depth': 10, 'gamma': 0.5}\n",
      "0.496545 {'reg_alpha': 10, 'colsample_bytree': 0.8, 'silent': 1, 'eval_metric': 'rmse', 'learning_rate': 0.03, 'max_delta_step': 5, 'nthread': 8, 'min_child_weight': 100, 'subsample': 0.9, 'reg_lambda': 0.05, 'seed': 42, 'objective': 'reg:linear', 'max_depth': 10, 'gamma': 0.5}\n",
      "0.499169 {'reg_alpha': 10, 'colsample_bytree': 0.8, 'silent': 1, 'eval_metric': 'rmse', 'learning_rate': 0.3, 'max_delta_step': 1, 'nthread': 8, 'min_child_weight': 100, 'subsample': 0.75, 'reg_lambda': 0.05, 'seed': 42, 'objective': 'reg:linear', 'max_depth': 10, 'gamma': 0.1}\n",
      "0.499736 {'reg_alpha': 10, 'colsample_bytree': 0.8, 'silent': 1, 'eval_metric': 'rmse', 'learning_rate': 0.3, 'max_delta_step': 1, 'nthread': 8, 'min_child_weight': 100, 'subsample': 0.5, 'reg_lambda': 0.05, 'seed': 42, 'objective': 'reg:linear', 'max_depth': 10, 'gamma': 0.1}\n",
      "0.498642 {'reg_alpha': 10, 'colsample_bytree': 0.8, 'silent': 1, 'eval_metric': 'rmse', 'learning_rate': 0.3, 'max_delta_step': 1, 'nthread': 8, 'min_child_weight': 100, 'subsample': 0.9, 'reg_lambda': 0.05, 'seed': 42, 'objective': 'reg:linear', 'max_depth': 10, 'gamma': 0.1}\n",
      "0.499094 {'reg_alpha': 10, 'colsample_bytree': 0.8, 'silent': 1, 'eval_metric': 'rmse', 'learning_rate': 0.3, 'max_delta_step': 5, 'nthread': 8, 'min_child_weight': 10, 'subsample': 0.9, 'reg_lambda': 0.05, 'seed': 42, 'objective': 'reg:linear', 'max_depth': 10, 'gamma': 0.5}\n",
      "0.498686 {'reg_alpha': 10, 'colsample_bytree': 0.8, 'silent': 1, 'eval_metric': 'rmse', 'learning_rate': 0.3, 'max_delta_step': 5, 'nthread': 8, 'min_child_weight': 100, 'subsample': 0.9, 'reg_lambda': 0.05, 'seed': 42, 'objective': 'reg:linear', 'max_depth': 10, 'gamma': 0.5}\n",
      "0.498686 {'reg_alpha': 10, 'colsample_bytree': 0.8, 'silent': 1, 'eval_metric': 'rmse', 'learning_rate': 0.3, 'max_delta_step': 10, 'nthread': 8, 'min_child_weight': 100, 'subsample': 0.9, 'reg_lambda': 0.05, 'seed': 42, 'objective': 'reg:linear', 'max_depth': 10, 'gamma': 0.5}\n",
      "0.498418 {'reg_alpha': 10, 'colsample_bytree': 0.8, 'silent': 1, 'eval_metric': 'rmse', 'learning_rate': 0.3, 'max_delta_step': 1, 'nthread': 8, 'min_child_weight': 100, 'subsample': 0.9, 'reg_lambda': 0.05, 'seed': 42, 'objective': 'reg:linear', 'max_depth': 10, 'gamma': 0.5}\n",
      "0.49954 {'reg_alpha': 10, 'colsample_bytree': 0.8, 'silent': 1, 'eval_metric': 'rmse', 'learning_rate': 0.3, 'max_delta_step': 1, 'nthread': 8, 'min_child_weight': 10, 'subsample': 0.9, 'reg_lambda': 0.05, 'seed': 42, 'objective': 'reg:linear', 'max_depth': 15, 'gamma': 0.5}\n",
      "0.498865 {'reg_alpha': 10, 'colsample_bytree': 0.8, 'silent': 1, 'eval_metric': 'rmse', 'learning_rate': 0.3, 'max_delta_step': 1, 'nthread': 8, 'min_child_weight': 10, 'subsample': 0.9, 'reg_lambda': 0.05, 'seed': 42, 'objective': 'reg:linear', 'max_depth': 10, 'gamma': 0.5}\n",
      "0.498865 {'reg_alpha': 10, 'colsample_bytree': 0.8, 'silent': 1, 'eval_metric': 'rmse', 'learning_rate': 0.3, 'max_delta_step': 1, 'nthread': 8, 'min_child_weight': 10, 'subsample': 0.9, 'reg_lambda': 0.05, 'seed': 42, 'objective': 'reg:linear', 'max_depth': 10, 'gamma': 0.5}\n"
     ]
    }
   ],
   "source": [
    "for score, par in reversed(results):\n",
    "    print score, par"
   ]
  },
  {
   "cell_type": "code",
   "execution_count": 62,
   "metadata": {
    "collapsed": false
   },
   "outputs": [
    {
     "data": {
      "text/plain": [
       "[('w2v_query_product_title_diff', 549),\n",
       " ('w2v_query_product_title_exl', 511),\n",
       " ('w2v_query_product_title', 504),\n",
       " ('w2v_query_all_text_diff', 474),\n",
       " ('w2v_query_product_description_diff', 464),\n",
       " ('w2v_query_brand', 461),\n",
       " ('w2v_query_product_description', 389),\n",
       " ('w2v_query_brand_exl', 383),\n",
       " ('w2v_exl_mean-std', 372),\n",
       " ('w2v_query_product_description_exl', 365),\n",
       " ('w2v_query_all_text_exl', 357),\n",
       " ('w2v_diff_mean-std', 357),\n",
       " ('w2v_query_all_text', 352),\n",
       " ('w2v_query_bullet02_exl', 349),\n",
       " ('w2v_query_material', 347),\n",
       " ('w2v_all_min', 345),\n",
       " ('w2v_query_bullet03_exl', 340),\n",
       " ('w2v_query_bullet01', 338),\n",
       " ('w2v_query_bullet01_exl', 333),\n",
       " ('w2v_query_bullet04_exl', 319),\n",
       " ('w2v_all_mean-std', 318),\n",
       " ('w2v_exl_min', 315),\n",
       " ('w2v_query_bullet02', 310),\n",
       " ('w2v_query_bullet03', 306),\n",
       " ('w2v_query_bullet04', 291),\n",
       " ('w2v_query_color', 291),\n",
       " ('w2v_query_bullet01_diff', 287),\n",
       " ('w2v_exl_bullets_mean-std', 266),\n",
       " ('w2v_query_bullet04_diff', 262),\n",
       " ('w2v_query_bullet05', 259),\n",
       " ('w2v_query_bullet02_diff', 258),\n",
       " ('w2v_exl_std', 251),\n",
       " ('w2v_all_std', 251),\n",
       " ('w2v_bullets_mean-std', 249),\n",
       " ('w2v_query_color_exl', 245),\n",
       " ('w2v_diff_min', 242),\n",
       " ('w2v_exl_bullets_min', 238),\n",
       " ('w2v_diff_mean', 233),\n",
       " ('w2v_bullets_min', 232),\n",
       " ('w2v_query_bullet05_exl', 231),\n",
       " ('w2v_diff_std', 228),\n",
       " ('w2v_query_bullet03_diff', 220),\n",
       " ('w2v_exl_mean+std', 210),\n",
       " ('w2v_all_mean+std', 207),\n",
       " ('w2v_query_bullet06_exl', 204),\n",
       " ('w2v_diff_bullets_mean', 203),\n",
       " ('w2v_query_bullet07_exl', 192),\n",
       " ('w2v_query_bullet06', 178),\n",
       " ('w2v_query_material_exl', 177),\n",
       " ('w2v_exl_bullets_std', 175),\n",
       " ('w2v_diff_mean+std', 172),\n",
       " ('w2v_all_mean', 170),\n",
       " ('w2v_exl_mean', 169),\n",
       " ('w2v_query_bullet07', 163),\n",
       " ('w2v_bullets_mean+std', 153),\n",
       " ('w2v_query_bullet05_diff', 143),\n",
       " ('w2v_bullets_std', 131),\n",
       " ('w2v_query_bullet07_diff', 125),\n",
       " ('w2v_diff_bullets_min', 124),\n",
       " ('w2v_query_bullet08', 123),\n",
       " ('w2v_exl_bullets_mean+std', 122),\n",
       " ('w2v_query_bullet08_exl', 120),\n",
       " ('w2v_diff_bullets_mean-std', 120),\n",
       " ('w2v_query_bullet06_diff', 109),\n",
       " ('w2v_bullets_mean', 103),\n",
       " ('w2v_query_bullet20', 98),\n",
       " ('w2v_diff_bullets_std', 97),\n",
       " ('w2v_query_bullet09_exl', 94),\n",
       " ('w2v_query_bullet09', 94),\n",
       " ('w2v_query_brand_diff', 93),\n",
       " ('w2v_exl_bullets_mean', 87),\n",
       " ('w2v_diff_bullets_mean+std', 87),\n",
       " ('w2v_query_bullet10_exl', 85),\n",
       " ('w2v_query_color_diff', 78),\n",
       " ('w2v_query_bullet09_diff', 69),\n",
       " ('w2v_query_bullet11_exl', 65),\n",
       " ('w2v_query_bullet10', 63),\n",
       " ('w2v_query_bullet18', 63),\n",
       " ('w2v_query_bullet11', 60),\n",
       " ('w2v_query_bullet10_diff', 54),\n",
       " ('w2v_query_bullet08_diff', 52),\n",
       " ('w2v_query_bullet18_exl', 42),\n",
       " ('w2v_query_bullet11_diff', 41),\n",
       " ('w2v_query_bullet12', 40),\n",
       " ('w2v_query_bullet12_exl', 38),\n",
       " ('w2v_query_material_diff', 37),\n",
       " ('w2v_query_bullet13_exl', 36),\n",
       " ('w2v_query_bullet13', 33),\n",
       " ('w2v_query_bullet12_diff', 27),\n",
       " ('w2v_query_bullet14_exl', 25),\n",
       " ('w2v_query_bullet20_exl', 23),\n",
       " ('w2v_query_bullet13_diff', 22),\n",
       " ('w2v_query_bullet14', 21),\n",
       " ('w2v_query_bullet15_exl', 20),\n",
       " ('w2v_query_bullet15', 18),\n",
       " ('w2v_query_bullet21', 13),\n",
       " ('w2v_query_bullet21_diff', 12),\n",
       " ('w2v_query_bullet18_diff', 12),\n",
       " ('w2v_query_bullet14_diff', 12),\n",
       " ('w2v_query_bullet17_exl', 10),\n",
       " ('w2v_query_bullet16', 8),\n",
       " ('w2v_query_bullet15_diff', 6),\n",
       " ('w2v_query_bullet17_diff', 6),\n",
       " ('w2v_query_bullet17', 4),\n",
       " ('w2v_query_bullet22_exl', 4),\n",
       " ('w2v_query_bullet16_exl', 4),\n",
       " ('w2v_query_bullet16_diff', 4),\n",
       " ('w2v_query_bullet22', 4),\n",
       " ('w2v_query_bullet21_exl', 3),\n",
       " ('w2v_query_bullet19_exl', 3),\n",
       " ('w2v_query_bullet19', 2)]"
      ]
     },
     "execution_count": 62,
     "metadata": {},
     "output_type": "execute_result"
    }
   ],
   "source": [
    "sorted(model.get_fscore().items(), key=lambda x: -x[1])"
   ]
  },
  {
   "cell_type": "code",
   "execution_count": null,
   "metadata": {
    "collapsed": true
   },
   "outputs": [],
   "source": []
  }
 ],
 "metadata": {
  "kernelspec": {
   "display_name": "Python 2",
   "language": "python",
   "name": "python2"
  },
  "language_info": {
   "codemirror_mode": {
    "name": "ipython",
    "version": 2
   },
   "file_extension": ".py",
   "mimetype": "text/x-python",
   "name": "python",
   "nbconvert_exporter": "python",
   "pygments_lexer": "ipython2",
   "version": "2.7.11"
  }
 },
 "nbformat": 4,
 "nbformat_minor": 0
}
