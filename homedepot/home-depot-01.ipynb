{
 "cells": [
  {
   "cell_type": "code",
   "execution_count": 1,
   "metadata": {
    "collapsed": false
   },
   "outputs": [
    {
     "name": "stdout",
     "output_type": "stream",
     "text": [
      "/home/agrigorev/notebooks/home-depot/homedepot\n"
     ]
    }
   ],
   "source": [
    "cd .."
   ]
  },
  {
   "cell_type": "code",
   "execution_count": 2,
   "metadata": {
    "collapsed": false
   },
   "outputs": [],
   "source": [
    "import Google_spell_check"
   ]
  },
  {
   "cell_type": "code",
   "execution_count": 3,
   "metadata": {
    "collapsed": true
   },
   "outputs": [],
   "source": [
    "import numpy as np\n",
    "import pandas as pd"
   ]
  },
  {
   "cell_type": "code",
   "execution_count": 15,
   "metadata": {
    "collapsed": true
   },
   "outputs": [],
   "source": [
    "from time import time"
   ]
  },
  {
   "cell_type": "code",
   "execution_count": 66,
   "metadata": {
    "collapsed": false
   },
   "outputs": [],
   "source": [
    "from sklearn.ensemble import RandomForestRegressor\n",
    "\n",
    "from sklearn.grid_search import GridSearchCV\n",
    "\n",
    "from sklearn.base import BaseEstimator, TransformerMixin\n",
    "from sklearn.pipeline import Pipeline, FeatureUnion\n",
    "from sklearn.decomposition import TruncatedSVD\n",
    "\n",
    "from sklearn.preprocessing import LabelEncoder\n",
    "\n",
    "from sklearn.feature_extraction.text import TfidfVectorizer\n",
    "from sklearn.metrics import mean_squared_error, make_scorer\n",
    "\n",
    "from nltk.stem.porter import PorterStemmer\n",
    "import re"
   ]
  },
  {
   "cell_type": "code",
   "execution_count": 5,
   "metadata": {
    "collapsed": false
   },
   "outputs": [],
   "source": [
    "stemmer = PorterStemmer()"
   ]
  },
  {
   "cell_type": "code",
   "execution_count": 87,
   "metadata": {
    "collapsed": false
   },
   "outputs": [],
   "source": [
    "root_path = '/home/agrigorev/notebooks/home-depot/input'\n",
    "\n",
    "df_train = pd.read_csv(root_path + '/train.csv', encoding=\"ISO-8859-1\")\n",
    "df_test = pd.read_csv(root_path + '/test.csv', encoding=\"ISO-8859-1\")\n",
    "df_pro_desc = pd.read_csv(root_path + '/product_descriptions.csv')\n",
    "df_attr = pd.read_csv(root_path + '/attributes.csv', encoding='utf-8')"
   ]
  },
  {
   "cell_type": "code",
   "execution_count": 88,
   "metadata": {
    "collapsed": true
   },
   "outputs": [],
   "source": [
    "df_brand = df_attr[df_attr.name == \"MFG Brand Name\"][[\"product_uid\", \"value\"]].rename(columns={\"value\": \"brand\"})\n",
    "num_train = df_train.shape[0]\n",
    "\n",
    "df_all = pd.concat((df_train, df_test), axis=0, ignore_index=True)\n",
    "df_all = pd.merge(df_all, df_pro_desc, how='left', on='product_uid')\n",
    "df_all = pd.merge(df_all, df_brand, how='left', on='product_uid')"
   ]
  },
  {
   "cell_type": "code",
   "execution_count": 39,
   "metadata": {
    "collapsed": false
   },
   "outputs": [],
   "source": [
    "spell_check = Google_spell_check.spell_check_dict"
   ]
  },
  {
   "cell_type": "code",
   "execution_count": 40,
   "metadata": {
    "collapsed": false
   },
   "outputs": [
    {
     "name": "stdout",
     "output_type": "stream",
     "text": [
      "3364\n",
      "240760\n",
      "27812\n"
     ]
    }
   ],
   "source": [
    "print len(spell_check.keys())\n",
    "print len(df_all.search_term)\n",
    "print df_all.search_term.isin(set(spell_check.keys())).sum()\n"
   ]
  },
  {
   "cell_type": "code",
   "execution_count": 42,
   "metadata": {
    "collapsed": false
   },
   "outputs": [],
   "source": [
    "def get_or_identity(query):\n",
    "    return spell_check.get(query, query)\n",
    "\n",
    "df_all.search_term = df_all.search_term.apply(get_or_identity)"
   ]
  },
  {
   "cell_type": "code",
   "execution_count": 43,
   "metadata": {
    "collapsed": false
   },
   "outputs": [],
   "source": [
    "from unidecode import unidecode\n"
   ]
  },
  {
   "cell_type": "code",
   "execution_count": 53,
   "metadata": {
    "collapsed": true
   },
   "outputs": [],
   "source": [
    "def str_stem(s): \n",
    "    if not isinstance(s, (str, unicode)):\n",
    "        return []\n",
    "\n",
    "    if isinstance(s, str):\n",
    "        s = unicode(s.decode('utf-8'))\n",
    "\n",
    "    # some title edits?\n",
    "    s = s.replace(\"&quot;\",\" \")\n",
    "    s = s.replace(u\"è_\",\" \")\n",
    "    s = s.replace(u\"å¡\",\" \")\n",
    "    s = s.replace(u\"Û\",\" \")\n",
    "    s = s.replace(u\"åÊ\",\" \")\n",
    "    s = s.replace(u\"ÛÒ\",\" \")\n",
    "    s = s.replace(u\"Ûª\",\" \")\n",
    "    s = s.replace(u\"ÛÜ\",\" \")\n",
    "    s = s.replace(u\"Û÷\",\" \")\n",
    "    s = s.replace(u\"ÈÀ\",\" \")\n",
    "    s = s.replace(u\"ã¢\",\" \")        \n",
    "    s = s.replace(u\"Ã¥Â¡\",\" \")\n",
    "    s = s.replace(u\"ã¨_\",\" \")\n",
    "\n",
    "    s = re.sub(r\"(\\w)\\.([A-Z])\", r\"\\1 \\2\", s) #Split words with a.A?\n",
    "    s = s.replace(\"U.S.\",\" US \")\n",
    "    \n",
    "\n",
    "    s = s.lower()\n",
    "    \n",
    "    s = s.replace(\"deckover\",\"deck over\")\n",
    "    s = s.replace(\"clouverleaf\",\"cloverleaf\")\n",
    "    s = s.replace(\"grilll\",\"gril\")\n",
    "    s = s.replace(\"rainbird\",\"rain bird\")\n",
    "    s = s.replace(\"flexlock\",\"flex lock\")\n",
    "    s = s.replace(\"ultratouch\",\"ultra touch\")\n",
    "    s = s.replace(\"shelfes\",\"shelfs\")\n",
    "    s = s.replace(\"shelfing\",\"selfing\")\n",
    "    s = s.replace(\"kitchenen\",\"kitchen\")\n",
    "    s = s.replace(\"boltless\",\"bolt less\")\n",
    "    s = s.replace(\"drilll\",\"drill\")\n",
    "    s = s.replace(\"ridgid\",\"rigid\")\n",
    "    s = s.replace(\"emberglow\",\"ember glow\")\n",
    "    s = s.replace(\"tooliet\",\"toilet\")\n",
    "    s = s.replace(\"wiremesh\",\"wire mesh\")\n",
    "    s = s.replace(\"prefinished\",\"pre finished\")\n",
    "    s = s.replace(\"prehung\",\"pre hung\")\n",
    "    s = s.replace(\"priceepfister\",\"pfister\")\n",
    "    s = s.replace(\"ceilingg\",\"ceiling\")\n",
    "    s = s.replace(\"trafficmaster\",\"traffic master\")\n",
    "    s = s.replace(\"glacierr\",\"glacier\")\n",
    "    s = s.replace(\"toolet\",\"toilet\")\n",
    "    s = s.replace(\"watter\",\"water\")\n",
    "    s = s.replace(\"rerefrigerator\",\"refrigerator\")\n",
    "    s = s.replace(\"garagee\",\"garage\")\n",
    "    s = s.replace(\"air condit\",\"air conditioner\")\n",
    "    s = s.replace(\"deckpaint\",\"deck paint\")\n",
    "    s = s.replace(\"drilll\",\"drill\")\n",
    "    s = s.replace(\"flangee\",\"flange\")\n",
    "    s = s.replace(\"chipaper\",\"chipper\")\n",
    "    s = s.replace(\"cleanerr\",\"cleaner\")\n",
    "    s = s.replace(\"fiberglasss\",\"fiberglass\")\n",
    "    s = s.replace(\"paccage\",\"package\")\n",
    "    s = s.replace(\"garagee\",\"garage\")\n",
    "    s = s.replace(\"collegege\",\"college\")\n",
    "    s = s.replace(\"whiteplywood\",\"white plywood\")\n",
    "    s = s.replace(\"beadboard\",\"breadboard\")\n",
    "    s = s.replace(\"porcelaine\",\"porcelain\")\n",
    "    s = s.replace(\"treatedd\",\"treated\")\n",
    "    s = s.replace(\"cedarsafe\",\"cedar safe\")\n",
    "    s = s.replace(\"plywooden\",\"plywood\")\n",
    "    s = s.replace(\"sundstrom\",\"sandstorm\")\n",
    "    s = s.replace(\"sprkinler\",\"sprinkler\")\n",
    "    s = s.replace(\"sinktop\",\"sink top\")\n",
    "    s = s.replace(\"ourdoor\",\"outdoor\")\n",
    "    s = s.replace(\"ultratouch\",\"ultra touch\")\n",
    "    s = s.replace(\"decoart\",\"deco art\")\n",
    "    s = s.replace(\"outdoorlounge\",\"outdoor lounge\")\n",
    "    s = s.replace(\"outdoorfurniture\",\"outdoor furniture\")\n",
    "    s = s.replace(\"pricepfister\",\"pfister\")\n",
    "    s = s.replace(\"glaciar\",\"glacier\")\n",
    "    s = s.replace(\"glacie\",\"glacier\")\n",
    "    s = s.replace(\"tiolet\",\"toilet\")\n",
    "    s = s.replace(\"handycap\",\"handicap\")\n",
    "    s = s.replace(\"wayer\",\"water\")\n",
    "    s = s.replace(\"undercounter\",\"under counter\")\n",
    "    s = s.replace(\"basemetnt\",\"basement\")\n",
    "    s = s.replace(\"rustollum\",\"rustoleum\")\n",
    "    s = s.replace(\"heaterconditioner\",\"air conditioner\")\n",
    "    s = s.replace(\"spliter\",\"splitter\")\n",
    "    s = s.replace(\"berh\",\"behr\")\n",
    "    s = s.replace(\"snow thower\",\"snow blower\")\n",
    "    s = s.replace(\"powertool\",\"power tool\")\n",
    "    s = s.replace(\"repir\",\"repair\")\n",
    "    s = s.replace(\"condtioners\",\"conditioners\")\n",
    "    s = s.replace(\"pannels\",\"panels\")\n",
    "    s = s.replace(\"frostking\",\"frost king\")\n",
    "    s = s.replace(\"flourescent\",\"fluorescent\")\n",
    "    s = s.replace(\"closetmade\",\"closetmaid\")\n",
    "    s = s.replace(\"repir\",\"repair\")\n",
    "    s = s.replace(\"greecianmarble\",\"grecian marble\")\n",
    "    s = s.replace(\"porcelin\",\"porcelain\")\n",
    "    s = s.replace(\"flushmount\",\"flush mount\")\n",
    "    s = s.replace(\"foof\",\"foot\")\n",
    "    s = s.replace(\"incide\",\"inside\")\n",
    "    s = s.replace(\"pedistal\",\"pedestal\")\n",
    "    s = s.replace(\"miricale\",\"miracle\")\n",
    "    s = s.replace(\"windos\",\"windows\")\n",
    "    s = s.replace(\"closetmaid\",\"closet maid\")\n",
    "    s = s.replace(\"aspiradora\",\"aspirator\")\n",
    "    s = s.replace(\"bentgrass\",\"bentgrass\")\n",
    "    s = s.replace(\"hindges\",\"hinges\")\n",
    "    s = s.replace(\"hieght\",\"height\")\n",
    "    s = s.replace(\"clab\",\"clay\")\n",
    "    s = s.replace(\"procelian\",\"porcelain\")\n",
    "    s = s.replace(\"wonderboard\",\"wonder board\")\n",
    "    s = s.replace(\"backerboard\",\"backer board\")\n",
    "    s = s.replace(\"flatbraces\",\"flat braces\")\n",
    "    s = s.replace(\"cieling\",\"ceiling\")\n",
    "    s = s.replace(\"ceadar\",\"cedar\")\n",
    "    s = s.replace(\"cedart\",\"cedar\")\n",
    "    s = s.replace(\"frontload\",\"front load\")\n",
    "    s = s.replace(\"stcking\",\"sticking\")\n",
    "    s = s.replace(\"barreir\",\"barrier\")\n",
    "    s = s.replace(\"ajustable\",\"adjustable\")\n",
    "    s = s.replace(\"sinnk\",\"sink\")\n",
    "    s = s.replace(\"pedelal\",\"pedestal\")\n",
    "    s = s.replace(\"undermount\",\"under mounted\")\n",
    "    s = s.replace(\"suppll\",\"supple\")\n",
    "    s = s.replace(\"conditionerionar\",\"conditioner\")\n",
    "    s = s.replace(\"vynal\",\"vinyl\")\n",
    "    s = s.replace(\"aluminun\",\"aluminum\")\n",
    "    s = s.replace(\"installbay\",\"install bay\")\n",
    "    s = s.replace(\"cermic\",\"ceramic\")\n",
    "    s = s.replace(\"plastice\",\"plastic\")\n",
    "    s = s.replace(\"wattsolar\",\"watt solar\")\n",
    "    s = s.replace(\"glaciar\",\"glacier\")\n",
    "    s = s.replace(\"toliet\",\"toilet\")\n",
    "    s = s.replace(\"garageescape\",\"garage escape\")\n",
    "    s = s.replace(\"alumanam\",\"aluminum\")\n",
    "    s = s.replace(\"treate\",\"treated\")\n",
    "    s = s.replace(\"weathershield\",\"weather shield\")\n",
    "    s = s.replace(\"conditionerioners\",\"conditioner\")\n",
    "    s = s.replace(\"heaterconditioner\",\"conditioner\")\n",
    "    s = s.replace(\"vbration\",\"vibration\")\n",
    "    s = s.replace(\"fencde\",\"fence\")\n",
    "    s = s.replace(\"knoty\",\"knotty\")\n",
    "    s = s.replace(\"untility\",\"utility\")\n",
    "    s = s.replace(\"christmass\",\"christmas\")\n",
    "    s = s.replace(\"garlend\",\"garland\")\n",
    "    s = s.replace(\"ceilig\",\"ceiling\")\n",
    "    s = s.replace(\"glaciar\",\"glacier\")\n",
    "    s = s.replace(\"dcanvas\",\"canvas\")\n",
    "    s = s.replace(\"vaccum\",\"vacuum\")\n",
    "    s = s.replace(\"garge\",\"garage\")\n",
    "    s = s.replace(\"ridiing\",\"riding\")\n",
    "    s = s.replace(\"barreir\",\"barrier\")\n",
    "    s = s.replace(\"keorsene\",\"kerosene\")\n",
    "    s = s.replace(\"lanterun\",\"lantern\")\n",
    "    s = s.replace(\"infered\",\"infrared\")\n",
    "    s = s.replace(\"hardiboard\",\"hardboard\")\n",
    "    s = s.replace(\"keorsene\",\"kerosene\")\n",
    "    s = s.replace(\"sinnk\",\"sink\")\n",
    "    s = s.replace(\"pedelal\",\"pedaled\")\n",
    "    s = s.replace(\"hindged\",\"hinged\")\n",
    "    s = s.replace(\"bateries\",\"batteries\")\n",
    "    s = s.replace(\"undercabinet\",\"under cabinet\")\n",
    "    s = s.replace(\"ceilig\",\"ceiling\")\n",
    "    s = s.replace(\"extention\",\"extension\")\n",
    "    s = s.replace(\"firepits\",\"fire pit\")\n",
    "    s = s.replace(\"edsel\",\"edsal\")\n",
    "    s = s.replace(\"aire acondicionado\",\"air conditioner\")\n",
    "    s = s.replace(\"linoliuml\",\"linoleum\")\n",
    "    s = s.replace(\"hagchet\",\"hatchet\")\n",
    "    s = s.replace(\"steele\",\"steel\")\n",
    "    s = s.replace(\"dimable\",\"dimmable\")\n",
    "    s = s.replace(\"lithum\",\"lithium\")\n",
    "    s = s.replace(\"rayoby\",\"ryobi\")\n",
    "    s = s.replace(\"washerparts\",\"washer kit\")\n",
    "    s = s.replace(\"lituim\",\"lithium\")\n",
    "    s = s.replace(\"naturlas\",\"naturals\")\n",
    "    s = s.replace(\"softners\",\"softener\")\n",
    "    s = s.replace(\"doorsmoocher\",\"doors moocher\")\n",
    "    s = s.replace(\"sofn\",\"soft\")\n",
    "    s = s.replace(\"scaleblaster\",\"scale blaster\")\n",
    "    s = s.replace(\"pressue\",\"pressure\")\n",
    "    s = s.replace(\"paito\",\"patio\")\n",
    "    s = s.replace(\"mandare\",\"mandara\")\n",
    "    s = s.replace(\"scod\",\"cod\")\n",
    "    s = s.replace(\"ddummy\",\"dummy\")\n",
    "    s = s.replace(\"florcant\",\"floor cant\")\n",
    "    s = s.replace(\"prunning\",\"pruning\")\n",
    "    s = s.replace(\"enrty\",\"enrty\")\n",
    "    s = s.replace(\"outdoorfurniture\",\"outdoor furniture\")\n",
    "    s = s.replace(\"handtools\",\"hand tools\")\n",
    "    s = s.replace(\"treate\",\"treated\")\n",
    "    s = s.replace(\"wheelbarow\",\"wheelbarrow\")\n",
    "    s = s.replace(\"hhigh\",\"high\")\n",
    "    s = s.replace(\"accordian\",\"accordion\")\n",
    "    s = s.replace(\"preature\",\"pressure\")\n",
    "    s = s.replace(\"steqamers\",\"steamers\")\n",
    "    s = s.replace(\"onda pressure\",\"honda pressure\")\n",
    "    s = s.replace(\"insallation\",\"insulation\")\n",
    "    s = s.replace(\"contracor\",\"multi color\")\n",
    "    s = s.replace(\"stell\",\"steel\")\n",
    "    s = s.replace(\"sjhelf\",\"shelf\")\n",
    "    s = s.replace(\"ridiing\",\"riding\")\n",
    "    s = s.replace(\"drils\",\"drills\")\n",
    "    s = s.replace(\"planel\",\"panel\")\n",
    "    s = s.replace(\"robi\",\"ryobi\")\n",
    "    s = s.replace(\"swivrl\",\"swirl\")\n",
    "    s = s.replace(\"enrty\",\"entry\")\n",
    "    s = s.replace(\"paneks\",\"panels\")\n",
    "    s = s.replace(\"floo shets\",\"flooring sheets\")\n",
    "    s = s.replace(\"gazhose\",\"gas hose\")\n",
    "    s = s.replace(\"artifical\",\"artifical\")\n",
    "    s = s.replace(\"insullation\",\"insulation\")\n",
    "    s = s.replace(\"peper\",\"peper\")\n",
    "    s = s.replace(\"extention\",\"extension\")\n",
    "    s = s.replace(\"insulaion\",\"insulation\")\n",
    "    s = s.replace(\"insullation\",\"insulation\")\n",
    "    s = s.replace(\"unsulation\",\"insulation\")\n",
    "    s = s.replace(\"upholstry\",\"upholstery\")\n",
    "    s = s.replace(\"medicien\",\"medicine\")\n",
    "    s = s.replace(\"floorinh\",\"flooring\")\n",
    "    s = s.replace(\"heavyduty\",\"heavy duty\")\n",
    "    s = s.replace(\"hardsware\",\"hardware\")\n",
    "    s = s.replace(\"traiter\",\"trailer\")\n",
    "    s = s.replace(\"bathroon\",\"bathroom\")\n",
    "    s = s.replace(\"tsnkless\",\"tankless\")\n",
    "    s = s.replace(\"shoplight\",\"shop light\")\n",
    "    s = s.replace(\"consertrated\",\"concentrated\")\n",
    "    s = s.replace(\"zeroturn\",\"zero turn\")\n",
    "    s = s.replace(\"vynik\",\"vinyl\")\n",
    "    s = s.replace(\"aircondiioner\",\"air conditioner\")\n",
    "    s = s.replace(\"plexy glass\",\"plastic sheet\")\n",
    "    s = s.replace(\"accesory\",\"accessory\")\n",
    "    s = s.replace(\"koolaroo\",\"coolaroo\")\n",
    "    s = s.replace(\"uplihght\",\"uplight\")\n",
    "    s = s.replace(\"edsel\",\"edsal\")\n",
    "    s = s.replace(\"outdooor\",\"outdoor\")\n",
    "    s = s.replace(\"pivotangle\",\"pivot angle\")\n",
    "    s = s.replace(\"plasticl\",\"plastic\")\n",
    "    s = s.replace(\"varigated\",\"variegated\")\n",
    "    s = s.replace(\"basemetnt\",\"basement\")\n",
    "    s = s.replace(\"cornor\",\"corner\")\n",
    "    s = s.replace(\"plaers\",\"pliers\")\n",
    "    s = s.replace(\"soundfroofing\",\"roofing underlayment\")\n",
    "    s = s.replace(\"storeage\",\"storage\")\n",
    "    s = s.replace(\"fountin\",\"fountain\")\n",
    "    s = s.replace(\"extention\",\"extension\")\n",
    "    s = s.replace(\"polyeurethane\",\"polyurethane\")\n",
    "    s = s.replace(\"plastice\",\"plastic\")\n",
    "    s = s.replace(\"tilees\",\"tiles\")\n",
    "    s = s.replace(\"byefold\",\"bi fold\")\n",
    "    s = s.replace(\"whirpool\",\"whirlpool\")\n",
    "    s = s.replace(\"diining\",\"dining\")\n",
    "    s = s.replace(\"connnector\",\"connector\")\n",
    "    s = s.replace(\"woodebn\",\"wooden\")\n",
    "    s = s.replace(\"celliling\",\"ceiling\")\n",
    "    s = s.replace(\"waterroo\",\"water roof\")\n",
    "    s = s.replace(\"sofn\",\"softener\")\n",
    "    s = s.replace(\"softners\",\"softener\")\n",
    "    s = s.replace(\"shoipping\",\"shopping\")\n",
    "    s = s.replace(\"trollie\",\"trolly\")\n",
    "    s = s.replace(\"shoplight\",\"shop light\")\n",
    "    s = s.replace(\"diining\",\"dining\")\n",
    "    s = s.replace(\"elongagated\",\"elongated\")\n",
    "    s = s.replace(\"sjhelf\",\"shelf\")\n",
    "    s = s.replace(\"polycarbonite\",\"polycarbonate\")\n",
    "    s = s.replace(\"koolaroo\",\"coolaroo\")\n",
    "    s = s.replace(\"galvinized\",\"galvanized\")\n",
    "    s = s.replace(\"bakewarte\",\"bakeware\")\n",
    "    s = s.replace(\"kennal\",\"kennel\")\n",
    "    s = s.replace(\"elongagated\",\"elongated\")\n",
    "    s = s.replace(\"tolet\",\"toilet\")\n",
    "    s = s.replace(\"aspiradora\",\"vacuum\")\n",
    "    s = s.replace(\"aluminium\",\"aluminum\")\n",
    "    s = s.replace(\"laminet\",\"laminate\")\n",
    "    s = s.replace(\"elecronic\",\"electronic\")\n",
    "    s = s.replace(\"dedwalt\",\"dewalt\")\n",
    "    s = s.replace(\"vaccuum\",\"vacuum\")\n",
    "    s = s.replace(\"diining\",\"dining\")\n",
    "    s = s.replace(\"insided\",\"inside\")\n",
    "    s = s.replace(\"towbehind\",\"tow behind\")\n",
    "    s = s.replace(\"kidie\",\"kidde\")\n",
    "    s = s.replace(\"batterys\",\"battery\")\n",
    "    s = s.replace(\"nutru\",\"nutri\")\n",
    "    s = s.replace(\"kitchenfaucet\",\"kitchen faucet\")\n",
    "    s = s.replace(\"kitcheen\",\"kitchen\")\n",
    "\n",
    "    s = s.replace(\"whirpool\", \"whirlpool\")\n",
    "    s = s.replace(\"whirlpoolga\", \"whirlpool\")\n",
    "    s = s.replace(\"whirlpoolstainless\", \"whirlpool stainless\")\n",
    "    \n",
    "    # some title edits END?\n",
    "    s = s.replace(\"&#39;s\",\" \")\n",
    "\n",
    "    s = s.replace(\"  \",\" \")\n",
    "    s = s.replace(\",\",\"\") #could be number / segment later?\n",
    "    s = s.replace(\"$\",\" \")\n",
    "    s = s.replace(\"+\",\" plus \")\n",
    "    s = s.replace(\";\",\" \")\n",
    "    s = s.replace(\":\",\" \")\n",
    "    s = s.replace(\"&amp;\",\" \")\n",
    "    s = s.replace(\"&amp\",\" \")\n",
    "    s = s.replace(\"?\",\" \")\n",
    "    s = s.replace(\"-\",\" \")\n",
    "    s = s.replace(\"#\",\" \")\n",
    "    s = s.replace(\"(\",\" \")\n",
    "    s = s.replace(\")\",\" \")\n",
    "    s = s.replace(\"//\",\"/\")\n",
    "    s = s.replace(\"..\",\".\")\n",
    "    s = s.replace(\" / \",\" ovr \")\n",
    "    s = s.replace(\" \\\\ \",\" \")\n",
    "    s = s.replace(\".\",\" . \")\n",
    "\n",
    "    s = re.sub(r\"(^\\.|/)\", r\" \", s)\n",
    "    s = re.sub(r\"(\\.|/)$\", r\" \", s)\n",
    "    s = re.sub(r\"([0-9])([a-z])\", r\"\\1 \\2\", s)\n",
    "    s = re.sub(r\"([a-z])([0-9])\", r\"\\1 \\2\", s)\n",
    "    s = re.sub(r\"([a-z])( *)\\.( *)([a-z])\", r\"\\1 \\4\", s)\n",
    "    s = re.sub(r\"([a-z])( *)/( *)([a-z])\", r\"\\1 \\4\", s)\n",
    "\n",
    "    s = re.sub(r\"([0-9])( *)\\.( *)([0-9])\", r\"\\1.\\4\", s)\n",
    "    s = re.sub(r\"([0-9]+)( *)(inches|inch|in|')\\.?\", r\"\\1in \", s)\n",
    "    s = re.sub(r\"([0-9]+)( *)(foot|feet|ft|'')\\.?\", r\"\\1ft \", s)\n",
    "    s = re.sub(r\"([0-9]+)( *)(pounds|pound|lbs|lb)\\.?\", r\"\\1lb \", s)\n",
    "    s = re.sub(r\"([0-9]+)( *)(square|sq)\\.?\", r\"\\1sq \", s)\n",
    "    s = re.sub(r\"([0-9]+)( *)(cubic|cu)\\.?\", r\"\\1cu \", s)\n",
    "    s = re.sub(r\"([0-9]+)( *)(gallons|gallon|gal)\\.?\", r\"\\1gal \", s)\n",
    "    s = re.sub(r\"([0-9]+)( *)(ounces|ounce|oz)\\.?\", r\"\\1oz \", s)\n",
    "    s = re.sub(r\"([0-9]+)( *)(centimeters|cm)\\.?\", r\"\\1cm \", s)\n",
    "    s = re.sub(r\"([0-9]+)( *)(milimeters|mm)\\.?\", r\"\\1mm \", s)\n",
    "    s = re.sub(r\"([0-9]+)( *)(degrees|degree)\\.?\", r\"\\1deg \", s)\n",
    "    s = re.sub(r\"([0-9]+)( *)(volts|volt|v)\\.?\", r\"\\1volt \", s)\n",
    "    s = re.sub(r\"([0-9]+)( *)(watts|watt|w)\\.?\", r\"\\1watt \", s)\n",
    "    s = re.sub(r\"([0-9]+)( *)(amperes|ampere|amps|amp)\\.?\", r\"\\1amp \", s)\n",
    "\n",
    "    s = s.replace(\" x \", \" xby \")\n",
    "    s = s.replace(\"*\", \" xby \")\n",
    "    s = s.replace(\" by \", \" xby\")\n",
    "    s = s.replace(\"x0\", \" xby 0\")\n",
    "    s = s.replace(\"x1\", \" xby 1\")\n",
    "    s = s.replace(\"x2\", \" xby 2\")\n",
    "    s = s.replace(\"x3\", \" xby 3\")\n",
    "    s = s.replace(\"x4\", \" xby 4\")\n",
    "    s = s.replace(\"x5\", \" xby 5\")\n",
    "    s = s.replace(\"x6\", \" xby 6\")\n",
    "    s = s.replace(\"x7\", \" xby 7\")\n",
    "    s = s.replace(\"x8\", \" xby 8\")\n",
    "    s = s.replace(\"x9\", \" xby 9\")\n",
    "    s = s.replace(\"0x\", \"0 xby \")\n",
    "    s = s.replace(\"1x\", \"1 xby \")\n",
    "    s = s.replace(\"2x\", \"2 xby \")\n",
    "    s = s.replace(\"3x\", \"3 xby \")\n",
    "    s = s.replace(\"4x\", \"4 xby \")\n",
    "    s = s.replace(\"5x\", \"5 xby \")\n",
    "    s = s.replace(\"6x\", \"6 xby \")\n",
    "    s = s.replace(\"7x\", \"7 xby \")\n",
    "    s = s.replace(\"8x\", \"8 xby \")\n",
    "    s = s.replace(\"9x\", \"9 xby \")\n",
    "\n",
    "    s = s.replace(\"&\",\" \")\n",
    "    s = s.replace(\"'\",\" \")\n",
    "    s = s.replace(\"  \",\" \")\n",
    "    s = s.replace(\" . \",\" \")\n",
    "\n",
    "    s = unidecode(s.lower())\n",
    "    return [stemmer.stem(z) for z in s.split(\" \")]"
   ]
  },
  {
   "cell_type": "code",
   "execution_count": 54,
   "metadata": {
    "collapsed": true
   },
   "outputs": [],
   "source": [
    "def str_common_word(list1, list2):\n",
    "    str1 = ' '.join(list1)\n",
    "    str2 = ' '.join(list2)\n",
    "    words, cnt = str1.split(), 0\n",
    "    for word in words:\n",
    "        if str2.find(word)>=0:\n",
    "            cnt += 1\n",
    "    return cnt\n",
    "\n",
    "def str_whole_word(list1, list2, i_=0):\n",
    "    cnt = 0\n",
    "    str1 = ' '.join(list1)\n",
    "    str2 = ' '.join(list2)\n",
    "    while i_ < len(str2):\n",
    "        i_ = str2.find(str1, i_)\n",
    "        if i_ == -1:\n",
    "            return cnt\n",
    "        else:\n",
    "            cnt += 1\n",
    "            i_ += len(str1)\n",
    "    return cnt"
   ]
  },
  {
   "cell_type": "code",
   "execution_count": 89,
   "metadata": {
    "collapsed": false
   },
   "outputs": [
    {
     "name": "stdout",
     "output_type": "stream",
     "text": [
      "took 817.60057s.\n"
     ]
    }
   ],
   "source": [
    "t0 = time()\n",
    "\n",
    "df_all['search_term'] = df_all['search_term'].apply(str_stem)\n",
    "df_all['product_title'] = df_all['product_title'].apply(str_stem)\n",
    "df_all['product_description'] = df_all['product_description'].apply(str_stem)\n",
    "df_all['brand_text'] = df_all['brand'].apply(str_stem)\n",
    "\n",
    "print 'took %0.5fs.' % (time() - t0)"
   ]
  },
  {
   "cell_type": "code",
   "execution_count": 91,
   "metadata": {
    "collapsed": false
   },
   "outputs": [
    {
     "name": "stdout",
     "output_type": "stream",
     "text": [
      "took 0.19057s.\n"
     ]
    }
   ],
   "source": [
    "t0 = time()\n",
    "\n",
    "\n",
    "df_all['len_of_query'] = df_all['search_term'].apply(len)\n",
    "df_all['len_of_title'] = df_all['product_title'].apply(len)\n",
    "df_all['len_of_description'] = df_all['product_description'].apply(len)\n",
    "df_all['len_of_brand'] = df_all['brand_text'].apply(len)\n",
    "\n",
    "print 'took %0.5fs.' % (time() - t0)"
   ]
  },
  {
   "cell_type": "code",
   "execution_count": 92,
   "metadata": {
    "collapsed": false
   },
   "outputs": [
    {
     "name": "stdout",
     "output_type": "stream",
     "text": [
      "took 46.80548s.\n"
     ]
    }
   ],
   "source": [
    "t0 = time()\n",
    "\n",
    "\n",
    "df_all['query_in_title'] = \\\n",
    "        df_all.apply(lambda row: str_whole_word(row.search_term, row.product_title), axis=1)\n",
    "df_all['query_in_description'] = \\\n",
    "        df_all.apply(lambda row: str_whole_word(row.search_term, row.product_description), axis=1)\n",
    "\n",
    "df_all['word_in_title'] = \\\n",
    "        df_all.apply(lambda row: str_common_word(row.search_term, row.product_title), axis=1)\n",
    "df_all['word_in_description'] = \\\n",
    "        df_all.apply(lambda row: str_common_word(row.search_term, row.product_description), axis=1)\n",
    "df_all['word_in_brand'] = \\\n",
    "        df_all.apply(lambda row: str_common_word(row.search_term, row.brand_text), axis=1)\n",
    "\n",
    "df_all['ratio_title'] = df_all['word_in_title'] / df_all['len_of_query']\n",
    "df_all['ratio_description'] = df_all['word_in_description'] / df_all['len_of_query']\n",
    "\n",
    "print 'took %0.5fs.' % (time() - t0)"
   ]
  },
  {
   "cell_type": "code",
   "execution_count": 93,
   "metadata": {
    "collapsed": false
   },
   "outputs": [
    {
     "data": {
      "text/plain": [
       "0"
      ]
     },
     "execution_count": 93,
     "metadata": {},
     "output_type": "execute_result"
    }
   ],
   "source": [
    "df_all['ratio_brand'] = df_all['word_in_brand'] / df_all['len_of_brand'] \n",
    "df_all.loc[df_all.ratio_brand.isnull(), 'ratio_brand'] = 0.0\n",
    "df_all.ratio_brand.isnull().sum()"
   ]
  },
  {
   "cell_type": "code",
   "execution_count": 94,
   "metadata": {
    "collapsed": false
   },
   "outputs": [
    {
     "name": "stderr",
     "output_type": "stream",
     "text": [
      "/home/agrigorev/anaconda2/lib/python2.7/site-packages/numpy/lib/arraysetops.py:200: FutureWarning: numpy not_equal will not check object identity in the future. The comparison did not return the same result as suggested by the identity (`is`)) and will change.\n",
      "  flag = np.concatenate(([True], aux[1:] != aux[:-1]))\n"
     ]
    }
   ],
   "source": [
    "df_all.brand = LabelEncoder().fit_transform(df_all.brand)\n"
   ]
  },
  {
   "cell_type": "code",
   "execution_count": 95,
   "metadata": {
    "collapsed": false
   },
   "outputs": [],
   "source": [
    "df_all['search_term_length'] = df_all['search_term'].map(lambda x: len(' '.join(x)))"
   ]
  },
  {
   "cell_type": "code",
   "execution_count": 102,
   "metadata": {
    "collapsed": true
   },
   "outputs": [],
   "source": [
    "def fmean_squared_error(ground_truth, predictions):\n",
    "    fmean_squared_error_ = mean_squared_error(ground_truth, predictions)**0.5\n",
    "    return fmean_squared_error_\n",
    "\n",
    "RMSE  = make_scorer(fmean_squared_error, greater_is_better=False)"
   ]
  },
  {
   "cell_type": "code",
   "execution_count": 103,
   "metadata": {
    "collapsed": false,
    "scrolled": true
   },
   "outputs": [],
   "source": [
    "def identity_analyzer(l): return l"
   ]
  },
  {
   "cell_type": "code",
   "execution_count": 131,
   "metadata": {
    "collapsed": false
   },
   "outputs": [],
   "source": [
    "term_vec = TfidfVectorizer(analyzer=identity_analyzer)\n",
    "X_terms = term_vec.fit_transform(df_all.search_term)\n",
    "\n",
    "term_svd = TruncatedSVD(n_components=25, random_state=2016)\n",
    "X_terms = term_svd.fit_transform(X_terms)"
   ]
  },
  {
   "cell_type": "code",
   "execution_count": 132,
   "metadata": {
    "collapsed": true
   },
   "outputs": [],
   "source": [
    "prod_title_vec = TfidfVectorizer(analyzer=identity_analyzer)\n",
    "X_prod_title = term_vec.fit_transform(df_all.product_title)\n",
    "\n",
    "prod_title_svd = TruncatedSVD(n_components=25, random_state=2016)\n",
    "X_prod_title = prod_title_svd.fit_transform(X_prod_title)"
   ]
  },
  {
   "cell_type": "code",
   "execution_count": 134,
   "metadata": {
    "collapsed": false
   },
   "outputs": [],
   "source": [
    "prod_desc_vec = TfidfVectorizer(analyzer=identity_analyzer)\n",
    "X_prod_desc = term_vec.fit_transform(df_all.product_description)\n",
    "\n",
    "prod_desc_svd = TruncatedSVD(n_components=25, random_state=2016)\n",
    "X_prod_desc = prod_desc_svd.fit_transform(X_prod_desc)"
   ]
  },
  {
   "cell_type": "code",
   "execution_count": 135,
   "metadata": {
    "collapsed": true
   },
   "outputs": [],
   "source": [
    "brand_vec = TfidfVectorizer(analyzer=identity_analyzer)\n",
    "X_brand = term_vec.fit_transform(df_all.brand_text)\n",
    "\n",
    "brand_svd = TruncatedSVD(n_components=25, random_state=2016)\n",
    "X_brand = brand_svd.fit_transform(X_brand)"
   ]
  },
  {
   "cell_type": "code",
   "execution_count": null,
   "metadata": {
    "collapsed": false
   },
   "outputs": [],
   "source": [
    "product_desc = df_all.product_title + df_all.product_description + df_all.brand_text\n",
    "queries = df_all.search_term\n",
    "\n",
    "all_text = pd.concat((product_desc, queries))"
   ]
  },
  {
   "cell_type": "code",
   "execution_count": 121,
   "metadata": {
    "collapsed": false
   },
   "outputs": [
    {
     "data": {
      "text/plain": [
       "TruncatedSVD(algorithm='randomized', n_components=70, n_iter=5,\n",
       "       random_state=2016, tol=0.0)"
      ]
     },
     "execution_count": 121,
     "metadata": {},
     "output_type": "execute_result"
    }
   ],
   "source": [
    "all_vectorizer = TfidfVectorizer(analyzer=identity_analyzer)\n",
    "\n",
    "all_text_svd = TruncatedSVD(n_components=70, random_state=2016)\n",
    "all_text_svd.fit(all_vectorizer.fit_transform(all_text))"
   ]
  },
  {
   "cell_type": "code",
   "execution_count": 124,
   "metadata": {
    "collapsed": true
   },
   "outputs": [],
   "source": [
    "product_lsa = all_text_svd.transform(all_vectorizer.transform(product_desc))\n",
    "queries_lsa = all_text_svd.transform(all_vectorizer.transform(queries))\n",
    "\n",
    "lsa_similarity = np.sum(product_lsa * queries_lsa, axis=1)"
   ]
  },
  {
   "cell_type": "code",
   "execution_count": 126,
   "metadata": {
    "collapsed": true
   },
   "outputs": [],
   "source": [
    "columns = ['brand', 'len_of_query', 'len_of_title', 'len_of_description', 'len_of_brand',\n",
    "           'query_in_title', 'query_in_description', \n",
    "           'word_in_title', 'word_in_description', 'word_in_brand',\n",
    "           'ratio_title', 'ratio_description', 'ratio_brand',\n",
    "           'search_term_length']"
   ]
  },
  {
   "cell_type": "code",
   "execution_count": 139,
   "metadata": {
    "collapsed": false
   },
   "outputs": [
    {
     "data": {
      "text/plain": [
       "(240760, 90)"
      ]
     },
     "execution_count": 139,
     "metadata": {},
     "output_type": "execute_result"
    }
   ],
   "source": [
    "X_all = np.hstack([df_all[columns].values, X_terms, X_prod_desc, X_brand, lsa_similarity.reshape(-1, 1)])\n",
    "X_all.shape"
   ]
  },
  {
   "cell_type": "code",
   "execution_count": 146,
   "metadata": {
    "collapsed": true
   },
   "outputs": [],
   "source": [
    "X = X_all[:len(df_train)]\n",
    "y = df_train.relevance.values\n",
    "\n",
    "X_test = X_all[len(df_train):]"
   ]
  },
  {
   "cell_type": "code",
   "execution_count": 156,
   "metadata": {
    "collapsed": false
   },
   "outputs": [],
   "source": [
    "train_len = int(len(df_train) * 0.885)\n",
    "counts = df_train[:train_len].groupby(['product_uid']).count()[['id']]\n",
    "\n",
    "counts = counts[counts['id'] > 1]\n",
    "counts = counts.add_suffix('_Count').reset_index()\n",
    "valid_product_uids = set(counts['product_uid'].values)\n",
    "\n",
    "inds = []\n",
    "\n",
    "allowed_uids = df_train.loc[df_train['product_uid'].isin(valid_product_uids)]\n",
    "# For now, always grab first row of valid product uid.\n",
    "lastUid = 0\n",
    "\n",
    "for idx, mrow in allowed_uids.iterrows():\n",
    "    if lastUid == mrow['product_uid']:\n",
    "        continue\n",
    "\n",
    "    lastUid = mrow['product_uid']\n",
    "    inds.append(idx)\n",
    "\n",
    "validation_idx = np.array(inds + list(df_train[train_len:].index.values))\n",
    "train_idx = np.array(df_train.loc[~df_train.index.isin(validation_idx)].index.values)"
   ]
  },
  {
   "cell_type": "code",
   "execution_count": 160,
   "metadata": {
    "collapsed": true
   },
   "outputs": [],
   "source": [
    "X_train = X[train_idx]\n",
    "y_train = y[train_idx]\n",
    "X_val = X[validation_idx]\n",
    "y_val = y[validation_idx]"
   ]
  },
  {
   "cell_type": "code",
   "execution_count": 164,
   "metadata": {
    "collapsed": true
   },
   "outputs": [],
   "source": [
    "from sklearn.cross_validation import ShuffleSplit, KFold"
   ]
  },
  {
   "cell_type": "code",
   "execution_count": 167,
   "metadata": {
    "collapsed": false
   },
   "outputs": [
    {
     "name": "stderr",
     "output_type": "stream",
     "text": [
      "[Parallel(n_jobs=-1)]: Done  34 tasks      | elapsed:    2.9s\n",
      "[Parallel(n_jobs=-1)]: Done 184 tasks      | elapsed:   13.6s\n",
      "[Parallel(n_jobs=-1)]: Done 434 tasks      | elapsed:   31.8s\n",
      "[Parallel(n_jobs=-1)]: Done 500 out of 500 | elapsed:   36.6s finished\n",
      "[Parallel(n_jobs=8)]: Done  34 tasks      | elapsed:    0.0s\n",
      "[Parallel(n_jobs=8)]: Done 184 tasks      | elapsed:    0.1s\n",
      "[Parallel(n_jobs=8)]: Done 434 tasks      | elapsed:    0.3s\n",
      "[Parallel(n_jobs=8)]: Done 500 out of 500 | elapsed:    0.3s finished\n"
     ]
    },
    {
     "name": "stdout",
     "output_type": "stream",
     "text": [
      "0.45655760404\n"
     ]
    },
    {
     "name": "stderr",
     "output_type": "stream",
     "text": [
      "[Parallel(n_jobs=-1)]: Done  34 tasks      | elapsed:    2.9s\n",
      "[Parallel(n_jobs=-1)]: Done 184 tasks      | elapsed:   13.8s\n",
      "[Parallel(n_jobs=-1)]: Done 434 tasks      | elapsed:   31.8s\n",
      "[Parallel(n_jobs=-1)]: Done 500 out of 500 | elapsed:   36.5s finished\n",
      "[Parallel(n_jobs=8)]: Done  34 tasks      | elapsed:    0.0s\n",
      "[Parallel(n_jobs=8)]: Done 184 tasks      | elapsed:    0.1s\n",
      "[Parallel(n_jobs=8)]: Done 434 tasks      | elapsed:    0.3s\n",
      "[Parallel(n_jobs=8)]: Done 500 out of 500 | elapsed:    0.3s finished\n"
     ]
    },
    {
     "name": "stdout",
     "output_type": "stream",
     "text": [
      "0.457425275563\n"
     ]
    },
    {
     "name": "stderr",
     "output_type": "stream",
     "text": [
      "[Parallel(n_jobs=-1)]: Done  34 tasks      | elapsed:    2.9s\n",
      "[Parallel(n_jobs=-1)]: Done 184 tasks      | elapsed:   13.7s\n",
      "[Parallel(n_jobs=-1)]: Done 434 tasks      | elapsed:   32.0s\n",
      "[Parallel(n_jobs=-1)]: Done 500 out of 500 | elapsed:   36.7s finished\n",
      "[Parallel(n_jobs=8)]: Done  34 tasks      | elapsed:    0.0s\n",
      "[Parallel(n_jobs=8)]: Done 184 tasks      | elapsed:    0.1s\n",
      "[Parallel(n_jobs=8)]: Done 434 tasks      | elapsed:    0.3s\n",
      "[Parallel(n_jobs=8)]: Done 500 out of 500 | elapsed:    0.3s finished\n"
     ]
    },
    {
     "name": "stdout",
     "output_type": "stream",
     "text": [
      "0.453424906627\n"
     ]
    },
    {
     "name": "stderr",
     "output_type": "stream",
     "text": [
      "[Parallel(n_jobs=-1)]: Done  34 tasks      | elapsed:    2.9s\n",
      "[Parallel(n_jobs=-1)]: Done 184 tasks      | elapsed:   13.5s\n",
      "[Parallel(n_jobs=-1)]: Done 434 tasks      | elapsed:   31.7s\n",
      "[Parallel(n_jobs=-1)]: Done 500 out of 500 | elapsed:   36.4s finished\n",
      "[Parallel(n_jobs=8)]: Done  34 tasks      | elapsed:    0.0s\n",
      "[Parallel(n_jobs=8)]: Done 184 tasks      | elapsed:    0.1s\n",
      "[Parallel(n_jobs=8)]: Done 434 tasks      | elapsed:    0.3s\n",
      "[Parallel(n_jobs=8)]: Done 500 out of 500 | elapsed:    0.3s finished\n"
     ]
    },
    {
     "name": "stdout",
     "output_type": "stream",
     "text": [
      "0.451459622042\n"
     ]
    },
    {
     "name": "stderr",
     "output_type": "stream",
     "text": [
      "[Parallel(n_jobs=-1)]: Done  34 tasks      | elapsed:    2.9s\n",
      "[Parallel(n_jobs=-1)]: Done 184 tasks      | elapsed:   13.6s\n",
      "[Parallel(n_jobs=-1)]: Done 434 tasks      | elapsed:   32.0s\n",
      "[Parallel(n_jobs=-1)]: Done 500 out of 500 | elapsed:   36.7s finished\n",
      "[Parallel(n_jobs=8)]: Done  34 tasks      | elapsed:    0.0s\n",
      "[Parallel(n_jobs=8)]: Done 184 tasks      | elapsed:    0.1s\n",
      "[Parallel(n_jobs=8)]: Done 434 tasks      | elapsed:    0.3s\n",
      "[Parallel(n_jobs=8)]: Done 500 out of 500 | elapsed:    0.3s finished\n"
     ]
    },
    {
     "name": "stdout",
     "output_type": "stream",
     "text": [
      "0.453166083572\n"
     ]
    },
    {
     "data": {
      "text/plain": [
       "(0.45440669836897712, 0.0022327786480899722)"
      ]
     },
     "execution_count": 167,
     "metadata": {},
     "output_type": "execute_result"
    }
   ],
   "source": [
    "cv = KFold(n=X.shape[0], n_folds=5, shuffle=True, random_state=0x31337)\n",
    "\n",
    "scores = []\n",
    "for train, test in cv:\n",
    "    rfr = RandomForestRegressor(n_estimators=500, n_jobs=-1, random_state=2016, max_features=10, max_depth=20, \n",
    "                            verbose=1)\n",
    "    \n",
    "    rfr.fit(X[train], y[train])\n",
    "    y_pred = rfr.predict(X[test])\n",
    "    score = fmean_squared_error(y[test], y_pred)\n",
    "    print score\n",
    "    \n",
    "    scores.append(score)\n",
    "\n",
    "np.mean(scores), np.std(scores)"
   ]
  },
  {
   "cell_type": "code",
   "execution_count": 162,
   "metadata": {
    "collapsed": false
   },
   "outputs": [
    {
     "name": "stderr",
     "output_type": "stream",
     "text": [
      "[Parallel(n_jobs=8)]: Done  34 tasks      | elapsed:    0.1s\n",
      "[Parallel(n_jobs=8)]: Done 184 tasks      | elapsed:    0.2s\n",
      "[Parallel(n_jobs=8)]: Done 434 tasks      | elapsed:    0.4s\n",
      "[Parallel(n_jobs=8)]: Done 500 out of 500 | elapsed:    0.4s finished\n"
     ]
    }
   ],
   "source": [
    "y_valid_pred = rfr.predict(X_val)"
   ]
  },
  {
   "cell_type": "code",
   "execution_count": 163,
   "metadata": {
    "collapsed": false
   },
   "outputs": [
    {
     "data": {
      "text/plain": [
       "0.46484409556949735"
      ]
     },
     "execution_count": 163,
     "metadata": {},
     "output_type": "execute_result"
    }
   ],
   "source": [
    "fmean_squared_error(y_val, y_valid_pred)"
   ]
  },
  {
   "cell_type": "code",
   "execution_count": 150,
   "metadata": {
    "collapsed": false
   },
   "outputs": [
    {
     "name": "stderr",
     "output_type": "stream",
     "text": [
      "[Parallel(n_jobs=8)]: Done  34 tasks      | elapsed:    0.3s\n",
      "[Parallel(n_jobs=8)]: Done 184 tasks      | elapsed:    1.3s\n",
      "[Parallel(n_jobs=8)]: Done 434 tasks      | elapsed:    2.9s\n",
      "[Parallel(n_jobs=8)]: Done 500 out of 500 | elapsed:    3.3s finished\n"
     ]
    }
   ],
   "source": [
    "y_score = rfr.predict(X_test)"
   ]
  },
  {
   "cell_type": "code",
   "execution_count": 151,
   "metadata": {
    "collapsed": true
   },
   "outputs": [],
   "source": [
    "res = pd.DataFrame({\"id\": df_test.id, \"relevance\": y_score})\n",
    "res.to_csv('submission.csv', index=False)"
   ]
  },
  {
   "cell_type": "code",
   "execution_count": null,
   "metadata": {
    "collapsed": true
   },
   "outputs": [],
   "source": []
  }
 ],
 "metadata": {
  "kernelspec": {
   "display_name": "Python 2",
   "language": "python",
   "name": "python2"
  },
  "language_info": {
   "codemirror_mode": {
    "name": "ipython",
    "version": 2
   },
   "file_extension": ".py",
   "mimetype": "text/x-python",
   "name": "python",
   "nbconvert_exporter": "python",
   "pygments_lexer": "ipython2",
   "version": "2.7.11"
  }
 },
 "nbformat": 4,
 "nbformat_minor": 0
}
