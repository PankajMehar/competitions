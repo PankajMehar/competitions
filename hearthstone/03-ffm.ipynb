{
 "cells": [
  {
   "cell_type": "code",
   "execution_count": 1,
   "metadata": {
    "collapsed": true
   },
   "outputs": [],
   "source": [
    "import pandas as pd\n",
    "import xgboost as xgb\n",
    "\n",
    "import feather\n",
    "\n",
    "from tqdm import tqdm_notebook as tqdm"
   ]
  },
  {
   "cell_type": "code",
   "execution_count": 2,
   "metadata": {
    "collapsed": false
   },
   "outputs": [],
   "source": [
    "D = 2 ** 20\n",
    "\n",
    "def hash_element(el):\n",
    "    h = hash(el) % D\n",
    "    if h < 0:\n",
    "        h = h + D\n",
    "\n",
    "    return str(h)"
   ]
  },
  {
   "cell_type": "code",
   "execution_count": 3,
   "metadata": {
    "collapsed": true
   },
   "outputs": [],
   "source": [
    "val = True\n",
    "\n",
    "if val:\n",
    "    df_train = feather.read_dataframe('feather/df_train.feather')\n",
    "    df_test = feather.read_dataframe('feather/df_val.feather')\n",
    "    out = 'tmp'\n",
    "else:\n",
    "    df_train = feather.read_dataframe('feather/df_train_all.feather')\n",
    "    df_test = feather.read_dataframe('feather/df_test.feather')\n",
    "    out = 'tmp_test'"
   ]
  },
  {
   "cell_type": "code",
   "execution_count": 4,
   "metadata": {
    "collapsed": false
   },
   "outputs": [],
   "source": [
    "field_mapping = {'turn': 3, 'player': 2, 'opponent': 1}\n",
    "\n",
    "def ffm_row(d):\n",
    "    decision = d.get('decision', 0)\n",
    "\n",
    "    result = []\n",
    "\n",
    "    for k in sorted(d.keys()):\n",
    "        if k == 'decision':\n",
    "            continue\n",
    "\n",
    "        if k == 'turn':\n",
    "            result.append('3:%s:1' % d['turn'])\n",
    "            continue\n",
    "\n",
    "        f, c = k.split('.', maxsplit=1)\n",
    "\n",
    "        feature = hash_element('%s=%s' % (c, d[k]))\n",
    "        field = field_mapping[f]\n",
    "\n",
    "        result.append('%s:%s:1' % (field, feature))\n",
    "\n",
    "    return '%s %s' % (decision, ' '.join(result))"
   ]
  },
  {
   "cell_type": "code",
   "execution_count": 5,
   "metadata": {
    "collapsed": false,
    "scrolled": true
   },
   "outputs": [
    {
     "name": "stdout",
     "output_type": "stream",
     "text": [
      "0 1:546386\n",
      "0 1:546386\n",
      "1 1:546386\n",
      "0 1:546386\n",
      "0 1:546386\n",
      "1 1:546386\n",
      "1 1:102869\n",
      "0 1:546386\n",
      "1 1:546386\n",
      "1 1:102869\n",
      "1 1:546386\n",
      "0 1:546386\n",
      "1 1:546386\n",
      "0 1:546386\n",
      "0 1:546386\n",
      "0 1:546386\n",
      "1 1:546386\n",
      "0 1:546386\n",
      "0 1:546386\n",
      "1 1:546386\n",
      "1 1:546386\n",
      "0 1:546386\n",
      "1 1:546386\n",
      "1 1:546386\n",
      "1 1:546386\n",
      "1 1:546386\n",
      "0 1:546386\n",
      "1 1:546386\n",
      "1 1:546386\n",
      "0 1:546386\n",
      "1 1:546386\n",
      "0 1:546386\n",
      "0 1:546386\n",
      "1 1:935061\n",
      "1 1:546386\n",
      "1 1:546386\n",
      "1 1:546386\n",
      "0 1:102869\n",
      "1 1:546386\n",
      "0 1:546386\n",
      "0 1:546386\n",
      "1 1:546386\n",
      "1 1:546386\n",
      "0 1:546386\n",
      "1 1:546386\n",
      "1 1:546386\n",
      "0 1:546386\n",
      "1 1:546386\n",
      "0 1:50886:\n",
      "1 1:546386\n",
      "0 1:546386\n",
      "0 1:546386\n",
      "0 1:546386\n",
      "1 1:546386\n",
      "1 1:546386\n",
      "0 1:546386\n",
      "0 1:546386\n",
      "1 1:546386\n",
      "1 1:546386\n",
      "1 1:546386\n",
      "0 1:546386\n",
      "1 1:985750\n",
      "1 1:546386\n",
      "1 1:546386\n",
      "0 1:546386\n",
      "0 1:546386\n",
      "1 1:546386\n",
      "0 1:546386\n",
      "0 1:546386\n",
      "1 1:546386\n",
      "0 1:546386\n",
      "0 1:546386\n",
      "1 1:546386\n",
      "0 1:546386\n",
      "0 1:985750\n",
      "0 1:546386\n",
      "1 1:546386\n",
      "0 1:546386\n",
      "1 1:985750\n",
      "1 1:546386\n",
      "1 1:546386\n",
      "1 1:546386\n",
      "0 1:546386\n",
      "0 1:546386\n",
      "0 1:546386\n",
      "1 1:546386\n",
      "0 1:546386\n",
      "0 1:546386\n",
      "0 1:546386\n",
      "0 1:546386\n",
      "0 1:546386\n",
      "1 1:546386\n",
      "0 1:546386\n",
      "0 1:546386\n",
      "0 1:985750\n",
      "0 1:546386\n",
      "1 1:546386\n",
      "0 1:546386\n",
      "1 1:546386\n",
      "1 1:546386\n",
      "\n"
     ]
    }
   ],
   "source": [
    "for _, row in tqdm(df_train.iloc[:100].iterrows()):\n",
    "    res = ffm_row(row.to_dict())\n",
    "    print(res[:10])"
   ]
  },
  {
   "cell_type": "code",
   "execution_count": 6,
   "metadata": {
    "collapsed": false
   },
   "outputs": [
    {
     "name": "stdout",
     "output_type": "stream",
     "text": [
      "\n"
     ]
    }
   ],
   "source": [
    "with open('ffm/%s_train_ffm.txt' % (out), 'w') as f:\n",
    "\n",
    "    for _, row in tqdm(df_train.iterrows()):\n",
    "        res = ffm_row(row.to_dict())\n",
    "        f.write(res + '\\n')"
   ]
  },
  {
   "cell_type": "code",
   "execution_count": 7,
   "metadata": {
    "collapsed": false
   },
   "outputs": [
    {
     "name": "stdout",
     "output_type": "stream",
     "text": [
      "\n"
     ]
    }
   ],
   "source": [
    "with open('ffm/%s_test_ffm.txt' % (out), 'w') as f:\n",
    "\n",
    "    for _, row in tqdm(df_test.iterrows()):\n",
    "        res = ffm_row(row.to_dict())\n",
    "        f.write(res + '\\n')"
   ]
  },
  {
   "cell_type": "code",
   "execution_count": 8,
   "metadata": {
    "collapsed": true
   },
   "outputs": [],
   "source": [
    "val = False\n",
    "\n",
    "if val:\n",
    "    df_train = feather.read_dataframe('feather/df_train.feather')\n",
    "    df_test = feather.read_dataframe('feather/df_val.feather')\n",
    "    out = 'tmp'\n",
    "else:\n",
    "    df_train = feather.read_dataframe('feather/df_train_all.feather')\n",
    "    df_test = feather.read_dataframe('feather/df_test.feather')\n",
    "    out = 'tmp_test'"
   ]
  },
  {
   "cell_type": "code",
   "execution_count": 9,
   "metadata": {
    "collapsed": false
   },
   "outputs": [
    {
     "name": "stdout",
     "output_type": "stream",
     "text": [
      "\n"
     ]
    }
   ],
   "source": [
    "with open('ffm/%s_train_ffm.txt' % (out), 'w') as f:\n",
    "\n",
    "    for _, row in tqdm(df_train.iterrows()):\n",
    "        res = ffm_row(row.to_dict())\n",
    "        f.write(res + '\\n')"
   ]
  },
  {
   "cell_type": "code",
   "execution_count": 10,
   "metadata": {
    "collapsed": false
   },
   "outputs": [
    {
     "name": "stdout",
     "output_type": "stream",
     "text": [
      "\n"
     ]
    }
   ],
   "source": [
    "with open('ffm/%s_test_ffm.txt' % (out), 'w') as f:\n",
    "\n",
    "    for _, row in tqdm(df_test.iterrows()):\n",
    "        res = ffm_row(row.to_dict())\n",
    "        f.write(res + '\\n')"
   ]
  },
  {
   "cell_type": "markdown",
   "metadata": {},
   "source": [
    "    ~/soft/libffm/ffm-train -s 8 -k 8 -l 0.000001 -t 15 tmp_test_train_ffm.txt ffm.model\n",
    "    ~/soft/libffm/ffm-predict tmp_test_test_ffm.txt ffm.model test_pred.txt"
   ]
  },
  {
   "cell_type": "code",
   "execution_count": null,
   "metadata": {
    "collapsed": true
   },
   "outputs": [],
   "source": []
  }
 ],
 "metadata": {
  "anaconda-cloud": {},
  "kernelspec": {
   "display_name": "Python [conda root]",
   "language": "python",
   "name": "conda-root-py"
  },
  "language_info": {
   "codemirror_mode": {
    "name": "ipython",
    "version": 3
   },
   "file_extension": ".py",
   "mimetype": "text/x-python",
   "name": "python",
   "nbconvert_exporter": "python",
   "pygments_lexer": "ipython3",
   "version": "3.5.2"
  },
  "widgets": {
   "state": {
    "2fd899bdca7546c799f2a87c79df1958": {
     "views": [
      {
       "cell_index": 4
      }
     ]
    },
    "bf94f9647b894cbcaeef41c3a4eed655": {
     "views": [
      {
       "cell_index": 9
      }
     ]
    },
    "c91287b1b3694fb28a20c2bf2b904e4a": {
     "views": [
      {
       "cell_index": 5
      }
     ]
    },
    "e00d2fe704004176ac8515e0823a91ef": {
     "views": [
      {
       "cell_index": 6
      }
     ]
    },
    "f94238c405d7484f97b090e42c53401d": {
     "views": [
      {
       "cell_index": 8
      }
     ]
    }
   },
   "version": "1.2.0"
  }
 },
 "nbformat": 4,
 "nbformat_minor": 1
}
