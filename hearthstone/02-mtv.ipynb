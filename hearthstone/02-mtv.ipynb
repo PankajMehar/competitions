{
 "cells": [
  {
   "cell_type": "code",
   "execution_count": 1,
   "metadata": {
    "collapsed": false
   },
   "outputs": [],
   "source": [
    "import pandas as pd\n",
    "import numpy as np\n",
    "\n",
    "import feather\n",
    "\n",
    "from itertools import combinations\n",
    "from tqdm import tqdm_notebook as tqdm\n",
    "from concurrent.futures import ProcessPoolExecutor, as_completed\n",
    "\n",
    "from scipy.sparse.csgraph import connected_components\n",
    "\n",
    "from sklearn.cross_validation import KFold\n",
    "\n",
    "import gc"
   ]
  },
  {
   "cell_type": "code",
   "execution_count": 2,
   "metadata": {
    "collapsed": true
   },
   "outputs": [],
   "source": [
    "from sklearn.metrics import roc_auc_score\n",
    "\n",
    "def roc_auc(y, y_pred):\n",
    "    auc = roc_auc_score(y, y_pred)\n",
    "    if auc < 0.5:\n",
    "        return 1 - auc\n",
    "    return auc"
   ]
  },
  {
   "cell_type": "code",
   "execution_count": 3,
   "metadata": {
    "collapsed": true
   },
   "outputs": [],
   "source": [
    "def tqdm_pool(pool, func, array):\n",
    "    progress = tqdm(total=len(array))\n",
    "    \n",
    "    futures = []\n",
    "    for a in array:\n",
    "        f = pool.submit(func, a)\n",
    "        f.add_done_callback(lambda x: progress.update())\n",
    "        futures.append(f)\n",
    "\n",
    "    results = [f.result() for f in as_completed(futures)]\n",
    "    progress.close()\n",
    "    return results"
   ]
  },
  {
   "cell_type": "code",
   "execution_count": 4,
   "metadata": {
    "collapsed": true
   },
   "outputs": [],
   "source": [
    "from collections import Counter\n",
    "import numpy as np\n",
    "\n",
    "def fit_mtv(x, y, m, C):\n",
    "    cnt = Counter(x[y == 1])\n",
    "    cnt_all = Counter(x)\n",
    "\n",
    "    probs = {}\n",
    "\n",
    "    for k, v in cnt.items():\n",
    "        v_all = cnt_all[k]\n",
    "        probs[k] = (v + C * m) / (v_all + C)\n",
    "\n",
    "    return probs\n",
    "\n",
    "def transform_mtv(x, probs, m):\n",
    "    res = [probs.get(v, m) for v in x]\n",
    "    return np.array(res, dtype='float32')\n",
    "\n",
    "def fit_transform_mtv(x_train, y_train, x_test, C):\n",
    "    m = y_train.mean()\n",
    "    probs = fit_mtv(x_train, y_train, m, C)\n",
    "    return transform_mtv(x_test, probs, m)\n",
    "\n",
    "def mtv_cv(cv, x, y, C):\n",
    "    train_res = np.zeros(len(y), dtype='float32')\n",
    "\n",
    "    for train_idx, test_idx in cv:\n",
    "        x_train = x[train_idx]\n",
    "        y_train = y[train_idx]\n",
    "        x_test = x[test_idx]\n",
    "\n",
    "        result = fit_transform_mtv(x_train, y_train, x_test, C)\n",
    "        train_res[test_idx] = result\n",
    "\n",
    "    return train_res"
   ]
  },
  {
   "cell_type": "code",
   "execution_count": 5,
   "metadata": {
    "collapsed": false
   },
   "outputs": [
    {
     "name": "stdout",
     "output_type": "stream",
     "text": [
      "mkdir: cannot create directory ‘tmp_val’: File exists\n",
      "mkdir: cannot create directory ‘tmp_test’: File exists\n"
     ]
    }
   ],
   "source": [
    "!mkdir tmp_val\n",
    "!mkdir tmp_test"
   ]
  },
  {
   "cell_type": "code",
   "execution_count": 6,
   "metadata": {
    "collapsed": true
   },
   "outputs": [],
   "source": [
    "def mtv_calc(params):\n",
    "    cv = params['cv']\n",
    "    y_train = params['target_array_train']\n",
    "\n",
    "    feature_name = params['feature_name']\n",
    "    x_train = params['feature_array_train']\n",
    "    x_test = params['feature_array_test']\n",
    "\n",
    "    auc_check = params['auc_feature_selection']\n",
    "    auc_threshold = params['auc_threshold']\n",
    "    \n",
    "    C = params['C']\n",
    "\n",
    "    result = {}\n",
    "    result['feature_name'] = feature_name\n",
    "    \n",
    "    train_res = mtv_cv(cv, x_train, y_train, C)\n",
    "    auc = roc_auc(y_train, train_res)\n",
    "    result['feature_auc'] = auc    \n",
    "\n",
    "    if not auc_check or (auc_check and auc >= auc_threshold):\n",
    "        result['train_res'] = train_res\n",
    "        test_res = fit_transform_mtv(x_train, y_train, x_test, C)\n",
    "        result['test_res'] = test_res\n",
    "    else:\n",
    "        result['train_res'] = None\n",
    "        result['test_res'] = None\n",
    "\n",
    "    return result\n",
    "\n",
    "def mtv_apply_parallel(pool, cv, df_train, df_test, target, features, C, auc_selection=False):\n",
    "    y = df_train[target].values\n",
    "\n",
    "    jobs_params = []\n",
    "    \n",
    "    for f in features:\n",
    "        params = {\n",
    "            'C': C,\n",
    "            'cv': cv,\n",
    "            'feature_name': f,\n",
    "            'target_array_train': y,\n",
    "            'feature_array_train': df_train[f].values,\n",
    "            'feature_array_test': df_test[f].values,\n",
    "            'auc_feature_selection': auc_selection,\n",
    "            'auc_threshold': 0.55,\n",
    "        }\n",
    "\n",
    "        jobs_params.append(params)\n",
    "\n",
    "    return tqdm_pool(pool, mtv_calc, jobs_params)"
   ]
  },
  {
   "cell_type": "code",
   "execution_count": 7,
   "metadata": {
    "collapsed": true
   },
   "outputs": [],
   "source": [
    "def mtv_pair_calc(params):\n",
    "    C = params['C']\n",
    "\n",
    "    cv = params['cv']\n",
    "    y_train = params['target_array_train']\n",
    "    \n",
    "    feature_name_1 = params['feature_name_1']\n",
    "    feature_name_2 = params['feature_name_2']\n",
    "    \n",
    "    auc_check = params['auc_feature_selection']\n",
    "    auc_threshold = params['auc_threshold']\n",
    "\n",
    "    x_1_train = params['feature_array_1_train']\n",
    "    x_2_train = params['feature_array_2_train']\n",
    "    x_train = x_1_train + '_' + x_2_train\n",
    "\n",
    "    result = {}\n",
    "    result['feature_name'] = (feature_name_1, feature_name_2)\n",
    "\n",
    "    train_res = mtv_cv(cv, x_train, y_train, C)\n",
    "    auc = roc_auc(y_train, train_res)\n",
    "    result['feature_auc'] = auc    \n",
    "\n",
    "    if not auc_check or (auc_check and auc >= auc_threshold):\n",
    "        result['train_res'] = train_res\n",
    "\n",
    "        x_1_test = params['feature_array_1_test']\n",
    "        x_2_test = params['feature_array_2_test']\n",
    "        x_test = x_1_test + '_' + x_2_test\n",
    "\n",
    "        test_res = fit_transform_mtv(x_train, y_train, x_test, C)\n",
    "        result['test_res'] = test_res\n",
    "\n",
    "    else:\n",
    "        result['train_res'] = None\n",
    "        result['test_res'] = None\n",
    "\n",
    "    return result\n",
    "\n",
    "def mtv_pairs_apply_parallel(pool, cv, df_train, df_test, target, combs, C, auc_selection=False):\n",
    "    y = df_train[target].values\n",
    "    jobs_params = []\n",
    "\n",
    "    for c1, c2 in combs:\n",
    "        params = {\n",
    "            'C': C,\n",
    "            'cv': cv,\n",
    "\n",
    "            'target_array_train': y,\n",
    "\n",
    "            'feature_name_1': c1,\n",
    "            'feature_name_2': c2,\n",
    "            \n",
    "            'feature_array_1_train': df_train[c1].values,\n",
    "            'feature_array_2_train': df_train[c2].values,\n",
    "        \n",
    "            'feature_array_1_test': df_test[c1].values,\n",
    "            'feature_array_2_test': df_test[c2].values,\n",
    "            \n",
    "            'auc_feature_selection': auc_selection,\n",
    "            'auc_threshold': 0.55,\n",
    "            \n",
    "        }\n",
    "\n",
    "        jobs_params.append(params)\n",
    "\n",
    "    return tqdm_pool(pool, mtv_pair_calc, jobs_params)"
   ]
  },
  {
   "cell_type": "code",
   "execution_count": 25,
   "metadata": {
    "collapsed": true
   },
   "outputs": [],
   "source": [
    "def mtv_triple_calc(params):\n",
    "    C = params['C']\n",
    "\n",
    "    cv = params['cv']\n",
    "    y_train = params['target_array_train']\n",
    "    \n",
    "    feature_name_1 = params['feature_name_1']\n",
    "    feature_name_2 = params['feature_name_2']\n",
    "    feature_name_3 = params['feature_name_3']\n",
    "\n",
    "    auc_check = params['auc_feature_selection']\n",
    "    auc_threshold = params['auc_threshold']\n",
    "    \n",
    "    x_1_train = params['feature_array_1_train']\n",
    "    x_2_train = params['feature_array_2_train']\n",
    "    x_3_train = params['feature_array_3_train']\n",
    "    x_train = x_1_train + '_' + x_2_train + '_' + x_3_train\n",
    "\n",
    "    result = {}\n",
    "    result['feature_name'] = (feature_name_1, feature_name_2, feature_name_3)\n",
    "\n",
    "    train_res = mtv_cv(cv, x_train, y_train, C)\n",
    "    auc = roc_auc(y_train, train_res)\n",
    "    result['feature_auc'] = auc    \n",
    "\n",
    "    if not auc_check or (auc_check and auc >= auc_threshold):\n",
    "        result['train_res'] = train_res\n",
    "\n",
    "        x_1_test = params['feature_array_1_test']\n",
    "        x_2_test = params['feature_array_2_test']\n",
    "        x_3_test = params['feature_array_3_test']\n",
    "        x_test = x_1_test + '_' + x_2_test + '_' + x_3_test\n",
    "\n",
    "        test_res = fit_transform_mtv(x_train, y_train, x_test, C)\n",
    "        result['test_res'] = test_res\n",
    "\n",
    "    else:\n",
    "        result['train_res'] = None\n",
    "        result['test_res'] = None\n",
    "\n",
    "    return result\n",
    "\n",
    "def mtv_triple_apply_parallel(pool, cv, df_train, df_test, target, combs, C, auc_selection=False):\n",
    "    y = df_train[target].values\n",
    "    jobs_params = []\n",
    "\n",
    "    for c1, c2, c3 in combs:\n",
    "        params = {\n",
    "            'C': C,\n",
    "            'cv': cv,\n",
    "\n",
    "            'target_array_train': y,\n",
    "\n",
    "            'feature_name_1': c1,\n",
    "            'feature_name_2': c2,\n",
    "            'feature_name_3': c3,\n",
    "\n",
    "            'feature_array_1_train': df_train[c1].values,\n",
    "            'feature_array_2_train': df_train[c2].values,\n",
    "            'feature_array_3_train': df_train[c3].values,\n",
    "\n",
    "            'feature_array_1_test': df_test[c1].values,\n",
    "            'feature_array_2_test': df_test[c2].values,\n",
    "            'feature_array_3_test': df_test[c3].values,\n",
    "\n",
    "            'auc_feature_selection': auc_selection,\n",
    "            'auc_threshold': 0.55,\n",
    "        }\n",
    "\n",
    "        jobs_params.append(params)\n",
    "\n",
    "    return tqdm_pool(pool, mtv_triple_calc, jobs_params)"
   ]
  },
  {
   "cell_type": "code",
   "execution_count": 9,
   "metadata": {
    "collapsed": false
   },
   "outputs": [],
   "source": [
    "def select_comb3_candidates(features, res, res2):\n",
    "    good_single = {r['feature_name'] for r in res if r['train_res'] is not None}\n",
    "\n",
    "    good_pairs = set()\n",
    "\n",
    "    for r in res2:\n",
    "        if r['train_res'] is None:\n",
    "            continue\n",
    "        (c1, c2) = r['feature_name']\n",
    "        good_pairs.add((c1, c2))\n",
    "        good_pairs.add((c2, c1))\n",
    "\n",
    "    combs3 = list(combinations(features, 3))\n",
    "\n",
    "    good_comb3_candidates = []\n",
    "\n",
    "    for comb in combs3:\n",
    "        if set(comb) & good_single:\n",
    "            good_comb3_candidates.append(comb)\n",
    "            continue\n",
    "\n",
    "        comb2of3 = set(combinations(comb, 2))\n",
    "\n",
    "        if comb2of3 & good_pairs:\n",
    "            good_comb3_candidates.append(comb)\n",
    "            continue\n",
    "\n",
    "    return good_comb3_candidates"
   ]
  },
  {
   "cell_type": "code",
   "execution_count": 10,
   "metadata": {
    "collapsed": false
   },
   "outputs": [],
   "source": [
    "val = True\n",
    "\n",
    "if val:\n",
    "    df_train = feather.read_dataframe('feather/df_train.feather')\n",
    "    df_test = feather.read_dataframe('feather/df_val.feather')\n",
    "    out = 'tmp_val'\n",
    "else:\n",
    "    df_train = feather.read_dataframe('feather/df_train_all.feather')\n",
    "    df_test = feather.read_dataframe('feather/df_test.feather')\n",
    "    out = 'tmp_test'"
   ]
  },
  {
   "cell_type": "code",
   "execution_count": 14,
   "metadata": {
    "collapsed": false
   },
   "outputs": [
    {
     "data": {
      "text/plain": [
       "(1600000, 400000)"
      ]
     },
     "execution_count": 14,
     "metadata": {},
     "output_type": "execute_result"
    }
   ],
   "source": [
    "len(df_train), len(df_test)"
   ]
  },
  {
   "cell_type": "code",
   "execution_count": 15,
   "metadata": {
    "collapsed": false
   },
   "outputs": [],
   "source": [
    "to_exlude = ['decision']\n",
    "\n",
    "features = list(df_train.columns)\n",
    "for c in to_exlude:\n",
    "    features.remove(c)\n",
    "\n",
    "target = 'decision'\n",
    "C = 12\n",
    "cv = KFold(len(df_train), n_folds=3, shuffle=False, random_state=1)"
   ]
  },
  {
   "cell_type": "code",
   "execution_count": 16,
   "metadata": {
    "collapsed": false,
    "scrolled": true
   },
   "outputs": [
    {
     "name": "stdout",
     "output_type": "stream",
     "text": [
      "\n",
      "\n",
      "\n"
     ]
    }
   ],
   "source": [
    "with ProcessPoolExecutor(max_workers=20) as pool:\n",
    "    res = mtv_apply_parallel(pool, cv, df_train, df_test, target, features, C)\n",
    "    gc.collect()    \n",
    "\n",
    "    combs = list(combinations(features, 2))\n",
    "\n",
    "    res2 = mtv_pairs_apply_parallel(pool, cv, df_train, df_test, target, combs, C)\n",
    "    gc.collect()\n",
    "\n",
    "    good_comb3_candidates = select_comb3_candidates(features, res, res2)\n",
    "    gc.collect()\n",
    "\n",
    "    res3 = mtv_triple_apply_parallel(pool, cv, df_train, df_test, target, good_comb3_candidates, C)\n",
    "    gc.collect()"
   ]
  },
  {
   "cell_type": "code",
   "execution_count": 17,
   "metadata": {
    "collapsed": true
   },
   "outputs": [],
   "source": [
    "res2_sorted = sorted(res2, key=lambda x: -x['feature_auc'])\n",
    "len_res2_notnull = len([r for r in res2_sorted if r['train_res'] is not None])\n",
    "\n",
    "res3_sorted = sorted(res3, key=lambda x: -x['feature_auc'])"
   ]
  },
  {
   "cell_type": "code",
   "execution_count": 18,
   "metadata": {
    "collapsed": false
   },
   "outputs": [
    {
     "data": {
      "text/plain": [
       "(array([  0,   1,   2, ..., 283, 283, 283], dtype=int32), 9318)"
      ]
     },
     "execution_count": 18,
     "metadata": {},
     "output_type": "execute_result"
    }
   ],
   "source": [
    "top_values = []\n",
    "res23 = []\n",
    "\n",
    "for r in res2_sorted + res3_sorted:\n",
    "    if r['train_res'] is None:\n",
    "        continue\n",
    "\n",
    "    top_values.append(r['train_res'][:2000])\n",
    "    res23.append(r)\n",
    "\n",
    "corr = np.corrcoef(top_values)\n",
    "\n",
    "_, comps = connected_components(corr > 0.99)\n",
    "comps, len(comps)"
   ]
  },
  {
   "cell_type": "code",
   "execution_count": 19,
   "metadata": {
    "collapsed": false
   },
   "outputs": [],
   "source": [
    "final_res23 = []\n",
    "\n",
    "seen = set()\n",
    "added_3 = 0\n",
    "\n",
    "for i, comp in enumerate(comps):\n",
    "    if comp in seen:\n",
    "        continue\n",
    "    seen.add(comp)\n",
    "\n",
    "    final_res23.append(res23[i])\n",
    "\n",
    "    if i >= len_res2_notnull:\n",
    "        added_3 = added_3 + 1\n",
    "        if added_3 >= 500:\n",
    "            break"
   ]
  },
  {
   "cell_type": "code",
   "execution_count": 20,
   "metadata": {
    "collapsed": false
   },
   "outputs": [],
   "source": [
    "feature_names_all = []\n",
    "X_train_all = []\n",
    "X_test_all = []\n",
    "\n",
    "for r in res:\n",
    "    if r['train_res'] is None:\n",
    "        continue\n",
    "    X_train_all.append(r['train_res'])\n",
    "    X_test_all.append(r['test_res'])\n",
    "    feature_names_all.append(r['feature_name'])\n",
    "\n",
    "for r in final_res23:\n",
    "    if r['train_res'] is None:\n",
    "        continue\n",
    "    X_train_all.append(r['train_res'])\n",
    "    X_test_all.append(r['test_res'])\n",
    "    feature_names_all.append('&'.join(r['feature_name']))"
   ]
  },
  {
   "cell_type": "code",
   "execution_count": 21,
   "metadata": {
    "collapsed": false
   },
   "outputs": [],
   "source": [
    "X_train = np.array(X_train_all).T\n",
    "X_test = np.array(X_test_all).T"
   ]
  },
  {
   "cell_type": "code",
   "execution_count": 24,
   "metadata": {
    "collapsed": false
   },
   "outputs": [
    {
     "data": {
      "text/plain": [
       "(1600000, 798)"
      ]
     },
     "execution_count": 24,
     "metadata": {},
     "output_type": "execute_result"
    }
   ],
   "source": [
    "X_train.shape"
   ]
  },
  {
   "cell_type": "code",
   "execution_count": 25,
   "metadata": {
    "collapsed": false
   },
   "outputs": [
    {
     "data": {
      "text/plain": [
       "(400000, 798)"
      ]
     },
     "execution_count": 25,
     "metadata": {},
     "output_type": "execute_result"
    }
   ],
   "source": [
    "X_test.shape"
   ]
  },
  {
   "cell_type": "code",
   "execution_count": 26,
   "metadata": {
    "collapsed": true
   },
   "outputs": [],
   "source": [
    "del X_train_all, X_test_all"
   ]
  },
  {
   "cell_type": "code",
   "execution_count": 11,
   "metadata": {
    "collapsed": true
   },
   "outputs": [],
   "source": [
    "import pickle"
   ]
  },
  {
   "cell_type": "code",
   "execution_count": 28,
   "metadata": {
    "collapsed": false
   },
   "outputs": [],
   "source": [
    "np.save(out + '/X_train.npy', X_train)\n",
    "np.save(out + '/X_test.npy', X_test)\n",
    "\n",
    "with open(out + '/features.bin', 'wb') as f:\n",
    "    pickle.dump(feature_names_all, f)"
   ]
  },
  {
   "cell_type": "code",
   "execution_count": 29,
   "metadata": {
    "collapsed": true
   },
   "outputs": [],
   "source": [
    "y_train = df_train.decision.values\n",
    "y_test = df_test.decision.values"
   ]
  },
  {
   "cell_type": "code",
   "execution_count": 30,
   "metadata": {
    "collapsed": true
   },
   "outputs": [],
   "source": [
    "import xgboost as xgb"
   ]
  },
  {
   "cell_type": "code",
   "execution_count": 31,
   "metadata": {
    "collapsed": false
   },
   "outputs": [],
   "source": [
    "dtrain = xgb.DMatrix(X_train, label=y_train, feature_names=feature_names_all, missing=np.nan)\n",
    "dval = xgb.DMatrix(X_test, label=y_test, feature_names=feature_names_all, missing=np.nan)\n",
    "watchlist = [(dtrain, 'train'), (dval, 'val')]"
   ]
  },
  {
   "cell_type": "code",
   "execution_count": 34,
   "metadata": {
    "collapsed": true
   },
   "outputs": [],
   "source": [
    "xgb_pars = {\n",
    "    'eta': 0.3,\n",
    "    'gamma': 0,\n",
    "    'max_depth': 6,\n",
    "    'min_child_weight': 1,\n",
    "    'max_delta_step': 0,\n",
    "    'subsample': 1,\n",
    "    'colsample_bytree': 1,\n",
    "    'colsample_bylevel': 1,\n",
    "    'lambda': 1,\n",
    "    'alpha': 0,\n",
    "    'tree_method': 'approx',\n",
    "# not deafauts\n",
    "    'objective': 'binary:logistic',\n",
    "    'eval_metric': 'auc',\n",
    "    'nthread': 20,\n",
    "    'seed': 42,\n",
    "    'silent': 1\n",
    "}\n",
    "\n",
    "n_estimators = 300"
   ]
  },
  {
   "cell_type": "code",
   "execution_count": 35,
   "metadata": {
    "collapsed": false,
    "scrolled": true
   },
   "outputs": [
    {
     "name": "stdout",
     "output_type": "stream",
     "text": [
      "[0]\ttrain-auc:0.771995\tval-auc:0.7733\n",
      "[1]\ttrain-auc:0.77827\tval-auc:0.778838\n",
      "[2]\ttrain-auc:0.781124\tval-auc:0.781578\n",
      "[3]\ttrain-auc:0.783138\tval-auc:0.783398\n",
      "[4]\ttrain-auc:0.784463\tval-auc:0.784683\n",
      "[5]\ttrain-auc:0.785752\tval-auc:0.785897\n",
      "[6]\ttrain-auc:0.786886\tval-auc:0.786882\n",
      "[7]\ttrain-auc:0.787755\tval-auc:0.787596\n",
      "[8]\ttrain-auc:0.788747\tval-auc:0.788512\n",
      "[9]\ttrain-auc:0.789656\tval-auc:0.789368\n",
      "[10]\ttrain-auc:0.790604\tval-auc:0.790262\n",
      "[11]\ttrain-auc:0.791349\tval-auc:0.790955\n",
      "[12]\ttrain-auc:0.792132\tval-auc:0.791598\n",
      "[13]\ttrain-auc:0.792708\tval-auc:0.792112\n",
      "[14]\ttrain-auc:0.793423\tval-auc:0.792725\n",
      "[15]\ttrain-auc:0.794186\tval-auc:0.793307\n",
      "[16]\ttrain-auc:0.794624\tval-auc:0.793678\n",
      "[17]\ttrain-auc:0.795176\tval-auc:0.794089\n",
      "[18]\ttrain-auc:0.795603\tval-auc:0.794412\n",
      "[19]\ttrain-auc:0.796153\tval-auc:0.794876\n",
      "[20]\ttrain-auc:0.796652\tval-auc:0.795246\n",
      "[21]\ttrain-auc:0.797022\tval-auc:0.795518\n",
      "[22]\ttrain-auc:0.797445\tval-auc:0.795821\n",
      "[23]\ttrain-auc:0.797894\tval-auc:0.796173\n",
      "[24]\ttrain-auc:0.798314\tval-auc:0.796433\n",
      "[25]\ttrain-auc:0.798795\tval-auc:0.796814\n",
      "[26]\ttrain-auc:0.799182\tval-auc:0.797132\n",
      "[27]\ttrain-auc:0.799507\tval-auc:0.797369\n",
      "[28]\ttrain-auc:0.799774\tval-auc:0.797541\n",
      "[29]\ttrain-auc:0.800144\tval-auc:0.797821\n",
      "[30]\ttrain-auc:0.800524\tval-auc:0.798115\n",
      "[31]\ttrain-auc:0.800938\tval-auc:0.798384\n",
      "[32]\ttrain-auc:0.801249\tval-auc:0.798625\n",
      "[33]\ttrain-auc:0.801616\tval-auc:0.798894\n",
      "[34]\ttrain-auc:0.801846\tval-auc:0.79902\n",
      "[35]\ttrain-auc:0.802105\tval-auc:0.799198\n",
      "[36]\ttrain-auc:0.802418\tval-auc:0.799417\n",
      "[37]\ttrain-auc:0.80281\tval-auc:0.799703\n",
      "[38]\ttrain-auc:0.803111\tval-auc:0.799871\n",
      "[39]\ttrain-auc:0.803425\tval-auc:0.800098\n",
      "[40]\ttrain-auc:0.803669\tval-auc:0.800278\n",
      "[41]\ttrain-auc:0.803971\tval-auc:0.800422\n",
      "[42]\ttrain-auc:0.804243\tval-auc:0.800646\n",
      "[43]\ttrain-auc:0.804623\tval-auc:0.800918\n",
      "[44]\ttrain-auc:0.804859\tval-auc:0.801057\n",
      "[45]\ttrain-auc:0.805102\tval-auc:0.801172\n",
      "[46]\ttrain-auc:0.805392\tval-auc:0.80138\n",
      "[47]\ttrain-auc:0.805637\tval-auc:0.801545\n",
      "[48]\ttrain-auc:0.805936\tval-auc:0.801758\n",
      "[49]\ttrain-auc:0.806233\tval-auc:0.801961\n",
      "[50]\ttrain-auc:0.806493\tval-auc:0.80214\n",
      "[51]\ttrain-auc:0.806825\tval-auc:0.802263\n",
      "[52]\ttrain-auc:0.807114\tval-auc:0.802442\n",
      "[53]\ttrain-auc:0.8074\tval-auc:0.802652\n",
      "[54]\ttrain-auc:0.807607\tval-auc:0.802817\n",
      "[55]\ttrain-auc:0.807811\tval-auc:0.80294\n",
      "[56]\ttrain-auc:0.808207\tval-auc:0.803207\n",
      "[57]\ttrain-auc:0.808469\tval-auc:0.803328\n",
      "[58]\ttrain-auc:0.80877\tval-auc:0.803548\n",
      "[59]\ttrain-auc:0.809066\tval-auc:0.803689\n",
      "[60]\ttrain-auc:0.809282\tval-auc:0.803812\n",
      "[61]\ttrain-auc:0.809537\tval-auc:0.803968\n",
      "[62]\ttrain-auc:0.809827\tval-auc:0.804166\n",
      "[63]\ttrain-auc:0.810059\tval-auc:0.804291\n",
      "[64]\ttrain-auc:0.810266\tval-auc:0.804375\n",
      "[65]\ttrain-auc:0.810517\tval-auc:0.80452\n",
      "[66]\ttrain-auc:0.810776\tval-auc:0.804674\n",
      "[67]\ttrain-auc:0.811123\tval-auc:0.804879\n",
      "[68]\ttrain-auc:0.811339\tval-auc:0.804964\n",
      "[69]\ttrain-auc:0.811518\tval-auc:0.805082\n",
      "[70]\ttrain-auc:0.811767\tval-auc:0.8052\n",
      "[71]\ttrain-auc:0.812034\tval-auc:0.805323\n",
      "[72]\ttrain-auc:0.812317\tval-auc:0.805498\n",
      "[73]\ttrain-auc:0.812542\tval-auc:0.805623\n",
      "[74]\ttrain-auc:0.812783\tval-auc:0.805799\n",
      "[75]\ttrain-auc:0.812957\tval-auc:0.805908\n",
      "[76]\ttrain-auc:0.813268\tval-auc:0.806056\n",
      "[77]\ttrain-auc:0.813451\tval-auc:0.806155\n",
      "[78]\ttrain-auc:0.813684\tval-auc:0.806292\n",
      "[79]\ttrain-auc:0.813917\tval-auc:0.806445\n",
      "[80]\ttrain-auc:0.814118\tval-auc:0.80655\n",
      "[81]\ttrain-auc:0.814343\tval-auc:0.806685\n",
      "[82]\ttrain-auc:0.814562\tval-auc:0.806798\n",
      "[83]\ttrain-auc:0.814713\tval-auc:0.806883\n",
      "[84]\ttrain-auc:0.814924\tval-auc:0.806979\n",
      "[85]\ttrain-auc:0.815126\tval-auc:0.807077\n",
      "[86]\ttrain-auc:0.815371\tval-auc:0.807236\n",
      "[87]\ttrain-auc:0.815585\tval-auc:0.807371\n",
      "[88]\ttrain-auc:0.815858\tval-auc:0.807495\n",
      "[89]\ttrain-auc:0.816026\tval-auc:0.807597\n",
      "[90]\ttrain-auc:0.816206\tval-auc:0.807691\n",
      "[91]\ttrain-auc:0.816356\tval-auc:0.807777\n",
      "[92]\ttrain-auc:0.81656\tval-auc:0.807893\n",
      "[93]\ttrain-auc:0.816777\tval-auc:0.80799\n",
      "[94]\ttrain-auc:0.816945\tval-auc:0.808055\n",
      "[95]\ttrain-auc:0.817156\tval-auc:0.808177\n",
      "[96]\ttrain-auc:0.817321\tval-auc:0.808259\n",
      "[97]\ttrain-auc:0.81747\tval-auc:0.808325\n",
      "[98]\ttrain-auc:0.817679\tval-auc:0.808418\n",
      "[99]\ttrain-auc:0.817823\tval-auc:0.808492\n",
      "[100]\ttrain-auc:0.817987\tval-auc:0.80857\n",
      "[101]\ttrain-auc:0.818146\tval-auc:0.808656\n",
      "[102]\ttrain-auc:0.818357\tval-auc:0.808766\n",
      "[103]\ttrain-auc:0.818563\tval-auc:0.808883\n",
      "[104]\ttrain-auc:0.81873\tval-auc:0.808955\n",
      "[105]\ttrain-auc:0.818871\tval-auc:0.809018\n",
      "[106]\ttrain-auc:0.819124\tval-auc:0.809116\n",
      "[107]\ttrain-auc:0.819331\tval-auc:0.80925\n",
      "[108]\ttrain-auc:0.81953\tval-auc:0.809332\n",
      "[109]\ttrain-auc:0.81984\tval-auc:0.809489\n",
      "[110]\ttrain-auc:0.82004\tval-auc:0.809564\n",
      "[111]\ttrain-auc:0.820273\tval-auc:0.809694\n",
      "[112]\ttrain-auc:0.820396\tval-auc:0.809742\n",
      "[113]\ttrain-auc:0.820593\tval-auc:0.809834\n",
      "[114]\ttrain-auc:0.820798\tval-auc:0.809907\n",
      "[115]\ttrain-auc:0.820982\tval-auc:0.809979\n",
      "[116]\ttrain-auc:0.821188\tval-auc:0.810121\n",
      "[117]\ttrain-auc:0.821385\tval-auc:0.810232\n",
      "[118]\ttrain-auc:0.821528\tval-auc:0.810318\n",
      "[119]\ttrain-auc:0.821775\tval-auc:0.810499\n",
      "[120]\ttrain-auc:0.821916\tval-auc:0.810546\n",
      "[121]\ttrain-auc:0.82205\tval-auc:0.810615\n",
      "[122]\ttrain-auc:0.822247\tval-auc:0.810699\n",
      "[123]\ttrain-auc:0.822411\tval-auc:0.810792\n",
      "[124]\ttrain-auc:0.822544\tval-auc:0.810872\n",
      "[125]\ttrain-auc:0.822786\tval-auc:0.81101\n",
      "[126]\ttrain-auc:0.82302\tval-auc:0.811149\n",
      "[127]\ttrain-auc:0.823198\tval-auc:0.81122\n",
      "[128]\ttrain-auc:0.823334\tval-auc:0.81127\n",
      "[129]\ttrain-auc:0.823456\tval-auc:0.811314\n",
      "[130]\ttrain-auc:0.823687\tval-auc:0.811375\n",
      "[131]\ttrain-auc:0.823857\tval-auc:0.811416\n",
      "[132]\ttrain-auc:0.823991\tval-auc:0.811462\n",
      "[133]\ttrain-auc:0.824215\tval-auc:0.811558\n",
      "[134]\ttrain-auc:0.824424\tval-auc:0.811692\n",
      "[135]\ttrain-auc:0.82453\tval-auc:0.811733\n",
      "[136]\ttrain-auc:0.824732\tval-auc:0.81181\n",
      "[137]\ttrain-auc:0.82493\tval-auc:0.811884\n",
      "[138]\ttrain-auc:0.825071\tval-auc:0.811965\n",
      "[139]\ttrain-auc:0.82529\tval-auc:0.812097\n",
      "[140]\ttrain-auc:0.825441\tval-auc:0.812181\n",
      "[141]\ttrain-auc:0.825625\tval-auc:0.812241\n",
      "[142]\ttrain-auc:0.825767\tval-auc:0.812318\n",
      "[143]\ttrain-auc:0.825905\tval-auc:0.812369\n",
      "[144]\ttrain-auc:0.826094\tval-auc:0.812456\n",
      "[145]\ttrain-auc:0.826237\tval-auc:0.812476\n",
      "[146]\ttrain-auc:0.826353\tval-auc:0.8125\n",
      "[147]\ttrain-auc:0.826539\tval-auc:0.812556\n",
      "[148]\ttrain-auc:0.826659\tval-auc:0.812594\n",
      "[149]\ttrain-auc:0.826814\tval-auc:0.812658\n",
      "[150]\ttrain-auc:0.827032\tval-auc:0.81277\n",
      "[151]\ttrain-auc:0.827204\tval-auc:0.812834\n",
      "[152]\ttrain-auc:0.827423\tval-auc:0.81293\n",
      "[153]\ttrain-auc:0.827563\tval-auc:0.813008\n",
      "[154]\ttrain-auc:0.827748\tval-auc:0.813104\n",
      "[155]\ttrain-auc:0.827962\tval-auc:0.813263\n",
      "[156]\ttrain-auc:0.828137\tval-auc:0.813359\n",
      "[157]\ttrain-auc:0.828297\tval-auc:0.813408\n",
      "[158]\ttrain-auc:0.828481\tval-auc:0.813472\n",
      "[159]\ttrain-auc:0.828598\tval-auc:0.813505\n",
      "[160]\ttrain-auc:0.82877\tval-auc:0.813602\n",
      "[161]\ttrain-auc:0.8289\tval-auc:0.813643\n",
      "[162]\ttrain-auc:0.829051\tval-auc:0.81369\n",
      "[163]\ttrain-auc:0.829172\tval-auc:0.81375\n",
      "[164]\ttrain-auc:0.829316\tval-auc:0.813783\n",
      "[165]\ttrain-auc:0.829471\tval-auc:0.813837\n",
      "[166]\ttrain-auc:0.829605\tval-auc:0.813897\n",
      "[167]\ttrain-auc:0.829718\tval-auc:0.813919\n",
      "[168]\ttrain-auc:0.829829\tval-auc:0.813963\n",
      "[169]\ttrain-auc:0.829984\tval-auc:0.81406\n",
      "[170]\ttrain-auc:0.830169\tval-auc:0.814138\n",
      "[171]\ttrain-auc:0.830352\tval-auc:0.814262\n",
      "[172]\ttrain-auc:0.830546\tval-auc:0.814319\n",
      "[173]\ttrain-auc:0.830653\tval-auc:0.81436\n",
      "[174]\ttrain-auc:0.830801\tval-auc:0.814413\n",
      "[175]\ttrain-auc:0.830918\tval-auc:0.814477\n",
      "[176]\ttrain-auc:0.831046\tval-auc:0.814513\n",
      "[177]\ttrain-auc:0.83117\tval-auc:0.814538\n",
      "[178]\ttrain-auc:0.831357\tval-auc:0.814637\n",
      "[179]\ttrain-auc:0.83151\tval-auc:0.814693\n",
      "[180]\ttrain-auc:0.831671\tval-auc:0.814725\n",
      "[181]\ttrain-auc:0.831798\tval-auc:0.814779\n",
      "[182]\ttrain-auc:0.831915\tval-auc:0.814806\n",
      "[183]\ttrain-auc:0.832061\tval-auc:0.814865\n",
      "[184]\ttrain-auc:0.832183\tval-auc:0.81489\n",
      "[185]\ttrain-auc:0.832271\tval-auc:0.81491\n",
      "[186]\ttrain-auc:0.832399\tval-auc:0.814975\n",
      "[187]\ttrain-auc:0.832486\tval-auc:0.815017\n",
      "[188]\ttrain-auc:0.832579\tval-auc:0.815043\n",
      "[189]\ttrain-auc:0.832746\tval-auc:0.815097\n",
      "[190]\ttrain-auc:0.832911\tval-auc:0.815153\n",
      "[191]\ttrain-auc:0.833101\tval-auc:0.815212\n",
      "[192]\ttrain-auc:0.8333\tval-auc:0.815292\n",
      "[193]\ttrain-auc:0.833509\tval-auc:0.81542\n",
      "[194]\ttrain-auc:0.833648\tval-auc:0.815465\n",
      "[195]\ttrain-auc:0.833758\tval-auc:0.815496\n",
      "[196]\ttrain-auc:0.833856\tval-auc:0.815547\n",
      "[197]\ttrain-auc:0.833946\tval-auc:0.815575\n",
      "[198]\ttrain-auc:0.834065\tval-auc:0.815593\n",
      "[199]\ttrain-auc:0.834242\tval-auc:0.81569\n",
      "[200]\ttrain-auc:0.834409\tval-auc:0.815799\n",
      "[201]\ttrain-auc:0.834582\tval-auc:0.815901\n",
      "[202]\ttrain-auc:0.834674\tval-auc:0.815937\n",
      "[203]\ttrain-auc:0.834762\tval-auc:0.815993\n",
      "[204]\ttrain-auc:0.834968\tval-auc:0.816074\n",
      "[205]\ttrain-auc:0.83513\tval-auc:0.816118\n",
      "[206]\ttrain-auc:0.835293\tval-auc:0.816157\n",
      "[207]\ttrain-auc:0.835501\tval-auc:0.816223\n",
      "[208]\ttrain-auc:0.83566\tval-auc:0.816277\n",
      "[209]\ttrain-auc:0.835797\tval-auc:0.81634\n",
      "[210]\ttrain-auc:0.83595\tval-auc:0.81639\n",
      "[211]\ttrain-auc:0.836035\tval-auc:0.816427\n",
      "[212]\ttrain-auc:0.836192\tval-auc:0.816482\n",
      "[213]\ttrain-auc:0.836298\tval-auc:0.816541\n",
      "[214]\ttrain-auc:0.836436\tval-auc:0.816592\n",
      "[215]\ttrain-auc:0.836593\tval-auc:0.816648\n",
      "[216]\ttrain-auc:0.836785\tval-auc:0.816746\n",
      "[217]\ttrain-auc:0.836902\tval-auc:0.816776\n",
      "[218]\ttrain-auc:0.83705\tval-auc:0.81682\n",
      "[219]\ttrain-auc:0.837107\tval-auc:0.816835\n",
      "[220]\ttrain-auc:0.837251\tval-auc:0.816851\n",
      "[221]\ttrain-auc:0.837407\tval-auc:0.816907\n",
      "[222]\ttrain-auc:0.837536\tval-auc:0.816986\n",
      "[223]\ttrain-auc:0.837643\tval-auc:0.81704\n",
      "[224]\ttrain-auc:0.837755\tval-auc:0.817091\n",
      "[225]\ttrain-auc:0.83789\tval-auc:0.817141\n",
      "[226]\ttrain-auc:0.837983\tval-auc:0.817179\n",
      "[227]\ttrain-auc:0.838137\tval-auc:0.817222\n",
      "[228]\ttrain-auc:0.838229\tval-auc:0.817242\n",
      "[229]\ttrain-auc:0.838393\tval-auc:0.817298\n",
      "[230]\ttrain-auc:0.838524\tval-auc:0.817374\n",
      "[231]\ttrain-auc:0.838622\tval-auc:0.817412\n",
      "[232]\ttrain-auc:0.838785\tval-auc:0.817465\n",
      "[233]\ttrain-auc:0.838899\tval-auc:0.817511\n",
      "[234]\ttrain-auc:0.838979\tval-auc:0.817543\n",
      "[235]\ttrain-auc:0.839099\tval-auc:0.817578\n",
      "[236]\ttrain-auc:0.83923\tval-auc:0.817638\n",
      "[237]\ttrain-auc:0.839368\tval-auc:0.817701\n",
      "[238]\ttrain-auc:0.839471\tval-auc:0.817762\n",
      "[239]\ttrain-auc:0.839637\tval-auc:0.817837\n",
      "[240]\ttrain-auc:0.839767\tval-auc:0.817883\n",
      "[241]\ttrain-auc:0.839913\tval-auc:0.817953\n",
      "[242]\ttrain-auc:0.840057\tval-auc:0.818025\n",
      "[243]\ttrain-auc:0.840164\tval-auc:0.818062\n",
      "[244]\ttrain-auc:0.840274\tval-auc:0.818099\n",
      "[245]\ttrain-auc:0.840454\tval-auc:0.818165\n",
      "[246]\ttrain-auc:0.840618\tval-auc:0.818215\n",
      "[247]\ttrain-auc:0.840733\tval-auc:0.818262\n",
      "[248]\ttrain-auc:0.840831\tval-auc:0.81828\n",
      "[249]\ttrain-auc:0.840935\tval-auc:0.818301\n",
      "[250]\ttrain-auc:0.841043\tval-auc:0.818319\n",
      "[251]\ttrain-auc:0.841187\tval-auc:0.818351\n",
      "[252]\ttrain-auc:0.841333\tval-auc:0.818407\n",
      "[253]\ttrain-auc:0.841445\tval-auc:0.81843\n",
      "[254]\ttrain-auc:0.841552\tval-auc:0.818443\n",
      "[255]\ttrain-auc:0.84168\tval-auc:0.818504\n",
      "[256]\ttrain-auc:0.841773\tval-auc:0.818528\n",
      "[257]\ttrain-auc:0.841881\tval-auc:0.818578\n",
      "[258]\ttrain-auc:0.841954\tval-auc:0.818578\n",
      "[259]\ttrain-auc:0.842136\tval-auc:0.818647\n",
      "[260]\ttrain-auc:0.842207\tval-auc:0.818674\n",
      "[261]\ttrain-auc:0.84234\tval-auc:0.818684\n",
      "[262]\ttrain-auc:0.842481\tval-auc:0.81873\n",
      "[263]\ttrain-auc:0.842603\tval-auc:0.818756\n",
      "[264]\ttrain-auc:0.842737\tval-auc:0.818798\n",
      "[265]\ttrain-auc:0.842868\tval-auc:0.818866\n",
      "[266]\ttrain-auc:0.842949\tval-auc:0.818875\n",
      "[267]\ttrain-auc:0.843105\tval-auc:0.818919\n",
      "[268]\ttrain-auc:0.843234\tval-auc:0.81895\n",
      "[269]\ttrain-auc:0.843385\tval-auc:0.818997\n",
      "[270]\ttrain-auc:0.843539\tval-auc:0.819046\n",
      "[271]\ttrain-auc:0.8437\tval-auc:0.819099\n",
      "[272]\ttrain-auc:0.84382\tval-auc:0.819127\n",
      "[273]\ttrain-auc:0.843939\tval-auc:0.819198\n",
      "[274]\ttrain-auc:0.84406\tval-auc:0.819269\n",
      "[275]\ttrain-auc:0.844207\tval-auc:0.819317\n",
      "[276]\ttrain-auc:0.844302\tval-auc:0.819329\n",
      "[277]\ttrain-auc:0.844412\tval-auc:0.819349\n",
      "[278]\ttrain-auc:0.844592\tval-auc:0.819405\n",
      "[279]\ttrain-auc:0.84469\tval-auc:0.819457\n",
      "[280]\ttrain-auc:0.844791\tval-auc:0.819514\n",
      "[281]\ttrain-auc:0.844918\tval-auc:0.819408\n",
      "[282]\ttrain-auc:0.845031\tval-auc:0.819433\n",
      "[283]\ttrain-auc:0.845105\tval-auc:0.819454\n",
      "[284]\ttrain-auc:0.845254\tval-auc:0.819503\n",
      "[285]\ttrain-auc:0.84538\tval-auc:0.819533\n",
      "[286]\ttrain-auc:0.845523\tval-auc:0.819576\n",
      "[287]\ttrain-auc:0.845596\tval-auc:0.819586\n",
      "[288]\ttrain-auc:0.845723\tval-auc:0.819637\n",
      "[289]\ttrain-auc:0.845789\tval-auc:0.819662\n",
      "[290]\ttrain-auc:0.845858\tval-auc:0.819681\n",
      "[291]\ttrain-auc:0.845942\tval-auc:0.819714\n",
      "[292]\ttrain-auc:0.846013\tval-auc:0.819714\n",
      "[293]\ttrain-auc:0.846121\tval-auc:0.819735\n",
      "[294]\ttrain-auc:0.846281\tval-auc:0.81981\n",
      "[295]\ttrain-auc:0.846429\tval-auc:0.819841\n",
      "[296]\ttrain-auc:0.84651\tval-auc:0.819848\n",
      "[297]\ttrain-auc:0.846628\tval-auc:0.819883\n",
      "[298]\ttrain-auc:0.846768\tval-auc:0.819915\n",
      "[299]\ttrain-auc:0.846906\tval-auc:0.819955\n"
     ]
    }
   ],
   "source": [
    "model = xgb.train(xgb_pars, dtrain, num_boost_round=n_estimators, verbose_eval=1,\n",
    "                  evals=watchlist)"
   ]
  },
  {
   "cell_type": "code",
   "execution_count": 36,
   "metadata": {
    "collapsed": true
   },
   "outputs": [],
   "source": [
    "xgb_pars = {\n",
    "    'eta': 0.3,\n",
    "    'gamma': 0,\n",
    "    'max_depth': 10,\n",
    "    'min_child_weight': 1,\n",
    "    'max_delta_step': 0,\n",
    "    'subsample': 1,\n",
    "    'colsample_bytree': 1,\n",
    "    'colsample_bylevel': 1,\n",
    "    'lambda': 1,\n",
    "    'alpha': 0,\n",
    "    'tree_method': 'approx',\n",
    "# not deafauts\n",
    "    'objective': 'binary:logistic',\n",
    "    'eval_metric': 'auc',\n",
    "    'nthread': 20,\n",
    "    'seed': 42,\n",
    "    'silent': 1\n",
    "}\n",
    "\n",
    "n_estimators = 300"
   ]
  },
  {
   "cell_type": "code",
   "execution_count": 37,
   "metadata": {
    "collapsed": false,
    "scrolled": true
   },
   "outputs": [
    {
     "name": "stdout",
     "output_type": "stream",
     "text": [
      "[0]\ttrain-auc:0.786543\tval-auc:0.781259\n",
      "[1]\ttrain-auc:0.793264\tval-auc:0.786857\n",
      "[2]\ttrain-auc:0.796577\tval-auc:0.789617\n",
      "[3]\ttrain-auc:0.799173\tval-auc:0.791589\n",
      "[4]\ttrain-auc:0.801457\tval-auc:0.7931\n",
      "[5]\ttrain-auc:0.803346\tval-auc:0.794228\n",
      "[6]\ttrain-auc:0.805162\tval-auc:0.795295\n",
      "[7]\ttrain-auc:0.806663\tval-auc:0.796173\n",
      "[8]\ttrain-auc:0.808287\tval-auc:0.797071\n",
      "[9]\ttrain-auc:0.809741\tval-auc:0.797954\n",
      "[10]\ttrain-auc:0.811333\tval-auc:0.798805\n",
      "[11]\ttrain-auc:0.813002\tval-auc:0.799547\n",
      "[12]\ttrain-auc:0.814467\tval-auc:0.800233\n",
      "[13]\ttrain-auc:0.81579\tval-auc:0.801021\n",
      "[14]\ttrain-auc:0.817086\tval-auc:0.801521\n",
      "[15]\ttrain-auc:0.818147\tval-auc:0.802007\n",
      "[16]\ttrain-auc:0.82006\tval-auc:0.80292\n",
      "[17]\ttrain-auc:0.821399\tval-auc:0.803568\n",
      "[18]\ttrain-auc:0.822848\tval-auc:0.804203\n",
      "[19]\ttrain-auc:0.82397\tval-auc:0.804759\n",
      "[20]\ttrain-auc:0.825229\tval-auc:0.805181\n",
      "[21]\ttrain-auc:0.826775\tval-auc:0.805891\n",
      "[22]\ttrain-auc:0.828153\tval-auc:0.806526\n",
      "[23]\ttrain-auc:0.829438\tval-auc:0.806941\n",
      "[24]\ttrain-auc:0.83067\tval-auc:0.807405\n",
      "[25]\ttrain-auc:0.832209\tval-auc:0.808068\n",
      "[26]\ttrain-auc:0.833217\tval-auc:0.808511\n",
      "[27]\ttrain-auc:0.834278\tval-auc:0.808907\n",
      "[28]\ttrain-auc:0.835652\tval-auc:0.809338\n",
      "[29]\ttrain-auc:0.836618\tval-auc:0.80968\n",
      "[30]\ttrain-auc:0.8377\tval-auc:0.810128\n",
      "[31]\ttrain-auc:0.838993\tval-auc:0.810636\n",
      "[32]\ttrain-auc:0.839694\tval-auc:0.810843\n",
      "[33]\ttrain-auc:0.840645\tval-auc:0.811066\n",
      "[34]\ttrain-auc:0.84205\tval-auc:0.811576\n",
      "[35]\ttrain-auc:0.843417\tval-auc:0.812157\n",
      "[36]\ttrain-auc:0.844418\tval-auc:0.812416\n",
      "[37]\ttrain-auc:0.84543\tval-auc:0.8127\n",
      "[38]\ttrain-auc:0.846548\tval-auc:0.813049\n",
      "[39]\ttrain-auc:0.847988\tval-auc:0.813615\n",
      "[40]\ttrain-auc:0.849117\tval-auc:0.813866\n",
      "[41]\ttrain-auc:0.850341\tval-auc:0.814239\n",
      "[42]\ttrain-auc:0.851097\tval-auc:0.814436\n",
      "[43]\ttrain-auc:0.852902\tval-auc:0.815019\n",
      "[44]\ttrain-auc:0.85413\tval-auc:0.815211\n",
      "[45]\ttrain-auc:0.854992\tval-auc:0.815625\n",
      "[46]\ttrain-auc:0.85617\tval-auc:0.816051\n",
      "[47]\ttrain-auc:0.857269\tval-auc:0.816274\n",
      "[48]\ttrain-auc:0.858293\tval-auc:0.816658\n",
      "[49]\ttrain-auc:0.859535\tval-auc:0.816999\n",
      "[50]\ttrain-auc:0.860671\tval-auc:0.817221\n",
      "[51]\ttrain-auc:0.862058\tval-auc:0.817612\n",
      "[52]\ttrain-auc:0.863218\tval-auc:0.817846\n",
      "[53]\ttrain-auc:0.863852\tval-auc:0.818047\n",
      "[54]\ttrain-auc:0.864888\tval-auc:0.818284\n",
      "[55]\ttrain-auc:0.866143\tval-auc:0.81854\n",
      "[56]\ttrain-auc:0.866969\tval-auc:0.818743\n",
      "[57]\ttrain-auc:0.867681\tval-auc:0.818962\n",
      "[58]\ttrain-auc:0.868677\tval-auc:0.819117\n",
      "[59]\ttrain-auc:0.869477\tval-auc:0.819292\n",
      "[60]\ttrain-auc:0.87058\tval-auc:0.819632\n",
      "[61]\ttrain-auc:0.871329\tval-auc:0.819733\n",
      "[62]\ttrain-auc:0.87215\tval-auc:0.820061\n",
      "[63]\ttrain-auc:0.873245\tval-auc:0.820334\n",
      "[64]\ttrain-auc:0.874141\tval-auc:0.820581\n",
      "[65]\ttrain-auc:0.874996\tval-auc:0.820774\n",
      "[66]\ttrain-auc:0.875729\tval-auc:0.820905\n",
      "[67]\ttrain-auc:0.87633\tval-auc:0.821048\n",
      "[68]\ttrain-auc:0.877272\tval-auc:0.821378\n",
      "[69]\ttrain-auc:0.877834\tval-auc:0.821519\n",
      "[70]\ttrain-auc:0.878546\tval-auc:0.821645\n",
      "[71]\ttrain-auc:0.879196\tval-auc:0.821861\n",
      "[72]\ttrain-auc:0.879876\tval-auc:0.822022\n",
      "[73]\ttrain-auc:0.880428\tval-auc:0.822238\n",
      "[74]\ttrain-auc:0.88102\tval-auc:0.822382\n",
      "[75]\ttrain-auc:0.881466\tval-auc:0.822431\n",
      "[76]\ttrain-auc:0.88225\tval-auc:0.822603\n",
      "[77]\ttrain-auc:0.88322\tval-auc:0.82302\n",
      "[78]\ttrain-auc:0.883772\tval-auc:0.823098\n",
      "[79]\ttrain-auc:0.884848\tval-auc:0.823244\n",
      "[80]\ttrain-auc:0.885895\tval-auc:0.823651\n",
      "[81]\ttrain-auc:0.886465\tval-auc:0.823731\n",
      "[82]\ttrain-auc:0.886971\tval-auc:0.823834\n",
      "[83]\ttrain-auc:0.887463\tval-auc:0.823921\n",
      "[84]\ttrain-auc:0.888406\tval-auc:0.824066\n",
      "[85]\ttrain-auc:0.889164\tval-auc:0.824232\n",
      "[86]\ttrain-auc:0.889879\tval-auc:0.824557\n",
      "[87]\ttrain-auc:0.890849\tval-auc:0.824876\n",
      "[88]\ttrain-auc:0.891526\tval-auc:0.825014\n",
      "[89]\ttrain-auc:0.892314\tval-auc:0.825247\n",
      "[90]\ttrain-auc:0.893025\tval-auc:0.825449\n",
      "[91]\ttrain-auc:0.893363\tval-auc:0.825534\n",
      "[92]\ttrain-auc:0.894172\tval-auc:0.825618\n",
      "[93]\ttrain-auc:0.894805\tval-auc:0.825786\n",
      "[94]\ttrain-auc:0.89524\tval-auc:0.825869\n",
      "[95]\ttrain-auc:0.895876\tval-auc:0.82602\n",
      "[96]\ttrain-auc:0.896652\tval-auc:0.826258\n",
      "[97]\ttrain-auc:0.897312\tval-auc:0.826383\n",
      "[98]\ttrain-auc:0.897806\tval-auc:0.826524\n",
      "[99]\ttrain-auc:0.898934\tval-auc:0.826952\n",
      "[100]\ttrain-auc:0.899818\tval-auc:0.827151\n",
      "[101]\ttrain-auc:0.900218\tval-auc:0.827267\n",
      "[102]\ttrain-auc:0.900742\tval-auc:0.827342\n",
      "[103]\ttrain-auc:0.901326\tval-auc:0.827498\n",
      "[104]\ttrain-auc:0.90164\tval-auc:0.827625\n",
      "[105]\ttrain-auc:0.90262\tval-auc:0.828026\n",
      "[106]\ttrain-auc:0.903214\tval-auc:0.828237\n",
      "[107]\ttrain-auc:0.903862\tval-auc:0.828517\n",
      "[108]\ttrain-auc:0.904437\tval-auc:0.82861\n",
      "[109]\ttrain-auc:0.904784\tval-auc:0.828692\n",
      "[110]\ttrain-auc:0.905224\tval-auc:0.828835\n",
      "[111]\ttrain-auc:0.905598\tval-auc:0.828902\n",
      "[112]\ttrain-auc:0.906015\tval-auc:0.82898\n",
      "[113]\ttrain-auc:0.906861\tval-auc:0.829253\n",
      "[114]\ttrain-auc:0.90742\tval-auc:0.829403\n",
      "[115]\ttrain-auc:0.908011\tval-auc:0.829489\n",
      "[116]\ttrain-auc:0.908935\tval-auc:0.829609\n",
      "[117]\ttrain-auc:0.909474\tval-auc:0.829859\n",
      "[118]\ttrain-auc:0.909888\tval-auc:0.82995\n",
      "[119]\ttrain-auc:0.910375\tval-auc:0.83002\n",
      "[120]\ttrain-auc:0.910933\tval-auc:0.830088\n",
      "[121]\ttrain-auc:0.911325\tval-auc:0.830135\n",
      "[122]\ttrain-auc:0.911914\tval-auc:0.830359\n",
      "[123]\ttrain-auc:0.912604\tval-auc:0.830422\n",
      "[124]\ttrain-auc:0.913132\tval-auc:0.830568\n",
      "[125]\ttrain-auc:0.913444\tval-auc:0.830648\n",
      "[126]\ttrain-auc:0.914027\tval-auc:0.830784\n",
      "[127]\ttrain-auc:0.914402\tval-auc:0.830899\n",
      "[128]\ttrain-auc:0.91511\tval-auc:0.831099\n",
      "[129]\ttrain-auc:0.915538\tval-auc:0.83121\n",
      "[130]\ttrain-auc:0.916016\tval-auc:0.831409\n",
      "[131]\ttrain-auc:0.9163\tval-auc:0.831471\n",
      "[132]\ttrain-auc:0.916851\tval-auc:0.831588\n",
      "[133]\ttrain-auc:0.917489\tval-auc:0.831706\n",
      "[134]\ttrain-auc:0.917856\tval-auc:0.831795\n",
      "[135]\ttrain-auc:0.918198\tval-auc:0.831846\n",
      "[136]\ttrain-auc:0.91881\tval-auc:0.831922\n",
      "[137]\ttrain-auc:0.919425\tval-auc:0.832062\n",
      "[138]\ttrain-auc:0.920032\tval-auc:0.832166\n",
      "[139]\ttrain-auc:0.920468\tval-auc:0.832284\n",
      "[140]\ttrain-auc:0.920759\tval-auc:0.832377\n",
      "[141]\ttrain-auc:0.921051\tval-auc:0.832452\n",
      "[142]\ttrain-auc:0.921551\tval-auc:0.832611\n",
      "[143]\ttrain-auc:0.921921\tval-auc:0.83269\n",
      "[144]\ttrain-auc:0.922271\tval-auc:0.832815\n",
      "[145]\ttrain-auc:0.92284\tval-auc:0.83289\n",
      "[146]\ttrain-auc:0.923346\tval-auc:0.832985\n",
      "[147]\ttrain-auc:0.924021\tval-auc:0.833167\n",
      "[148]\ttrain-auc:0.924733\tval-auc:0.833239\n",
      "[149]\ttrain-auc:0.925199\tval-auc:0.833327\n",
      "[150]\ttrain-auc:0.92552\tval-auc:0.833422\n",
      "[151]\ttrain-auc:0.926109\tval-auc:0.833472\n",
      "[152]\ttrain-auc:0.926463\tval-auc:0.833602\n",
      "[153]\ttrain-auc:0.926744\tval-auc:0.83368\n",
      "[154]\ttrain-auc:0.927274\tval-auc:0.833786\n",
      "[155]\ttrain-auc:0.927809\tval-auc:0.833939\n",
      "[156]\ttrain-auc:0.928159\tval-auc:0.83399\n",
      "[157]\ttrain-auc:0.92872\tval-auc:0.834119\n",
      "[158]\ttrain-auc:0.929185\tval-auc:0.834315\n",
      "[159]\ttrain-auc:0.929616\tval-auc:0.834406\n",
      "[160]\ttrain-auc:0.930108\tval-auc:0.834507\n",
      "[161]\ttrain-auc:0.930388\tval-auc:0.834583\n",
      "[162]\ttrain-auc:0.930922\tval-auc:0.834834\n",
      "[163]\ttrain-auc:0.931202\tval-auc:0.834967\n",
      "[164]\ttrain-auc:0.931814\tval-auc:0.835216\n",
      "[165]\ttrain-auc:0.932183\tval-auc:0.835266\n",
      "[166]\ttrain-auc:0.932534\tval-auc:0.835307\n",
      "[167]\ttrain-auc:0.933053\tval-auc:0.835352\n",
      "[168]\ttrain-auc:0.933436\tval-auc:0.835473\n",
      "[169]\ttrain-auc:0.933788\tval-auc:0.835581\n",
      "[170]\ttrain-auc:0.934244\tval-auc:0.835769\n",
      "[171]\ttrain-auc:0.93456\tval-auc:0.835859\n",
      "[172]\ttrain-auc:0.934773\tval-auc:0.835928\n",
      "[173]\ttrain-auc:0.935098\tval-auc:0.836062\n",
      "[174]\ttrain-auc:0.935426\tval-auc:0.836064\n",
      "[175]\ttrain-auc:0.935807\tval-auc:0.836166\n",
      "[176]\ttrain-auc:0.936278\tval-auc:0.83635\n",
      "[177]\ttrain-auc:0.93654\tval-auc:0.836403\n",
      "[178]\ttrain-auc:0.936886\tval-auc:0.83645\n",
      "[179]\ttrain-auc:0.93733\tval-auc:0.836541\n",
      "[180]\ttrain-auc:0.937687\tval-auc:0.836632\n",
      "[181]\ttrain-auc:0.937925\tval-auc:0.836722\n",
      "[182]\ttrain-auc:0.938187\tval-auc:0.836773\n",
      "[183]\ttrain-auc:0.938483\tval-auc:0.836808\n",
      "[184]\ttrain-auc:0.938657\tval-auc:0.836869\n",
      "[185]\ttrain-auc:0.939158\tval-auc:0.83701\n",
      "[186]\ttrain-auc:0.939687\tval-auc:0.837092\n",
      "[187]\ttrain-auc:0.940057\tval-auc:0.837194\n",
      "[188]\ttrain-auc:0.940233\tval-auc:0.837264\n",
      "[189]\ttrain-auc:0.940644\tval-auc:0.837484\n",
      "[190]\ttrain-auc:0.940917\tval-auc:0.837527\n",
      "[191]\ttrain-auc:0.941257\tval-auc:0.837576\n",
      "[192]\ttrain-auc:0.941526\tval-auc:0.837641\n",
      "[193]\ttrain-auc:0.942047\tval-auc:0.837701\n",
      "[194]\ttrain-auc:0.942267\tval-auc:0.837757\n",
      "[195]\ttrain-auc:0.942673\tval-auc:0.837812\n",
      "[196]\ttrain-auc:0.942849\tval-auc:0.837862\n",
      "[197]\ttrain-auc:0.943236\tval-auc:0.837967\n",
      "[198]\ttrain-auc:0.943651\tval-auc:0.838085\n",
      "[199]\ttrain-auc:0.943882\tval-auc:0.838142\n",
      "[200]\ttrain-auc:0.944507\tval-auc:0.838285\n",
      "[201]\ttrain-auc:0.945088\tval-auc:0.83859\n",
      "[202]\ttrain-auc:0.945322\tval-auc:0.838718\n",
      "[203]\ttrain-auc:0.945742\tval-auc:0.838762\n",
      "[204]\ttrain-auc:0.945965\tval-auc:0.838818\n",
      "[205]\ttrain-auc:0.946212\tval-auc:0.838892\n",
      "[206]\ttrain-auc:0.946448\tval-auc:0.83896\n",
      "[207]\ttrain-auc:0.946616\tval-auc:0.839012\n",
      "[208]\ttrain-auc:0.946951\tval-auc:0.839179\n",
      "[209]\ttrain-auc:0.947386\tval-auc:0.839286\n",
      "[210]\ttrain-auc:0.947686\tval-auc:0.839431\n",
      "[211]\ttrain-auc:0.947971\tval-auc:0.839487\n",
      "[212]\ttrain-auc:0.948381\tval-auc:0.839626\n",
      "[213]\ttrain-auc:0.948792\tval-auc:0.839776\n",
      "[214]\ttrain-auc:0.949104\tval-auc:0.83989\n",
      "[215]\ttrain-auc:0.949233\tval-auc:0.839929\n",
      "[216]\ttrain-auc:0.949605\tval-auc:0.840108\n",
      "[217]\ttrain-auc:0.949845\tval-auc:0.840156\n",
      "[218]\ttrain-auc:0.95025\tval-auc:0.840293\n",
      "[219]\ttrain-auc:0.950554\tval-auc:0.840365\n",
      "[220]\ttrain-auc:0.950785\tval-auc:0.840421\n",
      "[221]\ttrain-auc:0.951044\tval-auc:0.840487\n",
      "[222]\ttrain-auc:0.951381\tval-auc:0.840571\n",
      "[223]\ttrain-auc:0.951673\tval-auc:0.840655\n",
      "[224]\ttrain-auc:0.952124\tval-auc:0.840774\n",
      "[225]\ttrain-auc:0.952287\tval-auc:0.840826\n",
      "[226]\ttrain-auc:0.952496\tval-auc:0.84095\n",
      "[227]\ttrain-auc:0.95264\tval-auc:0.840992\n",
      "[228]\ttrain-auc:0.952871\tval-auc:0.841046\n",
      "[229]\ttrain-auc:0.953063\tval-auc:0.841116\n",
      "[230]\ttrain-auc:0.953335\tval-auc:0.84119\n",
      "[231]\ttrain-auc:0.953613\tval-auc:0.841327\n",
      "[232]\ttrain-auc:0.953862\tval-auc:0.841389\n",
      "[233]\ttrain-auc:0.954199\tval-auc:0.841436\n",
      "[234]\ttrain-auc:0.954568\tval-auc:0.841583\n",
      "[235]\ttrain-auc:0.954988\tval-auc:0.841779\n",
      "[236]\ttrain-auc:0.955273\tval-auc:0.841968\n",
      "[237]\ttrain-auc:0.955428\tval-auc:0.842045\n",
      "[238]\ttrain-auc:0.955676\tval-auc:0.842143\n",
      "[239]\ttrain-auc:0.955934\tval-auc:0.842197\n",
      "[240]\ttrain-auc:0.956235\tval-auc:0.842283\n",
      "[241]\ttrain-auc:0.956518\tval-auc:0.84246\n",
      "[242]\ttrain-auc:0.956636\tval-auc:0.842537\n",
      "[243]\ttrain-auc:0.956967\tval-auc:0.842609\n",
      "[244]\ttrain-auc:0.957206\tval-auc:0.842679\n",
      "[245]\ttrain-auc:0.957376\tval-auc:0.842765\n",
      "[246]\ttrain-auc:0.957657\tval-auc:0.842932\n",
      "[247]\ttrain-auc:0.958031\tval-auc:0.843055\n",
      "[248]\ttrain-auc:0.95821\tval-auc:0.843102\n",
      "[249]\ttrain-auc:0.958605\tval-auc:0.843187\n",
      "[250]\ttrain-auc:0.959017\tval-auc:0.843343\n",
      "[251]\ttrain-auc:0.959279\tval-auc:0.843385\n",
      "[252]\ttrain-auc:0.959667\tval-auc:0.843432\n",
      "[253]\ttrain-auc:0.959816\tval-auc:0.843473\n",
      "[254]\ttrain-auc:0.959945\tval-auc:0.84353\n",
      "[255]\ttrain-auc:0.96031\tval-auc:0.843701\n",
      "[256]\ttrain-auc:0.960553\tval-auc:0.843784\n",
      "[257]\ttrain-auc:0.960675\tval-auc:0.843823\n",
      "[258]\ttrain-auc:0.960797\tval-auc:0.843833\n",
      "[259]\ttrain-auc:0.961021\tval-auc:0.843869\n",
      "[260]\ttrain-auc:0.96134\tval-auc:0.843966\n",
      "[261]\ttrain-auc:0.961435\tval-auc:0.844021\n",
      "[262]\ttrain-auc:0.96163\tval-auc:0.844081\n",
      "[263]\ttrain-auc:0.961987\tval-auc:0.844213\n",
      "[264]\ttrain-auc:0.962147\tval-auc:0.844262\n",
      "[265]\ttrain-auc:0.962404\tval-auc:0.844312\n",
      "[266]\ttrain-auc:0.962738\tval-auc:0.844421\n",
      "[267]\ttrain-auc:0.962862\tval-auc:0.844444\n",
      "[268]\ttrain-auc:0.962995\tval-auc:0.844515\n",
      "[269]\ttrain-auc:0.963468\tval-auc:0.844653\n",
      "[270]\ttrain-auc:0.963572\tval-auc:0.844704\n",
      "[271]\ttrain-auc:0.963718\tval-auc:0.844786\n",
      "[272]\ttrain-auc:0.963866\tval-auc:0.844834\n",
      "[273]\ttrain-auc:0.964024\tval-auc:0.844922\n",
      "[274]\ttrain-auc:0.964181\tval-auc:0.844955\n",
      "[275]\ttrain-auc:0.964348\tval-auc:0.844991\n",
      "[276]\ttrain-auc:0.964699\tval-auc:0.845059\n",
      "[277]\ttrain-auc:0.9649\tval-auc:0.845155\n",
      "[278]\ttrain-auc:0.964982\tval-auc:0.845181\n",
      "[279]\ttrain-auc:0.965319\tval-auc:0.845268\n",
      "[280]\ttrain-auc:0.965532\tval-auc:0.845288\n",
      "[281]\ttrain-auc:0.965767\tval-auc:0.845374\n",
      "[282]\ttrain-auc:0.965854\tval-auc:0.845374\n",
      "[283]\ttrain-auc:0.966004\tval-auc:0.845409\n",
      "[284]\ttrain-auc:0.966123\tval-auc:0.845462\n",
      "[285]\ttrain-auc:0.966302\tval-auc:0.845562\n",
      "[286]\ttrain-auc:0.966434\tval-auc:0.845599\n",
      "[287]\ttrain-auc:0.966744\tval-auc:0.845881\n",
      "[288]\ttrain-auc:0.967064\tval-auc:0.845956\n",
      "[289]\ttrain-auc:0.967334\tval-auc:0.846066\n",
      "[290]\ttrain-auc:0.96745\tval-auc:0.846162\n",
      "[291]\ttrain-auc:0.967527\tval-auc:0.846218\n",
      "[292]\ttrain-auc:0.967651\tval-auc:0.846264\n",
      "[293]\ttrain-auc:0.967743\tval-auc:0.846319\n",
      "[294]\ttrain-auc:0.96786\tval-auc:0.846356\n",
      "[295]\ttrain-auc:0.967983\tval-auc:0.846387\n",
      "[296]\ttrain-auc:0.96817\tval-auc:0.846419\n",
      "[297]\ttrain-auc:0.968221\tval-auc:0.846458\n",
      "[298]\ttrain-auc:0.968439\tval-auc:0.846467\n",
      "[299]\ttrain-auc:0.968543\tval-auc:0.846468\n"
     ]
    }
   ],
   "source": [
    "model = xgb.train(xgb_pars, dtrain, num_boost_round=n_estimators, verbose_eval=1,\n",
    "                  evals=watchlist)"
   ]
  },
  {
   "cell_type": "code",
   "execution_count": null,
   "metadata": {
    "collapsed": true
   },
   "outputs": [],
   "source": []
  },
  {
   "cell_type": "code",
   "execution_count": 10,
   "metadata": {
    "collapsed": false
   },
   "outputs": [],
   "source": [
    "val = False\n",
    "\n",
    "df_train = feather.read_dataframe('feather/df_train_all.feather')\n",
    "df_test = feather.read_dataframe('feather/df_test.feather')\n",
    "out = 'tmp_test'"
   ]
  },
  {
   "cell_type": "code",
   "execution_count": 23,
   "metadata": {
    "collapsed": false
   },
   "outputs": [],
   "source": [
    "to_exlude = ['decision']\n",
    "\n",
    "features = list(df_train.columns)\n",
    "for c in to_exlude:\n",
    "    features.remove(c)\n",
    "\n",
    "target = 'decision'\n",
    "C = 12\n",
    "cv = KFold(len(df_train), n_folds=3, shuffle=False, random_state=1)"
   ]
  },
  {
   "cell_type": "code",
   "execution_count": 12,
   "metadata": {
    "collapsed": false
   },
   "outputs": [],
   "source": [
    "with open('tmp_val/features.bin', 'rb') as f:\n",
    "    feature_names_all = pickle.load(f)"
   ]
  },
  {
   "cell_type": "code",
   "execution_count": 19,
   "metadata": {
    "collapsed": false
   },
   "outputs": [],
   "source": [
    "feature_orig = [s.split('&') for s in feature_names_all]\n",
    "feature_orig_1 = [s[0] for s in feature_orig if len(s) == 1]\n",
    "feature_orig_2 = [tuple(s) for s in feature_orig if len(s) == 2]\n",
    "feature_orig_3 = [tuple(s) for s in feature_orig if len(s) == 3]"
   ]
  },
  {
   "cell_type": "code",
   "execution_count": 26,
   "metadata": {
    "collapsed": false,
    "scrolled": true
   },
   "outputs": [],
   "source": [
    "with ProcessPoolExecutor(max_workers=20) as pool:\n",
    "    res = mtv_apply_parallel(pool, cv, df_train, df_test, target, feature_orig_1, C, auc_selection=False)\n",
    "    gc.collect()    \n",
    "\n",
    "    res2 = mtv_pairs_apply_parallel(pool, cv, df_train, df_test, target, feature_orig_2, C, auc_selection=False)\n",
    "    gc.collect()\n",
    "\n",
    "    res3 = mtv_triple_apply_parallel(pool, cv, df_train, df_test, target, feature_orig_3, C)\n",
    "    gc.collect()"
   ]
  },
  {
   "cell_type": "code",
   "execution_count": 27,
   "metadata": {
    "collapsed": true
   },
   "outputs": [],
   "source": [
    "feature_names_all = []\n",
    "X_train_all = []\n",
    "X_test_all = []\n",
    "\n",
    "for r in res:\n",
    "    if r['train_res'] is None:\n",
    "        continue\n",
    "    X_train_all.append(r['train_res'])\n",
    "    X_test_all.append(r['test_res'])\n",
    "    feature_names_all.append(r['feature_name'])\n",
    "\n",
    "for r in res2 + res3:\n",
    "    if r['train_res'] is None:\n",
    "        continue\n",
    "    X_train_all.append(r['train_res'])\n",
    "    X_test_all.append(r['test_res'])\n",
    "    feature_names_all.append('&'.join(r['feature_name']))"
   ]
  },
  {
   "cell_type": "code",
   "execution_count": 28,
   "metadata": {
    "collapsed": true
   },
   "outputs": [],
   "source": [
    "X_train = np.array(X_train_all).T\n",
    "X_test = np.array(X_test_all).T"
   ]
  },
  {
   "cell_type": "code",
   "execution_count": 31,
   "metadata": {
    "collapsed": true
   },
   "outputs": [],
   "source": [
    "y_train = df_train.decision.values"
   ]
  },
  {
   "cell_type": "code",
   "execution_count": 33,
   "metadata": {
    "collapsed": true
   },
   "outputs": [],
   "source": [
    "import xgboost as xgb"
   ]
  },
  {
   "cell_type": "code",
   "execution_count": 30,
   "metadata": {
    "collapsed": true
   },
   "outputs": [],
   "source": [
    "xgb_pars = {\n",
    "    'eta': 0.3,\n",
    "    'gamma': 0,\n",
    "    'max_depth': 6,\n",
    "    'min_child_weight': 1,\n",
    "    'max_delta_step': 0,\n",
    "    'subsample': 1,\n",
    "    'colsample_bytree': 1,\n",
    "    'colsample_bylevel': 1,\n",
    "    'lambda': 1,\n",
    "    'alpha': 0,\n",
    "    'tree_method': 'approx',\n",
    "# not deafauts\n",
    "    'objective': 'binary:logistic',\n",
    "    'eval_metric': 'auc',\n",
    "    'nthread': 20,\n",
    "    'seed': 42,\n",
    "    'silent': 1\n",
    "}\n",
    "\n",
    "n_estimators = 100"
   ]
  },
  {
   "cell_type": "code",
   "execution_count": 34,
   "metadata": {
    "collapsed": false
   },
   "outputs": [],
   "source": [
    "dtrain = xgb.DMatrix(X_train, label=y_train, feature_names=feature_names_all, missing=np.nan)\n",
    "watchlist = [(dtrain, 'train')]\n",
    "\n",
    "dtest = xgb.DMatrix(X_test, feature_names=feature_names_all, missing=np.nan)\n"
   ]
  },
  {
   "cell_type": "code",
   "execution_count": 35,
   "metadata": {
    "collapsed": false,
    "scrolled": true
   },
   "outputs": [
    {
     "name": "stdout",
     "output_type": "stream",
     "text": [
      "[0]\ttrain-auc:0.769196\n",
      "[1]\ttrain-auc:0.775669\n",
      "[2]\ttrain-auc:0.778812\n",
      "[3]\ttrain-auc:0.780118\n",
      "[4]\ttrain-auc:0.7814\n",
      "[5]\ttrain-auc:0.782615\n",
      "[6]\ttrain-auc:0.783865\n",
      "[7]\ttrain-auc:0.784916\n",
      "[8]\ttrain-auc:0.785895\n",
      "[9]\ttrain-auc:0.786609\n",
      "[10]\ttrain-auc:0.787494\n",
      "[11]\ttrain-auc:0.788228\n",
      "[12]\ttrain-auc:0.789061\n",
      "[13]\ttrain-auc:0.789566\n",
      "[14]\ttrain-auc:0.790252\n",
      "[15]\ttrain-auc:0.790866\n",
      "[16]\ttrain-auc:0.791389\n",
      "[17]\ttrain-auc:0.791987\n",
      "[18]\ttrain-auc:0.792364\n",
      "[19]\ttrain-auc:0.792757\n",
      "[20]\ttrain-auc:0.793328\n",
      "[21]\ttrain-auc:0.793917\n",
      "[22]\ttrain-auc:0.794274\n",
      "[23]\ttrain-auc:0.794712\n",
      "[24]\ttrain-auc:0.795068\n",
      "[25]\ttrain-auc:0.79536\n",
      "[26]\ttrain-auc:0.795726\n",
      "[27]\ttrain-auc:0.796086\n",
      "[28]\ttrain-auc:0.796422\n",
      "[29]\ttrain-auc:0.796744\n",
      "[30]\ttrain-auc:0.797148\n",
      "[31]\ttrain-auc:0.79748\n",
      "[32]\ttrain-auc:0.797701\n",
      "[33]\ttrain-auc:0.797979\n",
      "[34]\ttrain-auc:0.79824\n",
      "[35]\ttrain-auc:0.798485\n",
      "[36]\ttrain-auc:0.798757\n",
      "[37]\ttrain-auc:0.799065\n",
      "[38]\ttrain-auc:0.799295\n",
      "[39]\ttrain-auc:0.79956\n",
      "[40]\ttrain-auc:0.79984\n",
      "[41]\ttrain-auc:0.800099\n",
      "[42]\ttrain-auc:0.800445\n",
      "[43]\ttrain-auc:0.800774\n",
      "[44]\ttrain-auc:0.800973\n",
      "[45]\ttrain-auc:0.801121\n",
      "[46]\ttrain-auc:0.801353\n",
      "[47]\ttrain-auc:0.801558\n",
      "[48]\ttrain-auc:0.801785\n",
      "[49]\ttrain-auc:0.80201\n",
      "[50]\ttrain-auc:0.802208\n",
      "[51]\ttrain-auc:0.80235\n",
      "[52]\ttrain-auc:0.802659\n",
      "[53]\ttrain-auc:0.802884\n",
      "[54]\ttrain-auc:0.803064\n",
      "[55]\ttrain-auc:0.803259\n",
      "[56]\ttrain-auc:0.80354\n",
      "[57]\ttrain-auc:0.803902\n",
      "[58]\ttrain-auc:0.804233\n",
      "[59]\ttrain-auc:0.804434\n",
      "[60]\ttrain-auc:0.804716\n",
      "[61]\ttrain-auc:0.804895\n",
      "[62]\ttrain-auc:0.80527\n",
      "[63]\ttrain-auc:0.805388\n",
      "[64]\ttrain-auc:0.805615\n",
      "[65]\ttrain-auc:0.805799\n",
      "[66]\ttrain-auc:0.806039\n",
      "[67]\ttrain-auc:0.806283\n",
      "[68]\ttrain-auc:0.806404\n",
      "[69]\ttrain-auc:0.806636\n",
      "[70]\ttrain-auc:0.806825\n",
      "[71]\ttrain-auc:0.807022\n",
      "[72]\ttrain-auc:0.807249\n",
      "[73]\ttrain-auc:0.807473\n",
      "[74]\ttrain-auc:0.807683\n",
      "[75]\ttrain-auc:0.807961\n",
      "[76]\ttrain-auc:0.808134\n",
      "[77]\ttrain-auc:0.808277\n",
      "[78]\ttrain-auc:0.808511\n",
      "[79]\ttrain-auc:0.808645\n",
      "[80]\ttrain-auc:0.808886\n",
      "[81]\ttrain-auc:0.808985\n",
      "[82]\ttrain-auc:0.809211\n",
      "[83]\ttrain-auc:0.809362\n",
      "[84]\ttrain-auc:0.809545\n",
      "[85]\ttrain-auc:0.809779\n",
      "[86]\ttrain-auc:0.810007\n",
      "[87]\ttrain-auc:0.810147\n",
      "[88]\ttrain-auc:0.810282\n",
      "[89]\ttrain-auc:0.810486\n",
      "[90]\ttrain-auc:0.810669\n",
      "[91]\ttrain-auc:0.810871\n",
      "[92]\ttrain-auc:0.811054\n",
      "[93]\ttrain-auc:0.811281\n",
      "[94]\ttrain-auc:0.811518\n",
      "[95]\ttrain-auc:0.811711\n",
      "[96]\ttrain-auc:0.811851\n",
      "[97]\ttrain-auc:0.811987\n",
      "[98]\ttrain-auc:0.812173\n",
      "[99]\ttrain-auc:0.812351\n"
     ]
    }
   ],
   "source": [
    "model = xgb.train(xgb_pars, dtrain, num_boost_round=n_estimators, verbose_eval=1,\n",
    "                  evals=watchlist)"
   ]
  },
  {
   "cell_type": "code",
   "execution_count": 39,
   "metadata": {
    "collapsed": false
   },
   "outputs": [],
   "source": [
    "pred = model.predict(dtest, ntree_limit=50)\n",
    "with open('results_xgb6_50.txt', 'w') as f:\n",
    "    for p in pred:\n",
    "        f.write('%.5f\\n' % p)"
   ]
  },
  {
   "cell_type": "code",
   "execution_count": 40,
   "metadata": {
    "collapsed": false
   },
   "outputs": [],
   "source": [
    "pred = model.predict(dtest, ntree_limit=75)\n",
    "with open('results_xgb6_75.txt', 'w') as f:\n",
    "    for p in pred:\n",
    "        f.write('%.5f\\n' % p)"
   ]
  },
  {
   "cell_type": "code",
   "execution_count": 38,
   "metadata": {
    "collapsed": true
   },
   "outputs": [],
   "source": [
    "pred = model.predict(dtest, ntree_limit=100)\n",
    "with open('results_xgb6_100.txt', 'w') as f:\n",
    "    for p in pred:\n",
    "        f.write('%.5f\\n' % p)"
   ]
  },
  {
   "cell_type": "code",
   "execution_count": null,
   "metadata": {
    "collapsed": true
   },
   "outputs": [],
   "source": []
  }
 ],
 "metadata": {
  "anaconda-cloud": {},
  "kernelspec": {
   "display_name": "Python [conda root]",
   "language": "python",
   "name": "conda-root-py"
  },
  "language_info": {
   "codemirror_mode": {
    "name": "ipython",
    "version": 3
   },
   "file_extension": ".py",
   "mimetype": "text/x-python",
   "name": "python",
   "nbconvert_exporter": "python",
   "pygments_lexer": "ipython3",
   "version": "3.5.2"
  },
  "widgets": {
   "state": {
    "2ae5bbaaae20482d8e22c10f415f4e00": {
     "views": [
      {
       "cell_index": 35
      }
     ]
    },
    "63044a40c251490696b1438c0318491b": {
     "views": [
      {
       "cell_index": 11
      }
     ]
    },
    "65a0e57c6234401a8b3a62720441db41": {
     "views": [
      {
       "cell_index": 35
      }
     ]
    },
    "80f5759f5cdc4202b9c8e6a96273cd3f": {
     "views": [
      {
       "cell_index": 12
      }
     ]
    },
    "8fbbec101f4240d783c36aee1e8c550b": {
     "views": [
      {
       "cell_index": 12
      }
     ]
    },
    "a1f826902af9454f9ff59bc44d1767aa": {
     "views": [
      {
       "cell_index": 35
      }
     ]
    },
    "e27a4fe336934f918dbb43739d0dee6d": {
     "views": [
      {
       "cell_index": 12
      }
     ]
    },
    "e7a8a302a3b540e0917cf5a5d48c1b62": {
     "views": [
      {
       "cell_index": 11
      }
     ]
    },
    "ec6559bbd9264d16aec4f3af3d1488d6": {
     "views": [
      {
       "cell_index": 35
      }
     ]
    }
   },
   "version": "1.2.0"
  }
 },
 "nbformat": 4,
 "nbformat_minor": 1
}
