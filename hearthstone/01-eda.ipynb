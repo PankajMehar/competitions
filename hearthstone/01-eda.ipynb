{
 "cells": [
  {
   "cell_type": "code",
   "execution_count": 1,
   "metadata": {
    "collapsed": false
   },
   "outputs": [
    {
     "name": "stdout",
     "output_type": "stream",
     "text": [
      "testData_JSON_chunk10.json     trainingData_JSON_chunk3.json\r\n",
      "testData_JSON_chunk8.json      trainingData_JSON_chunk4.json\r\n",
      "testData_JSON_chunk9.json      trainingData_JSON.zip\r\n",
      "testData_JSON.zip\t       trainingData_tabular_chunk1.csv\r\n",
      "testData_tabular.csv\t       trainingData_tabular_chunk2.csv\r\n",
      "testData_tabular.zip\t       trainingData_tabular_chunk3.csv\r\n",
      "trainingData_JSON_chunk1.json  trainingData_tabular_chunk4.csv\r\n",
      "trainingData_JSON_chunk2.json  trainingData_tabular.zip\r\n"
     ]
    }
   ],
   "source": [
    "!ls data/"
   ]
  },
  {
   "cell_type": "code",
   "execution_count": 3,
   "metadata": {
    "collapsed": false
   },
   "outputs": [
    {
     "name": "stdout",
     "output_type": "stream",
     "text": [
      "gamestate_id,decision,turn,opponent.armor,opponent.attack,opponent.hero_card_id,opponent.hp,opponent.special_skill_used,opponent.weapon_durability,opponent.crystals_all,opponent.crystals_current,opponent.deck_count,opponent.fatigue_damage,opponent.hand_count,opponent.played_minions_count,player.armor,player.attack,player.hero_card_id,player.hp,player.special_skill_used,player.weapon_durability,player.crystals_all,player.crystals_current,player.deck_count,player.fatigue_damage,player.hand_count,player.played_minions_count,opponent.played.nOfCards,opponent.played.attack,opponent.played.crystals_cost,opponent.played.hp_current,opponent.played.hp_max,player.played.nOfCards,player.played.attack,player.played.crystals_cost,player.played.hp_current,player.played.hp_max,player.hand.nOfMinions,player.hand.nOfSpells,player.hand.nOfWeapons,player.hand.nOfCards,player.hand.nOfPlayable,player.hand.attack,player.hand.crystals_cost,player.hand.hp\r",
      "\r\n",
      "4687346,1,14,0,0,798,5,0,0,10,10,11,0,2,1,0,0,981,17,1,0,10,0,12,0,5,5,1,2,4,6,8,5,21,20,20,23,4,0,1,5,0,20,22,17\r",
      "\r\n",
      "3270826,1,7,0,0,754,22,0,0,6,6,19,0,8,1,0,0,754,29,0,0,7,0,18,0,7,5,1,2,4,2,4,5,10,16,16,17,3,2,2,7,0,17,26,20\r",
      "\r\n",
      "3189487,1,5,3,0,612,29,0,0,4,1,22,0,4,2,1,0,612,30,0,0,6,5,22,0,5,0,2,8,5,8,8,0,0,0,0,0,5,0,0,5,2,26,28,27\r",
      "\r\n",
      "4098946,1,8,0,0,390,26,0,0,7,7,17,0,7,0,0,0,981,26,0,0,8,8,19,0,9,1,0,0,0,0,0,1,3,2,2,2,7,1,1,9,9,36,44,36\r",
      "\r\n",
      "2661127,0,13,0,0,25,30,0,0,10,1,12,0,3,4,0,0,494,8,0,0,10,10,14,0,4,1,4,15,14,16,16,1,6,6,7,7,4,0,0,4,4,13,13,14\r",
      "\r\n",
      "2993360,0,13,0,0,612,26,0,0,10,3,10,0,4,4,0,4,981,8,0,1,10,0,14,0,5,2,4,18,19,12,20,2,9,8,9,9,5,0,0,5,0,19,25,25\r",
      "\r\n",
      "4378268,0,9,0,0,612,20,0,0,9,2,17,0,8,2,0,0,25,30,0,0,9,9,17,0,6,2,2,13,13,9,14,2,6,8,8,8,5,1,0,6,6,23,30,23\r",
      "\r\n",
      "3774658,1,2,0,0,390,30,0,0,1,1,25,0,6,0,0,0,612,30,0,0,2,2,25,0,5,0,0,0,0,0,0,0,0,0,0,0,4,1,0,5,1,22,25,25\r",
      "\r\n",
      "3956442,1,12,2,0,1235,18,0,0,10,2,13,0,2,2,2,0,1235,26,0,0,10,10,15,0,4,1,2,8,8,10,10,1,6,7,2,6,2,1,1,4,4,12,15,10\r",
      "\r\n"
     ]
    }
   ],
   "source": [
    "!head data/trainingData_tabular_chunk1.csv"
   ]
  },
  {
   "cell_type": "code",
   "execution_count": 4,
   "metadata": {
    "collapsed": true
   },
   "outputs": [],
   "source": [
    "import pandas as pd"
   ]
  },
  {
   "cell_type": "code",
   "execution_count": 5,
   "metadata": {
    "collapsed": true
   },
   "outputs": [],
   "source": [
    "df_train_chunk1 = pd.read_csv('data/trainingData_tabular_chunk1.csv')\n",
    "df_train_chunk2 = pd.read_csv('data/trainingData_tabular_chunk2.csv')\n",
    "df_train_chunk3 = pd.read_csv('data/trainingData_tabular_chunk3.csv')\n",
    "df_train_chunk4 = pd.read_csv('data/trainingData_tabular_chunk4.csv')"
   ]
  },
  {
   "cell_type": "code",
   "execution_count": 7,
   "metadata": {
    "collapsed": false
   },
   "outputs": [],
   "source": [
    "df_train = pd.concat([df_train_chunk1, df_train_chunk2, df_train_chunk3, df_train_chunk4])\n",
    "df_train.reset_index(drop=1, inplace=1)\n",
    "\n",
    "del df_train_chunk1, df_train_chunk2, df_train_chunk3, df_train_chunk4"
   ]
  },
  {
   "cell_type": "code",
   "execution_count": 15,
   "metadata": {
    "collapsed": false
   },
   "outputs": [],
   "source": [
    "df_train.gamestate_id = df_train.gamestate_id.astype('uint32')"
   ]
  },
  {
   "cell_type": "code",
   "execution_count": 21,
   "metadata": {
    "collapsed": false
   },
   "outputs": [],
   "source": [
    "max_val = df_train.max()"
   ]
  },
  {
   "cell_type": "code",
   "execution_count": 25,
   "metadata": {
    "collapsed": false
   },
   "outputs": [
    {
     "data": {
      "text/plain": [
       "gamestate_id                     5000000\n",
       "decision                               1\n",
       "turn                                  31\n",
       "opponent.armor                        21\n",
       "opponent.attack                        7\n",
       "opponent.hero_card_id               1235\n",
       "opponent.hp                           30\n",
       "opponent.special_skill_used            1\n",
       "opponent.weapon_durability             4\n",
       "opponent.crystals_all                 10\n",
       "opponent.crystals_current             10\n",
       "opponent.deck_count                   26\n",
       "opponent.fatigue_damage                7\n",
       "opponent.hand_count                   10\n",
       "opponent.played_minions_count          7\n",
       "player.armor                          20\n",
       "player.attack                          7\n",
       "player.hero_card_id                 1235\n",
       "player.hp                             30\n",
       "player.special_skill_used              1\n",
       "player.weapon_durability               4\n",
       "player.crystals_all                   10\n",
       "player.crystals_current               10\n",
       "player.deck_count                     26\n",
       "player.fatigue_damage                  7\n",
       "player.hand_count                     10\n",
       "player.played_minions_count            7\n",
       "opponent.played.nOfCards               7\n",
       "opponent.played.attack                49\n",
       "opponent.played.crystals_cost         40\n",
       "opponent.played.hp_current            46\n",
       "opponent.played.hp_max                63\n",
       "player.played.nOfCards                 7\n",
       "player.played.attack                  59\n",
       "player.played.crystals_cost           41\n",
       "player.played.hp_current              46\n",
       "player.played.hp_max                  55\n",
       "player.hand.nOfMinions                10\n",
       "player.hand.nOfSpells                  8\n",
       "player.hand.nOfWeapons                 4\n",
       "player.hand.nOfCards                  10\n",
       "player.hand.nOfPlayable               10\n",
       "player.hand.attack                    50\n",
       "player.hand.crystals_cost             56\n",
       "player.hand.hp                        55\n",
       "dtype: int64"
      ]
     },
     "execution_count": 25,
     "metadata": {},
     "output_type": "execute_result"
    }
   ],
   "source": [
    "max_val"
   ]
  },
  {
   "cell_type": "code",
   "execution_count": 26,
   "metadata": {
    "collapsed": false
   },
   "outputs": [],
   "source": [
    "for c, v in zip(max_val.index, max_val):\n",
    "    if c == 'gamestate_id':\n",
    "        continue\n",
    "    \n",
    "    if v <= 255:\n",
    "        df_train[c] = df_train[c].astype('uint8')\n",
    "    elif v <= 65535:\n",
    "        df_train[c] = df_train[c].astype('uint16')\n",
    "    elif v <= 4294967295:\n",
    "        df_train[c] = df_train[c].astype('uint32')\n",
    "    "
   ]
  },
  {
   "cell_type": "code",
   "execution_count": 29,
   "metadata": {
    "collapsed": false,
    "scrolled": true
   },
   "outputs": [],
   "source": [
    "import feather"
   ]
  },
  {
   "cell_type": "code",
   "execution_count": 30,
   "metadata": {
    "collapsed": true
   },
   "outputs": [],
   "source": [
    "feather.write_dataframe(df_train, 'data/df_train.feather')"
   ]
  },
  {
   "cell_type": "code",
   "execution_count": 32,
   "metadata": {
    "collapsed": true
   },
   "outputs": [],
   "source": [
    "import xgboost as xgb"
   ]
  },
  {
   "cell_type": "code",
   "execution_count": 34,
   "metadata": {
    "collapsed": true
   },
   "outputs": [],
   "source": [
    "from sklearn.metrics import roc_auc_score\n",
    "from sklearn.cross_validation import KFold"
   ]
  },
  {
   "cell_type": "code",
   "execution_count": 48,
   "metadata": {
    "collapsed": true
   },
   "outputs": [],
   "source": [
    "xgb_pars = {\n",
    "    'eta': 0.3,\n",
    "    'gamma': 0,\n",
    "    'max_depth': 6,\n",
    "    'min_child_weight': 1,\n",
    "    'max_delta_step': 0,\n",
    "    'subsample': 1,\n",
    "    'colsample_bytree': 1,\n",
    "    'colsample_bylevel': 1,\n",
    "    'lambda': 1,\n",
    "    'alpha': 0,\n",
    "    'tree_method': 'approx',\n",
    "# not deafauts\n",
    "    'objective': 'binary:logistic',\n",
    "    'eval_metric': 'auc',\n",
    "    'nthread': 8,\n",
    "    'seed': 42,\n",
    "    'silent': 1\n",
    "}"
   ]
  },
  {
   "cell_type": "code",
   "execution_count": 41,
   "metadata": {
    "collapsed": true
   },
   "outputs": [],
   "source": [
    "to_exlude = ['decision', 'gamestate_id']\n",
    "\n",
    "features = list(df_train.columns)\n",
    "for c in to_exlude:\n",
    "    features.remove(c)"
   ]
  },
  {
   "cell_type": "code",
   "execution_count": 39,
   "metadata": {
    "collapsed": true
   },
   "outputs": [],
   "source": [
    "y_full = df_train.decision.values\n",
    "X_full = df_train[columns].values"
   ]
  },
  {
   "cell_type": "code",
   "execution_count": 46,
   "metadata": {
    "collapsed": true
   },
   "outputs": [],
   "source": [
    "from tqdm import tqdm\n",
    "import numpy as np"
   ]
  },
  {
   "cell_type": "code",
   "execution_count": 43,
   "metadata": {
    "collapsed": true
   },
   "outputs": [],
   "source": [
    "cv = KFold(len(y_full), n_folds=5, shuffle=True, random_state=42)"
   ]
  },
  {
   "cell_type": "code",
   "execution_count": 44,
   "metadata": {
    "collapsed": true
   },
   "outputs": [],
   "source": [
    "n_estimators = 100"
   ]
  },
  {
   "cell_type": "code",
   "execution_count": 49,
   "metadata": {
    "collapsed": false
   },
   "outputs": [
    {
     "name": "stderr",
     "output_type": "stream",
     "text": [
      "\r",
      "  0%|          | 0/5 [00:00<?, ?it/s]"
     ]
    },
    {
     "name": "stdout",
     "output_type": "stream",
     "text": [
      "[0]\ttrain-auc:0.757222\tval-auc:0.755937\n",
      "[10]\ttrain-auc:0.787723\tval-auc:0.785797\n",
      "[20]\ttrain-auc:0.795881\tval-auc:0.793691\n",
      "[30]\ttrain-auc:0.800174\tval-auc:0.797433\n",
      "[40]\ttrain-auc:0.803387\tval-auc:0.800316\n",
      "[50]\ttrain-auc:0.80581\tval-auc:0.802362\n",
      "[60]\ttrain-auc:0.807669\tval-auc:0.803827\n",
      "[70]\ttrain-auc:0.809491\tval-auc:0.805192\n",
      "[80]\ttrain-auc:0.810923\tval-auc:0.806303\n",
      "[90]\ttrain-auc:0.812483\tval-auc:0.807487\n"
     ]
    },
    {
     "name": "stderr",
     "output_type": "stream",
     "text": [
      "\r",
      " 20%|██        | 1/5 [02:03<08:12, 123.12s/it]"
     ]
    },
    {
     "name": "stdout",
     "output_type": "stream",
     "text": [
      "[0]\ttrain-auc:0.756604\tval-auc:0.755955\n",
      "[10]\ttrain-auc:0.788057\tval-auc:0.787118\n",
      "[20]\ttrain-auc:0.795884\tval-auc:0.794576\n",
      "[30]\ttrain-auc:0.800246\tval-auc:0.798456\n",
      "[40]\ttrain-auc:0.803324\tval-auc:0.801083\n",
      "[50]\ttrain-auc:0.805755\tval-auc:0.803095\n",
      "[60]\ttrain-auc:0.80769\tval-auc:0.804629\n",
      "[70]\ttrain-auc:0.809417\tval-auc:0.806005\n",
      "[80]\ttrain-auc:0.810838\tval-auc:0.806997\n",
      "[90]\ttrain-auc:0.81215\tval-auc:0.807917\n"
     ]
    },
    {
     "name": "stderr",
     "output_type": "stream",
     "text": [
      "\r",
      " 40%|████      | 2/5 [04:08<06:11, 123.92s/it]"
     ]
    },
    {
     "name": "stdout",
     "output_type": "stream",
     "text": [
      "[0]\ttrain-auc:0.757172\tval-auc:0.757525\n",
      "[10]\ttrain-auc:0.787605\tval-auc:0.786955\n",
      "[20]\ttrain-auc:0.79575\tval-auc:0.79438\n",
      "[30]\ttrain-auc:0.800088\tval-auc:0.798165\n",
      "[40]\ttrain-auc:0.80304\tval-auc:0.800739\n",
      "[50]\ttrain-auc:0.80549\tval-auc:0.802667\n",
      "[60]\ttrain-auc:0.807362\tval-auc:0.804068\n",
      "[70]\ttrain-auc:0.808791\tval-auc:0.805121\n",
      "[80]\ttrain-auc:0.810511\tval-auc:0.806434\n",
      "[90]\ttrain-auc:0.812129\tval-auc:0.807612\n"
     ]
    },
    {
     "name": "stderr",
     "output_type": "stream",
     "text": [
      "\r",
      " 60%|██████    | 3/5 [06:12<04:07, 123.68s/it]"
     ]
    },
    {
     "name": "stdout",
     "output_type": "stream",
     "text": [
      "[0]\ttrain-auc:0.758165\tval-auc:0.758716\n",
      "[10]\ttrain-auc:0.788017\tval-auc:0.788106\n",
      "[20]\ttrain-auc:0.795831\tval-auc:0.795148\n",
      "[30]\ttrain-auc:0.799865\tval-auc:0.798623\n",
      "[40]\ttrain-auc:0.803157\tval-auc:0.801511\n",
      "[50]\ttrain-auc:0.805786\tval-auc:0.803682\n",
      "[60]\ttrain-auc:0.807933\tval-auc:0.805407\n",
      "[70]\ttrain-auc:0.809653\tval-auc:0.806721\n",
      "[80]\ttrain-auc:0.811018\tval-auc:0.807646\n",
      "[90]\ttrain-auc:0.81259\tval-auc:0.808769\n"
     ]
    },
    {
     "name": "stderr",
     "output_type": "stream",
     "text": [
      "\r",
      " 80%|████████  | 4/5 [08:16<02:03, 123.79s/it]"
     ]
    },
    {
     "name": "stdout",
     "output_type": "stream",
     "text": [
      "[0]\ttrain-auc:0.757251\tval-auc:0.756025\n",
      "[10]\ttrain-auc:0.788237\tval-auc:0.786583\n",
      "[20]\ttrain-auc:0.796457\tval-auc:0.794033\n",
      "[30]\ttrain-auc:0.800856\tval-auc:0.797906\n",
      "[40]\ttrain-auc:0.803678\tval-auc:0.80027\n",
      "[50]\ttrain-auc:0.806208\tval-auc:0.802244\n",
      "[60]\ttrain-auc:0.808234\tval-auc:0.803853\n",
      "[70]\ttrain-auc:0.810139\tval-auc:0.805407\n",
      "[80]\ttrain-auc:0.811742\tval-auc:0.806662\n",
      "[90]\ttrain-auc:0.813192\tval-auc:0.80776\n"
     ]
    },
    {
     "name": "stderr",
     "output_type": "stream",
     "text": [
      "100%|██████████| 5/5 [10:19<00:00, 123.65s/it]\n"
     ]
    }
   ],
   "source": [
    "#train_preds = np.zeros(y_full.shape)\n",
    "\n",
    "scores = []\n",
    "\n",
    "for train, val in tqdm(cv):\n",
    "    dtrain = xgb.DMatrix(X_full[train], label=y_full[train], feature_names=features, missing=np.nan)\n",
    "    dval = xgb.DMatrix(X_full[val], label=y_full[val], feature_names=features, missing=np.nan)\n",
    "    watchlist = [(dtrain, 'train'), (dval, 'val')]\n",
    "\n",
    "    model = xgb.train(xgb_pars, dtrain, num_boost_round=n_estimators, verbose_eval=10,\n",
    "                      evals=watchlist)\n",
    "\n",
    "    y_pred = model.predict(dval)\n",
    "    #train_preds[val] = y_pred\n",
    "    score = roc_auc_score(y_full[val], y_pred)\n",
    "\n",
    "scores.append(score)"
   ]
  },
  {
   "cell_type": "code",
   "execution_count": 50,
   "metadata": {
    "collapsed": false
   },
   "outputs": [
    {
     "data": {
      "text/plain": [
       "(0.80855298014264598, 0.0)"
      ]
     },
     "execution_count": 50,
     "metadata": {},
     "output_type": "execute_result"
    }
   ],
   "source": [
    "np.mean(scores), np.std(scores)"
   ]
  },
  {
   "cell_type": "code",
   "execution_count": 51,
   "metadata": {
    "collapsed": false
   },
   "outputs": [
    {
     "name": "stdout",
     "output_type": "stream",
     "text": [
      "[0]\ttrain-auc:0.7571\n",
      "[10]\ttrain-auc:0.787735\n",
      "[20]\ttrain-auc:0.795979\n",
      "[30]\ttrain-auc:0.79994\n",
      "[40]\ttrain-auc:0.803048\n",
      "[50]\ttrain-auc:0.805347\n",
      "[60]\ttrain-auc:0.807241\n",
      "[70]\ttrain-auc:0.809023\n",
      "[80]\ttrain-auc:0.810535\n",
      "[90]\ttrain-auc:0.811647\n"
     ]
    }
   ],
   "source": [
    "dtrain = xgb.DMatrix(X_full, label=y_full, feature_names=features, missing=np.nan)\n",
    "watchlist = [(dtrain, 'train')]\n",
    "\n",
    "model = xgb.train(xgb_pars, dtrain, num_boost_round=n_estimators, verbose_eval=10,\n",
    "                    evals=watchlist)"
   ]
  },
  {
   "cell_type": "code",
   "execution_count": 52,
   "metadata": {
    "collapsed": false
   },
   "outputs": [
    {
     "name": "stdout",
     "output_type": "stream",
     "text": [
      "df_train.feather\t       trainingData_JSON_chunk3.json\r\n",
      "testData_JSON_chunk10.json     trainingData_JSON_chunk4.json\r\n",
      "testData_JSON_chunk8.json      trainingData_JSON.zip\r\n",
      "testData_JSON_chunk9.json      trainingData_tabular_chunk1.csv\r\n",
      "testData_JSON.zip\t       trainingData_tabular_chunk2.csv\r\n",
      "testData_tabular.csv\t       trainingData_tabular_chunk3.csv\r\n",
      "testData_tabular.zip\t       trainingData_tabular_chunk4.csv\r\n",
      "trainingData_JSON_chunk1.json  trainingData_tabular.zip\r\n",
      "trainingData_JSON_chunk2.json\r\n"
     ]
    }
   ],
   "source": [
    "!ls data/"
   ]
  },
  {
   "cell_type": "code",
   "execution_count": 53,
   "metadata": {
    "collapsed": true
   },
   "outputs": [],
   "source": [
    "df_test = pd.read_csv('data/testData_tabular.csv')"
   ]
  },
  {
   "cell_type": "code",
   "execution_count": 57,
   "metadata": {
    "collapsed": false
   },
   "outputs": [],
   "source": [
    "X_test = df_test[features].astype('uint16').values"
   ]
  },
  {
   "cell_type": "code",
   "execution_count": 58,
   "metadata": {
    "collapsed": true
   },
   "outputs": [],
   "source": [
    "dtest = xgb.DMatrix(X_test, feature_names=features, missing=np.nan)"
   ]
  },
  {
   "cell_type": "code",
   "execution_count": 60,
   "metadata": {
    "collapsed": false
   },
   "outputs": [],
   "source": [
    "pred = model.predict(dtest)"
   ]
  },
  {
   "cell_type": "code",
   "execution_count": 61,
   "metadata": {
    "collapsed": true
   },
   "outputs": [],
   "source": [
    "result = pd.DataFrame()\n",
    "result['gamestate_id'] = df_test.gamestate_id.astype('uint32')\n",
    "result['pred'] = pred"
   ]
  },
  {
   "cell_type": "code",
   "execution_count": 63,
   "metadata": {
    "collapsed": false
   },
   "outputs": [],
   "source": [
    "result.to_csv('results.csv', index=False)"
   ]
  },
  {
   "cell_type": "code",
   "execution_count": 64,
   "metadata": {
    "collapsed": false
   },
   "outputs": [
    {
     "name": "stdout",
     "output_type": "stream",
     "text": [
      "gamestate_id,pred\r\n",
      "6845857,0.4105454981327057\r\n",
      "9279433,0.9685745239257812\r\n",
      "6642076,0.7363542318344116\r\n",
      "9169516,0.343049019575119\r\n",
      "8991397,0.24146009981632233\r\n",
      "7681425,0.10094859451055527\r\n",
      "9105278,0.5462976694107056\r\n",
      "5374115,0.49427488446235657\r\n",
      "6685724,0.5552678108215332\r\n"
     ]
    }
   ],
   "source": [
    "!head results.csv"
   ]
  },
  {
   "cell_type": "code",
   "execution_count": 65,
   "metadata": {
    "collapsed": true
   },
   "outputs": [],
   "source": [
    "!gzip results.csv"
   ]
  },
  {
   "cell_type": "code",
   "execution_count": 70,
   "metadata": {
    "collapsed": false
   },
   "outputs": [],
   "source": [
    "with open('results.txt', 'w') as f:\n",
    "    for p in pred:\n",
    "        f.write('%.5f\\n' % p)"
   ]
  },
  {
   "cell_type": "code",
   "execution_count": 71,
   "metadata": {
    "collapsed": true
   },
   "outputs": [],
   "source": [
    "!gzip results.txt"
   ]
  },
  {
   "cell_type": "code",
   "execution_count": null,
   "metadata": {
    "collapsed": true
   },
   "outputs": [],
   "source": []
  }
 ],
 "metadata": {
  "anaconda-cloud": {},
  "kernelspec": {
   "display_name": "Python [conda root]",
   "language": "python",
   "name": "conda-root-py"
  },
  "language_info": {
   "codemirror_mode": {
    "name": "ipython",
    "version": 3
   },
   "file_extension": ".py",
   "mimetype": "text/x-python",
   "name": "python",
   "nbconvert_exporter": "python",
   "pygments_lexer": "ipython3",
   "version": "3.5.2"
  }
 },
 "nbformat": 4,
 "nbformat_minor": 1
}
