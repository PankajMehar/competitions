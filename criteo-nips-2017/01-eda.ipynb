{
 "cells": [
  {
   "cell_type": "code",
   "execution_count": null,
   "metadata": {
    "collapsed": false
   },
   "outputs": [],
   "source": [
    "!ls data/"
   ]
  },
  {
   "cell_type": "code",
   "execution_count": null,
   "metadata": {
    "collapsed": true
   },
   "outputs": [],
   "source": [
    "%load_ext autoreload\n",
    "%autoreload 2"
   ]
  },
  {
   "cell_type": "code",
   "execution_count": null,
   "metadata": {
    "collapsed": false
   },
   "outputs": [],
   "source": [
    "!zcat data/criteo_train.txt.gz | head"
   ]
  },
  {
   "cell_type": "code",
   "execution_count": 20,
   "metadata": {
    "collapsed": true
   },
   "outputs": [],
   "source": [
    "import gzip\n",
    "\n",
    "import pandas as pd\n",
    "\n",
    "import numpy as np\n",
    "import scipy.sparse as sp\n",
    "\n",
    "from tqdm import tqdm_notebook as tqdm"
   ]
  },
  {
   "cell_type": "code",
   "execution_count": 21,
   "metadata": {
    "collapsed": true
   },
   "outputs": [],
   "source": []
  },
  {
   "cell_type": "code",
   "execution_count": 22,
   "metadata": {
    "collapsed": true
   },
   "outputs": [],
   "source": [
    "def parse_features(s):\n",
    "    split = s.split(' ')\n",
    "    f0 = split[0]\n",
    "    assert f0.startswith('0:')\n",
    "    f0 = int(f0[2:])\n",
    "\n",
    "    f1 = split[1]\n",
    "    assert f1.startswith('1:')\n",
    "    f1 = int(f1[2:])\n",
    "\n",
    "    idx = []\n",
    "    values = []\n",
    "    \n",
    "    for fv in split[2:]:\n",
    "        f, v = fv.split(':')\n",
    "        idx.append(int(f))\n",
    "        values.append(int(v))\n",
    "\n",
    "    return f0, f1, idx, values"
   ]
  },
  {
   "cell_type": "code",
   "execution_count": null,
   "metadata": {
    "collapsed": false
   },
   "outputs": [],
   "source": [
    "results = []\n",
    "\n",
    "with gzip.open('data/criteo_train.txt.gz', 'r') as f:\n",
    "#with gzip.open('data/criteo_train_small.txt.gz', 'r') as f:\n",
    "    for line in tqdm(f):    \n",
    "        line = line.decode()\n",
    "        split = line.split('|')\n",
    "        id = int(split[0].strip())\n",
    "\n",
    "        label = None\n",
    "        propensity = None\n",
    "        features = None\n",
    "\n",
    "        if len(split) == 4:\n",
    "            l = split[1]\n",
    "            assert l.startswith('l')\n",
    "\n",
    "            l = l.lstrip('l ').strip()\n",
    "            if l == '0.999':\n",
    "                label = 0\n",
    "            elif l == '0.001':\n",
    "                label = 1\n",
    "            else:\n",
    "                raise Exception('ololo')\n",
    "\n",
    "            p = split[2]\n",
    "            assert p.startswith('p')\n",
    "            p = p.lstrip('p ').strip()\n",
    "            propensity = float(p)\n",
    "\n",
    "            features = split[3].lstrip('f ').strip()\n",
    "\n",
    "            f0, f1, idx, val = parse_features(features)\n",
    "        elif len(split) == 2:\n",
    "            continue\n",
    "#             features = split[1].lstrip('f ').strip()\n",
    "#         else:\n",
    "#             raise Exception('ololo')\n",
    "\n",
    "        results.append((id, f0, f1, idx, val, propensity, label))"
   ]
  },
  {
   "cell_type": "code",
   "execution_count": null,
   "metadata": {
    "collapsed": false
   },
   "outputs": [],
   "source": [
    "len(results)"
   ]
  },
  {
   "cell_type": "code",
   "execution_count": null,
   "metadata": {
    "collapsed": false
   },
   "outputs": [],
   "source": [
    "df_train = pd.DataFrame(results, columns=['id', 'f0', 'f1', 'col_idx', 'values', 'propensity', 'click'])"
   ]
  },
  {
   "cell_type": "code",
   "execution_count": null,
   "metadata": {
    "collapsed": false
   },
   "outputs": [],
   "source": [
    "import pickle \n",
    "with open('tmp/df_train_clicks.bin', 'wb') as f:\n",
    "    pickle.dump(df_train, f)"
   ]
  },
  {
   "cell_type": "code",
   "execution_count": null,
   "metadata": {
    "collapsed": false,
    "scrolled": true
   },
   "outputs": [],
   "source": [
    "df_train.click.mean()"
   ]
  },
  {
   "cell_type": "code",
   "execution_count": null,
   "metadata": {
    "collapsed": false
   },
   "outputs": [],
   "source": [
    "!free -h"
   ]
  },
  {
   "cell_type": "code",
   "execution_count": 2,
   "metadata": {
    "collapsed": false
   },
   "outputs": [],
   "source": [
    "import pickle \n",
    "with open('tmp/df_train_clicks.bin', 'rb') as f:\n",
    "    df_train = pickle.load(f)"
   ]
  },
  {
   "cell_type": "code",
   "execution_count": 3,
   "metadata": {
    "collapsed": false
   },
   "outputs": [
    {
     "name": "stdout",
     "output_type": "stream",
     "text": [
      "             total       used       free     shared    buffers     cached\r\n",
      "Mem:           31G        30G       663M        60K        66M       6.0G\r\n",
      "-/+ buffers/cache:        24G       6.8G\r\n",
      "Swap:          15G       2.5G        13G\r\n"
     ]
    }
   ],
   "source": [
    "!free -h"
   ]
  },
  {
   "cell_type": "code",
   "execution_count": 5,
   "metadata": {
    "collapsed": false
   },
   "outputs": [],
   "source": [
    "y = df_train.click.values.astype('uint8')"
   ]
  },
  {
   "cell_type": "code",
   "execution_count": 6,
   "metadata": {
    "collapsed": false
   },
   "outputs": [],
   "source": [
    "X_num = df_train[['f0', 'f1']].values.astype('float32')"
   ]
  },
  {
   "cell_type": "code",
   "execution_count": 10,
   "metadata": {
    "collapsed": true
   },
   "outputs": [],
   "source": [
    "with open('tmp/y.bin', 'wb') as f:\n",
    "    pickle.dump(y, f)\n",
    "\n",
    "with open('tmp/X_num.bin', 'wb') as f:\n",
    "    pickle.dump(X_num, f)"
   ]
  },
  {
   "cell_type": "code",
   "execution_count": 5,
   "metadata": {
    "collapsed": false
   },
   "outputs": [],
   "source": [
    "columns = list(df_train.col_idx)\n",
    "values = list(df_train['values'])"
   ]
  },
  {
   "cell_type": "code",
   "execution_count": 6,
   "metadata": {
    "collapsed": false
   },
   "outputs": [
    {
     "data": {
      "text/plain": [
       "53"
      ]
     },
     "execution_count": 6,
     "metadata": {},
     "output_type": "execute_result"
    }
   ],
   "source": [
    "del df_train\n",
    "import gc\n",
    "gc.collect()"
   ]
  },
  {
   "cell_type": "code",
   "execution_count": 7,
   "metadata": {
    "collapsed": false
   },
   "outputs": [],
   "source": []
  },
  {
   "cell_type": "code",
   "execution_count": 8,
   "metadata": {
    "collapsed": false
   },
   "outputs": [],
   "source": []
  },
  {
   "cell_type": "code",
   "execution_count": null,
   "metadata": {
    "collapsed": true
   },
   "outputs": [],
   "source": [
    "def to_csr(cols, vals, shape=74000):\n",
    "    lens = [len(c) for c in cols]\n",
    "    intptr = np.zeros((len(cols) + 1), dtype='uint32')\n",
    "    intptr[1:] = lens\n",
    "    intptr = intptr.cumsum()\n",
    "\n",
    "    columns = np.concatenate(cols).astype('uint32')\n",
    "    values = np.concatenate(vals).astype('uint8')\n",
    "\n",
    "    return sp.csr_matrix((values, columns, intptr), shape=(len(cols), shape))"
   ]
  },
  {
   "cell_type": "code",
   "execution_count": 30,
   "metadata": {
    "collapsed": false
   },
   "outputs": [],
   "source": []
  },
  {
   "cell_type": "code",
   "execution_count": null,
   "metadata": {
    "collapsed": false
   },
   "outputs": [],
   "source": [
    "sp.save_npz('matrix.npz', X, compressed=False)"
   ]
  },
  {
   "cell_type": "code",
   "execution_count": 14,
   "metadata": {
    "collapsed": false
   },
   "outputs": [
    {
     "name": "stdout",
     "output_type": "stream",
     "text": [
      "total 1.7G\r\n",
      "-rw-rw-r-- 1 agrigorev agrigorev  11K Nov  7 06:20 01-eda.ipynb\r\n",
      "-rw-rw-r-- 1 agrigorev agrigorev 2.9K Nov  3 21:00 criteo_dataset.py\r\n",
      "drwxrwxr-x 5 agrigorev agrigorev 4.0K Nov  3 20:47 criteo_starter_kit\r\n",
      "drwxrwxr-x 2 agrigorev agrigorev 4.0K Nov  3 20:39 data\r\n",
      "-rw-rw-r-- 1 agrigorev agrigorev 1.7G Nov  6 21:06 matrix.npz\r\n",
      "drwxrwxr-x 2 agrigorev agrigorev 4.0K Nov  3 21:00 __pycache__\r\n",
      "drwxrwxr-x 2 agrigorev agrigorev 4.0K Nov  5 12:22 tmp\r\n",
      "-rw-rw-r-- 1 agrigorev agrigorev 2.4K Nov  3 21:00 utils.py\r\n"
     ]
    }
   ],
   "source": [
    "!ls -lh"
   ]
  },
  {
   "cell_type": "code",
   "execution_count": 15,
   "metadata": {
    "collapsed": true
   },
   "outputs": [],
   "source": [
    "from sklearn.model_selection import train_test_split"
   ]
  },
  {
   "cell_type": "code",
   "execution_count": 16,
   "metadata": {
    "collapsed": true
   },
   "outputs": [],
   "source": [
    "X_train, X_val, y_train, y_val = train_test_split(X, y, test_size=0.3, random_state=1)"
   ]
  },
  {
   "cell_type": "code",
   "execution_count": 17,
   "metadata": {
    "collapsed": true
   },
   "outputs": [],
   "source": [
    "from sklearn.linear_model import LogisticRegression\n",
    "from sklearn.metrics import roc_auc_score\n",
    "from time import time"
   ]
  },
  {
   "cell_type": "code",
   "execution_count": 18,
   "metadata": {
    "collapsed": false
   },
   "outputs": [
    {
     "name": "stdout",
     "output_type": "stream",
     "text": [
      "C=0.1, took 4454.416s, auc=0.734\n"
     ]
    }
   ],
   "source": [
    "#for C in [0.01, 0.1, 0.5, 1, 5]:\n",
    "for C in [0.1]:\n",
    "    t0 = time()\n",
    "\n",
    "    lr = LogisticRegression(penalty='l1', C=C, random_state=1)\n",
    "    lr.fit(X_train, y_train)\n",
    "\n",
    "    y_pred = lr.decision_function(X_val)\n",
    "    auc = roc_auc_score(y_val, y_pred)\n",
    "\n",
    "    print('C=%s, took %.3fs, auc=%.3f' % (C, time() - t0, auc))"
   ]
  },
  {
   "cell_type": "code",
   "execution_count": 19,
   "metadata": {
    "collapsed": true
   },
   "outputs": [],
   "source": [
    "with open('model_c01.bin', 'wb') as f:\n",
    "    pickle.dump(lr, f)"
   ]
  },
  {
   "cell_type": "code",
   "execution_count": 11,
   "metadata": {
    "collapsed": true
   },
   "outputs": [],
   "source": [
    "import pickle"
   ]
  },
  {
   "cell_type": "code",
   "execution_count": 12,
   "metadata": {
    "collapsed": true
   },
   "outputs": [],
   "source": [
    "with open('model_c01.bin', 'rb') as f:\n",
    "    lr = pickle.load(f)"
   ]
  },
  {
   "cell_type": "code",
   "execution_count": 13,
   "metadata": {
    "collapsed": false
   },
   "outputs": [
    {
     "data": {
      "text/plain": [
       "0.92592142075173334"
      ]
     },
     "execution_count": 13,
     "metadata": {},
     "output_type": "execute_result"
    }
   ],
   "source": [
    "(lr.coef_[0] == 0).mean()"
   ]
  },
  {
   "cell_type": "code",
   "execution_count": 22,
   "metadata": {
    "collapsed": false
   },
   "outputs": [
    {
     "data": {
      "text/plain": [
       "(14175476, 73989)"
      ]
     },
     "execution_count": 22,
     "metadata": {},
     "output_type": "execute_result"
    }
   ],
   "source": [
    "X.shape"
   ]
  },
  {
   "cell_type": "code",
   "execution_count": 23,
   "metadata": {
    "collapsed": false
   },
   "outputs": [
    {
     "name": "stdout",
     "output_type": "stream",
     "text": [
      "896678244 |f 0:320 1:50 2:1 12:1 14:1 21:1 49:1 51:1 106:1 143:1 192:1 229:1 249:1 280:1 292:1 295:1 297:1 764:1 873:1 2675:1 4180:1 4686:1 \r\n",
      "896678244 |f 0:320 1:50 2:1 21:1 22:1 23:1 24:1 49:1 50:1 51:3 52:1 75:1 115:1 143:1 147:1 192:1 229:1 249:3 253:3 280:1 305:1 310:1 408:1 528:1 588:1 591:1 637:1 730:1 837:1 848:1 1753:1 2511:1 2568:1 2675:1 4180:1 4686:1 \r\n",
      "896678244 |f 0:320 1:50 2:1 21:1 22:1 23:1 24:1 49:1 51:2 52:1 91:1 115:1 136:1 143:1 147:1 182:1 192:1 229:1 249:2 280:1 305:1 310:1 312:1 320:1 588:1 591:1 614:1 615:1 637:1 798:1 1572:1 2233:2 2675:1 4180:1 4686:1 \r\n",
      "896678244 |f 0:320 1:50 2:1 21:1 22:1 23:1 24:1 49:1 50:1 51:3 52:1 81:1 115:1 143:1 147:1 176:1 192:1 229:1 249:3 253:3 280:1 303:1 305:1 310:1 528:1 572:1 588:1 591:1 637:1 772:1 1753:1 2511:1 2568:1 2675:1 4180:1 4686:1 \r\n",
      "896678244 |f 0:320 1:50 2:1 21:1 22:1 23:1 24:1 49:1 51:3 143:1 165:1 192:1 229:1 249:3 255:1 280:1 303:1 304:1 305:1 310:1 408:1 588:1 589:1 637:1 1760:3 2675:1 4180:1 4686:1 \r\n",
      "896678244 |f 0:320 1:50 2:1 21:1 22:1 23:1 24:1 49:1 52:1 115:1 130:1 134:1 143:1 147:1 192:1 202:1 229:1 280:1 305:1 310:1 588:1 591:1 593:1 637:1 651:1 798:1 1074:1 2675:1 4180:1 4686:1 \r\n",
      "896678244 |f 0:320 1:50 2:1 12:1 14:1 21:1 49:1 51:2 52:1 91:1 103:1 115:1 143:1 147:1 192:1 229:1 249:2 255:1 280:1 292:1 297:1 311:1 416:1 591:1 614:1 615:1 1572:1 2233:2 2675:1 4180:1 4686:1 \r\n",
      "896678244 |f 0:320 1:50 2:1 11:1 12:1 13:1 14:1 21:1 143:1 192:1 229:1 280:1 291:1 292:1 293:1 2675:1 4180:1 4686:1 \r\n",
      "896678244 |f 0:320 1:50 2:1 21:1 22:1 23:1 24:1 31:1 49:1 52:1 115:1 130:1 134:1 143:1 147:1 192:1 202:1 229:1 280:1 305:1 310:1 588:1 591:1 593:1 637:1 651:1 1074:1 2675:1 4180:1 4686:1 \r\n",
      "896678244 |f 0:320 1:50 2:1 11:1 13:1 21:1 22:1 23:1 24:1 143:1 192:1 229:1 280:1 291:1 305:1 316:1 588:1 637:1 836:1 2675:1 4180:1 4686:1 \r\n",
      "\r\n",
      "gzip: stdout: Broken pipe\r\n"
     ]
    }
   ],
   "source": [
    "!zcat data/criteo_test_release.txt.gz | head -n 10"
   ]
  },
  {
   "cell_type": "code",
   "execution_count": 14,
   "metadata": {
    "collapsed": true
   },
   "outputs": [],
   "source": [
    "def read_test_data():\n",
    "    f = gzip.open('data/criteo_test_release.txt.gz', 'r')\n",
    "\n",
    "    for line in f:    \n",
    "        line = line.decode()\n",
    "        split = line.split(' |f ')\n",
    "        if len(split) != 2:\n",
    "            continue\n",
    "\n",
    "        id = int(split[0].strip())\n",
    "        features = split[1].lstrip('f ').strip()\n",
    "        yield (id, parse_features(features))"
   ]
  },
  {
   "cell_type": "code",
   "execution_count": 25,
   "metadata": {
    "collapsed": false
   },
   "outputs": [
    {
     "name": "stdout",
     "output_type": "stream",
     "text": [
      "87022251\r\n"
     ]
    }
   ],
   "source": [
    "!zcat data/criteo_test_release.txt.gz | wc -l"
   ]
  },
  {
   "cell_type": "code",
   "execution_count": 25,
   "metadata": {
    "collapsed": true
   },
   "outputs": [],
   "source": [
    "from itertools import groupby\n"
   ]
  },
  {
   "cell_type": "code",
   "execution_count": 26,
   "metadata": {
    "collapsed": true
   },
   "outputs": [],
   "source": [
    "\n",
    "\n",
    "def sigmoid_percent(x):\n",
    "    s = 1 / (1 + np.exp(-x))\n",
    "    return (s * 100).round(2)"
   ]
  },
  {
   "cell_type": "code",
   "execution_count": 27,
   "metadata": {
    "collapsed": true
   },
   "outputs": [],
   "source": [
    "def to_prediction_str(id, preds):\n",
    "    res = ['%d:%0.2f' % (i, p) for (i, p) in enumerate(preds)]\n",
    "    return '%d;%s' % (id, ','.join(res))"
   ]
  },
  {
   "cell_type": "code",
   "execution_count": 31,
   "metadata": {
    "collapsed": true
   },
   "outputs": [],
   "source": [
    "test_data = read_test_data()\n",
    "test_groups = groupby(test_data, key=lambda x: x[0])"
   ]
  },
  {
   "cell_type": "markdown",
   "metadata": {},
   "source": [
    "7087738it groups"
   ]
  },
  {
   "cell_type": "code",
   "execution_count": 32,
   "metadata": {
    "collapsed": false
   },
   "outputs": [
    {
     "name": "stdout",
     "output_type": "stream",
     "text": [
      "\n"
     ]
    }
   ],
   "source": [
    "f_out = open('pred.txt', 'w')\n",
    "\n",
    "for gid, group in tqdm(test_groups):\n",
    "    cols = []\n",
    "    vals = []\n",
    "\n",
    "    for _, (f1, f2, col, val) in group:\n",
    "        cols.append(col)\n",
    "        vals.append(val)\n",
    "\n",
    "    X_test = to_csr(cols, vals)\n",
    "    pred = lr.decision_function(X_test)\n",
    "    pred = sigmoid_percent(pred)\n",
    "    \n",
    "    pred_str = to_prediction_str(gid, pred)\n",
    "    \n",
    "    f_out.write(pred_str)\n",
    "    f_out.write('\\n')\n",
    "\n",
    "f_out.flush()\n",
    "f_out.close()"
   ]
  },
  {
   "cell_type": "code",
   "execution_count": 1,
   "metadata": {
    "collapsed": false
   },
   "outputs": [],
   "source": []
  },
  {
   "cell_type": "code",
   "execution_count": 2,
   "metadata": {
    "collapsed": false
   },
   "outputs": [
    {
     "name": "stdout",
     "output_type": "stream",
     "text": [
      "\u001b[1m\u001b[36mCrowdAI.Event.Authentication\u001b[0m : Authenticating for challenge = \u001b[4m\u001b[1m\u001b[34mCriteoAdPlacementNIPS2017\u001b[0m\n",
      "\u001b[1m\u001b[32mCrowdAI.Event.Connection.CONNECTED\u001b[0m\u001b[1m\u001b[32m\u001b[0m\n",
      "\u001b[1m\u001b[32mCrowdAI.Event.Authentication.SUCCESS\u001b[0m : \u001b[1m\u001b[32mAuthentication Successful\u001b[0m\n"
     ]
    }
   ],
   "source": [
    "import crowdai\n",
    "challenge = crowdai.Challenge(\"CriteoAdPlacementNIPS2017\", 'd671d30799fa215f63a5cb5049983c79')"
   ]
  },
  {
   "cell_type": "code",
   "execution_count": 3,
   "metadata": {
    "collapsed": false,
    "scrolled": true
   },
   "outputs": [
    {
     "name": "stdout",
     "output_type": "stream",
     "text": [
      "\u001b[1m\u001b[34mCrowdAI.Event.Misc.FILE_UPLOAD : Preparing for file upload\u001b[0m\n"
     ]
    },
    {
     "name": "stderr",
     "output_type": "stream",
     "text": [
      "  0% |          |[00:00<00:25]   3.85% /s] "
     ]
    },
    {
     "name": "stdout",
     "output_type": "stream",
     "text": [
      "\u001b[1m\u001b[34mCrowdAI.Event.Misc.FILE_UPLOAD : Uploading file\u001b[0m\n"
     ]
    },
    {
     "name": "stderr",
     "output_type": "stream",
     "text": [
      "100% |██████████|[00:03<00:00]  30.28% /s] \n",
      "  0% |          |[00:00<?]  ?% /s] "
     ]
    },
    {
     "name": "stdout",
     "output_type": "stream",
     "text": [
      "\u001b[1m\u001b[33mCrowdAI.Event.Job.ENQUEUED\u001b[0m : 54dbf1eb-2c0f-4138-87b3-594e7decffa7\n"
     ]
    },
    {
     "name": "stderr",
     "output_type": "stream",
     "text": [
      "\r",
      "          \r",
      "\r",
      "          \r",
      "  0% |          |[00:00<?]  ?% /s] \r",
      "          \r",
      "\r",
      "          \r",
      "\u001b[1m\u001b[32m54dbf1eb-2c0f-4138-87b3-594e7decffa7\u001b[0m:   0% |          |[00:00<?]  ?% /s] "
     ]
    },
    {
     "name": "stdout",
     "output_type": "stream",
     "text": [
      "\u001b[1m\u001b[34mCrowdAI.Event.Job.RUNNING\u001b[0m : 54dbf1eb-2c0f-4138-87b3-594e7decffa7\n",
      "\u001b[1m\u001b[36mCrowdAI.Event.Job.INFO\u001b[0m : (54dbf1eb-2c0f-4138-87b3-594e7decffa7) Beginning grading of the submission\n"
     ]
    },
    {
     "name": "stderr",
     "output_type": "stream",
     "text": [
      "\u001b[1m\u001b[32m54dbf1eb-2c0f-4138-87b3-594e7decffa7\u001b[0m: 100% |█████████▉|[1:27:09<00:00]  51.89s/% ] "
     ]
    },
    {
     "name": "stdout",
     "output_type": "stream",
     "text": [
      "\u001b[1m\u001b[36mCrowdAI.Event.Job.INFO\u001b[0m : (54dbf1eb-2c0f-4138-87b3-594e7decffa7) Scores Computed Successfully !!\n",
      "\u001b[1m\u001b[36mCrowdAI.Event.Job.INFO\u001b[0m : (54dbf1eb-2c0f-4138-87b3-594e7decffa7) ImpWt : 0.986030867203\n",
      "\u001b[1m\u001b[36mCrowdAI.Event.Job.INFO\u001b[0m : (54dbf1eb-2c0f-4138-87b3-594e7decffa7) SNIPS_std: 0.00066494377503\n",
      "\u001b[1m\u001b[36mCrowdAI.Event.Job.INFO\u001b[0m : (54dbf1eb-2c0f-4138-87b3-594e7decffa7) Uploading scores to the leaderboard....\n",
      "\u001b[1m\u001b[36mCrowdAI.Event.Job.INFO\u001b[0m : (54dbf1eb-2c0f-4138-87b3-594e7decffa7) SNIPS : 50.2777411261\n",
      "\u001b[1m\u001b[36mCrowdAI.Event.Job.INFO\u001b[0m : (54dbf1eb-2c0f-4138-87b3-594e7decffa7) ImpWt_std: 0.0114416243194\n",
      "\u001b[1m\u001b[36mCrowdAI.Event.Job.INFO\u001b[0m : (54dbf1eb-2c0f-4138-87b3-594e7decffa7) IPS_std: 1.65497059166\n",
      "\u001b[1m\u001b[36mCrowdAI.Event.Job.INFO\u001b[0m : (54dbf1eb-2c0f-4138-87b3-594e7decffa7) IPS : 49.5754046836\n"
     ]
    },
    {
     "name": "stderr",
     "output_type": "stream",
     "text": [
      "\r",
      "          \r",
      "\r",
      "          \r",
      "\u001b[1m\u001b[32m54dbf1eb-2c0f-4138-87b3-594e7decffa7\u001b[0m: 100% |█████████▉|[1:27:10<00:00]  51.89s/% ] \r",
      "\u001b[1m\u001b[32m54dbf1eb-2c0f-4138-87b3-594e7decffa7\u001b[0m: 100% |██████████|[1:27:10<00:00]  273.23s/% ] "
     ]
    },
    {
     "name": "stdout",
     "output_type": "stream",
     "text": [
      "\u001b[1m\u001b[36mCrowdAI.Event.Job.INFO\u001b[0m : (54dbf1eb-2c0f-4138-87b3-594e7decffa7) Scores Submited Successfully !!! \n",
      "\u001b[1m\u001b[32mCrowdAI.Event.Job.COMPLETE\u001b[0m : \u001b[1m\u001b[32m54dbf1eb-2c0f-4138-87b3-594e7decffa7\u001b[0m\t   🍺 \n"
     ]
    },
    {
     "name": "stderr",
     "output_type": "stream",
     "text": [
      "\r",
      "          \r",
      "\r",
      "          \r",
      "\u001b[1m\u001b[32m54dbf1eb-2c0f-4138-87b3-594e7decffa7\u001b[0m: 100% |██████████|[1:27:10<00:00]  273.23s/% ] \n"
     ]
    }
   ],
   "source": [
    "scores = challenge.submit('pred.txt.gz')"
   ]
  },
  {
   "cell_type": "code",
   "execution_count": 4,
   "metadata": {
    "collapsed": false
   },
   "outputs": [
    {
     "data": {
      "text/plain": [
       "{'impwt': 0.986030867203039,\n",
       " 'impwt_std': 0.011441624319414723,\n",
       " 'ips': 49.575404683599835,\n",
       " 'ips_std': 1.654970591660044,\n",
       " 'max_instances': 7087738,\n",
       " 'message': '',\n",
       " 'snips': 50.27774112612186,\n",
       " 'snips_std': 0.000664943775029717}"
      ]
     },
     "execution_count": 4,
     "metadata": {},
     "output_type": "execute_result"
    }
   ],
   "source": [
    "scores"
   ]
  },
  {
   "cell_type": "code",
   "execution_count": 4,
   "metadata": {
    "collapsed": false
   },
   "outputs": [
    {
     "data": {
      "text/plain": [
       "{'impwt': 0.9775760846224011,\n",
       " 'impwt_std': 0.021581243720401128,\n",
       " 'ips': 45.21622789247131,\n",
       " 'ips_std': 3.2114821679263055,\n",
       " 'max_instances': 7087738,\n",
       " 'message': '',\n",
       " 'snips': 46.25341045442673,\n",
       " 'snips_std': 0.0012869509224777156}"
      ]
     },
     "execution_count": 4,
     "metadata": {},
     "output_type": "execute_result"
    }
   ],
   "source": [
    "scores"
   ]
  },
  {
   "cell_type": "code",
   "execution_count": null,
   "metadata": {
    "collapsed": true
   },
   "outputs": [],
   "source": []
  }
 ],
 "metadata": {
  "anaconda-cloud": {},
  "kernelspec": {
   "display_name": "Python [conda root]",
   "language": "python",
   "name": "conda-root-py"
  },
  "language_info": {
   "codemirror_mode": {
    "name": "ipython",
    "version": 3
   },
   "file_extension": ".py",
   "mimetype": "text/x-python",
   "name": "python",
   "nbconvert_exporter": "python",
   "pygments_lexer": "ipython3",
   "version": "3.5.2"
  }
 },
 "nbformat": 4,
 "nbformat_minor": 1
}
