{
 "cells": [
  {
   "cell_type": "code",
   "execution_count": 1,
   "metadata": {
    "collapsed": true
   },
   "outputs": [],
   "source": [
    "import pickle\n",
    "import gzip\n",
    "\n",
    "import pandas as pd\n",
    "import numpy as np\n",
    "import scipy.sparse as sp\n",
    "\n",
    "from tqdm import tqdm_notebook as tqdm\n",
    "from sklearn.metrics import roc_auc_score\n",
    "\n",
    "import competition_utils as u"
   ]
  },
  {
   "cell_type": "code",
   "execution_count": 2,
   "metadata": {
    "collapsed": false
   },
   "outputs": [],
   "source": [
    "X_train = sp.load_npz('tmp/X_train_sparse.npz')\n",
    "X_val = sp.load_npz('tmp/X_val_sparse.npz')\n",
    "\n",
    "y_train = np.load('tmp/y_train.npy', )\n",
    "y_val = np.load('tmp/y_val.npy', )\n",
    "\n",
    "y_train = y_train.astype(np.float32)\n",
    "y_val = y_val.astype(np.float32)"
   ]
  },
  {
   "cell_type": "code",
   "execution_count": 3,
   "metadata": {
    "collapsed": true
   },
   "outputs": [],
   "source": [
    "import ftrl"
   ]
  },
  {
   "cell_type": "code",
   "execution_count": 6,
   "metadata": {
    "collapsed": false
   },
   "outputs": [],
   "source": [
    "model = ftrl.FtrlProximal(alpha=0.1, beta=1, l1=75, l2=25)"
   ]
  },
  {
   "cell_type": "code",
   "execution_count": 7,
   "metadata": {
    "collapsed": false,
    "scrolled": false
   },
   "outputs": [
    {
     "name": "stdout",
     "output_type": "stream",
     "text": [
      "0.724328867473\n",
      "0.728590625559\n",
      "0.730495705164\n",
      "0.731532878902\n",
      "0.732231844931\n",
      "0.73270145889\n",
      "0.733032186926\n",
      "0.733351507954\n",
      "0.733541617152\n",
      "0.733776918727\n",
      "0.733888759805\n",
      "0.733943977512\n",
      "0.733985556024\n",
      "0.734170677925\n",
      "0.734128688444\n",
      "0.734216945388\n",
      "0.734240800076\n",
      "0.734249430881\n",
      "0.734360581606\n",
      "0.734338162489\n",
      "0.734446227374\n",
      "0.734390811491\n",
      "0.734452169826\n",
      "0.734406550549\n",
      "0.734359516496\n",
      "0.73438159352\n",
      "0.73444946328\n",
      "0.734416310455\n",
      "0.734439298542\n",
      "0.734445272918\n",
      "\n"
     ]
    }
   ],
   "source": [
    "for i in tqdm(range(30)):\n",
    "    model.fit(X_train, y_train)\n",
    "    y_pred = model.predict(X_val)\n",
    "    auc = roc_auc_score(y_val, y_pred)\n",
    "    print(i + 1, auc)"
   ]
  },
  {
   "cell_type": "code",
   "execution_count": 8,
   "metadata": {
    "collapsed": false
   },
   "outputs": [],
   "source": [
    "X = sp.vstack([X_train, X_val])\n",
    "y = np.concatenate([y_train, y_val])"
   ]
  },
  {
   "cell_type": "markdown",
   "metadata": {},
   "source": [
    "Full model"
   ]
  },
  {
   "cell_type": "code",
   "execution_count": 9,
   "metadata": {
    "collapsed": false
   },
   "outputs": [
    {
     "name": "stdout",
     "output_type": "stream",
     "text": [
      "CPU times: user 17min 58s, sys: 1.32 s, total: 18min\n",
      "Wall time: 2min 31s\n"
     ]
    }
   ],
   "source": [
    "%%time\n",
    "\n",
    "model_full = ftrl.FtrlProximal(alpha=0.1, beta=1, l1=75, l2=25)\n",
    "model_full.fit(X, y, num_passes=22)"
   ]
  },
  {
   "cell_type": "code",
   "execution_count": 10,
   "metadata": {
    "collapsed": true
   },
   "outputs": [],
   "source": [
    "shift = 1.1875\n",
    "scale = 850100\n",
    "\n",
    "def shifted_scaled_sigmoid(x, shift=0, scale=1):\n",
    "    s = 1 / (1 + np.exp(-x + shift))\n",
    "    return (s * scale).round(2)"
   ]
  },
  {
   "cell_type": "code",
   "execution_count": 13,
   "metadata": {
    "collapsed": false
   },
   "outputs": [],
   "source": [
    "it_test = u.read_grouped('data/criteo_test_release.txt.gz')"
   ]
  },
  {
   "cell_type": "code",
   "execution_count": 12,
   "metadata": {
    "collapsed": false
   },
   "outputs": [
    {
     "name": "stdout",
     "output_type": "stream",
     "text": [
      "\n"
     ]
    }
   ],
   "source": [
    "f_out = open('pred_ftrl2.txt', 'w')\n",
    "\n",
    "for gid, group in tqdm(it_test, total=7087738):\n",
    "    cols = []\n",
    "    vals = []\n",
    "\n",
    "    for line in group:\n",
    "        cols.append(line.idx)\n",
    "        vals.append(line.val)\n",
    "\n",
    "    X_val = u.to_csr(cols, vals)\n",
    "\n",
    "    pred = model_full.predict(X_val)\n",
    "    pred = shifted_scaled_sigmoid(pred, shift, scale)\n",
    "\n",
    "    pred_str = u.to_prediction_str(gid, pred)\n",
    "    \n",
    "    f_out.write(pred_str)\n",
    "    f_out.write('\\n')\n",
    "\n",
    "f_out.flush()\n",
    "f_out.close()"
   ]
  },
  {
   "cell_type": "code",
   "execution_count": 14,
   "metadata": {
    "collapsed": true
   },
   "outputs": [],
   "source": [
    "!gzip pred_ftrl2.txt"
   ]
  },
  {
   "cell_type": "code",
   "execution_count": 15,
   "metadata": {
    "collapsed": false
   },
   "outputs": [
    {
     "name": "stdout",
     "output_type": "stream",
     "text": [
      "\u001b[1m\u001b[36mCrowdAI.Event.Authentication\u001b[0m : Authenticating for challenge = \u001b[4m\u001b[1m\u001b[34mCriteoAdPlacementNIPS2017\u001b[0m\n",
      "\u001b[1m\u001b[32mCrowdAI.Event.Connection.CONNECTED\u001b[0m\u001b[1m\u001b[32m\u001b[0m\n",
      "\u001b[1m\u001b[32mCrowdAI.Event.Authentication.SUCCESS\u001b[0m : \u001b[1m\u001b[32mAuthentication Successful\u001b[0m\n"
     ]
    }
   ],
   "source": [
    "import crowdai\n",
    "challenge = crowdai.Challenge(\"CriteoAdPlacementNIPS2017\", 'd671d30799fa215f63a5cb5049983c79')"
   ]
  },
  {
   "cell_type": "code",
   "execution_count": 16,
   "metadata": {
    "collapsed": false
   },
   "outputs": [
    {
     "name": "stdout",
     "output_type": "stream",
     "text": [
      "\u001b[1m\u001b[34mCrowdAI.Event.Misc.FILE_UPLOAD : Preparing for file upload\u001b[0m\n"
     ]
    },
    {
     "name": "stderr",
     "output_type": "stream",
     "text": [
      "  0% |          |[00:00<00:40]   2.45% /s] "
     ]
    },
    {
     "name": "stdout",
     "output_type": "stream",
     "text": [
      "\u001b[1m\u001b[34mCrowdAI.Event.Misc.FILE_UPLOAD : Uploading file\u001b[0m\n"
     ]
    },
    {
     "name": "stderr",
     "output_type": "stream",
     "text": [
      "100% |██████████|[00:08<00:00]  12.23% /s] \n",
      "  0% |          |[00:00<?]  ?% /s] "
     ]
    },
    {
     "name": "stdout",
     "output_type": "stream",
     "text": [
      "\u001b[1m\u001b[33mCrowdAI.Event.Job.ENQUEUED\u001b[0m : 7760cc63-c4fe-49dd-b994-e0ee3485de3b\n"
     ]
    },
    {
     "name": "stderr",
     "output_type": "stream",
     "text": [
      "\r",
      "          \r",
      "\r",
      "          \r",
      "  0% |          |[00:00<?]  ?% /s] \r",
      "          \r",
      "\r",
      "          \r",
      "\u001b[1m\u001b[32m7760cc63-c4fe-49dd-b994-e0ee3485de3b\u001b[0m:   0% |          |[00:00<?]  ?% /s] "
     ]
    },
    {
     "name": "stdout",
     "output_type": "stream",
     "text": [
      "\u001b[1m\u001b[34mCrowdAI.Event.Job.RUNNING\u001b[0m : 7760cc63-c4fe-49dd-b994-e0ee3485de3b\n",
      "\u001b[1m\u001b[36mCrowdAI.Event.Job.INFO\u001b[0m : (7760cc63-c4fe-49dd-b994-e0ee3485de3b) Beginning grading of the submission\n"
     ]
    },
    {
     "name": "stderr",
     "output_type": "stream",
     "text": [
      "\u001b[1m\u001b[32m7760cc63-c4fe-49dd-b994-e0ee3485de3b\u001b[0m: 100% |█████████▉|[1:26:38<00:00]  52.22s/% ] "
     ]
    },
    {
     "name": "stdout",
     "output_type": "stream",
     "text": [
      "\u001b[1m\u001b[36mCrowdAI.Event.Job.INFO\u001b[0m : (7760cc63-c4fe-49dd-b994-e0ee3485de3b) Scores Computed Successfully !!\n",
      "\u001b[1m\u001b[36mCrowdAI.Event.Job.INFO\u001b[0m : (7760cc63-c4fe-49dd-b994-e0ee3485de3b) ImpWt_std: 0.0134043441367\n",
      "\u001b[1m\u001b[36mCrowdAI.Event.Job.INFO\u001b[0m : (7760cc63-c4fe-49dd-b994-e0ee3485de3b) Uploading scores to the leaderboard....\n",
      "\u001b[1m\u001b[36mCrowdAI.Event.Job.INFO\u001b[0m : (7760cc63-c4fe-49dd-b994-e0ee3485de3b) SNIPS_std: 0.000993291621552\n",
      "\u001b[1m\u001b[36mCrowdAI.Event.Job.INFO\u001b[0m : (7760cc63-c4fe-49dd-b994-e0ee3485de3b) SNIPS : 53.0539863777\n",
      "\u001b[1m\u001b[36mCrowdAI.Event.Job.INFO\u001b[0m : (7760cc63-c4fe-49dd-b994-e0ee3485de3b) ImpWt : 0.990946687511\n",
      "\u001b[1m\u001b[36mCrowdAI.Event.Job.INFO\u001b[0m : (7760cc63-c4fe-49dd-b994-e0ee3485de3b) IPS_std: 2.53459631776\n",
      "\u001b[1m\u001b[36mCrowdAI.Event.Job.INFO\u001b[0m : (7760cc63-c4fe-49dd-b994-e0ee3485de3b) IPS : 52.5736720603\n"
     ]
    },
    {
     "name": "stderr",
     "output_type": "stream",
     "text": [
      "\r",
      "          \r",
      "\r",
      "          \r",
      "\u001b[1m\u001b[32m7760cc63-c4fe-49dd-b994-e0ee3485de3b\u001b[0m: 100% |█████████▉|[1:26:39<00:00]  52.22s/% ] \r",
      "\u001b[1m\u001b[32m7760cc63-c4fe-49dd-b994-e0ee3485de3b\u001b[0m: 100% |██████████|[1:26:39<00:00]  257.11s/% ] "
     ]
    },
    {
     "name": "stdout",
     "output_type": "stream",
     "text": [
      "\u001b[1m\u001b[36mCrowdAI.Event.Job.INFO\u001b[0m : (7760cc63-c4fe-49dd-b994-e0ee3485de3b) Scores Submited Successfully !!! \n",
      "\u001b[1m\u001b[32mCrowdAI.Event.Job.COMPLETE\u001b[0m : \u001b[1m\u001b[32m7760cc63-c4fe-49dd-b994-e0ee3485de3b\u001b[0m\t   🍺 \n"
     ]
    },
    {
     "name": "stderr",
     "output_type": "stream",
     "text": [
      "\r",
      "          \r",
      "\r",
      "          \r",
      "\u001b[1m\u001b[32m7760cc63-c4fe-49dd-b994-e0ee3485de3b\u001b[0m: 100% |██████████|[1:26:39<00:00]  257.11s/% ] \n"
     ]
    }
   ],
   "source": [
    "scores = challenge.submit('pred_ftrl2.txt.gz')"
   ]
  },
  {
   "cell_type": "code",
   "execution_count": 17,
   "metadata": {
    "collapsed": false
   },
   "outputs": [
    {
     "data": {
      "text/plain": [
       "{'impwt': 0.9909466875114865,\n",
       " 'impwt_std': 0.013404344136707162,\n",
       " 'ips': 52.57367206026822,\n",
       " 'ips_std': 2.5345963177595756,\n",
       " 'max_instances': 7087738,\n",
       " 'message': '',\n",
       " 'snips': 53.05398637770695,\n",
       " 'snips_std': 0.0009932916215519697}"
      ]
     },
     "execution_count": 17,
     "metadata": {},
     "output_type": "execute_result"
    }
   ],
   "source": [
    "scores"
   ]
  },
  {
   "cell_type": "code",
   "execution_count": 154,
   "metadata": {
    "collapsed": false
   },
   "outputs": [
    {
     "data": {
      "text/plain": [
       "{'impwt': 0.983055672490548,\n",
       " 'impwt_std': 0.015840261443422165,\n",
       " 'ips': 46.11893916159966,\n",
       " 'ips_std': 1.885006865357641,\n",
       " 'max_instances': 7087738,\n",
       " 'message': '',\n",
       " 'snips': 46.91386302136728,\n",
       " 'snips_std': 0.0007714217927742332}"
      ]
     },
     "execution_count": 154,
     "metadata": {},
     "output_type": "execute_result"
    }
   ],
   "source": [
    "scores"
   ]
  },
  {
   "cell_type": "code",
   "execution_count": null,
   "metadata": {
    "collapsed": true
   },
   "outputs": [],
   "source": []
  }
 ],
 "metadata": {
  "anaconda-cloud": {},
  "kernelspec": {
   "display_name": "Python [conda root]",
   "language": "python",
   "name": "conda-root-py"
  },
  "language_info": {
   "codemirror_mode": {
    "name": "ipython",
    "version": 3
   },
   "file_extension": ".py",
   "mimetype": "text/x-python",
   "name": "python",
   "nbconvert_exporter": "python",
   "pygments_lexer": "ipython3",
   "version": "3.5.2"
  },
  "widgets": {
   "state": {
    "e551f09f904944e2ab5f430b9b6af2a1": {
     "views": [
      {
       "cell_index": 4
      }
     ]
    },
    "e8f6359379b24749bc2ff596328cdc69": {
     "views": [
      {
       "cell_index": 10
      }
     ]
    }
   },
   "version": "1.2.0"
  }
 },
 "nbformat": 4,
 "nbformat_minor": 1
}
