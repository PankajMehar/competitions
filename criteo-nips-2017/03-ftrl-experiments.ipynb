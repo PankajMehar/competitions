{
 "cells": [
  {
   "cell_type": "code",
   "execution_count": 59,
   "metadata": {
    "collapsed": true
   },
   "outputs": [],
   "source": [
    "import pickle\n",
    "import gzip\n",
    "\n",
    "import pandas as pd\n",
    "import numpy as np\n",
    "import scipy.sparse as sp\n",
    "\n",
    "from tqdm import tqdm_notebook as tqdm\n",
    "from sklearn.metrics import roc_auc_score\n",
    "\n",
    "import competition_utils as u"
   ]
  },
  {
   "cell_type": "code",
   "execution_count": 60,
   "metadata": {
    "collapsed": true
   },
   "outputs": [],
   "source": [
    "from numba import jit"
   ]
  },
  {
   "cell_type": "code",
   "execution_count": 2,
   "metadata": {
    "collapsed": false
   },
   "outputs": [],
   "source": [
    "X_train = sp.load_npz('tmp/X_train_sparse.npz')\n",
    "X_val = sp.load_npz('tmp/X_val_sparse.npz')\n",
    "\n",
    "y_train = np.load('tmp/y_train.npy', )\n",
    "y_val = np.load('tmp/y_val.npy', )\n",
    "\n",
    "y_train = y_train.astype(np.float32)\n",
    "y_val = y_val.astype(np.float32)"
   ]
  },
  {
   "cell_type": "code",
   "execution_count": 3,
   "metadata": {
    "collapsed": true
   },
   "outputs": [],
   "source": [
    "import ftrl"
   ]
  },
  {
   "cell_type": "code",
   "execution_count": null,
   "metadata": {
    "collapsed": false
   },
   "outputs": [],
   "source": [
    "model = ftrl.FtrlProximal(alpha=0.1, beta=1, l1=75, l2=25)"
   ]
  },
  {
   "cell_type": "code",
   "execution_count": null,
   "metadata": {
    "collapsed": false,
    "scrolled": false
   },
   "outputs": [],
   "source": [
    "for i in tqdm(range(30)):\n",
    "    model.fit(X_train, y_train)\n",
    "    y_pred = model.predict(X_val)\n",
    "    auc = roc_auc_score(y_val, y_pred)\n",
    "    print(i + 1, auc)"
   ]
  },
  {
   "cell_type": "code",
   "execution_count": 4,
   "metadata": {
    "collapsed": false
   },
   "outputs": [],
   "source": [
    "X = sp.vstack([X_train, X_val])\n",
    "y = np.concatenate([y_train, y_val])"
   ]
  },
  {
   "cell_type": "markdown",
   "metadata": {},
   "source": [
    "Full model"
   ]
  },
  {
   "cell_type": "code",
   "execution_count": 5,
   "metadata": {
    "collapsed": false,
    "scrolled": true
   },
   "outputs": [
    {
     "ename": "KeyboardInterrupt",
     "evalue": "",
     "output_type": "error",
     "traceback": [
      "\u001b[0;31m---------------------------------------------------------------------------\u001b[0m",
      "\u001b[0;31mKeyboardInterrupt\u001b[0m                         Traceback (most recent call last)",
      "\u001b[0;32m<ipython-input-5-74e7bcfba76b>\u001b[0m in \u001b[0;36m<module>\u001b[0;34m()\u001b[0m\n\u001b[0;32m----> 1\u001b[0;31m \u001b[0mget_ipython\u001b[0m\u001b[0;34m(\u001b[0m\u001b[0;34m)\u001b[0m\u001b[0;34m.\u001b[0m\u001b[0mrun_cell_magic\u001b[0m\u001b[0;34m(\u001b[0m\u001b[0;34m'time'\u001b[0m\u001b[0;34m,\u001b[0m \u001b[0;34m''\u001b[0m\u001b[0;34m,\u001b[0m \u001b[0;34m'\\nmodel_full = ftrl.FtrlProximal(alpha=0.1, beta=1, l1=75, l2=25)\\nmodel_full.fit(X, y, num_passes=22)'\u001b[0m\u001b[0;34m)\u001b[0m\u001b[0;34m\u001b[0m\u001b[0m\n\u001b[0m",
      "\u001b[0;32m/home/agrigorev/anaconda3/lib/python3.5/site-packages/IPython/core/interactiveshell.py\u001b[0m in \u001b[0;36mrun_cell_magic\u001b[0;34m(self, magic_name, line, cell)\u001b[0m\n\u001b[1;32m   2113\u001b[0m             \u001b[0mmagic_arg_s\u001b[0m \u001b[0;34m=\u001b[0m \u001b[0mself\u001b[0m\u001b[0;34m.\u001b[0m\u001b[0mvar_expand\u001b[0m\u001b[0;34m(\u001b[0m\u001b[0mline\u001b[0m\u001b[0;34m,\u001b[0m \u001b[0mstack_depth\u001b[0m\u001b[0;34m)\u001b[0m\u001b[0;34m\u001b[0m\u001b[0m\n\u001b[1;32m   2114\u001b[0m             \u001b[0;32mwith\u001b[0m \u001b[0mself\u001b[0m\u001b[0;34m.\u001b[0m\u001b[0mbuiltin_trap\u001b[0m\u001b[0;34m:\u001b[0m\u001b[0;34m\u001b[0m\u001b[0m\n\u001b[0;32m-> 2115\u001b[0;31m                 \u001b[0mresult\u001b[0m \u001b[0;34m=\u001b[0m \u001b[0mfn\u001b[0m\u001b[0;34m(\u001b[0m\u001b[0mmagic_arg_s\u001b[0m\u001b[0;34m,\u001b[0m \u001b[0mcell\u001b[0m\u001b[0;34m)\u001b[0m\u001b[0;34m\u001b[0m\u001b[0m\n\u001b[0m\u001b[1;32m   2116\u001b[0m             \u001b[0;32mreturn\u001b[0m \u001b[0mresult\u001b[0m\u001b[0;34m\u001b[0m\u001b[0m\n\u001b[1;32m   2117\u001b[0m \u001b[0;34m\u001b[0m\u001b[0m\n",
      "\u001b[0;32m<decorator-gen-59>\u001b[0m in \u001b[0;36mtime\u001b[0;34m(self, line, cell, local_ns)\u001b[0m\n",
      "\u001b[0;32m/home/agrigorev/anaconda3/lib/python3.5/site-packages/IPython/core/magic.py\u001b[0m in \u001b[0;36m<lambda>\u001b[0;34m(f, *a, **k)\u001b[0m\n\u001b[1;32m    186\u001b[0m     \u001b[0;31m# but it's overkill for just that one bit of state.\u001b[0m\u001b[0;34m\u001b[0m\u001b[0;34m\u001b[0m\u001b[0m\n\u001b[1;32m    187\u001b[0m     \u001b[0;32mdef\u001b[0m \u001b[0mmagic_deco\u001b[0m\u001b[0;34m(\u001b[0m\u001b[0marg\u001b[0m\u001b[0;34m)\u001b[0m\u001b[0;34m:\u001b[0m\u001b[0;34m\u001b[0m\u001b[0m\n\u001b[0;32m--> 188\u001b[0;31m         \u001b[0mcall\u001b[0m \u001b[0;34m=\u001b[0m \u001b[0;32mlambda\u001b[0m \u001b[0mf\u001b[0m\u001b[0;34m,\u001b[0m \u001b[0;34m*\u001b[0m\u001b[0ma\u001b[0m\u001b[0;34m,\u001b[0m \u001b[0;34m**\u001b[0m\u001b[0mk\u001b[0m\u001b[0;34m:\u001b[0m \u001b[0mf\u001b[0m\u001b[0;34m(\u001b[0m\u001b[0;34m*\u001b[0m\u001b[0ma\u001b[0m\u001b[0;34m,\u001b[0m \u001b[0;34m**\u001b[0m\u001b[0mk\u001b[0m\u001b[0;34m)\u001b[0m\u001b[0;34m\u001b[0m\u001b[0m\n\u001b[0m\u001b[1;32m    189\u001b[0m \u001b[0;34m\u001b[0m\u001b[0m\n\u001b[1;32m    190\u001b[0m         \u001b[0;32mif\u001b[0m \u001b[0mcallable\u001b[0m\u001b[0;34m(\u001b[0m\u001b[0marg\u001b[0m\u001b[0;34m)\u001b[0m\u001b[0;34m:\u001b[0m\u001b[0;34m\u001b[0m\u001b[0m\n",
      "\u001b[0;32m/home/agrigorev/anaconda3/lib/python3.5/site-packages/IPython/core/magics/execution.py\u001b[0m in \u001b[0;36mtime\u001b[0;34m(self, line, cell, local_ns)\u001b[0m\n\u001b[1;32m   1178\u001b[0m         \u001b[0;32melse\u001b[0m\u001b[0;34m:\u001b[0m\u001b[0;34m\u001b[0m\u001b[0m\n\u001b[1;32m   1179\u001b[0m             \u001b[0mst\u001b[0m \u001b[0;34m=\u001b[0m \u001b[0mclock2\u001b[0m\u001b[0;34m(\u001b[0m\u001b[0;34m)\u001b[0m\u001b[0;34m\u001b[0m\u001b[0m\n\u001b[0;32m-> 1180\u001b[0;31m             \u001b[0mexec\u001b[0m\u001b[0;34m(\u001b[0m\u001b[0mcode\u001b[0m\u001b[0;34m,\u001b[0m \u001b[0mglob\u001b[0m\u001b[0;34m,\u001b[0m \u001b[0mlocal_ns\u001b[0m\u001b[0;34m)\u001b[0m\u001b[0;34m\u001b[0m\u001b[0m\n\u001b[0m\u001b[1;32m   1181\u001b[0m             \u001b[0mend\u001b[0m \u001b[0;34m=\u001b[0m \u001b[0mclock2\u001b[0m\u001b[0;34m(\u001b[0m\u001b[0;34m)\u001b[0m\u001b[0;34m\u001b[0m\u001b[0m\n\u001b[1;32m   1182\u001b[0m             \u001b[0mout\u001b[0m \u001b[0;34m=\u001b[0m \u001b[0;32mNone\u001b[0m\u001b[0;34m\u001b[0m\u001b[0m\n",
      "\u001b[0;32m<timed exec>\u001b[0m in \u001b[0;36m<module>\u001b[0;34m()\u001b[0m\n",
      "\u001b[0;32m/home/agrigorev/notebooks/criteo-nips/ftrl.py\u001b[0m in \u001b[0;36mfit\u001b[0;34m(self, X, y, num_passes)\u001b[0m\n\u001b[1;32m    130\u001b[0m \u001b[0;34m\u001b[0m\u001b[0m\n\u001b[1;32m    131\u001b[0m         \u001b[0;32mfor\u001b[0m \u001b[0mi\u001b[0m \u001b[0;32min\u001b[0m \u001b[0mrange\u001b[0m\u001b[0;34m(\u001b[0m\u001b[0mnum_passes\u001b[0m\u001b[0;34m)\u001b[0m\u001b[0;34m:\u001b[0m\u001b[0;34m\u001b[0m\u001b[0m\n\u001b[0;32m--> 132\u001b[0;31m             \u001b[0mloss\u001b[0m \u001b[0;34m=\u001b[0m \u001b[0m_lib\u001b[0m\u001b[0;34m.\u001b[0m\u001b[0mftrl_fit_batch\u001b[0m\u001b[0;34m(\u001b[0m\u001b[0mmatrix\u001b[0m\u001b[0;34m,\u001b[0m \u001b[0my_ptr\u001b[0m\u001b[0;34m,\u001b[0m \u001b[0mn\u001b[0m\u001b[0;34m,\u001b[0m \u001b[0mself\u001b[0m\u001b[0;34m.\u001b[0m\u001b[0m_params\u001b[0m\u001b[0;34m,\u001b[0m \u001b[0mself\u001b[0m\u001b[0;34m.\u001b[0m\u001b[0m_model\u001b[0m\u001b[0;34m,\u001b[0m \u001b[0;32mTrue\u001b[0m\u001b[0;34m)\u001b[0m\u001b[0;34m\u001b[0m\u001b[0m\n\u001b[0m\u001b[1;32m    133\u001b[0m \u001b[0;34m\u001b[0m\u001b[0m\n\u001b[1;32m    134\u001b[0m         \u001b[0;32mreturn\u001b[0m \u001b[0mloss\u001b[0m\u001b[0;34m\u001b[0m\u001b[0m\n",
      "\u001b[0;31mKeyboardInterrupt\u001b[0m: "
     ]
    }
   ],
   "source": [
    "%%time\n",
    "\n",
    "model_full = ftrl.FtrlProximal(alpha=0.1, beta=1, l1=75, l2=25)\n",
    "model_full.fit(X, y, num_passes=22)"
   ]
  },
  {
   "cell_type": "code",
   "execution_count": 10,
   "metadata": {
    "collapsed": true
   },
   "outputs": [],
   "source": [
    "shift = 1.1875\n",
    "scale = 850100\n",
    "\n",
    "def shifted_scaled_sigmoid(x, shift=0, scale=1):\n",
    "    s = 1 / (1 + np.exp(-x + shift))\n",
    "    return (s * scale).round(2)"
   ]
  },
  {
   "cell_type": "code",
   "execution_count": 6,
   "metadata": {
    "collapsed": false
   },
   "outputs": [],
   "source": [
    "it_test = u.read_grouped('data/criteo_test_release.txt.gz')"
   ]
  },
  {
   "cell_type": "code",
   "execution_count": 12,
   "metadata": {
    "collapsed": false
   },
   "outputs": [
    {
     "name": "stdout",
     "output_type": "stream",
     "text": [
      "\n"
     ]
    }
   ],
   "source": [
    "f_out = open('pred_ftrl_argmax15.txt', 'w')\n",
    "\n",
    "for gid, group in tqdm(it_test, total=7087738):\n",
    "    cols = []\n",
    "    vals = []\n",
    "\n",
    "    for line in group:\n",
    "        cols.append(line.idx)\n",
    "        vals.append(line.val)\n",
    "\n",
    "    X_val = u.to_csr(cols, vals)\n",
    "\n",
    "    pred = model_full.predict(X_val)\n",
    "    m = pred.argmax()\n",
    "    pred[m] = pred[m] + 15\n",
    "    #pred = shifted_scaled_sigmoid(pred, shift, scale)\n",
    "\n",
    "    pred_str = u.to_prediction_str(gid, pred)\n",
    "    \n",
    "    f_out.write(pred_str)\n",
    "    f_out.write('\\n')\n",
    "\n",
    "f_out.flush()\n",
    "f_out.close()"
   ]
  },
  {
   "cell_type": "code",
   "execution_count": 14,
   "metadata": {
    "collapsed": true
   },
   "outputs": [],
   "source": [
    "!gzip pred_ftrl2.txt"
   ]
  },
  {
   "cell_type": "code",
   "execution_count": 15,
   "metadata": {
    "collapsed": false
   },
   "outputs": [
    {
     "name": "stdout",
     "output_type": "stream",
     "text": [
      "\u001b[1m\u001b[36mCrowdAI.Event.Authentication\u001b[0m : Authenticating for challenge = \u001b[4m\u001b[1m\u001b[34mCriteoAdPlacementNIPS2017\u001b[0m\n",
      "\u001b[1m\u001b[32mCrowdAI.Event.Connection.CONNECTED\u001b[0m\u001b[1m\u001b[32m\u001b[0m\n",
      "\u001b[1m\u001b[32mCrowdAI.Event.Authentication.SUCCESS\u001b[0m : \u001b[1m\u001b[32mAuthentication Successful\u001b[0m\n"
     ]
    }
   ],
   "source": []
  },
  {
   "cell_type": "code",
   "execution_count": 16,
   "metadata": {
    "collapsed": false
   },
   "outputs": [
    {
     "name": "stdout",
     "output_type": "stream",
     "text": [
      "\u001b[1m\u001b[34mCrowdAI.Event.Misc.FILE_UPLOAD : Preparing for file upload\u001b[0m\n"
     ]
    },
    {
     "name": "stderr",
     "output_type": "stream",
     "text": [
      "  0% |          |[00:00<00:40]   2.45% /s] "
     ]
    },
    {
     "name": "stdout",
     "output_type": "stream",
     "text": [
      "\u001b[1m\u001b[34mCrowdAI.Event.Misc.FILE_UPLOAD : Uploading file\u001b[0m\n"
     ]
    },
    {
     "name": "stderr",
     "output_type": "stream",
     "text": [
      "100% |██████████|[00:08<00:00]  12.23% /s] \n",
      "  0% |          |[00:00<?]  ?% /s] "
     ]
    },
    {
     "name": "stdout",
     "output_type": "stream",
     "text": [
      "\u001b[1m\u001b[33mCrowdAI.Event.Job.ENQUEUED\u001b[0m : 7760cc63-c4fe-49dd-b994-e0ee3485de3b\n"
     ]
    },
    {
     "name": "stderr",
     "output_type": "stream",
     "text": [
      "\r",
      "          \r",
      "\r",
      "          \r",
      "  0% |          |[00:00<?]  ?% /s] \r",
      "          \r",
      "\r",
      "          \r",
      "\u001b[1m\u001b[32m7760cc63-c4fe-49dd-b994-e0ee3485de3b\u001b[0m:   0% |          |[00:00<?]  ?% /s] "
     ]
    },
    {
     "name": "stdout",
     "output_type": "stream",
     "text": [
      "\u001b[1m\u001b[34mCrowdAI.Event.Job.RUNNING\u001b[0m : 7760cc63-c4fe-49dd-b994-e0ee3485de3b\n",
      "\u001b[1m\u001b[36mCrowdAI.Event.Job.INFO\u001b[0m : (7760cc63-c4fe-49dd-b994-e0ee3485de3b) Beginning grading of the submission\n"
     ]
    },
    {
     "name": "stderr",
     "output_type": "stream",
     "text": [
      "\u001b[1m\u001b[32m7760cc63-c4fe-49dd-b994-e0ee3485de3b\u001b[0m: 100% |█████████▉|[1:26:38<00:00]  52.22s/% ] "
     ]
    },
    {
     "name": "stdout",
     "output_type": "stream",
     "text": [
      "\u001b[1m\u001b[36mCrowdAI.Event.Job.INFO\u001b[0m : (7760cc63-c4fe-49dd-b994-e0ee3485de3b) Scores Computed Successfully !!\n",
      "\u001b[1m\u001b[36mCrowdAI.Event.Job.INFO\u001b[0m : (7760cc63-c4fe-49dd-b994-e0ee3485de3b) ImpWt_std: 0.0134043441367\n",
      "\u001b[1m\u001b[36mCrowdAI.Event.Job.INFO\u001b[0m : (7760cc63-c4fe-49dd-b994-e0ee3485de3b) Uploading scores to the leaderboard....\n",
      "\u001b[1m\u001b[36mCrowdAI.Event.Job.INFO\u001b[0m : (7760cc63-c4fe-49dd-b994-e0ee3485de3b) SNIPS_std: 0.000993291621552\n",
      "\u001b[1m\u001b[36mCrowdAI.Event.Job.INFO\u001b[0m : (7760cc63-c4fe-49dd-b994-e0ee3485de3b) SNIPS : 53.0539863777\n",
      "\u001b[1m\u001b[36mCrowdAI.Event.Job.INFO\u001b[0m : (7760cc63-c4fe-49dd-b994-e0ee3485de3b) ImpWt : 0.990946687511\n",
      "\u001b[1m\u001b[36mCrowdAI.Event.Job.INFO\u001b[0m : (7760cc63-c4fe-49dd-b994-e0ee3485de3b) IPS_std: 2.53459631776\n",
      "\u001b[1m\u001b[36mCrowdAI.Event.Job.INFO\u001b[0m : (7760cc63-c4fe-49dd-b994-e0ee3485de3b) IPS : 52.5736720603\n"
     ]
    },
    {
     "name": "stderr",
     "output_type": "stream",
     "text": [
      "\r",
      "          \r",
      "\r",
      "          \r",
      "\u001b[1m\u001b[32m7760cc63-c4fe-49dd-b994-e0ee3485de3b\u001b[0m: 100% |█████████▉|[1:26:39<00:00]  52.22s/% ] \r",
      "\u001b[1m\u001b[32m7760cc63-c4fe-49dd-b994-e0ee3485de3b\u001b[0m: 100% |██████████|[1:26:39<00:00]  257.11s/% ] "
     ]
    },
    {
     "name": "stdout",
     "output_type": "stream",
     "text": [
      "\u001b[1m\u001b[36mCrowdAI.Event.Job.INFO\u001b[0m : (7760cc63-c4fe-49dd-b994-e0ee3485de3b) Scores Submited Successfully !!! \n",
      "\u001b[1m\u001b[32mCrowdAI.Event.Job.COMPLETE\u001b[0m : \u001b[1m\u001b[32m7760cc63-c4fe-49dd-b994-e0ee3485de3b\u001b[0m\t   🍺 \n"
     ]
    },
    {
     "name": "stderr",
     "output_type": "stream",
     "text": [
      "\r",
      "          \r",
      "\r",
      "          \r",
      "\u001b[1m\u001b[32m7760cc63-c4fe-49dd-b994-e0ee3485de3b\u001b[0m: 100% |██████████|[1:26:39<00:00]  257.11s/% ] \n"
     ]
    }
   ],
   "source": [
    "import crowdai\n",
    "challenge = crowdai.Challenge(\"CriteoAdPlacementNIPS2017\", 'd671d30799fa215f63a5cb5049983c79')\n",
    "scores = challenge.submit('pred_ftrl2.txt.gz')"
   ]
  },
  {
   "cell_type": "code",
   "execution_count": 17,
   "metadata": {
    "collapsed": false
   },
   "outputs": [
    {
     "data": {
      "text/plain": [
       "{'impwt': 0.9909466875114865,\n",
       " 'impwt_std': 0.013404344136707162,\n",
       " 'ips': 52.57367206026822,\n",
       " 'ips_std': 2.5345963177595756,\n",
       " 'max_instances': 7087738,\n",
       " 'message': '',\n",
       " 'snips': 53.05398637770695,\n",
       " 'snips_std': 0.0009932916215519697}"
      ]
     },
     "execution_count": 17,
     "metadata": {},
     "output_type": "execute_result"
    }
   ],
   "source": [
    "scores"
   ]
  },
  {
   "cell_type": "code",
   "execution_count": 154,
   "metadata": {
    "collapsed": false
   },
   "outputs": [
    {
     "data": {
      "text/plain": [
       "{'impwt': 0.983055672490548,\n",
       " 'impwt_std': 0.015840261443422165,\n",
       " 'ips': 46.11893916159966,\n",
       " 'ips_std': 1.885006865357641,\n",
       " 'max_instances': 7087738,\n",
       " 'message': '',\n",
       " 'snips': 46.91386302136728,\n",
       " 'snips_std': 0.0007714217927742332}"
      ]
     },
     "execution_count": 154,
     "metadata": {},
     "output_type": "execute_result"
    }
   ],
   "source": [
    "scores"
   ]
  },
  {
   "cell_type": "code",
   "execution_count": 29,
   "metadata": {
    "collapsed": false
   },
   "outputs": [],
   "source": [
    "@jit\n",
    "def pred_to_array(pred):\n",
    "    pred_split = pred.split(',')\n",
    "    n = len(pred_split)\n",
    "    out = np.zeros(n, dtype=np.float32)\n",
    "\n",
    "    for i in range(n):\n",
    "        _, p = pred_split[i].split(':')\n",
    "        out[i] = float(p)\n",
    "\n",
    "    return out"
   ]
  },
  {
   "cell_type": "code",
   "execution_count": 8,
   "metadata": {
    "collapsed": true
   },
   "outputs": [],
   "source": []
  },
  {
   "cell_type": "code",
   "execution_count": 61,
   "metadata": {
    "collapsed": false
   },
   "outputs": [
    {
     "name": "stdout",
     "output_type": "stream",
     "text": [
      "\n"
     ]
    }
   ],
   "source": [
    "f_in = gzip.open('pred_ftrl2.txt.gz', 'r')\n",
    "f_out = open('pred_ftrl2_argmax15.txt', 'w')\n",
    "\n",
    "for line in tqdm(f_in, total=7087738):\n",
    "    line = line.strip().decode()\n",
    "    gid, pred = line.split(';')\n",
    "    gid = int(gid)\n",
    "    pred = pred_to_array(pred)\n",
    "    m = pred.argmax()\n",
    "    pred[m] = pred[m] + 15\n",
    "    pred_str = u.to_prediction_str(gid, pred)\n",
    "\n",
    "    f_out.write(pred_str)\n",
    "    f_out.write('\\n')\n",
    "\n",
    "f_out.flush()\n",
    "f_out.close()\n",
    "\n",
    "f_in.close()"
   ]
  },
  {
   "cell_type": "code",
   "execution_count": 62,
   "metadata": {
    "collapsed": false
   },
   "outputs": [],
   "source": [
    "!gzip pred_ftrl2_argmax15.txt"
   ]
  },
  {
   "cell_type": "code",
   "execution_count": 63,
   "metadata": {
    "collapsed": false
   },
   "outputs": [
    {
     "name": "stdout",
     "output_type": "stream",
     "text": [
      "\u001b[1m\u001b[36mCrowdAI.Event.Authentication\u001b[0m : Authenticating for challenge = \u001b[4m\u001b[1m\u001b[34mCriteoAdPlacementNIPS2017\u001b[0m\n",
      "\u001b[1m\u001b[32mCrowdAI.Event.Connection.CONNECTED\u001b[0m\u001b[1m\u001b[32m\u001b[0m\n",
      "\u001b[1m\u001b[32mCrowdAI.Event.Authentication.SUCCESS\u001b[0m : \u001b[1m\u001b[32mAuthentication Successful\u001b[0m\n",
      "\u001b[1m\u001b[34mCrowdAI.Event.Misc.FILE_UPLOAD : Preparing for file upload\u001b[0m\n"
     ]
    },
    {
     "name": "stderr",
     "output_type": "stream",
     "text": [
      "  0% |          |[00:00<00:31]   3.21% /s] "
     ]
    },
    {
     "name": "stdout",
     "output_type": "stream",
     "text": [
      "\u001b[1m\u001b[34mCrowdAI.Event.Misc.FILE_UPLOAD : Uploading file\u001b[0m\n"
     ]
    },
    {
     "name": "stderr",
     "output_type": "stream",
     "text": [
      "100% |██████████|[00:05<00:00]  18.70% /s] \n",
      "  0% |          |[00:00<?]  ?% /s] "
     ]
    },
    {
     "name": "stdout",
     "output_type": "stream",
     "text": [
      "\u001b[1m\u001b[33mCrowdAI.Event.Job.ENQUEUED\u001b[0m : 6458ac6a-ce18-4fd0-b5f8-c9ac7d17613b\n"
     ]
    },
    {
     "name": "stderr",
     "output_type": "stream",
     "text": [
      "\r",
      "          \r",
      "\r",
      "          \r",
      "  0% |          |[00:00<?]  ?% /s] \r",
      "          \r",
      "\r",
      "          \r",
      "\u001b[1m\u001b[32m6458ac6a-ce18-4fd0-b5f8-c9ac7d17613b\u001b[0m:   0% |          |[00:00<?]  ?% /s] "
     ]
    },
    {
     "name": "stdout",
     "output_type": "stream",
     "text": [
      "\u001b[1m\u001b[34mCrowdAI.Event.Job.RUNNING\u001b[0m : 6458ac6a-ce18-4fd0-b5f8-c9ac7d17613b\n",
      "\u001b[1m\u001b[36mCrowdAI.Event.Job.INFO\u001b[0m : (6458ac6a-ce18-4fd0-b5f8-c9ac7d17613b) Beginning grading of the submission\n"
     ]
    },
    {
     "name": "stderr",
     "output_type": "stream",
     "text": [
      "\u001b[1m\u001b[32m6458ac6a-ce18-4fd0-b5f8-c9ac7d17613b\u001b[0m: 100% |█████████▉|[1:28:35<00:00]  52.44s/% ] "
     ]
    },
    {
     "name": "stdout",
     "output_type": "stream",
     "text": [
      "\u001b[1m\u001b[36mCrowdAI.Event.Job.INFO\u001b[0m : (6458ac6a-ce18-4fd0-b5f8-c9ac7d17613b) Scores Computed Successfully !!\n",
      "\u001b[1m\u001b[36mCrowdAI.Event.Job.INFO\u001b[0m : (6458ac6a-ce18-4fd0-b5f8-c9ac7d17613b) ImpWt : 1.03342193533\n",
      "\u001b[1m\u001b[36mCrowdAI.Event.Job.INFO\u001b[0m : (6458ac6a-ce18-4fd0-b5f8-c9ac7d17613b) SNIPS_std: 0.00155018258196\n",
      "\u001b[1m\u001b[36mCrowdAI.Event.Job.INFO\u001b[0m : (6458ac6a-ce18-4fd0-b5f8-c9ac7d17613b) Uploading scores to the leaderboard....\n",
      "\u001b[1m\u001b[36mCrowdAI.Event.Job.INFO\u001b[0m : (6458ac6a-ce18-4fd0-b5f8-c9ac7d17613b) SNIPS : 53.8029788715\n",
      "\u001b[1m\u001b[36mCrowdAI.Event.Job.INFO\u001b[0m : (6458ac6a-ce18-4fd0-b5f8-c9ac7d17613b) ImpWt_std: 0.0159915074304\n",
      "\u001b[1m\u001b[36mCrowdAI.Event.Job.INFO\u001b[0m : (6458ac6a-ce18-4fd0-b5f8-c9ac7d17613b) IPS_std: 4.19923000659\n",
      "\u001b[1m\u001b[36mCrowdAI.Event.Job.INFO\u001b[0m : (6458ac6a-ce18-4fd0-b5f8-c9ac7d17613b) IPS : 55.6011785517\n"
     ]
    },
    {
     "name": "stderr",
     "output_type": "stream",
     "text": [
      "\r",
      "          \r",
      "\r",
      "          \r",
      "\u001b[1m\u001b[32m6458ac6a-ce18-4fd0-b5f8-c9ac7d17613b\u001b[0m: 100% |█████████▉|[1:28:36<00:00]  52.44s/% ] \r",
      "\u001b[1m\u001b[32m6458ac6a-ce18-4fd0-b5f8-c9ac7d17613b\u001b[0m: 100% |██████████|[1:28:36<00:00]  262.74s/% ] "
     ]
    },
    {
     "name": "stdout",
     "output_type": "stream",
     "text": [
      "\u001b[1m\u001b[36mCrowdAI.Event.Job.INFO\u001b[0m : (6458ac6a-ce18-4fd0-b5f8-c9ac7d17613b) Scores Submited Successfully !!! \n",
      "\u001b[1m\u001b[32mCrowdAI.Event.Job.COMPLETE\u001b[0m : \u001b[1m\u001b[32m6458ac6a-ce18-4fd0-b5f8-c9ac7d17613b\u001b[0m\t   🍺 \n"
     ]
    },
    {
     "name": "stderr",
     "output_type": "stream",
     "text": [
      "\r",
      "          \r",
      "\r",
      "          \r",
      "\u001b[1m\u001b[32m6458ac6a-ce18-4fd0-b5f8-c9ac7d17613b\u001b[0m: 100% |██████████|[1:28:36<00:00]  262.74s/% ] \n"
     ]
    }
   ],
   "source": [
    "import crowdai\n",
    "challenge = crowdai.Challenge(\"CriteoAdPlacementNIPS2017\", 'd671d30799fa215f63a5cb5049983c79')\n",
    "scores = challenge.submit('pred_ftrl2_argmax15.txt.gz')"
   ]
  },
  {
   "cell_type": "code",
   "execution_count": 58,
   "metadata": {
    "collapsed": false
   },
   "outputs": [
    {
     "data": {
      "text/plain": [
       "{'impwt': 1.0291488188127471,\n",
       " 'impwt_std': 0.015837512738002178,\n",
       " 'ips': 55.363350975417525,\n",
       " 'ips_std': 4.1683298472588195,\n",
       " 'max_instances': 7087738,\n",
       " 'message': '',\n",
       " 'snips': 53.79528204607583,\n",
       " 'snips_std': 0.0015450146469609676}"
      ]
     },
     "execution_count": 58,
     "metadata": {},
     "output_type": "execute_result"
    }
   ],
   "source": [
    "scores"
   ]
  },
  {
   "cell_type": "code",
   "execution_count": 54,
   "metadata": {
    "collapsed": false
   },
   "outputs": [
    {
     "data": {
      "text/plain": [
       "{'impwt': 1.0158197613114301,\n",
       " 'impwt_std': 0.013330339899660247,\n",
       " 'ips': 54.92215088227358,\n",
       " 'ips_std': 4.284789023838347,\n",
       " 'max_instances': 7087738,\n",
       " 'message': '',\n",
       " 'snips': 54.06682659074156,\n",
       " 'snips_std': 0.0015984071121676571}"
      ]
     },
     "execution_count": 54,
     "metadata": {},
     "output_type": "execute_result"
    }
   ],
   "source": [
    "# raw & argmax + 15\n",
    "scores"
   ]
  },
  {
   "cell_type": "code",
   "execution_count": 50,
   "metadata": {
    "collapsed": false
   },
   "outputs": [
    {
     "data": {
      "text/plain": [
       "{'impwt': 1.0157875564946188,\n",
       " 'impwt_std': 0.013324275777335002,\n",
       " 'ips': 54.9180220697687,\n",
       " 'ips_std': 4.28310809259753,\n",
       " 'max_instances': 7087738,\n",
       " 'message': '',\n",
       " 'snips': 54.06447609900372,\n",
       " 'snips_std': 0.0015978265195827558}"
      ]
     },
     "execution_count": 50,
     "metadata": {},
     "output_type": "execute_result"
    }
   ],
   "source": [
    "scores"
   ]
  },
  {
   "cell_type": "code",
   "execution_count": 46,
   "metadata": {
    "collapsed": false
   },
   "outputs": [
    {
     "data": {
      "text/plain": [
       "{'impwt': 1.011598465072558,\n",
       " 'impwt_std': 0.01252083399726181,\n",
       " 'ips': 54.3528817065464,\n",
       " 'ips_std': 4.050219880773622,\n",
       " 'max_instances': 7087738,\n",
       " 'message': '',\n",
       " 'snips': 53.72969966166159,\n",
       " 'snips_std': 0.0015167550204357677}"
      ]
     },
     "execution_count": 46,
     "metadata": {},
     "output_type": "execute_result"
    }
   ],
   "source": [
    "scores"
   ]
  },
  {
   "cell_type": "code",
   "execution_count": null,
   "metadata": {
    "collapsed": true
   },
   "outputs": [],
   "source": []
  }
 ],
 "metadata": {
  "anaconda-cloud": {},
  "kernelspec": {
   "display_name": "Python [conda root]",
   "language": "python",
   "name": "conda-root-py"
  },
  "language_info": {
   "codemirror_mode": {
    "name": "ipython",
    "version": 3
   },
   "file_extension": ".py",
   "mimetype": "text/x-python",
   "name": "python",
   "nbconvert_exporter": "python",
   "pygments_lexer": "ipython3",
   "version": "3.5.2"
  },
  "widgets": {
   "state": {
    "c41cf2cac3d54e1a810f5c7dc304c048": {
     "views": [
      {
       "cell_index": 19
      }
     ]
    }
   },
   "version": "1.2.0"
  }
 },
 "nbformat": 4,
 "nbformat_minor": 1
}
