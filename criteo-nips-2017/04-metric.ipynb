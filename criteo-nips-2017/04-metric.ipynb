{
 "cells": [
  {
   "cell_type": "code",
   "execution_count": 1,
   "metadata": {
    "collapsed": true
   },
   "outputs": [],
   "source": [
    "import pandas as pd\n",
    "import numpy as np\n",
    "import scipy.sparse as sp\n",
    "\n",
    "from sklearn.metrics import roc_auc_score\n",
    "from tqdm import tqdm_notebook as tqdm"
   ]
  },
  {
   "cell_type": "code",
   "execution_count": 2,
   "metadata": {
    "collapsed": true
   },
   "outputs": [],
   "source": [
    "import competition_utils as u"
   ]
  },
  {
   "cell_type": "code",
   "execution_count": 3,
   "metadata": {
    "collapsed": false
   },
   "outputs": [],
   "source": [
    "X_train = sp.load_npz('tmp/X_train_sparse.npz')\n",
    "X_val = sp.load_npz('tmp/X_val_sparse.npz')\n",
    "\n",
    "y_train = np.load('tmp/y_train.npy', )\n",
    "y_val = np.load('tmp/y_val.npy', )\n",
    "\n",
    "y_train = y_train.astype(np.float32)\n",
    "y_val = y_val.astype(np.float32)"
   ]
  },
  {
   "cell_type": "code",
   "execution_count": 4,
   "metadata": {
    "collapsed": true
   },
   "outputs": [],
   "source": [
    "prospensity_val = np.load('tmp/prospensity_val.npy')"
   ]
  },
  {
   "cell_type": "code",
   "execution_count": 5,
   "metadata": {
    "collapsed": true
   },
   "outputs": [],
   "source": [
    "import ftrl"
   ]
  },
  {
   "cell_type": "code",
   "execution_count": 6,
   "metadata": {
    "collapsed": true
   },
   "outputs": [],
   "source": [
    "model = ftrl.FtrlProximal(alpha=0.1, beta=1, l1=75, l2=25)"
   ]
  },
  {
   "cell_type": "code",
   "execution_count": 7,
   "metadata": {
    "collapsed": false
   },
   "outputs": [
    {
     "name": "stdout",
     "output_type": "stream",
     "text": [
      "0.724557835545\n",
      "0.728503792556\n",
      "0.730382334198\n",
      "0.731554873506\n",
      "0.732187807822\n",
      "0.73266944371\n",
      "0.733034817245\n",
      "0.733250238956\n",
      "0.733580563871\n",
      "0.733726686471\n",
      "0.733892882517\n",
      "0.734008730496\n",
      "0.734051071205\n",
      "0.734059912074\n",
      "0.734242511593\n",
      "0.73419372952\n",
      "0.734230433598\n",
      "0.734277064593\n",
      "0.734289764739\n",
      "0.734390659298\n",
      "\n"
     ]
    }
   ],
   "source": [
    "for i in tqdm(range(20)):\n",
    "    model.fit(X_train, y_train)\n",
    "    y_pred = model.predict(X_val)\n",
    "    auc = roc_auc_score(y_val, y_pred)\n",
    "    print(auc)"
   ]
  },
  {
   "cell_type": "markdown",
   "metadata": {
    "collapsed": false
   },
   "source": [
    "it_val = u.read_grouped('data/train_3.txt')\n",
    "\n",
    "df_full_val = []\n",
    "\n",
    "limit = 500000\n",
    "\n",
    "cnt = 0\n",
    "\n",
    "for id, group in tqdm(it_val, total=limit):\n",
    "    df_full_val.extend(list(group))\n",
    "    cnt = cnt + 1\n",
    "\n",
    "    if cnt > limit:\n",
    "        break"
   ]
  },
  {
   "cell_type": "markdown",
   "metadata": {
    "collapsed": false
   },
   "source": [
    "df_full_val = pd.DataFrame(df_full_val)"
   ]
  },
  {
   "cell_type": "code",
   "execution_count": 8,
   "metadata": {
    "collapsed": true
   },
   "outputs": [],
   "source": [
    "import pickle"
   ]
  },
  {
   "cell_type": "code",
   "execution_count": 9,
   "metadata": {
    "collapsed": false
   },
   "outputs": [],
   "source": [
    "with open('./tmp/df_full_val_500k.bin', 'rb') as f:\n",
    "    df_full_val = pickle.load(f)"
   ]
  },
  {
   "cell_type": "code",
   "execution_count": 11,
   "metadata": {
    "collapsed": false
   },
   "outputs": [],
   "source": [
    "cols = list(df_full_val.idx)\n",
    "vals = list(df_full_val.val)\n",
    "\n",
    "X_val_full = u.to_csr(cols, vals)"
   ]
  },
  {
   "cell_type": "code",
   "execution_count": 12,
   "metadata": {
    "collapsed": false
   },
   "outputs": [
    {
     "name": "stdout",
     "output_type": "stream",
     "text": [
      "CPU times: user 9.25 s, sys: 40 ms, total: 9.29 s\n",
      "Wall time: 1.18 s\n"
     ]
    }
   ],
   "source": [
    "%%time\n",
    "\n",
    "df_full_val['predict'] = model.predict(X_val_full)"
   ]
  },
  {
   "cell_type": "code",
   "execution_count": 10,
   "metadata": {
    "collapsed": true
   },
   "outputs": [],
   "source": [
    "from numba import njit"
   ]
  },
  {
   "cell_type": "code",
   "execution_count": 13,
   "metadata": {
    "collapsed": false
   },
   "outputs": [],
   "source": [
    "prop_series = df_full_val.propensity.dropna()\n",
    "num_groups = len(prop_series)\n",
    "\n",
    "group_indptr = np.zeros(num_groups + 1, dtype='uint32')\n",
    "group_indptr[:num_groups] = prop_series.index.values\n",
    "group_indptr[-1] = len(df_full_val)\n",
    "\n",
    "groups = df_full_val.id.values[group_indptr[:-1]]\n",
    "\n",
    "prospensities = prop_series.values.astype('float32')\n",
    "clicks = df_full_val.label.dropna().values"
   ]
  },
  {
   "cell_type": "code",
   "execution_count": 14,
   "metadata": {
    "collapsed": true
   },
   "outputs": [],
   "source": [
    "model_predictions = df_full_val.predict.values"
   ]
  },
  {
   "cell_type": "code",
   "execution_count": 19,
   "metadata": {
    "collapsed": false
   },
   "outputs": [],
   "source": [
    "@njit\n",
    "def compute_IPS(model_predictions, group_indptr, prospensities, clicks):\n",
    "    nom_sum = 0.0\n",
    "\n",
    "    num_pos = 0\n",
    "    num_neg = 0\n",
    "\n",
    "    n = len(clicks)\n",
    "    for i in range(n):\n",
    "        label = clicks[i]\n",
    "\n",
    "        if label == 0:\n",
    "            num_neg = num_neg + 1\n",
    "            continue\n",
    "\n",
    "        num_pos = num_pos + 1\n",
    "        prosp = prospensities[i]\n",
    "\n",
    "        group_start = group_indptr[i]\n",
    "        group_end = group_indptr[i + 1]\n",
    "        scores = model_predictions[group_start:group_end]\n",
    "\n",
    "        best = scores.max()\n",
    "        offset_scores = scores - best\n",
    "\n",
    "        probs = np.exp(offset_scores)\n",
    "        prob = probs[0] / probs.sum()\n",
    "\n",
    "        weight = prosp * prob \n",
    "        nom_sum = nom_sum + weight\n",
    "\n",
    "    denom = num_pos + 10 * num_neg\n",
    "    return 10000 * nom_sum / denom        "
   ]
  },
  {
   "cell_type": "code",
   "execution_count": 61,
   "metadata": {
    "collapsed": false
   },
   "outputs": [],
   "source": [
    "@njit\n",
    "def argmax_increase(model_predictions, group_indptr, inc):\n",
    "    out = model_predictions.copy()\n",
    "\n",
    "    n_groups = len(group_indptr) - 1\n",
    "\n",
    "    for i in range(n_groups):\n",
    "        group_start = group_indptr[i]\n",
    "        group_end = group_indptr[i + 1]\n",
    "        \n",
    "        scores = model_predictions[group_start:group_end]\n",
    "    \n",
    "        m = group_start + np.argmax(scores)\n",
    "        out[m] = out[m] + inc\n",
    "\n",
    "    return out"
   ]
  },
  {
   "cell_type": "code",
   "execution_count": 34,
   "metadata": {
    "collapsed": false
   },
   "outputs": [
    {
     "name": "stdout",
     "output_type": "stream",
     "text": [
      "CPU times: user 28 ms, sys: 4 ms, total: 32 ms\n",
      "Wall time: 32.5 ms\n"
     ]
    },
    {
     "data": {
      "text/plain": [
       "44.32622507690207"
      ]
     },
     "execution_count": 34,
     "metadata": {},
     "output_type": "execute_result"
    }
   ],
   "source": [
    "%%time\n",
    "compute_IPS(model_predictions, group_indptr, prospensities, clicks)"
   ]
  },
  {
   "cell_type": "code",
   "execution_count": 79,
   "metadata": {
    "collapsed": false
   },
   "outputs": [
    {
     "data": {
      "text/plain": [
       "100.01527644958387"
      ]
     },
     "execution_count": 79,
     "metadata": {},
     "output_type": "execute_result"
    }
   ],
   "source": [
    "compute_IPS(pred_inc, group_indptr, prospensities, clicks)"
   ]
  },
  {
   "cell_type": "code",
   "execution_count": null,
   "metadata": {
    "collapsed": true
   },
   "outputs": [],
   "source": []
  },
  {
   "cell_type": "code",
   "execution_count": 82,
   "metadata": {
    "collapsed": true
   },
   "outputs": [],
   "source": [
    "def shifted_scaled_sigmoid(x, shift=1, scale=1000000):\n",
    "    s = 1 / (1 + np.exp(-x + shift))\n",
    "    return (s * scale).round(2)"
   ]
  },
  {
   "cell_type": "code",
   "execution_count": 91,
   "metadata": {
    "collapsed": false,
    "scrolled": true
   },
   "outputs": [
    {
     "data": {
      "text/plain": [
       "58.99182104226634"
      ]
     },
     "execution_count": 91,
     "metadata": {},
     "output_type": "execute_result"
    }
   ],
   "source": [
    "shift = 1.1875\n",
    "scale = 850100\n",
    "pred_scaled = shifted_scaled_sigmoid(model_predictions, shift=shift, scale=scale)\n",
    "\n",
    "pred_inc = argmax_increase(pred_scaled, group_indptr, 1)\n",
    "\n",
    "compute_IPS(pred_inc, group_indptr, prospensities, clicks)"
   ]
  },
  {
   "cell_type": "code",
   "execution_count": 89,
   "metadata": {
    "collapsed": true
   },
   "outputs": [],
   "source": [
    "from scipy.optimize.optimize import fmin"
   ]
  },
  {
   "cell_type": "code",
   "execution_count": 95,
   "metadata": {
    "collapsed": true
   },
   "outputs": [],
   "source": [
    "def f_optimize(x):\n",
    "    pred = shifted_scaled_sigmoid(model_predictions, shift=x[0], scale=x[1])\n",
    "    ips = compute_IPS(pred, group_indptr, prospensities, clicks)\n",
    "    return -ips"
   ]
  },
  {
   "cell_type": "code",
   "execution_count": 104,
   "metadata": {
    "collapsed": true
   },
   "outputs": [],
   "source": [
    "x0 = np.array([1, 1000000])\n",
    "#x0 = np.array([0, 100])"
   ]
  },
  {
   "cell_type": "code",
   "execution_count": 105,
   "metadata": {
    "collapsed": false
   },
   "outputs": [
    {
     "name": "stdout",
     "output_type": "stream",
     "text": [
      "Optimization terminated successfully.\n",
      "         Current function value: -50.664431\n",
      "         Iterations: 74\n",
      "         Function evaluations: 179\n"
     ]
    },
    {
     "data": {
      "text/plain": [
       "array([  8.60489009e-01,   9.27951029e+04])"
      ]
     },
     "execution_count": 105,
     "metadata": {},
     "output_type": "execute_result"
    }
   ],
   "source": [
    "fmin(f_optimize, x0)"
   ]
  },
  {
   "cell_type": "code",
   "execution_count": 106,
   "metadata": {
    "collapsed": false
   },
   "outputs": [
    {
     "data": {
      "text/plain": [
       "(0.86048900889449698, 92795.102890663606)"
      ]
     },
     "execution_count": 106,
     "metadata": {},
     "output_type": "execute_result"
    }
   ],
   "source": [
    "shift, scale = _\n",
    "shift, scale"
   ]
  },
  {
   "cell_type": "code",
   "execution_count": 107,
   "metadata": {
    "collapsed": false
   },
   "outputs": [],
   "source": [
    "shift = 1.1875\n",
    "scale = 850100\n"
   ]
  },
  {
   "cell_type": "code",
   "execution_count": 108,
   "metadata": {
    "collapsed": false
   },
   "outputs": [
    {
     "data": {
      "text/plain": [
       "50.825171940625154"
      ]
     },
     "execution_count": 108,
     "metadata": {},
     "output_type": "execute_result"
    }
   ],
   "source": [
    "pred = shifted_scaled_sigmoid(model_predictions, shift=shift, scale=scale)\n",
    "ips = compute_IPS(pred, group_indptr, prospensities, clicks)\n",
    "ips"
   ]
  },
  {
   "cell_type": "code",
   "execution_count": 156,
   "metadata": {
    "collapsed": true
   },
   "outputs": [],
   "source": [
    "it_test = read_train('data/criteo_test_release.txt.gz')\n",
    "test_groups = groupby(it_test, key=lambda x: x.id)"
   ]
  },
  {
   "cell_type": "code",
   "execution_count": 157,
   "metadata": {
    "collapsed": false
   },
   "outputs": [
    {
     "name": "stdout",
     "output_type": "stream",
     "text": [
      "\n"
     ]
    }
   ],
   "source": [
    "f_out = open('pred_ftrl.txt', 'w')\n",
    "\n",
    "for gid, group in tqdm(test_groups, total=7087738):\n",
    "    cols = []\n",
    "    vals = []\n",
    "\n",
    "    for line in group:\n",
    "        cols.append(line.idx)\n",
    "        vals.append(line.val)\n",
    "\n",
    "    X_val = to_csr(cols, vals)\n",
    "    pred = model_full.predict(X_val)\n",
    "    pred = sigmoid_percent(pred)\n",
    "\n",
    "    pred_str = to_prediction_str(gid, pred)\n",
    "    \n",
    "    f_out.write(pred_str)\n",
    "    f_out.write('\\n')\n",
    "\n",
    "f_out.flush()\n",
    "f_out.close()"
   ]
  },
  {
   "cell_type": "code",
   "execution_count": 158,
   "metadata": {
    "collapsed": true
   },
   "outputs": [],
   "source": [
    "!gzip pred_ftrl.txt"
   ]
  },
  {
   "cell_type": "code",
   "execution_count": 152,
   "metadata": {
    "collapsed": false
   },
   "outputs": [
    {
     "name": "stdout",
     "output_type": "stream",
     "text": [
      "\u001b[1m\u001b[36mCrowdAI.Event.Authentication\u001b[0m : Authenticating for challenge = \u001b[4m\u001b[1m\u001b[34mCriteoAdPlacementNIPS2017\u001b[0m\n",
      "\u001b[1m\u001b[32mCrowdAI.Event.Connection.CONNECTED\u001b[0m\u001b[1m\u001b[32m\u001b[0m\n",
      "\u001b[1m\u001b[32mCrowdAI.Event.Authentication.SUCCESS\u001b[0m : \u001b[1m\u001b[32mAuthentication Successful\u001b[0m\n"
     ]
    }
   ],
   "source": [
    "import crowdai\n",
    "challenge = crowdai.Challenge(\"CriteoAdPlacementNIPS2017\", 'd671d30799fa215f63a5cb5049983c79')"
   ]
  },
  {
   "cell_type": "code",
   "execution_count": 159,
   "metadata": {
    "collapsed": false
   },
   "outputs": [
    {
     "name": "stdout",
     "output_type": "stream",
     "text": [
      "\u001b[1m\u001b[34mCrowdAI.Event.Misc.FILE_UPLOAD : Preparing for file upload\u001b[0m\n"
     ]
    },
    {
     "name": "stderr",
     "output_type": "stream",
     "text": [
      "  0% |          |[00:00<00:37]   2.64% /s] "
     ]
    },
    {
     "name": "stdout",
     "output_type": "stream",
     "text": [
      "\u001b[1m\u001b[34mCrowdAI.Event.Misc.FILE_UPLOAD : Uploading file\u001b[0m\n"
     ]
    },
    {
     "name": "stderr",
     "output_type": "stream",
     "text": [
      "100% |██████████|[00:05<00:00]  18.83% /s] \n",
      "  0% |          |[00:00<?]  ?% /s] "
     ]
    },
    {
     "name": "stdout",
     "output_type": "stream",
     "text": [
      "\u001b[1m\u001b[33mCrowdAI.Event.Job.ENQUEUED\u001b[0m : f9ad9084-6bba-4db6-a043-20e7f32bbd9e\n"
     ]
    },
    {
     "name": "stderr",
     "output_type": "stream",
     "text": [
      "\r",
      "          \r",
      "\r",
      "          \r",
      "  0% |          |[00:00<?]  ?% /s] \r",
      "          \r",
      "\r",
      "          \r",
      "\u001b[1m\u001b[32mf9ad9084-6bba-4db6-a043-20e7f32bbd9e\u001b[0m:   0% |          |[00:00<?]  ?% /s] "
     ]
    },
    {
     "name": "stdout",
     "output_type": "stream",
     "text": [
      "\u001b[1m\u001b[34mCrowdAI.Event.Job.RUNNING\u001b[0m : f9ad9084-6bba-4db6-a043-20e7f32bbd9e\n",
      "\u001b[1m\u001b[36mCrowdAI.Event.Job.INFO\u001b[0m : (f9ad9084-6bba-4db6-a043-20e7f32bbd9e) Beginning grading of the submission\n"
     ]
    },
    {
     "name": "stderr",
     "output_type": "stream",
     "text": [
      "\u001b[1m\u001b[32mf9ad9084-6bba-4db6-a043-20e7f32bbd9e\u001b[0m: 100% |█████████▉|[1:27:31<00:00]  52.09s/% ] "
     ]
    },
    {
     "name": "stdout",
     "output_type": "stream",
     "text": [
      "\u001b[1m\u001b[36mCrowdAI.Event.Job.INFO\u001b[0m : (f9ad9084-6bba-4db6-a043-20e7f32bbd9e) Scores Computed Successfully !!\n",
      "\u001b[1m\u001b[36mCrowdAI.Event.Job.INFO\u001b[0m : (f9ad9084-6bba-4db6-a043-20e7f32bbd9e) ImpWt_std: 0.010838412606\n",
      "\u001b[1m\u001b[36mCrowdAI.Event.Job.INFO\u001b[0m : (f9ad9084-6bba-4db6-a043-20e7f32bbd9e) SNIPS_std: 0.000738664556485\n",
      "\u001b[1m\u001b[36mCrowdAI.Event.Job.INFO\u001b[0m : (f9ad9084-6bba-4db6-a043-20e7f32bbd9e) Uploading scores to the leaderboard....\n",
      "\u001b[1m\u001b[36mCrowdAI.Event.Job.INFO\u001b[0m : (f9ad9084-6bba-4db6-a043-20e7f32bbd9e) SNIPS : 51.0486727528\n",
      "\u001b[1m\u001b[36mCrowdAI.Event.Job.INFO\u001b[0m : (f9ad9084-6bba-4db6-a043-20e7f32bbd9e) ImpWt : 0.984911096015\n",
      "\u001b[1m\u001b[36mCrowdAI.Event.Job.INFO\u001b[0m : (f9ad9084-6bba-4db6-a043-20e7f32bbd9e) IPS_std: 1.86442068073\n",
      "\u001b[1m\u001b[36mCrowdAI.Event.Job.INFO\u001b[0m : (f9ad9084-6bba-4db6-a043-20e7f32bbd9e) IPS : 50.278404231\n"
     ]
    },
    {
     "name": "stderr",
     "output_type": "stream",
     "text": [
      "\r",
      "          \r",
      "\r",
      "          \r",
      "\u001b[1m\u001b[32mf9ad9084-6bba-4db6-a043-20e7f32bbd9e\u001b[0m: 100% |█████████▉|[1:27:32<00:00]  52.09s/% ] \r",
      "\u001b[1m\u001b[32mf9ad9084-6bba-4db6-a043-20e7f32bbd9e\u001b[0m: 100% |██████████|[1:27:32<00:00]  224.92s/% ] "
     ]
    },
    {
     "name": "stdout",
     "output_type": "stream",
     "text": [
      "\u001b[1m\u001b[36mCrowdAI.Event.Job.INFO\u001b[0m : (f9ad9084-6bba-4db6-a043-20e7f32bbd9e) Scores Submited Successfully !!! \n",
      "\u001b[1m\u001b[32mCrowdAI.Event.Job.COMPLETE\u001b[0m : \u001b[1m\u001b[32mf9ad9084-6bba-4db6-a043-20e7f32bbd9e\u001b[0m\t   🍺 \n"
     ]
    },
    {
     "name": "stderr",
     "output_type": "stream",
     "text": [
      "\r",
      "          \r",
      "\r",
      "          \r",
      "\u001b[1m\u001b[32mf9ad9084-6bba-4db6-a043-20e7f32bbd9e\u001b[0m: 100% |██████████|[1:27:32<00:00]  224.92s/% ] \n"
     ]
    }
   ],
   "source": [
    "scores = challenge.submit('pred_ftrl.txt.gz')"
   ]
  },
  {
   "cell_type": "code",
   "execution_count": 154,
   "metadata": {
    "collapsed": false
   },
   "outputs": [
    {
     "data": {
      "text/plain": [
       "{'impwt': 0.983055672490548,\n",
       " 'impwt_std': 0.015840261443422165,\n",
       " 'ips': 46.11893916159966,\n",
       " 'ips_std': 1.885006865357641,\n",
       " 'max_instances': 7087738,\n",
       " 'message': '',\n",
       " 'snips': 46.91386302136728,\n",
       " 'snips_std': 0.0007714217927742332}"
      ]
     },
     "execution_count": 154,
     "metadata": {},
     "output_type": "execute_result"
    }
   ],
   "source": [
    "scores"
   ]
  },
  {
   "cell_type": "code",
   "execution_count": 153,
   "metadata": {
    "collapsed": false
   },
   "outputs": [
    {
     "name": "stdout",
     "output_type": "stream",
     "text": [
      "\u001b[1m\u001b[34mCrowdAI.Event.Misc.FILE_UPLOAD : Preparing for file upload\u001b[0m\n"
     ]
    },
    {
     "name": "stderr",
     "output_type": "stream",
     "text": [
      "  0% |          |[00:00<00:25]   3.96% /s] "
     ]
    },
    {
     "name": "stdout",
     "output_type": "stream",
     "text": [
      "\u001b[1m\u001b[34mCrowdAI.Event.Misc.FILE_UPLOAD : Uploading file\u001b[0m\n"
     ]
    },
    {
     "name": "stderr",
     "output_type": "stream",
     "text": [
      "100% |██████████|[00:05<00:00]  19.78% /s] \n",
      "  0% |          |[00:00<?]  ?% /s] "
     ]
    },
    {
     "name": "stdout",
     "output_type": "stream",
     "text": [
      "\u001b[1m\u001b[33mCrowdAI.Event.Job.ENQUEUED\u001b[0m : ea739313-4bd4-411d-8639-c0da25882f43\n"
     ]
    },
    {
     "name": "stderr",
     "output_type": "stream",
     "text": [
      "\r",
      "          \r",
      "\r",
      "          \r",
      "  0% |          |[00:00<?]  ?% /s] \r",
      "          \r",
      "\r",
      "          \r",
      "\u001b[1m\u001b[32mea739313-4bd4-411d-8639-c0da25882f43\u001b[0m:   0% |          |[00:00<?]  ?% /s] "
     ]
    },
    {
     "name": "stdout",
     "output_type": "stream",
     "text": [
      "\u001b[1m\u001b[34mCrowdAI.Event.Job.RUNNING\u001b[0m : ea739313-4bd4-411d-8639-c0da25882f43\n",
      "\u001b[1m\u001b[36mCrowdAI.Event.Job.INFO\u001b[0m : (ea739313-4bd4-411d-8639-c0da25882f43) Beginning grading of the submission\n"
     ]
    },
    {
     "name": "stderr",
     "output_type": "stream",
     "text": [
      "\u001b[1m\u001b[32mea739313-4bd4-411d-8639-c0da25882f43\u001b[0m: 100% |█████████▉|[1:26:21<00:00]  52.52s/% ] "
     ]
    },
    {
     "name": "stdout",
     "output_type": "stream",
     "text": [
      "\u001b[1m\u001b[36mCrowdAI.Event.Job.INFO\u001b[0m : (ea739313-4bd4-411d-8639-c0da25882f43) Scores Computed Successfully !!\n",
      "\u001b[1m\u001b[36mCrowdAI.Event.Job.INFO\u001b[0m : (ea739313-4bd4-411d-8639-c0da25882f43) ImpWt_std: 0.0158402614434\n",
      "\u001b[1m\u001b[36mCrowdAI.Event.Job.INFO\u001b[0m : (ea739313-4bd4-411d-8639-c0da25882f43) SNIPS_std: 0.000771421792774\n",
      "\u001b[1m\u001b[36mCrowdAI.Event.Job.INFO\u001b[0m : (ea739313-4bd4-411d-8639-c0da25882f43) Uploading scores to the leaderboard....\n",
      "\u001b[1m\u001b[36mCrowdAI.Event.Job.INFO\u001b[0m : (ea739313-4bd4-411d-8639-c0da25882f43) SNIPS : 46.9138630214\n",
      "\u001b[1m\u001b[36mCrowdAI.Event.Job.INFO\u001b[0m : (ea739313-4bd4-411d-8639-c0da25882f43) ImpWt : 0.983055672491\n",
      "\u001b[1m\u001b[36mCrowdAI.Event.Job.INFO\u001b[0m : (ea739313-4bd4-411d-8639-c0da25882f43) IPS_std: 1.88500686536\n",
      "\u001b[1m\u001b[36mCrowdAI.Event.Job.INFO\u001b[0m : (ea739313-4bd4-411d-8639-c0da25882f43) IPS : 46.1189391616\n"
     ]
    },
    {
     "name": "stderr",
     "output_type": "stream",
     "text": [
      "\r",
      "          \r",
      "\r",
      "          \r",
      "\u001b[1m\u001b[32mea739313-4bd4-411d-8639-c0da25882f43\u001b[0m: 100% |█████████▉|[1:26:22<00:00]  52.52s/% ] \r",
      "\u001b[1m\u001b[32mea739313-4bd4-411d-8639-c0da25882f43\u001b[0m: 100% |██████████|[1:26:22<00:00]  226.24s/% ] "
     ]
    },
    {
     "name": "stdout",
     "output_type": "stream",
     "text": [
      "\u001b[1m\u001b[36mCrowdAI.Event.Job.INFO\u001b[0m : (ea739313-4bd4-411d-8639-c0da25882f43) Scores Submited Successfully !!! \n",
      "\u001b[1m\u001b[32mCrowdAI.Event.Job.COMPLETE\u001b[0m : \u001b[1m\u001b[32mea739313-4bd4-411d-8639-c0da25882f43\u001b[0m\t   🍺 \n"
     ]
    },
    {
     "name": "stderr",
     "output_type": "stream",
     "text": [
      "\r",
      "          \r",
      "\r",
      "          \r",
      "\u001b[1m\u001b[32mea739313-4bd4-411d-8639-c0da25882f43\u001b[0m: 100% |██████████|[1:26:22<00:00]  226.24s/% ] \n"
     ]
    }
   ],
   "source": [
    "scores = challenge.submit('pred_ftrl.txt.gz')"
   ]
  },
  {
   "cell_type": "code",
   "execution_count": 154,
   "metadata": {
    "collapsed": false
   },
   "outputs": [
    {
     "data": {
      "text/plain": [
       "{'impwt': 0.983055672490548,\n",
       " 'impwt_std': 0.015840261443422165,\n",
       " 'ips': 46.11893916159966,\n",
       " 'ips_std': 1.885006865357641,\n",
       " 'max_instances': 7087738,\n",
       " 'message': '',\n",
       " 'snips': 46.91386302136728,\n",
       " 'snips_std': 0.0007714217927742332}"
      ]
     },
     "execution_count": 154,
     "metadata": {},
     "output_type": "execute_result"
    }
   ],
   "source": [
    "scores"
   ]
  },
  {
   "cell_type": "code",
   "execution_count": null,
   "metadata": {
    "collapsed": true
   },
   "outputs": [],
   "source": []
  }
 ],
 "metadata": {
  "anaconda-cloud": {},
  "kernelspec": {
   "display_name": "Python [conda root]",
   "language": "python",
   "name": "conda-root-py"
  },
  "language_info": {
   "codemirror_mode": {
    "name": "ipython",
    "version": 3
   },
   "file_extension": ".py",
   "mimetype": "text/x-python",
   "name": "python",
   "nbconvert_exporter": "python",
   "pygments_lexer": "ipython3",
   "version": "3.5.2"
  },
  "widgets": {
   "state": {
    "f6c931454fd342fbbcf25c87f4a03aa7": {
     "views": [
      {
       "cell_index": 6
      }
     ]
    }
   },
   "version": "1.2.0"
  }
 },
 "nbformat": 4,
 "nbformat_minor": 1
}
