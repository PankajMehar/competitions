{
 "cells": [
  {
   "cell_type": "code",
   "execution_count": null,
   "metadata": {
    "collapsed": false
   },
   "outputs": [],
   "source": [
    "!ls data/"
   ]
  },
  {
   "cell_type": "code",
   "execution_count": 1,
   "metadata": {
    "collapsed": true
   },
   "outputs": [],
   "source": [
    "import gzip\n",
    "\n",
    "import pandas as pd\n",
    "\n",
    "import numpy as np\n",
    "import scipy.sparse as sp\n",
    "\n",
    "from tqdm import tqdm_notebook as tqdm"
   ]
  },
  {
   "cell_type": "code",
   "execution_count": 51,
   "metadata": {
    "collapsed": true
   },
   "outputs": [],
   "source": [
    "import iotools"
   ]
  },
  {
   "cell_type": "code",
   "execution_count": 36,
   "metadata": {
    "collapsed": true
   },
   "outputs": [],
   "source": [
    "from collections import namedtuple\n",
    "Line = namedtuple('Line', ['id', 'f0', 'f1', 'idx', 'val'])\n",
    "LabeledLine = namedtuple('LabeledLine', ['id', 'f0', 'f1', 'idx', 'val', 'propensity', 'label'])\n",
    "\n",
    "def parse_features(s):\n",
    "    split = s.split(' ')\n",
    "    f0 = split[0]\n",
    "    assert f0.startswith('0:')\n",
    "    f0 = int(f0[2:])\n",
    "\n",
    "    f1 = split[1]\n",
    "    assert f1.startswith('1:')\n",
    "    f1 = int(f1[2:])\n",
    "\n",
    "    idx = []\n",
    "    values = []\n",
    "    \n",
    "    for fv in split[2:]:\n",
    "        f, v = fv.split(':')\n",
    "        idx.append(int(f) - 2)\n",
    "        values.append(int(v))\n",
    "\n",
    "    return f0, f1, idx, values\n",
    "\n",
    "def read_train(fname):\n",
    "    if fname.endswith('.gz'):\n",
    "        f = gzip.open(fname, 'r')\n",
    "        f = map(bytes.decode, f)\n",
    "    else:\n",
    "        f = open(fname, 'r')\n",
    "\n",
    "    for line in f:\n",
    "        split = line.split('|')\n",
    "        id = int(split[0].strip())\n",
    "\n",
    "        label = None\n",
    "        propensity = None\n",
    "        features = None\n",
    "\n",
    "        if len(split) == 4:\n",
    "            l = split[1]\n",
    "            assert l.startswith('l')\n",
    "\n",
    "            l = l.lstrip('l ').strip()\n",
    "            if l == '0.999':\n",
    "                label = 0\n",
    "            elif l == '0.001':\n",
    "                label = 1\n",
    "            else:\n",
    "                raise Exception('ololo')\n",
    "\n",
    "            p = split[2]\n",
    "            assert p.startswith('p')\n",
    "            p = p.lstrip('p ').strip()\n",
    "            propensity = float(p)\n",
    "\n",
    "            features = split[3].lstrip('f ').strip()\n",
    "\n",
    "            f0, f1, idx, val = parse_features(features)\n",
    "            yield LabeledLine(id, f0, f1, idx, val, propensity, label)\n",
    "        elif len(split) == 2:\n",
    "            pass"
   ]
  },
  {
   "cell_type": "code",
   "execution_count": 49,
   "metadata": {
    "collapsed": true
   },
   "outputs": [],
   "source": []
  },
  {
   "cell_type": "code",
   "execution_count": 50,
   "metadata": {
    "collapsed": true
   },
   "outputs": [],
   "source": []
  },
  {
   "cell_type": "code",
   "execution_count": 188,
   "metadata": {
    "collapsed": false
   },
   "outputs": [],
   "source": [
    "def conv_to_bin(src, dest, train=True):\n",
    "    it = read_train(src)\n",
    "    sout = open(dest, 'wb')\n",
    "    dout = iotools.DataOutputStream(sout)\n",
    "\n",
    "    for line in tqdm(it):\n",
    "        dout.write_int(line.id)\n",
    "        dout.write_int(line.f0)\n",
    "        dout.write_int(line.f1)\n",
    "\n",
    "        n = len(line.idx)\n",
    "        dout.write_int(n)\n",
    "\n",
    "        for i in line.idx:\n",
    "            dout.write_int(i)\n",
    "\n",
    "        for v in line.val:\n",
    "            dout.write_byte(v)\n",
    "\n",
    "        if train:\n",
    "            dout.write_float(line.propensity)\n",
    "            dout.write_byte(line.label)\n",
    "\n",
    "    sout.flush()\n",
    "    sout.close()"
   ]
  },
  {
   "cell_type": "code",
   "execution_count": 189,
   "metadata": {
    "collapsed": false
   },
   "outputs": [
    {
     "ename": "ValueError",
     "evalue": "invalid literal for int() with base 10: ':1 666:2 753:1 769:1 945:2 977:1 981:4 982:1 984:1 1043:1 1351:1 1914:2 1915:2 2123:2 2355:2 2648:1 3219:1 5964:2'",
     "output_type": "error",
     "traceback": [
      "\u001b[0;31m---------------------------------------------------------------------------\u001b[0m",
      "\u001b[0;31mValueError\u001b[0m                                Traceback (most recent call last)",
      "\u001b[0;32m<ipython-input-189-52ea09d1a7e2>\u001b[0m in \u001b[0;36m<module>\u001b[0;34m()\u001b[0m\n\u001b[0;32m----> 1\u001b[0;31m \u001b[0mconv_to_bin\u001b[0m\u001b[0;34m(\u001b[0m\u001b[0;34m'./data/train_0.txt'\u001b[0m\u001b[0;34m,\u001b[0m \u001b[0;34m'./data/train_0.bin'\u001b[0m\u001b[0;34m,\u001b[0m \u001b[0mtrain\u001b[0m\u001b[0;34m=\u001b[0m\u001b[0;32mTrue\u001b[0m\u001b[0;34m)\u001b[0m\u001b[0;34m\u001b[0m\u001b[0m\n\u001b[0m",
      "\u001b[0;32m<ipython-input-188-23e21fe34561>\u001b[0m in \u001b[0;36mconv_to_bin\u001b[0;34m(src, dest, train)\u001b[0m\n\u001b[1;32m      4\u001b[0m     \u001b[0mdout\u001b[0m \u001b[0;34m=\u001b[0m \u001b[0miotools\u001b[0m\u001b[0;34m.\u001b[0m\u001b[0mDataOutputStream\u001b[0m\u001b[0;34m(\u001b[0m\u001b[0msout\u001b[0m\u001b[0;34m)\u001b[0m\u001b[0;34m\u001b[0m\u001b[0m\n\u001b[1;32m      5\u001b[0m \u001b[0;34m\u001b[0m\u001b[0m\n\u001b[0;32m----> 6\u001b[0;31m     \u001b[0;32mfor\u001b[0m \u001b[0mline\u001b[0m \u001b[0;32min\u001b[0m \u001b[0mtqdm\u001b[0m\u001b[0;34m(\u001b[0m\u001b[0mit\u001b[0m\u001b[0;34m)\u001b[0m\u001b[0;34m:\u001b[0m\u001b[0;34m\u001b[0m\u001b[0m\n\u001b[0m\u001b[1;32m      7\u001b[0m         \u001b[0mdout\u001b[0m\u001b[0;34m.\u001b[0m\u001b[0mwrite_int\u001b[0m\u001b[0;34m(\u001b[0m\u001b[0mline\u001b[0m\u001b[0;34m.\u001b[0m\u001b[0mid\u001b[0m\u001b[0;34m)\u001b[0m\u001b[0;34m\u001b[0m\u001b[0m\n\u001b[1;32m      8\u001b[0m         \u001b[0mdout\u001b[0m\u001b[0;34m.\u001b[0m\u001b[0mwrite_int\u001b[0m\u001b[0;34m(\u001b[0m\u001b[0mline\u001b[0m\u001b[0;34m.\u001b[0m\u001b[0mf0\u001b[0m\u001b[0;34m)\u001b[0m\u001b[0;34m\u001b[0m\u001b[0m\n",
      "\u001b[0;32m/home/agrigorev/anaconda3/lib/python3.5/site-packages/tqdm/_tqdm_notebook.py\u001b[0m in \u001b[0;36m__iter__\u001b[0;34m(self, *args, **kwargs)\u001b[0m\n\u001b[1;32m    185\u001b[0m     \u001b[0;32mdef\u001b[0m \u001b[0m__iter__\u001b[0m\u001b[0;34m(\u001b[0m\u001b[0mself\u001b[0m\u001b[0;34m,\u001b[0m \u001b[0;34m*\u001b[0m\u001b[0margs\u001b[0m\u001b[0;34m,\u001b[0m \u001b[0;34m**\u001b[0m\u001b[0mkwargs\u001b[0m\u001b[0;34m)\u001b[0m\u001b[0;34m:\u001b[0m\u001b[0;34m\u001b[0m\u001b[0m\n\u001b[1;32m    186\u001b[0m         \u001b[0;32mtry\u001b[0m\u001b[0;34m:\u001b[0m\u001b[0;34m\u001b[0m\u001b[0m\n\u001b[0;32m--> 187\u001b[0;31m             \u001b[0;32mfor\u001b[0m \u001b[0mobj\u001b[0m \u001b[0;32min\u001b[0m \u001b[0msuper\u001b[0m\u001b[0;34m(\u001b[0m\u001b[0mtqdm_notebook\u001b[0m\u001b[0;34m,\u001b[0m \u001b[0mself\u001b[0m\u001b[0;34m)\u001b[0m\u001b[0;34m.\u001b[0m\u001b[0m__iter__\u001b[0m\u001b[0;34m(\u001b[0m\u001b[0;34m*\u001b[0m\u001b[0margs\u001b[0m\u001b[0;34m,\u001b[0m \u001b[0;34m**\u001b[0m\u001b[0mkwargs\u001b[0m\u001b[0;34m)\u001b[0m\u001b[0;34m:\u001b[0m\u001b[0;34m\u001b[0m\u001b[0m\n\u001b[0m\u001b[1;32m    188\u001b[0m                 \u001b[0;31m# return super(tqdm...) will not catch exception\u001b[0m\u001b[0;34m\u001b[0m\u001b[0;34m\u001b[0m\u001b[0m\n\u001b[1;32m    189\u001b[0m                 \u001b[0;32myield\u001b[0m \u001b[0mobj\u001b[0m\u001b[0;34m\u001b[0m\u001b[0m\n",
      "\u001b[0;32m/home/agrigorev/anaconda3/lib/python3.5/site-packages/tqdm/_tqdm.py\u001b[0m in \u001b[0;36m__iter__\u001b[0;34m(self)\u001b[0m\n\u001b[1;32m    831\u001b[0m \"\"\", fp_write=getattr(self.fp, 'write', sys.stderr.write))\n\u001b[1;32m    832\u001b[0m \u001b[0;34m\u001b[0m\u001b[0m\n\u001b[0;32m--> 833\u001b[0;31m             \u001b[0;32mfor\u001b[0m \u001b[0mobj\u001b[0m \u001b[0;32min\u001b[0m \u001b[0miterable\u001b[0m\u001b[0;34m:\u001b[0m\u001b[0;34m\u001b[0m\u001b[0m\n\u001b[0m\u001b[1;32m    834\u001b[0m                 \u001b[0;32myield\u001b[0m \u001b[0mobj\u001b[0m\u001b[0;34m\u001b[0m\u001b[0m\n\u001b[1;32m    835\u001b[0m                 \u001b[0;31m# Update and print the progressbar.\u001b[0m\u001b[0;34m\u001b[0m\u001b[0;34m\u001b[0m\u001b[0m\n",
      "\u001b[0;32m<ipython-input-50-40ec61a96359>\u001b[0m in \u001b[0;36mread_train\u001b[0;34m(fname)\u001b[0m\n\u001b[1;32m      8\u001b[0m     \u001b[0;32mfor\u001b[0m \u001b[0mline\u001b[0m \u001b[0;32min\u001b[0m \u001b[0mf\u001b[0m\u001b[0;34m:\u001b[0m\u001b[0;34m\u001b[0m\u001b[0m\n\u001b[1;32m      9\u001b[0m         \u001b[0msplit\u001b[0m \u001b[0;34m=\u001b[0m \u001b[0mline\u001b[0m\u001b[0;34m.\u001b[0m\u001b[0msplit\u001b[0m\u001b[0;34m(\u001b[0m\u001b[0;34m'|'\u001b[0m\u001b[0;34m)\u001b[0m\u001b[0;34m\u001b[0m\u001b[0m\n\u001b[0;32m---> 10\u001b[0;31m         \u001b[0mid\u001b[0m \u001b[0;34m=\u001b[0m \u001b[0mint\u001b[0m\u001b[0;34m(\u001b[0m\u001b[0msplit\u001b[0m\u001b[0;34m[\u001b[0m\u001b[0;36m0\u001b[0m\u001b[0;34m]\u001b[0m\u001b[0;34m.\u001b[0m\u001b[0mstrip\u001b[0m\u001b[0;34m(\u001b[0m\u001b[0;34m)\u001b[0m\u001b[0;34m)\u001b[0m\u001b[0;34m\u001b[0m\u001b[0m\n\u001b[0m\u001b[1;32m     11\u001b[0m \u001b[0;34m\u001b[0m\u001b[0m\n\u001b[1;32m     12\u001b[0m         \u001b[0mlabel\u001b[0m \u001b[0;34m=\u001b[0m \u001b[0;32mNone\u001b[0m\u001b[0;34m\u001b[0m\u001b[0m\n",
      "\u001b[0;31mValueError\u001b[0m: invalid literal for int() with base 10: ':1 666:2 753:1 769:1 945:2 977:1 981:4 982:1 984:1 1043:1 1351:1 1914:2 1915:2 2123:2 2355:2 2648:1 3219:1 5964:2'"
     ]
    },
    {
     "name": "stdout",
     "output_type": "stream",
     "text": [
      "\r",
      "          \r",
      "133219it [00:30, 4325.97it/s]"
     ]
    }
   ],
   "source": [
    "conv_to_bin('./data/train_0.txt', './data/train_0.bin', train=True)"
   ]
  },
  {
   "cell_type": "code",
   "execution_count": 182,
   "metadata": {
    "collapsed": true
   },
   "outputs": [],
   "source": [
    "def read_bin(fname):\n",
    "    sin = open(fname, 'rb')\n",
    "    din = iotools.DataInputStream(sin)\n",
    "\n",
    "    while sin.read(1) != b'':\n",
    "        sin.seek(-1, 1)\n",
    "\n",
    "        id = din.read_int()\n",
    "        f0 = din.read_int()\n",
    "        f1 = din.read_int()\n",
    "        n = din.read_int()\n",
    "\n",
    "        idx = np.zeros(n, dtype=np.uint32)\n",
    "        val = np.zeros(n, dtype=np.uint8)\n",
    "        \n",
    "        for i in range(n):\n",
    "            idx[i] = din.read_int()\n",
    "\n",
    "        for i in range(n):\n",
    "            val[i] = din.read_byte()\n",
    "\n",
    "        propensity = din.read_float()\n",
    "        label = din.read_byte()\n",
    "        \n",
    "        line = LabeledLine(id, f0, f1, idx, val, propensity, label)\n",
    "        yield line\n",
    "\n",
    "    sin.close()"
   ]
  },
  {
   "cell_type": "code",
   "execution_count": 186,
   "metadata": {
    "collapsed": false
   },
   "outputs": [],
   "source": [
    "it = read_bin('data/train_0.bin')"
   ]
  },
  {
   "cell_type": "code",
   "execution_count": null,
   "metadata": {
    "collapsed": true
   },
   "outputs": [],
   "source": []
  }
 ],
 "metadata": {
  "anaconda-cloud": {},
  "kernelspec": {
   "display_name": "Python [conda root]",
   "language": "python",
   "name": "conda-root-py"
  },
  "language_info": {
   "codemirror_mode": {
    "name": "ipython",
    "version": 3
   },
   "file_extension": ".py",
   "mimetype": "text/x-python",
   "name": "python",
   "nbconvert_exporter": "python",
   "pygments_lexer": "ipython3",
   "version": "3.5.2"
  }
 },
 "nbformat": 4,
 "nbformat_minor": 1
}
