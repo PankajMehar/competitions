{
 "cells": [
  {
   "cell_type": "code",
   "execution_count": 1,
   "metadata": {
    "collapsed": true
   },
   "outputs": [],
   "source": [
    "import pickle\n",
    "import gzip\n",
    "\n",
    "import pandas as pd\n",
    "import numpy as np\n",
    "import scipy.sparse as sp\n",
    "\n",
    "from tqdm import tqdm_notebook as tqdm\n",
    "from sklearn.metrics import roc_auc_score\n",
    "\n",
    "import competition_utils as u"
   ]
  },
  {
   "cell_type": "code",
   "execution_count": 2,
   "metadata": {
    "collapsed": true
   },
   "outputs": [],
   "source": [
    "import numba as nb"
   ]
  },
  {
   "cell_type": "code",
   "execution_count": 26,
   "metadata": {
    "collapsed": false
   },
   "outputs": [],
   "source": [
    "X_train = sp.load_npz('tmp/X_train_sparse.npz')\n",
    "X_val = sp.load_npz('tmp/X_val_sparse.npz')\n",
    "\n",
    "y_train = np.load('tmp/y_train.npy', )\n",
    "y_val = np.load('tmp/y_val.npy', )\n",
    "\n",
    "y_train = y_train.astype(np.float32)\n",
    "y_val = y_val.astype(np.float32)"
   ]
  },
  {
   "cell_type": "code",
   "execution_count": 27,
   "metadata": {
    "collapsed": false
   },
   "outputs": [],
   "source": [
    "\n",
    "X_num_train = np.load('tmp/X_num_train.npy', )\n",
    "X_num_val = np.load('tmp/X_num_val.npy', )"
   ]
  },
  {
   "cell_type": "code",
   "execution_count": 4,
   "metadata": {
    "collapsed": false
   },
   "outputs": [],
   "source": [
    "@nb.vectorize([nb.int32(nb.int32)], nopython=True, target='parallel')\n",
    "def hashed(x):\n",
    "    x = ((x >> 16) ^ x) * 0x45d9f3b\n",
    "    x = ((x >> 16) ^ x) * 0x45d9f3b\n",
    "    x = (x >> 16) ^ x\n",
    "    return x\n",
    "\n",
    "@nb.vectorize([nb.int32(nb.int32, nb.int32)], nopython=True, target='parallel')\n",
    "def nonneg_mod(i, mod):\n",
    "    m = i % mod\n",
    "    if m < 0:\n",
    "        m = m + mod\n",
    "    return m\n",
    "\n",
    "def rehash_matrix(X):\n",
    "    n, _ = X.shape\n",
    "    D = 2 ** 22\n",
    "    indices_hashed = nonneg_mod(hashed(X.indices) + 13 * hashed(X.data), D)\n",
    "    data = np.ones_like(X.data, dtype=np.uint8)\n",
    "    X_res = sp.csr_matrix((data, indices_hashed, X.indptr), shape=(n, D))\n",
    "    return X_res"
   ]
  },
  {
   "cell_type": "markdown",
   "metadata": {},
   "source": [
    "%%time\n",
    "X_train = rehash_matrix(X_train)\n",
    "X_val = rehash_matrix(X_val)"
   ]
  },
  {
   "cell_type": "code",
   "execution_count": 5,
   "metadata": {
    "collapsed": true
   },
   "outputs": [],
   "source": [
    "from sklearn.preprocessing import OneHotEncoder"
   ]
  },
  {
   "cell_type": "code",
   "execution_count": 32,
   "metadata": {
    "collapsed": false
   },
   "outputs": [],
   "source": [
    "X_num_train = X_num_train.astype('uint32')\n",
    "X_num_train = np.hstack([X_num_train, (X_num_train[:, 0] * X_num_train[:, 1]).reshape(-1, 1)], )"
   ]
  },
  {
   "cell_type": "code",
   "execution_count": 40,
   "metadata": {
    "collapsed": false
   },
   "outputs": [],
   "source": [
    "X_num_val = X_num_val.astype('uint32')\n",
    "X_num_val = np.hstack([X_num_val, (X_num_val[:, 0] * X_num_val[:, 1]).reshape(-1, 1)], )"
   ]
  },
  {
   "cell_type": "code",
   "execution_count": 41,
   "metadata": {
    "collapsed": false
   },
   "outputs": [],
   "source": [
    "ohe1 = OneHotEncoder(dtype='uint8')\n",
    "X_num_ohe_train = ohe1.fit_transform(X_num_train)\n",
    "X_num_ohe_val = ohe1.transform(X_num_val)"
   ]
  },
  {
   "cell_type": "code",
   "execution_count": 42,
   "metadata": {
    "collapsed": true
   },
   "outputs": [],
   "source": [
    "cnt_num = X_num_ohe_train.sum(axis=0)\n",
    "cnt_num = np.asarray(cnt_num)[0]\n",
    "mask_num = cnt_num >= 50"
   ]
  },
  {
   "cell_type": "code",
   "execution_count": 45,
   "metadata": {
    "collapsed": true
   },
   "outputs": [],
   "source": [
    "X_num_ohe_train = X_num_ohe_train[:, mask_num]\n",
    "X_num_ohe_val = X_num_ohe_val[:, mask_num]"
   ]
  },
  {
   "cell_type": "code",
   "execution_count": 50,
   "metadata": {
    "collapsed": false
   },
   "outputs": [
    {
     "name": "stdout",
     "output_type": "stream",
     "text": [
      "1 0.642506682693\n",
      "2 0.642492827052\n",
      "3 0.641683926036\n",
      "\n"
     ]
    },
    {
     "ename": "KeyboardInterrupt",
     "evalue": "",
     "output_type": "error",
     "traceback": [
      "\u001b[0;31m---------------------------------------------------------------------------\u001b[0m",
      "\u001b[0;31mKeyboardInterrupt\u001b[0m                         Traceback (most recent call last)",
      "\u001b[0;32m<ipython-input-50-aeb505d725f9>\u001b[0m in \u001b[0;36m<module>\u001b[0;34m()\u001b[0m\n\u001b[1;32m      2\u001b[0m \u001b[0;34m\u001b[0m\u001b[0m\n\u001b[1;32m      3\u001b[0m \u001b[0;32mfor\u001b[0m \u001b[0mi\u001b[0m \u001b[0;32min\u001b[0m \u001b[0mtqdm\u001b[0m\u001b[0;34m(\u001b[0m\u001b[0mrange\u001b[0m\u001b[0;34m(\u001b[0m\u001b[0;36m30\u001b[0m\u001b[0;34m)\u001b[0m\u001b[0;34m)\u001b[0m\u001b[0;34m:\u001b[0m\u001b[0;34m\u001b[0m\u001b[0m\n\u001b[0;32m----> 4\u001b[0;31m     \u001b[0mmodel_num\u001b[0m\u001b[0;34m.\u001b[0m\u001b[0mfit\u001b[0m\u001b[0;34m(\u001b[0m\u001b[0mX_num_ohe_train\u001b[0m\u001b[0;34m,\u001b[0m \u001b[0my_train\u001b[0m\u001b[0;34m)\u001b[0m\u001b[0;34m\u001b[0m\u001b[0m\n\u001b[0m\u001b[1;32m      5\u001b[0m     \u001b[0my_pred\u001b[0m \u001b[0;34m=\u001b[0m \u001b[0mmodel_num\u001b[0m\u001b[0;34m.\u001b[0m\u001b[0mpredict\u001b[0m\u001b[0;34m(\u001b[0m\u001b[0mX_num_ohe_val\u001b[0m\u001b[0;34m)\u001b[0m\u001b[0;34m\u001b[0m\u001b[0m\n\u001b[1;32m      6\u001b[0m     \u001b[0mauc\u001b[0m \u001b[0;34m=\u001b[0m \u001b[0mroc_auc_score\u001b[0m\u001b[0;34m(\u001b[0m\u001b[0my_val\u001b[0m\u001b[0;34m,\u001b[0m \u001b[0my_pred\u001b[0m\u001b[0;34m)\u001b[0m\u001b[0;34m\u001b[0m\u001b[0m\n",
      "\u001b[0;32m/home/agrigorev/notebooks/criteo-nips/ftrl.py\u001b[0m in \u001b[0;36mfit\u001b[0;34m(self, X, y, num_passes)\u001b[0m\n\u001b[1;32m    130\u001b[0m \u001b[0;34m\u001b[0m\u001b[0m\n\u001b[1;32m    131\u001b[0m         \u001b[0;32mfor\u001b[0m \u001b[0mi\u001b[0m \u001b[0;32min\u001b[0m \u001b[0mrange\u001b[0m\u001b[0;34m(\u001b[0m\u001b[0mnum_passes\u001b[0m\u001b[0;34m)\u001b[0m\u001b[0;34m:\u001b[0m\u001b[0;34m\u001b[0m\u001b[0m\n\u001b[0;32m--> 132\u001b[0;31m             \u001b[0mloss\u001b[0m \u001b[0;34m=\u001b[0m \u001b[0m_lib\u001b[0m\u001b[0;34m.\u001b[0m\u001b[0mftrl_fit_batch\u001b[0m\u001b[0;34m(\u001b[0m\u001b[0mmatrix\u001b[0m\u001b[0;34m,\u001b[0m \u001b[0my_ptr\u001b[0m\u001b[0;34m,\u001b[0m \u001b[0mn\u001b[0m\u001b[0;34m,\u001b[0m \u001b[0mself\u001b[0m\u001b[0;34m.\u001b[0m\u001b[0m_params\u001b[0m\u001b[0;34m,\u001b[0m \u001b[0mself\u001b[0m\u001b[0;34m.\u001b[0m\u001b[0m_model\u001b[0m\u001b[0;34m,\u001b[0m \u001b[0;32mTrue\u001b[0m\u001b[0;34m)\u001b[0m\u001b[0;34m\u001b[0m\u001b[0m\n\u001b[0m\u001b[1;32m    133\u001b[0m \u001b[0;34m\u001b[0m\u001b[0m\n\u001b[1;32m    134\u001b[0m         \u001b[0;32mreturn\u001b[0m \u001b[0mloss\u001b[0m\u001b[0;34m\u001b[0m\u001b[0m\n",
      "\u001b[0;31mKeyboardInterrupt\u001b[0m: "
     ]
    }
   ],
   "source": [
    "model_num = ftrl.FtrlProximal(alpha=0.5, beta=1, l1=1, l2=0)\n",
    "\n",
    "for i in tqdm(range(30)):\n",
    "    model_num.fit(X_num_ohe_train, y_train)\n",
    "    y_pred = model_num.predict(X_num_ohe_val)\n",
    "    auc = roc_auc_score(y_val, y_pred)\n",
    "    print(i + 1, auc)"
   ]
  },
  {
   "cell_type": "code",
   "execution_count": null,
   "metadata": {
    "collapsed": true
   },
   "outputs": [],
   "source": []
  },
  {
   "cell_type": "code",
   "execution_count": 16,
   "metadata": {
    "collapsed": false
   },
   "outputs": [],
   "source": [
    "cnt = (X_train > 0).sum(axis=0)\n",
    "cnt = np.asarray(cnt)[0]\n",
    "mask = cnt >= 50"
   ]
  },
  {
   "cell_type": "code",
   "execution_count": 17,
   "metadata": {
    "collapsed": false
   },
   "outputs": [],
   "source": [
    "X_train = X_train[:, mask]\n",
    "X_val = X_val[:, mask]"
   ]
  },
  {
   "cell_type": "code",
   "execution_count": 19,
   "metadata": {
    "collapsed": false
   },
   "outputs": [],
   "source": [
    "X_train = sp.hstack([X_num_ohe_train, X_train, ], format='csr')\n",
    "X_val = sp.hstack([X_num_ohe_val, X_val, ], format='csr')"
   ]
  },
  {
   "cell_type": "code",
   "execution_count": 23,
   "metadata": {
    "collapsed": true
   },
   "outputs": [],
   "source": [
    "import ftrl"
   ]
  },
  {
   "cell_type": "code",
   "execution_count": 30,
   "metadata": {
    "collapsed": false,
    "scrolled": false
   },
   "outputs": [
    {
     "name": "stdout",
     "output_type": "stream",
     "text": [
      "1 0.639973905494\n",
      "2 0.640146381476\n",
      "3 0.640282567694\n",
      "4 0.640534610387\n",
      "5 0.640292584883\n",
      "6 0.640291063364\n",
      "7 0.640606071911\n",
      "8 0.640566775348\n",
      "9 0.640558171119\n",
      "10 0.640580402796\n",
      "11 0.640499300701\n"
     ]
    },
    {
     "ename": "KeyboardInterrupt",
     "evalue": "",
     "output_type": "error",
     "traceback": [
      "\u001b[0;31m---------------------------------------------------------------------------\u001b[0m",
      "\u001b[0;31mKeyboardInterrupt\u001b[0m                         Traceback (most recent call last)",
      "\u001b[0;32m<ipython-input-30-aad795af52b4>\u001b[0m in \u001b[0;36m<module>\u001b[0;34m()\u001b[0m\n\u001b[1;32m      1\u001b[0m \u001b[0;32mfor\u001b[0m \u001b[0mi\u001b[0m \u001b[0;32min\u001b[0m \u001b[0mtqdm\u001b[0m\u001b[0;34m(\u001b[0m\u001b[0mrange\u001b[0m\u001b[0;34m(\u001b[0m\u001b[0;36m30\u001b[0m\u001b[0;34m)\u001b[0m\u001b[0;34m)\u001b[0m\u001b[0;34m:\u001b[0m\u001b[0;34m\u001b[0m\u001b[0m\n\u001b[0;32m----> 2\u001b[0;31m     \u001b[0mmodel\u001b[0m\u001b[0;34m.\u001b[0m\u001b[0mfit\u001b[0m\u001b[0;34m(\u001b[0m\u001b[0mX_num_ohe_train\u001b[0m\u001b[0;34m,\u001b[0m \u001b[0my_train\u001b[0m\u001b[0;34m)\u001b[0m\u001b[0;34m\u001b[0m\u001b[0m\n\u001b[0m\u001b[1;32m      3\u001b[0m     \u001b[0my_pred\u001b[0m \u001b[0;34m=\u001b[0m \u001b[0mmodel\u001b[0m\u001b[0;34m.\u001b[0m\u001b[0mpredict\u001b[0m\u001b[0;34m(\u001b[0m\u001b[0mX_num_ohe_val\u001b[0m\u001b[0;34m)\u001b[0m\u001b[0;34m\u001b[0m\u001b[0m\n\u001b[1;32m      4\u001b[0m     \u001b[0mauc\u001b[0m \u001b[0;34m=\u001b[0m \u001b[0mroc_auc_score\u001b[0m\u001b[0;34m(\u001b[0m\u001b[0my_val\u001b[0m\u001b[0;34m,\u001b[0m \u001b[0my_pred\u001b[0m\u001b[0;34m)\u001b[0m\u001b[0;34m\u001b[0m\u001b[0m\n\u001b[1;32m      5\u001b[0m     \u001b[0mprint\u001b[0m\u001b[0;34m(\u001b[0m\u001b[0mi\u001b[0m \u001b[0;34m+\u001b[0m \u001b[0;36m1\u001b[0m\u001b[0;34m,\u001b[0m \u001b[0mauc\u001b[0m\u001b[0;34m)\u001b[0m\u001b[0;34m\u001b[0m\u001b[0m\n",
      "\u001b[0;32m/home/agrigorev/notebooks/criteo-nips/ftrl.py\u001b[0m in \u001b[0;36mfit\u001b[0;34m(self, X, y, num_passes)\u001b[0m\n\u001b[1;32m    130\u001b[0m \u001b[0;34m\u001b[0m\u001b[0m\n\u001b[1;32m    131\u001b[0m         \u001b[0;32mfor\u001b[0m \u001b[0mi\u001b[0m \u001b[0;32min\u001b[0m \u001b[0mrange\u001b[0m\u001b[0;34m(\u001b[0m\u001b[0mnum_passes\u001b[0m\u001b[0;34m)\u001b[0m\u001b[0;34m:\u001b[0m\u001b[0;34m\u001b[0m\u001b[0m\n\u001b[0;32m--> 132\u001b[0;31m             \u001b[0mloss\u001b[0m \u001b[0;34m=\u001b[0m \u001b[0m_lib\u001b[0m\u001b[0;34m.\u001b[0m\u001b[0mftrl_fit_batch\u001b[0m\u001b[0;34m(\u001b[0m\u001b[0mmatrix\u001b[0m\u001b[0;34m,\u001b[0m \u001b[0my_ptr\u001b[0m\u001b[0;34m,\u001b[0m \u001b[0mn\u001b[0m\u001b[0;34m,\u001b[0m \u001b[0mself\u001b[0m\u001b[0;34m.\u001b[0m\u001b[0m_params\u001b[0m\u001b[0;34m,\u001b[0m \u001b[0mself\u001b[0m\u001b[0;34m.\u001b[0m\u001b[0m_model\u001b[0m\u001b[0;34m,\u001b[0m \u001b[0;32mTrue\u001b[0m\u001b[0;34m)\u001b[0m\u001b[0;34m\u001b[0m\u001b[0m\n\u001b[0m\u001b[1;32m    133\u001b[0m \u001b[0;34m\u001b[0m\u001b[0m\n\u001b[1;32m    134\u001b[0m         \u001b[0;32mreturn\u001b[0m \u001b[0mloss\u001b[0m\u001b[0;34m\u001b[0m\u001b[0m\n",
      "\u001b[0;31mKeyboardInterrupt\u001b[0m: "
     ]
    }
   ],
   "source": []
  },
  {
   "cell_type": "code",
   "execution_count": 25,
   "metadata": {
    "collapsed": false,
    "scrolled": false
   },
   "outputs": [
    {
     "name": "stdout",
     "output_type": "stream",
     "text": [
      "1 0.724593215199\n",
      "2 0.728597578866\n",
      "3 0.730419357061\n",
      "4 0.731608066791\n",
      "5 0.732235884187\n",
      "6 0.732710338279\n",
      "7 0.73307411617\n",
      "8 0.733273428634\n",
      "9 0.733616817398\n",
      "10 0.733743675737\n",
      "11 0.733890267963\n",
      "12 0.734023468792\n",
      "13 0.73405509889\n",
      "14 0.733992976886\n",
      "15 0.734183652388\n",
      "16 0.734156286282\n",
      "17 0.734195739924\n",
      "18 0.734247615128\n",
      "19 0.734240461971\n",
      "20 0.734340156671\n",
      "21 0.73429368179\n",
      "22 0.734404413477\n",
      "23 0.73433469345\n",
      "24 0.734379999698\n",
      "25 0.734343744742\n",
      "26 0.734282003323\n",
      "27 0.734317453957\n",
      "28 0.734360634774\n",
      "29 0.734303076527\n",
      "30 0.734318455458\n",
      "\n"
     ]
    }
   ],
   "source": [
    "for i in tqdm(range(30)):\n",
    "    model.fit(X_train, y_train)\n",
    "    y_pred = model.predict(X_val)\n",
    "    auc = roc_auc_score(y_val, y_pred)\n",
    "    print(i + 1, auc)"
   ]
  },
  {
   "cell_type": "code",
   "execution_count": 7,
   "metadata": {
    "collapsed": false,
    "scrolled": false
   },
   "outputs": [
    {
     "name": "stdout",
     "output_type": "stream",
     "text": [
      "0.724328867473\n",
      "0.728590625559\n",
      "0.730495705164\n",
      "0.731532878902\n",
      "0.732231844931\n",
      "0.73270145889\n",
      "0.733032186926\n",
      "0.733351507954\n",
      "0.733541617152\n",
      "0.733776918727\n",
      "0.733888759805\n",
      "0.733943977512\n",
      "0.733985556024\n",
      "0.734170677925\n",
      "0.734128688444\n",
      "0.734216945388\n",
      "0.734240800076\n",
      "0.734249430881\n",
      "0.734360581606\n",
      "0.734338162489\n",
      "0.734446227374\n",
      "0.734390811491\n",
      "0.734452169826\n",
      "0.734406550549\n",
      "0.734359516496\n",
      "0.73438159352\n",
      "0.73444946328\n",
      "0.734416310455\n",
      "0.734439298542\n",
      "0.734445272918\n",
      "\n"
     ]
    }
   ],
   "source": [
    "for i in tqdm(range(30)):\n",
    "    model.fit(X_train, y_train)\n",
    "    y_pred = model.predict(X_val)\n",
    "    auc = roc_auc_score(y_val, y_pred)\n",
    "    print(i + 1, auc)"
   ]
  },
  {
   "cell_type": "code",
   "execution_count": 8,
   "metadata": {
    "collapsed": false
   },
   "outputs": [],
   "source": [
    "X = sp.vstack([X_train, X_val])\n",
    "y = np.concatenate([y_train, y_val])"
   ]
  },
  {
   "cell_type": "markdown",
   "metadata": {},
   "source": [
    "Full model"
   ]
  },
  {
   "cell_type": "code",
   "execution_count": 9,
   "metadata": {
    "collapsed": false
   },
   "outputs": [
    {
     "name": "stdout",
     "output_type": "stream",
     "text": [
      "CPU times: user 17min 58s, sys: 1.32 s, total: 18min\n",
      "Wall time: 2min 31s\n"
     ]
    }
   ],
   "source": [
    "%%time\n",
    "\n",
    "model_full = ftrl.FtrlProximal(alpha=0.1, beta=1, l1=75, l2=25)\n",
    "model_full.fit(X, y, num_passes=22)"
   ]
  },
  {
   "cell_type": "code",
   "execution_count": 10,
   "metadata": {
    "collapsed": true
   },
   "outputs": [],
   "source": [
    "shift = 1.1875\n",
    "scale = 850100\n",
    "\n",
    "def shifted_scaled_sigmoid(x, shift=0, scale=1):\n",
    "    s = 1 / (1 + np.exp(-x + shift))\n",
    "    return (s * scale).round(2)"
   ]
  },
  {
   "cell_type": "code",
   "execution_count": 13,
   "metadata": {
    "collapsed": false
   },
   "outputs": [],
   "source": [
    "it_test = u.read_grouped('data/criteo_test_release.txt.gz')"
   ]
  },
  {
   "cell_type": "code",
   "execution_count": 12,
   "metadata": {
    "collapsed": false
   },
   "outputs": [
    {
     "name": "stdout",
     "output_type": "stream",
     "text": [
      "\n"
     ]
    }
   ],
   "source": [
    "f_out = open('pred_ftrl2.txt', 'w')\n",
    "\n",
    "for gid, group in tqdm(it_test, total=7087738):\n",
    "    cols = []\n",
    "    vals = []\n",
    "\n",
    "    for line in group:\n",
    "        cols.append(line.idx)\n",
    "        vals.append(line.val)\n",
    "\n",
    "    X_val = u.to_csr(cols, vals)\n",
    "\n",
    "    pred = model_full.predict(X_val)\n",
    "    pred = shifted_scaled_sigmoid(pred, shift, scale)\n",
    "\n",
    "    pred_str = u.to_prediction_str(gid, pred)\n",
    "    \n",
    "    f_out.write(pred_str)\n",
    "    f_out.write('\\n')\n",
    "\n",
    "f_out.flush()\n",
    "f_out.close()"
   ]
  },
  {
   "cell_type": "code",
   "execution_count": 14,
   "metadata": {
    "collapsed": true
   },
   "outputs": [],
   "source": [
    "!gzip pred_ftrl2.txt"
   ]
  },
  {
   "cell_type": "code",
   "execution_count": 15,
   "metadata": {
    "collapsed": false
   },
   "outputs": [
    {
     "name": "stdout",
     "output_type": "stream",
     "text": [
      "\u001b[1m\u001b[36mCrowdAI.Event.Authentication\u001b[0m : Authenticating for challenge = \u001b[4m\u001b[1m\u001b[34mCriteoAdPlacementNIPS2017\u001b[0m\n",
      "\u001b[1m\u001b[32mCrowdAI.Event.Connection.CONNECTED\u001b[0m\u001b[1m\u001b[32m\u001b[0m\n",
      "\u001b[1m\u001b[32mCrowdAI.Event.Authentication.SUCCESS\u001b[0m : \u001b[1m\u001b[32mAuthentication Successful\u001b[0m\n"
     ]
    }
   ],
   "source": [
    "import crowdai\n",
    "challenge = crowdai.Challenge(\"CriteoAdPlacementNIPS2017\", 'd671d30799fa215f63a5cb5049983c79')"
   ]
  },
  {
   "cell_type": "code",
   "execution_count": 16,
   "metadata": {
    "collapsed": false
   },
   "outputs": [
    {
     "name": "stdout",
     "output_type": "stream",
     "text": [
      "\u001b[1m\u001b[34mCrowdAI.Event.Misc.FILE_UPLOAD : Preparing for file upload\u001b[0m\n"
     ]
    },
    {
     "name": "stderr",
     "output_type": "stream",
     "text": [
      "  0% |          |[00:00<00:40]   2.45% /s] "
     ]
    },
    {
     "name": "stdout",
     "output_type": "stream",
     "text": [
      "\u001b[1m\u001b[34mCrowdAI.Event.Misc.FILE_UPLOAD : Uploading file\u001b[0m\n"
     ]
    },
    {
     "name": "stderr",
     "output_type": "stream",
     "text": [
      "100% |██████████|[00:08<00:00]  12.23% /s] \n",
      "  0% |          |[00:00<?]  ?% /s] "
     ]
    },
    {
     "name": "stdout",
     "output_type": "stream",
     "text": [
      "\u001b[1m\u001b[33mCrowdAI.Event.Job.ENQUEUED\u001b[0m : 7760cc63-c4fe-49dd-b994-e0ee3485de3b\n"
     ]
    },
    {
     "name": "stderr",
     "output_type": "stream",
     "text": [
      "\r",
      "          \r",
      "\r",
      "          \r",
      "  0% |          |[00:00<?]  ?% /s] \r",
      "          \r",
      "\r",
      "          \r",
      "\u001b[1m\u001b[32m7760cc63-c4fe-49dd-b994-e0ee3485de3b\u001b[0m:   0% |          |[00:00<?]  ?% /s] "
     ]
    },
    {
     "name": "stdout",
     "output_type": "stream",
     "text": [
      "\u001b[1m\u001b[34mCrowdAI.Event.Job.RUNNING\u001b[0m : 7760cc63-c4fe-49dd-b994-e0ee3485de3b\n",
      "\u001b[1m\u001b[36mCrowdAI.Event.Job.INFO\u001b[0m : (7760cc63-c4fe-49dd-b994-e0ee3485de3b) Beginning grading of the submission\n"
     ]
    },
    {
     "name": "stderr",
     "output_type": "stream",
     "text": [
      "\u001b[1m\u001b[32m7760cc63-c4fe-49dd-b994-e0ee3485de3b\u001b[0m: 100% |█████████▉|[1:26:38<00:00]  52.22s/% ] "
     ]
    },
    {
     "name": "stdout",
     "output_type": "stream",
     "text": [
      "\u001b[1m\u001b[36mCrowdAI.Event.Job.INFO\u001b[0m : (7760cc63-c4fe-49dd-b994-e0ee3485de3b) Scores Computed Successfully !!\n",
      "\u001b[1m\u001b[36mCrowdAI.Event.Job.INFO\u001b[0m : (7760cc63-c4fe-49dd-b994-e0ee3485de3b) ImpWt_std: 0.0134043441367\n",
      "\u001b[1m\u001b[36mCrowdAI.Event.Job.INFO\u001b[0m : (7760cc63-c4fe-49dd-b994-e0ee3485de3b) Uploading scores to the leaderboard....\n",
      "\u001b[1m\u001b[36mCrowdAI.Event.Job.INFO\u001b[0m : (7760cc63-c4fe-49dd-b994-e0ee3485de3b) SNIPS_std: 0.000993291621552\n",
      "\u001b[1m\u001b[36mCrowdAI.Event.Job.INFO\u001b[0m : (7760cc63-c4fe-49dd-b994-e0ee3485de3b) SNIPS : 53.0539863777\n",
      "\u001b[1m\u001b[36mCrowdAI.Event.Job.INFO\u001b[0m : (7760cc63-c4fe-49dd-b994-e0ee3485de3b) ImpWt : 0.990946687511\n",
      "\u001b[1m\u001b[36mCrowdAI.Event.Job.INFO\u001b[0m : (7760cc63-c4fe-49dd-b994-e0ee3485de3b) IPS_std: 2.53459631776\n",
      "\u001b[1m\u001b[36mCrowdAI.Event.Job.INFO\u001b[0m : (7760cc63-c4fe-49dd-b994-e0ee3485de3b) IPS : 52.5736720603\n"
     ]
    },
    {
     "name": "stderr",
     "output_type": "stream",
     "text": [
      "\r",
      "          \r",
      "\r",
      "          \r",
      "\u001b[1m\u001b[32m7760cc63-c4fe-49dd-b994-e0ee3485de3b\u001b[0m: 100% |█████████▉|[1:26:39<00:00]  52.22s/% ] \r",
      "\u001b[1m\u001b[32m7760cc63-c4fe-49dd-b994-e0ee3485de3b\u001b[0m: 100% |██████████|[1:26:39<00:00]  257.11s/% ] "
     ]
    },
    {
     "name": "stdout",
     "output_type": "stream",
     "text": [
      "\u001b[1m\u001b[36mCrowdAI.Event.Job.INFO\u001b[0m : (7760cc63-c4fe-49dd-b994-e0ee3485de3b) Scores Submited Successfully !!! \n",
      "\u001b[1m\u001b[32mCrowdAI.Event.Job.COMPLETE\u001b[0m : \u001b[1m\u001b[32m7760cc63-c4fe-49dd-b994-e0ee3485de3b\u001b[0m\t   🍺 \n"
     ]
    },
    {
     "name": "stderr",
     "output_type": "stream",
     "text": [
      "\r",
      "          \r",
      "\r",
      "          \r",
      "\u001b[1m\u001b[32m7760cc63-c4fe-49dd-b994-e0ee3485de3b\u001b[0m: 100% |██████████|[1:26:39<00:00]  257.11s/% ] \n"
     ]
    }
   ],
   "source": [
    "scores = challenge.submit('pred_ftrl2.txt.gz')"
   ]
  },
  {
   "cell_type": "code",
   "execution_count": 17,
   "metadata": {
    "collapsed": false
   },
   "outputs": [
    {
     "data": {
      "text/plain": [
       "{'impwt': 0.9909466875114865,\n",
       " 'impwt_std': 0.013404344136707162,\n",
       " 'ips': 52.57367206026822,\n",
       " 'ips_std': 2.5345963177595756,\n",
       " 'max_instances': 7087738,\n",
       " 'message': '',\n",
       " 'snips': 53.05398637770695,\n",
       " 'snips_std': 0.0009932916215519697}"
      ]
     },
     "execution_count": 17,
     "metadata": {},
     "output_type": "execute_result"
    }
   ],
   "source": [
    "scores"
   ]
  },
  {
   "cell_type": "code",
   "execution_count": 154,
   "metadata": {
    "collapsed": false
   },
   "outputs": [
    {
     "data": {
      "text/plain": [
       "{'impwt': 0.983055672490548,\n",
       " 'impwt_std': 0.015840261443422165,\n",
       " 'ips': 46.11893916159966,\n",
       " 'ips_std': 1.885006865357641,\n",
       " 'max_instances': 7087738,\n",
       " 'message': '',\n",
       " 'snips': 46.91386302136728,\n",
       " 'snips_std': 0.0007714217927742332}"
      ]
     },
     "execution_count": 154,
     "metadata": {},
     "output_type": "execute_result"
    }
   ],
   "source": [
    "scores"
   ]
  },
  {
   "cell_type": "code",
   "execution_count": null,
   "metadata": {
    "collapsed": true
   },
   "outputs": [],
   "source": []
  }
 ],
 "metadata": {
  "anaconda-cloud": {},
  "kernelspec": {
   "display_name": "Python [conda root]",
   "language": "python",
   "name": "conda-root-py"
  },
  "language_info": {
   "codemirror_mode": {
    "name": "ipython",
    "version": 3
   },
   "file_extension": ".py",
   "mimetype": "text/x-python",
   "name": "python",
   "nbconvert_exporter": "python",
   "pygments_lexer": "ipython3",
   "version": "3.5.2"
  },
  "widgets": {
   "state": {
    "27797e8ad1d04621a18d8beaee2328f7": {
     "views": [
      {
       "cell_index": 13
      }
     ]
    },
    "655c983600204b7abc91fcc0878ba048": {
     "views": [
      {
       "cell_index": 13
      }
     ]
    },
    "86ad9a148ba74c318228fec79a2acc22": {
     "views": [
      {
       "cell_index": 12
      }
     ]
    }
   },
   "version": "1.2.0"
  }
 },
 "nbformat": 4,
 "nbformat_minor": 1
}
