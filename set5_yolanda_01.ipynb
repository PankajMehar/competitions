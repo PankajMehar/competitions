{
 "cells": [
  {
   "cell_type": "code",
   "execution_count": 1,
   "metadata": {
    "collapsed": true
   },
   "outputs": [],
   "source": [
    "from collections import Counter\n",
    "\n",
    "import pandas as pd\n",
    "import numpy as np\n",
    "import scipy\n",
    "\n",
    "from statsmodels.formula.api import ols\n",
    "\n",
    "from tqdm import tqdm\n",
    "\n",
    "import matplotlib.pyplot as plt\n",
    "import seaborn as sns\n",
    "from IPython.display import display, HTML, clear_output\n",
    "\n",
    "%matplotlib inline"
   ]
  },
  {
   "cell_type": "code",
   "execution_count": 43,
   "metadata": {
    "collapsed": true
   },
   "outputs": [],
   "source": [
    "from sklearn.base import BaseEstimator, TransformerMixin\n",
    "from sklearn.pipeline import Pipeline, FeatureUnion\n",
    "\n",
    "from sklearn.preprocessing import LabelEncoder, OneHotEncoder, StandardScaler, label_binarize\n",
    "from sklearn.feature_extraction import DictVectorizer\n",
    "from sklearn.feature_extraction.text import TfidfVectorizer\n",
    "from sklearn.decomposition import PCA, NMF, TruncatedSVD\n",
    "\n",
    "from sklearn.cross_validation import train_test_split, StratifiedShuffleSplit, ShuffleSplit\n",
    "\n",
    "from sklearn.feature_selection import SelectFromModel\n",
    "\n",
    "from sklearn.linear_model import Lasso, LinearRegression, ElasticNet\n",
    "\n",
    "from sklearn.ensemble import ExtraTreesClassifier\n",
    "from xgboost.sklearn import XGBClassifier\n",
    "import xgboost as xgb"
   ]
  },
  {
   "cell_type": "code",
   "execution_count": 4,
   "metadata": {
    "collapsed": true
   },
   "outputs": [],
   "source": [
    "from libscores import r2_metric"
   ]
  },
  {
   "cell_type": "code",
   "execution_count": 5,
   "metadata": {
    "collapsed": false
   },
   "outputs": [],
   "source": [
    "def read_info(file_name):\n",
    "    result = []\n",
    "    \n",
    "    for line in file(file_name):\n",
    "        key, value = line.strip().split('=')\n",
    "        key = key.strip()\n",
    "        value = value.strip().strip(\"'\")\n",
    "        if value.isdigit():\n",
    "            value = int(value)\n",
    "        result.append((key, value))\n",
    "    \n",
    "    return dict(result)"
   ]
  },
  {
   "cell_type": "code",
   "execution_count": 6,
   "metadata": {
    "collapsed": false
   },
   "outputs": [
    {
     "data": {
      "text/plain": [
       "{'feat_num': 100,\n",
       " 'feat_type': 'Numerical',\n",
       " 'has_categorical': 0,\n",
       " 'has_missing': 0,\n",
       " 'is_sparse': 0,\n",
       " 'label_num': 0,\n",
       " 'metric': 'r2_metric',\n",
       " 'name': 'yolanda',\n",
       " 'target_num': 1,\n",
       " 'target_type': 'Numerical',\n",
       " 'task': 'regression',\n",
       " 'test_num': 30000,\n",
       " 'time_budget': 1200,\n",
       " 'train_num': 400000,\n",
       " 'usage': 'AutoML challenge 2014',\n",
       " 'valid_num': 30000}"
      ]
     },
     "execution_count": 6,
     "metadata": {},
     "output_type": "execute_result"
    }
   ],
   "source": [
    "public = read_info('data/set5_yolanda/yolanda_public.info')\n",
    "public"
   ]
  },
  {
   "cell_type": "code",
   "execution_count": 9,
   "metadata": {
    "collapsed": true
   },
   "outputs": [],
   "source": [
    "def read_float_dense_features(file_name):\n",
    "    result = list()\n",
    "    for line in file(file_name):\n",
    "        row = [float(f) for f in line.strip().split(' ')]\n",
    "        result.append(row)\n",
    "    return np.array(result)"
   ]
  },
  {
   "cell_type": "code",
   "execution_count": 10,
   "metadata": {
    "collapsed": true
   },
   "outputs": [],
   "source": [
    "def read_numeric_labels(file_name):\n",
    "    return np.fromfile(file_name, sep='\\n', dtype=np.float)"
   ]
  },
  {
   "cell_type": "code",
   "execution_count": 11,
   "metadata": {
    "collapsed": false,
    "scrolled": true
   },
   "outputs": [
    {
     "name": "stdout",
     "output_type": "stream",
     "text": [
      "(400000, 100) (400000,) (89,)\n",
      "(30000, 100) (30000, 100)\n"
     ]
    }
   ],
   "source": [
    "data = 'data/set5_yolanda/yolanda_'\n",
    "X = read_float_dense_features(data + 'train.data')\n",
    "y = read_numeric_labels(data + 'train.solution')\n",
    "\n",
    "X_valid = read_float_dense_features(data + 'valid.data')\n",
    "X_test  = read_float_dense_features(data + 'test.data')\n",
    "\n",
    "print X.shape, y.shape\n",
    "print X_valid.shape, X_test.shape"
   ]
  },
  {
   "cell_type": "code",
   "execution_count": 10,
   "metadata": {
    "collapsed": false
   },
   "outputs": [],
   "source": [
    "scaler = StandardScaler(with_mean=True, copy=False)\n",
    "X = scaler.fit_transform(X)\n",
    "X_valid = scaler.transform(X_valid)\n",
    "X_test = scaler.transform(X_test)"
   ]
  },
  {
   "cell_type": "markdown",
   "metadata": {},
   "source": [
    "Learning curves"
   ]
  },
  {
   "cell_type": "code",
   "execution_count": 15,
   "metadata": {
    "collapsed": false
   },
   "outputs": [],
   "source": [
    "n_iter = 5\n",
    "cv = ShuffleSplit(len(y), n_iter=n_iter, test_size=0.25, random_state=1)\n",
    "\n",
    "scores = []\n",
    "it = 1\n",
    "for train, test in cv:\n",
    "    print 'iteration %d' % it\n",
    "\n",
    "    model = LinearRegression(n_jobs=-1)\n",
    "\n",
    "    X_train = X[train]\n",
    "    y_train = y[train]\n",
    "    N, d = X_train.shape\n",
    "\n",
    "    sample_size = list(range(5000, N, 5000)) + [N]\n",
    "    for j in tqdm(sample_size):\n",
    "        model.fit(X_train[:j], y_train[:j])\n",
    "        y_pred = model.predict(X[test])\n",
    "\n",
    "        score = r2_metric(y[test], y_pred)\n",
    "        scores.append((it, j, score))\n",
    "\n",
    "    it = it + 1\n",
    "clear_output()"
   ]
  },
  {
   "cell_type": "code",
   "execution_count": 16,
   "metadata": {
    "collapsed": false
   },
   "outputs": [
    {
     "data": {
      "image/png": "[encoded data removed]",
      "text/plain": [
       "<matplotlib.figure.Figure at 0x7f2fd47843d0>"
      ]
     },
     "metadata": {},
     "output_type": "display_data"
    }
   ],
   "source": [
    "learning = pd.DataFrame(scores, columns=['it', 'sample_size', 'score'])\n",
    "\n",
    "for it, grp in learning.groupby('it'):\n",
    "    plt.plot(grp.sample_size, grp.score)\n",
    "\n",
    "mean_score = learning.groupby('sample_size').score.mean()\n",
    "plt.plot(mean_score.index, mean_score.values, color='black', linewidth=2)\n",
    "\n",
    "plt.title('Learning curves')\n",
    "plt.xlabel('Sample size')\n",
    "plt.ylabel('Score')\n",
    "\n",
    "plt.show()"
   ]
  },
  {
   "cell_type": "code",
   "execution_count": 22,
   "metadata": {
    "collapsed": true
   },
   "outputs": [],
   "source": [
    "X_input = X"
   ]
  },
  {
   "cell_type": "code",
   "execution_count": 23,
   "metadata": {
    "collapsed": true
   },
   "outputs": [],
   "source": [
    "results = []"
   ]
  },
  {
   "cell_type": "code",
   "execution_count": 53,
   "metadata": {
    "collapsed": false
   },
   "outputs": [
    {
     "name": "stderr",
     "output_type": "stream",
     "text": []
    },
    {
     "name": "stdout",
     "output_type": "stream",
     "text": [
      "0.237088026948 0.0\n"
     ]
    }
   ],
   "source": [
    "models = {\n",
    "    'lr': LinearRegression(),\n",
    "    'lasso': Lasso(random_state=1),\n",
    "    'elnet': ElasticNet(random_state=1)\n",
    "}\n",
    "\n",
    "params = {\n",
    "    'cv_train_size': 0.8,\n",
    "    'model': 'lr'\n",
    "}\n",
    "\n",
    "model_name = params['model']\n",
    "pipeline = Pipeline([\n",
    "    ('model', models[model_name])\n",
    "])\n",
    "\n",
    "model_params = {\n",
    "    'lr': {},\n",
    "    'lasso': {\n",
    "        'model__alpha': 0.0001,\n",
    "    },\n",
    "    'elnet': {\n",
    "        'model__alpha': 0.5,\n",
    "        'model__l1_ratio': 0.1,\n",
    "    }\n",
    "}\n",
    "\n",
    "pipe_params = model_params[model_name]\n",
    "pipeline.set_params(**pipe_params)\n",
    "\n",
    "n_iter = 5\n",
    "cv = ShuffleSplit(len(y), n_iter=n_iter, train_size=params['cv_train_size'], random_state=1)\n",
    "\n",
    "scores = []\n",
    "for train, test in tqdm(cv):\n",
    "    pipeline.fit(X_input[train], y[train])    \n",
    "    y_pred = pipeline.predict(X[test])\n",
    "    #y_pred = np.round(y_pred)\n",
    "    score = r2_metric(y[test], y_pred)\n",
    "    scores.append(score)\n",
    "\n",
    "params.update(pipe_params)\n",
    "results.append((params, np.mean(score), np.std(score)))\n",
    "print np.mean(score), np.std(score)"
   ]
  },
  {
   "cell_type": "code",
   "execution_count": 54,
   "metadata": {
    "collapsed": false
   },
   "outputs": [
    {
     "name": "stdout",
     "output_type": "stream",
     "text": [
      "score: 0.23709 ± 0.00000, params: {'model': 'lr', 'cv_train_size': 0.8}\n",
      "score: 0.23579 ± 0.00000, params: {'model': 'elnet', 'model__alpha': 0.5, 'cv_train_size': 50000, 'model__l1_ratio': 0.1}\n",
      "score: 0.21707 ± 0.00000, params: {'model': 'elnet', 'model__alpha': 10, 'cv_train_size': 50000, 'model__l1_ratio': 0.1}\n",
      "score: 0.23544 ± 0.00000, params: {'model': 'elnet', 'model__alpha': 1, 'cv_train_size': 50000, 'model__l1_ratio': 0.1}\n",
      "score: 0.23498 ± 0.00000, params: {'model': 'elnet', 'model__alpha': 1, 'cv_train_size': 50000, 'model__l1_ratio': 0.5}\n"
     ]
    }
   ],
   "source": [
    "for p, s, std in reversed(results[-5:]):\n",
    "    print u'score: %0.5f ± %0.5f, params: %s' % (s, std, p)"
   ]
  },
  {
   "cell_type": "code",
   "execution_count": 55,
   "metadata": {
    "collapsed": false
   },
   "outputs": [
    {
     "data": {
      "text/plain": [
       "Pipeline(steps=[('model', LinearRegression(copy_X=True, fit_intercept=True, n_jobs=1, normalize=False))])"
      ]
     },
     "execution_count": 55,
     "metadata": {},
     "output_type": "execute_result"
    }
   ],
   "source": [
    "pipeline.fit(X, y)"
   ]
  },
  {
   "cell_type": "code",
   "execution_count": 56,
   "metadata": {
    "collapsed": false
   },
   "outputs": [],
   "source": [
    "y_valid = pipeline.predict(X_valid)\n",
    "y_test = pipeline.predict(X_test)"
   ]
  },
  {
   "cell_type": "code",
   "execution_count": 58,
   "metadata": {
    "collapsed": false
   },
   "outputs": [],
   "source": [
    "np.savetxt('submission/yolanda_valid.predict', y_valid, fmt='%0.5f')\n",
    "np.savetxt('submission/yolanda_test.predict', y_test, fmt='%0.5f')"
   ]
  },
  {
   "cell_type": "code",
   "execution_count": null,
   "metadata": {
    "collapsed": true
   },
   "outputs": [],
   "source": []
  }
 ],
 "metadata": {
  "kernelspec": {
   "display_name": "Python 2",
   "language": "python",
   "name": "python2"
  },
  "language_info": {
   "codemirror_mode": {
    "name": "ipython",
    "version": 2
   },
   "file_extension": ".py",
   "mimetype": "text/x-python",
   "name": "python",
   "nbconvert_exporter": "python",
   "pygments_lexer": "ipython2",
   "version": "2.7.11"
  }
 },
 "nbformat": 4,
 "nbformat_minor": 0
}
